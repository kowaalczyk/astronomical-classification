{
 "cells": [
  {
   "cell_type": "markdown",
   "metadata": {},
   "source": [
    "# This is way too slow\n",
    "Even the LombScargleMultibandFast takes ~1.5h for train set (it uses all 20 cores so there's no point in distributing). This would take >20 days to process the test set which is obviously too much time."
   ]
  },
  {
   "cell_type": "code",
   "execution_count": null,
   "metadata": {},
   "outputs": [],
   "source": [
    "import warnings\n",
    "from itertools import chain\n",
    "import multiprocessing as mp\n",
    "\n",
    "from tqdm.autonotebook import tqdm\n",
    "from numba import jit\n",
    "\n",
    "import numpy as np\n",
    "import pandas as pd\n",
    "import matplotlib.pyplot as plt\n",
    "import seaborn as sns\n",
    "sns.set_style('whitegrid')\n",
    "warnings.simplefilter('ignore', FutureWarning)\n",
    "warnings.simplefilter('ignore', RuntimeWarning)\n",
    "\n",
    "from gatspy.periodic import LombScargleMultiband, LombScargleMultibandFast"
   ]
  },
  {
   "cell_type": "code",
   "execution_count": null,
   "metadata": {},
   "outputs": [],
   "source": [
    "train_series = pd.read_csv('../data/raw/training_set.csv')"
   ]
  },
  {
   "cell_type": "code",
   "execution_count": null,
   "metadata": {},
   "outputs": [],
   "source": [
    "train_series.head()"
   ]
  },
  {
   "cell_type": "code",
   "execution_count": null,
   "metadata": {},
   "outputs": [],
   "source": [
    "@jit\n",
    "def fit_multiband_freq(gbo):\n",
    "    idx, group = gbo\n",
    "    t, f, e, b = group['mjd'], group['flux'], group['flux_err'], group['passband']\n",
    "    model = LombScargleMultibandFast(fit_period=True, optimizer_kwds={'quiet': True})\n",
    "    model.optimizer.period_range = (0.1, int((group['mjd'].max() - group['mjd'].min()) / 2))\n",
    "    model.fit(t, f, e, b)\n",
    "    return model"
   ]
  },
  {
   "cell_type": "code",
   "execution_count": null,
   "metadata": {},
   "outputs": [],
   "source": [
    "# train_series_sample = train_series[:int(len(train_series) / 100)]"
   ]
  },
  {
   "cell_type": "code",
   "execution_count": null,
   "metadata": {},
   "outputs": [],
   "source": [
    "%%time\n",
    "warnings.simplefilter('ignore', UserWarning)  # ignore too short dataset warning from Fast impl. of LombScargle\n",
    "models = [fit_multiband_freq(gbo) for gbo in tqdm(train_series.groupby('object_id'))]"
   ]
  },
  {
   "cell_type": "code",
   "execution_count": null,
   "metadata": {},
   "outputs": [],
   "source": [
    "%%time\n",
    "# this should not take more than 5 mins (on 12 cores)\n",
    "warnings.simplefilter('ignore', UserWarning)  # ignore too short dataset warning from Fast impl. of LombScargle\n",
    "with mp.Pool(12) as p:\n",
    "    models = p.map(fit_multiband_freq, train_series.groupby('object_id'))"
   ]
  },
  {
   "cell_type": "code",
   "execution_count": null,
   "metadata": {},
   "outputs": [],
   "source": [
    "feats = pd.DataFrame({\n",
    "    'period': [m.best_period for m in models],\n",
    "    'period_score': [m.score(m.best_period) for m in models],\n",
    "}, index=train_series['object_id'].unique())"
   ]
  },
  {
   "cell_type": "code",
   "execution_count": null,
   "metadata": {},
   "outputs": [],
   "source": [
    "feats.head(10)"
   ]
  }
 ],
 "metadata": {
  "kernelspec": {
   "display_name": "Python 3",
   "language": "python",
   "name": "python3"
  },
  "language_info": {
   "codemirror_mode": {
    "name": "ipython",
    "version": 3
   },
   "file_extension": ".py",
   "mimetype": "text/x-python",
   "name": "python",
   "nbconvert_exporter": "python",
   "pygments_lexer": "ipython3",
   "version": "3.6.7"
  }
 },
 "nbformat": 4,
 "nbformat_minor": 2
}
