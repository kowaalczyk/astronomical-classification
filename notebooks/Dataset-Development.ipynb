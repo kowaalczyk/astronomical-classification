{
 "cells": [
  {
   "cell_type": "markdown",
   "metadata": {},
   "source": [
    "# Dataset tests  \n",
    "These commands test the behaviour of curently implemented Dataset class, run them after making changes to this clas to make sure it works as intended in all of the scripts."
   ]
  },
  {
   "cell_type": "code",
   "execution_count": 1,
   "metadata": {},
   "outputs": [
    {
     "name": "stderr",
     "output_type": "stream",
     "text": [
      "/home/kk385830/miniconda3/envs/plasticc/lib/python3.6/site-packages/tqdm/autonotebook/__init__.py:14: TqdmExperimentalWarning: Using `tqdm.autonotebook.tqdm` in notebook mode. Use `tqdm.tqdm` instead to force console mode (e.g. in jupyter console)\n",
      "  \" (e.g. in jupyter console)\", TqdmExperimentalWarning)\n"
     ]
    }
   ],
   "source": [
    "from plasticc.dataset import Dataset"
   ]
  },
  {
   "cell_type": "code",
   "execution_count": 2,
   "metadata": {},
   "outputs": [],
   "source": [
    "ds = Dataset('../data/sets/base/')"
   ]
  },
  {
   "cell_type": "code",
   "execution_count": 3,
   "metadata": {},
   "outputs": [
    {
     "data": {
      "text/html": [
       "<div>\n",
       "<style scoped>\n",
       "    .dataframe tbody tr th:only-of-type {\n",
       "        vertical-align: middle;\n",
       "    }\n",
       "\n",
       "    .dataframe tbody tr th {\n",
       "        vertical-align: top;\n",
       "    }\n",
       "\n",
       "    .dataframe thead th {\n",
       "        text-align: right;\n",
       "    }\n",
       "</style>\n",
       "<table border=\"1\" class=\"dataframe\">\n",
       "  <thead>\n",
       "    <tr style=\"text-align: right;\">\n",
       "      <th></th>\n",
       "      <th>object_id</th>\n",
       "      <th>mjd</th>\n",
       "      <th>passband</th>\n",
       "      <th>flux</th>\n",
       "      <th>flux_err</th>\n",
       "      <th>detected</th>\n",
       "    </tr>\n",
       "  </thead>\n",
       "  <tbody>\n",
       "    <tr>\n",
       "      <th>0</th>\n",
       "      <td>615</td>\n",
       "      <td>59750.4229</td>\n",
       "      <td>2</td>\n",
       "      <td>-544.810303</td>\n",
       "      <td>3.622952</td>\n",
       "      <td>1</td>\n",
       "    </tr>\n",
       "    <tr>\n",
       "      <th>1</th>\n",
       "      <td>615</td>\n",
       "      <td>59750.4306</td>\n",
       "      <td>1</td>\n",
       "      <td>-816.434326</td>\n",
       "      <td>5.553370</td>\n",
       "      <td>1</td>\n",
       "    </tr>\n",
       "    <tr>\n",
       "      <th>2</th>\n",
       "      <td>615</td>\n",
       "      <td>59750.4383</td>\n",
       "      <td>3</td>\n",
       "      <td>-471.385529</td>\n",
       "      <td>3.801213</td>\n",
       "      <td>1</td>\n",
       "    </tr>\n",
       "    <tr>\n",
       "      <th>3</th>\n",
       "      <td>615</td>\n",
       "      <td>59750.4450</td>\n",
       "      <td>4</td>\n",
       "      <td>-388.984985</td>\n",
       "      <td>11.395031</td>\n",
       "      <td>1</td>\n",
       "    </tr>\n",
       "    <tr>\n",
       "      <th>4</th>\n",
       "      <td>615</td>\n",
       "      <td>59752.4070</td>\n",
       "      <td>2</td>\n",
       "      <td>-681.858887</td>\n",
       "      <td>4.041204</td>\n",
       "      <td>1</td>\n",
       "    </tr>\n",
       "  </tbody>\n",
       "</table>\n",
       "</div>"
      ],
      "text/plain": [
       "   object_id         mjd  passband        flux   flux_err  detected\n",
       "0        615  59750.4229         2 -544.810303   3.622952         1\n",
       "1        615  59750.4306         1 -816.434326   5.553370         1\n",
       "2        615  59750.4383         3 -471.385529   3.801213         1\n",
       "3        615  59750.4450         4 -388.984985  11.395031         1\n",
       "4        615  59752.4070         2 -681.858887   4.041204         1"
      ]
     },
     "execution_count": 3,
     "metadata": {},
     "output_type": "execute_result"
    }
   ],
   "source": [
    "ds.train_raw.head()"
   ]
  },
  {
   "cell_type": "code",
   "execution_count": 4,
   "metadata": {},
   "outputs": [
    {
     "data": {
      "text/html": [
       "<div>\n",
       "<style scoped>\n",
       "    .dataframe tbody tr th:only-of-type {\n",
       "        vertical-align: middle;\n",
       "    }\n",
       "\n",
       "    .dataframe tbody tr th {\n",
       "        vertical-align: top;\n",
       "    }\n",
       "\n",
       "    .dataframe thead th {\n",
       "        text-align: right;\n",
       "    }\n",
       "</style>\n",
       "<table border=\"1\" class=\"dataframe\">\n",
       "  <thead>\n",
       "    <tr style=\"text-align: right;\">\n",
       "      <th></th>\n",
       "      <th>object_id</th>\n",
       "      <th>mjd</th>\n",
       "      <th>passband</th>\n",
       "      <th>flux</th>\n",
       "      <th>flux_err</th>\n",
       "      <th>detected</th>\n",
       "    </tr>\n",
       "    <tr>\n",
       "      <th>object_id</th>\n",
       "      <th></th>\n",
       "      <th></th>\n",
       "      <th></th>\n",
       "      <th></th>\n",
       "      <th></th>\n",
       "      <th></th>\n",
       "    </tr>\n",
       "  </thead>\n",
       "  <tbody>\n",
       "    <tr>\n",
       "      <th>615</th>\n",
       "      <td>615</td>\n",
       "      <td>59750.4229</td>\n",
       "      <td>2</td>\n",
       "      <td>-544.810303</td>\n",
       "      <td>3.622952</td>\n",
       "      <td>1</td>\n",
       "    </tr>\n",
       "    <tr>\n",
       "      <th>615</th>\n",
       "      <td>615</td>\n",
       "      <td>59750.4306</td>\n",
       "      <td>1</td>\n",
       "      <td>-816.434326</td>\n",
       "      <td>5.553370</td>\n",
       "      <td>1</td>\n",
       "    </tr>\n",
       "    <tr>\n",
       "      <th>615</th>\n",
       "      <td>615</td>\n",
       "      <td>59750.4383</td>\n",
       "      <td>3</td>\n",
       "      <td>-471.385529</td>\n",
       "      <td>3.801213</td>\n",
       "      <td>1</td>\n",
       "    </tr>\n",
       "    <tr>\n",
       "      <th>615</th>\n",
       "      <td>615</td>\n",
       "      <td>59750.4450</td>\n",
       "      <td>4</td>\n",
       "      <td>-388.984985</td>\n",
       "      <td>11.395031</td>\n",
       "      <td>1</td>\n",
       "    </tr>\n",
       "    <tr>\n",
       "      <th>615</th>\n",
       "      <td>615</td>\n",
       "      <td>59752.4070</td>\n",
       "      <td>2</td>\n",
       "      <td>-681.858887</td>\n",
       "      <td>4.041204</td>\n",
       "      <td>1</td>\n",
       "    </tr>\n",
       "  </tbody>\n",
       "</table>\n",
       "</div>"
      ],
      "text/plain": [
       "           object_id         mjd  passband        flux   flux_err  detected\n",
       "object_id                                                                  \n",
       "615              615  59750.4229         2 -544.810303   3.622952         1\n",
       "615              615  59750.4306         1 -816.434326   5.553370         1\n",
       "615              615  59750.4383         3 -471.385529   3.801213         1\n",
       "615              615  59750.4450         4 -388.984985  11.395031         1\n",
       "615              615  59752.4070         2 -681.858887   4.041204         1"
      ]
     },
     "execution_count": 4,
     "metadata": {},
     "output_type": "execute_result"
    }
   ],
   "source": [
    "ds.train_indexed.head()"
   ]
  },
  {
   "cell_type": "code",
   "execution_count": 5,
   "metadata": {},
   "outputs": [
    {
     "data": {
      "text/html": [
       "<div>\n",
       "<style scoped>\n",
       "    .dataframe tbody tr th:only-of-type {\n",
       "        vertical-align: middle;\n",
       "    }\n",
       "\n",
       "    .dataframe tbody tr th {\n",
       "        vertical-align: top;\n",
       "    }\n",
       "\n",
       "    .dataframe thead th {\n",
       "        text-align: right;\n",
       "    }\n",
       "</style>\n",
       "<table border=\"1\" class=\"dataframe\">\n",
       "  <thead>\n",
       "    <tr style=\"text-align: right;\">\n",
       "      <th></th>\n",
       "      <th>object_id</th>\n",
       "      <th>ra</th>\n",
       "      <th>decl</th>\n",
       "      <th>gal_l</th>\n",
       "      <th>gal_b</th>\n",
       "      <th>ddf</th>\n",
       "      <th>hostgal_specz</th>\n",
       "      <th>hostgal_photoz</th>\n",
       "      <th>hostgal_photoz_err</th>\n",
       "      <th>distmod</th>\n",
       "      <th>mwebv</th>\n",
       "      <th>target</th>\n",
       "    </tr>\n",
       "    <tr>\n",
       "      <th>object_id</th>\n",
       "      <th></th>\n",
       "      <th></th>\n",
       "      <th></th>\n",
       "      <th></th>\n",
       "      <th></th>\n",
       "      <th></th>\n",
       "      <th></th>\n",
       "      <th></th>\n",
       "      <th></th>\n",
       "      <th></th>\n",
       "      <th></th>\n",
       "      <th></th>\n",
       "    </tr>\n",
       "  </thead>\n",
       "  <tbody>\n",
       "    <tr>\n",
       "      <th>615</th>\n",
       "      <td>615</td>\n",
       "      <td>349.046051</td>\n",
       "      <td>-61.943836</td>\n",
       "      <td>320.796530</td>\n",
       "      <td>-51.753706</td>\n",
       "      <td>1</td>\n",
       "      <td>0.0000</td>\n",
       "      <td>0.0000</td>\n",
       "      <td>0.0000</td>\n",
       "      <td>NaN</td>\n",
       "      <td>0.017</td>\n",
       "      <td>92</td>\n",
       "    </tr>\n",
       "    <tr>\n",
       "      <th>713</th>\n",
       "      <td>713</td>\n",
       "      <td>53.085938</td>\n",
       "      <td>-27.784405</td>\n",
       "      <td>223.525509</td>\n",
       "      <td>-54.460748</td>\n",
       "      <td>1</td>\n",
       "      <td>1.8181</td>\n",
       "      <td>1.6267</td>\n",
       "      <td>0.2552</td>\n",
       "      <td>45.4063</td>\n",
       "      <td>0.007</td>\n",
       "      <td>88</td>\n",
       "    </tr>\n",
       "    <tr>\n",
       "      <th>730</th>\n",
       "      <td>730</td>\n",
       "      <td>33.574219</td>\n",
       "      <td>-6.579593</td>\n",
       "      <td>170.455585</td>\n",
       "      <td>-61.548219</td>\n",
       "      <td>1</td>\n",
       "      <td>0.2320</td>\n",
       "      <td>0.2262</td>\n",
       "      <td>0.0157</td>\n",
       "      <td>40.2561</td>\n",
       "      <td>0.021</td>\n",
       "      <td>42</td>\n",
       "    </tr>\n",
       "    <tr>\n",
       "      <th>745</th>\n",
       "      <td>745</td>\n",
       "      <td>0.189873</td>\n",
       "      <td>-45.586655</td>\n",
       "      <td>328.254458</td>\n",
       "      <td>-68.969298</td>\n",
       "      <td>1</td>\n",
       "      <td>0.3037</td>\n",
       "      <td>0.2813</td>\n",
       "      <td>1.1523</td>\n",
       "      <td>40.7951</td>\n",
       "      <td>0.007</td>\n",
       "      <td>90</td>\n",
       "    </tr>\n",
       "    <tr>\n",
       "      <th>1124</th>\n",
       "      <td>1124</td>\n",
       "      <td>352.711273</td>\n",
       "      <td>-63.823658</td>\n",
       "      <td>316.922299</td>\n",
       "      <td>-51.059403</td>\n",
       "      <td>1</td>\n",
       "      <td>0.1934</td>\n",
       "      <td>0.2415</td>\n",
       "      <td>0.0176</td>\n",
       "      <td>40.4166</td>\n",
       "      <td>0.024</td>\n",
       "      <td>90</td>\n",
       "    </tr>\n",
       "  </tbody>\n",
       "</table>\n",
       "</div>"
      ],
      "text/plain": [
       "           object_id          ra       decl       gal_l      gal_b  ddf  \\\n",
       "object_id                                                                 \n",
       "615              615  349.046051 -61.943836  320.796530 -51.753706    1   \n",
       "713              713   53.085938 -27.784405  223.525509 -54.460748    1   \n",
       "730              730   33.574219  -6.579593  170.455585 -61.548219    1   \n",
       "745              745    0.189873 -45.586655  328.254458 -68.969298    1   \n",
       "1124            1124  352.711273 -63.823658  316.922299 -51.059403    1   \n",
       "\n",
       "           hostgal_specz  hostgal_photoz  hostgal_photoz_err  distmod  mwebv  \\\n",
       "object_id                                                                      \n",
       "615               0.0000          0.0000              0.0000      NaN  0.017   \n",
       "713               1.8181          1.6267              0.2552  45.4063  0.007   \n",
       "730               0.2320          0.2262              0.0157  40.2561  0.021   \n",
       "745               0.3037          0.2813              1.1523  40.7951  0.007   \n",
       "1124              0.1934          0.2415              0.0176  40.4166  0.024   \n",
       "\n",
       "           target  \n",
       "object_id          \n",
       "615            92  \n",
       "713            88  \n",
       "730            42  \n",
       "745            90  \n",
       "1124           90  "
      ]
     },
     "execution_count": 5,
     "metadata": {},
     "output_type": "execute_result"
    }
   ],
   "source": [
    "ds.train_meta.head()"
   ]
  },
  {
   "cell_type": "code",
   "execution_count": 6,
   "metadata": {},
   "outputs": [],
   "source": [
    "simple = Dataset('../data/sets/simple/')\n",
    "simple_parallel = Dataset('../data/sets/simple-parallel-test/')"
   ]
  },
  {
   "cell_type": "code",
   "execution_count": 7,
   "metadata": {},
   "outputs": [
    {
     "data": {
      "text/plain": [
       "False"
      ]
     },
     "execution_count": 7,
     "metadata": {},
     "output_type": "execute_result"
    }
   ],
   "source": [
    "simple.has_meta()"
   ]
  },
  {
   "cell_type": "code",
   "execution_count": 8,
   "metadata": {},
   "outputs": [
    {
     "data": {
      "text/plain": [
       "False"
      ]
     },
     "execution_count": 8,
     "metadata": {},
     "output_type": "execute_result"
    }
   ],
   "source": [
    "simple_parallel.has_meta()"
   ]
  },
  {
   "cell_type": "code",
   "execution_count": 9,
   "metadata": {},
   "outputs": [
    {
     "data": {
      "application/vnd.jupyter.widget-view+json": {
       "model_id": "00f0f417a137480d96a75608084eb7dd",
       "version_major": 2,
       "version_minor": 0
      },
      "text/plain": [
       "HBox(children=(IntProgress(value=0, max=1), HTML(value='')))"
      ]
     },
     "metadata": {},
     "output_type": "display_data"
    },
    {
     "name": "stdout",
     "output_type": "stream",
     "text": [
      "   passband_0_min_mjd  passband_0_min_flux  passband_0_min_flux_err  \\\n",
      "0        60247.701419             0.402818                 2.041608   \n",
      "1        60247.701419             0.315396                 2.037511   \n",
      "2        60278.940730             0.095728                 2.172968   \n",
      "3        60247.701419             0.010791                 2.075734   \n",
      "4        60278.940730             1.032765                 2.241583   \n",
      "\n",
      "   passband_0_min_detected  passband_0_max_mjd  passband_0_max_flux  \\\n",
      "0                 0.000000          60648.0642             5.816270   \n",
      "1                 0.000000          60648.0642             6.371965   \n",
      "2                 0.000000          60617.0295             6.056491   \n",
      "3                 0.000000          60648.0642             3.919783   \n",
      "4                 0.031746          60617.0295            19.174976   \n",
      "\n",
      "   passband_0_max_flux_err  passband_0_max_detected  passband_0_mean_mjd  \\\n",
      "0                 3.087183                        0         60247.701419   \n",
      "1                 3.073875                        0         60247.701419   \n",
      "2                 3.532677                        0         60278.940730   \n",
      "3                 3.127708                        0         60247.701419   \n",
      "4                 3.640227                        1         60278.940730   \n",
      "\n",
      "   passband_0_mean_flux  ...            ra       decl       gal_l      gal_b  \\\n",
      "0              0.402818  ...     34.453125  -5.229529  169.987075 -59.956185   \n",
      "1              0.315396  ...     33.398438  -4.331149  167.226341 -59.936551   \n",
      "2              0.095728  ...    348.529419 -61.755440  321.293980 -51.763351   \n",
      "3              0.010791  ...     34.804688  -5.829153  171.307861 -60.174401   \n",
      "4              1.032765  ...    351.321442 -64.198746  317.458993 -50.429931   \n",
      "\n",
      "   ddf  hostgal_specz  hostgal_photoz  hostgal_photoz_err  distmod  mwebv  \n",
      "0    1         0.3048          0.3193              0.0542  41.1123  0.019  \n",
      "1    1            NaN          0.6323              0.0179  42.8774  0.018  \n",
      "2    1            NaN          0.8297              0.0605  43.6000  0.016  \n",
      "3    1            NaN          0.6533              0.1479  42.9640  0.023  \n",
      "4    1         0.4557          0.4617              0.0122  42.0540  0.023  \n",
      "\n",
      "[5 rows x 83 columns]\n",
      "\n"
     ]
    }
   ],
   "source": [
    "for df in simple.iter_test:\n",
    "    print(df.head())\n",
    "    break"
   ]
  },
  {
   "cell_type": "code",
   "execution_count": 10,
   "metadata": {},
   "outputs": [
    {
     "data": {
      "application/vnd.jupyter.widget-view+json": {
       "model_id": "b1a9a7be6fef4af4b910a6d418c8b90c",
       "version_major": 2,
       "version_minor": 0
      },
      "text/plain": [
       "HBox(children=(IntProgress(value=0, max=1), HTML(value='')))"
      ]
     },
     "metadata": {},
     "output_type": "display_data"
    },
    {
     "name": "stdout",
     "output_type": "stream",
     "text": [
      "   passband_1_mjd_min  passband_1_mjd_max  passband_1_mjd_mean  \\\n",
      "0          59798.3281          60652.1365         60214.495175   \n",
      "1          59798.3281          60652.1365         60214.495175   \n",
      "2          59750.4306          60624.1836         60175.754255   \n",
      "3          59798.3281          60652.1365         60214.495175   \n",
      "4          59750.4306          60624.1836         60175.754255   \n",
      "\n",
      "   passband_1_mjd_count  passband_1_flux_min  passband_1_flux_max  \\\n",
      "0                    52            -4.148108            23.404964   \n",
      "1                    52            -4.574095            13.748290   \n",
      "2                    58            -3.813735            11.756248   \n",
      "3                    52            -5.029840             5.278965   \n",
      "4                    58            -4.691212            69.579277   \n",
      "\n",
      "   passband_1_flux_mean  passband_1_flux_median  passband_1_flux_std  \\\n",
      "0              1.769994                0.589611             4.934056   \n",
      "1              0.263177               -0.129243             2.767467   \n",
      "2              0.920106                0.205710             2.917572   \n",
      "3             -0.045599                0.095580             1.868506   \n",
      "4              3.493826                0.164552            13.833514   \n",
      "\n",
      "   passband_1_flux_skew  ...            ra       decl       gal_l      gal_b  \\\n",
      "0              3.117684  ...     34.453125  -5.229529  169.987075 -59.956185   \n",
      "1              3.109318  ...     33.398438  -4.331149  167.226341 -59.936551   \n",
      "2              1.710048  ...    348.529419 -61.755440  321.293980 -51.763351   \n",
      "3             -0.000571  ...     34.804688  -5.829153  171.307861 -60.174401   \n",
      "4              4.133929  ...    351.321442 -64.198746  317.458993 -50.429931   \n",
      "\n",
      "   ddf  hostgal_specz  hostgal_photoz  hostgal_photoz_err  distmod  mwebv  \n",
      "0    1         0.3048          0.3193              0.0542  41.1123  0.019  \n",
      "1    1            NaN          0.6323              0.0179  42.8774  0.018  \n",
      "2    1            NaN          0.8297              0.0605  43.6000  0.016  \n",
      "3    1            NaN          0.6533              0.1479  42.9640  0.023  \n",
      "4    1         0.4557          0.4617              0.0122  42.0540  0.023  \n",
      "\n",
      "[5 rows x 176 columns]\n",
      "\n"
     ]
    }
   ],
   "source": [
    "for df in simple_parallel.iter_test:\n",
    "    print(df.head())\n",
    "    break"
   ]
  },
  {
   "cell_type": "code",
   "execution_count": 11,
   "metadata": {},
   "outputs": [
    {
     "data": {
      "application/vnd.jupyter.widget-view+json": {
       "model_id": "01001a1759134a4fab1c051c6a04a4bd",
       "version_major": 2,
       "version_minor": 0
      },
      "text/plain": [
       "HBox(children=(IntProgress(value=0, max=1), HTML(value='')))"
      ]
     },
     "metadata": {},
     "output_type": "display_data"
    },
    {
     "name": "stdout",
     "output_type": "stream",
     "text": [
      "Int64Index([13, 14, 17, 23, 34], dtype='int64', name='object_id')\n",
      "\n"
     ]
    }
   ],
   "source": [
    "for df in simple.iter_indexed_test:\n",
    "    print(df.index[:5])"
   ]
  },
  {
   "cell_type": "code",
   "execution_count": 12,
   "metadata": {},
   "outputs": [
    {
     "data": {
      "application/vnd.jupyter.widget-view+json": {
       "model_id": "80135f905eed4f83911304c7b7325590",
       "version_major": 2,
       "version_minor": 0
      },
      "text/plain": [
       "HBox(children=(IntProgress(value=0, max=1), HTML(value='')))"
      ]
     },
     "metadata": {},
     "output_type": "display_data"
    },
    {
     "name": "stdout",
     "output_type": "stream",
     "text": [
      "\n"
     ]
    },
    {
     "data": {
      "text/plain": [
       "[13, 14, 17, 23, 34, 35, 43, 50, 60, 69]"
      ]
     },
     "execution_count": 12,
     "metadata": {},
     "output_type": "execute_result"
    }
   ],
   "source": [
    "df = None\n",
    "for d in simple.iter_indexed_test:\n",
    "    df = d\n",
    "sorted(df.index)[:10]"
   ]
  },
  {
   "cell_type": "code",
   "execution_count": 13,
   "metadata": {},
   "outputs": [],
   "source": [
    "simple.y_colname = 'target'\n",
    "X, y = simple.train"
   ]
  },
  {
   "cell_type": "code",
   "execution_count": 14,
   "metadata": {},
   "outputs": [
    {
     "data": {
      "text/html": [
       "<div>\n",
       "<style scoped>\n",
       "    .dataframe tbody tr th:only-of-type {\n",
       "        vertical-align: middle;\n",
       "    }\n",
       "\n",
       "    .dataframe tbody tr th {\n",
       "        vertical-align: top;\n",
       "    }\n",
       "\n",
       "    .dataframe thead th {\n",
       "        text-align: right;\n",
       "    }\n",
       "</style>\n",
       "<table border=\"1\" class=\"dataframe\">\n",
       "  <thead>\n",
       "    <tr style=\"text-align: right;\">\n",
       "      <th></th>\n",
       "      <th>passband_0_min_mjd</th>\n",
       "      <th>passband_0_min_flux</th>\n",
       "      <th>passband_0_min_flux_err</th>\n",
       "      <th>passband_0_min_detected</th>\n",
       "      <th>passband_0_max_mjd</th>\n",
       "      <th>passband_0_max_flux</th>\n",
       "      <th>passband_0_max_flux_err</th>\n",
       "      <th>passband_0_max_detected</th>\n",
       "      <th>passband_0_mean_mjd</th>\n",
       "      <th>passband_0_mean_flux</th>\n",
       "      <th>...</th>\n",
       "      <th>ra</th>\n",
       "      <th>decl</th>\n",
       "      <th>gal_l</th>\n",
       "      <th>gal_b</th>\n",
       "      <th>ddf</th>\n",
       "      <th>hostgal_specz</th>\n",
       "      <th>hostgal_photoz</th>\n",
       "      <th>hostgal_photoz_err</th>\n",
       "      <th>distmod</th>\n",
       "      <th>mwebv</th>\n",
       "    </tr>\n",
       "    <tr>\n",
       "      <th>object_id</th>\n",
       "      <th></th>\n",
       "      <th></th>\n",
       "      <th></th>\n",
       "      <th></th>\n",
       "      <th></th>\n",
       "      <th></th>\n",
       "      <th></th>\n",
       "      <th></th>\n",
       "      <th></th>\n",
       "      <th></th>\n",
       "      <th></th>\n",
       "      <th></th>\n",
       "      <th></th>\n",
       "      <th></th>\n",
       "      <th></th>\n",
       "      <th></th>\n",
       "      <th></th>\n",
       "      <th></th>\n",
       "      <th></th>\n",
       "      <th></th>\n",
       "      <th></th>\n",
       "    </tr>\n",
       "  </thead>\n",
       "  <tbody>\n",
       "    <tr>\n",
       "      <th>615</th>\n",
       "      <td>60278.940730</td>\n",
       "      <td>-3.254554</td>\n",
       "      <td>3.823448</td>\n",
       "      <td>0.857143</td>\n",
       "      <td>60617.0295</td>\n",
       "      <td>125.182808</td>\n",
       "      <td>4.737393</td>\n",
       "      <td>1</td>\n",
       "      <td>60278.940730</td>\n",
       "      <td>-3.254554</td>\n",
       "      <td>...</td>\n",
       "      <td>349.046051</td>\n",
       "      <td>-61.943836</td>\n",
       "      <td>320.796530</td>\n",
       "      <td>-51.753706</td>\n",
       "      <td>1</td>\n",
       "      <td>0.0000</td>\n",
       "      <td>0.0000</td>\n",
       "      <td>0.0000</td>\n",
       "      <td>NaN</td>\n",
       "      <td>0.017</td>\n",
       "    </tr>\n",
       "    <tr>\n",
       "      <th>713</th>\n",
       "      <td>60315.877070</td>\n",
       "      <td>-2.720398</td>\n",
       "      <td>2.331400</td>\n",
       "      <td>0.142857</td>\n",
       "      <td>60674.0798</td>\n",
       "      <td>14.509829</td>\n",
       "      <td>3.348282</td>\n",
       "      <td>1</td>\n",
       "      <td>60315.877070</td>\n",
       "      <td>-2.720398</td>\n",
       "      <td>...</td>\n",
       "      <td>53.085938</td>\n",
       "      <td>-27.784405</td>\n",
       "      <td>223.525509</td>\n",
       "      <td>-54.460748</td>\n",
       "      <td>1</td>\n",
       "      <td>1.8181</td>\n",
       "      <td>1.6267</td>\n",
       "      <td>0.2552</td>\n",
       "      <td>45.4063</td>\n",
       "      <td>0.007</td>\n",
       "    </tr>\n",
       "    <tr>\n",
       "      <th>730</th>\n",
       "      <td>60247.701419</td>\n",
       "      <td>-0.048080</td>\n",
       "      <td>2.057984</td>\n",
       "      <td>0.000000</td>\n",
       "      <td>60648.0642</td>\n",
       "      <td>5.942166</td>\n",
       "      <td>3.110694</td>\n",
       "      <td>0</td>\n",
       "      <td>60247.701419</td>\n",
       "      <td>-0.048080</td>\n",
       "      <td>...</td>\n",
       "      <td>33.574219</td>\n",
       "      <td>-6.579593</td>\n",
       "      <td>170.455585</td>\n",
       "      <td>-61.548219</td>\n",
       "      <td>1</td>\n",
       "      <td>0.2320</td>\n",
       "      <td>0.2262</td>\n",
       "      <td>0.0157</td>\n",
       "      <td>40.2561</td>\n",
       "      <td>0.021</td>\n",
       "    </tr>\n",
       "    <tr>\n",
       "      <th>745</th>\n",
       "      <td>60247.740832</td>\n",
       "      <td>1.797523</td>\n",
       "      <td>1.954723</td>\n",
       "      <td>0.027778</td>\n",
       "      <td>60620.1257</td>\n",
       "      <td>18.014029</td>\n",
       "      <td>3.093587</td>\n",
       "      <td>1</td>\n",
       "      <td>60247.740832</td>\n",
       "      <td>1.797523</td>\n",
       "      <td>...</td>\n",
       "      <td>0.189873</td>\n",
       "      <td>-45.586655</td>\n",
       "      <td>328.254458</td>\n",
       "      <td>-68.969298</td>\n",
       "      <td>1</td>\n",
       "      <td>0.3037</td>\n",
       "      <td>0.2813</td>\n",
       "      <td>1.1523</td>\n",
       "      <td>40.7951</td>\n",
       "      <td>0.007</td>\n",
       "    </tr>\n",
       "    <tr>\n",
       "      <th>1124</th>\n",
       "      <td>60278.940730</td>\n",
       "      <td>0.660948</td>\n",
       "      <td>2.251139</td>\n",
       "      <td>0.000000</td>\n",
       "      <td>60617.0295</td>\n",
       "      <td>5.330927</td>\n",
       "      <td>3.658313</td>\n",
       "      <td>0</td>\n",
       "      <td>60278.940730</td>\n",
       "      <td>0.660948</td>\n",
       "      <td>...</td>\n",
       "      <td>352.711273</td>\n",
       "      <td>-63.823658</td>\n",
       "      <td>316.922299</td>\n",
       "      <td>-51.059403</td>\n",
       "      <td>1</td>\n",
       "      <td>0.1934</td>\n",
       "      <td>0.2415</td>\n",
       "      <td>0.0176</td>\n",
       "      <td>40.4166</td>\n",
       "      <td>0.024</td>\n",
       "    </tr>\n",
       "  </tbody>\n",
       "</table>\n",
       "<p>5 rows × 83 columns</p>\n",
       "</div>"
      ],
      "text/plain": [
       "           passband_0_min_mjd  passband_0_min_flux  passband_0_min_flux_err  \\\n",
       "object_id                                                                     \n",
       "615              60278.940730            -3.254554                 3.823448   \n",
       "713              60315.877070            -2.720398                 2.331400   \n",
       "730              60247.701419            -0.048080                 2.057984   \n",
       "745              60247.740832             1.797523                 1.954723   \n",
       "1124             60278.940730             0.660948                 2.251139   \n",
       "\n",
       "           passband_0_min_detected  passband_0_max_mjd  passband_0_max_flux  \\\n",
       "object_id                                                                     \n",
       "615                       0.857143          60617.0295           125.182808   \n",
       "713                       0.142857          60674.0798            14.509829   \n",
       "730                       0.000000          60648.0642             5.942166   \n",
       "745                       0.027778          60620.1257            18.014029   \n",
       "1124                      0.000000          60617.0295             5.330927   \n",
       "\n",
       "           passband_0_max_flux_err  passband_0_max_detected  \\\n",
       "object_id                                                     \n",
       "615                       4.737393                        1   \n",
       "713                       3.348282                        1   \n",
       "730                       3.110694                        0   \n",
       "745                       3.093587                        1   \n",
       "1124                      3.658313                        0   \n",
       "\n",
       "           passband_0_mean_mjd  passband_0_mean_flux  ...            ra  \\\n",
       "object_id                                             ...                 \n",
       "615               60278.940730             -3.254554  ...    349.046051   \n",
       "713               60315.877070             -2.720398  ...     53.085938   \n",
       "730               60247.701419             -0.048080  ...     33.574219   \n",
       "745               60247.740832              1.797523  ...      0.189873   \n",
       "1124              60278.940730              0.660948  ...    352.711273   \n",
       "\n",
       "                decl       gal_l      gal_b  ddf  hostgal_specz  \\\n",
       "object_id                                                         \n",
       "615       -61.943836  320.796530 -51.753706    1         0.0000   \n",
       "713       -27.784405  223.525509 -54.460748    1         1.8181   \n",
       "730        -6.579593  170.455585 -61.548219    1         0.2320   \n",
       "745       -45.586655  328.254458 -68.969298    1         0.3037   \n",
       "1124      -63.823658  316.922299 -51.059403    1         0.1934   \n",
       "\n",
       "           hostgal_photoz  hostgal_photoz_err  distmod  mwebv  \n",
       "object_id                                                      \n",
       "615                0.0000              0.0000      NaN  0.017  \n",
       "713                1.6267              0.2552  45.4063  0.007  \n",
       "730                0.2262              0.0157  40.2561  0.021  \n",
       "745                0.2813              1.1523  40.7951  0.007  \n",
       "1124               0.2415              0.0176  40.4166  0.024  \n",
       "\n",
       "[5 rows x 83 columns]"
      ]
     },
     "execution_count": 14,
     "metadata": {},
     "output_type": "execute_result"
    }
   ],
   "source": [
    "X.head()"
   ]
  },
  {
   "cell_type": "code",
   "execution_count": 15,
   "metadata": {},
   "outputs": [
    {
     "data": {
      "text/plain": [
       "object_id\n",
       "615     92\n",
       "713     88\n",
       "730     42\n",
       "745     90\n",
       "1124    90\n",
       "Name: target, dtype: category\n",
       "Categories (14, int64): [6, 15, 16, 42, ..., 88, 90, 92, 95]"
      ]
     },
     "execution_count": 15,
     "metadata": {},
     "output_type": "execute_result"
    }
   ],
   "source": [
    "y.head()"
   ]
  },
  {
   "cell_type": "code",
   "execution_count": 16,
   "metadata": {},
   "outputs": [
    {
     "data": {
      "application/vnd.jupyter.widget-view+json": {
       "model_id": "fc6f53298b5e4c1aac599c6adc02138d",
       "version_major": 2,
       "version_minor": 0
      },
      "text/plain": [
       "HBox(children=(IntProgress(value=0, max=1), HTML(value='')))"
      ]
     },
     "metadata": {},
     "output_type": "display_data"
    },
    {
     "name": "stdout",
     "output_type": "stream",
     "text": [
      "\n"
     ]
    },
    {
     "data": {
      "text/plain": [
       "[13, 14, 17, 23, 34, 35, 43, 50, 60, 69]"
      ]
     },
     "execution_count": 16,
     "metadata": {},
     "output_type": "execute_result"
    }
   ],
   "source": [
    "df_par = None\n",
    "for d in simple_parallel.iter_indexed_test:\n",
    "    df_par = d\n",
    "sorted(df_par.index)[:10]"
   ]
  },
  {
   "cell_type": "code",
   "execution_count": 17,
   "metadata": {},
   "outputs": [
    {
     "data": {
      "text/html": [
       "<div>\n",
       "<style scoped>\n",
       "    .dataframe tbody tr th:only-of-type {\n",
       "        vertical-align: middle;\n",
       "    }\n",
       "\n",
       "    .dataframe tbody tr th {\n",
       "        vertical-align: top;\n",
       "    }\n",
       "\n",
       "    .dataframe thead th {\n",
       "        text-align: right;\n",
       "    }\n",
       "</style>\n",
       "<table border=\"1\" class=\"dataframe\">\n",
       "  <thead>\n",
       "    <tr style=\"text-align: right;\">\n",
       "      <th></th>\n",
       "      <th>passband_1_mjd_min</th>\n",
       "      <th>passband_1_mjd_max</th>\n",
       "      <th>passband_1_mjd_mean</th>\n",
       "      <th>passband_1_mjd_count</th>\n",
       "      <th>passband_1_flux_min</th>\n",
       "      <th>passband_1_flux_max</th>\n",
       "      <th>passband_1_flux_mean</th>\n",
       "      <th>passband_1_flux_median</th>\n",
       "      <th>passband_1_flux_std</th>\n",
       "      <th>passband_1_flux_skew</th>\n",
       "      <th>...</th>\n",
       "      <th>ra</th>\n",
       "      <th>decl</th>\n",
       "      <th>gal_l</th>\n",
       "      <th>gal_b</th>\n",
       "      <th>ddf</th>\n",
       "      <th>hostgal_specz</th>\n",
       "      <th>hostgal_photoz</th>\n",
       "      <th>hostgal_photoz_err</th>\n",
       "      <th>distmod</th>\n",
       "      <th>mwebv</th>\n",
       "    </tr>\n",
       "    <tr>\n",
       "      <th>object_id</th>\n",
       "      <th></th>\n",
       "      <th></th>\n",
       "      <th></th>\n",
       "      <th></th>\n",
       "      <th></th>\n",
       "      <th></th>\n",
       "      <th></th>\n",
       "      <th></th>\n",
       "      <th></th>\n",
       "      <th></th>\n",
       "      <th></th>\n",
       "      <th></th>\n",
       "      <th></th>\n",
       "      <th></th>\n",
       "      <th></th>\n",
       "      <th></th>\n",
       "      <th></th>\n",
       "      <th></th>\n",
       "      <th></th>\n",
       "      <th></th>\n",
       "      <th></th>\n",
       "    </tr>\n",
       "  </thead>\n",
       "  <tbody>\n",
       "    <tr>\n",
       "      <th>32267</th>\n",
       "      <td>59750.4306</td>\n",
       "      <td>60624.1836</td>\n",
       "      <td>60175.754255</td>\n",
       "      <td>58</td>\n",
       "      <td>-3.839769</td>\n",
       "      <td>4.601959</td>\n",
       "      <td>0.246621</td>\n",
       "      <td>0.122339</td>\n",
       "      <td>1.896895</td>\n",
       "      <td>0.275972</td>\n",
       "      <td>...</td>\n",
       "      <td>351.953644</td>\n",
       "      <td>-62.132156</td>\n",
       "      <td>318.777388</td>\n",
       "      <td>-52.347124</td>\n",
       "      <td>1</td>\n",
       "      <td>0.4967</td>\n",
       "      <td>0.5030</td>\n",
       "      <td>0.0106</td>\n",
       "      <td>42.2768</td>\n",
       "      <td>0.019</td>\n",
       "    </tr>\n",
       "    <tr>\n",
       "      <th>32269</th>\n",
       "      <td>59825.2676</td>\n",
       "      <td>60668.0723</td>\n",
       "      <td>60241.982255</td>\n",
       "      <td>56</td>\n",
       "      <td>-4.162003</td>\n",
       "      <td>2.842719</td>\n",
       "      <td>-0.200515</td>\n",
       "      <td>-0.001675</td>\n",
       "      <td>1.325965</td>\n",
       "      <td>-0.686733</td>\n",
       "      <td>...</td>\n",
       "      <td>53.789062</td>\n",
       "      <td>-27.784405</td>\n",
       "      <td>223.685697</td>\n",
       "      <td>-53.845803</td>\n",
       "      <td>1</td>\n",
       "      <td>0.3181</td>\n",
       "      <td>0.4847</td>\n",
       "      <td>0.4165</td>\n",
       "      <td>42.1803</td>\n",
       "      <td>0.009</td>\n",
       "    </tr>\n",
       "    <tr>\n",
       "      <th>32284</th>\n",
       "      <td>59825.2676</td>\n",
       "      <td>60668.0723</td>\n",
       "      <td>60241.982255</td>\n",
       "      <td>56</td>\n",
       "      <td>-4.521838</td>\n",
       "      <td>3.702271</td>\n",
       "      <td>0.085841</td>\n",
       "      <td>0.165145</td>\n",
       "      <td>1.392899</td>\n",
       "      <td>-0.487618</td>\n",
       "      <td>...</td>\n",
       "      <td>52.207031</td>\n",
       "      <td>-28.630989</td>\n",
       "      <td>224.800211</td>\n",
       "      <td>-55.343637</td>\n",
       "      <td>1</td>\n",
       "      <td>NaN</td>\n",
       "      <td>1.1842</td>\n",
       "      <td>0.0852</td>\n",
       "      <td>44.5544</td>\n",
       "      <td>0.009</td>\n",
       "    </tr>\n",
       "    <tr>\n",
       "      <th>32293</th>\n",
       "      <td>59770.3740</td>\n",
       "      <td>60624.0425</td>\n",
       "      <td>60188.647621</td>\n",
       "      <td>56</td>\n",
       "      <td>-3.595153</td>\n",
       "      <td>82.557831</td>\n",
       "      <td>4.560368</td>\n",
       "      <td>0.386413</td>\n",
       "      <td>15.125955</td>\n",
       "      <td>4.049888</td>\n",
       "      <td>...</td>\n",
       "      <td>2.457983</td>\n",
       "      <td>-45.389202</td>\n",
       "      <td>324.632685</td>\n",
       "      <td>-69.945696</td>\n",
       "      <td>1</td>\n",
       "      <td>NaN</td>\n",
       "      <td>0.6675</td>\n",
       "      <td>0.1017</td>\n",
       "      <td>43.0207</td>\n",
       "      <td>0.011</td>\n",
       "    </tr>\n",
       "    <tr>\n",
       "      <th>32300</th>\n",
       "      <td>59798.3281</td>\n",
       "      <td>60580.1813</td>\n",
       "      <td>60105.693515</td>\n",
       "      <td>41</td>\n",
       "      <td>-4.285614</td>\n",
       "      <td>11.245750</td>\n",
       "      <td>0.639749</td>\n",
       "      <td>-0.182551</td>\n",
       "      <td>3.479541</td>\n",
       "      <td>1.572818</td>\n",
       "      <td>...</td>\n",
       "      <td>33.398438</td>\n",
       "      <td>-3.732834</td>\n",
       "      <td>166.492280</td>\n",
       "      <td>-59.466614</td>\n",
       "      <td>1</td>\n",
       "      <td>NaN</td>\n",
       "      <td>0.8023</td>\n",
       "      <td>0.0590</td>\n",
       "      <td>43.5102</td>\n",
       "      <td>0.022</td>\n",
       "    </tr>\n",
       "  </tbody>\n",
       "</table>\n",
       "<p>5 rows × 176 columns</p>\n",
       "</div>"
      ],
      "text/plain": [
       "           passband_1_mjd_min  passband_1_mjd_max  passband_1_mjd_mean  \\\n",
       "object_id                                                                \n",
       "32267              59750.4306          60624.1836         60175.754255   \n",
       "32269              59825.2676          60668.0723         60241.982255   \n",
       "32284              59825.2676          60668.0723         60241.982255   \n",
       "32293              59770.3740          60624.0425         60188.647621   \n",
       "32300              59798.3281          60580.1813         60105.693515   \n",
       "\n",
       "           passband_1_mjd_count  passband_1_flux_min  passband_1_flux_max  \\\n",
       "object_id                                                                   \n",
       "32267                        58            -3.839769             4.601959   \n",
       "32269                        56            -4.162003             2.842719   \n",
       "32284                        56            -4.521838             3.702271   \n",
       "32293                        56            -3.595153            82.557831   \n",
       "32300                        41            -4.285614            11.245750   \n",
       "\n",
       "           passband_1_flux_mean  passband_1_flux_median  passband_1_flux_std  \\\n",
       "object_id                                                                      \n",
       "32267                  0.246621                0.122339             1.896895   \n",
       "32269                 -0.200515               -0.001675             1.325965   \n",
       "32284                  0.085841                0.165145             1.392899   \n",
       "32293                  4.560368                0.386413            15.125955   \n",
       "32300                  0.639749               -0.182551             3.479541   \n",
       "\n",
       "           passband_1_flux_skew  ...            ra       decl       gal_l  \\\n",
       "object_id                        ...                                        \n",
       "32267                  0.275972  ...    351.953644 -62.132156  318.777388   \n",
       "32269                 -0.686733  ...     53.789062 -27.784405  223.685697   \n",
       "32284                 -0.487618  ...     52.207031 -28.630989  224.800211   \n",
       "32293                  4.049888  ...      2.457983 -45.389202  324.632685   \n",
       "32300                  1.572818  ...     33.398438  -3.732834  166.492280   \n",
       "\n",
       "               gal_b  ddf  hostgal_specz  hostgal_photoz  hostgal_photoz_err  \\\n",
       "object_id                                                                      \n",
       "32267     -52.347124    1         0.4967          0.5030              0.0106   \n",
       "32269     -53.845803    1         0.3181          0.4847              0.4165   \n",
       "32284     -55.343637    1            NaN          1.1842              0.0852   \n",
       "32293     -69.945696    1            NaN          0.6675              0.1017   \n",
       "32300     -59.466614    1            NaN          0.8023              0.0590   \n",
       "\n",
       "           distmod  mwebv  \n",
       "object_id                  \n",
       "32267      42.2768  0.019  \n",
       "32269      42.1803  0.009  \n",
       "32284      44.5544  0.009  \n",
       "32293      43.0207  0.011  \n",
       "32300      43.5102  0.022  \n",
       "\n",
       "[5 rows x 176 columns]"
      ]
     },
     "execution_count": 17,
     "metadata": {},
     "output_type": "execute_result"
    }
   ],
   "source": [
    "df_par.tail()"
   ]
  },
  {
   "cell_type": "code",
   "execution_count": 22,
   "metadata": {},
   "outputs": [
    {
     "data": {
      "text/plain": [
       "['hostgal_specz', 'distmod']"
      ]
     },
     "execution_count": 22,
     "metadata": {},
     "output_type": "execute_result"
    }
   ],
   "source": [
    "[col for col in df_par.columns if df_par[col].isna().any()]"
   ]
  },
  {
   "cell_type": "code",
   "execution_count": 23,
   "metadata": {},
   "outputs": [
    {
     "data": {
      "text/plain": [
       "3036"
      ]
     },
     "execution_count": 23,
     "metadata": {},
     "output_type": "execute_result"
    }
   ],
   "source": [
    "df_par.shape[0]"
   ]
  },
  {
   "cell_type": "code",
   "execution_count": 24,
   "metadata": {},
   "outputs": [],
   "source": [
    "assert(df_par.shape[0] == df.shape[0])"
   ]
  },
  {
   "cell_type": "markdown",
   "metadata": {},
   "source": [
    "# Tsfresh settings development"
   ]
  },
  {
   "cell_type": "code",
   "execution_count": 15,
   "metadata": {},
   "outputs": [],
   "source": [
    "from tsfresh import extract_features"
   ]
  },
  {
   "cell_type": "code",
   "execution_count": 16,
   "metadata": {},
   "outputs": [],
   "source": [
    "tsfresh_features_from_kaggle = {\n",
    "    'fft_coefficient': [{'coeff': 0, 'attr': 'abs'}, {'coeff': 1, 'attr': 'abs'}],\n",
    "    'kurtosis' : None,\n",
    "}"
   ]
  },
  {
   "cell_type": "code",
   "execution_count": 19,
   "metadata": {},
   "outputs": [],
   "source": [
    "train_df = Dataset('../data/sets/base').train_raw"
   ]
  },
  {
   "cell_type": "code",
   "execution_count": 21,
   "metadata": {},
   "outputs": [
    {
     "name": "stderr",
     "output_type": "stream",
     "text": [
      "Feature Extraction: 100%|██████████| 100/100 [00:05<00:00, 16.74it/s]\n"
     ]
    },
    {
     "name": "stdout",
     "output_type": "stream",
     "text": [
      "CPU times: user 22.4 s, sys: 608 ms, total: 23 s\n",
      "Wall time: 11.1 s\n"
     ]
    }
   ],
   "source": [
    "%%time\n",
    "extracted = extract_features(\n",
    "    train_df,\n",
    "    column_id='object_id',\n",
    "    column_sort='mjd',\n",
    "    column_kind='passband',\n",
    "    column_value='flux',\n",
    "    default_fc_parameters=tsfresh_features_from_kaggle\n",
    ")"
   ]
  },
  {
   "cell_type": "markdown",
   "metadata": {},
   "source": [
    "# JoinedDataset development\n",
    "Developing dataset that merges features from 2 other sets (without unnecessary data copying)."
   ]
  },
  {
   "cell_type": "code",
   "execution_count": 1,
   "metadata": {},
   "outputs": [],
   "source": [
    "#TODO"
   ]
  }
 ],
 "metadata": {
  "kernelspec": {
   "display_name": "Python 3",
   "language": "python",
   "name": "python3"
  },
  "language_info": {
   "codemirror_mode": {
    "name": "ipython",
    "version": 3
   },
   "file_extension": ".py",
   "mimetype": "text/x-python",
   "name": "python",
   "nbconvert_exporter": "python",
   "pygments_lexer": "ipython3",
   "version": "3.6.7"
  }
 },
 "nbformat": 4,
 "nbformat_minor": 2
}
