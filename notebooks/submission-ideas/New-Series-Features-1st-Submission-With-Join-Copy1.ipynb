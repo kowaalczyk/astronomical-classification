{
 "cells": [
  {
   "cell_type": "markdown",
   "metadata": {},
   "source": [
    "# Attempting to fit flux time series to various characteristical curves and use their coeffs as features"
   ]
  },
  {
   "cell_type": "markdown",
   "metadata": {},
   "source": [
    "### Generation of features"
   ]
  },
  {
   "cell_type": "markdown",
   "metadata": {},
   "source": [
    "Already implemented in featurize.py"
   ]
  },
  {
   "cell_type": "code",
   "execution_count": 1,
   "metadata": {},
   "outputs": [
    {
     "name": "stderr",
     "output_type": "stream",
     "text": [
      "Using TensorFlow backend.\n"
     ]
    }
   ],
   "source": [
    "import pandas as pd\n",
    "import numpy as np\n",
    "import matplotlib.pyplot as plt\n",
    "import seaborn as sns\n",
    "\n",
    "from typing import Set\n",
    "from datetime import datetime as dt\n",
    "\n",
    "from plasticc.featurize import process_meta, featurize\n",
    "from plasticc.training import path_from_cv_score, train_and_validate\n",
    "from plasticc.final import featurize_test, predict_test"
   ]
  },
  {
   "cell_type": "code",
   "execution_count": 3,
   "metadata": {},
   "outputs": [],
   "source": [
    "%load_ext autoreload\n",
    "%autoreload 2"
   ]
  },
  {
   "cell_type": "code",
   "execution_count": 4,
   "metadata": {},
   "outputs": [],
   "source": [
    "fcp = {\n",
    "    'flux': {\n",
    "        'longest_strike_above_mean': None,\n",
    "        'longest_strike_below_mean': None,\n",
    "        'mean_change': None,\n",
    "        'mean_abs_change': None,\n",
    "        'length': None,\n",
    "    },\n",
    "\n",
    "    'flux_by_flux_ratio_sq': {\n",
    "        'longest_strike_above_mean': None,\n",
    "        'longest_strike_below_mean': None,       \n",
    "    },\n",
    "\n",
    "    'flux_passband': {\n",
    "        'fft_coefficient': [\n",
    "                {'coeff': 0, 'attr': 'abs'}, \n",
    "                {'coeff': 1, 'attr': 'abs'}\n",
    "            ],\n",
    "        'kurtosis' : None, \n",
    "        'skewness' : None,\n",
    "    },\n",
    "\n",
    "    'mjd': {\n",
    "        'maximum': None, \n",
    "        'minimum': None,\n",
    "        'mean_change': None,\n",
    "        'mean_abs_change': None,\n",
    "    },\n",
    "}"
   ]
  },
  {
   "cell_type": "code",
   "execution_count": 5,
   "metadata": {},
   "outputs": [],
   "source": [
    "aggs = {\n",
    "    'flux': ['min', 'max', 'mean', 'median', 'std', 'skew'],\n",
    "    'flux_err': ['min', 'max', 'mean', 'median', 'std', 'skew'],\n",
    "    'detected': ['mean'],\n",
    "    'flux_ratio_sq':['sum', 'skew'],\n",
    "    'flux_by_flux_ratio_sq':['sum','skew'],\n",
    "}"
   ]
  },
  {
   "cell_type": "markdown",
   "metadata": {},
   "source": [
    "### Generate features for model training"
   ]
  },
  {
   "cell_type": "code",
   "execution_count": 6,
   "metadata": {},
   "outputs": [
    {
     "name": "stdout",
     "output_type": "stream",
     "text": [
      "CPU times: user 1.51 s, sys: 124 ms, total: 1.63 s\n",
      "Wall time: 1.63 s\n"
     ]
    }
   ],
   "source": [
    "%%time\n",
    "meta_train = process_meta('../../data/raw/training_set_metadata.csv')\n",
    "train = pd.read_csv('../../data/raw/training_set.csv')"
   ]
  },
  {
   "cell_type": "code",
   "execution_count": 7,
   "metadata": {
    "scrolled": true
   },
   "outputs": [
    {
     "name": "stdout",
     "output_type": "stream",
     "text": [
      "Generating custom features...\n",
      "Custom features generated.\n",
      "WARNING: number of NaNs: 0\n"
     ]
    },
    {
     "name": "stderr",
     "output_type": "stream",
     "text": [
      "Feature Extraction: 100%|██████████| 80/80 [00:07<00:00,  8.95it/s]\n",
      "Feature Extraction: 100%|██████████| 80/80 [00:01<00:00, 68.27it/s]\n",
      "Feature Extraction: 100%|██████████| 80/80 [00:01<00:00, 62.10it/s]\n",
      "Feature Extraction: 100%|██████████| 80/80 [00:01<00:00, 61.84it/s]\n"
     ]
    },
    {
     "name": "stdout",
     "output_type": "stream",
     "text": [
      "CPU times: user 1min 53s, sys: 1.84 s, total: 1min 55s\n",
      "Wall time: 1min 55s\n"
     ]
    }
   ],
   "source": [
    "%%time\n",
    "X = featurize(train, meta_train, aggs, fcp, n_jobs=16)"
   ]
  },
  {
   "cell_type": "code",
   "execution_count": 8,
   "metadata": {},
   "outputs": [],
   "source": [
    "if 'target' in X:\n",
    "    y = X['target']\n",
    "    del X['target']\n",
    "else:\n",
    "    print(\"What the duck\")\n",
    "    3//0"
   ]
  },
  {
   "cell_type": "code",
   "execution_count": 9,
   "metadata": {},
   "outputs": [
    {
     "name": "stdout",
     "output_type": "stream",
     "text": [
      "CPU times: user 16 ms, sys: 0 ns, total: 16 ms\n",
      "Wall time: 18.2 ms\n"
     ]
    }
   ],
   "source": [
    "%%time\n",
    "train_mean = X.mean(axis=0)\n",
    "#train_mean.to_hdf('train_data.hdf5', 'data')\n",
    "# pd.set_option('display.max_rows', 500)\n",
    "#import pdb; pdb.set_trace()\n",
    "X.fillna(0, inplace=True)"
   ]
  },
  {
   "cell_type": "code",
   "execution_count": 10,
   "metadata": {},
   "outputs": [
    {
     "data": {
      "text/plain": [
       "(7848, 156)"
      ]
     },
     "execution_count": 10,
     "metadata": {},
     "output_type": "execute_result"
    }
   ],
   "source": [
    "X.shape"
   ]
  },
  {
   "cell_type": "code",
   "execution_count": 11,
   "metadata": {},
   "outputs": [
    {
     "data": {
      "text/plain": [
       "(7848,)"
      ]
     },
     "execution_count": 11,
     "metadata": {},
     "output_type": "execute_result"
    }
   ],
   "source": [
    "y.shape"
   ]
  },
  {
   "cell_type": "markdown",
   "metadata": {},
   "source": [
    "### Train model with CV"
   ]
  },
  {
   "cell_type": "code",
   "execution_count": 12,
   "metadata": {},
   "outputs": [],
   "source": [
    "lgbm_params = {\n",
    "    'device': 'cpu',\n",
    "    'objective': 'multiclass',\n",
    "    'num_class': 14,\n",
    "    'boosting_type': 'gbdt',\n",
    "    'n_jobs': 16,\n",
    "    'max_depth': 6,\n",
    "    'n_estimators': 2048,\n",
    "    'subsample_freq': 2,\n",
    "    'subsample_for_bin': 5000,\n",
    "    'min_data_per_group': 100,\n",
    "    'max_cat_to_onehot': 4,\n",
    "    'cat_l2': 1.0,\n",
    "    'cat_smooth': 59.5,\n",
    "    'max_cat_threshold': 32,\n",
    "    'metric_freq': 10,\n",
    "    'verbosity': -1,\n",
    "    'metric': 'multi_logloss',\n",
    "    'xgboost_dart_mode': False,\n",
    "    'uniform_drop': False,\n",
    "    'colsample_bytree': 0.5,\n",
    "    'drop_rate': 0.173,\n",
    "    'learning_rate': 0.02137,\n",
    "    'max_drop': 5,\n",
    "    'min_child_samples': 10,\n",
    "    'min_child_weight': 100.0,\n",
    "    'min_split_gain': 0.126,\n",
    "    'num_leaves': 7,\n",
    "    'reg_alpha': 0.1,\n",
    "    'reg_lambda': 0.00023,\n",
    "    'skip_drop': 0.44,\n",
    "    'subsample': 0.75,\n",
    "    'max_bin': 32,\n",
    "    'min_data_in_leaf': 13,\n",
    "    'lambda_l1': 2,\n",
    "}"
   ]
  },
  {
   "cell_type": "code",
   "execution_count": 13,
   "metadata": {},
   "outputs": [],
   "source": [
    "colnames_to_ignore = set([\n",
    "    'object_id',\n",
    "    'hostgal_specz',\n",
    "    'ra',\n",
    "    'decl',\n",
    "    'gal_l',\n",
    "    'gal_b',\n",
    "    'ddf',\n",
    "])\n",
    "colnames_to_ignore_restrictive = colnames_to_ignore | set([\n",
    "    'latlon1',\n",
    "    'haversine',\n",
    "])\n",
    "colnames_to_ignore_very_restrictive = colnames_to_ignore_restrictive | set([\n",
    "    'flux_err_skew',\n",
    "    'flux_by_flux_ratio_sq_sum'\n",
    "])\n",
    "\n",
    "colanmes_to_ignore_no_raw_data_peaks = colnames_to_ignore_very_restrictive | set([col for col in X.columns if 'peak' in col and not 'period' in col])\n",
    "\n",
    "id_colname = 'object_id'"
   ]
  },
  {
   "cell_type": "code",
   "execution_count": 14,
   "metadata": {},
   "outputs": [],
   "source": [
    "feature_colnames = [col for col in X.columns if col not in colanmes_to_ignore_no_raw_data_peaks]"
   ]
  },
  {
   "cell_type": "code",
   "execution_count": 15,
   "metadata": {},
   "outputs": [
    {
     "name": "stdout",
     "output_type": "stream",
     "text": [
      "Training until validation scores don't improve for 100 rounds.\n",
      "[100]\ttraining's multi_logloss: 0.411538\ttraining's wloss: 0.922536\tvalid_1's multi_logloss: 1.81173\tvalid_1's wloss: 1.11375\n",
      "[200]\ttraining's multi_logloss: 0.209196\ttraining's wloss: 0.598647\tvalid_1's multi_logloss: 1.39742\tvalid_1's wloss: 0.816517\n",
      "[300]\ttraining's multi_logloss: 0.147966\ttraining's wloss: 0.468474\tvalid_1's multi_logloss: 1.20549\tvalid_1's wloss: 0.715734\n",
      "[400]\ttraining's multi_logloss: 0.118627\ttraining's wloss: 0.394423\tvalid_1's multi_logloss: 1.09358\tvalid_1's wloss: 0.674944\n",
      "[500]\ttraining's multi_logloss: 0.100653\ttraining's wloss: 0.346039\tvalid_1's multi_logloss: 1.02266\tvalid_1's wloss: 0.659654\n",
      "[600]\ttraining's multi_logloss: 0.0879252\ttraining's wloss: 0.309629\tvalid_1's multi_logloss: 0.970354\tvalid_1's wloss: 0.650775\n",
      "[700]\ttraining's multi_logloss: 0.0779331\ttraining's wloss: 0.280309\tvalid_1's multi_logloss: 0.928927\tvalid_1's wloss: 0.643838\n",
      "[800]\ttraining's multi_logloss: 0.0698171\ttraining's wloss: 0.255729\tvalid_1's multi_logloss: 0.895416\tvalid_1's wloss: 0.642753\n",
      "[900]\ttraining's multi_logloss: 0.0629951\ttraining's wloss: 0.2347\tvalid_1's multi_logloss: 0.867014\tvalid_1's wloss: 0.643236\n",
      "Early stopping, best iteration is:\n",
      "[849]\ttraining's multi_logloss: 0.0663669\ttraining's wloss: 0.245079\tvalid_1's multi_logloss: 0.880867\tvalid_1's wloss: 0.642252\n",
      "no 1-fold loss: 0.6422516703730914\n",
      "Training until validation scores don't improve for 100 rounds.\n",
      "[100]\ttraining's multi_logloss: 0.418816\ttraining's wloss: 0.929594\tvalid_1's multi_logloss: 1.81543\tvalid_1's wloss: 1.11771\n",
      "[200]\ttraining's multi_logloss: 0.212599\ttraining's wloss: 0.602061\tvalid_1's multi_logloss: 1.42282\tvalid_1's wloss: 0.824523\n",
      "[300]\ttraining's multi_logloss: 0.150033\ttraining's wloss: 0.471479\tvalid_1's multi_logloss: 1.23648\tvalid_1's wloss: 0.721854\n",
      "[400]\ttraining's multi_logloss: 0.119941\ttraining's wloss: 0.397412\tvalid_1's multi_logloss: 1.12971\tvalid_1's wloss: 0.674112\n",
      "[500]\ttraining's multi_logloss: 0.101434\ttraining's wloss: 0.347601\tvalid_1's multi_logloss: 1.05697\tvalid_1's wloss: 0.64773\n",
      "[600]\ttraining's multi_logloss: 0.0882446\ttraining's wloss: 0.309706\tvalid_1's multi_logloss: 1.00058\tvalid_1's wloss: 0.633377\n",
      "[700]\ttraining's multi_logloss: 0.0778814\ttraining's wloss: 0.279536\tvalid_1's multi_logloss: 0.958253\tvalid_1's wloss: 0.622986\n",
      "[800]\ttraining's multi_logloss: 0.0696547\ttraining's wloss: 0.254701\tvalid_1's multi_logloss: 0.923922\tvalid_1's wloss: 0.617356\n",
      "[900]\ttraining's multi_logloss: 0.0627532\ttraining's wloss: 0.233909\tvalid_1's multi_logloss: 0.895663\tvalid_1's wloss: 0.613674\n",
      "[1000]\ttraining's multi_logloss: 0.0567248\ttraining's wloss: 0.215143\tvalid_1's multi_logloss: 0.871157\tvalid_1's wloss: 0.612135\n",
      "[1100]\ttraining's multi_logloss: 0.0516462\ttraining's wloss: 0.198829\tvalid_1's multi_logloss: 0.849106\tvalid_1's wloss: 0.612225\n",
      "Early stopping, best iteration is:\n",
      "[1030]\ttraining's multi_logloss: 0.0551141\ttraining's wloss: 0.209946\tvalid_1's multi_logloss: 0.863504\tvalid_1's wloss: 0.611832\n",
      "no 2-fold loss: 0.6118322058185667\n",
      "Training until validation scores don't improve for 100 rounds.\n",
      "[100]\ttraining's multi_logloss: 0.414275\ttraining's wloss: 0.928615\tvalid_1's multi_logloss: 1.77566\tvalid_1's wloss: 1.08745\n",
      "[200]\ttraining's multi_logloss: 0.209614\ttraining's wloss: 0.599524\tvalid_1's multi_logloss: 1.35222\tvalid_1's wloss: 0.781975\n",
      "[300]\ttraining's multi_logloss: 0.1476\ttraining's wloss: 0.467762\tvalid_1's multi_logloss: 1.15789\tvalid_1's wloss: 0.68039\n",
      "[400]\ttraining's multi_logloss: 0.117876\ttraining's wloss: 0.393447\tvalid_1's multi_logloss: 1.05014\tvalid_1's wloss: 0.643602\n",
      "[500]\ttraining's multi_logloss: 0.0996945\ttraining's wloss: 0.344096\tvalid_1's multi_logloss: 0.980797\tvalid_1's wloss: 0.625045\n",
      "[600]\ttraining's multi_logloss: 0.0865211\ttraining's wloss: 0.306999\tvalid_1's multi_logloss: 0.927513\tvalid_1's wloss: 0.612938\n",
      "[700]\ttraining's multi_logloss: 0.0765957\ttraining's wloss: 0.27797\tvalid_1's multi_logloss: 0.886822\tvalid_1's wloss: 0.609023\n",
      "[800]\ttraining's multi_logloss: 0.0685938\ttraining's wloss: 0.253327\tvalid_1's multi_logloss: 0.85268\tvalid_1's wloss: 0.602465\n",
      "[900]\ttraining's multi_logloss: 0.061773\ttraining's wloss: 0.232568\tvalid_1's multi_logloss: 0.826095\tvalid_1's wloss: 0.598199\n",
      "[1000]\ttraining's multi_logloss: 0.0559916\ttraining's wloss: 0.214346\tvalid_1's multi_logloss: 0.803334\tvalid_1's wloss: 0.596097\n",
      "Early stopping, best iteration is:\n",
      "[987]\ttraining's multi_logloss: 0.0566694\ttraining's wloss: 0.216503\tvalid_1's multi_logloss: 0.805798\tvalid_1's wloss: 0.595562\n",
      "no 3-fold loss: 0.5955618427010402\n",
      "Training until validation scores don't improve for 100 rounds.\n",
      "[100]\ttraining's multi_logloss: 0.418663\ttraining's wloss: 0.937021\tvalid_1's multi_logloss: 1.8201\tvalid_1's wloss: 1.0728\n",
      "[200]\ttraining's multi_logloss: 0.211483\ttraining's wloss: 0.605101\tvalid_1's multi_logloss: 1.41129\tvalid_1's wloss: 0.769103\n",
      "[300]\ttraining's multi_logloss: 0.148514\ttraining's wloss: 0.471165\tvalid_1's multi_logloss: 1.22028\tvalid_1's wloss: 0.663247\n",
      "[400]\ttraining's multi_logloss: 0.118422\ttraining's wloss: 0.39492\tvalid_1's multi_logloss: 1.10459\tvalid_1's wloss: 0.616471\n",
      "[500]\ttraining's multi_logloss: 0.100015\ttraining's wloss: 0.344437\tvalid_1's multi_logloss: 1.02779\tvalid_1's wloss: 0.593807\n",
      "[600]\ttraining's multi_logloss: 0.0868264\ttraining's wloss: 0.306808\tvalid_1's multi_logloss: 0.970746\tvalid_1's wloss: 0.579988\n",
      "[700]\ttraining's multi_logloss: 0.0767131\ttraining's wloss: 0.276988\tvalid_1's multi_logloss: 0.925242\tvalid_1's wloss: 0.57428\n",
      "[800]\ttraining's multi_logloss: 0.0685916\ttraining's wloss: 0.252454\tvalid_1's multi_logloss: 0.892456\tvalid_1's wloss: 0.573117\n",
      "[900]\ttraining's multi_logloss: 0.0617937\ttraining's wloss: 0.2313\tvalid_1's multi_logloss: 0.861723\tvalid_1's wloss: 0.570612\n",
      "[1000]\ttraining's multi_logloss: 0.0559772\ttraining's wloss: 0.213084\tvalid_1's multi_logloss: 0.836107\tvalid_1's wloss: 0.570289\n",
      "Early stopping, best iteration is:\n",
      "[981]\ttraining's multi_logloss: 0.0570177\ttraining's wloss: 0.216316\tvalid_1's multi_logloss: 0.840584\tvalid_1's wloss: 0.569385\n",
      "no 4-fold loss: 0.5693845209249844\n",
      "Training until validation scores don't improve for 100 rounds.\n",
      "[100]\ttraining's multi_logloss: 0.418438\ttraining's wloss: 0.933081\tvalid_1's multi_logloss: 1.81513\tvalid_1's wloss: 1.12523\n",
      "[200]\ttraining's multi_logloss: 0.214485\ttraining's wloss: 0.609413\tvalid_1's multi_logloss: 1.38931\tvalid_1's wloss: 0.81632\n",
      "[300]\ttraining's multi_logloss: 0.151665\ttraining's wloss: 0.477398\tvalid_1's multi_logloss: 1.18509\tvalid_1's wloss: 0.700657\n",
      "[400]\ttraining's multi_logloss: 0.121238\ttraining's wloss: 0.40153\tvalid_1's multi_logloss: 1.0695\tvalid_1's wloss: 0.652908\n",
      "[500]\ttraining's multi_logloss: 0.10257\ttraining's wloss: 0.350863\tvalid_1's multi_logloss: 0.994722\tvalid_1's wloss: 0.629993\n",
      "[600]\ttraining's multi_logloss: 0.0892481\ttraining's wloss: 0.313593\tvalid_1's multi_logloss: 0.940844\tvalid_1's wloss: 0.617423\n",
      "[700]\ttraining's multi_logloss: 0.0788896\ttraining's wloss: 0.283495\tvalid_1's multi_logloss: 0.898796\tvalid_1's wloss: 0.61162\n",
      "[800]\ttraining's multi_logloss: 0.0705424\ttraining's wloss: 0.258443\tvalid_1's multi_logloss: 0.863762\tvalid_1's wloss: 0.607921\n",
      "[900]\ttraining's multi_logloss: 0.0635474\ttraining's wloss: 0.236935\tvalid_1's multi_logloss: 0.834776\tvalid_1's wloss: 0.607374\n",
      "Early stopping, best iteration is:\n",
      "[834]\ttraining's multi_logloss: 0.0680176\ttraining's wloss: 0.250809\tvalid_1's multi_logloss: 0.853544\tvalid_1's wloss: 0.606855\n",
      "no 5-fold loss: 0.6068549096626066\n",
      "Training until validation scores don't improve for 100 rounds.\n",
      "[100]\ttraining's multi_logloss: 0.416887\ttraining's wloss: 0.937981\tvalid_1's multi_logloss: 1.85239\tvalid_1's wloss: 1.13332\n",
      "[200]\ttraining's multi_logloss: 0.212628\ttraining's wloss: 0.611013\tvalid_1's multi_logloss: 1.42162\tvalid_1's wloss: 0.815099\n",
      "[300]\ttraining's multi_logloss: 0.150122\ttraining's wloss: 0.478082\tvalid_1's multi_logloss: 1.21756\tvalid_1's wloss: 0.7025\n",
      "[400]\ttraining's multi_logloss: 0.120368\ttraining's wloss: 0.402584\tvalid_1's multi_logloss: 1.09799\tvalid_1's wloss: 0.650652\n",
      "[500]\ttraining's multi_logloss: 0.101988\ttraining's wloss: 0.352617\tvalid_1's multi_logloss: 1.02279\tvalid_1's wloss: 0.626645\n",
      "[600]\ttraining's multi_logloss: 0.0888564\ttraining's wloss: 0.314841\tvalid_1's multi_logloss: 0.965879\tvalid_1's wloss: 0.6124\n",
      "[700]\ttraining's multi_logloss: 0.0788003\ttraining's wloss: 0.28487\tvalid_1's multi_logloss: 0.92106\tvalid_1's wloss: 0.602772\n",
      "[800]\ttraining's multi_logloss: 0.0705064\ttraining's wloss: 0.260006\tvalid_1's multi_logloss: 0.884754\tvalid_1's wloss: 0.597033\n",
      "[900]\ttraining's multi_logloss: 0.0635234\ttraining's wloss: 0.238105\tvalid_1's multi_logloss: 0.85265\tvalid_1's wloss: 0.593984\n",
      "[1000]\ttraining's multi_logloss: 0.0577067\ttraining's wloss: 0.219736\tvalid_1's multi_logloss: 0.826802\tvalid_1's wloss: 0.591832\n",
      "[1100]\ttraining's multi_logloss: 0.0526834\ttraining's wloss: 0.203364\tvalid_1's multi_logloss: 0.805206\tvalid_1's wloss: 0.592859\n",
      "Early stopping, best iteration is:\n",
      "[1000]\ttraining's multi_logloss: 0.0577067\ttraining's wloss: 0.219736\tvalid_1's multi_logloss: 0.826802\tvalid_1's wloss: 0.591832\n",
      "no 6-fold loss: 0.5918321480391454\n",
      "MULTI WEIGHTED LOG LOSS: 0.60306\n",
      "CPU times: user 46min 7s, sys: 4.4 s, total: 46min 12s\n",
      "Wall time: 4min 43s\n"
     ]
    }
   ],
   "source": [
    "%%time\n",
    "clfs, score, importances = train_and_validate(\n",
    "    X=X, \n",
    "    y=y, \n",
    "    feature_colnames=feature_colnames, \n",
    "    id_colname=id_colname, \n",
    "    model='lgbm', \n",
    "    model_params={\n",
    "        'lgbm': lgbm_params\n",
    "    }, \n",
    "    nr_fold=6, \n",
    "    random_state=1\n",
    ")"
   ]
  },
  {
   "cell_type": "code",
   "execution_count": 16,
   "metadata": {},
   "outputs": [
    {
     "data": {
      "image/png": "[encoded data removed]",
      "text/plain": [
       "<Figure size 864x1152 with 1 Axes>"
      ]
     },
     "metadata": {
      "needs_background": "light"
     },
     "output_type": "display_data"
    }
   ],
   "source": [
    "fig, ax = plt.subplots(figsize=(12,16))\n",
    "sns.barplot(ax=ax, data=importances.sort_values(by='mean_gain', ascending=False).head(50), x='gain', y='feature', hue='fold', )\n",
    "plt.show()"
   ]
  },
  {
   "cell_type": "code",
   "execution_count": 17,
   "metadata": {},
   "outputs": [
    {
     "data": {
      "image/png": "[encoded data removed]",
      "text/plain": [
       "<Figure size 864x1152 with 1 Axes>"
      ]
     },
     "metadata": {
      "needs_background": "light"
     },
     "output_type": "display_data"
    }
   ],
   "source": [
    "fig, ax = plt.subplots(figsize=(12,16))\n",
    "sns.barplot(ax=ax, data=importances.sort_values(by='mean_gain', ascending=False).tail(250), x='gain', y='feature', hue='fold', )\n",
    "plt.show()"
   ]
  },
  {
   "cell_type": "markdown",
   "metadata": {},
   "source": [
    "### Combine multiple test features CSVs into one"
   ]
  },
  {
   "cell_type": "code",
   "execution_count": 37,
   "metadata": {},
   "outputs": [],
   "source": [
    "import os\n",
    "from tqdm.autonotebook import tqdm"
   ]
  },
  {
   "cell_type": "code",
   "execution_count": 38,
   "metadata": {},
   "outputs": [
    {
     "name": "stdout",
     "output_type": "stream",
     "text": [
      "test-3band-series-models-without-kernel-features-0.csv\n",
      "test-3band-series-models-without-kernel-features-1.csv\n",
      "test-3band-series-models-without-kernel-features-2.csv\n",
      "test-3band-series-models-without-kernel-features-3.csv\n",
      "test-3band-series-models-without-kernel-features-4.csv\n",
      "test-3band-series-models-without-kernel-features-missed.csv\n"
     ]
    }
   ],
   "source": [
    "!ls ../../data/features/"
   ]
  },
  {
   "cell_type": "code",
   "execution_count": 39,
   "metadata": {},
   "outputs": [],
   "source": [
    "csv_dir = '../../data/features/'\n",
    "csv_paths = [os.path.abspath(os.path.join(csv_dir, fname)) for fname in os.listdir(csv_dir) if not fname.startswith('.')]"
   ]
  },
  {
   "cell_type": "code",
   "execution_count": 40,
   "metadata": {},
   "outputs": [
    {
     "name": "stdout",
     "output_type": "stream",
     "text": [
      "CPU times: user 59.8 s, sys: 2.22 s, total: 1min 2s\n",
      "Wall time: 1min 1s\n"
     ]
    }
   ],
   "source": [
    "%%time\n",
    "csvs = [pd.read_csv(path) for path in csv_paths]"
   ]
  },
  {
   "cell_type": "code",
   "execution_count": 41,
   "metadata": {},
   "outputs": [
    {
     "data": {
      "text/plain": [
       "6"
      ]
     },
     "execution_count": 41,
     "metadata": {},
     "output_type": "execute_result"
    }
   ],
   "source": [
    "len(csvs)"
   ]
  },
  {
   "cell_type": "code",
   "execution_count": 42,
   "metadata": {},
   "outputs": [
    {
     "data": {
      "text/plain": [
       "(673664, 88)"
      ]
     },
     "execution_count": 42,
     "metadata": {},
     "output_type": "execute_result"
    }
   ],
   "source": [
    "csvs[0].shape"
   ]
  },
  {
   "cell_type": "code",
   "execution_count": 43,
   "metadata": {},
   "outputs": [
    {
     "data": {
      "text/plain": [
       "(35434, 88)"
      ]
     },
     "execution_count": 43,
     "metadata": {},
     "output_type": "execute_result"
    }
   ],
   "source": [
    "csvs[-1].shape"
   ]
  },
  {
   "cell_type": "markdown",
   "metadata": {},
   "source": [
    "Append missing column that was stored in index:"
   ]
  },
  {
   "cell_type": "code",
   "execution_count": 44,
   "metadata": {},
   "outputs": [
    {
     "name": "stdout",
     "output_type": "stream",
     "text": [
      "CPU times: user 444 ms, sys: 668 ms, total: 1.11 s\n",
      "Wall time: 1.11 s\n"
     ]
    }
   ],
   "source": [
    "%%time\n",
    "full_new_features = pd.concat(csvs, ignore_index=True)"
   ]
  },
  {
   "cell_type": "code",
   "execution_count": 45,
   "metadata": {},
   "outputs": [
    {
     "name": "stdout",
     "output_type": "stream",
     "text": [
      "Done\n"
     ]
    }
   ],
   "source": [
    "print(\"Done\")"
   ]
  },
  {
   "cell_type": "code",
   "execution_count": 46,
   "metadata": {},
   "outputs": [
    {
     "name": "stdout",
     "output_type": "stream",
     "text": [
      "CPU times: user 12 ms, sys: 8 ms, total: 20 ms\n",
      "Wall time: 15.4 ms\n"
     ]
    }
   ],
   "source": [
    "%%time\n",
    "full_new_features['object_id'] = full_new_features['Unnamed: 0']\n",
    "del full_new_features['Unnamed: 0']"
   ]
  },
  {
   "cell_type": "code",
   "execution_count": 47,
   "metadata": {},
   "outputs": [
    {
     "name": "stdout",
     "output_type": "stream",
     "text": [
      "CPU times: user 696 ms, sys: 2.84 s, total: 3.54 s\n",
      "Wall time: 3.53 s\n"
     ]
    }
   ],
   "source": [
    "%%time\n",
    "full_new_features = full_new_features.sort_values(by='object_id')"
   ]
  },
  {
   "cell_type": "code",
   "execution_count": 48,
   "metadata": {},
   "outputs": [
    {
     "data": {
      "text/plain": [
       "2211709    13\n",
       "2211710    14\n",
       "2211711    17\n",
       "2211712    23\n",
       "2211713    34\n",
       "Name: object_id, dtype: int64"
      ]
     },
     "execution_count": 48,
     "metadata": {},
     "output_type": "execute_result"
    }
   ],
   "source": [
    "full_new_features['object_id'].head()"
   ]
  },
  {
   "cell_type": "code",
   "execution_count": 49,
   "metadata": {},
   "outputs": [
    {
     "data": {
      "text/plain": [
       "850916     130787966\n",
       "850917     130787971\n",
       "850918     130787974\n",
       "850919     130788053\n",
       "1573637    130788054\n",
       "Name: object_id, dtype: int64"
      ]
     },
     "execution_count": 49,
     "metadata": {},
     "output_type": "execute_result"
    }
   ],
   "source": [
    "full_new_features['object_id'].tail()"
   ]
  },
  {
   "cell_type": "code",
   "execution_count": 50,
   "metadata": {},
   "outputs": [
    {
     "name": "stdout",
     "output_type": "stream",
     "text": [
      "CPU times: user 0 ns, sys: 0 ns, total: 0 ns\n",
      "Wall time: 1.45 ms\n"
     ]
    }
   ],
   "source": [
    "%%time\n",
    "full_new_features.index = full_new_features['object_id']\n",
    "del full_new_features['object_id']\n",
    "full_new_features.head()"
   ]
  },
  {
   "cell_type": "code",
   "execution_count": 51,
   "metadata": {},
   "outputs": [
    {
     "data": {
      "text/html": [
       "<div>\n",
       "<style scoped>\n",
       "    .dataframe tbody tr th:only-of-type {\n",
       "        vertical-align: middle;\n",
       "    }\n",
       "\n",
       "    .dataframe tbody tr th {\n",
       "        vertical-align: top;\n",
       "    }\n",
       "\n",
       "    .dataframe thead th {\n",
       "        text-align: right;\n",
       "    }\n",
       "</style>\n",
       "<table border=\"1\" class=\"dataframe\">\n",
       "  <thead>\n",
       "    <tr style=\"text-align: right;\">\n",
       "      <th></th>\n",
       "      <th>pbgroup_0_peak_time_min</th>\n",
       "      <th>pbgroup_0_peak_time_max</th>\n",
       "      <th>pbgroup_0_peaks_count</th>\n",
       "      <th>pbgroup_0_peak_time_mean</th>\n",
       "      <th>pbgroup_0_peak_values_min</th>\n",
       "      <th>pbgroup_0_peak_values_max</th>\n",
       "      <th>pbgroup_0_peak_values_mean</th>\n",
       "      <th>pbgroup_0_peak_values_std</th>\n",
       "      <th>pbgroup_0_period_peak_time_min</th>\n",
       "      <th>pbgroup_0_period_peak_time_max</th>\n",
       "      <th>...</th>\n",
       "      <th>pbgroup_2_p-value</th>\n",
       "      <th>pbgroup_2_stderr</th>\n",
       "      <th>pbgroup_2_poly_coeff_0</th>\n",
       "      <th>pbgroup_2_poly_coeff_1</th>\n",
       "      <th>pbgroup_2_poly_coeff_2</th>\n",
       "      <th>pbgroup_2_poly_coeff_3</th>\n",
       "      <th>pbgroup_2_poly_coeff_4</th>\n",
       "      <th>pbgroup_2_poly_residuals_min</th>\n",
       "      <th>pbgroup_2_poly_residuals_max</th>\n",
       "      <th>pbgroup_2_poly_residuals_mean</th>\n",
       "    </tr>\n",
       "    <tr>\n",
       "      <th>object_id</th>\n",
       "      <th></th>\n",
       "      <th></th>\n",
       "      <th></th>\n",
       "      <th></th>\n",
       "      <th></th>\n",
       "      <th></th>\n",
       "      <th></th>\n",
       "      <th></th>\n",
       "      <th></th>\n",
       "      <th></th>\n",
       "      <th></th>\n",
       "      <th></th>\n",
       "      <th></th>\n",
       "      <th></th>\n",
       "      <th></th>\n",
       "      <th></th>\n",
       "      <th></th>\n",
       "      <th></th>\n",
       "      <th></th>\n",
       "      <th></th>\n",
       "      <th></th>\n",
       "    </tr>\n",
       "  </thead>\n",
       "  <tbody>\n",
       "    <tr>\n",
       "      <th>13</th>\n",
       "      <td>-0.992874</td>\n",
       "      <td>0.981018</td>\n",
       "      <td>37.0</td>\n",
       "      <td>-0.009123</td>\n",
       "      <td>-0.776626</td>\n",
       "      <td>23.404964</td>\n",
       "      <td>2.680370</td>\n",
       "      <td>3.922883</td>\n",
       "      <td>101.0</td>\n",
       "      <td>329.0</td>\n",
       "      <td>...</td>\n",
       "      <td>1.565440e-19</td>\n",
       "      <td>1.195247</td>\n",
       "      <td>-72.644434</td>\n",
       "      <td>-57.657323</td>\n",
       "      <td>80.159762</td>\n",
       "      <td>59.604606</td>\n",
       "      <td>-2.194671</td>\n",
       "      <td>2823.946387</td>\n",
       "      <td>2823.946387</td>\n",
       "      <td>2823.946387</td>\n",
       "    </tr>\n",
       "    <tr>\n",
       "      <th>14</th>\n",
       "      <td>-0.950966</td>\n",
       "      <td>0.988048</td>\n",
       "      <td>41.0</td>\n",
       "      <td>0.077872</td>\n",
       "      <td>-0.914986</td>\n",
       "      <td>6.371965</td>\n",
       "      <td>1.807047</td>\n",
       "      <td>1.879649</td>\n",
       "      <td>241.0</td>\n",
       "      <td>241.0</td>\n",
       "      <td>...</td>\n",
       "      <td>1.262598e-04</td>\n",
       "      <td>0.601631</td>\n",
       "      <td>14.347083</td>\n",
       "      <td>3.965887</td>\n",
       "      <td>-20.788443</td>\n",
       "      <td>-2.661531</td>\n",
       "      <td>4.551678</td>\n",
       "      <td>1786.159305</td>\n",
       "      <td>1786.159305</td>\n",
       "      <td>1786.159305</td>\n",
       "    </tr>\n",
       "    <tr>\n",
       "      <th>17</th>\n",
       "      <td>-0.933843</td>\n",
       "      <td>0.981267</td>\n",
       "      <td>34.0</td>\n",
       "      <td>0.172996</td>\n",
       "      <td>-0.350579</td>\n",
       "      <td>11.756248</td>\n",
       "      <td>2.665418</td>\n",
       "      <td>2.447568</td>\n",
       "      <td>143.0</td>\n",
       "      <td>143.0</td>\n",
       "      <td>...</td>\n",
       "      <td>1.687390e-05</td>\n",
       "      <td>0.662176</td>\n",
       "      <td>5.497920</td>\n",
       "      <td>-3.505778</td>\n",
       "      <td>-4.527032</td>\n",
       "      <td>4.004490</td>\n",
       "      <td>3.146736</td>\n",
       "      <td>2876.061444</td>\n",
       "      <td>2876.061444</td>\n",
       "      <td>2876.061444</td>\n",
       "    </tr>\n",
       "    <tr>\n",
       "      <th>23</th>\n",
       "      <td>-0.953262</td>\n",
       "      <td>0.985706</td>\n",
       "      <td>40.0</td>\n",
       "      <td>0.016283</td>\n",
       "      <td>-1.544409</td>\n",
       "      <td>5.278965</td>\n",
       "      <td>1.582027</td>\n",
       "      <td>1.516550</td>\n",
       "      <td>372.0</td>\n",
       "      <td>372.0</td>\n",
       "      <td>...</td>\n",
       "      <td>6.209115e-01</td>\n",
       "      <td>0.894579</td>\n",
       "      <td>-68.268036</td>\n",
       "      <td>4.373502</td>\n",
       "      <td>103.137440</td>\n",
       "      <td>-12.938790</td>\n",
       "      <td>-36.352756</td>\n",
       "      <td>2651.705777</td>\n",
       "      <td>2651.705777</td>\n",
       "      <td>2651.705777</td>\n",
       "    </tr>\n",
       "    <tr>\n",
       "      <th>34</th>\n",
       "      <td>-0.961360</td>\n",
       "      <td>0.993060</td>\n",
       "      <td>38.0</td>\n",
       "      <td>0.113114</td>\n",
       "      <td>-0.899885</td>\n",
       "      <td>69.579277</td>\n",
       "      <td>3.959572</td>\n",
       "      <td>11.111745</td>\n",
       "      <td>182.0</td>\n",
       "      <td>372.0</td>\n",
       "      <td>...</td>\n",
       "      <td>4.730776e-01</td>\n",
       "      <td>2.796408</td>\n",
       "      <td>358.623135</td>\n",
       "      <td>7.010582</td>\n",
       "      <td>-546.573715</td>\n",
       "      <td>-20.009836</td>\n",
       "      <td>200.543071</td>\n",
       "      <td>34979.758421</td>\n",
       "      <td>34979.758421</td>\n",
       "      <td>34979.758421</td>\n",
       "    </tr>\n",
       "  </tbody>\n",
       "</table>\n",
       "<p>5 rows × 87 columns</p>\n",
       "</div>"
      ],
      "text/plain": [
       "           pbgroup_0_peak_time_min  pbgroup_0_peak_time_max  \\\n",
       "object_id                                                     \n",
       "13                       -0.992874                 0.981018   \n",
       "14                       -0.950966                 0.988048   \n",
       "17                       -0.933843                 0.981267   \n",
       "23                       -0.953262                 0.985706   \n",
       "34                       -0.961360                 0.993060   \n",
       "\n",
       "           pbgroup_0_peaks_count  pbgroup_0_peak_time_mean  \\\n",
       "object_id                                                    \n",
       "13                          37.0                 -0.009123   \n",
       "14                          41.0                  0.077872   \n",
       "17                          34.0                  0.172996   \n",
       "23                          40.0                  0.016283   \n",
       "34                          38.0                  0.113114   \n",
       "\n",
       "           pbgroup_0_peak_values_min  pbgroup_0_peak_values_max  \\\n",
       "object_id                                                         \n",
       "13                         -0.776626                  23.404964   \n",
       "14                         -0.914986                   6.371965   \n",
       "17                         -0.350579                  11.756248   \n",
       "23                         -1.544409                   5.278965   \n",
       "34                         -0.899885                  69.579277   \n",
       "\n",
       "           pbgroup_0_peak_values_mean  pbgroup_0_peak_values_std  \\\n",
       "object_id                                                          \n",
       "13                           2.680370                   3.922883   \n",
       "14                           1.807047                   1.879649   \n",
       "17                           2.665418                   2.447568   \n",
       "23                           1.582027                   1.516550   \n",
       "34                           3.959572                  11.111745   \n",
       "\n",
       "           pbgroup_0_period_peak_time_min  pbgroup_0_period_peak_time_max  \\\n",
       "object_id                                                                   \n",
       "13                                  101.0                           329.0   \n",
       "14                                  241.0                           241.0   \n",
       "17                                  143.0                           143.0   \n",
       "23                                  372.0                           372.0   \n",
       "34                                  182.0                           372.0   \n",
       "\n",
       "                       ...                pbgroup_2_p-value  pbgroup_2_stderr  \\\n",
       "object_id              ...                                                      \n",
       "13                     ...                     1.565440e-19          1.195247   \n",
       "14                     ...                     1.262598e-04          0.601631   \n",
       "17                     ...                     1.687390e-05          0.662176   \n",
       "23                     ...                     6.209115e-01          0.894579   \n",
       "34                     ...                     4.730776e-01          2.796408   \n",
       "\n",
       "           pbgroup_2_poly_coeff_0  pbgroup_2_poly_coeff_1  \\\n",
       "object_id                                                   \n",
       "13                     -72.644434              -57.657323   \n",
       "14                      14.347083                3.965887   \n",
       "17                       5.497920               -3.505778   \n",
       "23                     -68.268036                4.373502   \n",
       "34                     358.623135                7.010582   \n",
       "\n",
       "           pbgroup_2_poly_coeff_2  pbgroup_2_poly_coeff_3  \\\n",
       "object_id                                                   \n",
       "13                      80.159762               59.604606   \n",
       "14                     -20.788443               -2.661531   \n",
       "17                      -4.527032                4.004490   \n",
       "23                     103.137440              -12.938790   \n",
       "34                    -546.573715              -20.009836   \n",
       "\n",
       "           pbgroup_2_poly_coeff_4  pbgroup_2_poly_residuals_min  \\\n",
       "object_id                                                         \n",
       "13                      -2.194671                   2823.946387   \n",
       "14                       4.551678                   1786.159305   \n",
       "17                       3.146736                   2876.061444   \n",
       "23                     -36.352756                   2651.705777   \n",
       "34                     200.543071                  34979.758421   \n",
       "\n",
       "           pbgroup_2_poly_residuals_max  pbgroup_2_poly_residuals_mean  \n",
       "object_id                                                               \n",
       "13                          2823.946387                    2823.946387  \n",
       "14                          1786.159305                    1786.159305  \n",
       "17                          2876.061444                    2876.061444  \n",
       "23                          2651.705777                    2651.705777  \n",
       "34                         34979.758421                   34979.758421  \n",
       "\n",
       "[5 rows x 87 columns]"
      ]
     },
     "execution_count": 51,
     "metadata": {},
     "output_type": "execute_result"
    }
   ],
   "source": [
    "full_new_features.head()"
   ]
  },
  {
   "cell_type": "markdown",
   "metadata": {},
   "source": [
    "##### Prepare to join with previous features"
   ]
  },
  {
   "cell_type": "code",
   "execution_count": 26,
   "metadata": {},
   "outputs": [
    {
     "name": "stdout",
     "output_type": "stream",
     "text": [
      "CPU times: user 44.6 s, sys: 2.27 s, total: 46.9 s\n",
      "Wall time: 46.9 s\n"
     ]
    }
   ],
   "source": [
    "%%time\n",
    "df_kernel = pd.read_csv('../../data/test-all-feat-from-kernel-repro.csv')"
   ]
  },
  {
   "cell_type": "code",
   "execution_count": 52,
   "metadata": {},
   "outputs": [
    {
     "data": {
      "text/plain": [
       "True"
      ]
     },
     "execution_count": 52,
     "metadata": {},
     "output_type": "execute_result"
    }
   ],
   "source": [
    "set(df_kernel['object_id']) == set(full_new_features.index)"
   ]
  },
  {
   "cell_type": "code",
   "execution_count": 28,
   "metadata": {},
   "outputs": [],
   "source": [
    "missing_ids = sorted(list(set(df_kernel['object_id'].unique()) - set(full_new_features.index)))"
   ]
  },
  {
   "cell_type": "code",
   "execution_count": 29,
   "metadata": {},
   "outputs": [
    {
     "data": {
      "text/plain": [
       "[103524116,\n",
       " 103524119,\n",
       " 103524138,\n",
       " 103524346,\n",
       " 103524360,\n",
       " 103524395,\n",
       " 103524430,\n",
       " 103524448,\n",
       " 103524556,\n",
       " 103524557]"
      ]
     },
     "execution_count": 29,
     "metadata": {},
     "output_type": "execute_result"
    }
   ],
   "source": [
    "missing_ids[:10]"
   ]
  },
  {
   "cell_type": "code",
   "execution_count": 30,
   "metadata": {},
   "outputs": [
    {
     "data": {
      "text/plain": [
       "[104853513,\n",
       " 104853523,\n",
       " 104853556,\n",
       " 104853595,\n",
       " 104853622,\n",
       " 104853625,\n",
       " 104853653,\n",
       " 104853684,\n",
       " 104853725,\n",
       " 104853738]"
      ]
     },
     "execution_count": 30,
     "metadata": {},
     "output_type": "execute_result"
    }
   ],
   "source": [
    "missing_ids[-10:]"
   ]
  },
  {
   "cell_type": "markdown",
   "metadata": {},
   "source": [
    "##### WARNING: There are missing IDs, we need to inspect where the leak happend and find errors:"
   ]
  },
  {
   "cell_type": "markdown",
   "metadata": {},
   "source": [
    "Generating missing features"
   ]
  },
  {
   "cell_type": "code",
   "execution_count": 31,
   "metadata": {},
   "outputs": [],
   "source": [
    "missing_ids = set(missing_ids)"
   ]
  },
  {
   "cell_type": "code",
   "execution_count": 32,
   "metadata": {},
   "outputs": [],
   "source": [
    "chunks = 4536532\n",
    "test_path = '../../data/raw/test_set.csv'\n",
    "output_path = '../../data/features/test-3band-series-models-without-kernel-features-missed.csv'\n",
    "id_colname = 'object_id'"
   ]
  },
  {
   "cell_type": "code",
   "execution_count": 33,
   "metadata": {},
   "outputs": [],
   "source": [
    "from plasticc.featurize import *\n",
    "import gc\n",
    "gc.enable()"
   ]
  },
  {
   "cell_type": "code",
   "execution_count": 34,
   "metadata": {},
   "outputs": [
    {
     "data": {
      "application/vnd.jupyter.widget-view+json": {
       "model_id": "c85888b4a81943299d3e1fb23aa9760f",
       "version_major": 2,
       "version_minor": 0
      },
      "text/plain": [
       "HBox(children=(IntProgress(value=0), HTML(value='')))"
      ]
     },
     "metadata": {},
     "output_type": "display_data"
    },
    {
     "name": "stdout",
     "output_type": "stream",
     "text": [
      "\n",
      "CPU times: user 13min, sys: 26.8 s, total: 13min 27s\n",
      "Wall time: 13min 59s\n"
     ]
    }
   ],
   "source": [
    "%%time\n",
    "\n",
    "remain_df = None\n",
    "saved = 0\n",
    "for i_c, df in tqdm(enumerate(pd.read_csv(test_path, chunksize=chunks, iterator=True)), total=100):\n",
    "    unique_ids = np.unique(df[id_colname])\n",
    "    new_remain_df = df.loc[df[id_colname] == unique_ids[-1]].copy()\n",
    "    if remain_df is None:\n",
    "        df = df.loc[df[id_colname].isin(unique_ids[:-1])]\n",
    "    else:\n",
    "        df = pd.concat([remain_df, df.loc[df[id_colname].isin(unique_ids[:-1])]], axis=0)\n",
    "    # Create remaining samples df\n",
    "    remain_df = new_remain_df\n",
    "\n",
    "    missing_only = df[df['object_id'].apply(lambda x: x in missing_ids)]\n",
    "    if len(missing_only) == 0:\n",
    "        continue\n",
    "    \n",
    "    preprocessed_df = preprocess_series(missing_only)\n",
    "    del df  # preprocess series copies the dataframe so we can safely delete it\n",
    "    gc.collect()\n",
    "\n",
    "    gbo = preprocessed_df.groupby('object_id')\n",
    "    group_features_series = [process_group(g) for g in gbo]\n",
    "    series_features_df = pd.concat(group_features_series, axis=1).transpose()\n",
    "    if saved == 0:\n",
    "        series_features_df.to_csv(output_path, header=True, mode='w', index=True)\n",
    "        saved = saved + 1\n",
    "    else:\n",
    "        series_features_df.to_csv(output_path, header=False, mode='a', index=True)\n",
    "        saved = saved + 1\n",
    "\n",
    "missing_only = remain_df[remain_df['object_id'].apply(lambda x: x in missing_ids)]\n",
    "if len(missing_only) > 0:\n",
    "    preprocessed_df = preprocess_series(missing_only)\n",
    "    del df  # preprocess series copies the dataframe so we can safely delete it\n",
    "    gc.collect()\n",
    "\n",
    "    gbo = preprocessed_df.groupby('object_id')\n",
    "    group_features_series = [process_group(g) for g in gbo]\n",
    "    series_features_df = pd.concat(group_features_series, axis=1).transpose()\n",
    "    if saved == 0:\n",
    "        series_features_df.to_csv(output_path, header=True, mode='w', index=True)\n",
    "        saved = saved + 1\n",
    "    else:\n",
    "        series_features_df.to_csv(output_path, header=False, mode='a', index=True)\n",
    "        saved = saved + 1"
   ]
  },
  {
   "cell_type": "code",
   "execution_count": 36,
   "metadata": {},
   "outputs": [
    {
     "name": "stdout",
     "output_type": "stream",
     "text": [
      "Done\n"
     ]
    }
   ],
   "source": [
    "print(\"Done\")"
   ]
  },
  {
   "cell_type": "markdown",
   "metadata": {},
   "source": [
    "Go back, reload array of CSVs and check whether indices match this time (they should)"
   ]
  },
  {
   "cell_type": "markdown",
   "metadata": {},
   "source": [
    "##### Perform the actual join"
   ]
  },
  {
   "cell_type": "code",
   "execution_count": 53,
   "metadata": {},
   "outputs": [
    {
     "name": "stdout",
     "output_type": "stream",
     "text": [
      "CPU times: user 2.16 s, sys: 4.18 s, total: 6.34 s\n",
      "Wall time: 6.33 s\n"
     ]
    }
   ],
   "source": [
    "%%time\n",
    "df_full_feat = df_kernel.join(full_new_features, on='object_id')"
   ]
  },
  {
   "cell_type": "code",
   "execution_count": 55,
   "metadata": {},
   "outputs": [
    {
     "data": {
      "text/plain": [
       "(3492890, 156)"
      ]
     },
     "execution_count": 55,
     "metadata": {},
     "output_type": "execute_result"
    }
   ],
   "source": [
    "df_full_feat.shape"
   ]
  },
  {
   "cell_type": "code",
   "execution_count": 56,
   "metadata": {},
   "outputs": [
    {
     "data": {
      "text/html": [
       "<div>\n",
       "<style scoped>\n",
       "    .dataframe tbody tr th:only-of-type {\n",
       "        vertical-align: middle;\n",
       "    }\n",
       "\n",
       "    .dataframe tbody tr th {\n",
       "        vertical-align: top;\n",
       "    }\n",
       "\n",
       "    .dataframe thead th {\n",
       "        text-align: right;\n",
       "    }\n",
       "</style>\n",
       "<table border=\"1\" class=\"dataframe\">\n",
       "  <thead>\n",
       "    <tr style=\"text-align: right;\">\n",
       "      <th></th>\n",
       "      <th>object_id</th>\n",
       "      <th>flux_min</th>\n",
       "      <th>flux_max</th>\n",
       "      <th>flux_mean</th>\n",
       "      <th>flux_median</th>\n",
       "      <th>flux_std</th>\n",
       "      <th>flux_skew</th>\n",
       "      <th>flux_err_min</th>\n",
       "      <th>flux_err_max</th>\n",
       "      <th>flux_err_mean</th>\n",
       "      <th>...</th>\n",
       "      <th>pbgroup_2_p-value</th>\n",
       "      <th>pbgroup_2_stderr</th>\n",
       "      <th>pbgroup_2_poly_coeff_0</th>\n",
       "      <th>pbgroup_2_poly_coeff_1</th>\n",
       "      <th>pbgroup_2_poly_coeff_2</th>\n",
       "      <th>pbgroup_2_poly_coeff_3</th>\n",
       "      <th>pbgroup_2_poly_coeff_4</th>\n",
       "      <th>pbgroup_2_poly_residuals_min</th>\n",
       "      <th>pbgroup_2_poly_residuals_max</th>\n",
       "      <th>pbgroup_2_poly_residuals_mean</th>\n",
       "    </tr>\n",
       "  </thead>\n",
       "  <tbody>\n",
       "    <tr>\n",
       "      <th>0</th>\n",
       "      <td>13</td>\n",
       "      <td>-12.680235</td>\n",
       "      <td>42.765503</td>\n",
       "      <td>3.997127</td>\n",
       "      <td>0.616561</td>\n",
       "      <td>9.149645</td>\n",
       "      <td>2.037355</td>\n",
       "      <td>0.691634</td>\n",
       "      <td>11.257108</td>\n",
       "      <td>2.461810</td>\n",
       "      <td>...</td>\n",
       "      <td>1.565440e-19</td>\n",
       "      <td>1.195247</td>\n",
       "      <td>-72.644434</td>\n",
       "      <td>-57.657323</td>\n",
       "      <td>80.159762</td>\n",
       "      <td>59.604606</td>\n",
       "      <td>-2.194671</td>\n",
       "      <td>2823.946387</td>\n",
       "      <td>2823.946387</td>\n",
       "      <td>2823.946387</td>\n",
       "    </tr>\n",
       "    <tr>\n",
       "      <th>1</th>\n",
       "      <td>14</td>\n",
       "      <td>-11.142164</td>\n",
       "      <td>14.839427</td>\n",
       "      <td>0.884047</td>\n",
       "      <td>0.072856</td>\n",
       "      <td>3.399946</td>\n",
       "      <td>0.970525</td>\n",
       "      <td>0.690589</td>\n",
       "      <td>11.249375</td>\n",
       "      <td>2.457580</td>\n",
       "      <td>...</td>\n",
       "      <td>1.262598e-04</td>\n",
       "      <td>0.601631</td>\n",
       "      <td>14.347083</td>\n",
       "      <td>3.965887</td>\n",
       "      <td>-20.788443</td>\n",
       "      <td>-2.661531</td>\n",
       "      <td>4.551678</td>\n",
       "      <td>1786.159305</td>\n",
       "      <td>1786.159305</td>\n",
       "      <td>1786.159305</td>\n",
       "    </tr>\n",
       "    <tr>\n",
       "      <th>2</th>\n",
       "      <td>17</td>\n",
       "      <td>-14.202744</td>\n",
       "      <td>16.761280</td>\n",
       "      <td>0.791032</td>\n",
       "      <td>0.458390</td>\n",
       "      <td>3.886578</td>\n",
       "      <td>0.377131</td>\n",
       "      <td>0.663680</td>\n",
       "      <td>11.278636</td>\n",
       "      <td>2.702947</td>\n",
       "      <td>...</td>\n",
       "      <td>1.687390e-05</td>\n",
       "      <td>0.662176</td>\n",
       "      <td>5.497920</td>\n",
       "      <td>-3.505778</td>\n",
       "      <td>-4.527032</td>\n",
       "      <td>4.004490</td>\n",
       "      <td>3.146736</td>\n",
       "      <td>2876.061444</td>\n",
       "      <td>2876.061444</td>\n",
       "      <td>2876.061444</td>\n",
       "    </tr>\n",
       "    <tr>\n",
       "      <th>3</th>\n",
       "      <td>23</td>\n",
       "      <td>-12.631923</td>\n",
       "      <td>28.061138</td>\n",
       "      <td>0.970396</td>\n",
       "      <td>0.465986</td>\n",
       "      <td>4.100713</td>\n",
       "      <td>2.177402</td>\n",
       "      <td>0.697639</td>\n",
       "      <td>11.305429</td>\n",
       "      <td>2.480364</td>\n",
       "      <td>...</td>\n",
       "      <td>6.209115e-01</td>\n",
       "      <td>0.894579</td>\n",
       "      <td>-68.268036</td>\n",
       "      <td>4.373502</td>\n",
       "      <td>103.137440</td>\n",
       "      <td>-12.938790</td>\n",
       "      <td>-36.352756</td>\n",
       "      <td>2651.705777</td>\n",
       "      <td>2651.705777</td>\n",
       "      <td>2651.705777</td>\n",
       "    </tr>\n",
       "    <tr>\n",
       "      <th>4</th>\n",
       "      <td>34</td>\n",
       "      <td>-13.239577</td>\n",
       "      <td>124.475609</td>\n",
       "      <td>4.580070</td>\n",
       "      <td>0.301366</td>\n",
       "      <td>19.862714</td>\n",
       "      <td>4.537527</td>\n",
       "      <td>0.679312</td>\n",
       "      <td>11.365292</td>\n",
       "      <td>2.746784</td>\n",
       "      <td>...</td>\n",
       "      <td>4.730776e-01</td>\n",
       "      <td>2.796408</td>\n",
       "      <td>358.623135</td>\n",
       "      <td>7.010582</td>\n",
       "      <td>-546.573715</td>\n",
       "      <td>-20.009836</td>\n",
       "      <td>200.543071</td>\n",
       "      <td>34979.758421</td>\n",
       "      <td>34979.758421</td>\n",
       "      <td>34979.758421</td>\n",
       "    </tr>\n",
       "  </tbody>\n",
       "</table>\n",
       "<p>5 rows × 156 columns</p>\n",
       "</div>"
      ],
      "text/plain": [
       "   object_id   flux_min    flux_max  flux_mean  flux_median   flux_std  \\\n",
       "0         13 -12.680235   42.765503   3.997127     0.616561   9.149645   \n",
       "1         14 -11.142164   14.839427   0.884047     0.072856   3.399946   \n",
       "2         17 -14.202744   16.761280   0.791032     0.458390   3.886578   \n",
       "3         23 -12.631923   28.061138   0.970396     0.465986   4.100713   \n",
       "4         34 -13.239577  124.475609   4.580070     0.301366  19.862714   \n",
       "\n",
       "   flux_skew  flux_err_min  flux_err_max  flux_err_mean  \\\n",
       "0   2.037355      0.691634     11.257108       2.461810   \n",
       "1   0.970525      0.690589     11.249375       2.457580   \n",
       "2   0.377131      0.663680     11.278636       2.702947   \n",
       "3   2.177402      0.697639     11.305429       2.480364   \n",
       "4   4.537527      0.679312     11.365292       2.746784   \n",
       "\n",
       "               ...                pbgroup_2_p-value  pbgroup_2_stderr  \\\n",
       "0              ...                     1.565440e-19          1.195247   \n",
       "1              ...                     1.262598e-04          0.601631   \n",
       "2              ...                     1.687390e-05          0.662176   \n",
       "3              ...                     6.209115e-01          0.894579   \n",
       "4              ...                     4.730776e-01          2.796408   \n",
       "\n",
       "   pbgroup_2_poly_coeff_0  pbgroup_2_poly_coeff_1  pbgroup_2_poly_coeff_2  \\\n",
       "0              -72.644434              -57.657323               80.159762   \n",
       "1               14.347083                3.965887              -20.788443   \n",
       "2                5.497920               -3.505778               -4.527032   \n",
       "3              -68.268036                4.373502              103.137440   \n",
       "4              358.623135                7.010582             -546.573715   \n",
       "\n",
       "   pbgroup_2_poly_coeff_3  pbgroup_2_poly_coeff_4  \\\n",
       "0               59.604606               -2.194671   \n",
       "1               -2.661531                4.551678   \n",
       "2                4.004490                3.146736   \n",
       "3              -12.938790              -36.352756   \n",
       "4              -20.009836              200.543071   \n",
       "\n",
       "   pbgroup_2_poly_residuals_min  pbgroup_2_poly_residuals_max  \\\n",
       "0                   2823.946387                   2823.946387   \n",
       "1                   1786.159305                   1786.159305   \n",
       "2                   2876.061444                   2876.061444   \n",
       "3                   2651.705777                   2651.705777   \n",
       "4                  34979.758421                  34979.758421   \n",
       "\n",
       "   pbgroup_2_poly_residuals_mean  \n",
       "0                    2823.946387  \n",
       "1                    1786.159305  \n",
       "2                    2876.061444  \n",
       "3                    2651.705777  \n",
       "4                   34979.758421  \n",
       "\n",
       "[5 rows x 156 columns]"
      ]
     },
     "execution_count": 56,
     "metadata": {},
     "output_type": "execute_result"
    }
   ],
   "source": [
    "df_full_feat.head()"
   ]
  },
  {
   "cell_type": "code",
   "execution_count": null,
   "metadata": {},
   "outputs": [],
   "source": [
    "%%time\n",
    "df_full_feat.to_csv('../../data/test-new-poly-with-kernel.csv', index=False)"
   ]
  },
  {
   "cell_type": "code",
   "execution_count": 61,
   "metadata": {},
   "outputs": [
    {
     "name": "stdout",
     "output_type": "stream",
     "text": [
      "Done\n"
     ]
    }
   ],
   "source": [
    "print(\"Done\")"
   ]
  },
  {
   "cell_type": "markdown",
   "metadata": {},
   "source": [
    "### Generate predictions on the test set"
   ]
  },
  {
   "cell_type": "code",
   "execution_count": 18,
   "metadata": {},
   "outputs": [
    {
     "data": {
      "text/plain": [
       "'/home/kk385830/astronomical-classification/submissions/subm_0.603058_2018-12-16-18-13.csv'"
      ]
     },
     "execution_count": 18,
     "metadata": {},
     "output_type": "execute_result"
    }
   ],
   "source": [
    "submission_file_path = path_from_cv_score(score)\n",
    "submission_file_path"
   ]
  },
  {
   "cell_type": "code",
   "execution_count": 21,
   "metadata": {},
   "outputs": [
    {
     "name": "stdout",
     "output_type": "stream",
     "text": [
      "Loading data...\n"
     ]
    },
    {
     "name": "stderr",
     "output_type": "stream",
     "text": [
      "  0%|          | 0/6 [00:00<?, ?it/s]"
     ]
    },
    {
     "name": "stdout",
     "output_type": "stream",
     "text": [
      "Generating predictions...\n"
     ]
    },
    {
     "name": "stderr",
     "output_type": "stream",
     "text": [
      "100%|██████████| 6/6 [15:53<00:00, 165.67s/it]\n"
     ]
    },
    {
     "name": "stdout",
     "output_type": "stream",
     "text": [
      "Postprocessing...\n",
      "Submission shape before grouping: (3492890, 16)\n",
      "Submission shape after grouping: (3492890, 15)\n",
      "Submission shape after postprocessing: (3492890, 15)\n",
      "Validating submission file...\n",
      "Saving submission...\n",
      "Submission saved to f/home/kk385830/astronomical-classification/submissions/subm_0.603058_2018-12-16-18-13.csv\n",
      "CPU times: user 3h 50min 6s, sys: 1min 25s, total: 3h 51min 32s\n",
      "Wall time: 19min 19s\n"
     ]
    }
   ],
   "source": [
    "%%time\n",
    "submission = predict_test(\n",
    "    clfs=clfs, \n",
    "    feature_colnames=feature_colnames, \n",
    "    id_colname=id_colname, \n",
    "    input_path='../../data/test-new-poly-with-kernel.csv', \n",
    "    output_path=submission_file_path, \n",
    "    class_99_target_mean=0.12,\n",
    "    verbose=True\n",
    ")"
   ]
  },
  {
   "cell_type": "code",
   "execution_count": 27,
   "metadata": {},
   "outputs": [
    {
     "data": {
      "text/html": [
       "<div>\n",
       "<style scoped>\n",
       "    .dataframe tbody tr th:only-of-type {\n",
       "        vertical-align: middle;\n",
       "    }\n",
       "\n",
       "    .dataframe tbody tr th {\n",
       "        vertical-align: top;\n",
       "    }\n",
       "\n",
       "    .dataframe thead th {\n",
       "        text-align: right;\n",
       "    }\n",
       "</style>\n",
       "<table border=\"1\" class=\"dataframe\">\n",
       "  <thead>\n",
       "    <tr style=\"text-align: right;\">\n",
       "      <th></th>\n",
       "      <th>class_6</th>\n",
       "      <th>class_15</th>\n",
       "      <th>class_16</th>\n",
       "      <th>class_42</th>\n",
       "      <th>class_52</th>\n",
       "      <th>class_53</th>\n",
       "      <th>class_62</th>\n",
       "      <th>class_64</th>\n",
       "      <th>class_65</th>\n",
       "      <th>class_67</th>\n",
       "      <th>class_88</th>\n",
       "      <th>class_90</th>\n",
       "      <th>class_92</th>\n",
       "      <th>class_95</th>\n",
       "      <th>class_99</th>\n",
       "    </tr>\n",
       "    <tr>\n",
       "      <th>object_id</th>\n",
       "      <th></th>\n",
       "      <th></th>\n",
       "      <th></th>\n",
       "      <th></th>\n",
       "      <th></th>\n",
       "      <th></th>\n",
       "      <th></th>\n",
       "      <th></th>\n",
       "      <th></th>\n",
       "      <th></th>\n",
       "      <th></th>\n",
       "      <th></th>\n",
       "      <th></th>\n",
       "      <th></th>\n",
       "      <th></th>\n",
       "    </tr>\n",
       "  </thead>\n",
       "  <tbody>\n",
       "    <tr>\n",
       "      <th>13</th>\n",
       "      <td>0.000037</td>\n",
       "      <td>0.000326</td>\n",
       "      <td>0.000023</td>\n",
       "      <td>0.329773</td>\n",
       "      <td>0.349760</td>\n",
       "      <td>0.000057</td>\n",
       "      <td>0.046689</td>\n",
       "      <td>0.000017</td>\n",
       "      <td>0.000017</td>\n",
       "      <td>0.001120</td>\n",
       "      <td>0.000065</td>\n",
       "      <td>0.053622</td>\n",
       "      <td>0.000030</td>\n",
       "      <td>0.000247</td>\n",
       "      <td>0.218217</td>\n",
       "    </tr>\n",
       "    <tr>\n",
       "      <th>14</th>\n",
       "      <td>0.000057</td>\n",
       "      <td>0.002647</td>\n",
       "      <td>0.000052</td>\n",
       "      <td>0.108428</td>\n",
       "      <td>0.031220</td>\n",
       "      <td>0.000084</td>\n",
       "      <td>0.029663</td>\n",
       "      <td>0.000070</td>\n",
       "      <td>0.000304</td>\n",
       "      <td>0.014973</td>\n",
       "      <td>0.000214</td>\n",
       "      <td>0.641568</td>\n",
       "      <td>0.000054</td>\n",
       "      <td>0.013706</td>\n",
       "      <td>0.156958</td>\n",
       "    </tr>\n",
       "    <tr>\n",
       "      <th>17</th>\n",
       "      <td>0.000141</td>\n",
       "      <td>0.004441</td>\n",
       "      <td>0.000137</td>\n",
       "      <td>0.081695</td>\n",
       "      <td>0.050664</td>\n",
       "      <td>0.000184</td>\n",
       "      <td>0.014805</td>\n",
       "      <td>0.001838</td>\n",
       "      <td>0.000203</td>\n",
       "      <td>0.091125</td>\n",
       "      <td>0.001432</td>\n",
       "      <td>0.537216</td>\n",
       "      <td>0.000070</td>\n",
       "      <td>0.024835</td>\n",
       "      <td>0.191213</td>\n",
       "    </tr>\n",
       "  </tbody>\n",
       "</table>\n",
       "</div>"
      ],
      "text/plain": [
       "            class_6  class_15  class_16  class_42  class_52  class_53  \\\n",
       "object_id                                                               \n",
       "13         0.000037  0.000326  0.000023  0.329773  0.349760  0.000057   \n",
       "14         0.000057  0.002647  0.000052  0.108428  0.031220  0.000084   \n",
       "17         0.000141  0.004441  0.000137  0.081695  0.050664  0.000184   \n",
       "\n",
       "           class_62  class_64  class_65  class_67  class_88  class_90  \\\n",
       "object_id                                                               \n",
       "13         0.046689  0.000017  0.000017  0.001120  0.000065  0.053622   \n",
       "14         0.029663  0.000070  0.000304  0.014973  0.000214  0.641568   \n",
       "17         0.014805  0.001838  0.000203  0.091125  0.001432  0.537216   \n",
       "\n",
       "           class_92  class_95  class_99  \n",
       "object_id                                \n",
       "13         0.000030  0.000247  0.218217  \n",
       "14         0.000054  0.013706  0.156958  \n",
       "17         0.000070  0.024835  0.191213  "
      ]
     },
     "execution_count": 27,
     "metadata": {},
     "output_type": "execute_result"
    }
   ],
   "source": [
    "submission.head(3)"
   ]
  },
  {
   "cell_type": "code",
   "execution_count": 51,
   "metadata": {},
   "outputs": [
    {
     "data": {
      "text/plain": [
       "0.13013586"
      ]
     },
     "execution_count": 51,
     "metadata": {},
     "output_type": "execute_result"
    }
   ],
   "source": [
    "submission['class_99'].mean()"
   ]
  },
  {
   "cell_type": "code",
   "execution_count": 52,
   "metadata": {},
   "outputs": [
    {
     "data": {
      "text/html": [
       "<div>\n",
       "<style scoped>\n",
       "    .dataframe tbody tr th:only-of-type {\n",
       "        vertical-align: middle;\n",
       "    }\n",
       "\n",
       "    .dataframe tbody tr th {\n",
       "        vertical-align: top;\n",
       "    }\n",
       "\n",
       "    .dataframe thead th {\n",
       "        text-align: right;\n",
       "    }\n",
       "</style>\n",
       "<table border=\"1\" class=\"dataframe\">\n",
       "  <thead>\n",
       "    <tr style=\"text-align: right;\">\n",
       "      <th></th>\n",
       "      <th>class_6</th>\n",
       "      <th>class_15</th>\n",
       "      <th>class_16</th>\n",
       "      <th>class_42</th>\n",
       "      <th>class_52</th>\n",
       "      <th>class_53</th>\n",
       "      <th>class_62</th>\n",
       "      <th>class_64</th>\n",
       "      <th>class_65</th>\n",
       "      <th>class_67</th>\n",
       "      <th>class_88</th>\n",
       "      <th>class_90</th>\n",
       "      <th>class_92</th>\n",
       "      <th>class_95</th>\n",
       "      <th>class_99</th>\n",
       "    </tr>\n",
       "    <tr>\n",
       "      <th>object_id</th>\n",
       "      <th></th>\n",
       "      <th></th>\n",
       "      <th></th>\n",
       "      <th></th>\n",
       "      <th></th>\n",
       "      <th></th>\n",
       "      <th></th>\n",
       "      <th></th>\n",
       "      <th></th>\n",
       "      <th></th>\n",
       "      <th></th>\n",
       "      <th></th>\n",
       "      <th></th>\n",
       "      <th></th>\n",
       "      <th></th>\n",
       "    </tr>\n",
       "  </thead>\n",
       "  <tbody>\n",
       "    <tr>\n",
       "      <th>13</th>\n",
       "      <td>0.000040</td>\n",
       "      <td>0.000354</td>\n",
       "      <td>0.000024</td>\n",
       "      <td>0.357446</td>\n",
       "      <td>0.379110</td>\n",
       "      <td>0.000061</td>\n",
       "      <td>0.050607</td>\n",
       "      <td>0.000019</td>\n",
       "      <td>0.000019</td>\n",
       "      <td>0.001214</td>\n",
       "      <td>0.000070</td>\n",
       "      <td>0.058122</td>\n",
       "      <td>0.000033</td>\n",
       "      <td>0.000267</td>\n",
       "      <td>0.152613</td>\n",
       "    </tr>\n",
       "    <tr>\n",
       "      <th>14</th>\n",
       "      <td>0.000060</td>\n",
       "      <td>0.002804</td>\n",
       "      <td>0.000055</td>\n",
       "      <td>0.114822</td>\n",
       "      <td>0.033061</td>\n",
       "      <td>0.000089</td>\n",
       "      <td>0.031412</td>\n",
       "      <td>0.000075</td>\n",
       "      <td>0.000322</td>\n",
       "      <td>0.015856</td>\n",
       "      <td>0.000227</td>\n",
       "      <td>0.679401</td>\n",
       "      <td>0.000058</td>\n",
       "      <td>0.014515</td>\n",
       "      <td>0.107244</td>\n",
       "    </tr>\n",
       "    <tr>\n",
       "      <th>17</th>\n",
       "      <td>0.000151</td>\n",
       "      <td>0.004765</td>\n",
       "      <td>0.000147</td>\n",
       "      <td>0.087640</td>\n",
       "      <td>0.054351</td>\n",
       "      <td>0.000197</td>\n",
       "      <td>0.015882</td>\n",
       "      <td>0.001972</td>\n",
       "      <td>0.000218</td>\n",
       "      <td>0.097757</td>\n",
       "      <td>0.001537</td>\n",
       "      <td>0.576313</td>\n",
       "      <td>0.000076</td>\n",
       "      <td>0.026642</td>\n",
       "      <td>0.132353</td>\n",
       "    </tr>\n",
       "    <tr>\n",
       "      <th>23</th>\n",
       "      <td>0.000080</td>\n",
       "      <td>0.001103</td>\n",
       "      <td>0.000092</td>\n",
       "      <td>0.054336</td>\n",
       "      <td>0.013861</td>\n",
       "      <td>0.000125</td>\n",
       "      <td>0.050159</td>\n",
       "      <td>0.006378</td>\n",
       "      <td>0.000147</td>\n",
       "      <td>0.186823</td>\n",
       "      <td>0.000155</td>\n",
       "      <td>0.508671</td>\n",
       "      <td>0.000044</td>\n",
       "      <td>0.033623</td>\n",
       "      <td>0.144404</td>\n",
       "    </tr>\n",
       "    <tr>\n",
       "      <th>34</th>\n",
       "      <td>0.000018</td>\n",
       "      <td>0.000605</td>\n",
       "      <td>0.000017</td>\n",
       "      <td>0.040403</td>\n",
       "      <td>0.162473</td>\n",
       "      <td>0.000038</td>\n",
       "      <td>0.012966</td>\n",
       "      <td>0.000023</td>\n",
       "      <td>0.000040</td>\n",
       "      <td>0.004567</td>\n",
       "      <td>0.000024</td>\n",
       "      <td>0.669535</td>\n",
       "      <td>0.000014</td>\n",
       "      <td>0.000119</td>\n",
       "      <td>0.109158</td>\n",
       "    </tr>\n",
       "  </tbody>\n",
       "</table>\n",
       "</div>"
      ],
      "text/plain": [
       "            class_6  class_15  class_16  class_42  class_52  class_53  \\\n",
       "object_id                                                               \n",
       "13         0.000040  0.000354  0.000024  0.357446  0.379110  0.000061   \n",
       "14         0.000060  0.002804  0.000055  0.114822  0.033061  0.000089   \n",
       "17         0.000151  0.004765  0.000147  0.087640  0.054351  0.000197   \n",
       "23         0.000080  0.001103  0.000092  0.054336  0.013861  0.000125   \n",
       "34         0.000018  0.000605  0.000017  0.040403  0.162473  0.000038   \n",
       "\n",
       "           class_62  class_64  class_65  class_67  class_88  class_90  \\\n",
       "object_id                                                               \n",
       "13         0.050607  0.000019  0.000019  0.001214  0.000070  0.058122   \n",
       "14         0.031412  0.000075  0.000322  0.015856  0.000227  0.679401   \n",
       "17         0.015882  0.001972  0.000218  0.097757  0.001537  0.576313   \n",
       "23         0.050159  0.006378  0.000147  0.186823  0.000155  0.508671   \n",
       "34         0.012966  0.000023  0.000040  0.004567  0.000024  0.669535   \n",
       "\n",
       "           class_92  class_95  class_99  \n",
       "object_id                                \n",
       "13         0.000033  0.000267  0.152613  \n",
       "14         0.000058  0.014515  0.107244  \n",
       "17         0.000076  0.026642  0.132353  \n",
       "23         0.000044  0.033623  0.144404  \n",
       "34         0.000014  0.000119  0.109158  "
      ]
     },
     "execution_count": 52,
     "metadata": {},
     "output_type": "execute_result"
    }
   ],
   "source": [
    "submission.head()"
   ]
  },
  {
   "cell_type": "markdown",
   "metadata": {},
   "source": [
    "### Quick check reny entropy mean class 99 probabilities"
   ]
  },
  {
   "cell_type": "code",
   "execution_count": 12,
   "metadata": {},
   "outputs": [],
   "source": [
    "submission = pd.read_csv('../../submissions/subm_0.603058_2018-12-16-18-13.csv', index_col='object_id')"
   ]
  },
  {
   "cell_type": "code",
   "execution_count": 13,
   "metadata": {},
   "outputs": [],
   "source": [
    "def renyEntropy(alpha, vector):\n",
    "    if alpha < 0 or alpha == 1:\n",
    "        raise Exception('alpha must not be 1 neither negative')\n",
    "\n",
    "    coeff = 1 / (1 - alpha)\n",
    "    powered = vector ** alpha\n",
    "    sumpow = np.sum(powered, axis=1)\n",
    "    logof = np.log(sumpow) / np.log(13)\n",
    "    return logof * coeff"
   ]
  },
  {
   "cell_type": "code",
   "execution_count": 14,
   "metadata": {},
   "outputs": [],
   "source": [
    "reny_99 = renyEntropy(10, submission.values) * 0.25"
   ]
  },
  {
   "cell_type": "code",
   "execution_count": 15,
   "metadata": {},
   "outputs": [],
   "source": [
    "submission['class_99'] = (submission['class_99'].values + reny_99) / 2"
   ]
  },
  {
   "cell_type": "code",
   "execution_count": 16,
   "metadata": {},
   "outputs": [
    {
     "data": {
      "text/html": [
       "<div>\n",
       "<style scoped>\n",
       "    .dataframe tbody tr th:only-of-type {\n",
       "        vertical-align: middle;\n",
       "    }\n",
       "\n",
       "    .dataframe tbody tr th {\n",
       "        vertical-align: top;\n",
       "    }\n",
       "\n",
       "    .dataframe thead th {\n",
       "        text-align: right;\n",
       "    }\n",
       "</style>\n",
       "<table border=\"1\" class=\"dataframe\">\n",
       "  <thead>\n",
       "    <tr style=\"text-align: right;\">\n",
       "      <th></th>\n",
       "      <th>class_6</th>\n",
       "      <th>class_15</th>\n",
       "      <th>class_16</th>\n",
       "      <th>class_42</th>\n",
       "      <th>class_52</th>\n",
       "      <th>class_53</th>\n",
       "      <th>class_62</th>\n",
       "      <th>class_64</th>\n",
       "      <th>class_65</th>\n",
       "      <th>class_67</th>\n",
       "      <th>class_88</th>\n",
       "      <th>class_90</th>\n",
       "      <th>class_92</th>\n",
       "      <th>class_95</th>\n",
       "      <th>class_99</th>\n",
       "    </tr>\n",
       "    <tr>\n",
       "      <th>object_id</th>\n",
       "      <th></th>\n",
       "      <th></th>\n",
       "      <th></th>\n",
       "      <th></th>\n",
       "      <th></th>\n",
       "      <th></th>\n",
       "      <th></th>\n",
       "      <th></th>\n",
       "      <th></th>\n",
       "      <th></th>\n",
       "      <th></th>\n",
       "      <th></th>\n",
       "      <th></th>\n",
       "      <th></th>\n",
       "      <th></th>\n",
       "    </tr>\n",
       "  </thead>\n",
       "  <tbody>\n",
       "    <tr>\n",
       "      <th>13</th>\n",
       "      <td>0.000040</td>\n",
       "      <td>0.000354</td>\n",
       "      <td>0.000024</td>\n",
       "      <td>0.357446</td>\n",
       "      <td>0.379110</td>\n",
       "      <td>0.000061</td>\n",
       "      <td>0.050607</td>\n",
       "      <td>0.000019</td>\n",
       "      <td>0.000019</td>\n",
       "      <td>0.001214</td>\n",
       "      <td>0.000070</td>\n",
       "      <td>0.058122</td>\n",
       "      <td>0.000033</td>\n",
       "      <td>0.000267</td>\n",
       "      <td>0.126435</td>\n",
       "    </tr>\n",
       "    <tr>\n",
       "      <th>14</th>\n",
       "      <td>0.000060</td>\n",
       "      <td>0.002804</td>\n",
       "      <td>0.000055</td>\n",
       "      <td>0.114822</td>\n",
       "      <td>0.033061</td>\n",
       "      <td>0.000089</td>\n",
       "      <td>0.031412</td>\n",
       "      <td>0.000075</td>\n",
       "      <td>0.000322</td>\n",
       "      <td>0.015856</td>\n",
       "      <td>0.000227</td>\n",
       "      <td>0.679401</td>\n",
       "      <td>0.000058</td>\n",
       "      <td>0.014515</td>\n",
       "      <td>0.074553</td>\n",
       "    </tr>\n",
       "    <tr>\n",
       "      <th>17</th>\n",
       "      <td>0.000151</td>\n",
       "      <td>0.004765</td>\n",
       "      <td>0.000147</td>\n",
       "      <td>0.087640</td>\n",
       "      <td>0.054351</td>\n",
       "      <td>0.000197</td>\n",
       "      <td>0.015882</td>\n",
       "      <td>0.001972</td>\n",
       "      <td>0.000218</td>\n",
       "      <td>0.097757</td>\n",
       "      <td>0.001537</td>\n",
       "      <td>0.576313</td>\n",
       "      <td>0.000076</td>\n",
       "      <td>0.026642</td>\n",
       "      <td>0.096018</td>\n",
       "    </tr>\n",
       "    <tr>\n",
       "      <th>23</th>\n",
       "      <td>0.000080</td>\n",
       "      <td>0.001103</td>\n",
       "      <td>0.000092</td>\n",
       "      <td>0.054336</td>\n",
       "      <td>0.013861</td>\n",
       "      <td>0.000125</td>\n",
       "      <td>0.050159</td>\n",
       "      <td>0.006378</td>\n",
       "      <td>0.000147</td>\n",
       "      <td>0.186823</td>\n",
       "      <td>0.000155</td>\n",
       "      <td>0.508671</td>\n",
       "      <td>0.000044</td>\n",
       "      <td>0.033623</td>\n",
       "      <td>0.108804</td>\n",
       "    </tr>\n",
       "    <tr>\n",
       "      <th>34</th>\n",
       "      <td>0.000018</td>\n",
       "      <td>0.000605</td>\n",
       "      <td>0.000017</td>\n",
       "      <td>0.040403</td>\n",
       "      <td>0.162473</td>\n",
       "      <td>0.000038</td>\n",
       "      <td>0.012966</td>\n",
       "      <td>0.000023</td>\n",
       "      <td>0.000040</td>\n",
       "      <td>0.004567</td>\n",
       "      <td>0.000024</td>\n",
       "      <td>0.669535</td>\n",
       "      <td>0.000014</td>\n",
       "      <td>0.000119</td>\n",
       "      <td>0.076302</td>\n",
       "    </tr>\n",
       "  </tbody>\n",
       "</table>\n",
       "</div>"
      ],
      "text/plain": [
       "            class_6  class_15  class_16  class_42  class_52  class_53  \\\n",
       "object_id                                                               \n",
       "13         0.000040  0.000354  0.000024  0.357446  0.379110  0.000061   \n",
       "14         0.000060  0.002804  0.000055  0.114822  0.033061  0.000089   \n",
       "17         0.000151  0.004765  0.000147  0.087640  0.054351  0.000197   \n",
       "23         0.000080  0.001103  0.000092  0.054336  0.013861  0.000125   \n",
       "34         0.000018  0.000605  0.000017  0.040403  0.162473  0.000038   \n",
       "\n",
       "           class_62  class_64  class_65  class_67  class_88  class_90  \\\n",
       "object_id                                                               \n",
       "13         0.050607  0.000019  0.000019  0.001214  0.000070  0.058122   \n",
       "14         0.031412  0.000075  0.000322  0.015856  0.000227  0.679401   \n",
       "17         0.015882  0.001972  0.000218  0.097757  0.001537  0.576313   \n",
       "23         0.050159  0.006378  0.000147  0.186823  0.000155  0.508671   \n",
       "34         0.012966  0.000023  0.000040  0.004567  0.000024  0.669535   \n",
       "\n",
       "           class_92  class_95  class_99  \n",
       "object_id                                \n",
       "13         0.000033  0.000267  0.126435  \n",
       "14         0.000058  0.014515  0.074553  \n",
       "17         0.000076  0.026642  0.096018  \n",
       "23         0.000044  0.033623  0.108804  \n",
       "34         0.000014  0.000119  0.076302  "
      ]
     },
     "execution_count": 16,
     "metadata": {},
     "output_type": "execute_result"
    }
   ],
   "source": [
    "submission.head()"
   ]
  },
  {
   "cell_type": "code",
   "execution_count": 17,
   "metadata": {},
   "outputs": [
    {
     "data": {
      "text/plain": [
       "object_id\n",
       "13    0.973822\n",
       "14    0.967309\n",
       "17    0.963665\n",
       "23    0.964400\n",
       "34    0.967144\n",
       "dtype: float64"
      ]
     },
     "execution_count": 17,
     "metadata": {},
     "output_type": "execute_result"
    }
   ],
   "source": [
    "submission.sum(axis=1).head()"
   ]
  },
  {
   "cell_type": "code",
   "execution_count": 18,
   "metadata": {},
   "outputs": [
    {
     "name": "stdout",
     "output_type": "stream",
     "text": [
      "Submission shape after postprocessing: (3492890, 15)\n"
     ]
    }
   ],
   "source": [
    "# normalization - all classes' probabilities should be equal to 1.0 for each object_id\n",
    "subm_sum = submission.sum(axis=1)\n",
    "for col in submission.columns:\n",
    "    submission[col] = submission[col] / subm_sum\n",
    "max_err = np.max(np.abs(submission.sum(axis=1).values - 1.0))\n",
    "if max_err > 1e-7:\n",
    "    print(f\"Warning: high error in submission normalization: {max_err}\")\n",
    "# round all predictions to float32 so that CSV is twice smaller (Kaggle uses 32-bit accuracy to calculate score anyway)\n",
    "submission = submission.round(decimals=8).astype(np.float32)\n",
    "# make sure index is typed correctly\n",
    "submission.index = submission.index.astype(np.int)\n",
    "print(f\"Submission shape after postprocessing: {submission.shape}\")"
   ]
  },
  {
   "cell_type": "code",
   "execution_count": 19,
   "metadata": {},
   "outputs": [],
   "source": [
    "submission.to_csv('../../submissions/subm_0.603058_2018-12-16-18-13_quarter_reny_with_previous_99_avg.csv')"
   ]
  },
  {
   "cell_type": "code",
   "execution_count": 21,
   "metadata": {},
   "outputs": [
    {
     "data": {
      "text/html": [
       "<div>\n",
       "<style scoped>\n",
       "    .dataframe tbody tr th:only-of-type {\n",
       "        vertical-align: middle;\n",
       "    }\n",
       "\n",
       "    .dataframe tbody tr th {\n",
       "        vertical-align: top;\n",
       "    }\n",
       "\n",
       "    .dataframe thead th {\n",
       "        text-align: right;\n",
       "    }\n",
       "</style>\n",
       "<table border=\"1\" class=\"dataframe\">\n",
       "  <thead>\n",
       "    <tr style=\"text-align: right;\">\n",
       "      <th></th>\n",
       "      <th>class_6</th>\n",
       "      <th>class_15</th>\n",
       "      <th>class_16</th>\n",
       "      <th>class_42</th>\n",
       "      <th>class_52</th>\n",
       "      <th>class_53</th>\n",
       "      <th>class_62</th>\n",
       "      <th>class_64</th>\n",
       "      <th>class_65</th>\n",
       "      <th>class_67</th>\n",
       "      <th>class_88</th>\n",
       "      <th>class_90</th>\n",
       "      <th>class_92</th>\n",
       "      <th>class_95</th>\n",
       "      <th>class_99</th>\n",
       "    </tr>\n",
       "    <tr>\n",
       "      <th>object_id</th>\n",
       "      <th></th>\n",
       "      <th></th>\n",
       "      <th></th>\n",
       "      <th></th>\n",
       "      <th></th>\n",
       "      <th></th>\n",
       "      <th></th>\n",
       "      <th></th>\n",
       "      <th></th>\n",
       "      <th></th>\n",
       "      <th></th>\n",
       "      <th></th>\n",
       "      <th></th>\n",
       "      <th></th>\n",
       "      <th></th>\n",
       "    </tr>\n",
       "  </thead>\n",
       "  <tbody>\n",
       "    <tr>\n",
       "      <th>13</th>\n",
       "      <td>0.000041</td>\n",
       "      <td>0.000363</td>\n",
       "      <td>0.000025</td>\n",
       "      <td>0.367055</td>\n",
       "      <td>0.389301</td>\n",
       "      <td>0.000063</td>\n",
       "      <td>0.051967</td>\n",
       "      <td>0.000019</td>\n",
       "      <td>0.000019</td>\n",
       "      <td>0.001247</td>\n",
       "      <td>0.000072</td>\n",
       "      <td>0.059684</td>\n",
       "      <td>0.000034</td>\n",
       "      <td>0.000275</td>\n",
       "      <td>0.129834</td>\n",
       "    </tr>\n",
       "    <tr>\n",
       "      <th>14</th>\n",
       "      <td>0.000062</td>\n",
       "      <td>0.002898</td>\n",
       "      <td>0.000057</td>\n",
       "      <td>0.118703</td>\n",
       "      <td>0.034178</td>\n",
       "      <td>0.000092</td>\n",
       "      <td>0.032474</td>\n",
       "      <td>0.000077</td>\n",
       "      <td>0.000332</td>\n",
       "      <td>0.016392</td>\n",
       "      <td>0.000235</td>\n",
       "      <td>0.702363</td>\n",
       "      <td>0.000060</td>\n",
       "      <td>0.015005</td>\n",
       "      <td>0.077073</td>\n",
       "    </tr>\n",
       "    <tr>\n",
       "      <th>17</th>\n",
       "      <td>0.000157</td>\n",
       "      <td>0.004944</td>\n",
       "      <td>0.000153</td>\n",
       "      <td>0.090945</td>\n",
       "      <td>0.056401</td>\n",
       "      <td>0.000205</td>\n",
       "      <td>0.016481</td>\n",
       "      <td>0.002046</td>\n",
       "      <td>0.000226</td>\n",
       "      <td>0.101443</td>\n",
       "      <td>0.001595</td>\n",
       "      <td>0.598042</td>\n",
       "      <td>0.000078</td>\n",
       "      <td>0.027647</td>\n",
       "      <td>0.099638</td>\n",
       "    </tr>\n",
       "    <tr>\n",
       "      <th>23</th>\n",
       "      <td>0.000083</td>\n",
       "      <td>0.001144</td>\n",
       "      <td>0.000096</td>\n",
       "      <td>0.056342</td>\n",
       "      <td>0.014372</td>\n",
       "      <td>0.000129</td>\n",
       "      <td>0.052011</td>\n",
       "      <td>0.006613</td>\n",
       "      <td>0.000152</td>\n",
       "      <td>0.193720</td>\n",
       "      <td>0.000160</td>\n",
       "      <td>0.527448</td>\n",
       "      <td>0.000046</td>\n",
       "      <td>0.034865</td>\n",
       "      <td>0.112820</td>\n",
       "    </tr>\n",
       "    <tr>\n",
       "      <th>34</th>\n",
       "      <td>0.000018</td>\n",
       "      <td>0.000626</td>\n",
       "      <td>0.000018</td>\n",
       "      <td>0.041776</td>\n",
       "      <td>0.167992</td>\n",
       "      <td>0.000039</td>\n",
       "      <td>0.013406</td>\n",
       "      <td>0.000024</td>\n",
       "      <td>0.000041</td>\n",
       "      <td>0.004722</td>\n",
       "      <td>0.000025</td>\n",
       "      <td>0.692281</td>\n",
       "      <td>0.000015</td>\n",
       "      <td>0.000123</td>\n",
       "      <td>0.078894</td>\n",
       "    </tr>\n",
       "  </tbody>\n",
       "</table>\n",
       "</div>"
      ],
      "text/plain": [
       "            class_6  class_15  class_16  class_42  class_52  class_53  \\\n",
       "object_id                                                               \n",
       "13         0.000041  0.000363  0.000025  0.367055  0.389301  0.000063   \n",
       "14         0.000062  0.002898  0.000057  0.118703  0.034178  0.000092   \n",
       "17         0.000157  0.004944  0.000153  0.090945  0.056401  0.000205   \n",
       "23         0.000083  0.001144  0.000096  0.056342  0.014372  0.000129   \n",
       "34         0.000018  0.000626  0.000018  0.041776  0.167992  0.000039   \n",
       "\n",
       "           class_62  class_64  class_65  class_67  class_88  class_90  \\\n",
       "object_id                                                               \n",
       "13         0.051967  0.000019  0.000019  0.001247  0.000072  0.059684   \n",
       "14         0.032474  0.000077  0.000332  0.016392  0.000235  0.702363   \n",
       "17         0.016481  0.002046  0.000226  0.101443  0.001595  0.598042   \n",
       "23         0.052011  0.006613  0.000152  0.193720  0.000160  0.527448   \n",
       "34         0.013406  0.000024  0.000041  0.004722  0.000025  0.692281   \n",
       "\n",
       "           class_92  class_95  class_99  \n",
       "object_id                                \n",
       "13         0.000034  0.000275  0.129834  \n",
       "14         0.000060  0.015005  0.077073  \n",
       "17         0.000078  0.027647  0.099638  \n",
       "23         0.000046  0.034865  0.112820  \n",
       "34         0.000015  0.000123  0.078894  "
      ]
     },
     "execution_count": 21,
     "metadata": {},
     "output_type": "execute_result"
    }
   ],
   "source": [
    "submission.head()"
   ]
  },
  {
   "cell_type": "code",
   "execution_count": 23,
   "metadata": {},
   "outputs": [
    {
     "data": {
      "text/plain": [
       "0.10975695"
      ]
     },
     "execution_count": 23,
     "metadata": {},
     "output_type": "execute_result"
    }
   ],
   "source": [
    "submission['class_99'].mean()"
   ]
  }
 ],
 "metadata": {
  "kernelspec": {
   "display_name": "Python 3",
   "language": "python",
   "name": "python3"
  },
  "language_info": {
   "codemirror_mode": {
    "name": "ipython",
    "version": 3
   },
   "file_extension": ".py",
   "mimetype": "text/x-python",
   "name": "python",
   "nbconvert_exporter": "python",
   "pygments_lexer": "ipython3",
   "version": "3.6.6"
  }
 },
 "nbformat": 4,
 "nbformat_minor": 2
}
