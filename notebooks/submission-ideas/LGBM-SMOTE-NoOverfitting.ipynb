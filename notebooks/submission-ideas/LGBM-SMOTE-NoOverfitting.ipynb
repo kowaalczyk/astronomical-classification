{
 "cells": [
  {
   "cell_type": "code",
   "execution_count": 1,
   "metadata": {},
   "outputs": [
    {
     "name": "stderr",
     "output_type": "stream",
     "text": [
      "Using TensorFlow backend.\n"
     ]
    }
   ],
   "source": [
    "import pandas as pd\n",
    "import numpy as np\n",
    "\n",
    "from datetime import datetime as dt\n",
    "from functools import partial, wraps\n",
    "\n",
    "from plasticc.featurize import process_meta, featurize\n",
    "from plasticc.training import path_from_cv_score, train_and_validate\n",
    "from plasticc.final import featurize_test, predict_test"
   ]
  },
  {
   "cell_type": "code",
   "execution_count": 2,
   "metadata": {},
   "outputs": [],
   "source": [
    "%load_ext autoreload\n",
    "%autoreload 2"
   ]
  },
  {
   "cell_type": "code",
   "execution_count": 3,
   "metadata": {},
   "outputs": [],
   "source": [
    "fcp = {\n",
    "    'flux': {\n",
    "        'longest_strike_above_mean': None,\n",
    "        'longest_strike_below_mean': None,\n",
    "        'mean_change': None,\n",
    "        'mean_abs_change': None,\n",
    "        'length': None,\n",
    "    },\n",
    "\n",
    "    'flux_by_flux_ratio_sq': {\n",
    "        'longest_strike_above_mean': None,\n",
    "        'longest_strike_below_mean': None,       \n",
    "    },\n",
    "\n",
    "    'flux_passband': {\n",
    "        'fft_coefficient': [\n",
    "                {'coeff': 0, 'attr': 'abs'}, \n",
    "                {'coeff': 1, 'attr': 'abs'}\n",
    "            ],\n",
    "        'kurtosis' : None, \n",
    "        'skewness' : None,\n",
    "    },\n",
    "\n",
    "    'mjd': {\n",
    "        'maximum': None, \n",
    "        'minimum': None,\n",
    "        'mean_change': None,\n",
    "        'mean_abs_change': None,\n",
    "    },\n",
    "}"
   ]
  },
  {
   "cell_type": "code",
   "execution_count": 4,
   "metadata": {},
   "outputs": [],
   "source": [
    "aggs = {\n",
    "    'flux': ['min', 'max', 'mean', 'median', 'std', 'skew'],\n",
    "    'flux_err': ['min', 'max', 'mean', 'median', 'std', 'skew'],\n",
    "    'detected': ['mean'],\n",
    "    'flux_ratio_sq':['sum', 'skew'],\n",
    "    'flux_by_flux_ratio_sq':['sum','skew'],\n",
    "}"
   ]
  },
  {
   "cell_type": "markdown",
   "metadata": {},
   "source": [
    "### Generate features for model training"
   ]
  },
  {
   "cell_type": "code",
   "execution_count": 5,
   "metadata": {},
   "outputs": [
    {
     "name": "stdout",
     "output_type": "stream",
     "text": [
      "CPU times: user 2.7 s, sys: 328 ms, total: 3.03 s\n",
      "Wall time: 1.77 s\n"
     ]
    }
   ],
   "source": [
    "%%time\n",
    "meta_train = process_meta('../data/raw/training_set_metadata.csv')\n",
    "train = pd.read_csv('../data/raw/training_set.csv')"
   ]
  },
  {
   "cell_type": "code",
   "execution_count": 6,
   "metadata": {
    "scrolled": true
   },
   "outputs": [
    {
     "name": "stderr",
     "output_type": "stream",
     "text": [
      "Feature Extraction: 100%|██████████| 20/20 [00:09<00:00,  2.44it/s]\n",
      "Feature Extraction: 100%|██████████| 20/20 [00:01<00:00, 10.47it/s]\n",
      "Feature Extraction: 100%|██████████| 20/20 [00:01<00:00, 11.53it/s]\n",
      "Feature Extraction: 100%|██████████| 20/20 [00:01<00:00, 19.84it/s]\n"
     ]
    },
    {
     "name": "stdout",
     "output_type": "stream",
     "text": [
      "CPU times: user 1min 10s, sys: 3.01 s, total: 1min 13s\n",
      "Wall time: 32.3 s\n"
     ]
    }
   ],
   "source": [
    "%%time\n",
    "X = featurize(train, meta_train, aggs, fcp, n_jobs=4)"
   ]
  },
  {
   "cell_type": "code",
   "execution_count": 7,
   "metadata": {},
   "outputs": [],
   "source": [
    "if 'target' in X:\n",
    "    y = X['target']\n",
    "    del X['target']\n",
    "else:\n",
    "    print(\"What the duck\")\n",
    "    3//0"
   ]
  },
  {
   "cell_type": "code",
   "execution_count": 8,
   "metadata": {},
   "outputs": [
    {
     "name": "stdout",
     "output_type": "stream",
     "text": [
      "CPU times: user 144 ms, sys: 0 ns, total: 144 ms\n",
      "Wall time: 7.16 ms\n"
     ]
    }
   ],
   "source": [
    "%%time\n",
    "train_mean = X.mean(axis=0)\n",
    "#train_mean.to_hdf('train_data.hdf5', 'data')\n",
    "# pd.set_option('display.max_rows', 500)\n",
    "#import pdb; pdb.set_trace()\n",
    "X.fillna(0, inplace=True)"
   ]
  },
  {
   "cell_type": "markdown",
   "metadata": {},
   "source": [
    "### Train model with CV"
   ]
  },
  {
   "cell_type": "code",
   "execution_count": 18,
   "metadata": {},
   "outputs": [],
   "source": [
    "lgbm_params = {\n",
    "    'device': 'cpu',\n",
    "    'objective': 'multiclass',\n",
    "    'num_class': 14,\n",
    "    'boosting_type': 'gbdt',\n",
    "    'n_jobs': 16,\n",
    "    'max_depth': 6,\n",
    "    'n_estimators': 1024,\n",
    "    'subsample_freq': 2,\n",
    "    'subsample_for_bin': 5000,\n",
    "    'min_data_per_group': 100,\n",
    "    'max_cat_to_onehot': 4,\n",
    "    'cat_l2': 1.0,\n",
    "    'cat_smooth': 59.5,\n",
    "    'max_cat_threshold': 32,\n",
    "    'metric_freq': 10,\n",
    "    'verbosity': -1,\n",
    "    'metric': 'multi_logloss',\n",
    "    'xgboost_dart_mode': False,\n",
    "    'uniform_drop': False,\n",
    "    'colsample_bytree': 0.5,\n",
    "    'drop_rate': 0.173,\n",
    "    'learning_rate': 0.0267,\n",
    "    'max_drop': 5,\n",
    "    'min_child_samples': 10,\n",
    "    'min_child_weight': 100.0,\n",
    "    'min_split_gain': 0.126,\n",
    "    'num_leaves': 7,\n",
    "    'reg_alpha': 0.1,\n",
    "    'reg_lambda': 0.00023,\n",
    "    'skip_drop': 0.44,\n",
    "    'subsample': 0.75,\n",
    "    'max_bin': 32,\n",
    "    'min_data_in_leaf': 13,\n",
    "    'lambda_l1': 2,\n",
    "}\n",
    "\n",
    "\n",
    "xgb_params = {\n",
    "    'objective': 'multiclass',\n",
    "    'booster': 'gbdtree',\n",
    "    'n_jobs': 16,\n",
    "    'max_depth': 7,\n",
    "    'n_estimators': 1024,\n",
    "    'verbosity': -1,\n",
    "    'colsample_bytree': 0.5,\n",
    "    'learning_rate': 0.0267,\n",
    "    'min_child_weight': 100.0,\n",
    "    'reg_alpha': 0.1,\n",
    "    'reg_lambda': 0.00023,\n",
    "    'subsample': 0.75\n",
    "}"
   ]
  },
  {
   "cell_type": "code",
   "execution_count": 19,
   "metadata": {},
   "outputs": [],
   "source": [
    "colnames_to_ignore = set([\n",
    "    'object_id',\n",
    "    'hostgal_specz',\n",
    "    'ra',\n",
    "    'decl',\n",
    "    'gal_l',\n",
    "    'gal_b',\n",
    "    'ddf',\n",
    "    'latlon1',\n",
    "    'haversine',\n",
    "])\n",
    "feature_colnames = [col for col in X.columns if col not in colnames_to_ignore]\n",
    "id_colname = 'object_id'"
   ]
  },
  {
   "cell_type": "code",
   "execution_count": 20,
   "metadata": {},
   "outputs": [
    {
     "data": {
      "text/plain": [
       "60"
      ]
     },
     "execution_count": 20,
     "metadata": {},
     "output_type": "execute_result"
    }
   ],
   "source": [
    "len(feature_colnames)"
   ]
  },
  {
   "cell_type": "code",
   "execution_count": 21,
   "metadata": {},
   "outputs": [
    {
     "name": "stdout",
     "output_type": "stream",
     "text": [
      "Training until validation scores don't improve for 50 rounds.\n",
      "[100]\ttraining's multi_logloss: 0.340002\ttraining's wloss: 0.8295\tvalid_1's multi_logloss: 1.72625\tvalid_1's wloss: 1.02895\n",
      "[200]\ttraining's multi_logloss: 0.182281\ttraining's wloss: 0.552799\tvalid_1's multi_logloss: 1.35969\tvalid_1's wloss: 0.774142\n",
      "[300]\ttraining's multi_logloss: 0.135836\ttraining's wloss: 0.44372\tvalid_1's multi_logloss: 1.19622\tvalid_1's wloss: 0.705004\n",
      "[400]\ttraining's multi_logloss: 0.112114\ttraining's wloss: 0.380978\tvalid_1's multi_logloss: 1.10718\tvalid_1's wloss: 0.681572\n",
      "[500]\ttraining's multi_logloss: 0.0965806\ttraining's wloss: 0.337432\tvalid_1's multi_logloss: 1.0476\tvalid_1's wloss: 0.6709\n",
      "[600]\ttraining's multi_logloss: 0.0850397\ttraining's wloss: 0.303567\tvalid_1's multi_logloss: 0.999548\tvalid_1's wloss: 0.666795\n",
      "Early stopping, best iteration is:\n",
      "[612]\ttraining's multi_logloss: 0.0838321\ttraining's wloss: 0.299934\tvalid_1's multi_logloss: 0.994546\tvalid_1's wloss: 0.666546\n",
      "no 1-fold loss: 0.6665459452601948\n",
      "Training until validation scores don't improve for 50 rounds.\n",
      "[100]\ttraining's multi_logloss: 0.346652\ttraining's wloss: 0.837362\tvalid_1's multi_logloss: 1.73092\tvalid_1's wloss: 1.03405\n",
      "[200]\ttraining's multi_logloss: 0.185462\ttraining's wloss: 0.558025\tvalid_1's multi_logloss: 1.37771\tvalid_1's wloss: 0.787896\n",
      "[300]\ttraining's multi_logloss: 0.137632\ttraining's wloss: 0.449072\tvalid_1's multi_logloss: 1.21966\tvalid_1's wloss: 0.707386\n",
      "[400]\ttraining's multi_logloss: 0.113535\ttraining's wloss: 0.386766\tvalid_1's multi_logloss: 1.13209\tvalid_1's wloss: 0.674424\n",
      "[500]\ttraining's multi_logloss: 0.0979227\ttraining's wloss: 0.343275\tvalid_1's multi_logloss: 1.07262\tvalid_1's wloss: 0.662208\n",
      "[600]\ttraining's multi_logloss: 0.0862208\ttraining's wloss: 0.309232\tvalid_1's multi_logloss: 1.02686\tvalid_1's wloss: 0.658126\n",
      "[700]\ttraining's multi_logloss: 0.0770105\ttraining's wloss: 0.281628\tvalid_1's multi_logloss: 0.989039\tvalid_1's wloss: 0.6573\n",
      "Early stopping, best iteration is:\n",
      "[657]\ttraining's multi_logloss: 0.0807566\ttraining's wloss: 0.292984\tvalid_1's multi_logloss: 1.00497\tvalid_1's wloss: 0.656728\n",
      "no 2-fold loss: 0.6567275652931513\n",
      "Training until validation scores don't improve for 50 rounds.\n",
      "[100]\ttraining's multi_logloss: 0.340901\ttraining's wloss: 0.832252\tvalid_1's multi_logloss: 1.6862\tvalid_1's wloss: 1.0038\n",
      "[200]\ttraining's multi_logloss: 0.183154\ttraining's wloss: 0.556982\tvalid_1's multi_logloss: 1.31668\tvalid_1's wloss: 0.746544\n",
      "[300]\ttraining's multi_logloss: 0.137165\ttraining's wloss: 0.449979\tvalid_1's multi_logloss: 1.15324\tvalid_1's wloss: 0.674621\n",
      "[400]\ttraining's multi_logloss: 0.113525\ttraining's wloss: 0.386801\tvalid_1's multi_logloss: 1.05776\tvalid_1's wloss: 0.647197\n",
      "[500]\ttraining's multi_logloss: 0.0981906\ttraining's wloss: 0.343333\tvalid_1's multi_logloss: 0.997335\tvalid_1's wloss: 0.635679\n",
      "[600]\ttraining's multi_logloss: 0.0866337\ttraining's wloss: 0.309962\tvalid_1's multi_logloss: 0.951858\tvalid_1's wloss: 0.626065\n",
      "[700]\ttraining's multi_logloss: 0.0772874\ttraining's wloss: 0.282116\tvalid_1's multi_logloss: 0.913504\tvalid_1's wloss: 0.617785\n",
      "[800]\ttraining's multi_logloss: 0.0695893\ttraining's wloss: 0.25865\tvalid_1's multi_logloss: 0.883928\tvalid_1's wloss: 0.61345\n",
      "[900]\ttraining's multi_logloss: 0.0631862\ttraining's wloss: 0.238804\tvalid_1's multi_logloss: 0.858447\tvalid_1's wloss: 0.611303\n",
      "[1000]\ttraining's multi_logloss: 0.0576528\ttraining's wloss: 0.221151\tvalid_1's multi_logloss: 0.836386\tvalid_1's wloss: 0.610704\n",
      "Did not meet early stopping. Best iteration is:\n",
      "[1024]\ttraining's multi_logloss: 0.0564751\ttraining's wloss: 0.217389\tvalid_1's multi_logloss: 0.832186\tvalid_1's wloss: 0.610612\n",
      "no 3-fold loss: 0.6106115886536472\n",
      "Training until validation scores don't improve for 50 rounds.\n",
      "[100]\ttraining's multi_logloss: 0.345562\ttraining's wloss: 0.841416\tvalid_1's multi_logloss: 1.73446\tvalid_1's wloss: 1.0026\n",
      "[200]\ttraining's multi_logloss: 0.185338\ttraining's wloss: 0.562155\tvalid_1's multi_logloss: 1.37666\tvalid_1's wloss: 0.75318\n",
      "[300]\ttraining's multi_logloss: 0.138072\ttraining's wloss: 0.453151\tvalid_1's multi_logloss: 1.21575\tvalid_1's wloss: 0.674837\n",
      "[400]\ttraining's multi_logloss: 0.113728\ttraining's wloss: 0.388954\tvalid_1's multi_logloss: 1.11924\tvalid_1's wloss: 0.642842\n",
      "[500]\ttraining's multi_logloss: 0.0980394\ttraining's wloss: 0.344947\tvalid_1's multi_logloss: 1.05\tvalid_1's wloss: 0.628967\n",
      "[600]\ttraining's multi_logloss: 0.0862897\ttraining's wloss: 0.310537\tvalid_1's multi_logloss: 1.00042\tvalid_1's wloss: 0.618941\n",
      "[700]\ttraining's multi_logloss: 0.0770178\ttraining's wloss: 0.283076\tvalid_1's multi_logloss: 0.960189\tvalid_1's wloss: 0.614245\n",
      "Early stopping, best iteration is:\n",
      "[702]\ttraining's multi_logloss: 0.076861\ttraining's wloss: 0.28259\tvalid_1's multi_logloss: 0.959613\tvalid_1's wloss: 0.613953\n",
      "no 4-fold loss: 0.6139533551440934\n",
      "Training until validation scores don't improve for 50 rounds.\n",
      "[100]\ttraining's multi_logloss: 0.341353\ttraining's wloss: 0.833461\tvalid_1's multi_logloss: 1.73096\tvalid_1's wloss: 1.04441\n",
      "[200]\ttraining's multi_logloss: 0.181736\ttraining's wloss: 0.556354\tvalid_1's multi_logloss: 1.34214\tvalid_1's wloss: 0.77741\n",
      "[300]\ttraining's multi_logloss: 0.134486\ttraining's wloss: 0.444307\tvalid_1's multi_logloss: 1.16341\tvalid_1's wloss: 0.696044\n",
      "[400]\ttraining's multi_logloss: 0.110699\ttraining's wloss: 0.380217\tvalid_1's multi_logloss: 1.061\tvalid_1's wloss: 0.661349\n",
      "[500]\ttraining's multi_logloss: 0.0952355\ttraining's wloss: 0.336443\tvalid_1's multi_logloss: 0.993122\tvalid_1's wloss: 0.646341\n",
      "[600]\ttraining's multi_logloss: 0.0838872\ttraining's wloss: 0.303307\tvalid_1's multi_logloss: 0.946619\tvalid_1's wloss: 0.639543\n",
      "[700]\ttraining's multi_logloss: 0.074794\ttraining's wloss: 0.276075\tvalid_1's multi_logloss: 0.909713\tvalid_1's wloss: 0.636268\n",
      "Early stopping, best iteration is:\n",
      "[696]\ttraining's multi_logloss: 0.0751187\ttraining's wloss: 0.276993\tvalid_1's multi_logloss: 0.910738\tvalid_1's wloss: 0.635804\n",
      "no 5-fold loss: 0.6358044325481068\n",
      "Training until validation scores don't improve for 50 rounds.\n",
      "[100]\ttraining's multi_logloss: 0.341232\ttraining's wloss: 0.837756\tvalid_1's multi_logloss: 1.75678\tvalid_1's wloss: 1.05129\n",
      "[200]\ttraining's multi_logloss: 0.182666\ttraining's wloss: 0.55953\tvalid_1's multi_logloss: 1.37624\tvalid_1's wloss: 0.785067\n",
      "[300]\ttraining's multi_logloss: 0.136335\ttraining's wloss: 0.451418\tvalid_1's multi_logloss: 1.20582\tvalid_1's wloss: 0.701763\n",
      "[400]\ttraining's multi_logloss: 0.112865\ttraining's wloss: 0.389285\tvalid_1's multi_logloss: 1.10844\tvalid_1's wloss: 0.666262\n",
      "[500]\ttraining's multi_logloss: 0.0976116\ttraining's wloss: 0.346145\tvalid_1's multi_logloss: 1.03989\tvalid_1's wloss: 0.647421\n",
      "[600]\ttraining's multi_logloss: 0.086041\ttraining's wloss: 0.312107\tvalid_1's multi_logloss: 0.987731\tvalid_1's wloss: 0.631981\n",
      "[700]\ttraining's multi_logloss: 0.0770326\ttraining's wloss: 0.284495\tvalid_1's multi_logloss: 0.947179\tvalid_1's wloss: 0.626253\n",
      "[800]\ttraining's multi_logloss: 0.0695178\ttraining's wloss: 0.261258\tvalid_1's multi_logloss: 0.913507\tvalid_1's wloss: 0.622324\n",
      "[900]\ttraining's multi_logloss: 0.0631805\ttraining's wloss: 0.241133\tvalid_1's multi_logloss: 0.883002\tvalid_1's wloss: 0.619242\n",
      "[1000]\ttraining's multi_logloss: 0.0576751\ttraining's wloss: 0.223541\tvalid_1's multi_logloss: 0.859118\tvalid_1's wloss: 0.618897\n",
      "Did not meet early stopping. Best iteration is:\n",
      "[1024]\ttraining's multi_logloss: 0.0564592\ttraining's wloss: 0.219679\tvalid_1's multi_logloss: 0.854183\tvalid_1's wloss: 0.619211\n",
      "no 6-fold loss: 0.6192109922355433\n",
      "MULTI WEIGHTED LOG LOSS: 0.63389\n",
      "CPU times: user 47min 54s, sys: 1.52 s, total: 47min 56s\n",
      "Wall time: 3min\n"
     ]
    }
   ],
   "source": [
    "%%time\n",
    "# modeling from CV\n",
    "clfs, score, importances = train_and_validate(\n",
    "    X=X, \n",
    "    y=y, \n",
    "    feature_colnames=feature_colnames, \n",
    "    id_colname=id_colname, \n",
    "    model='lgbm', \n",
    "    model_params=lgbm_params, \n",
    "    nr_fold=6, \n",
    "    random_state=1\n",
    ")"
   ]
  },
  {
   "cell_type": "code",
   "execution_count": 22,
   "metadata": {},
   "outputs": [
    {
     "data": {
      "text/html": [
       "<div>\n",
       "<style scoped>\n",
       "    .dataframe tbody tr th:only-of-type {\n",
       "        vertical-align: middle;\n",
       "    }\n",
       "\n",
       "    .dataframe tbody tr th {\n",
       "        vertical-align: top;\n",
       "    }\n",
       "\n",
       "    .dataframe thead th {\n",
       "        text-align: right;\n",
       "    }\n",
       "</style>\n",
       "<table border=\"1\" class=\"dataframe\">\n",
       "  <thead>\n",
       "    <tr style=\"text-align: right;\">\n",
       "      <th></th>\n",
       "      <th>feature</th>\n",
       "      <th>gain</th>\n",
       "      <th>fold</th>\n",
       "      <th>mean_gain</th>\n",
       "    </tr>\n",
       "  </thead>\n",
       "  <tbody>\n",
       "    <tr>\n",
       "      <th>54</th>\n",
       "      <td>mjd_diff_det</td>\n",
       "      <td>2485</td>\n",
       "      <td>5</td>\n",
       "      <td>2623.500000</td>\n",
       "    </tr>\n",
       "    <tr>\n",
       "      <th>54</th>\n",
       "      <td>mjd_diff_det</td>\n",
       "      <td>2308</td>\n",
       "      <td>2</td>\n",
       "      <td>2623.500000</td>\n",
       "    </tr>\n",
       "    <tr>\n",
       "      <th>54</th>\n",
       "      <td>mjd_diff_det</td>\n",
       "      <td>2845</td>\n",
       "      <td>3</td>\n",
       "      <td>2623.500000</td>\n",
       "    </tr>\n",
       "    <tr>\n",
       "      <th>54</th>\n",
       "      <td>mjd_diff_det</td>\n",
       "      <td>2656</td>\n",
       "      <td>4</td>\n",
       "      <td>2623.500000</td>\n",
       "    </tr>\n",
       "    <tr>\n",
       "      <th>54</th>\n",
       "      <td>mjd_diff_det</td>\n",
       "      <td>3017</td>\n",
       "      <td>6</td>\n",
       "      <td>2623.500000</td>\n",
       "    </tr>\n",
       "    <tr>\n",
       "      <th>54</th>\n",
       "      <td>mjd_diff_det</td>\n",
       "      <td>2430</td>\n",
       "      <td>1</td>\n",
       "      <td>2623.500000</td>\n",
       "    </tr>\n",
       "    <tr>\n",
       "      <th>57</th>\n",
       "      <td>distmod</td>\n",
       "      <td>2692</td>\n",
       "      <td>6</td>\n",
       "      <td>2182.833333</td>\n",
       "    </tr>\n",
       "    <tr>\n",
       "      <th>57</th>\n",
       "      <td>distmod</td>\n",
       "      <td>2050</td>\n",
       "      <td>5</td>\n",
       "      <td>2182.833333</td>\n",
       "    </tr>\n",
       "    <tr>\n",
       "      <th>57</th>\n",
       "      <td>distmod</td>\n",
       "      <td>2085</td>\n",
       "      <td>4</td>\n",
       "      <td>2182.833333</td>\n",
       "    </tr>\n",
       "    <tr>\n",
       "      <th>57</th>\n",
       "      <td>distmod</td>\n",
       "      <td>2461</td>\n",
       "      <td>3</td>\n",
       "      <td>2182.833333</td>\n",
       "    </tr>\n",
       "    <tr>\n",
       "      <th>57</th>\n",
       "      <td>distmod</td>\n",
       "      <td>1968</td>\n",
       "      <td>2</td>\n",
       "      <td>2182.833333</td>\n",
       "    </tr>\n",
       "    <tr>\n",
       "      <th>57</th>\n",
       "      <td>distmod</td>\n",
       "      <td>1841</td>\n",
       "      <td>1</td>\n",
       "      <td>2182.833333</td>\n",
       "    </tr>\n",
       "    <tr>\n",
       "      <th>55</th>\n",
       "      <td>hostgal_photoz</td>\n",
       "      <td>1851</td>\n",
       "      <td>5</td>\n",
       "      <td>1941.666667</td>\n",
       "    </tr>\n",
       "    <tr>\n",
       "      <th>55</th>\n",
       "      <td>hostgal_photoz</td>\n",
       "      <td>2065</td>\n",
       "      <td>3</td>\n",
       "      <td>1941.666667</td>\n",
       "    </tr>\n",
       "    <tr>\n",
       "      <th>55</th>\n",
       "      <td>hostgal_photoz</td>\n",
       "      <td>1901</td>\n",
       "      <td>2</td>\n",
       "      <td>1941.666667</td>\n",
       "    </tr>\n",
       "  </tbody>\n",
       "</table>\n",
       "</div>"
      ],
      "text/plain": [
       "           feature  gain  fold    mean_gain\n",
       "54    mjd_diff_det  2485     5  2623.500000\n",
       "54    mjd_diff_det  2308     2  2623.500000\n",
       "54    mjd_diff_det  2845     3  2623.500000\n",
       "54    mjd_diff_det  2656     4  2623.500000\n",
       "54    mjd_diff_det  3017     6  2623.500000\n",
       "54    mjd_diff_det  2430     1  2623.500000\n",
       "57         distmod  2692     6  2182.833333\n",
       "57         distmod  2050     5  2182.833333\n",
       "57         distmod  2085     4  2182.833333\n",
       "57         distmod  2461     3  2182.833333\n",
       "57         distmod  1968     2  2182.833333\n",
       "57         distmod  1841     1  2182.833333\n",
       "55  hostgal_photoz  1851     5  1941.666667\n",
       "55  hostgal_photoz  2065     3  1941.666667\n",
       "55  hostgal_photoz  1901     2  1941.666667"
      ]
     },
     "execution_count": 22,
     "metadata": {},
     "output_type": "execute_result"
    }
   ],
   "source": [
    "importances.sort_values(by='mean_gain', ascending=False).head(15)"
   ]
  },
  {
   "cell_type": "code",
   "execution_count": 23,
   "metadata": {},
   "outputs": [
    {
     "data": {
      "text/plain": [
       "'/home/kk385830/astronomical-classification/submissions/subm_0.633887_2018-12-12-20-10.csv'"
      ]
     },
     "execution_count": 23,
     "metadata": {},
     "output_type": "execute_result"
    }
   ],
   "source": [
    "submission_file_path = path_from_cv_score(score)\n",
    "submission_file_path"
   ]
  },
  {
   "cell_type": "markdown",
   "metadata": {},
   "source": [
    "### Test set features"
   ]
  },
  {
   "cell_type": "code",
   "execution_count": 14,
   "metadata": {},
   "outputs": [
    {
     "data": {
      "text/plain": [
       "4536532"
      ]
     },
     "execution_count": 14,
     "metadata": {},
     "output_type": "execute_result"
    }
   ],
   "source": [
    "chunk_size_one_100 = 453653105 // 100 + 1\n",
    "# chunk_size_one_100 = 1000001 // 100 + 1\n",
    "chunk_size_one_100"
   ]
  },
  {
   "cell_type": "code",
   "execution_count": null,
   "metadata": {},
   "outputs": [
    {
     "name": "stderr",
     "output_type": "stream",
     "text": [
      "Feature Extraction: 100%|██████████| 60/60 [00:10<00:00,  5.83it/s]\n",
      "Feature Extraction: 100%|██████████| 60/60 [00:02<00:00, 23.79it/s]\n",
      "Feature Extraction: 100%|██████████| 60/60 [00:02<00:00, 29.98it/s]\n",
      "Feature Extraction: 100%|██████████| 60/60 [00:01<00:00, 37.97it/s]\n"
     ]
    },
    {
     "name": "stdout",
     "output_type": "stream",
     "text": [
      "        4536532 done in   1.0 minutes\n"
     ]
    },
    {
     "name": "stderr",
     "output_type": "stream",
     "text": [
      "Feature Extraction: 100%|██████████| 60/60 [00:12<00:00,  4.89it/s]\n",
      "Feature Extraction: 100%|██████████| 60/60 [00:02<00:00, 27.38it/s]\n",
      "Feature Extraction: 100%|██████████| 60/60 [00:01<00:00, 32.15it/s]\n",
      "Feature Extraction: 100%|██████████| 60/60 [00:01<00:00, 38.33it/s]\n"
     ]
    },
    {
     "name": "stdout",
     "output_type": "stream",
     "text": [
      "        9073064 done in   1.9 minutes\n"
     ]
    },
    {
     "name": "stderr",
     "output_type": "stream",
     "text": [
      "Feature Extraction: 100%|██████████| 60/60 [00:21<00:00,  2.74it/s]\n",
      "Feature Extraction: 100%|██████████| 60/60 [00:04<00:00, 14.76it/s]\n",
      "Feature Extraction: 100%|██████████| 60/60 [00:03<00:00, 16.32it/s]\n",
      "Feature Extraction: 100%|██████████| 60/60 [00:03<00:00, 18.97it/s]\n"
     ]
    },
    {
     "name": "stdout",
     "output_type": "stream",
     "text": [
      "       13609596 done in   3.4 minutes\n"
     ]
    },
    {
     "name": "stderr",
     "output_type": "stream",
     "text": [
      "Feature Extraction: 100%|██████████| 60/60 [00:28<00:00,  2.48it/s]\n",
      "Feature Extraction: 100%|██████████| 60/60 [00:05<00:00, 11.41it/s]\n",
      "Feature Extraction: 100%|██████████| 60/60 [00:05<00:00, 11.92it/s]\n",
      "Feature Extraction: 100%|██████████| 60/60 [00:04<00:00, 13.12it/s]\n"
     ]
    },
    {
     "name": "stdout",
     "output_type": "stream",
     "text": [
      "       18146128 done in   5.4 minutes\n"
     ]
    },
    {
     "name": "stderr",
     "output_type": "stream",
     "text": [
      "Feature Extraction: 100%|██████████| 60/60 [00:26<00:00,  2.38it/s]\n",
      "Feature Extraction: 100%|██████████| 60/60 [00:04<00:00, 12.12it/s]\n",
      "Feature Extraction: 100%|██████████| 60/60 [00:04<00:00, 12.71it/s]\n",
      "Feature Extraction: 100%|██████████| 60/60 [00:04<00:00, 14.09it/s]\n"
     ]
    },
    {
     "name": "stdout",
     "output_type": "stream",
     "text": [
      "       22682660 done in   7.3 minutes\n"
     ]
    },
    {
     "name": "stderr",
     "output_type": "stream",
     "text": [
      "Feature Extraction: 100%|██████████| 60/60 [00:27<00:00,  2.17it/s]\n",
      "Feature Extraction: 100%|██████████| 60/60 [00:05<00:00, 11.30it/s]\n",
      "Feature Extraction: 100%|██████████| 60/60 [00:04<00:00, 12.34it/s]\n",
      "Feature Extraction: 100%|██████████| 60/60 [00:04<00:00, 14.16it/s]\n"
     ]
    },
    {
     "name": "stdout",
     "output_type": "stream",
     "text": [
      "       27219192 done in   9.3 minutes\n"
     ]
    },
    {
     "name": "stderr",
     "output_type": "stream",
     "text": [
      "Feature Extraction: 100%|██████████| 60/60 [00:26<00:00,  2.69it/s]\n",
      "Feature Extraction: 100%|██████████| 60/60 [00:05<00:00, 11.41it/s]\n",
      "Feature Extraction: 100%|██████████| 60/60 [00:04<00:00, 14.81it/s]\n",
      "Feature Extraction: 100%|██████████| 60/60 [00:04<00:00, 13.16it/s]\n"
     ]
    },
    {
     "name": "stdout",
     "output_type": "stream",
     "text": [
      "       31755724 done in  11.2 minutes\n"
     ]
    },
    {
     "name": "stderr",
     "output_type": "stream",
     "text": [
      "Feature Extraction: 100%|██████████| 60/60 [00:26<00:00,  2.23it/s]\n",
      "Feature Extraction: 100%|██████████| 60/60 [00:05<00:00, 15.03it/s]\n",
      "Feature Extraction: 100%|██████████| 60/60 [00:04<00:00, 12.47it/s]\n",
      "Feature Extraction: 100%|██████████| 60/60 [00:04<00:00, 13.69it/s]\n"
     ]
    },
    {
     "name": "stdout",
     "output_type": "stream",
     "text": [
      "       36292256 done in  13.1 minutes\n"
     ]
    },
    {
     "name": "stderr",
     "output_type": "stream",
     "text": [
      "Feature Extraction: 100%|██████████| 60/60 [00:26<00:00,  2.33it/s]\n",
      "Feature Extraction: 100%|██████████| 60/60 [00:05<00:00, 11.39it/s]\n",
      "Feature Extraction: 100%|██████████| 60/60 [00:05<00:00, 11.95it/s]\n",
      "Feature Extraction: 100%|██████████| 60/60 [00:04<00:00, 14.10it/s]\n"
     ]
    },
    {
     "name": "stdout",
     "output_type": "stream",
     "text": [
      "       40828788 done in  15.0 minutes\n"
     ]
    },
    {
     "name": "stderr",
     "output_type": "stream",
     "text": [
      "Feature Extraction: 100%|██████████| 60/60 [00:26<00:00,  2.24it/s]\n",
      "Feature Extraction: 100%|██████████| 60/60 [00:05<00:00, 11.05it/s]\n",
      "Feature Extraction: 100%|██████████| 60/60 [00:04<00:00, 12.51it/s]\n",
      "Feature Extraction: 100%|██████████| 60/60 [00:04<00:00, 15.10it/s]\n"
     ]
    },
    {
     "name": "stdout",
     "output_type": "stream",
     "text": [
      "       45365320 done in  16.9 minutes\n"
     ]
    },
    {
     "name": "stderr",
     "output_type": "stream",
     "text": [
      "Feature Extraction: 100%|██████████| 60/60 [00:27<00:00,  2.70it/s]\n",
      "Feature Extraction: 100%|██████████| 60/60 [00:05<00:00, 11.27it/s]\n",
      "Feature Extraction: 100%|██████████| 60/60 [00:05<00:00, 11.95it/s]\n",
      "Feature Extraction: 100%|██████████| 60/60 [00:04<00:00, 12.35it/s]\n"
     ]
    },
    {
     "name": "stdout",
     "output_type": "stream",
     "text": [
      "       49901852 done in  18.8 minutes\n"
     ]
    },
    {
     "name": "stderr",
     "output_type": "stream",
     "text": [
      "Feature Extraction: 100%|██████████| 60/60 [00:28<00:00,  2.46it/s]\n",
      "Feature Extraction: 100%|██████████| 60/60 [00:05<00:00, 11.72it/s]\n",
      "Feature Extraction: 100%|██████████| 60/60 [00:04<00:00, 12.60it/s]\n",
      "Feature Extraction: 100%|██████████| 60/60 [00:04<00:00, 10.89it/s]\n"
     ]
    },
    {
     "name": "stdout",
     "output_type": "stream",
     "text": [
      "       54438384 done in  20.7 minutes\n"
     ]
    },
    {
     "name": "stderr",
     "output_type": "stream",
     "text": [
      "Feature Extraction: 100%|██████████| 60/60 [00:26<00:00,  2.71it/s]\n",
      "Feature Extraction: 100%|██████████| 60/60 [00:05<00:00, 14.13it/s]\n",
      "Feature Extraction: 100%|██████████| 60/60 [00:04<00:00, 12.31it/s]\n",
      "Feature Extraction: 100%|██████████| 60/60 [00:04<00:00, 13.96it/s]\n"
     ]
    },
    {
     "name": "stdout",
     "output_type": "stream",
     "text": [
      "       58974916 done in  22.6 minutes\n"
     ]
    },
    {
     "name": "stderr",
     "output_type": "stream",
     "text": [
      "Feature Extraction: 100%|██████████| 60/60 [00:27<00:00,  2.18it/s]\n",
      "Feature Extraction: 100%|██████████| 60/60 [00:04<00:00, 15.67it/s]\n",
      "Feature Extraction: 100%|██████████| 60/60 [00:04<00:00, 12.85it/s]\n",
      "Feature Extraction: 100%|██████████| 60/60 [00:04<00:00, 13.82it/s]\n"
     ]
    },
    {
     "name": "stdout",
     "output_type": "stream",
     "text": [
      "       63511448 done in  24.5 minutes\n"
     ]
    },
    {
     "name": "stderr",
     "output_type": "stream",
     "text": [
      "Feature Extraction: 100%|██████████| 60/60 [00:28<00:00,  2.36it/s]\n",
      "Feature Extraction: 100%|██████████| 60/60 [00:05<00:00, 13.39it/s]\n",
      "Feature Extraction: 100%|██████████| 60/60 [00:04<00:00, 12.46it/s]\n",
      "Feature Extraction: 100%|██████████| 60/60 [00:04<00:00, 13.12it/s]\n"
     ]
    },
    {
     "name": "stdout",
     "output_type": "stream",
     "text": [
      "       68047980 done in  26.4 minutes\n"
     ]
    },
    {
     "name": "stderr",
     "output_type": "stream",
     "text": [
      "Feature Extraction: 100%|██████████| 60/60 [00:26<00:00,  2.47it/s]\n",
      "Feature Extraction: 100%|██████████| 60/60 [00:05<00:00, 12.71it/s]\n",
      "Feature Extraction: 100%|██████████| 60/60 [00:04<00:00, 12.77it/s]\n",
      "Feature Extraction: 100%|██████████| 60/60 [00:04<00:00, 13.20it/s]\n"
     ]
    },
    {
     "name": "stdout",
     "output_type": "stream",
     "text": [
      "       72584512 done in  28.3 minutes\n"
     ]
    },
    {
     "name": "stderr",
     "output_type": "stream",
     "text": [
      "Feature Extraction: 100%|██████████| 60/60 [00:25<00:00,  2.90it/s]\n",
      "Feature Extraction: 100%|██████████| 60/60 [00:05<00:00, 11.57it/s]\n",
      "Feature Extraction: 100%|██████████| 60/60 [00:04<00:00, 14.17it/s]\n",
      "Feature Extraction: 100%|██████████| 60/60 [00:04<00:00, 14.68it/s]\n"
     ]
    },
    {
     "name": "stdout",
     "output_type": "stream",
     "text": [
      "       77121044 done in  30.1 minutes\n"
     ]
    },
    {
     "name": "stderr",
     "output_type": "stream",
     "text": [
      "Feature Extraction: 100%|██████████| 60/60 [00:26<00:00,  2.34it/s]\n",
      "Feature Extraction: 100%|██████████| 60/60 [00:04<00:00, 12.21it/s]\n",
      "Feature Extraction: 100%|██████████| 60/60 [00:04<00:00, 12.83it/s]\n",
      "Feature Extraction: 100%|██████████| 60/60 [00:04<00:00, 14.58it/s]\n"
     ]
    },
    {
     "name": "stdout",
     "output_type": "stream",
     "text": [
      "       81657576 done in  32.0 minutes\n"
     ]
    },
    {
     "name": "stderr",
     "output_type": "stream",
     "text": [
      "Feature Extraction: 100%|██████████| 60/60 [00:26<00:00,  2.47it/s]\n",
      "Feature Extraction: 100%|██████████| 60/60 [00:05<00:00, 13.16it/s]\n",
      "Feature Extraction: 100%|██████████| 60/60 [00:04<00:00, 12.95it/s]\n",
      "Feature Extraction: 100%|██████████| 60/60 [00:04<00:00, 16.41it/s]\n"
     ]
    },
    {
     "name": "stdout",
     "output_type": "stream",
     "text": [
      "       86194108 done in  33.9 minutes\n"
     ]
    },
    {
     "name": "stderr",
     "output_type": "stream",
     "text": [
      "Feature Extraction: 100%|██████████| 60/60 [00:27<00:00,  3.14it/s]\n",
      "Feature Extraction: 100%|██████████| 60/60 [00:05<00:00, 11.27it/s]\n",
      "Feature Extraction: 100%|██████████| 60/60 [00:04<00:00, 12.64it/s]\n",
      "Feature Extraction: 100%|██████████| 60/60 [00:04<00:00, 13.39it/s]\n"
     ]
    },
    {
     "name": "stdout",
     "output_type": "stream",
     "text": [
      "       90730640 done in  35.8 minutes\n"
     ]
    },
    {
     "name": "stderr",
     "output_type": "stream",
     "text": [
      "Feature Extraction: 100%|██████████| 60/60 [00:26<00:00,  2.62it/s]\n",
      "Feature Extraction: 100%|██████████| 60/60 [00:04<00:00, 14.46it/s]\n",
      "Feature Extraction: 100%|██████████| 60/60 [00:04<00:00, 12.86it/s]\n",
      "Feature Extraction: 100%|██████████| 60/60 [00:04<00:00, 14.05it/s]\n"
     ]
    },
    {
     "name": "stdout",
     "output_type": "stream",
     "text": [
      "       95267172 done in  37.7 minutes\n"
     ]
    },
    {
     "name": "stderr",
     "output_type": "stream",
     "text": [
      "Feature Extraction: 100%|██████████| 60/60 [00:27<00:00,  2.19it/s]\n",
      "Feature Extraction: 100%|██████████| 60/60 [00:04<00:00, 14.93it/s]\n",
      "Feature Extraction: 100%|██████████| 60/60 [00:04<00:00, 13.33it/s]\n",
      "Feature Extraction: 100%|██████████| 60/60 [00:04<00:00, 15.90it/s]\n"
     ]
    },
    {
     "name": "stdout",
     "output_type": "stream",
     "text": [
      "       99803704 done in  39.6 minutes\n"
     ]
    },
    {
     "name": "stderr",
     "output_type": "stream",
     "text": [
      "Feature Extraction: 100%|██████████| 60/60 [00:26<00:00,  2.30it/s]\n",
      "Feature Extraction: 100%|██████████| 60/60 [00:05<00:00, 12.85it/s]\n",
      "Feature Extraction: 100%|██████████| 60/60 [00:04<00:00, 12.22it/s]\n",
      "Feature Extraction: 100%|██████████| 60/60 [00:04<00:00, 12.55it/s]\n"
     ]
    },
    {
     "name": "stdout",
     "output_type": "stream",
     "text": [
      "      104340236 done in  41.5 minutes\n"
     ]
    },
    {
     "name": "stderr",
     "output_type": "stream",
     "text": [
      "Feature Extraction: 100%|██████████| 60/60 [00:25<00:00,  3.18it/s]\n",
      "Feature Extraction: 100%|██████████| 60/60 [00:05<00:00, 11.48it/s]\n",
      "Feature Extraction: 100%|██████████| 60/60 [00:04<00:00, 14.15it/s]\n",
      "Feature Extraction: 100%|██████████| 60/60 [00:05<00:00, 11.84it/s]\n"
     ]
    },
    {
     "name": "stdout",
     "output_type": "stream",
     "text": [
      "      108876768 done in  43.3 minutes\n"
     ]
    },
    {
     "name": "stderr",
     "output_type": "stream",
     "text": [
      "Feature Extraction: 100%|██████████| 60/60 [00:27<00:00,  2.43it/s]\n",
      "Feature Extraction: 100%|██████████| 60/60 [00:05<00:00, 11.94it/s]\n",
      "Feature Extraction: 100%|██████████| 60/60 [00:05<00:00, 11.67it/s]\n",
      "Feature Extraction: 100%|██████████| 60/60 [00:04<00:00, 12.73it/s]\n"
     ]
    },
    {
     "name": "stdout",
     "output_type": "stream",
     "text": [
      "      113413300 done in  45.2 minutes\n"
     ]
    },
    {
     "name": "stderr",
     "output_type": "stream",
     "text": [
      "Feature Extraction: 100%|██████████| 60/60 [00:26<00:00,  2.25it/s]\n",
      "Feature Extraction: 100%|██████████| 60/60 [00:05<00:00, 11.94it/s]\n",
      "Feature Extraction: 100%|██████████| 60/60 [00:04<00:00, 15.81it/s]\n",
      "Feature Extraction: 100%|██████████| 60/60 [00:04<00:00, 15.18it/s]\n"
     ]
    },
    {
     "name": "stdout",
     "output_type": "stream",
     "text": [
      "      117949832 done in  47.1 minutes\n"
     ]
    },
    {
     "name": "stderr",
     "output_type": "stream",
     "text": [
      "Feature Extraction: 100%|██████████| 60/60 [00:27<00:00,  2.22it/s]\n",
      "Feature Extraction: 100%|██████████| 60/60 [00:05<00:00, 11.52it/s]\n",
      "Feature Extraction: 100%|██████████| 60/60 [00:04<00:00, 12.48it/s]\n",
      "Feature Extraction: 100%|██████████| 60/60 [00:04<00:00, 13.39it/s]\n"
     ]
    },
    {
     "name": "stdout",
     "output_type": "stream",
     "text": [
      "      122486364 done in  49.0 minutes\n"
     ]
    },
    {
     "name": "stderr",
     "output_type": "stream",
     "text": [
      "Feature Extraction: 100%|██████████| 60/60 [00:28<00:00,  2.59it/s]\n",
      "Feature Extraction: 100%|██████████| 60/60 [00:05<00:00, 14.65it/s]\n",
      "Feature Extraction: 100%|██████████| 60/60 [00:04<00:00, 13.42it/s]\n",
      "Feature Extraction: 100%|██████████| 60/60 [00:04<00:00, 14.35it/s]\n"
     ]
    },
    {
     "name": "stdout",
     "output_type": "stream",
     "text": [
      "      127022896 done in  50.9 minutes\n"
     ]
    },
    {
     "name": "stderr",
     "output_type": "stream",
     "text": [
      "Feature Extraction: 100%|██████████| 60/60 [00:26<00:00,  2.58it/s]\n",
      "Feature Extraction: 100%|██████████| 60/60 [00:05<00:00, 11.17it/s]\n",
      "Feature Extraction: 100%|██████████| 60/60 [00:04<00:00, 12.34it/s]\n",
      "Feature Extraction: 100%|██████████| 60/60 [00:04<00:00, 13.31it/s]\n"
     ]
    },
    {
     "name": "stdout",
     "output_type": "stream",
     "text": [
      "      131559428 done in  52.7 minutes\n"
     ]
    },
    {
     "name": "stderr",
     "output_type": "stream",
     "text": [
      "Feature Extraction: 100%|██████████| 60/60 [00:26<00:00,  2.86it/s]\n",
      "Feature Extraction: 100%|██████████| 60/60 [00:04<00:00, 12.24it/s]\n",
      "Feature Extraction: 100%|██████████| 60/60 [00:05<00:00, 11.54it/s]\n",
      "Feature Extraction: 100%|██████████| 60/60 [00:04<00:00, 13.50it/s]\n"
     ]
    },
    {
     "name": "stdout",
     "output_type": "stream",
     "text": [
      "      136095960 done in  54.5 minutes\n"
     ]
    },
    {
     "name": "stderr",
     "output_type": "stream",
     "text": [
      "Feature Extraction: 100%|██████████| 60/60 [00:26<00:00,  2.92it/s]\n",
      "Feature Extraction: 100%|██████████| 60/60 [00:05<00:00, 12.00it/s]\n",
      "Feature Extraction: 100%|██████████| 60/60 [00:04<00:00, 12.83it/s]\n",
      "Feature Extraction: 100%|██████████| 60/60 [00:04<00:00, 13.33it/s]\n"
     ]
    },
    {
     "name": "stdout",
     "output_type": "stream",
     "text": [
      "      140632492 done in  56.3 minutes\n"
     ]
    },
    {
     "name": "stderr",
     "output_type": "stream",
     "text": [
      "Feature Extraction: 100%|██████████| 60/60 [00:26<00:00,  2.24it/s]\n",
      "Feature Extraction: 100%|██████████| 60/60 [00:04<00:00, 14.24it/s]\n",
      "Feature Extraction: 100%|██████████| 60/60 [00:05<00:00, 15.57it/s]\n",
      "Feature Extraction: 100%|██████████| 60/60 [00:04<00:00, 16.84it/s]\n"
     ]
    },
    {
     "name": "stdout",
     "output_type": "stream",
     "text": [
      "      145169024 done in  58.1 minutes\n"
     ]
    },
    {
     "name": "stderr",
     "output_type": "stream",
     "text": [
      "Feature Extraction: 100%|██████████| 60/60 [00:25<00:00,  3.05it/s]\n",
      "Feature Extraction: 100%|██████████| 60/60 [00:05<00:00, 11.46it/s]\n",
      "Feature Extraction: 100%|██████████| 60/60 [00:05<00:00, 11.64it/s]\n",
      "Feature Extraction: 100%|██████████| 60/60 [00:04<00:00, 12.65it/s]\n"
     ]
    },
    {
     "name": "stdout",
     "output_type": "stream",
     "text": [
      "      149705556 done in  59.9 minutes\n"
     ]
    },
    {
     "name": "stderr",
     "output_type": "stream",
     "text": [
      "Feature Extraction: 100%|██████████| 60/60 [00:26<00:00,  2.45it/s]\n",
      "Feature Extraction: 100%|██████████| 60/60 [00:05<00:00, 12.16it/s]\n",
      "Feature Extraction: 100%|██████████| 60/60 [00:05<00:00, 11.84it/s]\n",
      "Feature Extraction: 100%|██████████| 60/60 [00:04<00:00, 16.09it/s]\n"
     ]
    },
    {
     "name": "stdout",
     "output_type": "stream",
     "text": [
      "      154242088 done in  61.7 minutes\n"
     ]
    },
    {
     "name": "stderr",
     "output_type": "stream",
     "text": [
      "Feature Extraction: 100%|██████████| 60/60 [00:26<00:00,  2.28it/s]\n",
      "Feature Extraction: 100%|██████████| 60/60 [00:05<00:00, 11.63it/s]\n",
      "Feature Extraction: 100%|██████████| 60/60 [00:04<00:00, 12.05it/s]\n",
      "Feature Extraction: 100%|██████████| 60/60 [00:04<00:00, 14.59it/s]\n"
     ]
    },
    {
     "name": "stdout",
     "output_type": "stream",
     "text": [
      "      158778620 done in  63.6 minutes\n"
     ]
    },
    {
     "name": "stderr",
     "output_type": "stream",
     "text": [
      "Feature Extraction: 100%|██████████| 60/60 [00:25<00:00,  2.87it/s]\n",
      "Feature Extraction: 100%|██████████| 60/60 [00:05<00:00, 11.62it/s]\n",
      "Feature Extraction: 100%|██████████| 60/60 [00:04<00:00, 14.02it/s]\n",
      "Feature Extraction: 100%|██████████| 60/60 [00:04<00:00, 12.99it/s]\n"
     ]
    },
    {
     "name": "stdout",
     "output_type": "stream",
     "text": [
      "      163315152 done in  65.4 minutes\n"
     ]
    },
    {
     "name": "stderr",
     "output_type": "stream",
     "text": [
      "Feature Extraction: 100%|██████████| 60/60 [00:27<00:00,  2.23it/s]\n",
      "Feature Extraction: 100%|██████████| 60/60 [00:04<00:00, 12.06it/s]\n",
      "Feature Extraction: 100%|██████████| 60/60 [00:05<00:00,  9.86it/s]\n",
      "Feature Extraction: 100%|██████████| 60/60 [00:04<00:00, 13.77it/s]\n"
     ]
    },
    {
     "name": "stdout",
     "output_type": "stream",
     "text": [
      "      167851684 done in  67.2 minutes\n"
     ]
    },
    {
     "name": "stderr",
     "output_type": "stream",
     "text": [
      "Feature Extraction: 100%|██████████| 60/60 [00:27<00:00,  2.39it/s]\n",
      "Feature Extraction: 100%|██████████| 60/60 [00:05<00:00, 12.08it/s]\n",
      "Feature Extraction: 100%|██████████| 60/60 [00:04<00:00, 12.25it/s]\n",
      "Feature Extraction: 100%|██████████| 60/60 [00:04<00:00, 15.79it/s]\n"
     ]
    },
    {
     "name": "stdout",
     "output_type": "stream",
     "text": [
      "      172388216 done in  69.1 minutes\n"
     ]
    },
    {
     "name": "stderr",
     "output_type": "stream",
     "text": [
      "Feature Extraction: 100%|██████████| 60/60 [00:27<00:00,  2.07it/s]\n",
      "Feature Extraction: 100%|██████████| 60/60 [00:05<00:00, 10.09it/s]\n",
      "Feature Extraction: 100%|██████████| 60/60 [00:04<00:00, 12.38it/s]\n",
      "Feature Extraction: 100%|██████████| 60/60 [00:04<00:00, 14.45it/s]\n"
     ]
    },
    {
     "name": "stdout",
     "output_type": "stream",
     "text": [
      "      176924748 done in  70.9 minutes\n"
     ]
    },
    {
     "name": "stderr",
     "output_type": "stream",
     "text": [
      "Feature Extraction: 100%|██████████| 60/60 [00:26<00:00,  3.00it/s]\n",
      "Feature Extraction: 100%|██████████| 60/60 [00:05<00:00, 11.36it/s]\n",
      "Feature Extraction: 100%|██████████| 60/60 [00:04<00:00, 12.58it/s]\n",
      "Feature Extraction: 100%|██████████| 60/60 [00:04<00:00, 12.92it/s]\n"
     ]
    },
    {
     "name": "stdout",
     "output_type": "stream",
     "text": [
      "      181461280 done in  72.7 minutes\n"
     ]
    },
    {
     "name": "stderr",
     "output_type": "stream",
     "text": [
      "Feature Extraction: 100%|██████████| 60/60 [00:26<00:00,  2.76it/s]\n",
      "Feature Extraction: 100%|██████████| 60/60 [00:05<00:00, 11.02it/s]\n",
      "Feature Extraction: 100%|██████████| 60/60 [00:05<00:00, 11.31it/s]\n",
      "Feature Extraction: 100%|██████████| 60/60 [00:04<00:00, 12.61it/s]\n"
     ]
    },
    {
     "name": "stdout",
     "output_type": "stream",
     "text": [
      "      185997812 done in  74.5 minutes\n"
     ]
    },
    {
     "name": "stderr",
     "output_type": "stream",
     "text": [
      "Feature Extraction: 100%|██████████| 60/60 [00:26<00:00,  2.74it/s]\n",
      "Feature Extraction: 100%|██████████| 60/60 [00:05<00:00, 10.24it/s]\n",
      "Feature Extraction: 100%|██████████| 60/60 [00:04<00:00, 12.11it/s]\n",
      "Feature Extraction: 100%|██████████| 60/60 [00:04<00:00, 11.11it/s]\n"
     ]
    },
    {
     "name": "stdout",
     "output_type": "stream",
     "text": [
      "      190534344 done in  76.3 minutes\n"
     ]
    },
    {
     "name": "stderr",
     "output_type": "stream",
     "text": [
      "Feature Extraction: 100%|██████████| 60/60 [00:26<00:00,  2.50it/s]\n",
      "Feature Extraction: 100%|██████████| 60/60 [00:05<00:00, 10.21it/s]\n",
      "Feature Extraction: 100%|██████████| 60/60 [00:04<00:00, 14.68it/s]\n",
      "Feature Extraction: 100%|██████████| 60/60 [00:04<00:00, 13.95it/s]\n"
     ]
    },
    {
     "name": "stdout",
     "output_type": "stream",
     "text": [
      "      195070876 done in  78.1 minutes\n"
     ]
    },
    {
     "name": "stderr",
     "output_type": "stream",
     "text": [
      "Feature Extraction: 100%|██████████| 60/60 [00:27<00:00,  2.06it/s]\n",
      "Feature Extraction: 100%|██████████| 60/60 [00:05<00:00, 11.98it/s]\n",
      "Feature Extraction: 100%|██████████| 60/60 [00:04<00:00, 12.56it/s]\n",
      "Feature Extraction: 100%|██████████| 60/60 [00:04<00:00, 14.54it/s]\n"
     ]
    },
    {
     "name": "stdout",
     "output_type": "stream",
     "text": [
      "      199607408 done in  79.9 minutes\n"
     ]
    },
    {
     "name": "stderr",
     "output_type": "stream",
     "text": [
      "Feature Extraction: 100%|██████████| 60/60 [00:26<00:00,  2.59it/s]\n",
      "Feature Extraction: 100%|██████████| 60/60 [00:04<00:00, 12.49it/s]\n",
      "Feature Extraction: 100%|██████████| 60/60 [00:04<00:00, 12.60it/s]\n",
      "Feature Extraction: 100%|██████████| 60/60 [00:04<00:00, 16.57it/s]\n"
     ]
    },
    {
     "name": "stdout",
     "output_type": "stream",
     "text": [
      "      204143940 done in  81.8 minutes\n"
     ]
    },
    {
     "name": "stderr",
     "output_type": "stream",
     "text": [
      "Feature Extraction: 100%|██████████| 60/60 [00:26<00:00,  2.71it/s]\n",
      "Feature Extraction: 100%|██████████| 60/60 [00:04<00:00, 12.45it/s]\n",
      "Feature Extraction: 100%|██████████| 60/60 [00:04<00:00, 12.81it/s]\n",
      "Feature Extraction: 100%|██████████| 60/60 [00:04<00:00, 13.56it/s]\n"
     ]
    },
    {
     "name": "stdout",
     "output_type": "stream",
     "text": [
      "      208680472 done in  83.6 minutes\n"
     ]
    },
    {
     "name": "stderr",
     "output_type": "stream",
     "text": [
      "Feature Extraction: 100%|██████████| 60/60 [00:25<00:00,  2.75it/s]\n",
      "Feature Extraction: 100%|██████████| 60/60 [00:05<00:00,  7.91it/s]\n",
      "Feature Extraction: 100%|██████████| 60/60 [00:04<00:00, 12.29it/s]\n",
      "Feature Extraction: 100%|██████████| 60/60 [00:04<00:00, 13.91it/s]\n"
     ]
    },
    {
     "name": "stdout",
     "output_type": "stream",
     "text": [
      "      213217004 done in  85.4 minutes\n"
     ]
    },
    {
     "name": "stderr",
     "output_type": "stream",
     "text": [
      "Feature Extraction: 100%|██████████| 60/60 [00:24<00:00,  2.81it/s]\n",
      "Feature Extraction: 100%|██████████| 60/60 [00:05<00:00, 11.34it/s]\n",
      "Feature Extraction: 100%|██████████| 60/60 [00:04<00:00, 12.68it/s]\n",
      "Feature Extraction: 100%|██████████| 60/60 [00:04<00:00, 12.19it/s]\n"
     ]
    },
    {
     "name": "stdout",
     "output_type": "stream",
     "text": [
      "      217753536 done in  87.2 minutes\n"
     ]
    },
    {
     "name": "stderr",
     "output_type": "stream",
     "text": [
      "Feature Extraction: 100%|██████████| 60/60 [00:25<00:00,  2.81it/s]\n",
      "Feature Extraction: 100%|██████████| 60/60 [00:05<00:00, 11.27it/s]\n",
      "Feature Extraction: 100%|██████████| 60/60 [00:04<00:00, 12.93it/s]\n",
      "Feature Extraction: 100%|██████████| 60/60 [00:04<00:00, 14.10it/s]\n"
     ]
    },
    {
     "name": "stdout",
     "output_type": "stream",
     "text": [
      "      222290068 done in  89.0 minutes\n"
     ]
    },
    {
     "name": "stderr",
     "output_type": "stream",
     "text": [
      "Feature Extraction: 100%|██████████| 60/60 [00:27<00:00,  2.02it/s]\n",
      "Feature Extraction: 100%|██████████| 60/60 [00:04<00:00, 13.07it/s]\n",
      "Feature Extraction: 100%|██████████| 60/60 [00:04<00:00, 12.23it/s]\n",
      "Feature Extraction: 100%|██████████| 60/60 [00:03<00:00, 15.89it/s]\n"
     ]
    },
    {
     "name": "stdout",
     "output_type": "stream",
     "text": [
      "      226826600 done in  90.9 minutes\n"
     ]
    },
    {
     "name": "stderr",
     "output_type": "stream",
     "text": [
      "Feature Extraction: 100%|██████████| 60/60 [00:26<00:00,  2.46it/s]\n",
      "Feature Extraction: 100%|██████████| 60/60 [00:05<00:00, 11.07it/s]\n",
      "Feature Extraction: 100%|██████████| 60/60 [00:04<00:00, 12.19it/s]\n",
      "Feature Extraction: 100%|██████████| 60/60 [00:04<00:00, 13.21it/s]\n"
     ]
    },
    {
     "name": "stdout",
     "output_type": "stream",
     "text": [
      "      231363132 done in  92.7 minutes\n"
     ]
    },
    {
     "name": "stderr",
     "output_type": "stream",
     "text": [
      "Feature Extraction: 100%|██████████| 60/60 [00:27<00:00,  2.07it/s]\n",
      "Feature Extraction: 100%|██████████| 60/60 [00:05<00:00, 13.17it/s]\n",
      "Feature Extraction: 100%|██████████| 60/60 [00:04<00:00, 12.67it/s]\n",
      "Feature Extraction: 100%|██████████| 60/60 [00:04<00:00, 13.79it/s]\n"
     ]
    },
    {
     "name": "stdout",
     "output_type": "stream",
     "text": [
      "      235899664 done in  94.5 minutes\n"
     ]
    },
    {
     "name": "stderr",
     "output_type": "stream",
     "text": [
      "Feature Extraction: 100%|██████████| 60/60 [00:25<00:00,  2.92it/s]\n",
      "Feature Extraction: 100%|██████████| 60/60 [00:05<00:00, 13.35it/s]\n",
      "Feature Extraction: 100%|██████████| 60/60 [00:04<00:00, 12.50it/s]\n",
      "Feature Extraction: 100%|██████████| 60/60 [00:04<00:00, 13.66it/s]\n"
     ]
    },
    {
     "name": "stdout",
     "output_type": "stream",
     "text": [
      "      240436196 done in  96.3 minutes\n"
     ]
    },
    {
     "name": "stderr",
     "output_type": "stream",
     "text": [
      "Feature Extraction: 100%|██████████| 60/60 [00:27<00:00,  2.75it/s]\n",
      "Feature Extraction: 100%|██████████| 60/60 [00:05<00:00, 11.73it/s]\n",
      "Feature Extraction: 100%|██████████| 60/60 [00:05<00:00, 10.67it/s]\n",
      "Feature Extraction: 100%|██████████| 60/60 [00:03<00:00, 19.90it/s]\n"
     ]
    },
    {
     "name": "stdout",
     "output_type": "stream",
     "text": [
      "      244972728 done in  98.2 minutes\n"
     ]
    },
    {
     "name": "stderr",
     "output_type": "stream",
     "text": [
      "Feature Extraction: 100%|██████████| 60/60 [00:25<00:00,  3.09it/s]\n",
      "Feature Extraction: 100%|██████████| 60/60 [00:05<00:00, 11.77it/s]\n",
      "Feature Extraction: 100%|██████████| 60/60 [00:04<00:00, 15.55it/s]\n",
      "Feature Extraction: 100%|██████████| 60/60 [00:05<00:00, 11.71it/s]\n"
     ]
    },
    {
     "name": "stdout",
     "output_type": "stream",
     "text": [
      "      249509260 done in 100.0 minutes\n"
     ]
    },
    {
     "name": "stderr",
     "output_type": "stream",
     "text": [
      "Feature Extraction: 100%|██████████| 60/60 [00:25<00:00,  2.72it/s]\n",
      "Feature Extraction: 100%|██████████| 60/60 [00:04<00:00, 12.33it/s]\n",
      "Feature Extraction: 100%|██████████| 60/60 [00:04<00:00, 13.12it/s]\n",
      "Feature Extraction: 100%|██████████| 60/60 [00:04<00:00, 13.04it/s]\n"
     ]
    },
    {
     "name": "stdout",
     "output_type": "stream",
     "text": [
      "      254045792 done in 101.8 minutes\n"
     ]
    },
    {
     "name": "stderr",
     "output_type": "stream",
     "text": [
      "Feature Extraction: 100%|██████████| 60/60 [00:26<00:00,  2.59it/s]\n",
      "Feature Extraction: 100%|██████████| 60/60 [00:04<00:00, 12.83it/s]\n",
      "Feature Extraction: 100%|██████████| 60/60 [00:05<00:00, 12.63it/s]\n",
      "Feature Extraction: 100%|██████████| 60/60 [00:04<00:00, 16.25it/s]\n"
     ]
    },
    {
     "name": "stdout",
     "output_type": "stream",
     "text": [
      "      258582324 done in 103.6 minutes\n"
     ]
    },
    {
     "name": "stderr",
     "output_type": "stream",
     "text": [
      "Feature Extraction: 100%|██████████| 60/60 [00:25<00:00,  2.65it/s]\n",
      "Feature Extraction: 100%|██████████| 60/60 [00:05<00:00, 13.93it/s]\n",
      "Feature Extraction: 100%|██████████| 60/60 [00:04<00:00, 15.20it/s]\n",
      "Feature Extraction: 100%|██████████| 60/60 [00:04<00:00, 14.43it/s]\n"
     ]
    },
    {
     "name": "stdout",
     "output_type": "stream",
     "text": [
      "      263118856 done in 105.4 minutes\n"
     ]
    },
    {
     "name": "stderr",
     "output_type": "stream",
     "text": [
      "Feature Extraction: 100%|██████████| 60/60 [00:25<00:00,  3.07it/s]\n",
      "Feature Extraction: 100%|██████████| 60/60 [00:04<00:00, 13.93it/s]\n",
      "Feature Extraction: 100%|██████████| 60/60 [00:04<00:00, 12.64it/s]\n",
      "Feature Extraction: 100%|██████████| 60/60 [00:04<00:00, 12.43it/s]\n"
     ]
    },
    {
     "name": "stdout",
     "output_type": "stream",
     "text": [
      "      267655388 done in 107.2 minutes\n"
     ]
    },
    {
     "name": "stderr",
     "output_type": "stream",
     "text": [
      "Feature Extraction: 100%|██████████| 60/60 [00:26<00:00,  2.59it/s]\n",
      "Feature Extraction: 100%|██████████| 60/60 [00:05<00:00, 11.56it/s]\n",
      "Feature Extraction: 100%|██████████| 60/60 [00:04<00:00, 13.24it/s]\n",
      "Feature Extraction: 100%|██████████| 60/60 [00:03<00:00, 16.07it/s]\n"
     ]
    },
    {
     "name": "stdout",
     "output_type": "stream",
     "text": [
      "      272191920 done in 109.0 minutes\n"
     ]
    },
    {
     "name": "stderr",
     "output_type": "stream",
     "text": [
      "Feature Extraction: 100%|██████████| 60/60 [00:26<00:00,  2.26it/s]\n",
      "Feature Extraction: 100%|██████████| 60/60 [00:05<00:00, 13.02it/s]\n",
      "Feature Extraction: 100%|██████████| 60/60 [00:05<00:00, 13.99it/s]\n",
      "Feature Extraction: 100%|██████████| 60/60 [00:04<00:00, 12.52it/s]\n"
     ]
    },
    {
     "name": "stdout",
     "output_type": "stream",
     "text": [
      "      276728452 done in 110.9 minutes\n"
     ]
    },
    {
     "name": "stderr",
     "output_type": "stream",
     "text": [
      "Feature Extraction: 100%|██████████| 60/60 [00:26<00:00,  2.47it/s]\n",
      "Feature Extraction: 100%|██████████| 60/60 [00:05<00:00, 13.54it/s]\n",
      "Feature Extraction: 100%|██████████| 60/60 [00:05<00:00, 12.50it/s]\n",
      "Feature Extraction: 100%|██████████| 60/60 [00:04<00:00, 14.01it/s]\n"
     ]
    },
    {
     "name": "stdout",
     "output_type": "stream",
     "text": [
      "      281264984 done in 112.7 minutes\n"
     ]
    },
    {
     "name": "stderr",
     "output_type": "stream",
     "text": [
      "Feature Extraction: 100%|██████████| 60/60 [00:26<00:00,  2.50it/s]\n",
      "Feature Extraction: 100%|██████████| 60/60 [00:05<00:00, 11.73it/s]\n",
      "Feature Extraction: 100%|██████████| 60/60 [00:05<00:00, 11.84it/s]\n",
      "Feature Extraction: 100%|██████████| 60/60 [00:03<00:00, 18.15it/s]\n"
     ]
    },
    {
     "name": "stdout",
     "output_type": "stream",
     "text": [
      "      285801516 done in 114.5 minutes\n"
     ]
    },
    {
     "name": "stderr",
     "output_type": "stream",
     "text": [
      "Feature Extraction: 100%|██████████| 60/60 [00:27<00:00,  2.05it/s]\n",
      "Feature Extraction: 100%|██████████| 60/60 [00:05<00:00, 10.64it/s]\n",
      "Feature Extraction: 100%|██████████| 60/60 [00:04<00:00, 12.54it/s]\n",
      "Feature Extraction: 100%|██████████| 60/60 [00:04<00:00, 15.81it/s]\n"
     ]
    },
    {
     "name": "stdout",
     "output_type": "stream",
     "text": [
      "      290338048 done in 116.4 minutes\n"
     ]
    },
    {
     "name": "stderr",
     "output_type": "stream",
     "text": [
      "Feature Extraction: 100%|██████████| 60/60 [00:27<00:00,  2.31it/s]\n",
      "Feature Extraction: 100%|██████████| 60/60 [00:05<00:00, 11.19it/s]\n",
      "Feature Extraction: 100%|██████████| 60/60 [00:04<00:00, 13.83it/s]\n",
      "Feature Extraction: 100%|██████████| 60/60 [00:04<00:00, 13.57it/s]\n"
     ]
    },
    {
     "name": "stdout",
     "output_type": "stream",
     "text": [
      "      294874580 done in 118.2 minutes\n"
     ]
    },
    {
     "name": "stderr",
     "output_type": "stream",
     "text": [
      "Feature Extraction: 100%|██████████| 60/60 [00:25<00:00,  2.82it/s]\n",
      "Feature Extraction: 100%|██████████| 60/60 [00:05<00:00, 10.00it/s]\n",
      "Feature Extraction: 100%|██████████| 60/60 [00:04<00:00, 14.07it/s]\n",
      "Feature Extraction: 100%|██████████| 60/60 [00:04<00:00, 13.56it/s]\n"
     ]
    },
    {
     "name": "stdout",
     "output_type": "stream",
     "text": [
      "      299411112 done in 120.0 minutes\n"
     ]
    },
    {
     "name": "stderr",
     "output_type": "stream",
     "text": [
      "Feature Extraction: 100%|██████████| 60/60 [00:26<00:00,  2.30it/s]\n",
      "Feature Extraction: 100%|██████████| 60/60 [00:05<00:00, 12.82it/s]\n",
      "Feature Extraction: 100%|██████████| 60/60 [00:04<00:00, 14.83it/s]\n",
      "Feature Extraction: 100%|██████████| 60/60 [00:04<00:00, 13.52it/s]\n"
     ]
    },
    {
     "name": "stdout",
     "output_type": "stream",
     "text": [
      "      303947644 done in 121.8 minutes\n"
     ]
    },
    {
     "name": "stderr",
     "output_type": "stream",
     "text": [
      "Feature Extraction: 100%|██████████| 60/60 [00:25<00:00,  3.24it/s]\n",
      "Feature Extraction: 100%|██████████| 60/60 [00:05<00:00, 14.62it/s]\n",
      "Feature Extraction: 100%|██████████| 60/60 [00:04<00:00, 15.90it/s]\n",
      "Feature Extraction: 100%|██████████| 60/60 [00:03<00:00, 20.45it/s]\n"
     ]
    },
    {
     "name": "stdout",
     "output_type": "stream",
     "text": [
      "      308484176 done in 123.6 minutes\n"
     ]
    },
    {
     "name": "stderr",
     "output_type": "stream",
     "text": [
      "Feature Extraction: 100%|██████████| 60/60 [00:26<00:00,  2.52it/s]\n",
      "Feature Extraction: 100%|██████████| 60/60 [00:04<00:00, 15.34it/s]\n",
      "Feature Extraction: 100%|██████████| 60/60 [00:04<00:00, 13.18it/s]\n",
      "Feature Extraction: 100%|██████████| 60/60 [00:04<00:00, 12.44it/s]\n"
     ]
    },
    {
     "name": "stdout",
     "output_type": "stream",
     "text": [
      "      313020708 done in 125.4 minutes\n"
     ]
    },
    {
     "name": "stderr",
     "output_type": "stream",
     "text": [
      "Feature Extraction: 100%|██████████| 60/60 [00:25<00:00,  2.94it/s]\n",
      "Feature Extraction: 100%|██████████| 60/60 [00:04<00:00, 12.98it/s]\n",
      "Feature Extraction: 100%|██████████| 60/60 [00:03<00:00, 17.79it/s]\n",
      "Feature Extraction: 100%|██████████| 60/60 [00:04<00:00, 14.05it/s]\n"
     ]
    },
    {
     "name": "stdout",
     "output_type": "stream",
     "text": [
      "      317557240 done in 127.2 minutes\n"
     ]
    },
    {
     "name": "stderr",
     "output_type": "stream",
     "text": [
      "Feature Extraction: 100%|██████████| 60/60 [00:25<00:00,  3.04it/s]\n",
      "Feature Extraction: 100%|██████████| 60/60 [00:04<00:00,  9.83it/s]\n",
      "Feature Extraction: 100%|██████████| 60/60 [00:04<00:00, 14.51it/s]\n",
      "Feature Extraction: 100%|██████████| 60/60 [00:04<00:00, 14.35it/s]\n"
     ]
    },
    {
     "name": "stdout",
     "output_type": "stream",
     "text": [
      "      322093772 done in 129.0 minutes\n"
     ]
    },
    {
     "name": "stderr",
     "output_type": "stream",
     "text": [
      "Feature Extraction: 100%|██████████| 60/60 [00:25<00:00,  2.72it/s]\n",
      "Feature Extraction: 100%|██████████| 60/60 [00:04<00:00, 13.25it/s]\n",
      "Feature Extraction: 100%|██████████| 60/60 [00:04<00:00, 15.17it/s]\n",
      "Feature Extraction: 100%|██████████| 60/60 [00:04<00:00, 15.36it/s]\n"
     ]
    },
    {
     "name": "stdout",
     "output_type": "stream",
     "text": [
      "      326630304 done in 130.8 minutes\n"
     ]
    },
    {
     "name": "stderr",
     "output_type": "stream",
     "text": [
      "Feature Extraction: 100%|██████████| 60/60 [00:25<00:00,  2.58it/s]\n",
      "Feature Extraction: 100%|██████████| 60/60 [00:04<00:00, 13.98it/s]\n",
      "Feature Extraction: 100%|██████████| 60/60 [00:03<00:00, 15.09it/s]\n",
      "Feature Extraction: 100%|██████████| 60/60 [00:03<00:00, 16.76it/s]\n"
     ]
    },
    {
     "name": "stdout",
     "output_type": "stream",
     "text": [
      "      331166836 done in 132.6 minutes\n"
     ]
    },
    {
     "name": "stderr",
     "output_type": "stream",
     "text": [
      "Feature Extraction: 100%|██████████| 60/60 [00:24<00:00,  2.69it/s]\n",
      "Feature Extraction: 100%|██████████| 60/60 [00:04<00:00, 12.65it/s]\n",
      "Feature Extraction: 100%|██████████| 60/60 [00:04<00:00, 13.13it/s]\n",
      "Feature Extraction: 100%|██████████| 60/60 [00:03<00:00, 17.84it/s]\n"
     ]
    },
    {
     "name": "stdout",
     "output_type": "stream",
     "text": [
      "      335703368 done in 134.3 minutes\n"
     ]
    },
    {
     "name": "stderr",
     "output_type": "stream",
     "text": [
      "Feature Extraction: 100%|██████████| 60/60 [00:25<00:00,  2.62it/s]\n",
      "Feature Extraction: 100%|██████████| 60/60 [00:04<00:00, 12.35it/s]\n",
      "Feature Extraction: 100%|██████████| 60/60 [00:04<00:00, 14.57it/s]\n",
      "Feature Extraction: 100%|██████████| 60/60 [00:03<00:00, 15.28it/s]\n"
     ]
    },
    {
     "name": "stdout",
     "output_type": "stream",
     "text": [
      "      340239900 done in 136.1 minutes\n"
     ]
    },
    {
     "name": "stderr",
     "output_type": "stream",
     "text": [
      "Feature Extraction: 100%|██████████| 60/60 [00:25<00:00,  2.54it/s]\n",
      "Feature Extraction: 100%|██████████| 60/60 [00:04<00:00, 13.55it/s]\n",
      "Feature Extraction: 100%|██████████| 60/60 [00:04<00:00, 12.73it/s]\n",
      "Feature Extraction: 100%|██████████| 60/60 [00:03<00:00, 16.64it/s]\n"
     ]
    },
    {
     "name": "stdout",
     "output_type": "stream",
     "text": [
      "      344776432 done in 137.9 minutes\n"
     ]
    },
    {
     "name": "stderr",
     "output_type": "stream",
     "text": [
      "Feature Extraction: 100%|██████████| 60/60 [00:24<00:00,  2.73it/s]\n",
      "Feature Extraction: 100%|██████████| 60/60 [00:04<00:00, 12.62it/s]\n",
      "Feature Extraction: 100%|██████████| 60/60 [00:03<00:00, 15.64it/s]\n",
      "Feature Extraction: 100%|██████████| 60/60 [00:03<00:00, 15.33it/s]\n"
     ]
    },
    {
     "name": "stdout",
     "output_type": "stream",
     "text": [
      "      349312964 done in 139.6 minutes\n"
     ]
    },
    {
     "name": "stderr",
     "output_type": "stream",
     "text": [
      "Feature Extraction: 100%|██████████| 60/60 [00:25<00:00,  2.32it/s]\n",
      "Feature Extraction: 100%|██████████| 60/60 [00:05<00:00, 11.37it/s]\n",
      "Feature Extraction: 100%|██████████| 60/60 [00:04<00:00, 17.06it/s]\n",
      "Feature Extraction: 100%|██████████| 60/60 [00:04<00:00, 14.89it/s]\n"
     ]
    },
    {
     "name": "stdout",
     "output_type": "stream",
     "text": [
      "      353849496 done in 141.4 minutes\n"
     ]
    },
    {
     "name": "stderr",
     "output_type": "stream",
     "text": [
      "Feature Extraction: 100%|██████████| 60/60 [00:25<00:00,  2.38it/s]\n",
      "Feature Extraction: 100%|██████████| 60/60 [00:04<00:00, 12.52it/s]\n",
      "Feature Extraction: 100%|██████████| 60/60 [00:04<00:00, 13.87it/s]\n",
      "Feature Extraction: 100%|██████████| 60/60 [00:03<00:00, 15.46it/s]\n"
     ]
    },
    {
     "name": "stdout",
     "output_type": "stream",
     "text": [
      "      358386028 done in 143.2 minutes\n"
     ]
    },
    {
     "name": "stderr",
     "output_type": "stream",
     "text": [
      "Feature Extraction: 100%|██████████| 60/60 [00:25<00:00,  2.61it/s]\n",
      "Feature Extraction: 100%|██████████| 60/60 [00:04<00:00, 12.58it/s]\n",
      "Feature Extraction: 100%|██████████| 60/60 [00:04<00:00, 17.82it/s]\n",
      "Feature Extraction: 100%|██████████| 60/60 [00:03<00:00, 15.05it/s]\n"
     ]
    },
    {
     "name": "stdout",
     "output_type": "stream",
     "text": [
      "      362922560 done in 145.0 minutes\n"
     ]
    },
    {
     "name": "stderr",
     "output_type": "stream",
     "text": [
      "Feature Extraction: 100%|██████████| 60/60 [00:24<00:00,  2.88it/s]\n",
      "Feature Extraction: 100%|██████████| 60/60 [00:04<00:00, 12.96it/s]\n",
      "Feature Extraction: 100%|██████████| 60/60 [00:04<00:00, 14.20it/s]\n",
      "Feature Extraction: 100%|██████████| 60/60 [00:03<00:00, 15.53it/s]\n"
     ]
    },
    {
     "name": "stdout",
     "output_type": "stream",
     "text": [
      "      367459092 done in 146.8 minutes\n"
     ]
    },
    {
     "name": "stderr",
     "output_type": "stream",
     "text": [
      "Feature Extraction: 100%|██████████| 60/60 [00:25<00:00,  2.83it/s]\n",
      "Feature Extraction: 100%|██████████| 60/60 [00:04<00:00, 12.13it/s]\n",
      "Feature Extraction: 100%|██████████| 60/60 [00:04<00:00, 14.59it/s]\n",
      "Feature Extraction: 100%|██████████| 60/60 [00:03<00:00, 15.05it/s]\n"
     ]
    },
    {
     "name": "stdout",
     "output_type": "stream",
     "text": [
      "      371995624 done in 148.6 minutes\n"
     ]
    },
    {
     "name": "stderr",
     "output_type": "stream",
     "text": [
      "Feature Extraction: 100%|██████████| 60/60 [00:24<00:00,  3.15it/s]\n",
      "Feature Extraction: 100%|██████████| 60/60 [00:04<00:00, 12.46it/s]\n",
      "Feature Extraction: 100%|██████████| 60/60 [00:04<00:00, 19.15it/s]\n",
      "Feature Extraction: 100%|██████████| 60/60 [00:03<00:00, 17.05it/s]\n"
     ]
    },
    {
     "name": "stdout",
     "output_type": "stream",
     "text": [
      "      376532156 done in 150.3 minutes\n"
     ]
    }
   ],
   "source": [
    "%%time\n",
    "# should take 100x (time after 1st iteration)\n",
    "featurize_test(\n",
    "    featurize_configs={'aggs': aggs, 'fcp': fcp}, \n",
    "    n_jobs=12,\n",
    "    meta_path='../data/raw/test_set_metadata.csv',\n",
    "    test_path='../data/raw/test_set.csv',\n",
    "    output_path='../data/features/test-all-feat-from-kernel-repro.csv',\n",
    "    id_colname='object_id',\n",
    "    chunks=chunk_size_one_100,  # alternatively: 5000000\n",
    ")"
   ]
  },
  {
   "cell_type": "markdown",
   "metadata": {},
   "source": [
    "### Test set predictions"
   ]
  },
  {
   "cell_type": "code",
   "execution_count": 24,
   "metadata": {},
   "outputs": [
    {
     "name": "stdout",
     "output_type": "stream",
     "text": [
      "Loading data...\n"
     ]
    },
    {
     "name": "stderr",
     "output_type": "stream",
     "text": [
      "  0%|          | 0/6 [00:00<?, ?it/s]"
     ]
    },
    {
     "name": "stdout",
     "output_type": "stream",
     "text": [
      "Generating predictions...\n"
     ]
    },
    {
     "name": "stderr",
     "output_type": "stream",
     "text": [
      "100%|██████████| 6/6 [12:49<00:00, 132.60s/it]\n"
     ]
    },
    {
     "name": "stdout",
     "output_type": "stream",
     "text": [
      "Postprocessing...\n",
      "Submission shape before grouping: (3492890, 16)\n",
      "Submission shape after grouping: (3492890, 15)\n",
      "Submission shape after postprocessing: (3492890, 15)\n",
      "Validating submission file...\n",
      "Saving submission...\n",
      "Submission saved to f/home/kk385830/astronomical-classification/submissions/subm_0.633887_2018-12-12-20-10.csv\n",
      "CPU times: user 3h 19min 16s, sys: 1min 48s, total: 3h 21min 4s\n",
      "Wall time: 15min 27s\n"
     ]
    }
   ],
   "source": [
    "%%time\n",
    "submission = predict_test(\n",
    "    clfs=clfs, \n",
    "    feature_colnames=feature_colnames, \n",
    "    id_colname=id_colname, \n",
    "    input_path='../data/features/test-all-feat-from-kernel-repro.csv', \n",
    "    output_path=submission_file_path, \n",
    "    verbose=True\n",
    ")"
   ]
  },
  {
   "cell_type": "code",
   "execution_count": 25,
   "metadata": {},
   "outputs": [
    {
     "data": {
      "text/html": [
       "<div>\n",
       "<style scoped>\n",
       "    .dataframe tbody tr th:only-of-type {\n",
       "        vertical-align: middle;\n",
       "    }\n",
       "\n",
       "    .dataframe tbody tr th {\n",
       "        vertical-align: top;\n",
       "    }\n",
       "\n",
       "    .dataframe thead th {\n",
       "        text-align: right;\n",
       "    }\n",
       "</style>\n",
       "<table border=\"1\" class=\"dataframe\">\n",
       "  <thead>\n",
       "    <tr style=\"text-align: right;\">\n",
       "      <th></th>\n",
       "      <th>class_6</th>\n",
       "      <th>class_15</th>\n",
       "      <th>class_16</th>\n",
       "      <th>class_42</th>\n",
       "      <th>class_52</th>\n",
       "      <th>class_53</th>\n",
       "      <th>class_62</th>\n",
       "      <th>class_64</th>\n",
       "      <th>class_65</th>\n",
       "      <th>class_67</th>\n",
       "      <th>class_88</th>\n",
       "      <th>class_90</th>\n",
       "      <th>class_92</th>\n",
       "      <th>class_95</th>\n",
       "      <th>class_99</th>\n",
       "    </tr>\n",
       "    <tr>\n",
       "      <th>object_id</th>\n",
       "      <th></th>\n",
       "      <th></th>\n",
       "      <th></th>\n",
       "      <th></th>\n",
       "      <th></th>\n",
       "      <th></th>\n",
       "      <th></th>\n",
       "      <th></th>\n",
       "      <th></th>\n",
       "      <th></th>\n",
       "      <th></th>\n",
       "      <th></th>\n",
       "      <th></th>\n",
       "      <th></th>\n",
       "      <th></th>\n",
       "    </tr>\n",
       "  </thead>\n",
       "  <tbody>\n",
       "    <tr>\n",
       "      <th>13</th>\n",
       "      <td>0.000039</td>\n",
       "      <td>0.000657</td>\n",
       "      <td>0.000029</td>\n",
       "      <td>0.366398</td>\n",
       "      <td>0.368153</td>\n",
       "      <td>0.000064</td>\n",
       "      <td>0.084674</td>\n",
       "      <td>0.000019</td>\n",
       "      <td>0.000019</td>\n",
       "      <td>0.000734</td>\n",
       "      <td>0.000127</td>\n",
       "      <td>0.038328</td>\n",
       "      <td>0.000037</td>\n",
       "      <td>0.000157</td>\n",
       "      <td>0.140565</td>\n",
       "    </tr>\n",
       "    <tr>\n",
       "      <th>14</th>\n",
       "      <td>0.000054</td>\n",
       "      <td>0.005733</td>\n",
       "      <td>0.000066</td>\n",
       "      <td>0.099824</td>\n",
       "      <td>0.029541</td>\n",
       "      <td>0.000090</td>\n",
       "      <td>0.055105</td>\n",
       "      <td>0.000179</td>\n",
       "      <td>0.000440</td>\n",
       "      <td>0.015483</td>\n",
       "      <td>0.000307</td>\n",
       "      <td>0.676560</td>\n",
       "      <td>0.000065</td>\n",
       "      <td>0.016401</td>\n",
       "      <td>0.100153</td>\n",
       "    </tr>\n",
       "    <tr>\n",
       "      <th>17</th>\n",
       "      <td>0.000124</td>\n",
       "      <td>0.007659</td>\n",
       "      <td>0.000180</td>\n",
       "      <td>0.069897</td>\n",
       "      <td>0.100743</td>\n",
       "      <td>0.000183</td>\n",
       "      <td>0.025223</td>\n",
       "      <td>0.006217</td>\n",
       "      <td>0.000202</td>\n",
       "      <td>0.063850</td>\n",
       "      <td>0.003200</td>\n",
       "      <td>0.592817</td>\n",
       "      <td>0.000065</td>\n",
       "      <td>0.010686</td>\n",
       "      <td>0.118956</td>\n",
       "    </tr>\n",
       "    <tr>\n",
       "      <th>23</th>\n",
       "      <td>0.000117</td>\n",
       "      <td>0.001379</td>\n",
       "      <td>0.000108</td>\n",
       "      <td>0.025240</td>\n",
       "      <td>0.011016</td>\n",
       "      <td>0.000160</td>\n",
       "      <td>0.036232</td>\n",
       "      <td>0.005721</td>\n",
       "      <td>0.000174</td>\n",
       "      <td>0.386109</td>\n",
       "      <td>0.000227</td>\n",
       "      <td>0.274889</td>\n",
       "      <td>0.000056</td>\n",
       "      <td>0.113153</td>\n",
       "      <td>0.145418</td>\n",
       "    </tr>\n",
       "    <tr>\n",
       "      <th>34</th>\n",
       "      <td>0.000030</td>\n",
       "      <td>0.001124</td>\n",
       "      <td>0.000026</td>\n",
       "      <td>0.072985</td>\n",
       "      <td>0.139158</td>\n",
       "      <td>0.000052</td>\n",
       "      <td>0.023494</td>\n",
       "      <td>0.000035</td>\n",
       "      <td>0.000053</td>\n",
       "      <td>0.007502</td>\n",
       "      <td>0.000046</td>\n",
       "      <td>0.649205</td>\n",
       "      <td>0.000021</td>\n",
       "      <td>0.000144</td>\n",
       "      <td>0.106124</td>\n",
       "    </tr>\n",
       "  </tbody>\n",
       "</table>\n",
       "</div>"
      ],
      "text/plain": [
       "            class_6  class_15  class_16  class_42  class_52  class_53  \\\n",
       "object_id                                                               \n",
       "13         0.000039  0.000657  0.000029  0.366398  0.368153  0.000064   \n",
       "14         0.000054  0.005733  0.000066  0.099824  0.029541  0.000090   \n",
       "17         0.000124  0.007659  0.000180  0.069897  0.100743  0.000183   \n",
       "23         0.000117  0.001379  0.000108  0.025240  0.011016  0.000160   \n",
       "34         0.000030  0.001124  0.000026  0.072985  0.139158  0.000052   \n",
       "\n",
       "           class_62  class_64  class_65  class_67  class_88  class_90  \\\n",
       "object_id                                                               \n",
       "13         0.084674  0.000019  0.000019  0.000734  0.000127  0.038328   \n",
       "14         0.055105  0.000179  0.000440  0.015483  0.000307  0.676560   \n",
       "17         0.025223  0.006217  0.000202  0.063850  0.003200  0.592817   \n",
       "23         0.036232  0.005721  0.000174  0.386109  0.000227  0.274889   \n",
       "34         0.023494  0.000035  0.000053  0.007502  0.000046  0.649205   \n",
       "\n",
       "           class_92  class_95  class_99  \n",
       "object_id                                \n",
       "13         0.000037  0.000157  0.140565  \n",
       "14         0.000065  0.016401  0.100153  \n",
       "17         0.000065  0.010686  0.118956  \n",
       "23         0.000056  0.113153  0.145418  \n",
       "34         0.000021  0.000144  0.106124  "
      ]
     },
     "execution_count": 25,
     "metadata": {},
     "output_type": "execute_result"
    }
   ],
   "source": [
    "submission.head()"
   ]
  }
 ],
 "metadata": {
  "kernelspec": {
   "display_name": "Python 3",
   "language": "python",
   "name": "python3"
  },
  "language_info": {
   "codemirror_mode": {
    "name": "ipython",
    "version": 3
   },
   "file_extension": ".py",
   "mimetype": "text/x-python",
   "name": "python",
   "nbconvert_exporter": "python",
   "pygments_lexer": "ipython3",
   "version": "3.6.7"
  }
 },
 "nbformat": 4,
 "nbformat_minor": 2
}
