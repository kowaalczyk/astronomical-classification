{
 "cells": [
  {
   "cell_type": "markdown",
   "metadata": {},
   "source": [
    "# Combining features from previous submission with their scaled counterparts"
   ]
  },
  {
   "cell_type": "markdown",
   "metadata": {},
   "source": [
    "### Generation of features"
   ]
  },
  {
   "cell_type": "markdown",
   "metadata": {},
   "source": [
    "Already implemented in featurize.py"
   ]
  },
  {
   "cell_type": "code",
   "execution_count": 1,
   "metadata": {},
   "outputs": [
    {
     "name": "stderr",
     "output_type": "stream",
     "text": [
      "Using TensorFlow backend.\n"
     ]
    }
   ],
   "source": [
    "import pandas as pd\n",
    "import numpy as np\n",
    "import matplotlib.pyplot as plt\n",
    "import seaborn as sns\n",
    "\n",
    "from typing import Set\n",
    "from datetime import datetime as dt\n",
    "\n",
    "from plasticc.featurize import process_meta, featurize\n",
    "from plasticc.training import path_from_cv_score, train_and_validate\n",
    "from plasticc.final import featurize_test, predict_test"
   ]
  },
  {
   "cell_type": "code",
   "execution_count": 2,
   "metadata": {},
   "outputs": [],
   "source": [
    "%load_ext autoreload\n",
    "%autoreload 2"
   ]
  },
  {
   "cell_type": "code",
   "execution_count": 3,
   "metadata": {},
   "outputs": [],
   "source": [
    "fcp = {\n",
    "    'flux': {\n",
    "        'longest_strike_above_mean': None,\n",
    "        'longest_strike_below_mean': None,\n",
    "        'mean_change': None,\n",
    "        'mean_abs_change': None,\n",
    "        'length': None,\n",
    "    },\n",
    "\n",
    "    'flux_by_flux_ratio_sq': {\n",
    "        'longest_strike_above_mean': None,\n",
    "        'longest_strike_below_mean': None,       \n",
    "    },\n",
    "\n",
    "    'flux_passband': {\n",
    "        'fft_coefficient': [\n",
    "                {'coeff': 0, 'attr': 'abs'}, \n",
    "                {'coeff': 1, 'attr': 'abs'}\n",
    "            ],\n",
    "        'kurtosis' : None, \n",
    "        'skewness' : None,\n",
    "    },\n",
    "\n",
    "    'mjd': {\n",
    "        'maximum': None, \n",
    "        'minimum': None,\n",
    "        'mean_change': None,\n",
    "        'mean_abs_change': None,\n",
    "    },\n",
    "}"
   ]
  },
  {
   "cell_type": "code",
   "execution_count": 4,
   "metadata": {},
   "outputs": [],
   "source": [
    "aggs = {\n",
    "    'flux': ['min', 'max', 'mean', 'median', 'std', 'skew'],\n",
    "    'flux_err': ['min', 'max', 'mean', 'median', 'std', 'skew'],\n",
    "    'detected': ['mean'],\n",
    "    'flux_ratio_sq':['sum', 'skew'],\n",
    "    'flux_by_flux_ratio_sq':['sum','skew'],\n",
    "}"
   ]
  },
  {
   "cell_type": "markdown",
   "metadata": {},
   "source": [
    "### Generate features for model training"
   ]
  },
  {
   "cell_type": "code",
   "execution_count": 5,
   "metadata": {},
   "outputs": [
    {
     "name": "stdout",
     "output_type": "stream",
     "text": [
      "CPU times: user 1.65 s, sys: 72 ms, total: 1.72 s\n",
      "Wall time: 1.83 s\n"
     ]
    }
   ],
   "source": [
    "%%time\n",
    "meta_train = process_meta('../../data/raw/training_set_metadata.csv')\n",
    "train = pd.read_csv('../../data/raw/training_set.csv')"
   ]
  },
  {
   "cell_type": "code",
   "execution_count": 6,
   "metadata": {
    "scrolled": true
   },
   "outputs": [
    {
     "name": "stdout",
     "output_type": "stream",
     "text": [
      "Preprocessing time...\n",
      "Fixing passband alignment...\n",
      "Generating custom features...\n",
      "Generating custom features for fixed passbands...\n",
      "Custom features generated.\n"
     ]
    },
    {
     "name": "stderr",
     "output_type": "stream",
     "text": [
      "Feature Extraction: 100%|██████████| 80/80 [00:07<00:00, 11.93it/s]\n",
      "Feature Extraction: 100%|██████████| 80/80 [00:05<00:00, 14.36it/s]\n",
      "Feature Extraction: 100%|██████████| 80/80 [00:01<00:00, 56.28it/s]\n",
      "Feature Extraction: 100%|██████████| 80/80 [00:01<00:00, 52.60it/s]\n",
      "Feature Extraction: 100%|██████████| 80/80 [00:01<00:00, 70.47it/s]\n"
     ]
    },
    {
     "name": "stdout",
     "output_type": "stream",
     "text": [
      "CPU times: user 3min 25s, sys: 2.45 s, total: 3min 27s\n",
      "Wall time: 3min 28s\n"
     ]
    }
   ],
   "source": [
    "%%time\n",
    "X = featurize(train, meta_train, aggs, fcp, n_jobs=16)"
   ]
  },
  {
   "cell_type": "code",
   "execution_count": 7,
   "metadata": {},
   "outputs": [],
   "source": [
    "if 'target' in X:\n",
    "    y = X['target']\n",
    "    del X['target']\n",
    "else:\n",
    "    print(\"What the duck\")\n",
    "    3//0"
   ]
  },
  {
   "cell_type": "code",
   "execution_count": 8,
   "metadata": {},
   "outputs": [
    {
     "name": "stdout",
     "output_type": "stream",
     "text": [
      "CPU times: user 32 ms, sys: 8 ms, total: 40 ms\n",
      "Wall time: 40 ms\n"
     ]
    }
   ],
   "source": [
    "%%time\n",
    "train_mean = X.mean(axis=0)\n",
    "#train_mean.to_hdf('train_data.hdf5', 'data')\n",
    "# pd.set_option('display.max_rows', 500)\n",
    "#import pdb; pdb.set_trace()\n",
    "X.fillna(0, inplace=True)"
   ]
  },
  {
   "cell_type": "code",
   "execution_count": 15,
   "metadata": {},
   "outputs": [
    {
     "data": {
      "text/plain": [
       "(7848, 268)"
      ]
     },
     "execution_count": 15,
     "metadata": {},
     "output_type": "execute_result"
    }
   ],
   "source": [
    "X.shape"
   ]
  },
  {
   "cell_type": "code",
   "execution_count": 16,
   "metadata": {},
   "outputs": [
    {
     "data": {
      "text/plain": [
       "(7848,)"
      ]
     },
     "execution_count": 16,
     "metadata": {},
     "output_type": "execute_result"
    }
   ],
   "source": [
    "y.shape"
   ]
  },
  {
   "cell_type": "markdown",
   "metadata": {},
   "source": [
    "### Train model with CV"
   ]
  },
  {
   "cell_type": "code",
   "execution_count": 92,
   "metadata": {},
   "outputs": [],
   "source": [
    "lgbm_params = {  # commented values were used for subm_610262... (slightly better, but more variance in feature importances)\n",
    "    'device': 'cpu',\n",
    "    'objective': 'multiclass',\n",
    "    'num_class': 14,\n",
    "    'boosting_type': 'gbdt',\n",
    "    'n_jobs': 16,\n",
    "    'max_depth': 6,\n",
    "    'n_estimators': 2048,\n",
    "    'subsample_freq': 2,\n",
    "    'subsample_for_bin': 5000,\n",
    "    'min_data_per_group': 100,\n",
    "    'max_cat_to_onehot': 4,\n",
    "    'cat_l2': 1.0,\n",
    "    'cat_smooth': 59.5,\n",
    "    'max_cat_threshold': 32,\n",
    "    'metric_freq': 10,\n",
    "    'verbosity': -1,\n",
    "    'metric': 'multi_logloss',\n",
    "    'xgboost_dart_mode': False,\n",
    "    'uniform_drop': False,\n",
    "    'colsample_bytree': 0.3,  # 0.33\n",
    "    'drop_rate': 0.173,\n",
    "    'learning_rate': 0.02137,\n",
    "    'max_drop': 5,\n",
    "    'min_child_samples': 10,\n",
    "    'min_child_weight': 100.0,\n",
    "    'min_split_gain': 0.75,  # 0.126\n",
    "    'num_leaves': 7,\n",
    "    'reg_alpha': 0.1,\n",
    "    'reg_lambda': 0.00023,\n",
    "    'skip_drop': 0.44,\n",
    "    'subsample': 0.75,\n",
    "    'max_bin': 42,  # 32\n",
    "    'min_data_in_leaf': 13,\n",
    "    'lambda_l1': 3,  # 4\n",
    "}"
   ]
  },
  {
   "cell_type": "code",
   "execution_count": 93,
   "metadata": {},
   "outputs": [],
   "source": [
    "colnames_to_ignore = set([\n",
    "    'object_id',\n",
    "    'hostgal_specz',\n",
    "    'ra',\n",
    "    'decl',\n",
    "    'gal_l',\n",
    "    'gal_b',\n",
    "    'ddf',\n",
    "])\n",
    "colnames_to_ignore_restrictive = colnames_to_ignore | set([\n",
    "    'latlon1',\n",
    "    'haversine',\n",
    "])\n",
    "colnames_to_ignore_very_restrictive = colnames_to_ignore_restrictive | set([\n",
    "    'flux_err_skew',\n",
    "    'flux_by_flux_ratio_sq_sum'\n",
    "])\n",
    "\n",
    "colanmes_to_ignore_no_raw_data_peaks = colnames_to_ignore_very_restrictive | set([col for col in X.columns if 'peak' in col and 'fpb' in col])\n",
    "\n",
    "id_colname = 'object_id'"
   ]
  },
  {
   "cell_type": "code",
   "execution_count": 94,
   "metadata": {},
   "outputs": [],
   "source": [
    "feature_colnames = [col for col in X.columns if col not in colanmes_to_ignore_no_raw_data_peaks]"
   ]
  },
  {
   "cell_type": "code",
   "execution_count": 95,
   "metadata": {},
   "outputs": [
    {
     "data": {
      "text/plain": [
       "209"
      ]
     },
     "execution_count": 95,
     "metadata": {},
     "output_type": "execute_result"
    }
   ],
   "source": [
    "len(feature_colnames)"
   ]
  },
  {
   "cell_type": "code",
   "execution_count": 96,
   "metadata": {},
   "outputs": [
    {
     "name": "stdout",
     "output_type": "stream",
     "text": [
      "Training until validation scores don't improve for 100 rounds.\n",
      "[100]\ttraining's multi_logloss: 0.407901\ttraining's wloss: 0.901754\tvalid_1's multi_logloss: 1.75697\tvalid_1's wloss: 1.10522\n",
      "[200]\ttraining's multi_logloss: 0.203213\ttraining's wloss: 0.573278\tvalid_1's multi_logloss: 1.3387\tvalid_1's wloss: 0.804508\n",
      "[300]\ttraining's multi_logloss: 0.14194\ttraining's wloss: 0.442894\tvalid_1's multi_logloss: 1.14952\tvalid_1's wloss: 0.71033\n",
      "[400]\ttraining's multi_logloss: 0.112974\ttraining's wloss: 0.370755\tvalid_1's multi_logloss: 1.04342\tvalid_1's wloss: 0.67651\n",
      "[500]\ttraining's multi_logloss: 0.0951605\ttraining's wloss: 0.322949\tvalid_1's multi_logloss: 0.97613\tvalid_1's wloss: 0.664027\n",
      "[600]\ttraining's multi_logloss: 0.0824892\ttraining's wloss: 0.287151\tvalid_1's multi_logloss: 0.927854\tvalid_1's wloss: 0.654817\n",
      "[700]\ttraining's multi_logloss: 0.0727948\ttraining's wloss: 0.258869\tvalid_1's multi_logloss: 0.889816\tvalid_1's wloss: 0.654508\n",
      "Early stopping, best iteration is:\n",
      "[690]\ttraining's multi_logloss: 0.0736773\ttraining's wloss: 0.261488\tvalid_1's multi_logloss: 0.893536\tvalid_1's wloss: 0.654148\n",
      "no 1-fold loss: 0.654148203630856\n",
      "Training until validation scores don't improve for 100 rounds.\n",
      "[100]\ttraining's multi_logloss: 0.413084\ttraining's wloss: 0.906957\tvalid_1's multi_logloss: 1.75008\tvalid_1's wloss: 1.10199\n",
      "[200]\ttraining's multi_logloss: 0.206099\ttraining's wloss: 0.578319\tvalid_1's multi_logloss: 1.35603\tvalid_1's wloss: 0.81576\n",
      "[300]\ttraining's multi_logloss: 0.144203\ttraining's wloss: 0.44876\tvalid_1's multi_logloss: 1.17636\tvalid_1's wloss: 0.717108\n",
      "[400]\ttraining's multi_logloss: 0.114701\ttraining's wloss: 0.375682\tvalid_1's multi_logloss: 1.06764\tvalid_1's wloss: 0.667358\n",
      "[500]\ttraining's multi_logloss: 0.0966099\ttraining's wloss: 0.327012\tvalid_1's multi_logloss: 0.996211\tvalid_1's wloss: 0.64278\n",
      "[600]\ttraining's multi_logloss: 0.0837215\ttraining's wloss: 0.290563\tvalid_1's multi_logloss: 0.944727\tvalid_1's wloss: 0.628502\n",
      "[700]\ttraining's multi_logloss: 0.0737926\ttraining's wloss: 0.261735\tvalid_1's multi_logloss: 0.904373\tvalid_1's wloss: 0.620163\n",
      "[800]\ttraining's multi_logloss: 0.065716\ttraining's wloss: 0.237305\tvalid_1's multi_logloss: 0.872882\tvalid_1's wloss: 0.61739\n",
      "[900]\ttraining's multi_logloss: 0.0589487\ttraining's wloss: 0.216682\tvalid_1's multi_logloss: 0.846528\tvalid_1's wloss: 0.615309\n",
      "[1000]\ttraining's multi_logloss: 0.0532031\ttraining's wloss: 0.198797\tvalid_1's multi_logloss: 0.823646\tvalid_1's wloss: 0.614809\n",
      "[1100]\ttraining's multi_logloss: 0.0482613\ttraining's wloss: 0.183156\tvalid_1's multi_logloss: 0.803567\tvalid_1's wloss: 0.616465\n",
      "Early stopping, best iteration is:\n",
      "[1006]\ttraining's multi_logloss: 0.0528839\ttraining's wloss: 0.197721\tvalid_1's multi_logloss: 0.82176\tvalid_1's wloss: 0.614477\n",
      "no 2-fold loss: 0.6144769475832107\n",
      "Training until validation scores don't improve for 100 rounds.\n",
      "[100]\ttraining's multi_logloss: 0.411009\ttraining's wloss: 0.910167\tvalid_1's multi_logloss: 1.72694\tvalid_1's wloss: 1.08248\n",
      "[200]\ttraining's multi_logloss: 0.204626\ttraining's wloss: 0.580607\tvalid_1's multi_logloss: 1.3002\tvalid_1's wloss: 0.77039\n",
      "[300]\ttraining's multi_logloss: 0.142797\ttraining's wloss: 0.450116\tvalid_1's multi_logloss: 1.10852\tvalid_1's wloss: 0.666937\n",
      "[400]\ttraining's multi_logloss: 0.113363\ttraining's wloss: 0.37617\tvalid_1's multi_logloss: 0.999889\tvalid_1's wloss: 0.626444\n",
      "[500]\ttraining's multi_logloss: 0.0952818\ttraining's wloss: 0.327095\tvalid_1's multi_logloss: 0.929796\tvalid_1's wloss: 0.608225\n",
      "[600]\ttraining's multi_logloss: 0.0824658\ttraining's wloss: 0.290685\tvalid_1's multi_logloss: 0.879854\tvalid_1's wloss: 0.602074\n",
      "[700]\ttraining's multi_logloss: 0.0726851\ttraining's wloss: 0.262332\tvalid_1's multi_logloss: 0.844141\tvalid_1's wloss: 0.601886\n",
      "Early stopping, best iteration is:\n",
      "[612]\ttraining's multi_logloss: 0.0811586\ttraining's wloss: 0.287005\tvalid_1's multi_logloss: 0.875024\tvalid_1's wloss: 0.601444\n",
      "no 3-fold loss: 0.601443517084001\n",
      "Training until validation scores don't improve for 100 rounds.\n",
      "[100]\ttraining's multi_logloss: 0.413695\ttraining's wloss: 0.912047\tvalid_1's multi_logloss: 1.77084\tvalid_1's wloss: 1.07771\n",
      "[200]\ttraining's multi_logloss: 0.205208\ttraining's wloss: 0.578478\tvalid_1's multi_logloss: 1.35381\tvalid_1's wloss: 0.767153\n",
      "[300]\ttraining's multi_logloss: 0.142789\ttraining's wloss: 0.446417\tvalid_1's multi_logloss: 1.16407\tvalid_1's wloss: 0.660472\n",
      "[400]\ttraining's multi_logloss: 0.112991\ttraining's wloss: 0.372001\tvalid_1's multi_logloss: 1.0571\tvalid_1's wloss: 0.617614\n",
      "[500]\ttraining's multi_logloss: 0.0947889\ttraining's wloss: 0.322728\tvalid_1's multi_logloss: 0.98612\tvalid_1's wloss: 0.597878\n",
      "[600]\ttraining's multi_logloss: 0.0818645\ttraining's wloss: 0.285843\tvalid_1's multi_logloss: 0.934407\tvalid_1's wloss: 0.587164\n",
      "[700]\ttraining's multi_logloss: 0.0719755\ttraining's wloss: 0.257543\tvalid_1's multi_logloss: 0.896593\tvalid_1's wloss: 0.581475\n",
      "[800]\ttraining's multi_logloss: 0.0640523\ttraining's wloss: 0.233923\tvalid_1's multi_logloss: 0.86592\tvalid_1's wloss: 0.580253\n",
      "[900]\ttraining's multi_logloss: 0.0575127\ttraining's wloss: 0.213806\tvalid_1's multi_logloss: 0.838097\tvalid_1's wloss: 0.578872\n",
      "[1000]\ttraining's multi_logloss: 0.051956\ttraining's wloss: 0.196546\tvalid_1's multi_logloss: 0.815081\tvalid_1's wloss: 0.578781\n",
      "Early stopping, best iteration is:\n",
      "[941]\ttraining's multi_logloss: 0.0551403\ttraining's wloss: 0.206344\tvalid_1's multi_logloss: 0.827075\tvalid_1's wloss: 0.577713\n",
      "no 4-fold loss: 0.577713316701962\n",
      "Training until validation scores don't improve for 100 rounds.\n",
      "[100]\ttraining's multi_logloss: 0.411104\ttraining's wloss: 0.90297\tvalid_1's multi_logloss: 1.74942\tvalid_1's wloss: 1.10799\n",
      "[200]\ttraining's multi_logloss: 0.20432\ttraining's wloss: 0.575216\tvalid_1's multi_logloss: 1.32627\tvalid_1's wloss: 0.802398\n",
      "[300]\ttraining's multi_logloss: 0.142706\ttraining's wloss: 0.445857\tvalid_1's multi_logloss: 1.13253\tvalid_1's wloss: 0.696216\n",
      "[400]\ttraining's multi_logloss: 0.11346\ttraining's wloss: 0.373669\tvalid_1's multi_logloss: 1.02316\tvalid_1's wloss: 0.649167\n",
      "[500]\ttraining's multi_logloss: 0.0955507\ttraining's wloss: 0.32506\tvalid_1's multi_logloss: 0.950545\tvalid_1's wloss: 0.626169\n",
      "[600]\ttraining's multi_logloss: 0.0829441\ttraining's wloss: 0.289601\tvalid_1's multi_logloss: 0.898287\tvalid_1's wloss: 0.613125\n",
      "[700]\ttraining's multi_logloss: 0.0731285\ttraining's wloss: 0.261034\tvalid_1's multi_logloss: 0.859607\tvalid_1's wloss: 0.607055\n",
      "[800]\ttraining's multi_logloss: 0.065146\ttraining's wloss: 0.236982\tvalid_1's multi_logloss: 0.827454\tvalid_1's wloss: 0.60369\n",
      "[900]\ttraining's multi_logloss: 0.058613\ttraining's wloss: 0.21706\tvalid_1's multi_logloss: 0.799945\tvalid_1's wloss: 0.601932\n",
      "Early stopping, best iteration is:\n",
      "[858]\ttraining's multi_logloss: 0.0612035\ttraining's wloss: 0.225006\tvalid_1's multi_logloss: 0.810844\tvalid_1's wloss: 0.601497\n",
      "no 5-fold loss: 0.6014973017808393\n",
      "Training until validation scores don't improve for 100 rounds.\n",
      "[100]\ttraining's multi_logloss: 0.411969\ttraining's wloss: 0.910426\tvalid_1's multi_logloss: 1.77091\tvalid_1's wloss: 1.11772\n",
      "[200]\ttraining's multi_logloss: 0.205367\ttraining's wloss: 0.582559\tvalid_1's multi_logloss: 1.35181\tvalid_1's wloss: 0.807039\n",
      "[300]\ttraining's multi_logloss: 0.143572\ttraining's wloss: 0.451819\tvalid_1's multi_logloss: 1.1566\tvalid_1's wloss: 0.698755\n",
      "[400]\ttraining's multi_logloss: 0.114123\ttraining's wloss: 0.377468\tvalid_1's multi_logloss: 1.04193\tvalid_1's wloss: 0.650388\n",
      "[500]\ttraining's multi_logloss: 0.0960538\ttraining's wloss: 0.32848\tvalid_1's multi_logloss: 0.969467\tvalid_1's wloss: 0.62883\n",
      "[600]\ttraining's multi_logloss: 0.0832033\ttraining's wloss: 0.291948\tvalid_1's multi_logloss: 0.917167\tvalid_1's wloss: 0.61882\n",
      "[700]\ttraining's multi_logloss: 0.0733041\ttraining's wloss: 0.262807\tvalid_1's multi_logloss: 0.878557\tvalid_1's wloss: 0.614478\n",
      "[800]\ttraining's multi_logloss: 0.0652983\ttraining's wloss: 0.239135\tvalid_1's multi_logloss: 0.848102\tvalid_1's wloss: 0.614935\n",
      "Early stopping, best iteration is:\n",
      "[752]\ttraining's multi_logloss: 0.0689254\ttraining's wloss: 0.250042\tvalid_1's multi_logloss: 0.862089\tvalid_1's wloss: 0.614205\n",
      "no 6-fold loss: 0.6142047811836259\n",
      "MULTI WEIGHTED LOG LOSS: 0.61055\n",
      "CPU times: user 1h 21min 8s, sys: 21.4 s, total: 1h 21min 30s\n",
      "Wall time: 9min 42s\n"
     ]
    }
   ],
   "source": [
    "%%time\n",
    "clfs, score, importances = train_and_validate(\n",
    "    X=X, \n",
    "    y=y, \n",
    "    feature_colnames=feature_colnames, \n",
    "    id_colname=id_colname, \n",
    "    model='lgbm', \n",
    "    model_params={\n",
    "        'lgbm': lgbm_params\n",
    "    }, \n",
    "    nr_fold=6, \n",
    "    random_state=1\n",
    ")"
   ]
  },
  {
   "cell_type": "code",
   "execution_count": 100,
   "metadata": {},
   "outputs": [
    {
     "data": {
      "image/png": "[encoded data removed]",
      "text/plain": [
       "<Figure size 864x1152 with 1 Axes>"
      ]
     },
     "metadata": {
      "needs_background": "light"
     },
     "output_type": "display_data"
    }
   ],
   "source": [
    "fig, ax = plt.subplots(figsize=(12,16))\n",
    "sns.barplot(ax=ax, data=importances.sort_values(by='mean_gain', ascending=False).head(50), x='gain', y='feature', hue='fold', )\n",
    "plt.show()"
   ]
  },
  {
   "cell_type": "code",
   "execution_count": 101,
   "metadata": {},
   "outputs": [
    {
     "data": {
      "image/png": "[encoded data removed]",
      "text/plain": [
       "<Figure size 864x1152 with 1 Axes>"
      ]
     },
     "metadata": {
      "needs_background": "light"
     },
     "output_type": "display_data"
    }
   ],
   "source": [
    "fig, ax = plt.subplots(figsize=(12,16))\n",
    "sns.barplot(ax=ax, data=importances.sort_values(by='mean_gain', ascending=False).tail(250), x='gain', y='feature', hue='fold', )\n",
    "plt.show()"
   ]
  },
  {
   "cell_type": "code",
   "execution_count": 102,
   "metadata": {},
   "outputs": [
    {
     "data": {
      "text/html": [
       "<div>\n",
       "<style scoped>\n",
       "    .dataframe tbody tr th:only-of-type {\n",
       "        vertical-align: middle;\n",
       "    }\n",
       "\n",
       "    .dataframe tbody tr th {\n",
       "        vertical-align: top;\n",
       "    }\n",
       "\n",
       "    .dataframe thead th {\n",
       "        text-align: right;\n",
       "    }\n",
       "</style>\n",
       "<table border=\"1\" class=\"dataframe\">\n",
       "  <thead>\n",
       "    <tr style=\"text-align: right;\">\n",
       "      <th></th>\n",
       "      <th>gain</th>\n",
       "      <th>fold</th>\n",
       "      <th>mean_gain</th>\n",
       "    </tr>\n",
       "    <tr>\n",
       "      <th>feature</th>\n",
       "      <th></th>\n",
       "      <th></th>\n",
       "      <th></th>\n",
       "    </tr>\n",
       "  </thead>\n",
       "  <tbody>\n",
       "    <tr>\n",
       "      <th>pbgroup_2_period_peak_time_max</th>\n",
       "      <td>139.666667</td>\n",
       "      <td>3.5</td>\n",
       "      <td>139.666667</td>\n",
       "    </tr>\n",
       "    <tr>\n",
       "      <th>mwebv</th>\n",
       "      <td>138.833333</td>\n",
       "      <td>3.5</td>\n",
       "      <td>138.833333</td>\n",
       "    </tr>\n",
       "    <tr>\n",
       "      <th>pbgroup_2_peak_time_max</th>\n",
       "      <td>137.666667</td>\n",
       "      <td>3.5</td>\n",
       "      <td>137.666667</td>\n",
       "    </tr>\n",
       "    <tr>\n",
       "      <th>pbgroup_1_peak_time_max</th>\n",
       "      <td>137.333333</td>\n",
       "      <td>3.5</td>\n",
       "      <td>137.333333</td>\n",
       "    </tr>\n",
       "    <tr>\n",
       "      <th>pbgroup_1_stderr</th>\n",
       "      <td>137.166667</td>\n",
       "      <td>3.5</td>\n",
       "      <td>137.166667</td>\n",
       "    </tr>\n",
       "    <tr>\n",
       "      <th>pbgroup_0_poly_residuals_mean_fpb</th>\n",
       "      <td>137.166667</td>\n",
       "      <td>3.5</td>\n",
       "      <td>137.166667</td>\n",
       "    </tr>\n",
       "    <tr>\n",
       "      <th>pbgroup_2_p-value_fpb</th>\n",
       "      <td>136.666667</td>\n",
       "      <td>3.5</td>\n",
       "      <td>136.666667</td>\n",
       "    </tr>\n",
       "    <tr>\n",
       "      <th>pbgroup_1_poly_residuals_mean_fpb</th>\n",
       "      <td>136.333333</td>\n",
       "      <td>3.5</td>\n",
       "      <td>136.333333</td>\n",
       "    </tr>\n",
       "    <tr>\n",
       "      <th>pbgroup_2_period_peak_time_mean</th>\n",
       "      <td>135.333333</td>\n",
       "      <td>3.5</td>\n",
       "      <td>135.333333</td>\n",
       "    </tr>\n",
       "    <tr>\n",
       "      <th>pbgroup_1_poly_coeff_1_fpb</th>\n",
       "      <td>135.166667</td>\n",
       "      <td>3.5</td>\n",
       "      <td>135.166667</td>\n",
       "    </tr>\n",
       "    <tr>\n",
       "      <th>pbgroup_0_stderr</th>\n",
       "      <td>130.500000</td>\n",
       "      <td>3.5</td>\n",
       "      <td>130.500000</td>\n",
       "    </tr>\n",
       "    <tr>\n",
       "      <th>pbgroup_0_poly_coeff_0_fpb</th>\n",
       "      <td>130.333333</td>\n",
       "      <td>3.5</td>\n",
       "      <td>130.333333</td>\n",
       "    </tr>\n",
       "    <tr>\n",
       "      <th>pbgroup_0_poly_coeff_0</th>\n",
       "      <td>129.166667</td>\n",
       "      <td>3.5</td>\n",
       "      <td>129.166667</td>\n",
       "    </tr>\n",
       "    <tr>\n",
       "      <th>pbgroup_1_intercept</th>\n",
       "      <td>124.000000</td>\n",
       "      <td>3.5</td>\n",
       "      <td>124.000000</td>\n",
       "    </tr>\n",
       "    <tr>\n",
       "      <th>pbgroup_2_r-value</th>\n",
       "      <td>123.666667</td>\n",
       "      <td>3.5</td>\n",
       "      <td>123.666667</td>\n",
       "    </tr>\n",
       "    <tr>\n",
       "      <th>pbgroup_0_poly_residuals_mean</th>\n",
       "      <td>121.833333</td>\n",
       "      <td>3.5</td>\n",
       "      <td>121.833333</td>\n",
       "    </tr>\n",
       "    <tr>\n",
       "      <th>pbgroup_0_slope</th>\n",
       "      <td>119.833333</td>\n",
       "      <td>3.5</td>\n",
       "      <td>119.833333</td>\n",
       "    </tr>\n",
       "    <tr>\n",
       "      <th>pbgroup_2_poly_coeff_0</th>\n",
       "      <td>114.666667</td>\n",
       "      <td>3.5</td>\n",
       "      <td>114.666667</td>\n",
       "    </tr>\n",
       "    <tr>\n",
       "      <th>pbgroup_2_poly_coeff_2_fpb</th>\n",
       "      <td>112.333333</td>\n",
       "      <td>3.5</td>\n",
       "      <td>112.333333</td>\n",
       "    </tr>\n",
       "    <tr>\n",
       "      <th>pbgroup_1_poly_coeff_3_fpb</th>\n",
       "      <td>112.166667</td>\n",
       "      <td>3.5</td>\n",
       "      <td>112.166667</td>\n",
       "    </tr>\n",
       "    <tr>\n",
       "      <th>pbgroup_2_period_peak_values_std</th>\n",
       "      <td>111.333333</td>\n",
       "      <td>3.5</td>\n",
       "      <td>111.333333</td>\n",
       "    </tr>\n",
       "    <tr>\n",
       "      <th>flux_std</th>\n",
       "      <td>109.333333</td>\n",
       "      <td>3.5</td>\n",
       "      <td>109.333333</td>\n",
       "    </tr>\n",
       "    <tr>\n",
       "      <th>pbgroup_2_poly_coeff_4</th>\n",
       "      <td>108.666667</td>\n",
       "      <td>3.5</td>\n",
       "      <td>108.666667</td>\n",
       "    </tr>\n",
       "    <tr>\n",
       "      <th>pbgroup_1_poly_coeff_3</th>\n",
       "      <td>108.500000</td>\n",
       "      <td>3.5</td>\n",
       "      <td>108.500000</td>\n",
       "    </tr>\n",
       "    <tr>\n",
       "      <th>pbgroup_0_r-value_fpb</th>\n",
       "      <td>107.000000</td>\n",
       "      <td>3.5</td>\n",
       "      <td>107.000000</td>\n",
       "    </tr>\n",
       "    <tr>\n",
       "      <th>pbgroup_1_poly_coeff_4</th>\n",
       "      <td>105.833333</td>\n",
       "      <td>3.5</td>\n",
       "      <td>105.833333</td>\n",
       "    </tr>\n",
       "    <tr>\n",
       "      <th>pbgroup_1_period_peak_values_std</th>\n",
       "      <td>105.833333</td>\n",
       "      <td>3.5</td>\n",
       "      <td>105.833333</td>\n",
       "    </tr>\n",
       "    <tr>\n",
       "      <th>pbgroup_2_poly_coeff_2</th>\n",
       "      <td>105.500000</td>\n",
       "      <td>3.5</td>\n",
       "      <td>105.500000</td>\n",
       "    </tr>\n",
       "    <tr>\n",
       "      <th>pbgroup_0_period_peak_time_max</th>\n",
       "      <td>104.833333</td>\n",
       "      <td>3.5</td>\n",
       "      <td>104.833333</td>\n",
       "    </tr>\n",
       "    <tr>\n",
       "      <th>pbgroup_1_poly_coeff_0</th>\n",
       "      <td>103.333333</td>\n",
       "      <td>3.5</td>\n",
       "      <td>103.333333</td>\n",
       "    </tr>\n",
       "    <tr>\n",
       "      <th>pbgroup_1_slope_fpb</th>\n",
       "      <td>102.333333</td>\n",
       "      <td>3.5</td>\n",
       "      <td>102.333333</td>\n",
       "    </tr>\n",
       "    <tr>\n",
       "      <th>pbgroup_0_period_peak_time_min</th>\n",
       "      <td>100.333333</td>\n",
       "      <td>3.5</td>\n",
       "      <td>100.333333</td>\n",
       "    </tr>\n",
       "    <tr>\n",
       "      <th>pbgroup_1_period_peak_values_min</th>\n",
       "      <td>100.166667</td>\n",
       "      <td>3.5</td>\n",
       "      <td>100.166667</td>\n",
       "    </tr>\n",
       "    <tr>\n",
       "      <th>pbgroup_0_period_peak_time_mean</th>\n",
       "      <td>98.833333</td>\n",
       "      <td>3.5</td>\n",
       "      <td>98.833333</td>\n",
       "    </tr>\n",
       "    <tr>\n",
       "      <th>pbgroup_1_slope</th>\n",
       "      <td>97.000000</td>\n",
       "      <td>3.5</td>\n",
       "      <td>97.000000</td>\n",
       "    </tr>\n",
       "    <tr>\n",
       "      <th>pbgroup_1_period_peak_values_mean</th>\n",
       "      <td>95.833333</td>\n",
       "      <td>3.5</td>\n",
       "      <td>95.833333</td>\n",
       "    </tr>\n",
       "    <tr>\n",
       "      <th>pbgroup_2_poly_coeff_4_fpb</th>\n",
       "      <td>95.000000</td>\n",
       "      <td>3.5</td>\n",
       "      <td>95.000000</td>\n",
       "    </tr>\n",
       "    <tr>\n",
       "      <th>pbgroup_1_poly_coeff_2</th>\n",
       "      <td>94.166667</td>\n",
       "      <td>3.5</td>\n",
       "      <td>94.166667</td>\n",
       "    </tr>\n",
       "    <tr>\n",
       "      <th>pbgroup_2_r-value_fpb</th>\n",
       "      <td>93.500000</td>\n",
       "      <td>3.5</td>\n",
       "      <td>93.500000</td>\n",
       "    </tr>\n",
       "    <tr>\n",
       "      <th>pbgroup_1_period_peak_values_max</th>\n",
       "      <td>90.500000</td>\n",
       "      <td>3.5</td>\n",
       "      <td>90.500000</td>\n",
       "    </tr>\n",
       "    <tr>\n",
       "      <th>flux_mean</th>\n",
       "      <td>88.500000</td>\n",
       "      <td>3.5</td>\n",
       "      <td>88.500000</td>\n",
       "    </tr>\n",
       "    <tr>\n",
       "      <th>pbgroup_1_poly_coeff_0_fpb</th>\n",
       "      <td>85.500000</td>\n",
       "      <td>3.5</td>\n",
       "      <td>85.500000</td>\n",
       "    </tr>\n",
       "    <tr>\n",
       "      <th>pbgroup_2_slope_fpb</th>\n",
       "      <td>82.833333</td>\n",
       "      <td>3.5</td>\n",
       "      <td>82.833333</td>\n",
       "    </tr>\n",
       "    <tr>\n",
       "      <th>pbgroup_0_poly_coeff_4_fpb</th>\n",
       "      <td>81.833333</td>\n",
       "      <td>3.5</td>\n",
       "      <td>81.833333</td>\n",
       "    </tr>\n",
       "    <tr>\n",
       "      <th>pbgroup_1_poly_coeff_2_fpb</th>\n",
       "      <td>81.000000</td>\n",
       "      <td>3.5</td>\n",
       "      <td>81.000000</td>\n",
       "    </tr>\n",
       "    <tr>\n",
       "      <th>pbgroup_1_poly_coeff_4_fpb</th>\n",
       "      <td>78.333333</td>\n",
       "      <td>3.5</td>\n",
       "      <td>78.333333</td>\n",
       "    </tr>\n",
       "    <tr>\n",
       "      <th>pbgroup_0_poly_coeff_4</th>\n",
       "      <td>75.000000</td>\n",
       "      <td>3.5</td>\n",
       "      <td>75.000000</td>\n",
       "    </tr>\n",
       "    <tr>\n",
       "      <th>pbgroup_0_poly_coeff_2_fpb</th>\n",
       "      <td>72.000000</td>\n",
       "      <td>3.5</td>\n",
       "      <td>72.000000</td>\n",
       "    </tr>\n",
       "    <tr>\n",
       "      <th>pbgroup_0_poly_coeff_2</th>\n",
       "      <td>70.500000</td>\n",
       "      <td>3.5</td>\n",
       "      <td>70.500000</td>\n",
       "    </tr>\n",
       "    <tr>\n",
       "      <th>pbgroup_2_slope</th>\n",
       "      <td>65.000000</td>\n",
       "      <td>3.5</td>\n",
       "      <td>65.000000</td>\n",
       "    </tr>\n",
       "  </tbody>\n",
       "</table>\n",
       "</div>"
      ],
      "text/plain": [
       "                                         gain  fold   mean_gain\n",
       "feature                                                        \n",
       "pbgroup_2_period_peak_time_max     139.666667   3.5  139.666667\n",
       "mwebv                              138.833333   3.5  138.833333\n",
       "pbgroup_2_peak_time_max            137.666667   3.5  137.666667\n",
       "pbgroup_1_peak_time_max            137.333333   3.5  137.333333\n",
       "pbgroup_1_stderr                   137.166667   3.5  137.166667\n",
       "pbgroup_0_poly_residuals_mean_fpb  137.166667   3.5  137.166667\n",
       "pbgroup_2_p-value_fpb              136.666667   3.5  136.666667\n",
       "pbgroup_1_poly_residuals_mean_fpb  136.333333   3.5  136.333333\n",
       "pbgroup_2_period_peak_time_mean    135.333333   3.5  135.333333\n",
       "pbgroup_1_poly_coeff_1_fpb         135.166667   3.5  135.166667\n",
       "pbgroup_0_stderr                   130.500000   3.5  130.500000\n",
       "pbgroup_0_poly_coeff_0_fpb         130.333333   3.5  130.333333\n",
       "pbgroup_0_poly_coeff_0             129.166667   3.5  129.166667\n",
       "pbgroup_1_intercept                124.000000   3.5  124.000000\n",
       "pbgroup_2_r-value                  123.666667   3.5  123.666667\n",
       "pbgroup_0_poly_residuals_mean      121.833333   3.5  121.833333\n",
       "pbgroup_0_slope                    119.833333   3.5  119.833333\n",
       "pbgroup_2_poly_coeff_0             114.666667   3.5  114.666667\n",
       "pbgroup_2_poly_coeff_2_fpb         112.333333   3.5  112.333333\n",
       "pbgroup_1_poly_coeff_3_fpb         112.166667   3.5  112.166667\n",
       "pbgroup_2_period_peak_values_std   111.333333   3.5  111.333333\n",
       "flux_std                           109.333333   3.5  109.333333\n",
       "pbgroup_2_poly_coeff_4             108.666667   3.5  108.666667\n",
       "pbgroup_1_poly_coeff_3             108.500000   3.5  108.500000\n",
       "pbgroup_0_r-value_fpb              107.000000   3.5  107.000000\n",
       "pbgroup_1_poly_coeff_4             105.833333   3.5  105.833333\n",
       "pbgroup_1_period_peak_values_std   105.833333   3.5  105.833333\n",
       "pbgroup_2_poly_coeff_2             105.500000   3.5  105.500000\n",
       "pbgroup_0_period_peak_time_max     104.833333   3.5  104.833333\n",
       "pbgroup_1_poly_coeff_0             103.333333   3.5  103.333333\n",
       "pbgroup_1_slope_fpb                102.333333   3.5  102.333333\n",
       "pbgroup_0_period_peak_time_min     100.333333   3.5  100.333333\n",
       "pbgroup_1_period_peak_values_min   100.166667   3.5  100.166667\n",
       "pbgroup_0_period_peak_time_mean     98.833333   3.5   98.833333\n",
       "pbgroup_1_slope                     97.000000   3.5   97.000000\n",
       "pbgroup_1_period_peak_values_mean   95.833333   3.5   95.833333\n",
       "pbgroup_2_poly_coeff_4_fpb          95.000000   3.5   95.000000\n",
       "pbgroup_1_poly_coeff_2              94.166667   3.5   94.166667\n",
       "pbgroup_2_r-value_fpb               93.500000   3.5   93.500000\n",
       "pbgroup_1_period_peak_values_max    90.500000   3.5   90.500000\n",
       "flux_mean                           88.500000   3.5   88.500000\n",
       "pbgroup_1_poly_coeff_0_fpb          85.500000   3.5   85.500000\n",
       "pbgroup_2_slope_fpb                 82.833333   3.5   82.833333\n",
       "pbgroup_0_poly_coeff_4_fpb          81.833333   3.5   81.833333\n",
       "pbgroup_1_poly_coeff_2_fpb          81.000000   3.5   81.000000\n",
       "pbgroup_1_poly_coeff_4_fpb          78.333333   3.5   78.333333\n",
       "pbgroup_0_poly_coeff_4              75.000000   3.5   75.000000\n",
       "pbgroup_0_poly_coeff_2_fpb          72.000000   3.5   72.000000\n",
       "pbgroup_0_poly_coeff_2              70.500000   3.5   70.500000\n",
       "pbgroup_2_slope                     65.000000   3.5   65.000000"
      ]
     },
     "execution_count": 102,
     "metadata": {},
     "output_type": "execute_result"
    }
   ],
   "source": [
    "importances.groupby('feature').mean().sort_values(by='mean_gain', ascending=False).tail(50)"
   ]
  },
  {
   "cell_type": "markdown",
   "metadata": {},
   "source": [
    "%%time\n",
    "subm_dfs = []\n",
    "for i_c, X_test in tqdm(enumerate(pd.read_csv('../../data/test-poly-with-kernel-and-scaling.csv', index_col=id_colname, chunksize=349289, iterator=True)), total=10):\n",
    "    if 'object_id' in feature_colnames:\n",
    "        raise KeyError('Cannot use object_id as a feature!')\n",
    "    print(\"Loading data...\")\n",
    "    \n",
    "    if not 'z_distance_approx' in set(X.columns)\n",
    "    X_test['z_distance_approx'] = (X_test['hostgal_photoz']+1)**2\n",
    "\n",
    "    print(\"Generating predictions...\")\n",
    "    subm = predict_chunk(X=X_test, features=feature_colnames, clfs=clfs, verbose=verbose)\n",
    "    subm_dfs.append(subm)\n",
    "# return subm_single"
   ]
  },
  {
   "cell_type": "code",
   "execution_count": 58,
   "metadata": {},
   "outputs": [],
   "source": [
    "import os\n",
    "from tqdm.autonotebook import tqdm"
   ]
  },
  {
   "cell_type": "code",
   "execution_count": 75,
   "metadata": {},
   "outputs": [
    {
     "name": "stdout",
     "output_type": "stream",
     "text": [
      "test-3band-series-models-without-kernel-features-0.csv\n",
      "test-3band-series-models-without-kernel-features-1.csv\n",
      "test-3band-series-models-without-kernel-features-2.csv\n",
      "test-3band-series-models-without-kernel-features-3.csv\n",
      "test-3band-series-models-without-kernel-features-4.csv\n",
      "test-3band-series-models-without-kernel-features-MISSED.csv\n"
     ]
    }
   ],
   "source": [
    "!ls ../../data/features-final/"
   ]
  },
  {
   "cell_type": "code",
   "execution_count": 76,
   "metadata": {},
   "outputs": [],
   "source": [
    "csv_dir = '../../data/features-final/'\n",
    "csv_paths = [os.path.abspath(os.path.join(csv_dir, fname)) for fname in os.listdir(csv_dir) if not fname.startswith('.')]"
   ]
  },
  {
   "cell_type": "code",
   "execution_count": 77,
   "metadata": {},
   "outputs": [
    {
     "name": "stdout",
     "output_type": "stream",
     "text": [
      "CPU times: user 1min 33s, sys: 9.94 s, total: 1min 43s\n",
      "Wall time: 1min 43s\n"
     ]
    }
   ],
   "source": [
    "%%time\n",
    "csvs = [pd.read_csv(path) for path in csv_paths]"
   ]
  },
  {
   "cell_type": "code",
   "execution_count": 78,
   "metadata": {},
   "outputs": [
    {
     "data": {
      "text/plain": [
       "6"
      ]
     },
     "execution_count": 78,
     "metadata": {},
     "output_type": "execute_result"
    }
   ],
   "source": [
    "len(csvs)"
   ]
  },
  {
   "cell_type": "code",
   "execution_count": 79,
   "metadata": {},
   "outputs": [
    {
     "data": {
      "text/plain": [
       "(673664, 137)"
      ]
     },
     "execution_count": 79,
     "metadata": {},
     "output_type": "execute_result"
    }
   ],
   "source": [
    "csvs[0].shape"
   ]
  },
  {
   "cell_type": "code",
   "execution_count": 80,
   "metadata": {},
   "outputs": [
    {
     "data": {
      "text/plain": [
       "(35434, 137)"
      ]
     },
     "execution_count": 80,
     "metadata": {},
     "output_type": "execute_result"
    }
   ],
   "source": [
    "csvs[-1].shape"
   ]
  },
  {
   "cell_type": "code",
   "execution_count": 81,
   "metadata": {},
   "outputs": [
    {
     "data": {
      "text/plain": [
       "set()"
      ]
     },
     "execution_count": 81,
     "metadata": {},
     "output_type": "execute_result"
    }
   ],
   "source": [
    "set(csvs[0].columns) - set(csvs[-1].columns)"
   ]
  },
  {
   "cell_type": "code",
   "execution_count": 82,
   "metadata": {},
   "outputs": [
    {
     "name": "stdout",
     "output_type": "stream",
     "text": [
      "CPU times: user 1.42 s, sys: 11.6 s, total: 13.1 s\n",
      "Wall time: 13.1 s\n"
     ]
    }
   ],
   "source": [
    "%%time\n",
    "full_new_features = pd.concat(csvs, ignore_index=True)"
   ]
  },
  {
   "cell_type": "code",
   "execution_count": 83,
   "metadata": {},
   "outputs": [
    {
     "name": "stdout",
     "output_type": "stream",
     "text": [
      "Done\n"
     ]
    }
   ],
   "source": [
    "print(\"Done\")"
   ]
  },
  {
   "cell_type": "code",
   "execution_count": 84,
   "metadata": {},
   "outputs": [
    {
     "data": {
      "text/plain": [
       "0    104853812\n",
       "1    109643979\n",
       "2    109643990\n",
       "3    109644049\n",
       "4    109644198\n",
       "Name: object_id, dtype: int64"
      ]
     },
     "execution_count": 84,
     "metadata": {},
     "output_type": "execute_result"
    }
   ],
   "source": [
    "full_new_features['object_id'].head()"
   ]
  },
  {
   "cell_type": "code",
   "execution_count": 85,
   "metadata": {},
   "outputs": [],
   "source": [
    "# %%time\n",
    "# full_new_features['object_id'] = full_new_features['Unnamed: 0']\n",
    "# del full_new_features['Unnamed: 0']"
   ]
  },
  {
   "cell_type": "code",
   "execution_count": 86,
   "metadata": {},
   "outputs": [
    {
     "name": "stdout",
     "output_type": "stream",
     "text": [
      "CPU times: user 2.26 s, sys: 24.8 s, total: 27.1 s\n",
      "Wall time: 27.1 s\n"
     ]
    }
   ],
   "source": [
    "%%time\n",
    "full_new_features = full_new_features.sort_values(by='object_id')"
   ]
  },
  {
   "cell_type": "code",
   "execution_count": 87,
   "metadata": {},
   "outputs": [
    {
     "data": {
      "text/plain": [
       "2912011    13\n",
       "2912012    14\n",
       "2912013    17\n",
       "2912014    23\n",
       "2912015    34\n",
       "Name: object_id, dtype: int64"
      ]
     },
     "execution_count": 87,
     "metadata": {},
     "output_type": "execute_result"
    }
   ],
   "source": [
    "full_new_features['object_id'].head()"
   ]
  },
  {
   "cell_type": "code",
   "execution_count": 88,
   "metadata": {},
   "outputs": [
    {
     "data": {
      "text/plain": [
       "1551218    130787966\n",
       "1551219    130787971\n",
       "1551220    130787974\n",
       "1551221    130788053\n",
       "2273939    130788054\n",
       "Name: object_id, dtype: int64"
      ]
     },
     "execution_count": 88,
     "metadata": {},
     "output_type": "execute_result"
    }
   ],
   "source": [
    "full_new_features['object_id'].tail()"
   ]
  },
  {
   "cell_type": "code",
   "execution_count": 89,
   "metadata": {},
   "outputs": [
    {
     "name": "stdout",
     "output_type": "stream",
     "text": [
      "CPU times: user 12 ms, sys: 8 ms, total: 20 ms\n",
      "Wall time: 17.3 ms\n"
     ]
    }
   ],
   "source": [
    "%%time\n",
    "full_new_features.index = full_new_features['object_id']\n",
    "del full_new_features['object_id']"
   ]
  },
  {
   "cell_type": "code",
   "execution_count": 90,
   "metadata": {},
   "outputs": [
    {
     "data": {
      "text/html": [
       "<div>\n",
       "<style scoped>\n",
       "    .dataframe tbody tr th:only-of-type {\n",
       "        vertical-align: middle;\n",
       "    }\n",
       "\n",
       "    .dataframe tbody tr th {\n",
       "        vertical-align: top;\n",
       "    }\n",
       "\n",
       "    .dataframe thead th {\n",
       "        text-align: right;\n",
       "    }\n",
       "</style>\n",
       "<table border=\"1\" class=\"dataframe\">\n",
       "  <thead>\n",
       "    <tr style=\"text-align: right;\">\n",
       "      <th></th>\n",
       "      <th>0__fft_coefficient__coeff_0__attr_\"abs\"_preprocessed</th>\n",
       "      <th>0__fft_coefficient__coeff_1__attr_\"abs\"_preprocessed</th>\n",
       "      <th>0__kurtosis_preprocessed</th>\n",
       "      <th>0__maximum_preprocessed</th>\n",
       "      <th>0__mean_abs_change_preprocessed</th>\n",
       "      <th>0__mean_change_preprocessed</th>\n",
       "      <th>0__minimum_preprocessed</th>\n",
       "      <th>0__skewness_preprocessed</th>\n",
       "      <th>1__fft_coefficient__coeff_0__attr_\"abs\"_preprocessed</th>\n",
       "      <th>1__fft_coefficient__coeff_1__attr_\"abs\"_preprocessed</th>\n",
       "      <th>...</th>\n",
       "      <th>pbgroup_2_poly_coeff_1_fpb</th>\n",
       "      <th>pbgroup_2_poly_coeff_2_fpb</th>\n",
       "      <th>pbgroup_2_poly_coeff_3_fpb</th>\n",
       "      <th>pbgroup_2_poly_coeff_4_fpb</th>\n",
       "      <th>pbgroup_2_poly_residuals_max_fpb</th>\n",
       "      <th>pbgroup_2_poly_residuals_mean_fpb</th>\n",
       "      <th>pbgroup_2_poly_residuals_min_fpb</th>\n",
       "      <th>pbgroup_2_r-value_fpb</th>\n",
       "      <th>pbgroup_2_slope_fpb</th>\n",
       "      <th>pbgroup_2_stderr_fpb</th>\n",
       "    </tr>\n",
       "    <tr>\n",
       "      <th>object_id</th>\n",
       "      <th></th>\n",
       "      <th></th>\n",
       "      <th></th>\n",
       "      <th></th>\n",
       "      <th></th>\n",
       "      <th></th>\n",
       "      <th></th>\n",
       "      <th></th>\n",
       "      <th></th>\n",
       "      <th></th>\n",
       "      <th></th>\n",
       "      <th></th>\n",
       "      <th></th>\n",
       "      <th></th>\n",
       "      <th></th>\n",
       "      <th></th>\n",
       "      <th></th>\n",
       "      <th></th>\n",
       "      <th></th>\n",
       "      <th></th>\n",
       "      <th></th>\n",
       "    </tr>\n",
       "  </thead>\n",
       "  <tbody>\n",
       "    <tr>\n",
       "      <th>13</th>\n",
       "      <td>1275.514121</td>\n",
       "      <td>1043.183179</td>\n",
       "      <td>0.137475</td>\n",
       "      <td>74.435603</td>\n",
       "      <td>10.210332</td>\n",
       "      <td>0.148109</td>\n",
       "      <td>-22.070615</td>\n",
       "      <td>1.006924</td>\n",
       "      <td>50.481021</td>\n",
       "      <td>65.591719</td>\n",
       "      <td>...</td>\n",
       "      <td>-100.355597</td>\n",
       "      <td>139.522273</td>\n",
       "      <td>103.744946</td>\n",
       "      <td>-3.819939</td>\n",
       "      <td>8555.210445</td>\n",
       "      <td>8555.210445</td>\n",
       "      <td>8555.210445</td>\n",
       "      <td>0.748351</td>\n",
       "      <td>23.471380</td>\n",
       "      <td>2.080390</td>\n",
       "    </tr>\n",
       "    <tr>\n",
       "      <th>14</th>\n",
       "      <td>597.702454</td>\n",
       "      <td>402.995549</td>\n",
       "      <td>0.600015</td>\n",
       "      <td>39.538218</td>\n",
       "      <td>10.690306</td>\n",
       "      <td>-0.045670</td>\n",
       "      <td>-29.687218</td>\n",
       "      <td>0.278007</td>\n",
       "      <td>60.504554</td>\n",
       "      <td>69.700221</td>\n",
       "      <td>...</td>\n",
       "      <td>10.566722</td>\n",
       "      <td>-55.388797</td>\n",
       "      <td>-7.091392</td>\n",
       "      <td>12.127507</td>\n",
       "      <td>12680.025090</td>\n",
       "      <td>12680.025090</td>\n",
       "      <td>12680.025090</td>\n",
       "      <td>-0.370549</td>\n",
       "      <td>-6.395096</td>\n",
       "      <td>1.602987</td>\n",
       "    </tr>\n",
       "    <tr>\n",
       "      <th>17</th>\n",
       "      <td>733.323925</td>\n",
       "      <td>830.395899</td>\n",
       "      <td>2.767672</td>\n",
       "      <td>56.113448</td>\n",
       "      <td>12.875644</td>\n",
       "      <td>0.126909</td>\n",
       "      <td>-47.547976</td>\n",
       "      <td>0.256336</td>\n",
       "      <td>0.000000</td>\n",
       "      <td>0.000000</td>\n",
       "      <td>...</td>\n",
       "      <td>-11.736651</td>\n",
       "      <td>-15.155609</td>\n",
       "      <td>13.406239</td>\n",
       "      <td>10.534650</td>\n",
       "      <td>32234.260577</td>\n",
       "      <td>32234.260577</td>\n",
       "      <td>32234.260577</td>\n",
       "      <td>0.389518</td>\n",
       "      <td>9.966235</td>\n",
       "      <td>2.216834</td>\n",
       "    </tr>\n",
       "    <tr>\n",
       "      <th>23</th>\n",
       "      <td>785.517245</td>\n",
       "      <td>694.123342</td>\n",
       "      <td>4.901700</td>\n",
       "      <td>76.702340</td>\n",
       "      <td>12.259997</td>\n",
       "      <td>-0.057727</td>\n",
       "      <td>-34.528110</td>\n",
       "      <td>1.511056</td>\n",
       "      <td>2.123694</td>\n",
       "      <td>40.800082</td>\n",
       "      <td>...</td>\n",
       "      <td>11.954533</td>\n",
       "      <td>281.915969</td>\n",
       "      <td>-35.366900</td>\n",
       "      <td>-99.366657</td>\n",
       "      <td>19812.167808</td>\n",
       "      <td>19812.167808</td>\n",
       "      <td>19812.167808</td>\n",
       "      <td>0.049549</td>\n",
       "      <td>1.213089</td>\n",
       "      <td>2.445244</td>\n",
       "    </tr>\n",
       "    <tr>\n",
       "      <th>34</th>\n",
       "      <td>1962.518006</td>\n",
       "      <td>2028.888863</td>\n",
       "      <td>14.100532</td>\n",
       "      <td>239.794310</td>\n",
       "      <td>12.656241</td>\n",
       "      <td>-0.164516</td>\n",
       "      <td>-28.287242</td>\n",
       "      <td>3.830997</td>\n",
       "      <td>139.013983</td>\n",
       "      <td>117.919747</td>\n",
       "      <td>...</td>\n",
       "      <td>14.978577</td>\n",
       "      <td>-1167.791303</td>\n",
       "      <td>-42.752353</td>\n",
       "      <td>428.473686</td>\n",
       "      <td>159679.731491</td>\n",
       "      <td>159679.731491</td>\n",
       "      <td>159679.731491</td>\n",
       "      <td>0.067567</td>\n",
       "      <td>4.301150</td>\n",
       "      <td>5.974712</td>\n",
       "    </tr>\n",
       "  </tbody>\n",
       "</table>\n",
       "<p>5 rows × 136 columns</p>\n",
       "</div>"
      ],
      "text/plain": [
       "           0__fft_coefficient__coeff_0__attr_\"abs\"_preprocessed  \\\n",
       "object_id                                                         \n",
       "13                                               1275.514121      \n",
       "14                                                597.702454      \n",
       "17                                                733.323925      \n",
       "23                                                785.517245      \n",
       "34                                               1962.518006      \n",
       "\n",
       "           0__fft_coefficient__coeff_1__attr_\"abs\"_preprocessed  \\\n",
       "object_id                                                         \n",
       "13                                               1043.183179      \n",
       "14                                                402.995549      \n",
       "17                                                830.395899      \n",
       "23                                                694.123342      \n",
       "34                                               2028.888863      \n",
       "\n",
       "           0__kurtosis_preprocessed  0__maximum_preprocessed  \\\n",
       "object_id                                                      \n",
       "13                         0.137475                74.435603   \n",
       "14                         0.600015                39.538218   \n",
       "17                         2.767672                56.113448   \n",
       "23                         4.901700                76.702340   \n",
       "34                        14.100532               239.794310   \n",
       "\n",
       "           0__mean_abs_change_preprocessed  0__mean_change_preprocessed  \\\n",
       "object_id                                                                 \n",
       "13                               10.210332                     0.148109   \n",
       "14                               10.690306                    -0.045670   \n",
       "17                               12.875644                     0.126909   \n",
       "23                               12.259997                    -0.057727   \n",
       "34                               12.656241                    -0.164516   \n",
       "\n",
       "           0__minimum_preprocessed  0__skewness_preprocessed  \\\n",
       "object_id                                                      \n",
       "13                      -22.070615                  1.006924   \n",
       "14                      -29.687218                  0.278007   \n",
       "17                      -47.547976                  0.256336   \n",
       "23                      -34.528110                  1.511056   \n",
       "34                      -28.287242                  3.830997   \n",
       "\n",
       "           1__fft_coefficient__coeff_0__attr_\"abs\"_preprocessed  \\\n",
       "object_id                                                         \n",
       "13                                                 50.481021      \n",
       "14                                                 60.504554      \n",
       "17                                                  0.000000      \n",
       "23                                                  2.123694      \n",
       "34                                                139.013983      \n",
       "\n",
       "           1__fft_coefficient__coeff_1__attr_\"abs\"_preprocessed  \\\n",
       "object_id                                                         \n",
       "13                                                 65.591719      \n",
       "14                                                 69.700221      \n",
       "17                                                  0.000000      \n",
       "23                                                 40.800082      \n",
       "34                                                117.919747      \n",
       "\n",
       "                   ...           pbgroup_2_poly_coeff_1_fpb  \\\n",
       "object_id          ...                                        \n",
       "13                 ...                          -100.355597   \n",
       "14                 ...                            10.566722   \n",
       "17                 ...                           -11.736651   \n",
       "23                 ...                            11.954533   \n",
       "34                 ...                            14.978577   \n",
       "\n",
       "           pbgroup_2_poly_coeff_2_fpb  pbgroup_2_poly_coeff_3_fpb  \\\n",
       "object_id                                                           \n",
       "13                         139.522273                  103.744946   \n",
       "14                         -55.388797                   -7.091392   \n",
       "17                         -15.155609                   13.406239   \n",
       "23                         281.915969                  -35.366900   \n",
       "34                       -1167.791303                  -42.752353   \n",
       "\n",
       "           pbgroup_2_poly_coeff_4_fpb  pbgroup_2_poly_residuals_max_fpb  \\\n",
       "object_id                                                                 \n",
       "13                          -3.819939                       8555.210445   \n",
       "14                          12.127507                      12680.025090   \n",
       "17                          10.534650                      32234.260577   \n",
       "23                         -99.366657                      19812.167808   \n",
       "34                         428.473686                     159679.731491   \n",
       "\n",
       "           pbgroup_2_poly_residuals_mean_fpb  \\\n",
       "object_id                                      \n",
       "13                               8555.210445   \n",
       "14                              12680.025090   \n",
       "17                              32234.260577   \n",
       "23                              19812.167808   \n",
       "34                             159679.731491   \n",
       "\n",
       "           pbgroup_2_poly_residuals_min_fpb  pbgroup_2_r-value_fpb  \\\n",
       "object_id                                                            \n",
       "13                              8555.210445               0.748351   \n",
       "14                             12680.025090              -0.370549   \n",
       "17                             32234.260577               0.389518   \n",
       "23                             19812.167808               0.049549   \n",
       "34                            159679.731491               0.067567   \n",
       "\n",
       "           pbgroup_2_slope_fpb  pbgroup_2_stderr_fpb  \n",
       "object_id                                             \n",
       "13                   23.471380              2.080390  \n",
       "14                   -6.395096              1.602987  \n",
       "17                    9.966235              2.216834  \n",
       "23                    1.213089              2.445244  \n",
       "34                    4.301150              5.974712  \n",
       "\n",
       "[5 rows x 136 columns]"
      ]
     },
     "execution_count": 90,
     "metadata": {},
     "output_type": "execute_result"
    }
   ],
   "source": [
    "full_new_features.head()"
   ]
  },
  {
   "cell_type": "markdown",
   "metadata": {},
   "source": [
    "##### Prepare to join with previous features"
   ]
  },
  {
   "cell_type": "code",
   "execution_count": 44,
   "metadata": {},
   "outputs": [
    {
     "name": "stdout",
     "output_type": "stream",
     "text": [
      "CPU times: user 2min 51s, sys: 52.3 s, total: 3min 43s\n",
      "Wall time: 3min 53s\n"
     ]
    }
   ],
   "source": [
    "%%time\n",
    "df_prev = pd.read_csv('../../data/test-new-poly-with-kernel.csv')"
   ]
  },
  {
   "cell_type": "code",
   "execution_count": 91,
   "metadata": {},
   "outputs": [
    {
     "data": {
      "text/plain": [
       "True"
      ]
     },
     "execution_count": 91,
     "metadata": {},
     "output_type": "execute_result"
    }
   ],
   "source": [
    "set(df_prev['object_id']) == set(full_new_features.index)"
   ]
  },
  {
   "cell_type": "code",
   "execution_count": 92,
   "metadata": {},
   "outputs": [],
   "source": [
    "missing_ids = sorted(list(set(df_prev['object_id'].unique()) - set(full_new_features.index)))"
   ]
  },
  {
   "cell_type": "code",
   "execution_count": 93,
   "metadata": {},
   "outputs": [
    {
     "data": {
      "text/plain": [
       "[]"
      ]
     },
     "execution_count": 93,
     "metadata": {},
     "output_type": "execute_result"
    }
   ],
   "source": [
    "missing_ids[:10]"
   ]
  },
  {
   "cell_type": "code",
   "execution_count": 94,
   "metadata": {},
   "outputs": [
    {
     "data": {
      "text/plain": [
       "[]"
      ]
     },
     "execution_count": 94,
     "metadata": {},
     "output_type": "execute_result"
    }
   ],
   "source": [
    "missing_ids[-10:]"
   ]
  },
  {
   "cell_type": "markdown",
   "metadata": {},
   "source": [
    "##### WARNING: There are missing IDs, we need to inspect where the leak happend and find errors:"
   ]
  },
  {
   "cell_type": "markdown",
   "metadata": {},
   "source": [
    "Generating missing features"
   ]
  },
  {
   "cell_type": "code",
   "execution_count": 67,
   "metadata": {},
   "outputs": [],
   "source": [
    "missing_ids = set(missing_ids)"
   ]
  },
  {
   "cell_type": "code",
   "execution_count": 69,
   "metadata": {},
   "outputs": [],
   "source": [
    "fcp = {\n",
    "    'flux': {\n",
    "        'longest_strike_above_mean': None,\n",
    "        'longest_strike_below_mean': None,\n",
    "        'mean_change': None,\n",
    "        'mean_abs_change': None,\n",
    "        'length': None,\n",
    "    },\n",
    "\n",
    "    'flux_by_flux_ratio_sq': {\n",
    "        'longest_strike_above_mean': None,\n",
    "        'longest_strike_below_mean': None,       \n",
    "    },\n",
    "\n",
    "    'flux_passband': {\n",
    "        'fft_coefficient': [\n",
    "                {'coeff': 0, 'attr': 'abs'}, \n",
    "                {'coeff': 1, 'attr': 'abs'}\n",
    "            ],\n",
    "        'maximum': None, \n",
    "        'minimum': None,\n",
    "        'mean_change': None,\n",
    "        'mean_abs_change': None,\n",
    "        'kurtosis' : None, \n",
    "        'skewness' : None,\n",
    "    },\n",
    "\n",
    "    'mjd': {\n",
    "        'maximum': None, \n",
    "        'minimum': None,\n",
    "        'mean_change': None,\n",
    "        'mean_abs_change': None,\n",
    "    },\n",
    "}"
   ]
  },
  {
   "cell_type": "code",
   "execution_count": 70,
   "metadata": {},
   "outputs": [],
   "source": [
    "n_jobs=2\n",
    "meta_path='../../data/raw/test_set_metadata.csv'\n",
    "test_dir_path='../../data/raw-test-splits/'\n",
    "output_path = '../../data/features-final/test-3band-series-models-without-kernel-features-MISSED.csv'\n",
    "id_colname = 'object_id'"
   ]
  },
  {
   "cell_type": "code",
   "execution_count": 71,
   "metadata": {},
   "outputs": [],
   "source": [
    "from plasticc.featurize import *\n",
    "\n",
    "import numpy as np\n",
    "import pandas as pd\n",
    "from tqdm.autonotebook import tqdm\n",
    "\n",
    "import multiprocessing as mp\n",
    "import os\n",
    "import sys\n",
    "\n",
    "import gc\n",
    "gc.enable()"
   ]
  },
  {
   "cell_type": "code",
   "execution_count": 72,
   "metadata": {},
   "outputs": [
    {
     "data": {
      "application/vnd.jupyter.widget-view+json": {
       "model_id": "87444bf2845d4d5f9293218798b00045",
       "version_major": 2,
       "version_minor": 0
      },
      "text/plain": [
       "HBox(children=(IntProgress(value=0), HTML(value='')))"
      ]
     },
     "metadata": {},
     "output_type": "display_data"
    },
    {
     "name": "stderr",
     "output_type": "stream",
     "text": [
      "Feature Extraction: 100%|██████████| 10/10 [01:05<00:00,  6.39s/it]\n"
     ]
    },
    {
     "name": "stdout",
     "output_type": "stream",
     "text": [
      "\n",
      "CPU times: user 13min 27s, sys: 19.9 s, total: 13min 47s\n",
      "Wall time: 14min 35s\n"
     ]
    }
   ],
   "source": [
    "%%time\n",
    "\n",
    "df_meta = pd.read_csv(meta_path)\n",
    "\n",
    "remain_df = None\n",
    "saved = 0\n",
    "for i_c, df in tqdm(enumerate(pd.read_csv(test_path, chunksize=chunks, iterator=True)), total=100):\n",
    "    unique_ids = np.unique(df[id_colname])\n",
    "    new_remain_df = df.loc[df[id_colname] == unique_ids[-1]].copy()\n",
    "    if remain_df is None:\n",
    "        df = df.loc[df[id_colname].isin(unique_ids[:-1])]\n",
    "    else:\n",
    "        df = pd.concat([remain_df, df.loc[df[id_colname].isin(unique_ids[:-1])]], axis=0)\n",
    "    # Create remaining samples df\n",
    "    remain_df = new_remain_df\n",
    "\n",
    "    missing_only = df[df['object_id'].apply(lambda x: x in missing_ids)]\n",
    "    if len(missing_only) == 0:\n",
    "        continue\n",
    "    \n",
    "    preprocessed_df = preprocess_series(missing_only)\n",
    "    redshift_series = pd.Series(df_meta['hostgal_photoz'].fillna(0).values, index=df_meta['object_id'])\n",
    "    preprocessed_df = calculate_fixed_passband_and_scaled_flux(preprocessed_df, redshift_series)\n",
    "    gc.collect()\n",
    "    \n",
    "    series_features_df = calculate_series_features(preprocessed_df, passband_colname='fixed_passband').add_suffix('_fpb')\n",
    "    \n",
    "    agg_df_ts_flux_passband_fpb = extract_features(\n",
    "        preprocessed_df,\n",
    "        column_id='object_id',\n",
    "        column_sort='mjd',\n",
    "        column_kind='fixed_passband',\n",
    "        column_value='flux',\n",
    "        default_fc_parameters=fcp['flux_passband'], \n",
    "        n_jobs=n_jobs\n",
    "    ).add_suffix('_preprocessed')\n",
    "    agg_df_ts_flux_passband_fpb['object_id'] = agg_df_ts_flux_passband_fpb.index\n",
    "    result = agg_df_ts_flux_passband_fpb.join(series_features_df, on='object_id')\n",
    "    result.fillna(0, inplace=True)\n",
    "    \n",
    "    if saved == 0:\n",
    "        result.to_csv(output_path, header=True, mode='w', index=True)\n",
    "        saved = saved + 1\n",
    "    else:\n",
    "        result.to_csv(output_path, header=False, mode='a', index=True)\n",
    "        saved = saved + 1\n",
    "\n",
    "missing_only = remain_df[remain_df['object_id'].apply(lambda x: x in missing_ids)]\n",
    "if len(missing_only) > 0:\n",
    "    preprocessed_df = preprocess_series(missing_only)\n",
    "    redshift_series = pd.Series(df_meta['hostgal_photoz'].fillna(0).values, index=df_meta['object_id'])\n",
    "    preprocessed_df = calculate_fixed_passband_and_scaled_flux(preprocessed_df, redshift_series)\n",
    "    gc.collect()\n",
    "    \n",
    "    series_features_df = calculate_series_features(preprocessed_df, passband_colname='fixed_passband').add_suffix('_fpb')\n",
    "    \n",
    "    agg_df_ts_flux_passband_fpb = extract_features(\n",
    "        preprocessed_df,\n",
    "        column_id='object_id',\n",
    "        column_sort='mjd',\n",
    "        column_kind='fixed_passband',\n",
    "        column_value='flux',\n",
    "        default_fc_parameters=fcp['flux_passband'], \n",
    "        n_jobs=n_jobs\n",
    "    ).add_suffix('_preprocessed')\n",
    "    agg_df_ts_flux_passband_fpb['object_id'] = agg_df_ts_flux_passband_fpb.index\n",
    "    result = agg_df_ts_flux_passband_fpb.join(series_features_df, on='object_id')\n",
    "    result.fillna(0, inplace=True)\n",
    "    \n",
    "    if saved == 0:\n",
    "        result.to_csv(output_path, header=True, mode='w', index=True)\n",
    "        saved = saved + 1\n",
    "    else:\n",
    "        result.to_csv(output_path, header=False, mode='a', index=True)\n",
    "        saved = saved + 1"
   ]
  },
  {
   "cell_type": "code",
   "execution_count": 73,
   "metadata": {},
   "outputs": [
    {
     "name": "stdout",
     "output_type": "stream",
     "text": [
      "Done\n"
     ]
    }
   ],
   "source": [
    "print(\"Done\")"
   ]
  },
  {
   "cell_type": "code",
   "execution_count": 74,
   "metadata": {},
   "outputs": [
    {
     "data": {
      "text/plain": [
       "1"
      ]
     },
     "execution_count": 74,
     "metadata": {},
     "output_type": "execute_result"
    }
   ],
   "source": [
    "saved"
   ]
  },
  {
   "cell_type": "markdown",
   "metadata": {},
   "source": [
    "Go back, reload array of CSVs and check whether indices match this time (they should)"
   ]
  },
  {
   "cell_type": "markdown",
   "metadata": {},
   "source": [
    "##### Perform the actual join"
   ]
  },
  {
   "cell_type": "code",
   "execution_count": 96,
   "metadata": {},
   "outputs": [
    {
     "name": "stdout",
     "output_type": "stream",
     "text": [
      "CPU times: user 3.88 s, sys: 40.5 s, total: 44.3 s\n",
      "Wall time: 44.3 s\n"
     ]
    }
   ],
   "source": [
    "%%time\n",
    "df_full_feat = df_prev.join(full_new_features, on='object_id')"
   ]
  },
  {
   "cell_type": "code",
   "execution_count": 97,
   "metadata": {},
   "outputs": [
    {
     "data": {
      "text/plain": [
       "(3492890, 292)"
      ]
     },
     "execution_count": 97,
     "metadata": {},
     "output_type": "execute_result"
    }
   ],
   "source": [
    "df_full_feat.shape"
   ]
  },
  {
   "cell_type": "code",
   "execution_count": 98,
   "metadata": {},
   "outputs": [
    {
     "data": {
      "text/html": [
       "<div>\n",
       "<style scoped>\n",
       "    .dataframe tbody tr th:only-of-type {\n",
       "        vertical-align: middle;\n",
       "    }\n",
       "\n",
       "    .dataframe tbody tr th {\n",
       "        vertical-align: top;\n",
       "    }\n",
       "\n",
       "    .dataframe thead th {\n",
       "        text-align: right;\n",
       "    }\n",
       "</style>\n",
       "<table border=\"1\" class=\"dataframe\">\n",
       "  <thead>\n",
       "    <tr style=\"text-align: right;\">\n",
       "      <th></th>\n",
       "      <th>object_id</th>\n",
       "      <th>flux_min</th>\n",
       "      <th>flux_max</th>\n",
       "      <th>flux_mean</th>\n",
       "      <th>flux_median</th>\n",
       "      <th>flux_std</th>\n",
       "      <th>flux_skew</th>\n",
       "      <th>flux_err_min</th>\n",
       "      <th>flux_err_max</th>\n",
       "      <th>flux_err_mean</th>\n",
       "      <th>...</th>\n",
       "      <th>pbgroup_2_poly_coeff_1_fpb</th>\n",
       "      <th>pbgroup_2_poly_coeff_2_fpb</th>\n",
       "      <th>pbgroup_2_poly_coeff_3_fpb</th>\n",
       "      <th>pbgroup_2_poly_coeff_4_fpb</th>\n",
       "      <th>pbgroup_2_poly_residuals_max_fpb</th>\n",
       "      <th>pbgroup_2_poly_residuals_mean_fpb</th>\n",
       "      <th>pbgroup_2_poly_residuals_min_fpb</th>\n",
       "      <th>pbgroup_2_r-value_fpb</th>\n",
       "      <th>pbgroup_2_slope_fpb</th>\n",
       "      <th>pbgroup_2_stderr_fpb</th>\n",
       "    </tr>\n",
       "  </thead>\n",
       "  <tbody>\n",
       "    <tr>\n",
       "      <th>0</th>\n",
       "      <td>13</td>\n",
       "      <td>-12.680235</td>\n",
       "      <td>42.765503</td>\n",
       "      <td>3.997127</td>\n",
       "      <td>0.616561</td>\n",
       "      <td>9.149645</td>\n",
       "      <td>2.037355</td>\n",
       "      <td>0.691634</td>\n",
       "      <td>11.257108</td>\n",
       "      <td>2.461810</td>\n",
       "      <td>...</td>\n",
       "      <td>-100.355597</td>\n",
       "      <td>139.522273</td>\n",
       "      <td>103.744946</td>\n",
       "      <td>-3.819939</td>\n",
       "      <td>8555.210445</td>\n",
       "      <td>8555.210445</td>\n",
       "      <td>8555.210445</td>\n",
       "      <td>0.748351</td>\n",
       "      <td>23.471380</td>\n",
       "      <td>2.080390</td>\n",
       "    </tr>\n",
       "    <tr>\n",
       "      <th>1</th>\n",
       "      <td>14</td>\n",
       "      <td>-11.142164</td>\n",
       "      <td>14.839427</td>\n",
       "      <td>0.884047</td>\n",
       "      <td>0.072856</td>\n",
       "      <td>3.399946</td>\n",
       "      <td>0.970525</td>\n",
       "      <td>0.690589</td>\n",
       "      <td>11.249375</td>\n",
       "      <td>2.457580</td>\n",
       "      <td>...</td>\n",
       "      <td>10.566722</td>\n",
       "      <td>-55.388797</td>\n",
       "      <td>-7.091392</td>\n",
       "      <td>12.127507</td>\n",
       "      <td>12680.025090</td>\n",
       "      <td>12680.025090</td>\n",
       "      <td>12680.025090</td>\n",
       "      <td>-0.370549</td>\n",
       "      <td>-6.395096</td>\n",
       "      <td>1.602987</td>\n",
       "    </tr>\n",
       "    <tr>\n",
       "      <th>2</th>\n",
       "      <td>17</td>\n",
       "      <td>-14.202744</td>\n",
       "      <td>16.761280</td>\n",
       "      <td>0.791032</td>\n",
       "      <td>0.458390</td>\n",
       "      <td>3.886578</td>\n",
       "      <td>0.377131</td>\n",
       "      <td>0.663680</td>\n",
       "      <td>11.278636</td>\n",
       "      <td>2.702947</td>\n",
       "      <td>...</td>\n",
       "      <td>-11.736651</td>\n",
       "      <td>-15.155609</td>\n",
       "      <td>13.406239</td>\n",
       "      <td>10.534650</td>\n",
       "      <td>32234.260577</td>\n",
       "      <td>32234.260577</td>\n",
       "      <td>32234.260577</td>\n",
       "      <td>0.389518</td>\n",
       "      <td>9.966235</td>\n",
       "      <td>2.216834</td>\n",
       "    </tr>\n",
       "    <tr>\n",
       "      <th>3</th>\n",
       "      <td>23</td>\n",
       "      <td>-12.631923</td>\n",
       "      <td>28.061138</td>\n",
       "      <td>0.970396</td>\n",
       "      <td>0.465986</td>\n",
       "      <td>4.100713</td>\n",
       "      <td>2.177402</td>\n",
       "      <td>0.697639</td>\n",
       "      <td>11.305429</td>\n",
       "      <td>2.480364</td>\n",
       "      <td>...</td>\n",
       "      <td>11.954533</td>\n",
       "      <td>281.915969</td>\n",
       "      <td>-35.366900</td>\n",
       "      <td>-99.366657</td>\n",
       "      <td>19812.167808</td>\n",
       "      <td>19812.167808</td>\n",
       "      <td>19812.167808</td>\n",
       "      <td>0.049549</td>\n",
       "      <td>1.213089</td>\n",
       "      <td>2.445244</td>\n",
       "    </tr>\n",
       "    <tr>\n",
       "      <th>4</th>\n",
       "      <td>34</td>\n",
       "      <td>-13.239577</td>\n",
       "      <td>124.475609</td>\n",
       "      <td>4.580070</td>\n",
       "      <td>0.301366</td>\n",
       "      <td>19.862714</td>\n",
       "      <td>4.537527</td>\n",
       "      <td>0.679312</td>\n",
       "      <td>11.365292</td>\n",
       "      <td>2.746784</td>\n",
       "      <td>...</td>\n",
       "      <td>14.978577</td>\n",
       "      <td>-1167.791303</td>\n",
       "      <td>-42.752353</td>\n",
       "      <td>428.473686</td>\n",
       "      <td>159679.731491</td>\n",
       "      <td>159679.731491</td>\n",
       "      <td>159679.731491</td>\n",
       "      <td>0.067567</td>\n",
       "      <td>4.301150</td>\n",
       "      <td>5.974712</td>\n",
       "    </tr>\n",
       "  </tbody>\n",
       "</table>\n",
       "<p>5 rows × 292 columns</p>\n",
       "</div>"
      ],
      "text/plain": [
       "   object_id   flux_min    flux_max  flux_mean  flux_median   flux_std  \\\n",
       "0         13 -12.680235   42.765503   3.997127     0.616561   9.149645   \n",
       "1         14 -11.142164   14.839427   0.884047     0.072856   3.399946   \n",
       "2         17 -14.202744   16.761280   0.791032     0.458390   3.886578   \n",
       "3         23 -12.631923   28.061138   0.970396     0.465986   4.100713   \n",
       "4         34 -13.239577  124.475609   4.580070     0.301366  19.862714   \n",
       "\n",
       "   flux_skew  flux_err_min  flux_err_max  flux_err_mean          ...           \\\n",
       "0   2.037355      0.691634     11.257108       2.461810          ...            \n",
       "1   0.970525      0.690589     11.249375       2.457580          ...            \n",
       "2   0.377131      0.663680     11.278636       2.702947          ...            \n",
       "3   2.177402      0.697639     11.305429       2.480364          ...            \n",
       "4   4.537527      0.679312     11.365292       2.746784          ...            \n",
       "\n",
       "   pbgroup_2_poly_coeff_1_fpb  pbgroup_2_poly_coeff_2_fpb  \\\n",
       "0                 -100.355597                  139.522273   \n",
       "1                   10.566722                  -55.388797   \n",
       "2                  -11.736651                  -15.155609   \n",
       "3                   11.954533                  281.915969   \n",
       "4                   14.978577                -1167.791303   \n",
       "\n",
       "   pbgroup_2_poly_coeff_3_fpb  pbgroup_2_poly_coeff_4_fpb  \\\n",
       "0                  103.744946                   -3.819939   \n",
       "1                   -7.091392                   12.127507   \n",
       "2                   13.406239                   10.534650   \n",
       "3                  -35.366900                  -99.366657   \n",
       "4                  -42.752353                  428.473686   \n",
       "\n",
       "   pbgroup_2_poly_residuals_max_fpb  pbgroup_2_poly_residuals_mean_fpb  \\\n",
       "0                       8555.210445                        8555.210445   \n",
       "1                      12680.025090                       12680.025090   \n",
       "2                      32234.260577                       32234.260577   \n",
       "3                      19812.167808                       19812.167808   \n",
       "4                     159679.731491                      159679.731491   \n",
       "\n",
       "   pbgroup_2_poly_residuals_min_fpb  pbgroup_2_r-value_fpb  \\\n",
       "0                       8555.210445               0.748351   \n",
       "1                      12680.025090              -0.370549   \n",
       "2                      32234.260577               0.389518   \n",
       "3                      19812.167808               0.049549   \n",
       "4                     159679.731491               0.067567   \n",
       "\n",
       "   pbgroup_2_slope_fpb  pbgroup_2_stderr_fpb  \n",
       "0            23.471380              2.080390  \n",
       "1            -6.395096              1.602987  \n",
       "2             9.966235              2.216834  \n",
       "3             1.213089              2.445244  \n",
       "4             4.301150              5.974712  \n",
       "\n",
       "[5 rows x 292 columns]"
      ]
     },
     "execution_count": 98,
     "metadata": {},
     "output_type": "execute_result"
    }
   ],
   "source": [
    "df_full_feat.head()"
   ]
  },
  {
   "cell_type": "code",
   "execution_count": 101,
   "metadata": {},
   "outputs": [
    {
     "name": "stdout",
     "output_type": "stream",
     "text": [
      "CPU times: user 23min 59s, sys: 17.7 s, total: 24min 17s\n",
      "Wall time: 24min 18s\n"
     ]
    }
   ],
   "source": [
    "%%time\n",
    "df_full_feat.to_csv('../../data/test-poly-with-kernel-and-scaling.csv', index=False)"
   ]
  },
  {
   "cell_type": "code",
   "execution_count": 102,
   "metadata": {},
   "outputs": [
    {
     "name": "stdout",
     "output_type": "stream",
     "text": [
      "Done\n"
     ]
    }
   ],
   "source": [
    "print(\"Done\")"
   ]
  },
  {
   "cell_type": "markdown",
   "metadata": {},
   "source": [
    "### Check feature alignment between train and test"
   ]
  },
  {
   "cell_type": "code",
   "execution_count": 39,
   "metadata": {},
   "outputs": [
    {
     "ename": "NameError",
     "evalue": "name 'df_full_feat' is not defined",
     "output_type": "error",
     "traceback": [
      "\u001b[0;31m---------------------------------------------------------------------------\u001b[0m",
      "\u001b[0;31mNameError\u001b[0m                                 Traceback (most recent call last)",
      "\u001b[0;32m<ipython-input-39-05670986cae0>\u001b[0m in \u001b[0;36m<module>\u001b[0;34m\u001b[0m\n\u001b[0;32m----> 1\u001b[0;31m \u001b[0;34m[\u001b[0m\u001b[0mcol\u001b[0m \u001b[0;32mfor\u001b[0m \u001b[0mcol\u001b[0m \u001b[0;32min\u001b[0m \u001b[0mfeature_colnames\u001b[0m \u001b[0;32mif\u001b[0m \u001b[0mcol\u001b[0m \u001b[0;32mnot\u001b[0m \u001b[0;32min\u001b[0m \u001b[0mset\u001b[0m\u001b[0;34m(\u001b[0m\u001b[0mdf_full_feat\u001b[0m\u001b[0;34m.\u001b[0m\u001b[0mcolumns\u001b[0m\u001b[0;34m)\u001b[0m\u001b[0;34m]\u001b[0m\u001b[0;34m\u001b[0m\u001b[0m\n\u001b[0m",
      "\u001b[0;32m<ipython-input-39-05670986cae0>\u001b[0m in \u001b[0;36m<listcomp>\u001b[0;34m(.0)\u001b[0m\n\u001b[0;32m----> 1\u001b[0;31m \u001b[0;34m[\u001b[0m\u001b[0mcol\u001b[0m \u001b[0;32mfor\u001b[0m \u001b[0mcol\u001b[0m \u001b[0;32min\u001b[0m \u001b[0mfeature_colnames\u001b[0m \u001b[0;32mif\u001b[0m \u001b[0mcol\u001b[0m \u001b[0;32mnot\u001b[0m \u001b[0;32min\u001b[0m \u001b[0mset\u001b[0m\u001b[0;34m(\u001b[0m\u001b[0mdf_full_feat\u001b[0m\u001b[0;34m.\u001b[0m\u001b[0mcolumns\u001b[0m\u001b[0;34m)\u001b[0m\u001b[0;34m]\u001b[0m\u001b[0;34m\u001b[0m\u001b[0m\n\u001b[0m",
      "\u001b[0;31mNameError\u001b[0m: name 'df_full_feat' is not defined"
     ]
    }
   ],
   "source": [
    "[col for col in feature_colnames if col not in set(df_full_feat.columns)]"
   ]
  },
  {
   "cell_type": "code",
   "execution_count": 107,
   "metadata": {},
   "outputs": [
    {
     "name": "stdout",
     "output_type": "stream",
     "text": [
      "CPU times: user 24 ms, sys: 24 ms, total: 48 ms\n",
      "Wall time: 46.3 ms\n"
     ]
    }
   ],
   "source": [
    "%%time\n",
    "df_full_feat['z_distance_approx'] = (df_full_feat['hostgal_photoz']+1)**2"
   ]
  },
  {
   "cell_type": "code",
   "execution_count": 110,
   "metadata": {},
   "outputs": [
    {
     "data": {
      "text/plain": [
       "True"
      ]
     },
     "execution_count": 110,
     "metadata": {},
     "output_type": "execute_result"
    }
   ],
   "source": [
    "# check once again to make sure everything went well\n",
    "[col for col in feature_colnames if col not in set(df_full_feat.columns)] == []"
   ]
  },
  {
   "cell_type": "markdown",
   "metadata": {},
   "source": [
    "### Generate predictions on the test set by reading CSV chunk by chunk"
   ]
  },
  {
   "cell_type": "code",
   "execution_count": 103,
   "metadata": {},
   "outputs": [
    {
     "data": {
      "text/plain": [
       "'/home/kk385830/astronomical-classification/submissions/subm_0.610554_2018-12-18-00-37.csv'"
      ]
     },
     "execution_count": 103,
     "metadata": {},
     "output_type": "execute_result"
    }
   ],
   "source": [
    "submission_file_path = path_from_cv_score(score)\n",
    "submission_file_path"
   ]
  },
  {
   "cell_type": "code",
   "execution_count": 104,
   "metadata": {},
   "outputs": [],
   "source": [
    "from plasticc.final import *"
   ]
  },
  {
   "cell_type": "code",
   "execution_count": 105,
   "metadata": {},
   "outputs": [],
   "source": [
    "import gc\n",
    "import time\n",
    "from typing import List\n",
    "from sklearn.preprocessing import MinMaxScaler\n",
    "\n",
    "import numpy as np\n",
    "import pandas as pd\n",
    "from tqdm import tqdm\n",
    "\n",
    "from plasticc.featurize import process_meta, featurize\n",
    "\n",
    "np.warnings.filterwarnings('ignore')\n",
    "gc.enable()"
   ]
  },
  {
   "cell_type": "code",
   "execution_count": 106,
   "metadata": {},
   "outputs": [],
   "source": [
    "# def predict_test(\n",
    "clfs=clfs\n",
    "feature_colnames=feature_colnames\n",
    "id_colname=id_colname\n",
    "output_path=path_from_cv_score(score)\n",
    "class_99_target_mean=0.12\n",
    "verbose=True"
   ]
  },
  {
   "cell_type": "code",
   "execution_count": 107,
   "metadata": {},
   "outputs": [
    {
     "name": "stdout",
     "output_type": "stream",
     "text": [
      "/home/kk385830/astronomical-classification/submissions/subm_0.610554_2018-12-18-00-37.csv\n"
     ]
    }
   ],
   "source": [
    "print(output_path)"
   ]
  },
  {
   "cell_type": "code",
   "execution_count": 108,
   "metadata": {},
   "outputs": [
    {
     "name": "stderr",
     "output_type": "stream",
     "text": [
      "  0%|          | 0/10 [00:00<?, ?it/s]\n",
      "  0%|          | 0/6 [00:00<?, ?it/s]\u001b[A"
     ]
    },
    {
     "name": "stdout",
     "output_type": "stream",
     "text": [
      "Loading data...\n",
      "Missing columns (z_distance_approx will be fixed automatically): ['z_distance_approx']\n",
      "Generating predictions...\n"
     ]
    },
    {
     "name": "stderr",
     "output_type": "stream",
     "text": [
      "\n",
      " 17%|█▋        | 1/6 [00:16<01:20, 16.02s/it]\u001b[A\n",
      " 33%|███▎      | 2/6 [00:40<01:13, 18.42s/it]\u001b[A\n",
      " 50%|█████     | 3/6 [00:56<00:53, 17.73s/it]\u001b[A\n",
      " 67%|██████▋   | 4/6 [01:19<00:38, 19.30s/it]\u001b[A\n",
      " 83%|████████▎ | 5/6 [01:39<00:19, 19.76s/it]\u001b[A\n",
      "100%|██████████| 6/6 [01:58<00:00, 19.50s/it]\u001b[A\n",
      " 10%|█         | 1/10 [02:44<24:36, 164.04s/it]\n",
      "  0%|          | 0/6 [00:00<?, ?it/s]\u001b[A"
     ]
    },
    {
     "name": "stdout",
     "output_type": "stream",
     "text": [
      "Loading data...\n",
      "Missing columns (z_distance_approx will be fixed automatically): ['z_distance_approx']\n",
      "Generating predictions...\n"
     ]
    },
    {
     "name": "stderr",
     "output_type": "stream",
     "text": [
      "\n",
      " 17%|█▋        | 1/6 [00:19<01:37, 19.57s/it]\u001b[A\n",
      " 33%|███▎      | 2/6 [00:41<01:21, 20.32s/it]\u001b[A\n",
      " 50%|█████     | 3/6 [00:57<00:56, 18.91s/it]\u001b[A\n",
      " 67%|██████▋   | 4/6 [01:19<00:39, 19.87s/it]\u001b[A\n",
      " 83%|████████▎ | 5/6 [01:38<00:19, 19.73s/it]\u001b[A\n",
      "100%|██████████| 6/6 [01:55<00:00, 18.91s/it]\u001b[A\n",
      " 20%|██        | 2/10 [05:27<21:50, 163.84s/it]\n",
      "  0%|          | 0/6 [00:00<?, ?it/s]\u001b[A"
     ]
    },
    {
     "name": "stdout",
     "output_type": "stream",
     "text": [
      "Loading data...\n",
      "Missing columns (z_distance_approx will be fixed automatically): ['z_distance_approx']\n",
      "Generating predictions...\n"
     ]
    },
    {
     "name": "stderr",
     "output_type": "stream",
     "text": [
      "\n",
      " 17%|█▋        | 1/6 [00:17<01:28, 17.69s/it]\u001b[A\n",
      " 33%|███▎      | 2/6 [00:40<01:16, 19.10s/it]\u001b[A\n",
      " 50%|█████     | 3/6 [00:54<00:53, 17.83s/it]\u001b[A\n",
      " 67%|██████▋   | 4/6 [01:16<00:37, 18.82s/it]\u001b[A\n",
      " 83%|████████▎ | 5/6 [01:34<00:18, 18.83s/it]\u001b[A\n",
      "100%|██████████| 6/6 [01:51<00:00, 18.27s/it]\u001b[A\n",
      " 30%|███       | 3/10 [07:54<18:32, 158.90s/it]\n",
      "  0%|          | 0/6 [00:00<?, ?it/s]\u001b[A"
     ]
    },
    {
     "name": "stdout",
     "output_type": "stream",
     "text": [
      "Loading data...\n",
      "Missing columns (z_distance_approx will be fixed automatically): ['z_distance_approx']\n",
      "Generating predictions...\n"
     ]
    },
    {
     "name": "stderr",
     "output_type": "stream",
     "text": [
      "\n",
      " 17%|█▋        | 1/6 [00:17<01:29, 17.93s/it]\u001b[A\n",
      " 33%|███▎      | 2/6 [00:40<01:17, 19.25s/it]\u001b[A\n",
      " 50%|█████     | 3/6 [00:55<00:53, 17.96s/it]\u001b[A\n",
      " 67%|██████▋   | 4/6 [01:16<00:37, 18.99s/it]\u001b[A\n",
      " 83%|████████▎ | 5/6 [01:35<00:19, 19.02s/it]\u001b[A\n",
      "100%|██████████| 6/6 [01:53<00:00, 18.56s/it]\u001b[A\n",
      " 40%|████      | 4/10 [10:26<15:39, 156.60s/it]\n",
      "  0%|          | 0/6 [00:00<?, ?it/s]\u001b[A"
     ]
    },
    {
     "name": "stdout",
     "output_type": "stream",
     "text": [
      "Loading data...\n",
      "Missing columns (z_distance_approx will be fixed automatically): ['z_distance_approx']\n",
      "Generating predictions...\n"
     ]
    },
    {
     "name": "stderr",
     "output_type": "stream",
     "text": [
      "\n",
      " 17%|█▋        | 1/6 [00:18<01:30, 18.13s/it]\u001b[A\n",
      " 33%|███▎      | 2/6 [00:39<01:16, 19.15s/it]\u001b[A\n",
      " 50%|█████     | 3/6 [00:54<00:53, 17.79s/it]\u001b[A\n",
      " 67%|██████▋   | 4/6 [01:15<00:37, 18.80s/it]\u001b[A\n",
      " 83%|████████▎ | 5/6 [01:34<00:18, 18.84s/it]\u001b[A\n",
      "100%|██████████| 6/6 [01:51<00:00, 18.41s/it]\u001b[A\n",
      " 50%|█████     | 5/10 [12:55<12:52, 154.52s/it]\n",
      "  0%|          | 0/6 [00:00<?, ?it/s]\u001b[A"
     ]
    },
    {
     "name": "stdout",
     "output_type": "stream",
     "text": [
      "Loading data...\n",
      "Missing columns (z_distance_approx will be fixed automatically): ['z_distance_approx']\n",
      "Generating predictions...\n"
     ]
    },
    {
     "name": "stderr",
     "output_type": "stream",
     "text": [
      "\n",
      " 17%|█▋        | 1/6 [00:17<01:28, 17.67s/it]\u001b[A\n",
      " 33%|███▎      | 2/6 [00:38<01:14, 18.56s/it]\u001b[A\n",
      " 50%|█████     | 3/6 [00:52<00:51, 17.16s/it]\u001b[A\n",
      " 67%|██████▋   | 4/6 [01:13<00:36, 18.37s/it]\u001b[A\n",
      " 83%|████████▎ | 5/6 [01:32<00:18, 18.61s/it]\u001b[A\n",
      "100%|██████████| 6/6 [01:49<00:00, 18.17s/it]\u001b[A\n",
      " 60%|██████    | 6/10 [15:22<10:09, 152.25s/it]\n",
      "  0%|          | 0/6 [00:00<?, ?it/s]\u001b[A"
     ]
    },
    {
     "name": "stdout",
     "output_type": "stream",
     "text": [
      "Loading data...\n",
      "Missing columns (z_distance_approx will be fixed automatically): ['z_distance_approx']\n",
      "Generating predictions...\n"
     ]
    },
    {
     "name": "stderr",
     "output_type": "stream",
     "text": [
      "\n",
      " 17%|█▋        | 1/6 [00:17<01:29, 17.89s/it]\u001b[A\n",
      " 33%|███▎      | 2/6 [00:39<01:16, 19.03s/it]\u001b[A\n",
      " 50%|█████     | 3/6 [00:54<00:53, 17.83s/it]\u001b[A\n",
      " 67%|██████▋   | 4/6 [01:15<00:37, 18.89s/it]\u001b[A\n",
      " 83%|████████▎ | 5/6 [01:35<00:18, 18.95s/it]\u001b[A\n",
      "100%|██████████| 6/6 [01:52<00:00, 18.52s/it]\u001b[A\n",
      " 70%|███████   | 7/10 [17:52<07:34, 151.45s/it]\n",
      "  0%|          | 0/6 [00:00<?, ?it/s]\u001b[A"
     ]
    },
    {
     "name": "stdout",
     "output_type": "stream",
     "text": [
      "Loading data...\n",
      "Missing columns (z_distance_approx will be fixed automatically): ['z_distance_approx']\n",
      "Generating predictions...\n"
     ]
    },
    {
     "name": "stderr",
     "output_type": "stream",
     "text": [
      "\n",
      " 17%|█▋        | 1/6 [00:17<01:27, 17.50s/it]\u001b[A\n",
      " 33%|███▎      | 2/6 [00:38<01:14, 18.67s/it]\u001b[A\n",
      " 50%|█████     | 3/6 [00:53<00:52, 17.52s/it]\u001b[A\n",
      " 67%|██████▋   | 4/6 [01:14<00:37, 18.54s/it]\u001b[A\n",
      " 83%|████████▎ | 5/6 [01:33<00:18, 18.71s/it]\u001b[A\n",
      "100%|██████████| 6/6 [01:50<00:00, 18.22s/it]\u001b[A\n",
      " 80%|████████  | 8/10 [20:17<04:59, 149.72s/it]\n",
      "  0%|          | 0/6 [00:00<?, ?it/s]\u001b[A"
     ]
    },
    {
     "name": "stdout",
     "output_type": "stream",
     "text": [
      "Loading data...\n",
      "Missing columns (z_distance_approx will be fixed automatically): ['z_distance_approx']\n",
      "Generating predictions...\n"
     ]
    },
    {
     "name": "stderr",
     "output_type": "stream",
     "text": [
      "\n",
      " 17%|█▋        | 1/6 [00:18<01:30, 18.07s/it]\u001b[A\n",
      " 33%|███▎      | 2/6 [00:39<01:16, 19.11s/it]\u001b[A\n",
      " 50%|█████     | 3/6 [00:54<00:53, 17.87s/it]\u001b[A\n",
      " 67%|██████▋   | 4/6 [01:15<00:37, 18.93s/it]\u001b[A\n",
      " 83%|████████▎ | 5/6 [01:35<00:19, 19.03s/it]\u001b[A\n",
      "100%|██████████| 6/6 [01:52<00:00, 18.46s/it]\u001b[A\n",
      " 90%|█████████ | 9/10 [22:42<02:28, 148.28s/it]\n",
      "  0%|          | 0/6 [00:00<?, ?it/s]\u001b[A"
     ]
    },
    {
     "name": "stdout",
     "output_type": "stream",
     "text": [
      "Loading data...\n",
      "Missing columns (z_distance_approx will be fixed automatically): ['z_distance_approx']\n",
      "Generating predictions...\n"
     ]
    },
    {
     "name": "stderr",
     "output_type": "stream",
     "text": [
      "\n",
      " 17%|█▋        | 1/6 [00:17<01:25, 17.00s/it]\u001b[A\n",
      " 33%|███▎      | 2/6 [00:38<01:13, 18.40s/it]\u001b[A\n",
      " 50%|█████     | 3/6 [00:53<00:52, 17.37s/it]\u001b[A\n",
      " 67%|██████▋   | 4/6 [01:14<00:37, 18.54s/it]\u001b[A\n",
      " 83%|████████▎ | 5/6 [01:34<00:18, 18.75s/it]\u001b[A\n",
      "100%|██████████| 6/6 [01:51<00:00, 18.34s/it]\u001b[A\n",
      "100%|██████████| 10/10 [25:10<00:00, 148.18s/it]"
     ]
    },
    {
     "name": "stdout",
     "output_type": "stream",
     "text": [
      "CPU times: user 4h 17min 39s, sys: 1min 42s, total: 4h 19min 22s\n",
      "Wall time: 25min 10s\n"
     ]
    },
    {
     "name": "stderr",
     "output_type": "stream",
     "text": [
      "\n"
     ]
    }
   ],
   "source": [
    "%%time\n",
    "subm_dfs = []\n",
    "for i_c, X_test in tqdm(enumerate(pd.read_csv('../../data/test-poly-with-kernel-and-scaling.csv', index_col=id_colname, chunksize=349289, iterator=True)), total=10):\n",
    "    if 'object_id' in feature_colnames:\n",
    "        raise KeyError('Cannot use object_id as a feature!')\n",
    "    print(\"Loading data...\")\n",
    "    \n",
    "    print(\"Missing columns (z_distance_approx will be fixed automatically):\", [col for col in feature_colnames if col not in set(X_test.columns)])\n",
    "    \n",
    "    if not 'z_distance_approx' in X_test.columns:\n",
    "        X_test['z_distance_approx'] = (X_test['hostgal_photoz']+1)**2\n",
    "\n",
    "    print(\"Generating predictions...\")\n",
    "    subm = predict_chunk(X=X_test, features=feature_colnames, clfs=clfs, verbose=verbose)\n",
    "    subm_dfs.append(subm)\n",
    "# return subm_single"
   ]
  },
  {
   "cell_type": "code",
   "execution_count": 72,
   "metadata": {},
   "outputs": [
    {
     "name": "stdout",
     "output_type": "stream",
     "text": [
      "CPU times: user 840 ms, sys: 236 ms, total: 1.08 s\n",
      "Wall time: 1.07 s\n"
     ]
    }
   ],
   "source": [
    "%%time\n",
    "subm = pd.concat(subm_dfs, axis=0)"
   ]
  },
  {
   "cell_type": "code",
   "execution_count": 73,
   "metadata": {},
   "outputs": [
    {
     "data": {
      "text/html": [
       "<div>\n",
       "<style scoped>\n",
       "    .dataframe tbody tr th:only-of-type {\n",
       "        vertical-align: middle;\n",
       "    }\n",
       "\n",
       "    .dataframe tbody tr th {\n",
       "        vertical-align: top;\n",
       "    }\n",
       "\n",
       "    .dataframe thead th {\n",
       "        text-align: right;\n",
       "    }\n",
       "</style>\n",
       "<table border=\"1\" class=\"dataframe\">\n",
       "  <thead>\n",
       "    <tr style=\"text-align: right;\">\n",
       "      <th></th>\n",
       "      <th>class_6</th>\n",
       "      <th>class_15</th>\n",
       "      <th>class_16</th>\n",
       "      <th>class_42</th>\n",
       "      <th>class_52</th>\n",
       "      <th>class_53</th>\n",
       "      <th>class_62</th>\n",
       "      <th>class_64</th>\n",
       "      <th>class_65</th>\n",
       "      <th>class_67</th>\n",
       "      <th>class_88</th>\n",
       "      <th>class_90</th>\n",
       "      <th>class_92</th>\n",
       "      <th>class_95</th>\n",
       "      <th>object_id</th>\n",
       "      <th>class_99</th>\n",
       "    </tr>\n",
       "  </thead>\n",
       "  <tbody>\n",
       "    <tr>\n",
       "      <th>0</th>\n",
       "      <td>0.000079</td>\n",
       "      <td>0.000869</td>\n",
       "      <td>0.000041</td>\n",
       "      <td>0.293590</td>\n",
       "      <td>0.582731</td>\n",
       "      <td>0.000147</td>\n",
       "      <td>0.053809</td>\n",
       "      <td>0.000094</td>\n",
       "      <td>0.000044</td>\n",
       "      <td>0.002846</td>\n",
       "      <td>0.000173</td>\n",
       "      <td>0.065024</td>\n",
       "      <td>0.000060</td>\n",
       "      <td>0.000494</td>\n",
       "      <td>13</td>\n",
       "      <td>0.259505</td>\n",
       "    </tr>\n",
       "    <tr>\n",
       "      <th>1</th>\n",
       "      <td>0.000100</td>\n",
       "      <td>0.004061</td>\n",
       "      <td>0.000076</td>\n",
       "      <td>0.082438</td>\n",
       "      <td>0.043586</td>\n",
       "      <td>0.000217</td>\n",
       "      <td>0.065879</td>\n",
       "      <td>0.000283</td>\n",
       "      <td>0.000243</td>\n",
       "      <td>0.058675</td>\n",
       "      <td>0.000419</td>\n",
       "      <td>0.707193</td>\n",
       "      <td>0.000093</td>\n",
       "      <td>0.036737</td>\n",
       "      <td>14</td>\n",
       "      <td>0.216452</td>\n",
       "    </tr>\n",
       "    <tr>\n",
       "      <th>2</th>\n",
       "      <td>0.000163</td>\n",
       "      <td>0.003674</td>\n",
       "      <td>0.000156</td>\n",
       "      <td>0.065530</td>\n",
       "      <td>0.060429</td>\n",
       "      <td>0.000339</td>\n",
       "      <td>0.017775</td>\n",
       "      <td>0.004696</td>\n",
       "      <td>0.000170</td>\n",
       "      <td>0.066093</td>\n",
       "      <td>0.002044</td>\n",
       "      <td>0.754176</td>\n",
       "      <td>0.000107</td>\n",
       "      <td>0.024646</td>\n",
       "      <td>17</td>\n",
       "      <td>0.190923</td>\n",
       "    </tr>\n",
       "    <tr>\n",
       "      <th>3</th>\n",
       "      <td>0.000092</td>\n",
       "      <td>0.001405</td>\n",
       "      <td>0.000082</td>\n",
       "      <td>0.054546</td>\n",
       "      <td>0.022964</td>\n",
       "      <td>0.000208</td>\n",
       "      <td>0.046439</td>\n",
       "      <td>0.005904</td>\n",
       "      <td>0.000131</td>\n",
       "      <td>0.254741</td>\n",
       "      <td>0.000228</td>\n",
       "      <td>0.457194</td>\n",
       "      <td>0.000068</td>\n",
       "      <td>0.155999</td>\n",
       "      <td>23</td>\n",
       "      <td>0.298305</td>\n",
       "    </tr>\n",
       "    <tr>\n",
       "      <th>4</th>\n",
       "      <td>0.000041</td>\n",
       "      <td>0.001183</td>\n",
       "      <td>0.000026</td>\n",
       "      <td>0.057741</td>\n",
       "      <td>0.169843</td>\n",
       "      <td>0.000094</td>\n",
       "      <td>0.023194</td>\n",
       "      <td>0.000112</td>\n",
       "      <td>0.000051</td>\n",
       "      <td>0.021842</td>\n",
       "      <td>0.000046</td>\n",
       "      <td>0.725605</td>\n",
       "      <td>0.000032</td>\n",
       "      <td>0.000191</td>\n",
       "      <td>34</td>\n",
       "      <td>0.204717</td>\n",
       "    </tr>\n",
       "  </tbody>\n",
       "</table>\n",
       "</div>"
      ],
      "text/plain": [
       "    class_6  class_15  class_16  class_42  class_52  class_53  class_62  \\\n",
       "0  0.000079  0.000869  0.000041  0.293590  0.582731  0.000147  0.053809   \n",
       "1  0.000100  0.004061  0.000076  0.082438  0.043586  0.000217  0.065879   \n",
       "2  0.000163  0.003674  0.000156  0.065530  0.060429  0.000339  0.017775   \n",
       "3  0.000092  0.001405  0.000082  0.054546  0.022964  0.000208  0.046439   \n",
       "4  0.000041  0.001183  0.000026  0.057741  0.169843  0.000094  0.023194   \n",
       "\n",
       "   class_64  class_65  class_67  class_88  class_90  class_92  class_95  \\\n",
       "0  0.000094  0.000044  0.002846  0.000173  0.065024  0.000060  0.000494   \n",
       "1  0.000283  0.000243  0.058675  0.000419  0.707193  0.000093  0.036737   \n",
       "2  0.004696  0.000170  0.066093  0.002044  0.754176  0.000107  0.024646   \n",
       "3  0.005904  0.000131  0.254741  0.000228  0.457194  0.000068  0.155999   \n",
       "4  0.000112  0.000051  0.021842  0.000046  0.725605  0.000032  0.000191   \n",
       "\n",
       "   object_id  class_99  \n",
       "0         13  0.259505  \n",
       "1         14  0.216452  \n",
       "2         17  0.190923  \n",
       "3         23  0.298305  \n",
       "4         34  0.204717  "
      ]
     },
     "execution_count": 73,
     "metadata": {},
     "output_type": "execute_result"
    }
   ],
   "source": [
    "subm.head()"
   ]
  },
  {
   "cell_type": "code",
   "execution_count": 74,
   "metadata": {},
   "outputs": [
    {
     "data": {
      "text/plain": [
       "(3492890, 16)"
      ]
     },
     "execution_count": 74,
     "metadata": {},
     "output_type": "execute_result"
    }
   ],
   "source": [
    "subm.shape"
   ]
  },
  {
   "cell_type": "code",
   "execution_count": 75,
   "metadata": {},
   "outputs": [],
   "source": [
    "subm_bkp = subm.copy()"
   ]
  },
  {
   "cell_type": "code",
   "execution_count": 76,
   "metadata": {},
   "outputs": [
    {
     "name": "stdout",
     "output_type": "stream",
     "text": [
      "Postprocessing...\n",
      "Submission shape before grouping: (3492890, 16)\n",
      "Submission shape after grouping: (3492890, 15)\n",
      "Class 99 mean probability before normalization: 0.24785152852286133\n",
      "Class 99 mean probability after normalization: 0.11999999999999991\n",
      "Submission shape after postprocessing: (3492890, 15)\n",
      "Validating submission file...\n",
      "CPU times: user 3.3 s, sys: 800 ms, total: 4.1 s\n",
      "Wall time: 4.1 s\n"
     ]
    }
   ],
   "source": [
    "%%time\n",
    "print(\"Postprocessing...\")\n",
    "# bagging - compute mean prediction from all clfs for each object_id\n",
    "print(f\"Submission shape before grouping: {subm.shape}\")\n",
    "subm_single = subm.groupby('object_id').mean()\n",
    "print(f\"Submission shape after grouping: {subm_single.shape}\")\n",
    "# scale class_99 mean to match the desired value before normalizing other classes\n",
    "class_99_mean = subm_single['class_99'].mean()\n",
    "print(f\"Class 99 mean probability before normalization: {class_99_mean}\")\n",
    "scaling_factor = class_99_target_mean / class_99_mean\n",
    "subm_single['class_99'] = subm_single['class_99'] * scaling_factor\n",
    "print(f\"Class 99 mean probability after normalization: {subm_single['class_99'].mean()}\")\n",
    "# normalization - all classes' probabilities should be equal to 1.0 for each object_id\n",
    "subm_sum = subm_single.sum(axis=1)\n",
    "for col in subm_single.columns:\n",
    "    subm_single[col] = subm_single[col] / subm_sum\n",
    "max_err = np.max(np.abs(subm_single.sum(axis=1).values - 1.0))\n",
    "if max_err > 1e-15:\n",
    "    print(f\"Warning: high error in submission normalization: {max_err}\")\n",
    "# round all predictions to float32 so that CSV is twice smaller (Kaggle uses 32-bit accuracy to calculate score anyway)\n",
    "subm_single = subm_single.round(decimals=8).astype(np.float32)\n",
    "# make sure index is typed correctly\n",
    "subm_single.index = subm_single.index.astype(np.int)\n",
    "print(f\"Submission shape after postprocessing: {subm_single.shape}\")\n",
    "\n",
    "print('Validating submission file...')\n",
    "if not subm_single.shape == (3492890, 15):\n",
    "    print(\"Invalid shape\")\n",
    "#     return subm_single\n",
    "if not subm_single.index.dtype == np.int:\n",
    "    print(\"Invalid index\")\n",
    "#     return subm_single"
   ]
  },
  {
   "cell_type": "code",
   "execution_count": 78,
   "metadata": {},
   "outputs": [],
   "source": [
    "subm.index = subm['object_id']\n",
    "del subm['object_id']"
   ]
  },
  {
   "cell_type": "code",
   "execution_count": 79,
   "metadata": {},
   "outputs": [
    {
     "data": {
      "text/html": [
       "<div>\n",
       "<style scoped>\n",
       "    .dataframe tbody tr th:only-of-type {\n",
       "        vertical-align: middle;\n",
       "    }\n",
       "\n",
       "    .dataframe tbody tr th {\n",
       "        vertical-align: top;\n",
       "    }\n",
       "\n",
       "    .dataframe thead th {\n",
       "        text-align: right;\n",
       "    }\n",
       "</style>\n",
       "<table border=\"1\" class=\"dataframe\">\n",
       "  <thead>\n",
       "    <tr style=\"text-align: right;\">\n",
       "      <th></th>\n",
       "      <th>class_6</th>\n",
       "      <th>class_15</th>\n",
       "      <th>class_16</th>\n",
       "      <th>class_42</th>\n",
       "      <th>class_52</th>\n",
       "      <th>class_53</th>\n",
       "      <th>class_62</th>\n",
       "      <th>class_64</th>\n",
       "      <th>class_65</th>\n",
       "      <th>class_67</th>\n",
       "      <th>class_88</th>\n",
       "      <th>class_90</th>\n",
       "      <th>class_92</th>\n",
       "      <th>class_95</th>\n",
       "      <th>class_99</th>\n",
       "    </tr>\n",
       "    <tr>\n",
       "      <th>object_id</th>\n",
       "      <th></th>\n",
       "      <th></th>\n",
       "      <th></th>\n",
       "      <th></th>\n",
       "      <th></th>\n",
       "      <th></th>\n",
       "      <th></th>\n",
       "      <th></th>\n",
       "      <th></th>\n",
       "      <th></th>\n",
       "      <th></th>\n",
       "      <th></th>\n",
       "      <th></th>\n",
       "      <th></th>\n",
       "      <th></th>\n",
       "    </tr>\n",
       "  </thead>\n",
       "  <tbody>\n",
       "    <tr>\n",
       "      <th>13</th>\n",
       "      <td>0.000079</td>\n",
       "      <td>0.000869</td>\n",
       "      <td>0.000041</td>\n",
       "      <td>0.293590</td>\n",
       "      <td>0.582731</td>\n",
       "      <td>0.000147</td>\n",
       "      <td>0.053809</td>\n",
       "      <td>0.000094</td>\n",
       "      <td>0.000044</td>\n",
       "      <td>0.002846</td>\n",
       "      <td>0.000173</td>\n",
       "      <td>0.065024</td>\n",
       "      <td>0.000060</td>\n",
       "      <td>0.000494</td>\n",
       "      <td>0.259505</td>\n",
       "    </tr>\n",
       "    <tr>\n",
       "      <th>14</th>\n",
       "      <td>0.000100</td>\n",
       "      <td>0.004061</td>\n",
       "      <td>0.000076</td>\n",
       "      <td>0.082438</td>\n",
       "      <td>0.043586</td>\n",
       "      <td>0.000217</td>\n",
       "      <td>0.065879</td>\n",
       "      <td>0.000283</td>\n",
       "      <td>0.000243</td>\n",
       "      <td>0.058675</td>\n",
       "      <td>0.000419</td>\n",
       "      <td>0.707193</td>\n",
       "      <td>0.000093</td>\n",
       "      <td>0.036737</td>\n",
       "      <td>0.216452</td>\n",
       "    </tr>\n",
       "    <tr>\n",
       "      <th>17</th>\n",
       "      <td>0.000163</td>\n",
       "      <td>0.003674</td>\n",
       "      <td>0.000156</td>\n",
       "      <td>0.065530</td>\n",
       "      <td>0.060429</td>\n",
       "      <td>0.000339</td>\n",
       "      <td>0.017775</td>\n",
       "      <td>0.004696</td>\n",
       "      <td>0.000170</td>\n",
       "      <td>0.066093</td>\n",
       "      <td>0.002044</td>\n",
       "      <td>0.754176</td>\n",
       "      <td>0.000107</td>\n",
       "      <td>0.024646</td>\n",
       "      <td>0.190923</td>\n",
       "    </tr>\n",
       "    <tr>\n",
       "      <th>23</th>\n",
       "      <td>0.000092</td>\n",
       "      <td>0.001405</td>\n",
       "      <td>0.000082</td>\n",
       "      <td>0.054546</td>\n",
       "      <td>0.022964</td>\n",
       "      <td>0.000208</td>\n",
       "      <td>0.046439</td>\n",
       "      <td>0.005904</td>\n",
       "      <td>0.000131</td>\n",
       "      <td>0.254741</td>\n",
       "      <td>0.000228</td>\n",
       "      <td>0.457194</td>\n",
       "      <td>0.000068</td>\n",
       "      <td>0.155999</td>\n",
       "      <td>0.298305</td>\n",
       "    </tr>\n",
       "    <tr>\n",
       "      <th>34</th>\n",
       "      <td>0.000041</td>\n",
       "      <td>0.001183</td>\n",
       "      <td>0.000026</td>\n",
       "      <td>0.057741</td>\n",
       "      <td>0.169843</td>\n",
       "      <td>0.000094</td>\n",
       "      <td>0.023194</td>\n",
       "      <td>0.000112</td>\n",
       "      <td>0.000051</td>\n",
       "      <td>0.021842</td>\n",
       "      <td>0.000046</td>\n",
       "      <td>0.725605</td>\n",
       "      <td>0.000032</td>\n",
       "      <td>0.000191</td>\n",
       "      <td>0.204717</td>\n",
       "    </tr>\n",
       "  </tbody>\n",
       "</table>\n",
       "</div>"
      ],
      "text/plain": [
       "            class_6  class_15  class_16  class_42  class_52  class_53  \\\n",
       "object_id                                                               \n",
       "13         0.000079  0.000869  0.000041  0.293590  0.582731  0.000147   \n",
       "14         0.000100  0.004061  0.000076  0.082438  0.043586  0.000217   \n",
       "17         0.000163  0.003674  0.000156  0.065530  0.060429  0.000339   \n",
       "23         0.000092  0.001405  0.000082  0.054546  0.022964  0.000208   \n",
       "34         0.000041  0.001183  0.000026  0.057741  0.169843  0.000094   \n",
       "\n",
       "           class_62  class_64  class_65  class_67  class_88  class_90  \\\n",
       "object_id                                                               \n",
       "13         0.053809  0.000094  0.000044  0.002846  0.000173  0.065024   \n",
       "14         0.065879  0.000283  0.000243  0.058675  0.000419  0.707193   \n",
       "17         0.017775  0.004696  0.000170  0.066093  0.002044  0.754176   \n",
       "23         0.046439  0.005904  0.000131  0.254741  0.000228  0.457194   \n",
       "34         0.023194  0.000112  0.000051  0.021842  0.000046  0.725605   \n",
       "\n",
       "           class_92  class_95  class_99  \n",
       "object_id                                \n",
       "13         0.000060  0.000494  0.259505  \n",
       "14         0.000093  0.036737  0.216452  \n",
       "17         0.000107  0.024646  0.190923  \n",
       "23         0.000068  0.155999  0.298305  \n",
       "34         0.000032  0.000191  0.204717  "
      ]
     },
     "execution_count": 79,
     "metadata": {},
     "output_type": "execute_result"
    }
   ],
   "source": [
    "subm.head()"
   ]
  },
  {
   "cell_type": "code",
   "execution_count": 81,
   "metadata": {},
   "outputs": [
    {
     "name": "stdout",
     "output_type": "stream",
     "text": [
      "Saving submission...\n",
      "Submission saved to f/home/kk385830/astronomical-classification/submissions/subm_0.610262_2018-12-17-23-52.csv\n",
      "CPU times: user 59.9 s, sys: 440 ms, total: 1min\n",
      "Wall time: 1min\n"
     ]
    }
   ],
   "source": [
    "%%time\n",
    "if output_path is None:\n",
    "    print('WTF')\n",
    "#     break\n",
    "    3//0\n",
    "print(\"Saving submission...\")\n",
    "try:\n",
    "    subm_single.to_csv(output_path, index=True)\n",
    "    print(f\"Submission saved to f{output_path}\")\n",
    "except Exception as e:\n",
    "    print(e)"
   ]
  },
  {
   "cell_type": "code",
   "execution_count": 21,
   "metadata": {},
   "outputs": [
    {
     "name": "stdout",
     "output_type": "stream",
     "text": [
      "Loading data...\n"
     ]
    },
    {
     "name": "stderr",
     "output_type": "stream",
     "text": [
      "  0%|          | 0/6 [00:00<?, ?it/s]"
     ]
    },
    {
     "name": "stdout",
     "output_type": "stream",
     "text": [
      "Generating predictions...\n"
     ]
    },
    {
     "name": "stderr",
     "output_type": "stream",
     "text": [
      "100%|██████████| 6/6 [15:53<00:00, 165.67s/it]\n"
     ]
    },
    {
     "name": "stdout",
     "output_type": "stream",
     "text": [
      "Postprocessing...\n",
      "Submission shape before grouping: (3492890, 16)\n",
      "Submission shape after grouping: (3492890, 15)\n",
      "Submission shape after postprocessing: (3492890, 15)\n",
      "Validating submission file...\n",
      "Saving submission...\n",
      "Submission saved to f/home/kk385830/astronomical-classification/submissions/subm_0.603058_2018-12-16-18-13.csv\n",
      "CPU times: user 3h 50min 6s, sys: 1min 25s, total: 3h 51min 32s\n",
      "Wall time: 19min 19s\n"
     ]
    }
   ],
   "source": [
    "# previously used version with call and load from CSV:\n",
    "\n",
    "# %%time\n",
    "# submission = predict_test(\n",
    "#     clfs=clfs, \n",
    "#     feature_colnames=feature_colnames, \n",
    "#     id_colname=id_colname, \n",
    "#     input_path='../../data/test-new-poly-with-kernel.csv', \n",
    "#     output_path=submission_file_path, \n",
    "#     class_99_target_mean=0.12,\n",
    "#     verbose=True\n",
    "# )"
   ]
  },
  {
   "cell_type": "code",
   "execution_count": 1,
   "metadata": {},
   "outputs": [
    {
     "ename": "NameError",
     "evalue": "name 'submission' is not defined",
     "output_type": "error",
     "traceback": [
      "\u001b[0;31m---------------------------------------------------------------------------\u001b[0m",
      "\u001b[0;31mNameError\u001b[0m                                 Traceback (most recent call last)",
      "\u001b[0;32m<ipython-input-1-ee1c5243e676>\u001b[0m in \u001b[0;36m<module>\u001b[0;34m\u001b[0m\n\u001b[0;32m----> 1\u001b[0;31m \u001b[0msubmission\u001b[0m\u001b[0;34m.\u001b[0m\u001b[0mhead\u001b[0m\u001b[0;34m(\u001b[0m\u001b[0;36m3\u001b[0m\u001b[0;34m)\u001b[0m\u001b[0;34m\u001b[0m\u001b[0m\n\u001b[0m",
      "\u001b[0;31mNameError\u001b[0m: name 'submission' is not defined"
     ]
    }
   ],
   "source": [
    "submission.head(3)"
   ]
  },
  {
   "cell_type": "code",
   "execution_count": 51,
   "metadata": {},
   "outputs": [
    {
     "data": {
      "text/plain": [
       "0.13013586"
      ]
     },
     "execution_count": 51,
     "metadata": {},
     "output_type": "execute_result"
    }
   ],
   "source": [
    "submission['class_99'].mean()"
   ]
  },
  {
   "cell_type": "code",
   "execution_count": 52,
   "metadata": {},
   "outputs": [
    {
     "data": {
      "text/html": [
       "<div>\n",
       "<style scoped>\n",
       "    .dataframe tbody tr th:only-of-type {\n",
       "        vertical-align: middle;\n",
       "    }\n",
       "\n",
       "    .dataframe tbody tr th {\n",
       "        vertical-align: top;\n",
       "    }\n",
       "\n",
       "    .dataframe thead th {\n",
       "        text-align: right;\n",
       "    }\n",
       "</style>\n",
       "<table border=\"1\" class=\"dataframe\">\n",
       "  <thead>\n",
       "    <tr style=\"text-align: right;\">\n",
       "      <th></th>\n",
       "      <th>class_6</th>\n",
       "      <th>class_15</th>\n",
       "      <th>class_16</th>\n",
       "      <th>class_42</th>\n",
       "      <th>class_52</th>\n",
       "      <th>class_53</th>\n",
       "      <th>class_62</th>\n",
       "      <th>class_64</th>\n",
       "      <th>class_65</th>\n",
       "      <th>class_67</th>\n",
       "      <th>class_88</th>\n",
       "      <th>class_90</th>\n",
       "      <th>class_92</th>\n",
       "      <th>class_95</th>\n",
       "      <th>class_99</th>\n",
       "    </tr>\n",
       "    <tr>\n",
       "      <th>object_id</th>\n",
       "      <th></th>\n",
       "      <th></th>\n",
       "      <th></th>\n",
       "      <th></th>\n",
       "      <th></th>\n",
       "      <th></th>\n",
       "      <th></th>\n",
       "      <th></th>\n",
       "      <th></th>\n",
       "      <th></th>\n",
       "      <th></th>\n",
       "      <th></th>\n",
       "      <th></th>\n",
       "      <th></th>\n",
       "      <th></th>\n",
       "    </tr>\n",
       "  </thead>\n",
       "  <tbody>\n",
       "    <tr>\n",
       "      <th>13</th>\n",
       "      <td>0.000040</td>\n",
       "      <td>0.000354</td>\n",
       "      <td>0.000024</td>\n",
       "      <td>0.357446</td>\n",
       "      <td>0.379110</td>\n",
       "      <td>0.000061</td>\n",
       "      <td>0.050607</td>\n",
       "      <td>0.000019</td>\n",
       "      <td>0.000019</td>\n",
       "      <td>0.001214</td>\n",
       "      <td>0.000070</td>\n",
       "      <td>0.058122</td>\n",
       "      <td>0.000033</td>\n",
       "      <td>0.000267</td>\n",
       "      <td>0.152613</td>\n",
       "    </tr>\n",
       "    <tr>\n",
       "      <th>14</th>\n",
       "      <td>0.000060</td>\n",
       "      <td>0.002804</td>\n",
       "      <td>0.000055</td>\n",
       "      <td>0.114822</td>\n",
       "      <td>0.033061</td>\n",
       "      <td>0.000089</td>\n",
       "      <td>0.031412</td>\n",
       "      <td>0.000075</td>\n",
       "      <td>0.000322</td>\n",
       "      <td>0.015856</td>\n",
       "      <td>0.000227</td>\n",
       "      <td>0.679401</td>\n",
       "      <td>0.000058</td>\n",
       "      <td>0.014515</td>\n",
       "      <td>0.107244</td>\n",
       "    </tr>\n",
       "    <tr>\n",
       "      <th>17</th>\n",
       "      <td>0.000151</td>\n",
       "      <td>0.004765</td>\n",
       "      <td>0.000147</td>\n",
       "      <td>0.087640</td>\n",
       "      <td>0.054351</td>\n",
       "      <td>0.000197</td>\n",
       "      <td>0.015882</td>\n",
       "      <td>0.001972</td>\n",
       "      <td>0.000218</td>\n",
       "      <td>0.097757</td>\n",
       "      <td>0.001537</td>\n",
       "      <td>0.576313</td>\n",
       "      <td>0.000076</td>\n",
       "      <td>0.026642</td>\n",
       "      <td>0.132353</td>\n",
       "    </tr>\n",
       "    <tr>\n",
       "      <th>23</th>\n",
       "      <td>0.000080</td>\n",
       "      <td>0.001103</td>\n",
       "      <td>0.000092</td>\n",
       "      <td>0.054336</td>\n",
       "      <td>0.013861</td>\n",
       "      <td>0.000125</td>\n",
       "      <td>0.050159</td>\n",
       "      <td>0.006378</td>\n",
       "      <td>0.000147</td>\n",
       "      <td>0.186823</td>\n",
       "      <td>0.000155</td>\n",
       "      <td>0.508671</td>\n",
       "      <td>0.000044</td>\n",
       "      <td>0.033623</td>\n",
       "      <td>0.144404</td>\n",
       "    </tr>\n",
       "    <tr>\n",
       "      <th>34</th>\n",
       "      <td>0.000018</td>\n",
       "      <td>0.000605</td>\n",
       "      <td>0.000017</td>\n",
       "      <td>0.040403</td>\n",
       "      <td>0.162473</td>\n",
       "      <td>0.000038</td>\n",
       "      <td>0.012966</td>\n",
       "      <td>0.000023</td>\n",
       "      <td>0.000040</td>\n",
       "      <td>0.004567</td>\n",
       "      <td>0.000024</td>\n",
       "      <td>0.669535</td>\n",
       "      <td>0.000014</td>\n",
       "      <td>0.000119</td>\n",
       "      <td>0.109158</td>\n",
       "    </tr>\n",
       "  </tbody>\n",
       "</table>\n",
       "</div>"
      ],
      "text/plain": [
       "            class_6  class_15  class_16  class_42  class_52  class_53  \\\n",
       "object_id                                                               \n",
       "13         0.000040  0.000354  0.000024  0.357446  0.379110  0.000061   \n",
       "14         0.000060  0.002804  0.000055  0.114822  0.033061  0.000089   \n",
       "17         0.000151  0.004765  0.000147  0.087640  0.054351  0.000197   \n",
       "23         0.000080  0.001103  0.000092  0.054336  0.013861  0.000125   \n",
       "34         0.000018  0.000605  0.000017  0.040403  0.162473  0.000038   \n",
       "\n",
       "           class_62  class_64  class_65  class_67  class_88  class_90  \\\n",
       "object_id                                                               \n",
       "13         0.050607  0.000019  0.000019  0.001214  0.000070  0.058122   \n",
       "14         0.031412  0.000075  0.000322  0.015856  0.000227  0.679401   \n",
       "17         0.015882  0.001972  0.000218  0.097757  0.001537  0.576313   \n",
       "23         0.050159  0.006378  0.000147  0.186823  0.000155  0.508671   \n",
       "34         0.012966  0.000023  0.000040  0.004567  0.000024  0.669535   \n",
       "\n",
       "           class_92  class_95  class_99  \n",
       "object_id                                \n",
       "13         0.000033  0.000267  0.152613  \n",
       "14         0.000058  0.014515  0.107244  \n",
       "17         0.000076  0.026642  0.132353  \n",
       "23         0.000044  0.033623  0.144404  \n",
       "34         0.000014  0.000119  0.109158  "
      ]
     },
     "execution_count": 52,
     "metadata": {},
     "output_type": "execute_result"
    }
   ],
   "source": [
    "submission.head()"
   ]
  },
  {
   "cell_type": "markdown",
   "metadata": {},
   "source": [
    "### Quick check reny entropy mean class 99 probabilities"
   ]
  },
  {
   "cell_type": "code",
   "execution_count": 12,
   "metadata": {},
   "outputs": [],
   "source": [
    "submission = pd.read_csv('../../submissions/subm_0.603058_2018-12-16-18-13.csv', index_col='object_id')"
   ]
  },
  {
   "cell_type": "code",
   "execution_count": 13,
   "metadata": {},
   "outputs": [],
   "source": [
    "def renyEntropy(alpha, vector):\n",
    "    if alpha < 0 or alpha == 1:\n",
    "        raise Exception('alpha must not be 1 neither negative')\n",
    "\n",
    "    coeff = 1 / (1 - alpha)\n",
    "    powered = vector ** alpha\n",
    "    sumpow = np.sum(powered, axis=1)\n",
    "    logof = np.log(sumpow) / np.log(13)\n",
    "    return logof * coeff"
   ]
  },
  {
   "cell_type": "code",
   "execution_count": 14,
   "metadata": {},
   "outputs": [],
   "source": [
    "reny_99 = renyEntropy(10, submission.values) * 0.25"
   ]
  },
  {
   "cell_type": "code",
   "execution_count": 15,
   "metadata": {},
   "outputs": [],
   "source": [
    "submission['class_99'] = (submission['class_99'].values + reny_99) / 2"
   ]
  },
  {
   "cell_type": "code",
   "execution_count": 16,
   "metadata": {},
   "outputs": [
    {
     "data": {
      "text/html": [
       "<div>\n",
       "<style scoped>\n",
       "    .dataframe tbody tr th:only-of-type {\n",
       "        vertical-align: middle;\n",
       "    }\n",
       "\n",
       "    .dataframe tbody tr th {\n",
       "        vertical-align: top;\n",
       "    }\n",
       "\n",
       "    .dataframe thead th {\n",
       "        text-align: right;\n",
       "    }\n",
       "</style>\n",
       "<table border=\"1\" class=\"dataframe\">\n",
       "  <thead>\n",
       "    <tr style=\"text-align: right;\">\n",
       "      <th></th>\n",
       "      <th>class_6</th>\n",
       "      <th>class_15</th>\n",
       "      <th>class_16</th>\n",
       "      <th>class_42</th>\n",
       "      <th>class_52</th>\n",
       "      <th>class_53</th>\n",
       "      <th>class_62</th>\n",
       "      <th>class_64</th>\n",
       "      <th>class_65</th>\n",
       "      <th>class_67</th>\n",
       "      <th>class_88</th>\n",
       "      <th>class_90</th>\n",
       "      <th>class_92</th>\n",
       "      <th>class_95</th>\n",
       "      <th>class_99</th>\n",
       "    </tr>\n",
       "    <tr>\n",
       "      <th>object_id</th>\n",
       "      <th></th>\n",
       "      <th></th>\n",
       "      <th></th>\n",
       "      <th></th>\n",
       "      <th></th>\n",
       "      <th></th>\n",
       "      <th></th>\n",
       "      <th></th>\n",
       "      <th></th>\n",
       "      <th></th>\n",
       "      <th></th>\n",
       "      <th></th>\n",
       "      <th></th>\n",
       "      <th></th>\n",
       "      <th></th>\n",
       "    </tr>\n",
       "  </thead>\n",
       "  <tbody>\n",
       "    <tr>\n",
       "      <th>13</th>\n",
       "      <td>0.000040</td>\n",
       "      <td>0.000354</td>\n",
       "      <td>0.000024</td>\n",
       "      <td>0.357446</td>\n",
       "      <td>0.379110</td>\n",
       "      <td>0.000061</td>\n",
       "      <td>0.050607</td>\n",
       "      <td>0.000019</td>\n",
       "      <td>0.000019</td>\n",
       "      <td>0.001214</td>\n",
       "      <td>0.000070</td>\n",
       "      <td>0.058122</td>\n",
       "      <td>0.000033</td>\n",
       "      <td>0.000267</td>\n",
       "      <td>0.126435</td>\n",
       "    </tr>\n",
       "    <tr>\n",
       "      <th>14</th>\n",
       "      <td>0.000060</td>\n",
       "      <td>0.002804</td>\n",
       "      <td>0.000055</td>\n",
       "      <td>0.114822</td>\n",
       "      <td>0.033061</td>\n",
       "      <td>0.000089</td>\n",
       "      <td>0.031412</td>\n",
       "      <td>0.000075</td>\n",
       "      <td>0.000322</td>\n",
       "      <td>0.015856</td>\n",
       "      <td>0.000227</td>\n",
       "      <td>0.679401</td>\n",
       "      <td>0.000058</td>\n",
       "      <td>0.014515</td>\n",
       "      <td>0.074553</td>\n",
       "    </tr>\n",
       "    <tr>\n",
       "      <th>17</th>\n",
       "      <td>0.000151</td>\n",
       "      <td>0.004765</td>\n",
       "      <td>0.000147</td>\n",
       "      <td>0.087640</td>\n",
       "      <td>0.054351</td>\n",
       "      <td>0.000197</td>\n",
       "      <td>0.015882</td>\n",
       "      <td>0.001972</td>\n",
       "      <td>0.000218</td>\n",
       "      <td>0.097757</td>\n",
       "      <td>0.001537</td>\n",
       "      <td>0.576313</td>\n",
       "      <td>0.000076</td>\n",
       "      <td>0.026642</td>\n",
       "      <td>0.096018</td>\n",
       "    </tr>\n",
       "    <tr>\n",
       "      <th>23</th>\n",
       "      <td>0.000080</td>\n",
       "      <td>0.001103</td>\n",
       "      <td>0.000092</td>\n",
       "      <td>0.054336</td>\n",
       "      <td>0.013861</td>\n",
       "      <td>0.000125</td>\n",
       "      <td>0.050159</td>\n",
       "      <td>0.006378</td>\n",
       "      <td>0.000147</td>\n",
       "      <td>0.186823</td>\n",
       "      <td>0.000155</td>\n",
       "      <td>0.508671</td>\n",
       "      <td>0.000044</td>\n",
       "      <td>0.033623</td>\n",
       "      <td>0.108804</td>\n",
       "    </tr>\n",
       "    <tr>\n",
       "      <th>34</th>\n",
       "      <td>0.000018</td>\n",
       "      <td>0.000605</td>\n",
       "      <td>0.000017</td>\n",
       "      <td>0.040403</td>\n",
       "      <td>0.162473</td>\n",
       "      <td>0.000038</td>\n",
       "      <td>0.012966</td>\n",
       "      <td>0.000023</td>\n",
       "      <td>0.000040</td>\n",
       "      <td>0.004567</td>\n",
       "      <td>0.000024</td>\n",
       "      <td>0.669535</td>\n",
       "      <td>0.000014</td>\n",
       "      <td>0.000119</td>\n",
       "      <td>0.076302</td>\n",
       "    </tr>\n",
       "  </tbody>\n",
       "</table>\n",
       "</div>"
      ],
      "text/plain": [
       "            class_6  class_15  class_16  class_42  class_52  class_53  \\\n",
       "object_id                                                               \n",
       "13         0.000040  0.000354  0.000024  0.357446  0.379110  0.000061   \n",
       "14         0.000060  0.002804  0.000055  0.114822  0.033061  0.000089   \n",
       "17         0.000151  0.004765  0.000147  0.087640  0.054351  0.000197   \n",
       "23         0.000080  0.001103  0.000092  0.054336  0.013861  0.000125   \n",
       "34         0.000018  0.000605  0.000017  0.040403  0.162473  0.000038   \n",
       "\n",
       "           class_62  class_64  class_65  class_67  class_88  class_90  \\\n",
       "object_id                                                               \n",
       "13         0.050607  0.000019  0.000019  0.001214  0.000070  0.058122   \n",
       "14         0.031412  0.000075  0.000322  0.015856  0.000227  0.679401   \n",
       "17         0.015882  0.001972  0.000218  0.097757  0.001537  0.576313   \n",
       "23         0.050159  0.006378  0.000147  0.186823  0.000155  0.508671   \n",
       "34         0.012966  0.000023  0.000040  0.004567  0.000024  0.669535   \n",
       "\n",
       "           class_92  class_95  class_99  \n",
       "object_id                                \n",
       "13         0.000033  0.000267  0.126435  \n",
       "14         0.000058  0.014515  0.074553  \n",
       "17         0.000076  0.026642  0.096018  \n",
       "23         0.000044  0.033623  0.108804  \n",
       "34         0.000014  0.000119  0.076302  "
      ]
     },
     "execution_count": 16,
     "metadata": {},
     "output_type": "execute_result"
    }
   ],
   "source": [
    "submission.head()"
   ]
  },
  {
   "cell_type": "code",
   "execution_count": 17,
   "metadata": {},
   "outputs": [
    {
     "data": {
      "text/plain": [
       "object_id\n",
       "13    0.973822\n",
       "14    0.967309\n",
       "17    0.963665\n",
       "23    0.964400\n",
       "34    0.967144\n",
       "dtype: float64"
      ]
     },
     "execution_count": 17,
     "metadata": {},
     "output_type": "execute_result"
    }
   ],
   "source": [
    "submission.sum(axis=1).head()"
   ]
  },
  {
   "cell_type": "code",
   "execution_count": 18,
   "metadata": {},
   "outputs": [
    {
     "name": "stdout",
     "output_type": "stream",
     "text": [
      "Submission shape after postprocessing: (3492890, 15)\n"
     ]
    }
   ],
   "source": [
    "# normalization - all classes' probabilities should be equal to 1.0 for each object_id\n",
    "subm_sum = submission.sum(axis=1)\n",
    "for col in submission.columns:\n",
    "    submission[col] = submission[col] / subm_sum\n",
    "max_err = np.max(np.abs(submission.sum(axis=1).values - 1.0))\n",
    "if max_err > 1e-7:\n",
    "    print(f\"Warning: high error in submission normalization: {max_err}\")\n",
    "# round all predictions to float32 so that CSV is twice smaller (Kaggle uses 32-bit accuracy to calculate score anyway)\n",
    "submission = submission.round(decimals=8).astype(np.float32)\n",
    "# make sure index is typed correctly\n",
    "submission.index = submission.index.astype(np.int)\n",
    "print(f\"Submission shape after postprocessing: {submission.shape}\")"
   ]
  },
  {
   "cell_type": "code",
   "execution_count": 19,
   "metadata": {},
   "outputs": [],
   "source": [
    "submission.to_csv('../../submissions/subm_0.603058_2018-12-16-18-13_quarter_reny_with_previous_99_avg.csv')"
   ]
  },
  {
   "cell_type": "code",
   "execution_count": 21,
   "metadata": {},
   "outputs": [
    {
     "data": {
      "text/html": [
       "<div>\n",
       "<style scoped>\n",
       "    .dataframe tbody tr th:only-of-type {\n",
       "        vertical-align: middle;\n",
       "    }\n",
       "\n",
       "    .dataframe tbody tr th {\n",
       "        vertical-align: top;\n",
       "    }\n",
       "\n",
       "    .dataframe thead th {\n",
       "        text-align: right;\n",
       "    }\n",
       "</style>\n",
       "<table border=\"1\" class=\"dataframe\">\n",
       "  <thead>\n",
       "    <tr style=\"text-align: right;\">\n",
       "      <th></th>\n",
       "      <th>class_6</th>\n",
       "      <th>class_15</th>\n",
       "      <th>class_16</th>\n",
       "      <th>class_42</th>\n",
       "      <th>class_52</th>\n",
       "      <th>class_53</th>\n",
       "      <th>class_62</th>\n",
       "      <th>class_64</th>\n",
       "      <th>class_65</th>\n",
       "      <th>class_67</th>\n",
       "      <th>class_88</th>\n",
       "      <th>class_90</th>\n",
       "      <th>class_92</th>\n",
       "      <th>class_95</th>\n",
       "      <th>class_99</th>\n",
       "    </tr>\n",
       "    <tr>\n",
       "      <th>object_id</th>\n",
       "      <th></th>\n",
       "      <th></th>\n",
       "      <th></th>\n",
       "      <th></th>\n",
       "      <th></th>\n",
       "      <th></th>\n",
       "      <th></th>\n",
       "      <th></th>\n",
       "      <th></th>\n",
       "      <th></th>\n",
       "      <th></th>\n",
       "      <th></th>\n",
       "      <th></th>\n",
       "      <th></th>\n",
       "      <th></th>\n",
       "    </tr>\n",
       "  </thead>\n",
       "  <tbody>\n",
       "    <tr>\n",
       "      <th>13</th>\n",
       "      <td>0.000041</td>\n",
       "      <td>0.000363</td>\n",
       "      <td>0.000025</td>\n",
       "      <td>0.367055</td>\n",
       "      <td>0.389301</td>\n",
       "      <td>0.000063</td>\n",
       "      <td>0.051967</td>\n",
       "      <td>0.000019</td>\n",
       "      <td>0.000019</td>\n",
       "      <td>0.001247</td>\n",
       "      <td>0.000072</td>\n",
       "      <td>0.059684</td>\n",
       "      <td>0.000034</td>\n",
       "      <td>0.000275</td>\n",
       "      <td>0.129834</td>\n",
       "    </tr>\n",
       "    <tr>\n",
       "      <th>14</th>\n",
       "      <td>0.000062</td>\n",
       "      <td>0.002898</td>\n",
       "      <td>0.000057</td>\n",
       "      <td>0.118703</td>\n",
       "      <td>0.034178</td>\n",
       "      <td>0.000092</td>\n",
       "      <td>0.032474</td>\n",
       "      <td>0.000077</td>\n",
       "      <td>0.000332</td>\n",
       "      <td>0.016392</td>\n",
       "      <td>0.000235</td>\n",
       "      <td>0.702363</td>\n",
       "      <td>0.000060</td>\n",
       "      <td>0.015005</td>\n",
       "      <td>0.077073</td>\n",
       "    </tr>\n",
       "    <tr>\n",
       "      <th>17</th>\n",
       "      <td>0.000157</td>\n",
       "      <td>0.004944</td>\n",
       "      <td>0.000153</td>\n",
       "      <td>0.090945</td>\n",
       "      <td>0.056401</td>\n",
       "      <td>0.000205</td>\n",
       "      <td>0.016481</td>\n",
       "      <td>0.002046</td>\n",
       "      <td>0.000226</td>\n",
       "      <td>0.101443</td>\n",
       "      <td>0.001595</td>\n",
       "      <td>0.598042</td>\n",
       "      <td>0.000078</td>\n",
       "      <td>0.027647</td>\n",
       "      <td>0.099638</td>\n",
       "    </tr>\n",
       "    <tr>\n",
       "      <th>23</th>\n",
       "      <td>0.000083</td>\n",
       "      <td>0.001144</td>\n",
       "      <td>0.000096</td>\n",
       "      <td>0.056342</td>\n",
       "      <td>0.014372</td>\n",
       "      <td>0.000129</td>\n",
       "      <td>0.052011</td>\n",
       "      <td>0.006613</td>\n",
       "      <td>0.000152</td>\n",
       "      <td>0.193720</td>\n",
       "      <td>0.000160</td>\n",
       "      <td>0.527448</td>\n",
       "      <td>0.000046</td>\n",
       "      <td>0.034865</td>\n",
       "      <td>0.112820</td>\n",
       "    </tr>\n",
       "    <tr>\n",
       "      <th>34</th>\n",
       "      <td>0.000018</td>\n",
       "      <td>0.000626</td>\n",
       "      <td>0.000018</td>\n",
       "      <td>0.041776</td>\n",
       "      <td>0.167992</td>\n",
       "      <td>0.000039</td>\n",
       "      <td>0.013406</td>\n",
       "      <td>0.000024</td>\n",
       "      <td>0.000041</td>\n",
       "      <td>0.004722</td>\n",
       "      <td>0.000025</td>\n",
       "      <td>0.692281</td>\n",
       "      <td>0.000015</td>\n",
       "      <td>0.000123</td>\n",
       "      <td>0.078894</td>\n",
       "    </tr>\n",
       "  </tbody>\n",
       "</table>\n",
       "</div>"
      ],
      "text/plain": [
       "            class_6  class_15  class_16  class_42  class_52  class_53  \\\n",
       "object_id                                                               \n",
       "13         0.000041  0.000363  0.000025  0.367055  0.389301  0.000063   \n",
       "14         0.000062  0.002898  0.000057  0.118703  0.034178  0.000092   \n",
       "17         0.000157  0.004944  0.000153  0.090945  0.056401  0.000205   \n",
       "23         0.000083  0.001144  0.000096  0.056342  0.014372  0.000129   \n",
       "34         0.000018  0.000626  0.000018  0.041776  0.167992  0.000039   \n",
       "\n",
       "           class_62  class_64  class_65  class_67  class_88  class_90  \\\n",
       "object_id                                                               \n",
       "13         0.051967  0.000019  0.000019  0.001247  0.000072  0.059684   \n",
       "14         0.032474  0.000077  0.000332  0.016392  0.000235  0.702363   \n",
       "17         0.016481  0.002046  0.000226  0.101443  0.001595  0.598042   \n",
       "23         0.052011  0.006613  0.000152  0.193720  0.000160  0.527448   \n",
       "34         0.013406  0.000024  0.000041  0.004722  0.000025  0.692281   \n",
       "\n",
       "           class_92  class_95  class_99  \n",
       "object_id                                \n",
       "13         0.000034  0.000275  0.129834  \n",
       "14         0.000060  0.015005  0.077073  \n",
       "17         0.000078  0.027647  0.099638  \n",
       "23         0.000046  0.034865  0.112820  \n",
       "34         0.000015  0.000123  0.078894  "
      ]
     },
     "execution_count": 21,
     "metadata": {},
     "output_type": "execute_result"
    }
   ],
   "source": [
    "submission.head()"
   ]
  },
  {
   "cell_type": "code",
   "execution_count": 23,
   "metadata": {},
   "outputs": [
    {
     "data": {
      "text/plain": [
       "0.10975695"
      ]
     },
     "execution_count": 23,
     "metadata": {},
     "output_type": "execute_result"
    }
   ],
   "source": [
    "submission['class_99'].mean()"
   ]
  }
 ],
 "metadata": {
  "kernelspec": {
   "display_name": "Python 3",
   "language": "python",
   "name": "python3"
  },
  "language_info": {
   "codemirror_mode": {
    "name": "ipython",
    "version": 3
   },
   "file_extension": ".py",
   "mimetype": "text/x-python",
   "name": "python",
   "nbconvert_exporter": "python",
   "pygments_lexer": "ipython3",
   "version": "3.6.6"
  }
 },
 "nbformat": 4,
 "nbformat_minor": 2
}
