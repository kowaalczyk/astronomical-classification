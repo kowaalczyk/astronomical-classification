{
 "cells": [
  {
   "cell_type": "code",
   "execution_count": 1,
   "metadata": {},
   "outputs": [],
   "source": [
    "import pandas as pd\n",
    "import numpy as np\n",
    "import seaborn as sns\n",
    "import matplotlib.pyplot as plt\n",
    "\n",
    "from typing import Set\n",
    "from datetime import datetime as dt\n",
    "from functools import partial, wraps\n",
    "\n",
    "from plasticc.featurize import process_meta, featurize\n",
    "from plasticc.training import path_from_cv_score, train_and_validate, random_search\n",
    "from plasticc.final import featurize_test, predict_test"
   ]
  },
  {
   "cell_type": "code",
   "execution_count": 2,
   "metadata": {},
   "outputs": [],
   "source": [
    "%load_ext autoreload\n",
    "%autoreload 2"
   ]
  },
  {
   "cell_type": "code",
   "execution_count": 3,
   "metadata": {},
   "outputs": [],
   "source": [
    "fcp = {\n",
    "    'flux': {\n",
    "        'longest_strike_above_mean': None,\n",
    "        'longest_strike_below_mean': None,\n",
    "        'mean_change': None,\n",
    "        'mean_abs_change': None,\n",
    "        'length': None,\n",
    "    },\n",
    "\n",
    "    'flux_by_flux_ratio_sq': {\n",
    "        'longest_strike_above_mean': None,\n",
    "        'longest_strike_below_mean': None,       \n",
    "    },\n",
    "\n",
    "    'flux_passband': {\n",
    "        'fft_coefficient': [\n",
    "                {'coeff': 0, 'attr': 'abs'}, \n",
    "                {'coeff': 1, 'attr': 'abs'}\n",
    "            ],\n",
    "        'kurtosis' : None,\n",
    "        'skewness' : None,\n",
    "        # new:\n",
    "        'sample_entropy': None,\n",
    "        'mean_second_derivative_central': None,\n",
    "        'mean_abs_change': None,\n",
    "        'index_mass_quantile': [\n",
    "            {'q': 0.5}\n",
    "        ],\n",
    "        'fft_aggregated': [\n",
    "            {'aggtype': 'centroid'},\n",
    "            {'aggtype': 'variance'},\n",
    "            {'aggtype': 'skew'},\n",
    "            {'aggtype': 'kurtosis'},\n",
    "        ]\n",
    "    },\n",
    "\n",
    "    'mjd': {\n",
    "        'maximum': None, \n",
    "        'minimum': None,\n",
    "        'mean_change': None,\n",
    "        'mean_abs_change': None,\n",
    "    },\n",
    "}"
   ]
  },
  {
   "cell_type": "code",
   "execution_count": 4,
   "metadata": {},
   "outputs": [],
   "source": [
    "aggs = {\n",
    "    'flux': ['min', 'max', 'mean', 'median', 'std', 'skew'],\n",
    "    'flux_err': ['min', 'max', 'mean', 'median', 'std', 'skew'],\n",
    "    'detected': ['mean'],\n",
    "    'flux_ratio_sq':['sum', 'skew'],\n",
    "    'flux_by_flux_ratio_sq':['sum','skew'],\n",
    "}"
   ]
  },
  {
   "cell_type": "markdown",
   "metadata": {},
   "source": [
    "### Generate features for model training"
   ]
  },
  {
   "cell_type": "code",
   "execution_count": 5,
   "metadata": {},
   "outputs": [
    {
     "name": "stdout",
     "output_type": "stream",
     "text": [
      "CPU times: user 2.46 s, sys: 532 ms, total: 2.99 s\n",
      "Wall time: 1.67 s\n"
     ]
    }
   ],
   "source": [
    "%%time\n",
    "meta_train = process_meta('../data/raw/training_set_metadata.csv')\n",
    "train = pd.read_csv('../data/raw/training_set.csv')"
   ]
  },
  {
   "cell_type": "code",
   "execution_count": 6,
   "metadata": {
    "scrolled": true
   },
   "outputs": [
    {
     "name": "stderr",
     "output_type": "stream",
     "text": [
      "Feature Extraction: 100%|██████████| 60/60 [00:15<00:00,  6.82it/s]\n",
      "Feature Extraction: 100%|██████████| 60/60 [00:01<00:00, 53.38it/s]\n",
      "Feature Extraction: 100%|██████████| 60/60 [00:01<00:00, 54.63it/s]\n",
      "Feature Extraction: 100%|██████████| 60/60 [00:00<00:00, 62.97it/s]\n"
     ]
    },
    {
     "name": "stdout",
     "output_type": "stream",
     "text": [
      "CPU times: user 1min 18s, sys: 2.92 s, total: 1min 21s\n",
      "Wall time: 37.6 s\n"
     ]
    }
   ],
   "source": [
    "%%time\n",
    "X = featurize(train, meta_train, aggs, fcp, n_jobs=12)"
   ]
  },
  {
   "cell_type": "code",
   "execution_count": 7,
   "metadata": {},
   "outputs": [],
   "source": [
    "if 'target' in X:\n",
    "    y = X['target']\n",
    "    del X['target']\n",
    "else:\n",
    "    print(\"What the duck\")\n",
    "    3//0"
   ]
  },
  {
   "cell_type": "code",
   "execution_count": 8,
   "metadata": {},
   "outputs": [
    {
     "name": "stdout",
     "output_type": "stream",
     "text": [
      "CPU times: user 272 ms, sys: 0 ns, total: 272 ms\n",
      "Wall time: 14.3 ms\n"
     ]
    }
   ],
   "source": [
    "%%time\n",
    "train_mean = X.mean(axis=0)\n",
    "#train_mean.to_hdf('train_data.hdf5', 'data')\n",
    "# pd.set_option('display.max_rows', 500)\n",
    "#import pdb; pdb.set_trace()\n",
    "X.fillna(0, inplace=True)"
   ]
  },
  {
   "cell_type": "markdown",
   "metadata": {},
   "source": [
    "### Train model with CV"
   ]
  },
  {
   "cell_type": "code",
   "execution_count": 9,
   "metadata": {},
   "outputs": [],
   "source": [
    "lgbm_params = {\n",
    "    'device': 'cpu',\n",
    "    'objective': 'multiclass',\n",
    "    'num_class': 14,\n",
    "    'boosting_type': 'gbdt',\n",
    "    'n_jobs': 16,\n",
    "    'max_depth': 6,\n",
    "    'n_estimators': 1024,\n",
    "    'subsample_freq': 2,\n",
    "    'subsample_for_bin': 5000,\n",
    "    'min_data_per_group': 100,\n",
    "    'max_cat_to_onehot': 4,\n",
    "    'cat_l2': 1.0,\n",
    "    'cat_smooth': 59.5,\n",
    "    'max_cat_threshold': 32,\n",
    "    'metric_freq': 10,\n",
    "    'verbosity': -1,\n",
    "    'metric': 'multi_logloss',\n",
    "    'xgboost_dart_mode': False,\n",
    "    'uniform_drop': False,\n",
    "    'colsample_bytree': 0.33,\n",
    "    'drop_rate': 0.173,\n",
    "    'learning_rate': 0.0267,\n",
    "    'max_drop': 5,\n",
    "    'min_child_samples': 10,\n",
    "    'min_child_weight': 100.0,\n",
    "    'min_split_gain': 0.126,\n",
    "    'num_leaves': 7,\n",
    "    'reg_alpha': 0.1,\n",
    "    'reg_lambda': 0.00023,\n",
    "    'skip_drop': 0.44,\n",
    "    'subsample': 0.75,\n",
    "    'max_bin': 32,\n",
    "    'min_data_in_leaf': 13,\n",
    "    'lambda_l1': 2,\n",
    "}"
   ]
  },
  {
   "cell_type": "code",
   "execution_count": 10,
   "metadata": {},
   "outputs": [],
   "source": [
    "colnames_to_ignore = set([\n",
    "    'object_id',\n",
    "    'hostgal_specz',\n",
    "    'ra',\n",
    "    'decl',\n",
    "    'gal_l',\n",
    "    'gal_b',\n",
    "    'ddf',\n",
    "    \n",
    "])\n",
    "colnames_to_ignore_restrictive = colnames_to_ignore | set([\n",
    "    'latlon1',\n",
    "    'haversine',\n",
    "])\n",
    "colnames_to_ignore_very_restrictive = colnames_to_ignore_restrictive | set([\n",
    "    'flux_err_skew',\n",
    "    'flux_by_flux_ratio_sq_sum'\n",
    "])\n",
    "id_colname = 'object_id'"
   ]
  },
  {
   "cell_type": "code",
   "execution_count": 11,
   "metadata": {},
   "outputs": [
    {
     "name": "stdout",
     "output_type": "stream",
     "text": [
      "Training until validation scores don't improve for 50 rounds.\n",
      "[100]\ttraining's multi_logloss: 0.782095\ttraining's wloss: 0.773807\tvalid_1's multi_logloss: 1.13285\tvalid_1's wloss: 0.958323\n",
      "[200]\ttraining's multi_logloss: 0.512056\ttraining's wloss: 0.501005\tvalid_1's multi_logloss: 0.899936\tvalid_1's wloss: 0.735906\n",
      "[300]\ttraining's multi_logloss: 0.401353\ttraining's wloss: 0.389832\tvalid_1's multi_logloss: 0.811339\tvalid_1's wloss: 0.668802\n",
      "[400]\ttraining's multi_logloss: 0.337347\ttraining's wloss: 0.325368\tvalid_1's multi_logloss: 0.765355\tvalid_1's wloss: 0.647173\n",
      "[500]\ttraining's multi_logloss: 0.292275\ttraining's wloss: 0.280822\tvalid_1's multi_logloss: 0.735506\tvalid_1's wloss: 0.64204\n",
      "[600]\ttraining's multi_logloss: 0.257022\ttraining's wloss: 0.245996\tvalid_1's multi_logloss: 0.711614\tvalid_1's wloss: 0.638987\n",
      "Early stopping, best iteration is:\n",
      "[642]\ttraining's multi_logloss: 0.244318\ttraining's wloss: 0.233468\tvalid_1's multi_logloss: 0.702548\tvalid_1's wloss: 0.638086\n",
      "no 1-fold loss: 0.6380855654687164\n",
      "Training until validation scores don't improve for 50 rounds.\n",
      "[100]\ttraining's multi_logloss: 0.78393\ttraining's wloss: 0.777211\tvalid_1's multi_logloss: 1.11669\tvalid_1's wloss: 0.95528\n",
      "[200]\ttraining's multi_logloss: 0.513623\ttraining's wloss: 0.503815\tvalid_1's multi_logloss: 0.878318\tvalid_1's wloss: 0.74479\n",
      "[300]\ttraining's multi_logloss: 0.403379\ttraining's wloss: 0.392474\tvalid_1's multi_logloss: 0.788769\tvalid_1's wloss: 0.695201\n",
      "[400]\ttraining's multi_logloss: 0.339708\ttraining's wloss: 0.328293\tvalid_1's multi_logloss: 0.744947\tvalid_1's wloss: 0.673997\n",
      "[500]\ttraining's multi_logloss: 0.294763\ttraining's wloss: 0.283694\tvalid_1's multi_logloss: 0.714911\tvalid_1's wloss: 0.667963\n",
      "[600]\ttraining's multi_logloss: 0.259232\ttraining's wloss: 0.248293\tvalid_1's multi_logloss: 0.691728\tvalid_1's wloss: 0.665635\n",
      "Early stopping, best iteration is:\n",
      "[555]\ttraining's multi_logloss: 0.274268\ttraining's wloss: 0.263226\tvalid_1's multi_logloss: 0.700688\tvalid_1's wloss: 0.664488\n",
      "no 2-fold loss: 0.6644876334788042\n",
      "Training until validation scores don't improve for 50 rounds.\n",
      "[100]\ttraining's multi_logloss: 0.788429\ttraining's wloss: 0.783092\tvalid_1's multi_logloss: 1.12655\tvalid_1's wloss: 0.925338\n",
      "[200]\ttraining's multi_logloss: 0.514803\ttraining's wloss: 0.50712\tvalid_1's multi_logloss: 0.887991\tvalid_1's wloss: 0.708715\n",
      "[300]\ttraining's multi_logloss: 0.404324\ttraining's wloss: 0.395651\tvalid_1's multi_logloss: 0.795696\tvalid_1's wloss: 0.647774\n",
      "[400]\ttraining's multi_logloss: 0.33921\ttraining's wloss: 0.329872\tvalid_1's multi_logloss: 0.747038\tvalid_1's wloss: 0.626017\n",
      "[500]\ttraining's multi_logloss: 0.293606\ttraining's wloss: 0.284437\tvalid_1's multi_logloss: 0.716194\tvalid_1's wloss: 0.620243\n",
      "[600]\ttraining's multi_logloss: 0.258983\ttraining's wloss: 0.250062\tvalid_1's multi_logloss: 0.694855\tvalid_1's wloss: 0.619953\n",
      "Early stopping, best iteration is:\n",
      "[574]\ttraining's multi_logloss: 0.267294\ttraining's wloss: 0.258325\tvalid_1's multi_logloss: 0.69945\tvalid_1's wloss: 0.618281\n",
      "no 3-fold loss: 0.6182805490646828\n",
      "Training until validation scores don't improve for 50 rounds.\n",
      "[100]\ttraining's multi_logloss: 0.777338\ttraining's wloss: 0.77079\tvalid_1's multi_logloss: 1.14138\tvalid_1's wloss: 0.957099\n",
      "[200]\ttraining's multi_logloss: 0.505595\ttraining's wloss: 0.49653\tvalid_1's multi_logloss: 0.895582\tvalid_1's wloss: 0.740088\n",
      "[300]\ttraining's multi_logloss: 0.39662\ttraining's wloss: 0.386749\tvalid_1's multi_logloss: 0.801009\tvalid_1's wloss: 0.676317\n",
      "[400]\ttraining's multi_logloss: 0.333708\ttraining's wloss: 0.323561\tvalid_1's multi_logloss: 0.754187\tvalid_1's wloss: 0.654387\n",
      "[500]\ttraining's multi_logloss: 0.288846\ttraining's wloss: 0.278988\tvalid_1's multi_logloss: 0.722087\tvalid_1's wloss: 0.646676\n",
      "[600]\ttraining's multi_logloss: 0.254698\ttraining's wloss: 0.245088\tvalid_1's multi_logloss: 0.69766\tvalid_1's wloss: 0.642435\n",
      "Early stopping, best iteration is:\n",
      "[592]\ttraining's multi_logloss: 0.257109\ttraining's wloss: 0.247495\tvalid_1's multi_logloss: 0.699185\tvalid_1's wloss: 0.642103\n",
      "no 4-fold loss: 0.6421033608085066\n",
      "MULTI WEIGHTED LOG LOSS: 0.64133\n",
      "/home/kk385830/astronomical-classification/submissions/subm_0.641327_2018-12-11-23-12.csv\n"
     ]
    }
   ],
   "source": [
    "feature_colnames = [col for col in X.columns if col not in colnames_to_ignore_very_restrictive]\n",
    "clfs, score, importances = train_and_validate(\n",
    "    X=X, \n",
    "    y=y,\n",
    "    feature_colnames=feature_colnames, \n",
    "    id_colname=id_colname, \n",
    "    model='lgbm', \n",
    "    model_params=lgbm_params, \n",
    "    nr_fold=4, \n",
    "    random_state=1\n",
    ")\n",
    "submission_file_path = path_from_cv_score(score, suffix='')\n",
    "print(submission_file_path)"
   ]
  },
  {
   "cell_type": "code",
   "execution_count": 12,
   "metadata": {},
   "outputs": [],
   "source": [
    "desc_importances = importances.sort_values(by='mean_gain', ascending=False)"
   ]
  },
  {
   "cell_type": "code",
   "execution_count": 13,
   "metadata": {},
   "outputs": [
    {
     "data": {
      "image/png": "[encoded data removed]",
      "text/plain": [
       "<Figure size 864x1152 with 1 Axes>"
      ]
     },
     "metadata": {
      "needs_background": "light"
     },
     "output_type": "display_data"
    }
   ],
   "source": [
    "fig, ax = plt.subplots(figsize=(12,16))\n",
    "sns.barplot(ax=ax, data=desc_importances.head(50), x='gain', y='feature', hue='fold', )\n",
    "plt.show()"
   ]
  },
  {
   "cell_type": "code",
   "execution_count": 14,
   "metadata": {},
   "outputs": [
    {
     "data": {
      "image/png": "[encoded data removed]",
      "text/plain": [
       "<Figure size 864x1152 with 1 Axes>"
      ]
     },
     "metadata": {
      "needs_background": "light"
     },
     "output_type": "display_data"
    }
   ],
   "source": [
    "fig, ax = plt.subplots(figsize=(12,16))\n",
    "sns.barplot(ax=ax, data=desc_importances.tail(50), x='gain', y='feature', hue='fold')\n",
    "plt.show()"
   ]
  },
  {
   "cell_type": "markdown",
   "metadata": {},
   "source": [
    "#### Seems like the model's parameters can be improved a little more by performing a randomized search"
   ]
  },
  {
   "cell_type": "code",
   "execution_count": 15,
   "metadata": {},
   "outputs": [
    {
     "data": {
      "text/plain": [
       "{'device': 'cpu',\n",
       " 'objective': 'multiclass',\n",
       " 'num_class': 14,\n",
       " 'boosting_type': 'gbdt',\n",
       " 'n_jobs': 16,\n",
       " 'max_depth': 6,\n",
       " 'n_estimators': 1024,\n",
       " 'subsample_freq': 2,\n",
       " 'subsample_for_bin': 5000,\n",
       " 'min_data_per_group': 100,\n",
       " 'max_cat_to_onehot': 4,\n",
       " 'cat_l2': 1.0,\n",
       " 'cat_smooth': 59.5,\n",
       " 'max_cat_threshold': 32,\n",
       " 'metric_freq': 10,\n",
       " 'verbosity': -1,\n",
       " 'metric': 'multi_logloss',\n",
       " 'xgboost_dart_mode': False,\n",
       " 'uniform_drop': False,\n",
       " 'colsample_bytree': 0.33,\n",
       " 'drop_rate': 0.173,\n",
       " 'learning_rate': 0.0267,\n",
       " 'max_drop': 5,\n",
       " 'min_child_samples': 10,\n",
       " 'min_child_weight': 100.0,\n",
       " 'min_split_gain': 0.126,\n",
       " 'num_leaves': 7,\n",
       " 'reg_alpha': 0.1,\n",
       " 'reg_lambda': 0.00023,\n",
       " 'skip_drop': 0.44,\n",
       " 'subsample': 0.75,\n",
       " 'max_bin': 32,\n",
       " 'min_data_in_leaf': 13,\n",
       " 'lambda_l1': 2}"
      ]
     },
     "execution_count": 15,
     "metadata": {},
     "output_type": "execute_result"
    }
   ],
   "source": [
    "lgbm_params"
   ]
  },
  {
   "cell_type": "code",
   "execution_count": 16,
   "metadata": {},
   "outputs": [],
   "source": [
    "tuned_params = {\n",
    "    'max_depth': [4,6,8,10],\n",
    "    'n_estimators': [512,1024,2048],\n",
    "    'max_bin': [4, 8, 16, 32, 64],\n",
    "    'num_leaves': [3,5,7,9,11,13,15],\n",
    "    'feature_fraction': [0.25, 0.5, 0.67, 0.75, 0.825, 0.95],\n",
    "    'verbosity': [0]  # prevent too much output\n",
    "}"
   ]
  },
  {
   "cell_type": "code",
   "execution_count": 17,
   "metadata": {},
   "outputs": [
    {
     "name": "stdout",
     "output_type": "stream",
     "text": [
      "max_depth: mean=7.0000, std=2.2361\n",
      "n_estimators: mean=1194.6667, std=638.5762\n",
      "max_bin: mean=24.8000, std=21.8211\n",
      "num_leaves: mean=9.0000, std=4.0000\n",
      "feature_fraction: mean=0.6575, std=0.2285\n",
      "verbosity: mean=0.0000, std=0.0000\n"
     ]
    }
   ],
   "source": [
    "for key in tuned_params:\n",
    "    print(f\"{key}: mean={np.mean(tuned_params[key]):.4f}, std={np.std(tuned_params[key]):.4f}\")"
   ]
  },
  {
   "cell_type": "code",
   "execution_count": 18,
   "metadata": {},
   "outputs": [],
   "source": [
    "experiment_params = lgbm_params.copy()\n",
    "for key in experiment_params.keys():\n",
    "    experiment_params[key] = [experiment_params[key]]  # 1-element list\n",
    "experiment_params.update(tuned_params)"
   ]
  },
  {
   "cell_type": "code",
   "execution_count": 19,
   "metadata": {},
   "outputs": [
    {
     "data": {
      "text/plain": [
       "{'device': ['cpu'],\n",
       " 'objective': ['multiclass'],\n",
       " 'num_class': [14],\n",
       " 'boosting_type': ['gbdt'],\n",
       " 'n_jobs': [16],\n",
       " 'max_depth': [4, 6, 8, 10],\n",
       " 'n_estimators': [512, 1024, 2048],\n",
       " 'subsample_freq': [2],\n",
       " 'subsample_for_bin': [5000],\n",
       " 'min_data_per_group': [100],\n",
       " 'max_cat_to_onehot': [4],\n",
       " 'cat_l2': [1.0],\n",
       " 'cat_smooth': [59.5],\n",
       " 'max_cat_threshold': [32],\n",
       " 'metric_freq': [10],\n",
       " 'verbosity': [0],\n",
       " 'metric': ['multi_logloss'],\n",
       " 'xgboost_dart_mode': [False],\n",
       " 'uniform_drop': [False],\n",
       " 'colsample_bytree': [0.33],\n",
       " 'drop_rate': [0.173],\n",
       " 'learning_rate': [0.0267],\n",
       " 'max_drop': [5],\n",
       " 'min_child_samples': [10],\n",
       " 'min_child_weight': [100.0],\n",
       " 'min_split_gain': [0.126],\n",
       " 'num_leaves': [3, 5, 7, 9, 11, 13, 15],\n",
       " 'reg_alpha': [0.1],\n",
       " 'reg_lambda': [0.00023],\n",
       " 'skip_drop': [0.44],\n",
       " 'subsample': [0.75],\n",
       " 'max_bin': [4, 8, 16, 32, 64],\n",
       " 'min_data_in_leaf': [13],\n",
       " 'lambda_l1': [2],\n",
       " 'feature_fraction': [0.25, 0.5, 0.67, 0.75, 0.825, 0.95]}"
      ]
     },
     "execution_count": 19,
     "metadata": {},
     "output_type": "execute_result"
    }
   ],
   "source": [
    "experiment_params"
   ]
  },
  {
   "cell_type": "code",
   "execution_count": 20,
   "metadata": {},
   "outputs": [],
   "source": [
    "lens = [len(val) for val in experiment_params.values()]"
   ]
  },
  {
   "cell_type": "code",
   "execution_count": 21,
   "metadata": {},
   "outputs": [
    {
     "data": {
      "text/plain": [
       "2520"
      ]
     },
     "execution_count": 21,
     "metadata": {},
     "output_type": "execute_result"
    }
   ],
   "source": [
    "max_experiments = 1\n",
    "for l in lens:\n",
    "    max_experiments*=l\n",
    "max_experiments  # max number of experiments with specified parameters"
   ]
  },
  {
   "cell_type": "code",
   "execution_count": 22,
   "metadata": {},
   "outputs": [
    {
     "name": "stderr",
     "output_type": "stream",
     "text": [
      "100%|██████████| 32/32 [18:57<00:00, 34.05s/it]\n"
     ]
    }
   ],
   "source": [
    "%%capture --no-stderr\n",
    "search_result = random_search(\n",
    "    n_iter=32,  # TODO: Conduct larger search later\n",
    "    X=X, \n",
    "    y=y,\n",
    "    feature_colnames=feature_colnames, \n",
    "    id_colname=id_colname, \n",
    "    model='lgbm', \n",
    "    search_params=experiment_params, \n",
    "    nr_fold=4, \n",
    "    random_state=1\n",
    ")"
   ]
  },
  {
   "cell_type": "code",
   "execution_count": 24,
   "metadata": {},
   "outputs": [],
   "source": [
    "best_result = search_result.training_results[search_result.best_idx]"
   ]
  },
  {
   "cell_type": "code",
   "execution_count": 25,
   "metadata": {},
   "outputs": [
    {
     "data": {
      "text/plain": [
       "0.6451009144271047"
      ]
     },
     "execution_count": 25,
     "metadata": {},
     "output_type": "execute_result"
    }
   ],
   "source": [
    "best_result.score"
   ]
  },
  {
   "cell_type": "code",
   "execution_count": 43,
   "metadata": {},
   "outputs": [
    {
     "data": {
      "text/plain": [
       "[LGBMClassifier(boosting_type='gbdt', cat_l2=1.0, cat_smooth=59.5,\n",
       "         class_weight=None, colsample_bytree=0.33, device='cpu',\n",
       "         drop_rate=0.173, feature_fraction=0.95, importance_type='split',\n",
       "         lambda_l1=2, learning_rate=0.0267, max_bin=32,\n",
       "         max_cat_threshold=32, max_cat_to_onehot=4, max_depth=10,\n",
       "         max_drop=5, metric='multi_logloss', metric_freq=10,\n",
       "         min_child_samples=10, min_child_weight=100.0, min_data_in_leaf=13,\n",
       "         min_data_per_group=100, min_split_gain=0.126, n_estimators=2048,\n",
       "         n_jobs=16, num_class=14, num_leaves=3, objective='multiclass',\n",
       "         random_state=None, reg_alpha=0.1, reg_lambda=0.00023, silent=True,\n",
       "         skip_drop=0.44, subsample=0.75, subsample_for_bin=5000,\n",
       "         subsample_freq=2, uniform_drop=False, verbosity=0,\n",
       "         xgboost_dart_mode=False),\n",
       " LGBMClassifier(boosting_type='gbdt', cat_l2=1.0, cat_smooth=59.5,\n",
       "         class_weight=None, colsample_bytree=0.33, device='cpu',\n",
       "         drop_rate=0.173, feature_fraction=0.95, importance_type='split',\n",
       "         lambda_l1=2, learning_rate=0.0267, max_bin=32,\n",
       "         max_cat_threshold=32, max_cat_to_onehot=4, max_depth=10,\n",
       "         max_drop=5, metric='multi_logloss', metric_freq=10,\n",
       "         min_child_samples=10, min_child_weight=100.0, min_data_in_leaf=13,\n",
       "         min_data_per_group=100, min_split_gain=0.126, n_estimators=2048,\n",
       "         n_jobs=16, num_class=14, num_leaves=3, objective='multiclass',\n",
       "         random_state=None, reg_alpha=0.1, reg_lambda=0.00023, silent=True,\n",
       "         skip_drop=0.44, subsample=0.75, subsample_for_bin=5000,\n",
       "         subsample_freq=2, uniform_drop=False, verbosity=0,\n",
       "         xgboost_dart_mode=False),\n",
       " LGBMClassifier(boosting_type='gbdt', cat_l2=1.0, cat_smooth=59.5,\n",
       "         class_weight=None, colsample_bytree=0.33, device='cpu',\n",
       "         drop_rate=0.173, feature_fraction=0.95, importance_type='split',\n",
       "         lambda_l1=2, learning_rate=0.0267, max_bin=32,\n",
       "         max_cat_threshold=32, max_cat_to_onehot=4, max_depth=10,\n",
       "         max_drop=5, metric='multi_logloss', metric_freq=10,\n",
       "         min_child_samples=10, min_child_weight=100.0, min_data_in_leaf=13,\n",
       "         min_data_per_group=100, min_split_gain=0.126, n_estimators=2048,\n",
       "         n_jobs=16, num_class=14, num_leaves=3, objective='multiclass',\n",
       "         random_state=None, reg_alpha=0.1, reg_lambda=0.00023, silent=True,\n",
       "         skip_drop=0.44, subsample=0.75, subsample_for_bin=5000,\n",
       "         subsample_freq=2, uniform_drop=False, verbosity=0,\n",
       "         xgboost_dart_mode=False),\n",
       " LGBMClassifier(boosting_type='gbdt', cat_l2=1.0, cat_smooth=59.5,\n",
       "         class_weight=None, colsample_bytree=0.33, device='cpu',\n",
       "         drop_rate=0.173, feature_fraction=0.95, importance_type='split',\n",
       "         lambda_l1=2, learning_rate=0.0267, max_bin=32,\n",
       "         max_cat_threshold=32, max_cat_to_onehot=4, max_depth=10,\n",
       "         max_drop=5, metric='multi_logloss', metric_freq=10,\n",
       "         min_child_samples=10, min_child_weight=100.0, min_data_in_leaf=13,\n",
       "         min_data_per_group=100, min_split_gain=0.126, n_estimators=2048,\n",
       "         n_jobs=16, num_class=14, num_leaves=3, objective='multiclass',\n",
       "         random_state=None, reg_alpha=0.1, reg_lambda=0.00023, silent=True,\n",
       "         skip_drop=0.44, subsample=0.75, subsample_for_bin=5000,\n",
       "         subsample_freq=2, uniform_drop=False, verbosity=0,\n",
       "         xgboost_dart_mode=False)]"
      ]
     },
     "execution_count": 43,
     "metadata": {},
     "output_type": "execute_result"
    }
   ],
   "source": [
    "search_result.training_results[0].clfs"
   ]
  },
  {
   "cell_type": "code",
   "execution_count": 46,
   "metadata": {},
   "outputs": [],
   "source": [
    "sr_series = pd.Series([sr.score for sr in search_result.training_results])"
   ]
  },
  {
   "cell_type": "code",
   "execution_count": 49,
   "metadata": {},
   "outputs": [
    {
     "data": {
      "text/plain": [
       "11    0.645101\n",
       "17    0.648279\n",
       "7     0.648335\n",
       "29    0.648734\n",
       "9     0.652690\n",
       "0     0.652701\n",
       "3     0.652709\n",
       "22    0.653431\n",
       "31    0.653963\n",
       "18    0.655342\n",
       "dtype: float64"
      ]
     },
     "execution_count": 49,
     "metadata": {},
     "output_type": "execute_result"
    }
   ],
   "source": [
    "sr_series.sort_values(ascending=True).head(10)"
   ]
  },
  {
   "cell_type": "code",
   "execution_count": 50,
   "metadata": {},
   "outputs": [],
   "source": [
    "indices_to_bag = sr_series.sort_values(ascending=True).head(4)"
   ]
  },
  {
   "cell_type": "code",
   "execution_count": 26,
   "metadata": {},
   "outputs": [],
   "source": [
    "best_importances = best_result.importances.sort_values(by='mean_gain', ascending=False)"
   ]
  },
  {
   "cell_type": "code",
   "execution_count": 27,
   "metadata": {},
   "outputs": [
    {
     "data": {
      "image/png": "[encoded data removed]",
      "text/plain": [
       "<Figure size 864x1152 with 1 Axes>"
      ]
     },
     "metadata": {
      "needs_background": "light"
     },
     "output_type": "display_data"
    }
   ],
   "source": [
    "fig, ax = plt.subplots(figsize=(12,16))\n",
    "sns.barplot(ax=ax, data=best_importances.head(50), x='gain', y='feature', hue='fold', )\n",
    "plt.show()"
   ]
  },
  {
   "cell_type": "code",
   "execution_count": 28,
   "metadata": {},
   "outputs": [
    {
     "data": {
      "image/png": "[encoded data removed]",
      "text/plain": [
       "<Figure size 864x1152 with 1 Axes>"
      ]
     },
     "metadata": {
      "needs_background": "light"
     },
     "output_type": "display_data"
    }
   ],
   "source": [
    "fig, ax = plt.subplots(figsize=(12,16))\n",
    "sns.barplot(ax=ax, data=best_importances.tail(50), x='gain', y='feature', hue='fold', )\n",
    "plt.show()"
   ]
  },
  {
   "cell_type": "code",
   "execution_count": 32,
   "metadata": {},
   "outputs": [
    {
     "data": {
      "text/plain": [
       "{'max_depth': 8,\n",
       " 'n_estimators': 1024,\n",
       " 'max_bin': 16,\n",
       " 'num_leaves': 5,\n",
       " 'feature_fraction': 0.5,\n",
       " 'verbosity': 0}"
      ]
     },
     "execution_count": 32,
     "metadata": {},
     "output_type": "execute_result"
    }
   ],
   "source": [
    "{key: search_result.model_params[search_result.best_idx][key] for key in tuned_params.keys()}"
   ]
  },
  {
   "cell_type": "markdown",
   "metadata": {},
   "source": [
    "### Test set features"
   ]
  },
  {
   "cell_type": "code",
   "execution_count": 33,
   "metadata": {},
   "outputs": [
    {
     "data": {
      "text/plain": [
       "4536532"
      ]
     },
     "execution_count": 33,
     "metadata": {},
     "output_type": "execute_result"
    }
   ],
   "source": [
    "chunk_size_one_100 = 453653105 // 100 + 1\n",
    "# chunk_size_one_100 = 1000001 // 100 + 1\n",
    "chunk_size_one_100"
   ]
  },
  {
   "cell_type": "code",
   "execution_count": null,
   "metadata": {},
   "outputs": [
    {
     "name": "stderr",
     "output_type": "stream",
     "text": [
      "Feature Extraction: 100%|██████████| 80/80 [00:34<00:00,  2.29it/s]\n",
      "Feature Extraction: 100%|██████████| 80/80 [00:02<00:00, 30.66it/s]\n",
      "Feature Extraction: 100%|██████████| 80/80 [00:02<00:00, 37.04it/s]\n",
      "Feature Extraction: 100%|██████████| 80/80 [00:01<00:00, 46.43it/s]\n"
     ]
    },
    {
     "name": "stdout",
     "output_type": "stream",
     "text": [
      "        4536532 done in   1.8 minutes\n"
     ]
    },
    {
     "name": "stderr",
     "output_type": "stream",
     "text": [
      "Feature Extraction: 100%|██████████| 80/80 [00:35<00:00,  2.24it/s]\n",
      "Feature Extraction: 100%|██████████| 80/80 [00:03<00:00, 25.63it/s]\n",
      "Feature Extraction: 100%|██████████| 80/80 [00:03<00:00, 26.43it/s]\n",
      "Feature Extraction: 100%|██████████| 80/80 [00:01<00:00, 40.06it/s]\n"
     ]
    },
    {
     "name": "stdout",
     "output_type": "stream",
     "text": [
      "        9073064 done in   3.6 minutes\n"
     ]
    },
    {
     "name": "stderr",
     "output_type": "stream",
     "text": [
      "Feature Extraction: 100%|██████████| 80/80 [00:40<00:00,  3.73it/s]\n",
      "Feature Extraction: 100%|██████████| 80/80 [00:04<00:00, 22.99it/s]\n",
      "Feature Extraction: 100%|██████████| 80/80 [00:04<00:00, 23.66it/s]\n",
      "Feature Extraction: 100%|██████████| 80/80 [00:03<00:00, 24.27it/s]\n"
     ]
    },
    {
     "name": "stdout",
     "output_type": "stream",
     "text": [
      "       13609596 done in   6.0 minutes\n"
     ]
    },
    {
     "name": "stderr",
     "output_type": "stream",
     "text": [
      "Feature Extraction: 100%|██████████| 80/80 [00:42<00:00,  2.31it/s]\n",
      "Feature Extraction: 100%|██████████| 80/80 [00:05<00:00, 13.88it/s]\n",
      "Feature Extraction: 100%|██████████| 80/80 [00:05<00:00, 14.97it/s]\n",
      "Feature Extraction: 100%|██████████| 80/80 [00:05<00:00, 15.35it/s]\n"
     ]
    },
    {
     "name": "stdout",
     "output_type": "stream",
     "text": [
      "       18146128 done in   8.9 minutes\n"
     ]
    },
    {
     "name": "stderr",
     "output_type": "stream",
     "text": [
      "Feature Extraction: 100%|██████████| 80/80 [01:43<00:00,  2.12it/s]\n",
      "Feature Extraction: 100%|██████████| 80/80 [00:05<00:00, 15.37it/s]\n",
      "Feature Extraction: 100%|██████████| 80/80 [00:04<00:00, 18.02it/s]\n",
      "Feature Extraction: 100%|██████████| 80/80 [00:04<00:00, 19.44it/s]\n"
     ]
    },
    {
     "name": "stdout",
     "output_type": "stream",
     "text": [
      "       22682660 done in  12.5 minutes\n"
     ]
    },
    {
     "name": "stderr",
     "output_type": "stream",
     "text": [
      "Feature Extraction: 100%|██████████| 80/80 [00:34<00:00,  2.39it/s]\n",
      "Feature Extraction: 100%|██████████| 80/80 [00:04<00:00, 17.16it/s]\n",
      "Feature Extraction: 100%|██████████| 80/80 [00:04<00:00, 17.30it/s]\n",
      "Feature Extraction: 100%|██████████| 80/80 [00:04<00:00, 17.28it/s]\n"
     ]
    },
    {
     "name": "stdout",
     "output_type": "stream",
     "text": [
      "       27219192 done in  14.7 minutes\n"
     ]
    },
    {
     "name": "stderr",
     "output_type": "stream",
     "text": [
      "Feature Extraction: 100%|██████████| 80/80 [00:32<00:00,  3.95it/s]\n",
      "Feature Extraction: 100%|██████████| 80/80 [00:05<00:00, 14.89it/s]\n",
      "Feature Extraction: 100%|██████████| 80/80 [00:04<00:00, 17.07it/s]\n",
      "Feature Extraction: 100%|██████████| 80/80 [00:04<00:00, 18.00it/s]\n"
     ]
    },
    {
     "name": "stdout",
     "output_type": "stream",
     "text": [
      "       31755724 done in  16.9 minutes\n"
     ]
    },
    {
     "name": "stderr",
     "output_type": "stream",
     "text": [
      "Feature Extraction: 100%|██████████| 80/80 [00:34<00:00,  3.05it/s]\n",
      "Feature Extraction: 100%|██████████| 80/80 [00:05<00:00, 15.42it/s]\n",
      "Feature Extraction: 100%|██████████| 80/80 [00:04<00:00, 19.32it/s]\n",
      "Feature Extraction: 100%|██████████| 80/80 [00:03<00:00, 28.00it/s]\n"
     ]
    },
    {
     "name": "stdout",
     "output_type": "stream",
     "text": [
      "       36292256 done in  19.2 minutes\n"
     ]
    },
    {
     "name": "stderr",
     "output_type": "stream",
     "text": [
      "Feature Extraction: 100%|██████████| 80/80 [00:34<00:00,  2.54it/s]\n",
      "Feature Extraction: 100%|██████████| 80/80 [00:04<00:00, 16.26it/s]\n",
      "Feature Extraction: 100%|██████████| 80/80 [00:04<00:00, 17.36it/s]\n",
      "Feature Extraction: 100%|██████████| 80/80 [00:04<00:00, 16.34it/s]\n"
     ]
    },
    {
     "name": "stdout",
     "output_type": "stream",
     "text": [
      "       40828788 done in  21.4 minutes\n"
     ]
    },
    {
     "name": "stderr",
     "output_type": "stream",
     "text": [
      "Feature Extraction: 100%|██████████| 80/80 [00:34<00:00,  2.91it/s]\n",
      "Feature Extraction: 100%|██████████| 80/80 [00:04<00:00, 17.44it/s]\n",
      "Feature Extraction: 100%|██████████| 80/80 [00:05<00:00, 17.11it/s]\n",
      "Feature Extraction: 100%|██████████| 80/80 [00:04<00:00, 19.09it/s]\n"
     ]
    },
    {
     "name": "stdout",
     "output_type": "stream",
     "text": [
      "       45365320 done in  23.6 minutes\n"
     ]
    },
    {
     "name": "stderr",
     "output_type": "stream",
     "text": [
      "Feature Extraction: 100%|██████████| 80/80 [00:34<00:00,  3.32it/s]\n",
      "Feature Extraction: 100%|██████████| 80/80 [00:05<00:00, 16.72it/s]\n",
      "Feature Extraction: 100%|██████████| 80/80 [00:04<00:00, 21.30it/s]\n",
      "Feature Extraction: 100%|██████████| 80/80 [00:04<00:00, 17.38it/s]\n"
     ]
    },
    {
     "name": "stdout",
     "output_type": "stream",
     "text": [
      "       49901852 done in  25.9 minutes\n"
     ]
    },
    {
     "name": "stderr",
     "output_type": "stream",
     "text": [
      "Feature Extraction: 100%|██████████| 80/80 [00:33<00:00,  3.08it/s]\n",
      "Feature Extraction: 100%|██████████| 80/80 [00:05<00:00, 15.25it/s]\n",
      "Feature Extraction: 100%|██████████| 80/80 [00:04<00:00, 17.26it/s]\n",
      "Feature Extraction: 100%|██████████| 80/80 [00:04<00:00, 17.95it/s]\n"
     ]
    },
    {
     "name": "stdout",
     "output_type": "stream",
     "text": [
      "       54438384 done in  28.1 minutes\n"
     ]
    }
   ],
   "source": [
    "%%time\n",
    "# should take 100x (time after 1st iteration)\n",
    "featurize_test(\n",
    "    featurize_configs={'aggs': aggs, 'fcp': fcp}, \n",
    "    n_jobs=16,\n",
    "    meta_path='../data/raw/test_set_metadata.csv',\n",
    "    test_path='../data/raw/test_set.csv',\n",
    "    output_path='../data/features/test-more-tsfresh.csv',\n",
    "    id_colname='object_id',\n",
    "    chunks=chunk_size_one_100,  # alternatively: 5000000\n",
    ")"
   ]
  },
  {
   "cell_type": "markdown",
   "metadata": {},
   "source": [
    "### Test set predictions"
   ]
  },
  {
   "cell_type": "code",
   "execution_count": 60,
   "metadata": {},
   "outputs": [],
   "source": [
    "submission_clfs = [clf for idx in indices_to_bag for clf in search_result.training_results[int(idx)].clfs]"
   ]
  },
  {
   "cell_type": "code",
   "execution_count": 61,
   "metadata": {},
   "outputs": [
    {
     "data": {
      "text/plain": [
       "16"
      ]
     },
     "execution_count": 61,
     "metadata": {},
     "output_type": "execute_result"
    }
   ],
   "source": [
    "len(submission_clfs)"
   ]
  },
  {
   "cell_type": "code",
   "execution_count": 69,
   "metadata": {},
   "outputs": [],
   "source": [
    "bagged_filepath = path_from_cv_score(score, suffix='_bagged_with_3_other_models')"
   ]
  },
  {
   "cell_type": "code",
   "execution_count": 70,
   "metadata": {},
   "outputs": [
    {
     "name": "stdout",
     "output_type": "stream",
     "text": [
      "Loading data...\n"
     ]
    },
    {
     "name": "stderr",
     "output_type": "stream",
     "text": [
      "  0%|          | 0/16 [00:00<?, ?it/s]"
     ]
    },
    {
     "name": "stdout",
     "output_type": "stream",
     "text": [
      "Generating predictions...\n"
     ]
    },
    {
     "name": "stderr",
     "output_type": "stream",
     "text": [
      "100%|██████████| 16/16 [39:00<00:00, 172.75s/it]\n"
     ]
    },
    {
     "name": "stdout",
     "output_type": "stream",
     "text": [
      "Postprocessing...\n",
      "Submission shape before grouping: (3492890, 16)\n",
      "Submission shape after grouping: (3492890, 15)\n",
      "Submission shape after postprocessing: (3492890, 15)\n",
      "Validating submission file...\n",
      "Saving submission...\n",
      "Submission saved to f/home/kk385830/astronomical-classification/submissions/subm_0.641327_2018-12-12-10-44_bagged_with_3_other_models.csv\n",
      "CPU times: user 9h 46min 38s, sys: 5min 27s, total: 9h 52min 5s\n",
      "Wall time: 41min 52s\n"
     ]
    }
   ],
   "source": [
    "%%time\n",
    "submission = predict_test(\n",
    "    clfs=submission_clfs, \n",
    "    feature_colnames=feature_colnames, \n",
    "    id_colname=id_colname, \n",
    "    input_path='../data/features/test-more-tsfresh.csv', \n",
    "    output_path=bagged_filepath, \n",
    "    verbose=True\n",
    ")"
   ]
  },
  {
   "cell_type": "code",
   "execution_count": 71,
   "metadata": {},
   "outputs": [
    {
     "name": "stderr",
     "output_type": "stream",
     "text": [
      "[autoreload of plasticc.training failed: Traceback (most recent call last):\n",
      "  File \"/home/kk385830/miniconda3/envs/plasticc/lib/python3.6/site-packages/IPython/extensions/autoreload.py\", line 244, in check\n",
      "    superreload(m, reload, self.old_objects)\n",
      "  File \"/home/kk385830/miniconda3/envs/plasticc/lib/python3.6/site-packages/IPython/extensions/autoreload.py\", line 376, in superreload\n",
      "    module = reload(module)\n",
      "  File \"/home/kk385830/miniconda3/envs/plasticc/lib/python3.6/imp.py\", line 315, in reload\n",
      "    return importlib.reload(module)\n",
      "  File \"/home/kk385830/miniconda3/envs/plasticc/lib/python3.6/importlib/__init__.py\", line 166, in reload\n",
      "    _bootstrap._exec(spec, module)\n",
      "  File \"<frozen importlib._bootstrap>\", line 618, in _exec\n",
      "  File \"<frozen importlib._bootstrap_external>\", line 678, in exec_module\n",
      "  File \"<frozen importlib._bootstrap>\", line 219, in _call_with_frames_removed\n",
      "  File \"/home/kk385830/astronomical-classification/plasticc/training.py\", line 10, in <module>\n",
      "    from plasticc.models import lgbm_modeling_cross_validation, xgb_modeling_cross_validation, mlp_modeling_cross_validation\n",
      "ImportError: cannot import name 'mlp_modeling_cross_validation'\n",
      "]\n",
      "Using TensorFlow backend.\n"
     ]
    },
    {
     "data": {
      "text/html": [
       "<div>\n",
       "<style scoped>\n",
       "    .dataframe tbody tr th:only-of-type {\n",
       "        vertical-align: middle;\n",
       "    }\n",
       "\n",
       "    .dataframe tbody tr th {\n",
       "        vertical-align: top;\n",
       "    }\n",
       "\n",
       "    .dataframe thead th {\n",
       "        text-align: right;\n",
       "    }\n",
       "</style>\n",
       "<table border=\"1\" class=\"dataframe\">\n",
       "  <thead>\n",
       "    <tr style=\"text-align: right;\">\n",
       "      <th></th>\n",
       "      <th>class_6</th>\n",
       "      <th>class_15</th>\n",
       "      <th>class_16</th>\n",
       "      <th>class_42</th>\n",
       "      <th>class_52</th>\n",
       "      <th>class_53</th>\n",
       "      <th>class_62</th>\n",
       "      <th>class_64</th>\n",
       "      <th>class_65</th>\n",
       "      <th>class_67</th>\n",
       "      <th>class_88</th>\n",
       "      <th>class_90</th>\n",
       "      <th>class_92</th>\n",
       "      <th>class_95</th>\n",
       "      <th>class_99</th>\n",
       "    </tr>\n",
       "    <tr>\n",
       "      <th>object_id</th>\n",
       "      <th></th>\n",
       "      <th></th>\n",
       "      <th></th>\n",
       "      <th></th>\n",
       "      <th></th>\n",
       "      <th></th>\n",
       "      <th></th>\n",
       "      <th></th>\n",
       "      <th></th>\n",
       "      <th></th>\n",
       "      <th></th>\n",
       "      <th></th>\n",
       "      <th></th>\n",
       "      <th></th>\n",
       "      <th></th>\n",
       "    </tr>\n",
       "  </thead>\n",
       "  <tbody>\n",
       "    <tr>\n",
       "      <th>13</th>\n",
       "      <td>0.000193</td>\n",
       "      <td>0.002239</td>\n",
       "      <td>0.000045</td>\n",
       "      <td>0.379266</td>\n",
       "      <td>0.198602</td>\n",
       "      <td>0.000542</td>\n",
       "      <td>0.068155</td>\n",
       "      <td>0.000017</td>\n",
       "      <td>0.000094</td>\n",
       "      <td>0.002639</td>\n",
       "      <td>0.000166</td>\n",
       "      <td>0.210102</td>\n",
       "      <td>0.000174</td>\n",
       "      <td>0.001699</td>\n",
       "      <td>0.136066</td>\n",
       "    </tr>\n",
       "    <tr>\n",
       "      <th>14</th>\n",
       "      <td>0.000364</td>\n",
       "      <td>0.010855</td>\n",
       "      <td>0.000350</td>\n",
       "      <td>0.096987</td>\n",
       "      <td>0.129861</td>\n",
       "      <td>0.000587</td>\n",
       "      <td>0.062717</td>\n",
       "      <td>0.000055</td>\n",
       "      <td>0.002129</td>\n",
       "      <td>0.069920</td>\n",
       "      <td>0.002574</td>\n",
       "      <td>0.484334</td>\n",
       "      <td>0.000429</td>\n",
       "      <td>0.010939</td>\n",
       "      <td>0.127899</td>\n",
       "    </tr>\n",
       "    <tr>\n",
       "      <th>17</th>\n",
       "      <td>0.000197</td>\n",
       "      <td>0.002312</td>\n",
       "      <td>0.000145</td>\n",
       "      <td>0.028106</td>\n",
       "      <td>0.061620</td>\n",
       "      <td>0.000306</td>\n",
       "      <td>0.014930</td>\n",
       "      <td>0.001167</td>\n",
       "      <td>0.000301</td>\n",
       "      <td>0.083806</td>\n",
       "      <td>0.003866</td>\n",
       "      <td>0.711491</td>\n",
       "      <td>0.000074</td>\n",
       "      <td>0.006432</td>\n",
       "      <td>0.085247</td>\n",
       "    </tr>\n",
       "    <tr>\n",
       "      <th>23</th>\n",
       "      <td>0.000335</td>\n",
       "      <td>0.001913</td>\n",
       "      <td>0.000285</td>\n",
       "      <td>0.040276</td>\n",
       "      <td>0.033215</td>\n",
       "      <td>0.000320</td>\n",
       "      <td>0.073636</td>\n",
       "      <td>0.001195</td>\n",
       "      <td>0.000432</td>\n",
       "      <td>0.360563</td>\n",
       "      <td>0.000899</td>\n",
       "      <td>0.310954</td>\n",
       "      <td>0.000109</td>\n",
       "      <td>0.040551</td>\n",
       "      <td>0.135318</td>\n",
       "    </tr>\n",
       "    <tr>\n",
       "      <th>34</th>\n",
       "      <td>0.000259</td>\n",
       "      <td>0.006497</td>\n",
       "      <td>0.000053</td>\n",
       "      <td>0.046712</td>\n",
       "      <td>0.191538</td>\n",
       "      <td>0.000292</td>\n",
       "      <td>0.043294</td>\n",
       "      <td>0.000031</td>\n",
       "      <td>0.000385</td>\n",
       "      <td>0.030318</td>\n",
       "      <td>0.000133</td>\n",
       "      <td>0.564609</td>\n",
       "      <td>0.000113</td>\n",
       "      <td>0.001429</td>\n",
       "      <td>0.114336</td>\n",
       "    </tr>\n",
       "  </tbody>\n",
       "</table>\n",
       "</div>"
      ],
      "text/plain": [
       "            class_6  class_15  class_16  class_42  class_52  class_53  \\\n",
       "object_id                                                               \n",
       "13         0.000193  0.002239  0.000045  0.379266  0.198602  0.000542   \n",
       "14         0.000364  0.010855  0.000350  0.096987  0.129861  0.000587   \n",
       "17         0.000197  0.002312  0.000145  0.028106  0.061620  0.000306   \n",
       "23         0.000335  0.001913  0.000285  0.040276  0.033215  0.000320   \n",
       "34         0.000259  0.006497  0.000053  0.046712  0.191538  0.000292   \n",
       "\n",
       "           class_62  class_64  class_65  class_67  class_88  class_90  \\\n",
       "object_id                                                               \n",
       "13         0.068155  0.000017  0.000094  0.002639  0.000166  0.210102   \n",
       "14         0.062717  0.000055  0.002129  0.069920  0.002574  0.484334   \n",
       "17         0.014930  0.001167  0.000301  0.083806  0.003866  0.711491   \n",
       "23         0.073636  0.001195  0.000432  0.360563  0.000899  0.310954   \n",
       "34         0.043294  0.000031  0.000385  0.030318  0.000133  0.564609   \n",
       "\n",
       "           class_92  class_95  class_99  \n",
       "object_id                                \n",
       "13         0.000174  0.001699  0.136066  \n",
       "14         0.000429  0.010939  0.127899  \n",
       "17         0.000074  0.006432  0.085247  \n",
       "23         0.000109  0.040551  0.135318  \n",
       "34         0.000113  0.001429  0.114336  "
      ]
     },
     "execution_count": 71,
     "metadata": {},
     "output_type": "execute_result"
    }
   ],
   "source": [
    "submission.head()"
   ]
  }
 ],
 "metadata": {
  "kernelspec": {
   "display_name": "Python 3",
   "language": "python",
   "name": "python3"
  },
  "language_info": {
   "codemirror_mode": {
    "name": "ipython",
    "version": 3
   },
   "file_extension": ".py",
   "mimetype": "text/x-python",
   "name": "python",
   "nbconvert_exporter": "python",
   "pygments_lexer": "ipython3",
   "version": "3.6.7"
  }
 },
 "nbformat": 4,
 "nbformat_minor": 2
}
