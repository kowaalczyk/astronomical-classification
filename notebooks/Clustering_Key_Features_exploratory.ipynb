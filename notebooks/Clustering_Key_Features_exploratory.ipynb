{
 "cells": [
  {
   "cell_type": "markdown",
   "metadata": {},
   "source": [
    "# Finding new clusters for better classifying"
   ]
  },
  {
   "cell_type": "markdown",
   "metadata": {},
   "source": [
    "Ticket link: https://github.com/kowaalczyk/astronomical-classification/projects/1#card-15537673a"
   ]
  },
  {
   "cell_type": "code",
   "execution_count": 1,
   "metadata": {},
   "outputs": [],
   "source": [
    "import gc\n",
    "import pandas as pd\n",
    "import numpy as np\n",
    "import dask.dataframe as dd\n",
    "\n",
    "from datetime import datetime as dt\n",
    "from functools import partial, wraps\n",
    "\n",
    "from xgboost import XGBClassifier\n",
    "from lightgbm import LGBMClassifier\n",
    "from numba import jit\n",
    "import matplotlib.pyplot as plt\n",
    "from experiments import start_run, log_args\n",
    "import plasticc.xgb_train as xgb\n",
    "import plasticc.lgbm_train as lgbm\n",
    "from plasticc.training import process_meta\n",
    "from plasticc.featurize import featurize\n",
    "from plasticc.lgbm_train import lgbm_modeling_cross_validation\n",
    "from plasticc.xgb_train import xgb_modeling_cross_validation"
   ]
  },
  {
   "cell_type": "code",
   "execution_count": 2,
   "metadata": {},
   "outputs": [],
   "source": [
    "gc.enable()"
   ]
  },
  {
   "cell_type": "code",
   "execution_count": 3,
   "metadata": {},
   "outputs": [],
   "source": [
    "training_df = dd.read_csv(\"../../../kk385830/astronomical-classification/data/raw/training_set.csv\")\n",
    "training_meta_df = dd.read_csv(\"../../../kk385830/astronomical-classification/data/raw/training_set_metadata.csv\")\n",
    "test_df = dd.read_csv(\"../../../kk385830/astronomical-classification/data/raw/test_set.csv\")\n",
    "test_meta_df = dd.read_csv(\"../../../kk385830/astronomical-classification/data/raw/test_set_metadata.csv\")"
   ]
  },
  {
   "cell_type": "markdown",
   "metadata": {},
   "source": [
    "## Data featurization\n",
    "We will now featurize the training data and using CV we will check how does it perform"
   ]
  },
  {
   "cell_type": "code",
   "execution_count": 4,
   "metadata": {},
   "outputs": [],
   "source": [
    "fcp = {\n",
    "    'flux': {\n",
    "        'longest_strike_above_mean': None,\n",
    "        'longest_strike_below_mean': None,\n",
    "        'mean_change': None,\n",
    "        'mean_abs_change': None,\n",
    "        'length': None,\n",
    "    },\n",
    "\n",
    "    'flux_by_flux_ratio_sq': {\n",
    "        'longest_strike_above_mean': None,\n",
    "        'longest_strike_below_mean': None,       \n",
    "    },\n",
    "\n",
    "    'flux_passband': {\n",
    "        'fft_coefficient': [\n",
    "                {'coeff': 0, 'attr': 'abs'}, \n",
    "                {'coeff': 1, 'attr': 'abs'}\n",
    "            ],\n",
    "        'kurtosis' : None, \n",
    "        'skewness' : None,\n",
    "    },\n",
    "\n",
    "    'mjd': {\n",
    "        'maximum': None, \n",
    "        'minimum': None,\n",
    "        'mean_change': None,\n",
    "        'mean_abs_change': None,\n",
    "    },\n",
    "}"
   ]
  },
  {
   "cell_type": "code",
   "execution_count": 5,
   "metadata": {},
   "outputs": [],
   "source": [
    "aggs = {\n",
    "    'flux': ['min', 'max', 'mean', 'median', 'std', 'skew'],\n",
    "    'flux_err': ['min', 'max', 'mean', 'median', 'std', 'skew'],\n",
    "    'detected': ['mean'],\n",
    "    'flux_ratio_sq':['sum', 'skew'],\n",
    "    'flux_by_flux_ratio_sq':['sum','skew'],\n",
    "}"
   ]
  },
  {
   "cell_type": "code",
   "execution_count": 6,
   "metadata": {},
   "outputs": [
    {
     "name": "stdout",
     "output_type": "stream",
     "text": [
      "CPU times: user 1.45 s, sys: 68 ms, total: 1.52 s\n",
      "Wall time: 1.51 s\n"
     ]
    }
   ],
   "source": [
    "%%time\n",
    "meta_train = process_meta(\"../../../kk385830/astronomical-classification/data/raw/training_set_metadata.csv\")\n",
    "train = pd.read_csv(\"../../../kk385830/astronomical-classification/data/raw/training_set.csv\")"
   ]
  },
  {
   "cell_type": "code",
   "execution_count": 7,
   "metadata": {},
   "outputs": [
    {
     "name": "stderr",
     "output_type": "stream",
     "text": [
      "Feature Extraction: 100%|██████████| 20/20 [00:08<00:00,  3.02it/s]\n",
      "Feature Extraction: 100%|██████████| 20/20 [00:02<00:00,  8.90it/s]\n",
      "Feature Extraction: 100%|██████████| 20/20 [00:01<00:00, 13.14it/s]\n",
      "Feature Extraction: 100%|██████████| 20/20 [00:00<00:00, 24.37it/s]\n"
     ]
    },
    {
     "name": "stdout",
     "output_type": "stream",
     "text": [
      "CPU times: user 23.6 s, sys: 1.74 s, total: 25.4 s\n",
      "Wall time: 30 s\n"
     ]
    }
   ],
   "source": [
    "%%time\n",
    "X = featurize(train, meta_train, aggs, fcp)\n",
    "X_backup = X.copy()"
   ]
  },
  {
   "cell_type": "markdown",
   "metadata": {},
   "source": [
    "## Setting up CV"
   ]
  },
  {
   "cell_type": "code",
   "execution_count": 14,
   "metadata": {},
   "outputs": [],
   "source": [
    "# lgbm_params = {\n",
    "#     'device': 'cpu',\n",
    "#     'objective': 'multiclass',\n",
    "#     'num_class': 14,\n",
    "#     'boosting_type': 'gbdt',\n",
    "#     'n_jobs': 16,\n",
    "#     'max_depth': 7,\n",
    "#     'n_estimators': 1024,\n",
    "#     'subsample_freq': 2,\n",
    "#     'subsample_for_bin': 5000,\n",
    "#     'min_data_per_group': 100,\n",
    "#     'max_cat_to_onehot': 4,\n",
    "#     'cat_l2': 1.0,\n",
    "#     'cat_smooth': 59.5,\n",
    "#     'max_cat_threshold': 32,\n",
    "#     'metric_freq': 10,\n",
    "#     'verbosity': -1,\n",
    "#     'metric': 'multi_logloss',\n",
    "#     'xgboost_dart_mode': False,\n",
    "#     'uniform_drop': False,\n",
    "#     'colsample_bytree': 0.5,\n",
    "#     'drop_rate': 0.173,\n",
    "#     'learning_rate': 0.0267,\n",
    "#     'max_drop': 5,\n",
    "#     'min_child_samples': 10,\n",
    "#     'min_child_weight': 100.0,\n",
    "#     'min_split_gain': 0.1,\n",
    "#     'num_leaves': 7,\n",
    "#     'reg_alpha': 0.1,\n",
    "#     'reg_lambda': 0.00023,\n",
    "#     'skip_drop': 0.44,\n",
    "#     'subsample': 0.75\n",
    "# }\n",
    "lgbm_params = {\n",
    "    'device': 'cpu',\n",
    "    'objective': 'multiclass',\n",
    "    'num_class': 14,\n",
    "    'boosting_type': 'gbdt',\n",
    "    'n_jobs': 16,\n",
    "    'max_depth': 7,\n",
    "    'n_estimators': 1024,\n",
    "    'subsample_freq': 2,\n",
    "    'subsample_for_bin': 5000,\n",
    "    'min_data_per_group': 100,\n",
    "    'max_cat_to_onehot': 4,\n",
    "    'cat_l2': 1.0,\n",
    "    'cat_smooth': 59.5,\n",
    "    'max_cat_threshold': 32,\n",
    "    'metric_freq': 10,\n",
    "    'verbosity': -1,\n",
    "    'metric': 'multi_logloss',\n",
    "    'xgboost_dart_mode': False,\n",
    "    'uniform_drop': False,\n",
    "    'colsample_bytree': 0.5,\n",
    "    'drop_rate': 0.173,\n",
    "    'learning_rate': 0.0267,\n",
    "    'max_drop': 5,\n",
    "    'min_child_samples': 10,\n",
    "    'min_child_weight': 100.0,\n",
    "    'min_split_gain': 0.1,\n",
    "    'num_leaves': 7,\n",
    "    'reg_alpha': 0.1,\n",
    "    'reg_lambda': 0.00023,\n",
    "    'skip_drop': 0.44,\n",
    "    'subsample': 0.75,\n",
    "    'max_bin': 127\n",
    "}"
   ]
  },
  {
   "cell_type": "code",
   "execution_count": 9,
   "metadata": {},
   "outputs": [],
   "source": [
    "if 'target' in X:\n",
    "    y = X['target']\n",
    "    del X['target']\n",
    "else:\n",
    "    print(\"What the heck\")"
   ]
  },
  {
   "cell_type": "code",
   "execution_count": 10,
   "metadata": {},
   "outputs": [
    {
     "name": "stdout",
     "output_type": "stream",
     "text": [
      "Unique classes : 14, [6, 15, 16, 42, 52, 53, 62, 64, 65, 67, 88, 90, 92, 95]\n",
      "{6: 1, 15: 2, 16: 1, 42: 1, 52: 1, 53: 1, 62: 1, 64: 2, 65: 1, 67: 1, 88: 1, 90: 1, 92: 1, 95: 1}\n"
     ]
    }
   ],
   "source": [
    "# Taken from Giba's topic : https://www.kaggle.com/titericz\n",
    "# https://www.kaggle.com/c/PLAsTiCC-2018/discussion/67194\n",
    "# with Kyle Boone's post https://www.kaggle.com/kyleboone\n",
    "classes = sorted(y.unique())\n",
    "class_weights = {c: 1 for c in classes}\n",
    "class_weights.update({c:2 for c in [64, 15]})\n",
    "print('Unique classes : {}, {}'.format(len(classes), classes))\n",
    "print(class_weights)"
   ]
  },
  {
   "cell_type": "code",
   "execution_count": 11,
   "metadata": {},
   "outputs": [],
   "source": [
    "def test_partition(mask, lgbm_conf1, lgbm_conf2):\n",
    "    \"\"\" mask is a lambda operating on training set, returning boolean values to split the set\"\"\"\n",
    "    result_mine = []\n",
    "    X_after1 = X_backup[mask]\n",
    "    X_after2 = X_backup[~mask]\n",
    "    y1 = 0\n",
    "    y2 = 0\n",
    "    for t in [[X_after1, y1, lgbm_conf1], [X_after2, y2, lgbm_conf2]]:\n",
    "        if 'object_id' in t[0]:\n",
    "            t[1] = pd.Series(t[0]['target'])\n",
    "            del t[0]['target']\n",
    "            del t[0]['object_id'] \n",
    "            del t[0]['hostgal_specz']\n",
    "            del t[0]['ra'], t[0]['decl'], t[0]['gal_l'], t[0]['gal_b']\n",
    "            del t[0]['ddf']\n",
    "        else:\n",
    "            print(f\"What the heck: {t}\")\n",
    "        eval_func = partial(\n",
    "            lgbm_modeling_cross_validation, \n",
    "            X=t[0], \n",
    "            y=t[1], \n",
    "            classes=classes, \n",
    "            class_weights=class_weights, \n",
    "            nr_fold=5, \n",
    "            random_state=1\n",
    "        )\n",
    "        clfs, score = eval_func(t[2])\n",
    "        result_mine.append(score)\n",
    "    print(result_mine)"
   ]
  },
  {
   "cell_type": "markdown",
   "metadata": {},
   "source": [
    "### Baseline\n",
    "Before starting, let's take a look at how lgbm perform on full training set"
   ]
  },
  {
   "cell_type": "code",
   "execution_count": 75,
   "metadata": {},
   "outputs": [
    {
     "name": "stdout",
     "output_type": "stream",
     "text": [
      "Training until validation scores don't improve for 50 rounds.\n",
      "[100]\ttraining's multi_logloss: 0.750935\ttraining's wloss: 0.741731\tvalid_1's multi_logloss: 1.10099\tvalid_1's wloss: 0.922687\n",
      "[200]\ttraining's multi_logloss: 0.494877\ttraining's wloss: 0.484055\tvalid_1's multi_logloss: 0.877025\tvalid_1's wloss: 0.718502\n",
      "[300]\ttraining's multi_logloss: 0.392809\ttraining's wloss: 0.380971\tvalid_1's multi_logloss: 0.799104\tvalid_1's wloss: 0.662541\n",
      "[400]\ttraining's multi_logloss: 0.333664\ttraining's wloss: 0.321899\tvalid_1's multi_logloss: 0.757612\tvalid_1's wloss: 0.644261\n",
      "[500]\ttraining's multi_logloss: 0.291283\ttraining's wloss: 0.27965\tvalid_1's multi_logloss: 0.730563\tvalid_1's wloss: 0.638828\n",
      "[600]\ttraining's multi_logloss: 0.257753\ttraining's wloss: 0.246717\tvalid_1's multi_logloss: 0.709965\tvalid_1's wloss: 0.63717\n",
      "Early stopping, best iteration is:\n",
      "[612]\ttraining's multi_logloss: 0.254154\ttraining's wloss: 0.243198\tvalid_1's multi_logloss: 0.707486\tvalid_1's wloss: 0.636651\n",
      "no 1-fold loss: 0.6366513907055978\n",
      "Training until validation scores don't improve for 50 rounds.\n",
      "[100]\ttraining's multi_logloss: 0.749712\ttraining's wloss: 0.743077\tvalid_1's multi_logloss: 1.097\tvalid_1's wloss: 0.945282\n",
      "[200]\ttraining's multi_logloss: 0.493609\ttraining's wloss: 0.484461\tvalid_1's multi_logloss: 0.875894\tvalid_1's wloss: 0.755215\n",
      "[300]\ttraining's multi_logloss: 0.392421\ttraining's wloss: 0.381911\tvalid_1's multi_logloss: 0.799358\tvalid_1's wloss: 0.720512\n",
      "[400]\ttraining's multi_logloss: 0.333198\ttraining's wloss: 0.322474\tvalid_1's multi_logloss: 0.763651\tvalid_1's wloss: 0.71766\n",
      "[500]\ttraining's multi_logloss: 0.290337\ttraining's wloss: 0.279817\tvalid_1's multi_logloss: 0.736759\tvalid_1's wloss: 0.712699\n",
      "Early stopping, best iteration is:\n",
      "[507]\ttraining's multi_logloss: 0.287726\ttraining's wloss: 0.277213\tvalid_1's multi_logloss: 0.735488\tvalid_1's wloss: 0.712368\n",
      "no 2-fold loss: 0.7123679183158778\n",
      "Training until validation scores don't improve for 50 rounds.\n",
      "[100]\ttraining's multi_logloss: 0.750597\ttraining's wloss: 0.743284\tvalid_1's multi_logloss: 1.10641\tvalid_1's wloss: 0.909075\n",
      "[200]\ttraining's multi_logloss: 0.49481\ttraining's wloss: 0.485454\tvalid_1's multi_logloss: 0.882415\tvalid_1's wloss: 0.697353\n",
      "[300]\ttraining's multi_logloss: 0.39315\ttraining's wloss: 0.382806\tvalid_1's multi_logloss: 0.801185\tvalid_1's wloss: 0.640171\n",
      "[400]\ttraining's multi_logloss: 0.333923\ttraining's wloss: 0.323532\tvalid_1's multi_logloss: 0.761357\tvalid_1's wloss: 0.625241\n",
      "[500]\ttraining's multi_logloss: 0.291165\ttraining's wloss: 0.281066\tvalid_1's multi_logloss: 0.73362\tvalid_1's wloss: 0.620213\n",
      "[600]\ttraining's multi_logloss: 0.257612\ttraining's wloss: 0.24776\tvalid_1's multi_logloss: 0.711445\tvalid_1's wloss: 0.615694\n",
      "Early stopping, best iteration is:\n",
      "[599]\ttraining's multi_logloss: 0.257943\ttraining's wloss: 0.248101\tvalid_1's multi_logloss: 0.7115\tvalid_1's wloss: 0.615678\n",
      "no 3-fold loss: 0.615678152754844\n",
      "Training until validation scores don't improve for 50 rounds.\n",
      "[100]\ttraining's multi_logloss: 0.756916\ttraining's wloss: 0.747941\tvalid_1's multi_logloss: 1.09327\tvalid_1's wloss: 0.892128\n",
      "[200]\ttraining's multi_logloss: 0.498827\ttraining's wloss: 0.488402\tvalid_1's multi_logloss: 0.860965\tvalid_1's wloss: 0.684771\n",
      "[300]\ttraining's multi_logloss: 0.395883\ttraining's wloss: 0.384517\tvalid_1's multi_logloss: 0.778722\tvalid_1's wloss: 0.631311\n",
      "[400]\ttraining's multi_logloss: 0.335606\ttraining's wloss: 0.324499\tvalid_1's multi_logloss: 0.736583\tvalid_1's wloss: 0.616104\n",
      "[500]\ttraining's multi_logloss: 0.292723\ttraining's wloss: 0.28185\tvalid_1's multi_logloss: 0.707264\tvalid_1's wloss: 0.610137\n",
      "Early stopping, best iteration is:\n",
      "[530]\ttraining's multi_logloss: 0.281883\ttraining's wloss: 0.271126\tvalid_1's multi_logloss: 0.701063\tvalid_1's wloss: 0.609004\n",
      "no 4-fold loss: 0.6090043905393562\n",
      "Training until validation scores don't improve for 50 rounds.\n",
      "[100]\ttraining's multi_logloss: 0.749948\ttraining's wloss: 0.740997\tvalid_1's multi_logloss: 1.10046\tvalid_1's wloss: 0.929048\n",
      "[200]\ttraining's multi_logloss: 0.493023\ttraining's wloss: 0.482772\tvalid_1's multi_logloss: 0.870331\tvalid_1's wloss: 0.727413\n",
      "[300]\ttraining's multi_logloss: 0.392484\ttraining's wloss: 0.381811\tvalid_1's multi_logloss: 0.78887\tvalid_1's wloss: 0.676627\n",
      "[400]\ttraining's multi_logloss: 0.335179\ttraining's wloss: 0.324172\tvalid_1's multi_logloss: 0.745861\tvalid_1's wloss: 0.65969\n",
      "[500]\ttraining's multi_logloss: 0.292829\ttraining's wloss: 0.282041\tvalid_1's multi_logloss: 0.715023\tvalid_1's wloss: 0.650341\n",
      "Early stopping, best iteration is:\n",
      "[546]\ttraining's multi_logloss: 0.27681\ttraining's wloss: 0.26622\tvalid_1's multi_logloss: 0.702126\tvalid_1's wloss: 0.647375\n",
      "no 5-fold loss: 0.647374840296705\n",
      "MULTI WEIGHTED LOG LOSS: 0.64428\n",
      "0.6442824787482899\n"
     ]
    }
   ],
   "source": [
    "lgbm_params = {\n",
    "    'device': 'cpu',\n",
    "    'objective': 'multiclass',\n",
    "    'num_class': 14,\n",
    "    'boosting_type': 'gbdt',\n",
    "    'n_jobs': -1,\n",
    "    'max_depth': 6,\n",
    "    'n_estimators': 1024,\n",
    "    'subsample_freq': 2,\n",
    "    'subsample_for_bin': 5000,\n",
    "    'min_data_per_group': 100,\n",
    "    'max_cat_to_onehot': 4,\n",
    "    'cat_l2': 1.0,\n",
    "    'cat_smooth': 59.5,\n",
    "    'max_cat_threshold': 32,\n",
    "    'metric_freq': 10,\n",
    "    'verbosity': -1,\n",
    "    'metric': 'multi_logloss',\n",
    "    'xgboost_dart_mode': False,\n",
    "    'uniform_drop': False,\n",
    "    'colsample_bytree': 0.5,\n",
    "    'drop_rate': 0.173,\n",
    "    'learning_rate': 0.0267,\n",
    "    'max_drop': 5,\n",
    "    'min_child_samples': 10,\n",
    "    'min_child_weight': 100.0,\n",
    "    'min_split_gain': 0.125,\n",
    "    'num_leaves': 7,\n",
    "    'reg_alpha': 0.1,\n",
    "    'reg_lambda': 0.00023,\n",
    "    'skip_drop': 0.44,\n",
    "    'subsample': 0.75,\n",
    "    'max_bin': 127,\n",
    "    'min_data_in_leaf': 15,\n",
    "    'lambda_l1': 2,\n",
    "}\n",
    "baseline_X = X_backup.copy()\n",
    "if 'object_id' in baseline_X:\n",
    "    baseline_Y = pd.Series(baseline_X['target'])\n",
    "    del baseline_X['target']\n",
    "    del baseline_X['object_id'] \n",
    "    del baseline_X['hostgal_specz']\n",
    "    del baseline_X['ra'], baseline_X['decl'], baseline_X['gal_l'], baseline_X['gal_b']\n",
    "    del baseline_X['ddf']\n",
    "else:\n",
    "    print(\"What the heck\")\n",
    "eval_func = partial(\n",
    "    lgbm_modeling_cross_validation, \n",
    "    X=baseline_X, \n",
    "    y=baseline_Y, \n",
    "    classes=classes, \n",
    "    class_weights=class_weights, \n",
    "    nr_fold=5, \n",
    "    random_state=1\n",
    ")\n",
    "clfs, score = eval_func(lgbm_params)\n",
    "print(score)"
   ]
  },
  {
   "cell_type": "markdown",
   "metadata": {},
   "source": [
    "Score: 0.6501199352977585  \n",
    "0.6463362734878486 'max_bin': 95,  \n",
    "0.6461180983317429 'max_bin': 127,  \n",
    "0.6450608843517845 'max_bin': 127, 'min_data_in_leaf': 15  \n",
    "0.6445799942947439 'max_bin': 127, 'min_data_in_leaf': 15, 'lambda_l1': 2,  \n",
    "0.6442824787482899 'max_bin': 127, 'min_data_in_leaf': 15, 'lambda_l1': 2, 'min_split_gain': 0.125,\n"
   ]
  },
  {
   "cell_type": "markdown",
   "metadata": {},
   "source": [
    "### First Idea:\n",
    "Let's split data by first feature from metadata - ra(right ascension, sky coordinate: co-longitude in degrees).  \n",
    "We split somewhere between 250 and 300 -  it looks quite promising as both of the sets have similar distribution"
   ]
  },
  {
   "cell_type": "code",
   "execution_count": 12,
   "metadata": {},
   "outputs": [
    {
     "data": {
      "text/plain": [
       "(array([101., 111.,  53.,  15.,  20.,  15.,  13.,  12.,  13.,  14.,  19.,\n",
       "         18.,  12.,  17.,  17.,  17.,  12.,  18.,  16.,  13.,   9.,  14.,\n",
       "         17.,  11.,  10.,  15.,  17.,  20.,  15.,  23.,  18.,  16.,  57.,\n",
       "        149., 106.,  45.,  12.,  23.,  16.,  18.,  17.,  14.,  13.,  17.,\n",
       "         18.,   8.,  19.,  13.,  12.,  16.,  18., 119., 153., 201.,  33.,\n",
       "         21.,  22.,  23.,  18.,  23.,  27.,  11.,  24.,  16.,  19.,  15.,\n",
       "         25.,  24.,  19.,  22.,  16.,  23.,  14.,  23.,  24.,  25.,  17.,\n",
       "         19.,  25.,  17.,  18.,  16.,  20.,  16.,  16.,  25.,  20.,  26.,\n",
       "         20.,  14.,  18.,  18.,  12.,  16.,  13.,  13.,  16.,  26.,  17.,\n",
       "         15.,  12.,  13.,  22.,  19.,  16.,  18.,  18.,  17.,  18.,  22.,\n",
       "         24.,  17.,  22.,  13.,  25.,  16.,  17.,  14.,  22.,  27.,  25.,\n",
       "         20.,  19.,  16.,  29.,  15.,  26.,  21.,  11.,  26.,  17.,   7.,\n",
       "         29.,  18.,  16.,  17.,  26.,  16.,  15.,  11.,  20.,  20.,  19.,\n",
       "         20.,  19.,  28.,  18.,  14.,  57.,  85., 230., 127.,  51.,  16.,\n",
       "         24.,  19.,  27.,  18.,  19.,  14.,  21.,  16.,  18.,  20.,  20.,\n",
       "         22.,  21.,  14.,  20.,  17.,  18.,  21.,  15.,  18.,  18.,  22.,\n",
       "         24.,  17.,  25.,  11.,  30.,  25.,  14.,  18.,  17.,  16.,  14.,\n",
       "         19.,  14.,  19.,  23.,  19.,  12.,  16.,  13.,  21.,  13.,  16.,\n",
       "         10.,   6.,  15.,  14.,  12.,  20.,  21.,  17.,  22.,  20.,  10.,\n",
       "         15.,  11.,  12.,  15.,  17.,  16.,   8.,  18.,  16.,  12.,  21.,\n",
       "         13.,   8.,  11.,  15.,   5.,  18.,  17.,  14.,  16.,  14.,  11.,\n",
       "         12.,  14.,  11.,  16.,  10.,  16.,   7.,  12.,   9.,  16.,   7.,\n",
       "          9.,   7.,   5.,  10.,   6.,   6.,  13.,   9.,   5.,   6.,   7.,\n",
       "          7.,   9.,  14.,   7.,   6.,   7.,   1.,   6.,   7.,   6.,   7.,\n",
       "         11.,   8.,   6.,  11.,   3.,  13.,   6.,   4.,   4.,   8.,   7.,\n",
       "         11.,   7.,   6.,   5.,  14.,   8.,  16.,   9.,   9.,  13.,  16.,\n",
       "         18.,  11.,  13.,  14.,  13.,  22.,  23.,  13.,  12.,  19.,  19.,\n",
       "          9.,  13.,  18.,  17.,  16.,  11.,  18.,  22.,  13.,  19.,  20.,\n",
       "         15.,  17.,  12.,  22.,  25.,  20.,  18.,  20.,  17.,  18.,  19.,\n",
       "         13.,  19.,  11.,  21.,  20.,  16.,  14.,  17.,  11.,  15.,  23.,\n",
       "         26.,  18.,  21.,  12.,  10.,  25.,  22.,  15.,  20.,  18.,  15.,\n",
       "         14.,  12.,  16.,  10.,  16., 100., 103., 102., 136.,  28., 127.,\n",
       "         57.,  17.,  15.,  17.,  19.,  21.,  75., 101.,   0.,   0.,   0.,\n",
       "          0.,   0.,   0.,   0.,   0.,   0.]),\n",
       " array([  0,   1,   2,   3,   4,   5,   6,   7,   8,   9,  10,  11,  12,\n",
       "         13,  14,  15,  16,  17,  18,  19,  20,  21,  22,  23,  24,  25,\n",
       "         26,  27,  28,  29,  30,  31,  32,  33,  34,  35,  36,  37,  38,\n",
       "         39,  40,  41,  42,  43,  44,  45,  46,  47,  48,  49,  50,  51,\n",
       "         52,  53,  54,  55,  56,  57,  58,  59,  60,  61,  62,  63,  64,\n",
       "         65,  66,  67,  68,  69,  70,  71,  72,  73,  74,  75,  76,  77,\n",
       "         78,  79,  80,  81,  82,  83,  84,  85,  86,  87,  88,  89,  90,\n",
       "         91,  92,  93,  94,  95,  96,  97,  98,  99, 100, 101, 102, 103,\n",
       "        104, 105, 106, 107, 108, 109, 110, 111, 112, 113, 114, 115, 116,\n",
       "        117, 118, 119, 120, 121, 122, 123, 124, 125, 126, 127, 128, 129,\n",
       "        130, 131, 132, 133, 134, 135, 136, 137, 138, 139, 140, 141, 142,\n",
       "        143, 144, 145, 146, 147, 148, 149, 150, 151, 152, 153, 154, 155,\n",
       "        156, 157, 158, 159, 160, 161, 162, 163, 164, 165, 166, 167, 168,\n",
       "        169, 170, 171, 172, 173, 174, 175, 176, 177, 178, 179, 180, 181,\n",
       "        182, 183, 184, 185, 186, 187, 188, 189, 190, 191, 192, 193, 194,\n",
       "        195, 196, 197, 198, 199, 200, 201, 202, 203, 204, 205, 206, 207,\n",
       "        208, 209, 210, 211, 212, 213, 214, 215, 216, 217, 218, 219, 220,\n",
       "        221, 222, 223, 224, 225, 226, 227, 228, 229, 230, 231, 232, 233,\n",
       "        234, 235, 236, 237, 238, 239, 240, 241, 242, 243, 244, 245, 246,\n",
       "        247, 248, 249, 250, 251, 252, 253, 254, 255, 256, 257, 258, 259,\n",
       "        260, 261, 262, 263, 264, 265, 266, 267, 268, 269, 270, 271, 272,\n",
       "        273, 274, 275, 276, 277, 278, 279, 280, 281, 282, 283, 284, 285,\n",
       "        286, 287, 288, 289, 290, 291, 292, 293, 294, 295, 296, 297, 298,\n",
       "        299, 300, 301, 302, 303, 304, 305, 306, 307, 308, 309, 310, 311,\n",
       "        312, 313, 314, 315, 316, 317, 318, 319, 320, 321, 322, 323, 324,\n",
       "        325, 326, 327, 328, 329, 330, 331, 332, 333, 334, 335, 336, 337,\n",
       "        338, 339, 340, 341, 342, 343, 344, 345, 346, 347, 348, 349, 350,\n",
       "        351, 352, 353, 354, 355, 356, 357, 358, 359, 360, 361, 362, 363,\n",
       "        364, 365, 366, 367, 368, 369]),\n",
       " <a list of 369 Patch objects>)"
      ]
     },
     "execution_count": 12,
     "metadata": {},
     "output_type": "execute_result"
    },
    {
     "data": {
      "image/png": "[encoded data removed]",
      "text/plain": [
       "<Figure size 432x288 with 1 Axes>"
      ]
     },
     "metadata": {
      "needs_background": "light"
     },
     "output_type": "display_data"
    }
   ],
   "source": [
    "plt.hist(training_meta_df.ra.compute(),  bins=range(0, 370))"
   ]
  },
  {
   "cell_type": "code",
   "execution_count": 13,
   "metadata": {},
   "outputs": [
    {
     "data": {
      "text/plain": [
       "(array([13080., 14045., 11932., 11295., 11423., 11824.,  9964., 11667.,\n",
       "        12070., 10603., 12278., 11207., 10147., 11832., 12336., 11238.,\n",
       "        10646., 12078., 13442., 10757., 13275., 11496., 10139., 11408.,\n",
       "        13195., 11258., 12056., 11914., 11524., 11958., 11984., 11141.,\n",
       "        11332., 14023., 12562., 10468., 11598., 13013., 11237., 12478.,\n",
       "        13216., 11361., 11942., 11951., 10818., 13098., 11842., 13116.,\n",
       "        11507., 11027., 11931., 11444., 12816., 17367., 12083., 13271.,\n",
       "        12021., 10056., 13484., 12711., 11810.,  9951., 12295., 12741.,\n",
       "        11325., 12207., 12924., 12280., 13438., 13548., 11252., 12420.,\n",
       "        12421., 13269., 13443., 12856., 13043., 10810., 12453., 12745.,\n",
       "        11057., 12250., 11941.,  9330., 12612., 11175.,  9786., 11448.,\n",
       "         9978.,  8089.,  9536., 10869.,  9765.,  9619., 10743.,  9862.,\n",
       "         8438., 11023., 10867.,  9248.,  8444.,  9496.,  8467.,  8452.,\n",
       "         8287.,  9502.,  8830., 10067., 10161.,  8554., 10311.,  9704.,\n",
       "         6946.,  8348.,  8213.,  7363.,  8311., 10536.,  9019.,  9068.,\n",
       "        11537.,  9272.,  8641.,  9391.,  8811.,  7836.,  9259., 11288.,\n",
       "         8726., 10339., 10010.,  7847., 10128.,  9248.,  7375.,  8584.,\n",
       "         9681., 10036.,  8654., 10157., 10501.,  8077.,  9685., 10560.,\n",
       "         8735., 11361., 10566.,  8517., 10381.,  9899., 11804.,  9357.,\n",
       "         9952.,  9697.,  9772.,  9588., 11252.,  8225.,  9205.,  9600.,\n",
       "         9018.,  8461.,  8949.,  8300.,  9692.,  9352., 10472.,  9382.,\n",
       "        10760., 10913.,  9796., 10378., 11048., 10027., 10092.,  9989.,\n",
       "         9114., 10643., 10864.,  7825., 10933., 10312.,  9579.,  8286.,\n",
       "         8907., 10424.,  9185., 10807., 10347.,  8700., 11140.,  9827.,\n",
       "         8807., 10090., 10195., 11265.,  7781.,  9746.,  9933.,  9140.,\n",
       "         9431., 10726.,  7857.,  9546., 10400.,  8568.,  9439., 11004.,\n",
       "         8907.,  8977.,  7745.,  9796.,  9813.,  9367.,  9105.,  6672.,\n",
       "         9696.,  8981.,  8139., 10000.,  9180.,  7523.,  8687.,  8749.,\n",
       "         7738.,  8626.,  9071.,  9549.,  6913.,  8923.,  6964.,  5723.,\n",
       "         8496.,  8108.,  6498.,  8438.,  7933.,  6741.,  6402.,  6839.,\n",
       "         6836.,  5561.,  6470.,  5096.,  4382.,  5855.,  4010.,  3636.,\n",
       "         4239.,  4795.,  3660.,  3590.,  4846.,  4060.,  5287.,  5311.,\n",
       "         3731.,  2969.,  4153.,  3560.,  3970.,  4682.,  4039.,  3369.,\n",
       "         4592.,  3777.,  3241.,  3494.,  3060.,  3258.,  4360.,  3481.,\n",
       "         4207.,  3171.,  4097.,  4261.,  4201.,  4889.,  4148.,  4331.,\n",
       "         5200.,  6030.,  6037.,  7640.,  7424.,  8622.,  7802.,  9632.,\n",
       "        10006.,  8590., 10703., 10688.,  9605., 10855.,  9496., 10563.,\n",
       "        10890.,  9795.,  9528., 10510., 11852., 10416.,  8841., 10618.,\n",
       "        11227.,  9322., 10516., 10908., 11067., 12398.,  9804., 11732.,\n",
       "        14090., 11610., 10179., 12943., 11141., 12743., 10636., 11538.,\n",
       "        10289.,  8898., 10141., 11421., 10326., 11692., 12024.,  9062.,\n",
       "        10090., 11876., 12800., 11035., 10703., 12173.,  9280., 11313.,\n",
       "        12350.,  9908., 11406., 11376., 11102., 12121., 10767.,  9590.,\n",
       "        10234., 10806., 12299., 11149., 12749., 12166.,  9942., 13803.,\n",
       "        11532., 10683., 11831., 12131., 11550., 13069., 13391., 12706.,\n",
       "            0.,     0.,     0.,     0.,     0.,     0.,     0.,     0.,\n",
       "            0.]),\n",
       " array([  0,   1,   2,   3,   4,   5,   6,   7,   8,   9,  10,  11,  12,\n",
       "         13,  14,  15,  16,  17,  18,  19,  20,  21,  22,  23,  24,  25,\n",
       "         26,  27,  28,  29,  30,  31,  32,  33,  34,  35,  36,  37,  38,\n",
       "         39,  40,  41,  42,  43,  44,  45,  46,  47,  48,  49,  50,  51,\n",
       "         52,  53,  54,  55,  56,  57,  58,  59,  60,  61,  62,  63,  64,\n",
       "         65,  66,  67,  68,  69,  70,  71,  72,  73,  74,  75,  76,  77,\n",
       "         78,  79,  80,  81,  82,  83,  84,  85,  86,  87,  88,  89,  90,\n",
       "         91,  92,  93,  94,  95,  96,  97,  98,  99, 100, 101, 102, 103,\n",
       "        104, 105, 106, 107, 108, 109, 110, 111, 112, 113, 114, 115, 116,\n",
       "        117, 118, 119, 120, 121, 122, 123, 124, 125, 126, 127, 128, 129,\n",
       "        130, 131, 132, 133, 134, 135, 136, 137, 138, 139, 140, 141, 142,\n",
       "        143, 144, 145, 146, 147, 148, 149, 150, 151, 152, 153, 154, 155,\n",
       "        156, 157, 158, 159, 160, 161, 162, 163, 164, 165, 166, 167, 168,\n",
       "        169, 170, 171, 172, 173, 174, 175, 176, 177, 178, 179, 180, 181,\n",
       "        182, 183, 184, 185, 186, 187, 188, 189, 190, 191, 192, 193, 194,\n",
       "        195, 196, 197, 198, 199, 200, 201, 202, 203, 204, 205, 206, 207,\n",
       "        208, 209, 210, 211, 212, 213, 214, 215, 216, 217, 218, 219, 220,\n",
       "        221, 222, 223, 224, 225, 226, 227, 228, 229, 230, 231, 232, 233,\n",
       "        234, 235, 236, 237, 238, 239, 240, 241, 242, 243, 244, 245, 246,\n",
       "        247, 248, 249, 250, 251, 252, 253, 254, 255, 256, 257, 258, 259,\n",
       "        260, 261, 262, 263, 264, 265, 266, 267, 268, 269, 270, 271, 272,\n",
       "        273, 274, 275, 276, 277, 278, 279, 280, 281, 282, 283, 284, 285,\n",
       "        286, 287, 288, 289, 290, 291, 292, 293, 294, 295, 296, 297, 298,\n",
       "        299, 300, 301, 302, 303, 304, 305, 306, 307, 308, 309, 310, 311,\n",
       "        312, 313, 314, 315, 316, 317, 318, 319, 320, 321, 322, 323, 324,\n",
       "        325, 326, 327, 328, 329, 330, 331, 332, 333, 334, 335, 336, 337,\n",
       "        338, 339, 340, 341, 342, 343, 344, 345, 346, 347, 348, 349, 350,\n",
       "        351, 352, 353, 354, 355, 356, 357, 358, 359, 360, 361, 362, 363,\n",
       "        364, 365, 366, 367, 368, 369]),\n",
       " <a list of 369 Patch objects>)"
      ]
     },
     "execution_count": 13,
     "metadata": {},
     "output_type": "execute_result"
    },
    {
     "data": {
      "image/png": "[encoded data removed]",
      "text/plain": [
       "<Figure size 432x288 with 1 Axes>"
      ]
     },
     "metadata": {
      "needs_background": "light"
     },
     "output_type": "display_data"
    }
   ],
   "source": [
    "plt.hist(test_meta_df.ra.compute(), bins=range(0, 370))"
   ]
  },
  {
   "cell_type": "markdown",
   "metadata": {},
   "source": [
    "With scores around 0.7031538683880986, 0.8434040355315483 for the first and second subset, I find it pointless to continue exploration"
   ]
  },
  {
   "cell_type": "code",
   "execution_count": 12,
   "metadata": {},
   "outputs": [
    {
     "name": "stdout",
     "output_type": "stream",
     "text": [
      "Training until validation scores don't improve for 50 rounds.\n",
      "[100]\ttraining's multi_logloss: 0.730788\ttraining's wloss: 0.72294\tvalid_1's multi_logloss: 1.08259\tvalid_1's wloss: 0.955054\n",
      "[200]\ttraining's multi_logloss: 0.466244\ttraining's wloss: 0.457483\tvalid_1's multi_logloss: 0.854245\tvalid_1's wloss: 0.751777\n",
      "[300]\ttraining's multi_logloss: 0.362049\ttraining's wloss: 0.352558\tvalid_1's multi_logloss: 0.775381\tvalid_1's wloss: 0.699794\n",
      "[400]\ttraining's multi_logloss: 0.301631\ttraining's wloss: 0.29218\tvalid_1's multi_logloss: 0.734183\tvalid_1's wloss: 0.687222\n",
      "[500]\ttraining's multi_logloss: 0.258039\ttraining's wloss: 0.248995\tvalid_1's multi_logloss: 0.708062\tvalid_1's wloss: 0.682924\n",
      "Early stopping, best iteration is:\n",
      "[494]\ttraining's multi_logloss: 0.260378\ttraining's wloss: 0.251343\tvalid_1's multi_logloss: 0.708906\tvalid_1's wloss: 0.682258\n",
      "no 1-fold loss: 0.6822575664421102\n",
      "Training until validation scores don't improve for 50 rounds.\n",
      "[100]\ttraining's multi_logloss: 0.726765\ttraining's wloss: 0.718067\tvalid_1's multi_logloss: 1.07863\tvalid_1's wloss: 0.982165\n",
      "[200]\ttraining's multi_logloss: 0.464638\ttraining's wloss: 0.454234\tvalid_1's multi_logloss: 0.864627\tvalid_1's wloss: 0.809448\n",
      "[300]\ttraining's multi_logloss: 0.361085\ttraining's wloss: 0.350488\tvalid_1's multi_logloss: 0.79122\tvalid_1's wloss: 0.77828\n",
      "[400]\ttraining's multi_logloss: 0.300966\ttraining's wloss: 0.290449\tvalid_1's multi_logloss: 0.754407\tvalid_1's wloss: 0.76339\n",
      "[500]\ttraining's multi_logloss: 0.2579\ttraining's wloss: 0.247954\tvalid_1's multi_logloss: 0.730024\tvalid_1's wloss: 0.756017\n",
      "[600]\ttraining's multi_logloss: 0.224611\ttraining's wloss: 0.215304\tvalid_1's multi_logloss: 0.710786\tvalid_1's wloss: 0.754333\n",
      "Early stopping, best iteration is:\n",
      "[573]\ttraining's multi_logloss: 0.232883\ttraining's wloss: 0.223438\tvalid_1's multi_logloss: 0.715172\tvalid_1's wloss: 0.753738\n",
      "no 2-fold loss: 0.7537381703878869\n",
      "Training until validation scores don't improve for 50 rounds.\n",
      "[100]\ttraining's multi_logloss: 0.727809\ttraining's wloss: 0.721041\tvalid_1's multi_logloss: 1.07256\tvalid_1's wloss: 0.944969\n",
      "[200]\ttraining's multi_logloss: 0.464853\ttraining's wloss: 0.456387\tvalid_1's multi_logloss: 0.844073\tvalid_1's wloss: 0.745178\n",
      "[300]\ttraining's multi_logloss: 0.361179\ttraining's wloss: 0.351763\tvalid_1's multi_logloss: 0.762081\tvalid_1's wloss: 0.69645\n",
      "[400]\ttraining's multi_logloss: 0.301642\ttraining's wloss: 0.29228\tvalid_1's multi_logloss: 0.726973\tvalid_1's wloss: 0.691819\n",
      "Early stopping, best iteration is:\n",
      "[403]\ttraining's multi_logloss: 0.300163\ttraining's wloss: 0.290804\tvalid_1's multi_logloss: 0.725994\tvalid_1's wloss: 0.691556\n",
      "no 3-fold loss: 0.691556321837357\n",
      "Training until validation scores don't improve for 50 rounds.\n",
      "[100]\ttraining's multi_logloss: 0.72389\ttraining's wloss: 0.716391\tvalid_1's multi_logloss: 1.08808\tvalid_1's wloss: 0.914957\n",
      "[200]\ttraining's multi_logloss: 0.459455\ttraining's wloss: 0.450334\tvalid_1's multi_logloss: 0.858978\tvalid_1's wloss: 0.717219\n",
      "[300]\ttraining's multi_logloss: 0.356751\ttraining's wloss: 0.346744\tvalid_1's multi_logloss: 0.779291\tvalid_1's wloss: 0.668794\n",
      "[400]\ttraining's multi_logloss: 0.296756\ttraining's wloss: 0.28656\tvalid_1's multi_logloss: 0.738319\tvalid_1's wloss: 0.657748\n",
      "Early stopping, best iteration is:\n",
      "[430]\ttraining's multi_logloss: 0.282987\ttraining's wloss: 0.272882\tvalid_1's multi_logloss: 0.728924\tvalid_1's wloss: 0.656094\n",
      "no 4-fold loss: 0.656094054695094\n",
      "Training until validation scores don't improve for 50 rounds.\n",
      "[100]\ttraining's multi_logloss: 0.723519\ttraining's wloss: 0.719732\tvalid_1's multi_logloss: 1.10334\tvalid_1's wloss: 0.932812\n",
      "[200]\ttraining's multi_logloss: 0.460703\ttraining's wloss: 0.454272\tvalid_1's multi_logloss: 0.884098\tvalid_1's wloss: 0.738023\n",
      "[300]\ttraining's multi_logloss: 0.356629\ttraining's wloss: 0.349309\tvalid_1's multi_logloss: 0.806753\tvalid_1's wloss: 0.689656\n",
      "[400]\ttraining's multi_logloss: 0.297427\ttraining's wloss: 0.289702\tvalid_1's multi_logloss: 0.771278\tvalid_1's wloss: 0.685775\n",
      "Early stopping, best iteration is:\n",
      "[368]\ttraining's multi_logloss: 0.314111\ttraining's wloss: 0.306466\tvalid_1's multi_logloss: 0.781511\tvalid_1's wloss: 0.684626\n",
      "no 5-fold loss: 0.6846261059505987\n",
      "MULTI WEIGHTED LOG LOSS: 0.69476\n",
      "Training until validation scores don't improve for 50 rounds.\n",
      "[100]\ttraining's multi_logloss: 0.612631\ttraining's wloss: 0.595375\tvalid_1's multi_logloss: 1.1174\tvalid_1's wloss: 1.12823\n",
      "[200]\ttraining's multi_logloss: 0.306503\ttraining's wloss: 0.292876\tvalid_1's multi_logloss: 0.86635\tvalid_1's wloss: 0.957099\n",
      "[300]\ttraining's multi_logloss: 0.215076\ttraining's wloss: 0.204819\tvalid_1's multi_logloss: 0.799872\tvalid_1's wloss: 0.945874\n",
      "Early stopping, best iteration is:\n",
      "[269]\ttraining's multi_logloss: 0.235394\ttraining's wloss: 0.224023\tvalid_1's multi_logloss: 0.814883\tvalid_1's wloss: 0.944015\n",
      "no 1-fold loss: 0.9440152643701678\n",
      "Training until validation scores don't improve for 50 rounds.\n",
      "[100]\ttraining's multi_logloss: 0.613373\ttraining's wloss: 0.600768\tvalid_1's multi_logloss: 1.10114\tvalid_1's wloss: 0.98803\n",
      "[200]\ttraining's multi_logloss: 0.311168\ttraining's wloss: 0.299232\tvalid_1's multi_logloss: 0.847837\tvalid_1's wloss: 0.790514\n",
      "[300]\ttraining's multi_logloss: 0.217166\ttraining's wloss: 0.207222\tvalid_1's multi_logloss: 0.77678\tvalid_1's wloss: 0.759758\n",
      "Early stopping, best iteration is:\n",
      "[338]\ttraining's multi_logloss: 0.19681\ttraining's wloss: 0.187822\tvalid_1's multi_logloss: 0.763486\tvalid_1's wloss: 0.757743\n",
      "no 2-fold loss: 0.7577427685420427\n",
      "Training until validation scores don't improve for 50 rounds.\n",
      "[100]\ttraining's multi_logloss: 0.605439\ttraining's wloss: 0.600933\tvalid_1's multi_logloss: 1.09433\tvalid_1's wloss: 0.899561\n",
      "[200]\ttraining's multi_logloss: 0.301111\ttraining's wloss: 0.29664\tvalid_1's multi_logloss: 0.845575\tvalid_1's wloss: 0.733827\n",
      "[300]\ttraining's multi_logloss: 0.210424\ttraining's wloss: 0.206161\tvalid_1's multi_logloss: 0.776021\tvalid_1's wloss: 0.718629\n",
      "Early stopping, best iteration is:\n",
      "[268]\ttraining's multi_logloss: 0.231305\ttraining's wloss: 0.226754\tvalid_1's multi_logloss: 0.789299\tvalid_1's wloss: 0.714703\n",
      "no 3-fold loss: 0.7147027274135482\n",
      "Training until validation scores don't improve for 50 rounds.\n",
      "[100]\ttraining's multi_logloss: 0.583461\ttraining's wloss: 0.572709\tvalid_1's multi_logloss: 1.20827\tvalid_1's wloss: 1.21547\n",
      "[200]\ttraining's multi_logloss: 0.292744\ttraining's wloss: 0.282166\tvalid_1's multi_logloss: 0.971526\tvalid_1's wloss: 1.0985\n",
      "Early stopping, best iteration is:\n",
      "[189]\ttraining's multi_logloss: 0.308992\ttraining's wloss: 0.298298\tvalid_1's multi_logloss: 0.983268\tvalid_1's wloss: 1.09548\n",
      "no 4-fold loss: 1.095481560184597\n",
      "Training until validation scores don't improve for 50 rounds.\n",
      "[100]\ttraining's multi_logloss: 0.586272\ttraining's wloss: 0.581249\tvalid_1's multi_logloss: 1.17666\tvalid_1's wloss: 1.19368\n",
      "[200]\ttraining's multi_logloss: 0.289588\ttraining's wloss: 0.284731\tvalid_1's multi_logloss: 0.930887\tvalid_1's wloss: 1.06059\n",
      "Early stopping, best iteration is:\n",
      "[248]\ttraining's multi_logloss: 0.236438\ttraining's wloss: 0.231918\tvalid_1's multi_logloss: 0.891356\tvalid_1's wloss: 1.05254\n",
      "no 5-fold loss: 1.052535530739809\n",
      "MULTI WEIGHTED LOG LOSS: 0.92421\n",
      "[0.6947601833786007, 0.9242053589126051]\n"
     ]
    }
   ],
   "source": [
    "#[0.7031538683880986, 0.8434040355315483] default\n",
    "conf1 = lgbm_params.copy()\n",
    "conf2 = lgbm_params.copy()\n",
    "test_partition(X_backup.ra < 300, conf1, conf2)"
   ]
  },
  {
   "cell_type": "markdown",
   "metadata": {},
   "source": [
    "### Second Idea:\n",
    "Now it's time for gal_l, but spliting into to sets where one of them a few times smaller than the second one wouldn't make sense.  \n",
    "[1.023404000997548, 0.6577501966844485]"
   ]
  },
  {
   "cell_type": "code",
   "execution_count": 77,
   "metadata": {},
   "outputs": [
    {
     "data": {
      "text/plain": [
       "(array([454924., 215179.,  77648.,  52456.,  98288., 274602., 696963.,\n",
       "        629739., 420570., 572521.]),\n",
       " array([1.03690000e-02, 3.60088876e+01, 7.20074062e+01, 1.08005925e+02,\n",
       "        1.44004443e+02, 1.80002962e+02, 2.16001481e+02, 2.51999999e+02,\n",
       "        2.87998518e+02, 3.23997036e+02, 3.59995555e+02]),\n",
       " <a list of 10 Patch objects>)"
      ]
     },
     "execution_count": 77,
     "metadata": {},
     "output_type": "execute_result"
    },
    {
     "data": {
      "image/png": "[encoded data removed]",
      "text/plain": [
       "<Figure size 432x288 with 1 Axes>"
      ]
     },
     "metadata": {
      "needs_background": "light"
     },
     "output_type": "display_data"
    }
   ],
   "source": [
    "plt.hist(test_meta_df.gal_l.compute())"
   ]
  },
  {
   "cell_type": "code",
   "execution_count": 78,
   "metadata": {},
   "outputs": [
    {
     "data": {
      "text/plain": [
       "(array([ 725.,  355.,  105.,   85.,  437.,  409., 2102., 1179., 1229.,\n",
       "        1222.]),\n",
       " array([1.07681000e-01, 3.60912956e+01, 7.20749102e+01, 1.08058525e+02,\n",
       "        1.44042139e+02, 1.80025754e+02, 2.16009369e+02, 2.51992983e+02,\n",
       "        2.87976598e+02, 3.23960212e+02, 3.59943827e+02]),\n",
       " <a list of 10 Patch objects>)"
      ]
     },
     "execution_count": 78,
     "metadata": {},
     "output_type": "execute_result"
    },
    {
     "data": {
      "image/png": "[encoded data removed]",
      "text/plain": [
       "<Figure size 432x288 with 1 Axes>"
      ]
     },
     "metadata": {
      "needs_background": "light"
     },
     "output_type": "display_data"
    }
   ],
   "source": [
    "plt.hist(training_meta_df.gal_l.compute())"
   ]
  },
  {
   "cell_type": "code",
   "execution_count": 79,
   "metadata": {},
   "outputs": [
    {
     "name": "stdout",
     "output_type": "stream",
     "text": [
      "Training until validation scores don't improve for 50 rounds.\n",
      "[100]\ttraining's multi_logloss: 0.63278\ttraining's wloss: 0.628306\tvalid_1's multi_logloss: 1.21719\tvalid_1's wloss: 1.28554\n",
      "[200]\ttraining's multi_logloss: 0.319308\ttraining's wloss: 0.31686\tvalid_1's multi_logloss: 0.989025\tvalid_1's wloss: 1.13724\n",
      "[300]\ttraining's multi_logloss: 0.230568\ttraining's wloss: 0.228667\tvalid_1's multi_logloss: 0.948943\tvalid_1's wloss: 1.11927\n",
      "Early stopping, best iteration is:\n",
      "[278]\ttraining's multi_logloss: 0.243896\ttraining's wloss: 0.241801\tvalid_1's multi_logloss: 0.952442\tvalid_1's wloss: 1.11491\n",
      "no 1-fold loss: 1.1149067859705455\n",
      "Training until validation scores don't improve for 50 rounds.\n",
      "[100]\ttraining's multi_logloss: 0.634914\ttraining's wloss: 0.636037\tvalid_1's multi_logloss: 1.12698\tvalid_1's wloss: 1.16548\n",
      "[200]\ttraining's multi_logloss: 0.321901\ttraining's wloss: 0.321937\tvalid_1's multi_logloss: 0.9079\tvalid_1's wloss: 1.03795\n",
      "[300]\ttraining's multi_logloss: 0.232639\ttraining's wloss: 0.23221\tvalid_1's multi_logloss: 0.856399\tvalid_1's wloss: 1.03378\n",
      "Early stopping, best iteration is:\n",
      "[272]\ttraining's multi_logloss: 0.249525\ttraining's wloss: 0.249001\tvalid_1's multi_logloss: 0.862592\tvalid_1's wloss: 1.02827\n",
      "no 2-fold loss: 1.0282746578256\n",
      "Training until validation scores don't improve for 50 rounds.\n",
      "[100]\ttraining's multi_logloss: 0.638863\ttraining's wloss: 0.645502\tvalid_1's multi_logloss: 1.16783\tvalid_1's wloss: 1.03494\n",
      "[200]\ttraining's multi_logloss: 0.320263\ttraining's wloss: 0.324563\tvalid_1's multi_logloss: 0.930401\tvalid_1's wloss: 0.870692\n",
      "[300]\ttraining's multi_logloss: 0.229916\ttraining's wloss: 0.232498\tvalid_1's multi_logloss: 0.876566\tvalid_1's wloss: 0.850153\n",
      "Early stopping, best iteration is:\n",
      "[342]\ttraining's multi_logloss: 0.210102\ttraining's wloss: 0.212111\tvalid_1's multi_logloss: 0.867992\tvalid_1's wloss: 0.847786\n",
      "no 3-fold loss: 0.8477858635734453\n",
      "Training until validation scores don't improve for 50 rounds.\n",
      "[100]\ttraining's multi_logloss: 0.642939\ttraining's wloss: 0.642981\tvalid_1's multi_logloss: 1.19057\tvalid_1's wloss: 1.13801\n",
      "[200]\ttraining's multi_logloss: 0.326703\ttraining's wloss: 0.326468\tvalid_1's multi_logloss: 0.940415\tvalid_1's wloss: 0.977683\n",
      "Early stopping, best iteration is:\n",
      "[228]\ttraining's multi_logloss: 0.291819\ttraining's wloss: 0.291397\tvalid_1's multi_logloss: 0.914494\tvalid_1's wloss: 0.965013\n",
      "no 4-fold loss: 0.9650125092262573\n",
      "Training until validation scores don't improve for 50 rounds.\n",
      "[100]\ttraining's multi_logloss: 0.634657\ttraining's wloss: 0.63934\tvalid_1's multi_logloss: 1.17566\tvalid_1's wloss: 1.26884\n",
      "[200]\ttraining's multi_logloss: 0.322424\ttraining's wloss: 0.324646\tvalid_1's multi_logloss: 0.938929\tvalid_1's wloss: 1.10793\n",
      "Early stopping, best iteration is:\n",
      "[198]\ttraining's multi_logloss: 0.32514\ttraining's wloss: 0.327393\tvalid_1's multi_logloss: 0.940819\tvalid_1's wloss: 1.10783\n",
      "no 5-fold loss: 1.107826114052626\n",
      "MULTI WEIGHTED LOG LOSS: 1.02340\n",
      "Training until validation scores don't improve for 50 rounds.\n",
      "[100]\ttraining's multi_logloss: 0.736538\ttraining's wloss: 0.724273\tvalid_1's multi_logloss: 1.11026\tvalid_1's wloss: 0.976603\n",
      "[200]\ttraining's multi_logloss: 0.477987\ttraining's wloss: 0.465\tvalid_1's multi_logloss: 0.87012\tvalid_1's wloss: 0.751181\n",
      "[300]\ttraining's multi_logloss: 0.374899\ttraining's wloss: 0.361536\tvalid_1's multi_logloss: 0.784181\tvalid_1's wloss: 0.694679\n",
      "[400]\ttraining's multi_logloss: 0.315121\ttraining's wloss: 0.302247\tvalid_1's multi_logloss: 0.739904\tvalid_1's wloss: 0.674919\n",
      "[500]\ttraining's multi_logloss: 0.271976\ttraining's wloss: 0.259638\tvalid_1's multi_logloss: 0.708427\tvalid_1's wloss: 0.666769\n",
      "[600]\ttraining's multi_logloss: 0.237856\ttraining's wloss: 0.226348\tvalid_1's multi_logloss: 0.686642\tvalid_1's wloss: 0.662926\n",
      "Early stopping, best iteration is:\n",
      "[604]\ttraining's multi_logloss: 0.236621\ttraining's wloss: 0.225131\tvalid_1's multi_logloss: 0.685849\tvalid_1's wloss: 0.66253\n",
      "no 1-fold loss: 0.6625301949373203\n",
      "Training until validation scores don't improve for 50 rounds.\n",
      "[100]\ttraining's multi_logloss: 0.738778\ttraining's wloss: 0.729099\tvalid_1's multi_logloss: 1.07767\tvalid_1's wloss: 0.904847\n",
      "[200]\ttraining's multi_logloss: 0.475392\ttraining's wloss: 0.463421\tvalid_1's multi_logloss: 0.853551\tvalid_1's wloss: 0.713407\n",
      "[300]\ttraining's multi_logloss: 0.371785\ttraining's wloss: 0.359293\tvalid_1's multi_logloss: 0.779152\tvalid_1's wloss: 0.677445\n",
      "[400]\ttraining's multi_logloss: 0.311803\ttraining's wloss: 0.299426\tvalid_1's multi_logloss: 0.740845\tvalid_1's wloss: 0.668427\n",
      "[500]\ttraining's multi_logloss: 0.268871\ttraining's wloss: 0.256871\tvalid_1's multi_logloss: 0.716101\tvalid_1's wloss: 0.664392\n",
      "Early stopping, best iteration is:\n",
      "[523]\ttraining's multi_logloss: 0.26066\ttraining's wloss: 0.248751\tvalid_1's multi_logloss: 0.713752\tvalid_1's wloss: 0.663841\n",
      "no 2-fold loss: 0.6638409028042427\n",
      "Training until validation scores don't improve for 50 rounds.\n",
      "[100]\ttraining's multi_logloss: 0.730886\ttraining's wloss: 0.721889\tvalid_1's multi_logloss: 1.07387\tvalid_1's wloss: 0.917995\n",
      "[200]\ttraining's multi_logloss: 0.467725\ttraining's wloss: 0.45712\tvalid_1's multi_logloss: 0.847609\tvalid_1's wloss: 0.729169\n",
      "[300]\ttraining's multi_logloss: 0.364296\ttraining's wloss: 0.353598\tvalid_1's multi_logloss: 0.767612\tvalid_1's wloss: 0.688226\n",
      "[400]\ttraining's multi_logloss: 0.306043\ttraining's wloss: 0.29563\tvalid_1's multi_logloss: 0.730421\tvalid_1's wloss: 0.681329\n",
      "Early stopping, best iteration is:\n",
      "[415]\ttraining's multi_logloss: 0.298785\ttraining's wloss: 0.288462\tvalid_1's multi_logloss: 0.726152\tvalid_1's wloss: 0.680745\n",
      "no 3-fold loss: 0.680745447756476\n",
      "Training until validation scores don't improve for 50 rounds.\n",
      "[100]\ttraining's multi_logloss: 0.73925\ttraining's wloss: 0.729361\tvalid_1's multi_logloss: 1.09258\tvalid_1's wloss: 0.875553\n",
      "[200]\ttraining's multi_logloss: 0.478136\ttraining's wloss: 0.467362\tvalid_1's multi_logloss: 0.863358\tvalid_1's wloss: 0.674853\n",
      "[300]\ttraining's multi_logloss: 0.375841\ttraining's wloss: 0.364206\tvalid_1's multi_logloss: 0.781987\tvalid_1's wloss: 0.626416\n",
      "[400]\ttraining's multi_logloss: 0.315594\ttraining's wloss: 0.303978\tvalid_1's multi_logloss: 0.73789\tvalid_1's wloss: 0.608179\n",
      "[500]\ttraining's multi_logloss: 0.272825\ttraining's wloss: 0.261552\tvalid_1's multi_logloss: 0.708944\tvalid_1's wloss: 0.602335\n",
      "[600]\ttraining's multi_logloss: 0.238935\ttraining's wloss: 0.228394\tvalid_1's multi_logloss: 0.685318\tvalid_1's wloss: 0.599802\n",
      "Early stopping, best iteration is:\n",
      "[614]\ttraining's multi_logloss: 0.234765\ttraining's wloss: 0.224202\tvalid_1's multi_logloss: 0.68231\tvalid_1's wloss: 0.599326\n",
      "no 4-fold loss: 0.5993257823357888\n",
      "Training until validation scores don't improve for 50 rounds.\n",
      "[100]\ttraining's multi_logloss: 0.732558\ttraining's wloss: 0.722016\tvalid_1's multi_logloss: 1.11568\tvalid_1's wloss: 0.957734\n",
      "[200]\ttraining's multi_logloss: 0.469628\ttraining's wloss: 0.458314\tvalid_1's multi_logloss: 0.891014\tvalid_1's wloss: 0.760191\n",
      "[300]\ttraining's multi_logloss: 0.366699\ttraining's wloss: 0.355304\tvalid_1's multi_logloss: 0.811151\tvalid_1's wloss: 0.707132\n",
      "[400]\ttraining's multi_logloss: 0.307739\ttraining's wloss: 0.296576\tvalid_1's multi_logloss: 0.767363\tvalid_1's wloss: 0.691137\n",
      "[500]\ttraining's multi_logloss: 0.265026\ttraining's wloss: 0.254317\tvalid_1's multi_logloss: 0.739576\tvalid_1's wloss: 0.685012\n",
      "[600]\ttraining's multi_logloss: 0.232336\ttraining's wloss: 0.222106\tvalid_1's multi_logloss: 0.719199\tvalid_1's wloss: 0.683031\n",
      "Early stopping, best iteration is:\n",
      "[637]\ttraining's multi_logloss: 0.221769\ttraining's wloss: 0.211645\tvalid_1's multi_logloss: 0.711222\tvalid_1's wloss: 0.681934\n",
      "no 5-fold loss: 0.6819341496664135\n",
      "MULTI WEIGHTED LOG LOSS: 0.65775\n",
      "[1.023404000997548, 0.6577501966844485]\n"
     ]
    }
   ],
   "source": [
    "#[0.7031538683880986, 0.8434040355315483] default\n",
    "conf1 = lgbm_params.copy()\n",
    "conf2 = lgbm_params.copy()\n",
    "test_partition(X_backup.gal_l < 125, conf1, conf2)"
   ]
  },
  {
   "cell_type": "markdown",
   "metadata": {},
   "source": [
    "### Third Idea:\n",
    "I think look at test data histogram shows firmly, that this wouldn't make sense"
   ]
  },
  {
   "cell_type": "code",
   "execution_count": 54,
   "metadata": {},
   "outputs": [
    {
     "data": {
      "text/plain": [
       "(array([5732.,    0.,    0.,    0.,    0.,    0.,    0.,    0.,    0.,\n",
       "        2116.]),\n",
       " array([0. , 0.1, 0.2, 0.3, 0.4, 0.5, 0.6, 0.7, 0.8, 0.9, 1. ]),\n",
       " <a list of 10 Patch objects>)"
      ]
     },
     "execution_count": 54,
     "metadata": {},
     "output_type": "execute_result"
    },
    {
     "data": {
      "image/png": "[encoded data removed]",
      "text/plain": [
       "<Figure size 432x288 with 1 Axes>"
      ]
     },
     "metadata": {
      "needs_background": "light"
     },
     "output_type": "display_data"
    }
   ],
   "source": [
    "plt.hist(training_meta_df.ddf.compute())"
   ]
  },
  {
   "cell_type": "code",
   "execution_count": 55,
   "metadata": {},
   "outputs": [
    {
     "data": {
      "text/plain": [
       "(array([3459964.,       0.,       0.,       0.,       0.,       0.,\n",
       "              0.,       0.,       0.,   32926.]),\n",
       " array([0. , 0.1, 0.2, 0.3, 0.4, 0.5, 0.6, 0.7, 0.8, 0.9, 1. ]),\n",
       " <a list of 10 Patch objects>)"
      ]
     },
     "execution_count": 55,
     "metadata": {},
     "output_type": "execute_result"
    },
    {
     "data": {
      "image/png": "[encoded data removed]",
      "text/plain": [
       "<Figure size 432x288 with 1 Axes>"
      ]
     },
     "metadata": {
      "needs_background": "light"
     },
     "output_type": "display_data"
    }
   ],
   "source": [
    "plt.hist(test_meta_df.ddf.compute())"
   ]
  },
  {
   "cell_type": "markdown",
   "metadata": {},
   "source": [
    "### Fourth Idea:  \n",
    "No space for splitting set, I guess"
   ]
  },
  {
   "cell_type": "code",
   "execution_count": 71,
   "metadata": {},
   "outputs": [
    {
     "name": "stdout",
     "output_type": "stream",
     "text": [
      "7848\n",
      "2325\n"
     ]
    },
    {
     "data": {
      "image/png": "[encoded data removed]",
      "text/plain": [
       "<Figure size 432x288 with 1 Axes>"
      ]
     },
     "metadata": {
      "needs_background": "light"
     },
     "output_type": "display_data"
    }
   ],
   "source": [
    "plt.hist(training_meta_df.distmod.compute())\n",
    "print(training_meta_df.shape[0].compute())\n",
    "print(training_meta_df.distmod.isna().sum().compute())"
   ]
  },
  {
   "cell_type": "code",
   "execution_count": 70,
   "metadata": {},
   "outputs": [
    {
     "name": "stderr",
     "output_type": "stream",
     "text": [
      "/home/mf385423/miniconda3/envs/plasticc/lib/python3.6/site-packages/numpy/lib/histograms.py:746: RuntimeWarning: invalid value encountered in greater_equal\n",
      "  keep = (tmp_a >= first_edge)\n",
      "/home/mf385423/miniconda3/envs/plasticc/lib/python3.6/site-packages/numpy/lib/histograms.py:747: RuntimeWarning: invalid value encountered in less_equal\n",
      "  keep &= (tmp_a <= last_edge)\n"
     ]
    },
    {
     "name": "stdout",
     "output_type": "stream",
     "text": [
      "3492890\n",
      "390510\n"
     ]
    },
    {
     "data": {
      "image/png": "[encoded data removed]",
      "text/plain": [
       "<Figure size 432x288 with 1 Axes>"
      ]
     },
     "metadata": {
      "needs_background": "light"
     },
     "output_type": "display_data"
    }
   ],
   "source": [
    "plt.hist(test_meta_df.distmod.compute())\n",
    "print(test_meta_df.shape[0].compute())\n",
    "print(test_meta_df.distmod.isna().sum().compute())"
   ]
  },
  {
   "cell_type": "markdown",
   "metadata": {},
   "source": [
    "### Fifth Idea:  \n",
    "Unfortunately pointless (I was hoping for it)"
   ]
  },
  {
   "cell_type": "code",
   "execution_count": 95,
   "metadata": {},
   "outputs": [
    {
     "data": {
      "text/plain": [
       "(array([4816., 1487.,  557.,  169.,  132.,  105.,   92.,  101.,  139.,\n",
       "         250.]),\n",
       " array([0.00568182, 0.10511364, 0.20454545, 0.30397727, 0.40340909,\n",
       "        0.50284091, 0.60227273, 0.70170455, 0.80113636, 0.90056818,\n",
       "        1.        ]),\n",
       " <a list of 10 Patch objects>)"
      ]
     },
     "execution_count": 95,
     "metadata": {},
     "output_type": "execute_result"
    },
    {
     "data": {
      "image/png": "[encoded data removed]",
      "text/plain": [
       "<Figure size 432x288 with 1 Axes>"
      ]
     },
     "metadata": {
      "needs_background": "light"
     },
     "output_type": "display_data"
    }
   ],
   "source": [
    "plt.hist(training_df.groupby(['object_id']).mean().compute().detected)"
   ]
  },
  {
   "cell_type": "markdown",
   "metadata": {},
   "source": [
    "### Sixth Idea:  \n",
    "Also pointless"
   ]
  },
  {
   "cell_type": "code",
   "execution_count": 100,
   "metadata": {},
   "outputs": [
    {
     "data": {
      "text/plain": [
       "(array([0.000e+00, 0.000e+00, 1.666e+03, 2.780e+02, 5.000e+01, 1.600e+01,\n",
       "        3.900e+01, 9.000e+00, 8.000e+00, 3.600e+01, 1.900e+02, 7.440e+02,\n",
       "        1.030e+03, 8.410e+02, 6.950e+02, 4.750e+02, 2.680e+02, 1.730e+02,\n",
       "        1.390e+02, 1.170e+02, 1.060e+02, 1.010e+02, 8.900e+01, 7.500e+01,\n",
       "        6.700e+01, 4.700e+01, 2.800e+01, 2.800e+01, 3.100e+01, 2.200e+01,\n",
       "        2.000e+01, 1.900e+01, 1.600e+01, 1.900e+01, 1.100e+01, 1.700e+01,\n",
       "        1.600e+01, 1.700e+01, 1.400e+01, 1.400e+01, 5.000e+00, 5.000e+00,\n",
       "        1.200e+01, 1.000e+01, 1.000e+01, 9.000e+00, 8.000e+00, 4.000e+00,\n",
       "        5.000e+00, 5.000e+00, 1.000e+01, 4.000e+00, 1.100e+01, 5.000e+00,\n",
       "        2.000e+00, 6.000e+00, 5.000e+00, 4.000e+00, 4.000e+00, 4.000e+00,\n",
       "        4.000e+00, 5.000e+00, 4.000e+00, 8.000e+00, 2.000e+00, 5.000e+00,\n",
       "        3.000e+00, 0.000e+00, 1.000e+00, 2.000e+00, 7.000e+00, 1.000e+00,\n",
       "        0.000e+00, 1.000e+00, 4.000e+00, 1.000e+00, 1.000e+00, 4.000e+00,\n",
       "        0.000e+00, 1.000e+00, 0.000e+00, 0.000e+00, 0.000e+00, 1.000e+00,\n",
       "        3.000e+00, 7.000e+00, 2.000e+00, 1.000e+00, 1.000e+00, 0.000e+00,\n",
       "        1.000e+00, 2.000e+00, 2.000e+00, 1.000e+00, 1.000e+00, 4.000e+00,\n",
       "        2.000e+00, 0.000e+00, 0.000e+00]),\n",
       " array([ 0,  1,  2,  3,  4,  5,  6,  7,  8,  9, 10, 11, 12, 13, 14, 15, 16,\n",
       "        17, 18, 19, 20, 21, 22, 23, 24, 25, 26, 27, 28, 29, 30, 31, 32, 33,\n",
       "        34, 35, 36, 37, 38, 39, 40, 41, 42, 43, 44, 45, 46, 47, 48, 49, 50,\n",
       "        51, 52, 53, 54, 55, 56, 57, 58, 59, 60, 61, 62, 63, 64, 65, 66, 67,\n",
       "        68, 69, 70, 71, 72, 73, 74, 75, 76, 77, 78, 79, 80, 81, 82, 83, 84,\n",
       "        85, 86, 87, 88, 89, 90, 91, 92, 93, 94, 95, 96, 97, 98, 99]),\n",
       " <a list of 99 Patch objects>)"
      ]
     },
     "execution_count": 100,
     "metadata": {},
     "output_type": "execute_result"
    },
    {
     "data": {
      "image/png": "[encoded data removed]",
      "text/plain": [
       "<Figure size 432x288 with 1 Axes>"
      ]
     },
     "metadata": {
      "needs_background": "light"
     },
     "output_type": "display_data"
    }
   ],
   "source": [
    "plt.hist(training_df.groupby(['object_id']).mean().compute().flux_err, bins=range(0, 100))"
   ]
  },
  {
   "cell_type": "code",
   "execution_count": 101,
   "metadata": {},
   "outputs": [
    {
     "data": {
      "text/plain": [
       "(array([0.00000e+00, 0.00000e+00, 3.25110e+04, 2.76000e+02, 9.00000e+00,\n",
       "        7.00000e+00, 6.00000e+00, 5.00000e+00, 1.53800e+03, 2.39210e+04,\n",
       "        1.64828e+05, 6.37368e+05, 7.79833e+05, 5.45294e+05, 4.18394e+05,\n",
       "        2.37091e+05, 1.14608e+05, 6.76270e+04, 5.05820e+04, 3.66470e+04,\n",
       "        3.01750e+04, 2.58860e+04, 2.23180e+04, 1.92560e+04, 1.68360e+04,\n",
       "        1.35270e+04, 1.17730e+04, 1.04720e+04, 9.69700e+03, 8.69800e+03,\n",
       "        7.81100e+03, 7.62800e+03, 7.40500e+03, 6.62700e+03, 6.65000e+03,\n",
       "        6.36400e+03, 6.41400e+03, 6.12400e+03, 5.85200e+03, 5.38100e+03,\n",
       "        4.91800e+03, 4.30700e+03, 4.22300e+03, 3.84600e+03, 3.67000e+03,\n",
       "        3.46800e+03, 3.37000e+03, 2.95800e+03, 2.86500e+03, 2.78900e+03,\n",
       "        2.67700e+03, 2.56200e+03, 2.36600e+03, 2.22100e+03, 2.17400e+03,\n",
       "        1.98300e+03, 2.03100e+03, 1.89400e+03, 1.80200e+03, 1.69200e+03,\n",
       "        1.65700e+03, 1.55000e+03, 1.48600e+03, 1.51100e+03, 1.29000e+03,\n",
       "        1.33900e+03, 1.32100e+03, 1.27700e+03, 1.20400e+03, 1.20000e+03,\n",
       "        1.15400e+03, 1.15700e+03, 1.04500e+03, 1.02200e+03, 9.65000e+02,\n",
       "        1.00500e+03, 1.00300e+03, 9.35000e+02, 8.77000e+02, 9.06000e+02,\n",
       "        8.04000e+02, 8.26000e+02, 7.84000e+02, 7.94000e+02, 8.22000e+02,\n",
       "        7.83000e+02, 7.98000e+02, 7.58000e+02, 7.36000e+02, 7.08000e+02,\n",
       "        6.75000e+02, 6.98000e+02, 6.22000e+02, 6.39000e+02, 6.91000e+02,\n",
       "        6.19000e+02, 6.40000e+02, 6.44000e+02, 6.50000e+02]),\n",
       " array([ 0,  1,  2,  3,  4,  5,  6,  7,  8,  9, 10, 11, 12, 13, 14, 15, 16,\n",
       "        17, 18, 19, 20, 21, 22, 23, 24, 25, 26, 27, 28, 29, 30, 31, 32, 33,\n",
       "        34, 35, 36, 37, 38, 39, 40, 41, 42, 43, 44, 45, 46, 47, 48, 49, 50,\n",
       "        51, 52, 53, 54, 55, 56, 57, 58, 59, 60, 61, 62, 63, 64, 65, 66, 67,\n",
       "        68, 69, 70, 71, 72, 73, 74, 75, 76, 77, 78, 79, 80, 81, 82, 83, 84,\n",
       "        85, 86, 87, 88, 89, 90, 91, 92, 93, 94, 95, 96, 97, 98, 99]),\n",
       " <a list of 99 Patch objects>)"
      ]
     },
     "execution_count": 101,
     "metadata": {},
     "output_type": "execute_result"
    },
    {
     "data": {
      "image/png": "[encoded data removed]",
      "text/plain": [
       "<Figure size 432x288 with 1 Axes>"
      ]
     },
     "metadata": {
      "needs_background": "light"
     },
     "output_type": "display_data"
    }
   ],
   "source": [
    "plt.hist(test_df.groupby(['object_id']).mean().compute().flux_err, bins=range(0, 100))"
   ]
  },
  {
   "cell_type": "markdown",
   "metadata": {},
   "source": [
    "### Seventh Idea:  \n",
    "Also pointless"
   ]
  },
  {
   "cell_type": "code",
   "execution_count": 102,
   "metadata": {},
   "outputs": [
    {
     "data": {
      "text/plain": [
       "(array([7.300e+01, 4.290e+02, 3.738e+03, 1.492e+03, 0.000e+00, 0.000e+00,\n",
       "        4.700e+02, 0.000e+00, 2.000e+00, 1.644e+03]),\n",
       " array([ 47. ,  77.5, 108. , 138.5, 169. , 199.5, 230. , 260.5, 291. ,\n",
       "        321.5, 352. ]),\n",
       " <a list of 10 Patch objects>)"
      ]
     },
     "execution_count": 102,
     "metadata": {},
     "output_type": "execute_result"
    },
    {
     "data": {
      "image/png": "[encoded data removed]",
      "text/plain": [
       "<Figure size 432x288 with 1 Axes>"
      ]
     },
     "metadata": {
      "needs_background": "light"
     },
     "output_type": "display_data"
    }
   ],
   "source": [
    "plt.hist(training_df.groupby(['object_id']).count().compute().flux)"
   ]
  },
  {
   "cell_type": "code",
   "execution_count": 103,
   "metadata": {},
   "outputs": [
    {
     "data": {
      "text/plain": [
       "(array([2.808700e+04, 2.000660e+05, 2.173524e+06, 1.057672e+06,\n",
       "        6.150000e+02, 0.000000e+00, 6.215000e+03, 0.000000e+00,\n",
       "        0.000000e+00, 2.671100e+04]),\n",
       " array([ 45. ,  75.7, 106.4, 137.1, 167.8, 198.5, 229.2, 259.9, 290.6,\n",
       "        321.3, 352. ]),\n",
       " <a list of 10 Patch objects>)"
      ]
     },
     "execution_count": 103,
     "metadata": {},
     "output_type": "execute_result"
    },
    {
     "data": {
      "image/png": "[encoded data removed]",
      "text/plain": [
       "<Figure size 432x288 with 1 Axes>"
      ]
     },
     "metadata": {
      "needs_background": "light"
     },
     "output_type": "display_data"
    }
   ],
   "source": [
    "plt.hist(test_df.groupby(['object_id']).count().compute().flux)"
   ]
  },
  {
   "cell_type": "code",
   "execution_count": null,
   "metadata": {},
   "outputs": [],
   "source": []
  }
 ],
 "metadata": {
  "kernelspec": {
   "display_name": "plasticc",
   "language": "python",
   "name": "plasticc"
  },
  "language_info": {
   "codemirror_mode": {
    "name": "ipython",
    "version": 3
   },
   "file_extension": ".py",
   "mimetype": "text/x-python",
   "name": "python",
   "nbconvert_exporter": "python",
   "pygments_lexer": "ipython3",
   "version": "3.6.7"
  }
 },
 "nbformat": 4,
 "nbformat_minor": 2
}
