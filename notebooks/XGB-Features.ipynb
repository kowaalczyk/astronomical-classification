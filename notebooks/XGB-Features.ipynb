{
 "cells": [
  {
   "cell_type": "code",
   "execution_count": 34,
   "metadata": {},
   "outputs": [],
   "source": [
    "from typing import List\n",
    "\n",
    "from sklearn.ensemble import RandomForestClassifier\n",
    "from sklearn.preprocessing import OneHotEncoder\n",
    "from xgboost import XGBClassifier\n",
    "from catboost import CatBoostClassifier\n",
    "import numpy as np\n",
    "import pandas as pd\n",
    "\n",
    "from plasticc.dataset import Dataset\n",
    "\n",
    "import plasticc.metrics as metrics"
   ]
  },
  {
   "cell_type": "code",
   "execution_count": 60,
   "metadata": {},
   "outputs": [
    {
     "name": "stdout",
     "output_type": "stream",
     "text": [
      "Collecting catboost==0.11.1\n",
      "  Using cached https://files.pythonhosted.org/packages/19/ea/d6cbdf03fb1e8ea8c7c7a0b37b89c8f8b3825ec625d428d49b6230656c00/catboost-0.11.1-cp36-none-manylinux1_x86_64.whl\n",
      "Requirement already satisfied: pandas>=0.19.1 in /home/kk385830/miniconda3/envs/plasticc/lib/python3.6/site-packages (from catboost==0.11.1) (0.23.4)\n",
      "Requirement already satisfied: enum34 in /home/kk385830/miniconda3/envs/plasticc/lib/python3.6/site-packages (from catboost==0.11.1) (1.1.6)\n",
      "Requirement already satisfied: six in /home/kk385830/miniconda3/envs/plasticc/lib/python3.6/site-packages (from catboost==0.11.1) (1.11.0)\n",
      "Requirement already satisfied: numpy>=1.11.1 in /home/kk385830/miniconda3/envs/plasticc/lib/python3.6/site-packages (from catboost==0.11.1) (1.15.4)\n",
      "Requirement already satisfied: python-dateutil>=2.5.0 in /home/kk385830/miniconda3/envs/plasticc/lib/python3.6/site-packages (from pandas>=0.19.1->catboost==0.11.1) (2.7.5)\n",
      "Requirement already satisfied: pytz>=2011k in /home/kk385830/miniconda3/envs/plasticc/lib/python3.6/site-packages (from pandas>=0.19.1->catboost==0.11.1) (2018.7)\n",
      "Installing collected packages: catboost\n",
      "  Found existing installation: catboost 0.5.2.1\n",
      "    Uninstalling catboost-0.5.2.1:\n",
      "      Successfully uninstalled catboost-0.5.2.1\n",
      "Successfully installed catboost-0.11.1\n"
     ]
    }
   ],
   "source": [
    "!pip install catboost==0.11.1"
   ]
  },
  {
   "cell_type": "code",
   "execution_count": 2,
   "metadata": {},
   "outputs": [],
   "source": [
    "ds_tsfresh = Dataset('../data/sets/tsfresh-sample/', y_colname='target')"
   ]
  },
  {
   "cell_type": "code",
   "execution_count": 3,
   "metadata": {},
   "outputs": [],
   "source": [
    "ds_simple = Dataset('../data/sets/simple-12-01/', y_colname='target')"
   ]
  },
  {
   "cell_type": "code",
   "execution_count": 4,
   "metadata": {},
   "outputs": [],
   "source": [
    "Xt, yt = ds_tsfresh.train"
   ]
  },
  {
   "cell_type": "code",
   "execution_count": 5,
   "metadata": {},
   "outputs": [],
   "source": [
    "Xs, ys = ds_simple.train"
   ]
  },
  {
   "cell_type": "markdown",
   "metadata": {},
   "source": [
    "### Eliminate null values"
   ]
  },
  {
   "cell_type": "code",
   "execution_count": 6,
   "metadata": {},
   "outputs": [],
   "source": [
    "def null_values(X: pd.DataFrame) -> List[str]:\n",
    "    print(\"Total columns:\", len(X.columns))\n",
    "    na_cols = [col for col in X.columns if X[col].isna().any()]\n",
    "    print(\"Total NA columns: \", len(na_cols))\n",
    "    if len(na_cols) < 10:\n",
    "        print(\"NA values by column:\")\n",
    "        print({na_col: X[na_col].isna().sum() for na_col in na_cols})\n",
    "    return na_cols"
   ]
  },
  {
   "cell_type": "code",
   "execution_count": 7,
   "metadata": {},
   "outputs": [
    {
     "name": "stdout",
     "output_type": "stream",
     "text": [
      "Total columns: 1065\n",
      "Total NA columns:  1\n",
      "NA values by column:\n",
      "{'distmod': 2325}\n"
     ]
    }
   ],
   "source": [
    "na_tsfresh = null_values(Xt)"
   ]
  },
  {
   "cell_type": "code",
   "execution_count": 8,
   "metadata": {},
   "outputs": [
    {
     "name": "stdout",
     "output_type": "stream",
     "text": [
      "Total columns: 176\n",
      "Total NA columns:  1\n",
      "NA values by column:\n",
      "{'distmod': 2325}\n"
     ]
    }
   ],
   "source": [
    "na_simple = null_values(Xs)"
   ]
  },
  {
   "cell_type": "markdown",
   "metadata": {},
   "source": [
    "We will fill null values with 0 and remove values that were duplicated"
   ]
  },
  {
   "cell_type": "code",
   "execution_count": 9,
   "metadata": {},
   "outputs": [],
   "source": [
    "for X in [Xs, Xt]:\n",
    "    X.fillna(0, inplace=True)\n",
    "#     X.dropna(axis=1, inplace=True)\n",
    "    assert(X.notna().all().all())\n",
    "    X.drop(columns=[col for col in set(X.columns) if col.endswith('_meta')], inplace=True)"
   ]
  },
  {
   "cell_type": "markdown",
   "metadata": {},
   "source": [
    "### Eliminate inifinte values"
   ]
  },
  {
   "cell_type": "code",
   "execution_count": 10,
   "metadata": {},
   "outputs": [
    {
     "name": "stdout",
     "output_type": "stream",
     "text": [
      "Before infinity removal: (7848, 176)\n",
      "Total columns: 176\n",
      "Total NA columns:  0\n",
      "NA values by column:\n",
      "{}\n",
      "After infinity removal: (7848, 176)\n",
      "Before infinity removal: (7848, 1064)\n",
      "Total columns: 1064\n",
      "Total NA columns:  0\n",
      "NA values by column:\n",
      "{}\n",
      "After infinity removal: (7848, 1064)\n"
     ]
    }
   ],
   "source": [
    "for X in [Xs, Xt]:\n",
    "    print(\"Before infinity removal:\", X.shape)\n",
    "    X.replace([np.inf, -np.inf], np.nan, inplace=True)\n",
    "    na_cols = null_values(X)\n",
    "    X.drop(columns=na_cols, inplace=True)\n",
    "    print(\"After infinity removal:\", X.shape)"
   ]
  },
  {
   "cell_type": "markdown",
   "metadata": {},
   "source": [
    "### Train models on simple dataset"
   ]
  },
  {
   "cell_type": "code",
   "execution_count": 11,
   "metadata": {},
   "outputs": [],
   "source": [
    "from sklearn.model_selection import train_test_split\n",
    "import seaborn as sns\n",
    "import matplotlib.pyplot as plt"
   ]
  },
  {
   "cell_type": "code",
   "execution_count": 12,
   "metadata": {},
   "outputs": [],
   "source": [
    "def plot_feature_importances(model, feature_names: List[str]):\n",
    "    features = pd.DataFrame({\"Importance\": model.feature_importances_, \"Feature\": feature_names})\n",
    "    fig, ax = plt.subplots(figsize=(6,15))\n",
    "    sns.barplot(ax=ax, x='Importance', y='Feature', data=features.sort_values(by='Importance', ascending=False).head(50))\n",
    "    sns.despine(left=True, bottom=True)\n",
    "    plt.show()"
   ]
  },
  {
   "cell_type": "code",
   "execution_count": 13,
   "metadata": {},
   "outputs": [],
   "source": [
    "X_train, X_test, y_train, y_test = train_test_split(Xs, ys, test_size=0.15, random_state=42)"
   ]
  },
  {
   "cell_type": "code",
   "execution_count": 14,
   "metadata": {},
   "outputs": [],
   "source": [
    "\n",
    "def xgb_kaggle_loss(y_true, y_pred, **kwargs):\n",
    "    \n",
    "    y_true = y_true.reshape(-1, 1)\n",
    "    y_true = OneHotEncoder(sparse=False).fit_transform(y_true)\n",
    "    print(y_true)\n",
    "    out = metrics.wtf_xgb_kaggle_loss(y_true, y_pred, **kwargs)\n",
    "    print(out)\n",
    "    return out"
   ]
  },
  {
   "cell_type": "code",
   "execution_count": 50,
   "metadata": {},
   "outputs": [],
   "source": [
    "xgb_model = XGBClassifier(max_depth=7,\n",
    "                           min_child_weight=10,\n",
    "                           learning_rate=0.03,\n",
    "                           n_estimators=1000,\n",
    "                           silent=True,\n",
    "                           objective= 'multi:softprob',\n",
    "                           #objective = xgb_kaggle_loss,\n",
    "                           # gamma=0.01,\n",
    "                           max_delta_step=0,\n",
    "                           subsample=0.9,\n",
    "                           colsample_bytree=0.5,\n",
    "                           colsample_bylevel=1,\n",
    "                           reg_alpha=0.01,\n",
    "                           reg_lambda=0.01,\n",
    "                           scale_pos_weight=1,\n",
    "                           seed=1,\n",
    "                           missing=None)\n",
    "\n",
    "cat_model = CatBoostClassifier(\n",
    "                         learning_rate=0.3,\n",
    "                         loss_function='MultiClass',\n",
    "                         random_seed=3721,\n",
    "                         max_depth=7,\n",
    "                         n_estimators=1000,\n",
    "                         reg_lambda=0.1,\n",
    "                         logging_level='Verbose'\n",
    "#                         scale_pos_weight=1,\n",
    ")"
   ]
  },
  {
   "cell_type": "code",
   "execution_count": 16,
   "metadata": {},
   "outputs": [],
   "source": [
    "# TODO: Class weights for training and for eval"
   ]
  },
  {
   "cell_type": "code",
   "execution_count": 52,
   "metadata": {},
   "outputs": [
    {
     "name": "stdout",
     "output_type": "stream",
     "text": [
      "0:\tlearn: -1.4601623\ttest: -1.4601623\ttest1: -1.4332784\tbest: -1.4332784 (0)\ttotal: 1.94s\tremaining: 32m 13s\n",
      "1:\tlearn: -1.2727441\ttest: -1.2727441\ttest1: -1.2571200\tbest: -1.2571200 (1)\ttotal: 3.96s\tremaining: 32m 58s\n",
      "2:\tlearn: -1.1521079\ttest: -1.1521079\ttest1: -1.1452044\tbest: -1.1452044 (2)\ttotal: 5.93s\tremaining: 32m 50s\n",
      "3:\tlearn: -1.0765283\ttest: -1.0765283\ttest1: -1.0687620\tbest: -1.0687620 (3)\ttotal: 7.93s\tremaining: 32m 56s\n",
      "4:\tlearn: -1.0110795\ttest: -1.0110795\ttest1: -1.0099105\tbest: -1.0099105 (4)\ttotal: 10s\tremaining: 33m 11s\n",
      "5:\tlearn: -0.9496952\ttest: -0.9496952\ttest1: -0.9625091\tbest: -0.9625091 (5)\ttotal: 12.1s\tremaining: 33m 20s\n",
      "6:\tlearn: -0.9014772\ttest: -0.9014772\ttest1: -0.9202321\tbest: -0.9202321 (6)\ttotal: 14.1s\tremaining: 33m 16s\n",
      "7:\tlearn: -0.8729537\ttest: -0.8729537\ttest1: -0.8920104\tbest: -0.8920104 (7)\ttotal: 16.1s\tremaining: 33m 10s\n",
      "8:\tlearn: -0.8488541\ttest: -0.8488541\ttest1: -0.8741457\tbest: -0.8741457 (8)\ttotal: 18s\tremaining: 33m 6s\n",
      "9:\tlearn: -0.8237106\ttest: -0.8237106\ttest1: -0.8598531\tbest: -0.8598531 (9)\ttotal: 20.1s\tremaining: 33m 10s\n",
      "10:\tlearn: -0.7995333\ttest: -0.7995333\ttest1: -0.8393751\tbest: -0.8393751 (10)\ttotal: 22.1s\tremaining: 33m 5s\n",
      "11:\tlearn: -0.7661196\ttest: -0.7661196\ttest1: -0.8175294\tbest: -0.8175294 (11)\ttotal: 24s\tremaining: 32m 56s\n",
      "12:\tlearn: -0.7466412\ttest: -0.7466412\ttest1: -0.8041879\tbest: -0.8041879 (12)\ttotal: 26s\tremaining: 32m 55s\n",
      "13:\tlearn: -0.7136598\ttest: -0.7136598\ttest1: -0.7860323\tbest: -0.7860323 (13)\ttotal: 28.1s\tremaining: 32m 56s\n",
      "14:\tlearn: -0.6976182\ttest: -0.6976182\ttest1: -0.7771223\tbest: -0.7771223 (14)\ttotal: 30s\tremaining: 32m 50s\n",
      "15:\tlearn: -0.6756819\ttest: -0.6756819\ttest1: -0.7661114\tbest: -0.7661114 (15)\ttotal: 32s\tremaining: 32m 49s\n",
      "16:\tlearn: -0.6604947\ttest: -0.6604947\ttest1: -0.7602126\tbest: -0.7602126 (16)\ttotal: 34.1s\tremaining: 32m 50s\n",
      "17:\tlearn: -0.6484915\ttest: -0.6484915\ttest1: -0.7578809\tbest: -0.7578809 (17)\ttotal: 36.1s\tremaining: 32m 50s\n",
      "18:\tlearn: -0.6332534\ttest: -0.6332534\ttest1: -0.7527420\tbest: -0.7527420 (18)\ttotal: 38.2s\tremaining: 32m 51s\n",
      "19:\tlearn: -0.6243546\ttest: -0.6243546\ttest1: -0.7473583\tbest: -0.7473583 (19)\ttotal: 40.1s\tremaining: 32m 46s\n",
      "20:\tlearn: -0.6133706\ttest: -0.6133706\ttest1: -0.7431304\tbest: -0.7431304 (20)\ttotal: 42.2s\tremaining: 32m 46s\n",
      "21:\tlearn: -0.6048577\ttest: -0.6048577\ttest1: -0.7403801\tbest: -0.7403801 (21)\ttotal: 44.2s\tremaining: 32m 45s\n",
      "22:\tlearn: -0.5827269\ttest: -0.5827269\ttest1: -0.7278272\tbest: -0.7278272 (22)\ttotal: 46.3s\tremaining: 32m 45s\n",
      "23:\tlearn: -0.5755339\ttest: -0.5755339\ttest1: -0.7267320\tbest: -0.7267320 (23)\ttotal: 48.2s\tremaining: 32m 38s\n",
      "24:\tlearn: -0.5658645\ttest: -0.5658645\ttest1: -0.7209891\tbest: -0.7209891 (24)\ttotal: 50.2s\tremaining: 32m 36s\n",
      "25:\tlearn: -0.5600106\ttest: -0.5600106\ttest1: -0.7180287\tbest: -0.7180287 (25)\ttotal: 52.1s\tremaining: 32m 32s\n",
      "26:\tlearn: -0.5527844\ttest: -0.5527844\ttest1: -0.7149255\tbest: -0.7149255 (26)\ttotal: 54.1s\tremaining: 32m 28s\n",
      "27:\tlearn: -0.5445890\ttest: -0.5445890\ttest1: -0.7124892\tbest: -0.7124892 (27)\ttotal: 56.2s\tremaining: 32m 31s\n",
      "28:\tlearn: -0.5377462\ttest: -0.5377462\ttest1: -0.7123198\tbest: -0.7123198 (28)\ttotal: 58.3s\tremaining: 32m 32s\n",
      "29:\tlearn: -0.5343941\ttest: -0.5343941\ttest1: -0.7106351\tbest: -0.7106351 (29)\ttotal: 1m\tremaining: 32m 29s\n",
      "30:\tlearn: -0.5222156\ttest: -0.5222156\ttest1: -0.7005081\tbest: -0.7005081 (30)\ttotal: 1m 2s\tremaining: 32m 28s\n",
      "31:\tlearn: -0.5161841\ttest: -0.5161841\ttest1: -0.6926202\tbest: -0.6926202 (31)\ttotal: 1m 4s\tremaining: 32m 27s\n",
      "32:\tlearn: -0.5099380\ttest: -0.5099380\ttest1: -0.6885876\tbest: -0.6885876 (32)\ttotal: 1m 6s\tremaining: 32m 25s\n",
      "33:\tlearn: -0.5036804\ttest: -0.5036804\ttest1: -0.6841242\tbest: -0.6841242 (33)\ttotal: 1m 8s\tremaining: 32m 24s\n",
      "34:\tlearn: -0.4971234\ttest: -0.4971234\ttest1: -0.6836892\tbest: -0.6836892 (34)\ttotal: 1m 10s\tremaining: 32m 20s\n",
      "35:\tlearn: -0.4853428\ttest: -0.4853428\ttest1: -0.6814397\tbest: -0.6814397 (35)\ttotal: 1m 12s\tremaining: 32m 19s\n",
      "36:\tlearn: -0.4784508\ttest: -0.4784508\ttest1: -0.6807119\tbest: -0.6807119 (36)\ttotal: 1m 14s\tremaining: 32m 18s\n",
      "37:\tlearn: -0.4705155\ttest: -0.4705155\ttest1: -0.6789347\tbest: -0.6789347 (37)\ttotal: 1m 16s\tremaining: 32m 20s\n",
      "38:\tlearn: -0.4625099\ttest: -0.4625099\ttest1: -0.6750873\tbest: -0.6750873 (38)\ttotal: 1m 18s\tremaining: 32m 18s\n",
      "39:\tlearn: -0.4555406\ttest: -0.4555406\ttest1: -0.6751173\tbest: -0.6750873 (38)\ttotal: 1m 20s\tremaining: 32m 17s\n",
      "40:\tlearn: -0.4471551\ttest: -0.4471551\ttest1: -0.6746861\tbest: -0.6746861 (40)\ttotal: 1m 22s\tremaining: 32m 17s\n",
      "41:\tlearn: -0.4391656\ttest: -0.4391656\ttest1: -0.6736154\tbest: -0.6736154 (41)\ttotal: 1m 24s\tremaining: 32m 16s\n",
      "42:\tlearn: -0.4326400\ttest: -0.4326400\ttest1: -0.6740478\tbest: -0.6736154 (41)\ttotal: 1m 26s\tremaining: 32m 15s\n",
      "43:\tlearn: -0.4257981\ttest: -0.4257981\ttest1: -0.6684205\tbest: -0.6684205 (43)\ttotal: 1m 28s\tremaining: 32m 13s\n",
      "44:\tlearn: -0.4173224\ttest: -0.4173224\ttest1: -0.6661126\tbest: -0.6661126 (44)\ttotal: 1m 31s\tremaining: 32m 12s\n",
      "45:\tlearn: -0.4134307\ttest: -0.4134307\ttest1: -0.6659641\tbest: -0.6659641 (45)\ttotal: 1m 33s\tremaining: 32m 14s\n",
      "46:\tlearn: -0.4049525\ttest: -0.4049525\ttest1: -0.6622349\tbest: -0.6622349 (46)\ttotal: 1m 35s\tremaining: 32m 12s\n",
      "47:\tlearn: -0.3984483\ttest: -0.3984483\ttest1: -0.6609629\tbest: -0.6609629 (47)\ttotal: 1m 37s\tremaining: 32m 9s\n",
      "48:\tlearn: -0.3924363\ttest: -0.3924363\ttest1: -0.6589750\tbest: -0.6589750 (48)\ttotal: 1m 39s\tremaining: 32m 7s\n",
      "49:\tlearn: -0.3878126\ttest: -0.3878126\ttest1: -0.6599265\tbest: -0.6589750 (48)\ttotal: 1m 41s\tremaining: 32m 4s\n",
      "50:\tlearn: -0.3802611\ttest: -0.3802611\ttest1: -0.6606108\tbest: -0.6589750 (48)\ttotal: 1m 43s\tremaining: 32m 2s\n",
      "51:\tlearn: -0.3681928\ttest: -0.3681928\ttest1: -0.6564260\tbest: -0.6564260 (51)\ttotal: 1m 45s\tremaining: 32m 1s\n",
      "52:\tlearn: -0.3640832\ttest: -0.3640832\ttest1: -0.6557859\tbest: -0.6557859 (52)\ttotal: 1m 47s\tremaining: 31m 59s\n",
      "53:\tlearn: -0.3596981\ttest: -0.3596981\ttest1: -0.6561852\tbest: -0.6557859 (52)\ttotal: 1m 49s\tremaining: 31m 59s\n",
      "54:\tlearn: -0.3548693\ttest: -0.3548693\ttest1: -0.6555683\tbest: -0.6555683 (54)\ttotal: 1m 51s\tremaining: 31m 56s\n",
      "55:\tlearn: -0.3510951\ttest: -0.3510951\ttest1: -0.6538745\tbest: -0.6538745 (55)\ttotal: 1m 53s\tremaining: 31m 55s\n",
      "56:\tlearn: -0.3444628\ttest: -0.3444628\ttest1: -0.6534222\tbest: -0.6534222 (56)\ttotal: 1m 55s\tremaining: 31m 52s\n",
      "57:\tlearn: -0.3379879\ttest: -0.3379879\ttest1: -0.6539868\tbest: -0.6534222 (56)\ttotal: 1m 57s\tremaining: 31m 50s\n",
      "58:\tlearn: -0.3335773\ttest: -0.3335773\ttest1: -0.6519523\tbest: -0.6519523 (58)\ttotal: 1m 59s\tremaining: 31m 47s\n",
      "59:\tlearn: -0.3303047\ttest: -0.3303047\ttest1: -0.6514901\tbest: -0.6514901 (59)\ttotal: 2m 1s\tremaining: 31m 45s\n",
      "60:\tlearn: -0.3270739\ttest: -0.3270739\ttest1: -0.6506087\tbest: -0.6506087 (60)\ttotal: 2m 3s\tremaining: 31m 43s\n",
      "61:\tlearn: -0.3182784\ttest: -0.3182784\ttest1: -0.6517802\tbest: -0.6506087 (60)\ttotal: 2m 5s\tremaining: 31m 42s\n",
      "62:\tlearn: -0.3160212\ttest: -0.3160212\ttest1: -0.6506845\tbest: -0.6506087 (60)\ttotal: 2m 7s\tremaining: 31m 40s\n",
      "63:\tlearn: -0.3120900\ttest: -0.3120900\ttest1: -0.6485739\tbest: -0.6485739 (63)\ttotal: 2m 9s\tremaining: 31m 39s\n",
      "64:\tlearn: -0.3063047\ttest: -0.3063047\ttest1: -0.6482627\tbest: -0.6482627 (64)\ttotal: 2m 11s\tremaining: 31m 37s\n",
      "65:\tlearn: -0.3011799\ttest: -0.3011799\ttest1: -0.6455963\tbest: -0.6455963 (65)\ttotal: 2m 13s\tremaining: 31m 34s\n",
      "66:\tlearn: -0.2977138\ttest: -0.2977138\ttest1: -0.6452522\tbest: -0.6452522 (66)\ttotal: 2m 15s\tremaining: 31m 33s\n",
      "67:\tlearn: -0.2939925\ttest: -0.2939925\ttest1: -0.6442523\tbest: -0.6442523 (67)\ttotal: 2m 17s\tremaining: 31m 30s\n",
      "68:\tlearn: -0.2905404\ttest: -0.2905404\ttest1: -0.6440246\tbest: -0.6440246 (68)\ttotal: 2m 20s\tremaining: 31m 30s\n",
      "69:\tlearn: -0.2868049\ttest: -0.2868049\ttest1: -0.6440540\tbest: -0.6440246 (68)\ttotal: 2m 22s\tremaining: 31m 27s\n",
      "70:\tlearn: -0.2845289\ttest: -0.2845289\ttest1: -0.6436887\tbest: -0.6436887 (70)\ttotal: 2m 24s\tremaining: 31m 26s\n",
      "71:\tlearn: -0.2806441\ttest: -0.2806441\ttest1: -0.6453687\tbest: -0.6436887 (70)\ttotal: 2m 26s\tremaining: 31m 24s\n",
      "72:\tlearn: -0.2763004\ttest: -0.2763004\ttest1: -0.6459050\tbest: -0.6436887 (70)\ttotal: 2m 28s\tremaining: 31m 22s\n",
      "73:\tlearn: -0.2741429\ttest: -0.2741429\ttest1: -0.6459981\tbest: -0.6436887 (70)\ttotal: 2m 30s\tremaining: 31m 20s\n",
      "74:\tlearn: -0.2694148\ttest: -0.2694148\ttest1: -0.6458581\tbest: -0.6436887 (70)\ttotal: 2m 32s\tremaining: 31m 18s\n",
      "75:\tlearn: -0.2639450\ttest: -0.2639450\ttest1: -0.6454931\tbest: -0.6436887 (70)\ttotal: 2m 34s\tremaining: 31m 16s\n",
      "76:\tlearn: -0.2577407\ttest: -0.2577407\ttest1: -0.6432595\tbest: -0.6432595 (76)\ttotal: 2m 36s\tremaining: 31m 13s\n",
      "77:\tlearn: -0.2549065\ttest: -0.2549065\ttest1: -0.6435295\tbest: -0.6432595 (76)\ttotal: 2m 38s\tremaining: 31m 11s\n",
      "78:\tlearn: -0.2525471\ttest: -0.2525471\ttest1: -0.6434234\tbest: -0.6432595 (76)\ttotal: 2m 40s\tremaining: 31m 9s\n",
      "79:\tlearn: -0.2499453\ttest: -0.2499453\ttest1: -0.6433037\tbest: -0.6432595 (76)\ttotal: 2m 42s\tremaining: 31m 6s\n",
      "80:\tlearn: -0.2454955\ttest: -0.2454955\ttest1: -0.6432459\tbest: -0.6432459 (80)\ttotal: 2m 44s\tremaining: 31m 4s\n",
      "81:\tlearn: -0.2439428\ttest: -0.2439428\ttest1: -0.6427448\tbest: -0.6427448 (81)\ttotal: 2m 46s\tremaining: 31m 2s\n",
      "82:\tlearn: -0.2400411\ttest: -0.2400411\ttest1: -0.6444736\tbest: -0.6427448 (81)\ttotal: 2m 48s\tremaining: 31m 1s\n",
      "83:\tlearn: -0.2374337\ttest: -0.2374337\ttest1: -0.6456139\tbest: -0.6427448 (81)\ttotal: 2m 50s\tremaining: 30m 59s\n",
      "84:\tlearn: -0.2331185\ttest: -0.2331185\ttest1: -0.6471083\tbest: -0.6427448 (81)\ttotal: 2m 52s\tremaining: 30m 57s\n",
      "85:\tlearn: -0.2308855\ttest: -0.2308855\ttest1: -0.6486004\tbest: -0.6427448 (81)\ttotal: 2m 54s\tremaining: 30m 54s\n",
      "86:\tlearn: -0.2272399\ttest: -0.2272399\ttest1: -0.6493175\tbest: -0.6427448 (81)\ttotal: 2m 56s\tremaining: 30m 52s\n",
      "87:\tlearn: -0.2257482\ttest: -0.2257482\ttest1: -0.6476617\tbest: -0.6427448 (81)\ttotal: 2m 58s\tremaining: 30m 51s\n",
      "88:\tlearn: -0.2215385\ttest: -0.2215385\ttest1: -0.6461696\tbest: -0.6427448 (81)\ttotal: 3m\tremaining: 30m 50s\n",
      "89:\tlearn: -0.2179271\ttest: -0.2179271\ttest1: -0.6456676\tbest: -0.6427448 (81)\ttotal: 3m 2s\tremaining: 30m 48s\n",
      "90:\tlearn: -0.2155442\ttest: -0.2155442\ttest1: -0.6458279\tbest: -0.6427448 (81)\ttotal: 3m 4s\tremaining: 30m 47s\n",
      "91:\tlearn: -0.2119551\ttest: -0.2119551\ttest1: -0.6480827\tbest: -0.6427448 (81)\ttotal: 3m 6s\tremaining: 30m 44s\n",
      "92:\tlearn: -0.2091571\ttest: -0.2091571\ttest1: -0.6470111\tbest: -0.6427448 (81)\ttotal: 3m 9s\tremaining: 30m 43s\n",
      "93:\tlearn: -0.2058333\ttest: -0.2058333\ttest1: -0.6472605\tbest: -0.6427448 (81)\ttotal: 3m 11s\tremaining: 30m 40s\n",
      "94:\tlearn: -0.2041508\ttest: -0.2041508\ttest1: -0.6468023\tbest: -0.6427448 (81)\ttotal: 3m 12s\tremaining: 30m 38s\n",
      "95:\tlearn: -0.2014736\ttest: -0.2014736\ttest1: -0.6458008\tbest: -0.6427448 (81)\ttotal: 3m 15s\tremaining: 30m 36s\n",
      "96:\tlearn: -0.2006263\ttest: -0.2006263\ttest1: -0.6461120\tbest: -0.6427448 (81)\ttotal: 3m 17s\tremaining: 30m 34s\n",
      "97:\tlearn: -0.1987380\ttest: -0.1987380\ttest1: -0.6468552\tbest: -0.6427448 (81)\ttotal: 3m 19s\tremaining: 30m 32s\n",
      "98:\tlearn: -0.1978496\ttest: -0.1978496\ttest1: -0.6484722\tbest: -0.6427448 (81)\ttotal: 3m 21s\tremaining: 30m 30s\n",
      "99:\tlearn: -0.1947180\ttest: -0.1947180\ttest1: -0.6492392\tbest: -0.6427448 (81)\ttotal: 3m 23s\tremaining: 30m 29s\n",
      "100:\tlearn: -0.1929404\ttest: -0.1929404\ttest1: -0.6500303\tbest: -0.6427448 (81)\ttotal: 3m 25s\tremaining: 30m 27s\n",
      "101:\tlearn: -0.1907179\ttest: -0.1907179\ttest1: -0.6500350\tbest: -0.6427448 (81)\ttotal: 3m 27s\tremaining: 30m 25s\n",
      "102:\tlearn: -0.1902455\ttest: -0.1902455\ttest1: -0.6503322\tbest: -0.6427448 (81)\ttotal: 3m 29s\tremaining: 30m 23s\n",
      "103:\tlearn: -0.1884079\ttest: -0.1884079\ttest1: -0.6490195\tbest: -0.6427448 (81)\ttotal: 3m 31s\tremaining: 30m 20s\n",
      "104:\tlearn: -0.1868627\ttest: -0.1868627\ttest1: -0.6489118\tbest: -0.6427448 (81)\ttotal: 3m 33s\tremaining: 30m 17s\n",
      "105:\tlearn: -0.1857377\ttest: -0.1857377\ttest1: -0.6486910\tbest: -0.6427448 (81)\ttotal: 3m 35s\tremaining: 30m 14s\n",
      "106:\tlearn: -0.1832160\ttest: -0.1832160\ttest1: -0.6484671\tbest: -0.6427448 (81)\ttotal: 3m 37s\tremaining: 30m 13s\n",
      "107:\tlearn: -0.1782800\ttest: -0.1782800\ttest1: -0.6489060\tbest: -0.6427448 (81)\ttotal: 3m 39s\tremaining: 30m 11s\n",
      "108:\tlearn: -0.1746198\ttest: -0.1746198\ttest1: -0.6463424\tbest: -0.6427448 (81)\ttotal: 3m 41s\tremaining: 30m 9s\n",
      "109:\tlearn: -0.1733058\ttest: -0.1733058\ttest1: -0.6457825\tbest: -0.6427448 (81)\ttotal: 3m 43s\tremaining: 30m 6s\n",
      "110:\tlearn: -0.1720990\ttest: -0.1720990\ttest1: -0.6446042\tbest: -0.6427448 (81)\ttotal: 3m 45s\tremaining: 30m 3s\n",
      "111:\tlearn: -0.1702271\ttest: -0.1702271\ttest1: -0.6447017\tbest: -0.6427448 (81)\ttotal: 3m 47s\tremaining: 30m 1s\n",
      "112:\tlearn: -0.1686253\ttest: -0.1686253\ttest1: -0.6446856\tbest: -0.6427448 (81)\ttotal: 3m 49s\tremaining: 29m 59s\n",
      "113:\tlearn: -0.1643024\ttest: -0.1643024\ttest1: -0.6419522\tbest: -0.6419522 (113)\ttotal: 3m 51s\tremaining: 29m 58s\n",
      "114:\tlearn: -0.1607744\ttest: -0.1607744\ttest1: -0.6411692\tbest: -0.6411692 (114)\ttotal: 3m 53s\tremaining: 29m 57s\n",
      "115:\tlearn: -0.1594433\ttest: -0.1594433\ttest1: -0.6409301\tbest: -0.6409301 (115)\ttotal: 3m 55s\tremaining: 29m 54s\n",
      "116:\tlearn: -0.1576930\ttest: -0.1576930\ttest1: -0.6408048\tbest: -0.6408048 (116)\ttotal: 3m 57s\tremaining: 29m 52s\n",
      "117:\tlearn: -0.1562278\ttest: -0.1562278\ttest1: -0.6419461\tbest: -0.6408048 (116)\ttotal: 3m 59s\tremaining: 29m 49s\n",
      "118:\tlearn: -0.1547165\ttest: -0.1547165\ttest1: -0.6420257\tbest: -0.6408048 (116)\ttotal: 4m 1s\tremaining: 29m 46s\n",
      "119:\tlearn: -0.1528295\ttest: -0.1528295\ttest1: -0.6423594\tbest: -0.6408048 (116)\ttotal: 4m 3s\tremaining: 29m 44s\n",
      "120:\tlearn: -0.1519570\ttest: -0.1519570\ttest1: -0.6413983\tbest: -0.6408048 (116)\ttotal: 4m 5s\tremaining: 29m 42s\n",
      "121:\tlearn: -0.1503208\ttest: -0.1503208\ttest1: -0.6405692\tbest: -0.6405692 (121)\ttotal: 4m 7s\tremaining: 29m 40s\n",
      "122:\tlearn: -0.1472256\ttest: -0.1472256\ttest1: -0.6405201\tbest: -0.6405201 (122)\ttotal: 4m 9s\tremaining: 29m 38s\n",
      "123:\tlearn: -0.1444101\ttest: -0.1444101\ttest1: -0.6429100\tbest: -0.6405201 (122)\ttotal: 4m 11s\tremaining: 29m 36s\n",
      "124:\tlearn: -0.1432602\ttest: -0.1432602\ttest1: -0.6429725\tbest: -0.6405201 (122)\ttotal: 4m 13s\tremaining: 29m 33s\n",
      "125:\tlearn: -0.1420506\ttest: -0.1420506\ttest1: -0.6444206\tbest: -0.6405201 (122)\ttotal: 4m 15s\tremaining: 29m 31s\n",
      "126:\tlearn: -0.1400430\ttest: -0.1400430\ttest1: -0.6448098\tbest: -0.6405201 (122)\ttotal: 4m 17s\tremaining: 29m 29s\n",
      "127:\tlearn: -0.1381491\ttest: -0.1381491\ttest1: -0.6450050\tbest: -0.6405201 (122)\ttotal: 4m 19s\tremaining: 29m 28s\n",
      "128:\tlearn: -0.1369577\ttest: -0.1369577\ttest1: -0.6458137\tbest: -0.6405201 (122)\ttotal: 4m 21s\tremaining: 29m 26s\n",
      "129:\tlearn: -0.1350387\ttest: -0.1350387\ttest1: -0.6468104\tbest: -0.6405201 (122)\ttotal: 4m 23s\tremaining: 29m 24s\n",
      "130:\tlearn: -0.1333530\ttest: -0.1333530\ttest1: -0.6466967\tbest: -0.6405201 (122)\ttotal: 4m 25s\tremaining: 29m 23s\n",
      "131:\tlearn: -0.1316715\ttest: -0.1316715\ttest1: -0.6468858\tbest: -0.6405201 (122)\ttotal: 4m 27s\tremaining: 29m 20s\n",
      "132:\tlearn: -0.1305889\ttest: -0.1305889\ttest1: -0.6466451\tbest: -0.6405201 (122)\ttotal: 4m 29s\tremaining: 29m 19s\n",
      "133:\tlearn: -0.1284628\ttest: -0.1284628\ttest1: -0.6471229\tbest: -0.6405201 (122)\ttotal: 4m 31s\tremaining: 29m 17s\n",
      "134:\tlearn: -0.1276148\ttest: -0.1276148\ttest1: -0.6478871\tbest: -0.6405201 (122)\ttotal: 4m 33s\tremaining: 29m 14s\n",
      "135:\tlearn: -0.1267124\ttest: -0.1267124\ttest1: -0.6479210\tbest: -0.6405201 (122)\ttotal: 4m 35s\tremaining: 29m 12s\n",
      "136:\tlearn: -0.1249703\ttest: -0.1249703\ttest1: -0.6480621\tbest: -0.6405201 (122)\ttotal: 4m 37s\tremaining: 29m 11s\n",
      "137:\tlearn: -0.1241613\ttest: -0.1241613\ttest1: -0.6478825\tbest: -0.6405201 (122)\ttotal: 4m 40s\tremaining: 29m 9s\n",
      "138:\tlearn: -0.1228860\ttest: -0.1228860\ttest1: -0.6480055\tbest: -0.6405201 (122)\ttotal: 4m 42s\tremaining: 29m 7s\n",
      "139:\tlearn: -0.1222453\ttest: -0.1222453\ttest1: -0.6483454\tbest: -0.6405201 (122)\ttotal: 4m 44s\tremaining: 29m 5s\n",
      "140:\tlearn: -0.1215020\ttest: -0.1215020\ttest1: -0.6479693\tbest: -0.6405201 (122)\ttotal: 4m 46s\tremaining: 29m 3s\n",
      "141:\tlearn: -0.1198308\ttest: -0.1198308\ttest1: -0.6501240\tbest: -0.6405201 (122)\ttotal: 4m 48s\tremaining: 29m 1s\n",
      "142:\tlearn: -0.1189465\ttest: -0.1189465\ttest1: -0.6500085\tbest: -0.6405201 (122)\ttotal: 4m 50s\tremaining: 29m\n",
      "143:\tlearn: -0.1183615\ttest: -0.1183615\ttest1: -0.6498480\tbest: -0.6405201 (122)\ttotal: 4m 52s\tremaining: 28m 57s\n",
      "144:\tlearn: -0.1158137\ttest: -0.1158137\ttest1: -0.6486530\tbest: -0.6405201 (122)\ttotal: 4m 54s\tremaining: 28m 54s\n",
      "145:\tlearn: -0.1140376\ttest: -0.1140376\ttest1: -0.6482431\tbest: -0.6405201 (122)\ttotal: 4m 56s\tremaining: 28m 53s\n",
      "146:\tlearn: -0.1123781\ttest: -0.1123781\ttest1: -0.6473233\tbest: -0.6405201 (122)\ttotal: 4m 58s\tremaining: 28m 51s\n",
      "147:\tlearn: -0.1112100\ttest: -0.1112100\ttest1: -0.6478906\tbest: -0.6405201 (122)\ttotal: 5m\tremaining: 28m 49s\n",
      "148:\tlearn: -0.1104304\ttest: -0.1104304\ttest1: -0.6472256\tbest: -0.6405201 (122)\ttotal: 5m 2s\tremaining: 28m 47s\n",
      "149:\tlearn: -0.1083462\ttest: -0.1083462\ttest1: -0.6464894\tbest: -0.6405201 (122)\ttotal: 5m 4s\tremaining: 28m 44s\n",
      "150:\tlearn: -0.1074446\ttest: -0.1074446\ttest1: -0.6466208\tbest: -0.6405201 (122)\ttotal: 5m 6s\tremaining: 28m 42s\n",
      "151:\tlearn: -0.1069930\ttest: -0.1069930\ttest1: -0.6466207\tbest: -0.6405201 (122)\ttotal: 5m 8s\tremaining: 28m 40s\n",
      "152:\tlearn: -0.1062061\ttest: -0.1062061\ttest1: -0.6472137\tbest: -0.6405201 (122)\ttotal: 5m 10s\tremaining: 28m 38s\n",
      "153:\tlearn: -0.1056893\ttest: -0.1056893\ttest1: -0.6476471\tbest: -0.6405201 (122)\ttotal: 5m 12s\tremaining: 28m 36s\n",
      "154:\tlearn: -0.1046081\ttest: -0.1046081\ttest1: -0.6482686\tbest: -0.6405201 (122)\ttotal: 5m 14s\tremaining: 28m 33s\n",
      "155:\tlearn: -0.1034701\ttest: -0.1034701\ttest1: -0.6491152\tbest: -0.6405201 (122)\ttotal: 5m 16s\tremaining: 28m 31s\n",
      "156:\tlearn: -0.1019219\ttest: -0.1019219\ttest1: -0.6492227\tbest: -0.6405201 (122)\ttotal: 5m 18s\tremaining: 28m 29s\n",
      "157:\tlearn: -0.1015094\ttest: -0.1015094\ttest1: -0.6488889\tbest: -0.6405201 (122)\ttotal: 5m 20s\tremaining: 28m 27s\n",
      "158:\tlearn: -0.0994556\ttest: -0.0994556\ttest1: -0.6508527\tbest: -0.6405201 (122)\ttotal: 5m 22s\tremaining: 28m 25s\n",
      "159:\tlearn: -0.0986353\ttest: -0.0986353\ttest1: -0.6515609\tbest: -0.6405201 (122)\ttotal: 5m 24s\tremaining: 28m 23s\n",
      "160:\tlearn: -0.0974563\ttest: -0.0974563\ttest1: -0.6512099\tbest: -0.6405201 (122)\ttotal: 5m 26s\tremaining: 28m 21s\n",
      "161:\tlearn: -0.0966862\ttest: -0.0966862\ttest1: -0.6522474\tbest: -0.6405201 (122)\ttotal: 5m 28s\tremaining: 28m 18s\n",
      "162:\tlearn: -0.0960062\ttest: -0.0960062\ttest1: -0.6535548\tbest: -0.6405201 (122)\ttotal: 5m 30s\tremaining: 28m 16s\n",
      "163:\tlearn: -0.0945629\ttest: -0.0945629\ttest1: -0.6553322\tbest: -0.6405201 (122)\ttotal: 5m 32s\tremaining: 28m 14s\n",
      "164:\tlearn: -0.0935653\ttest: -0.0935653\ttest1: -0.6569670\tbest: -0.6405201 (122)\ttotal: 5m 34s\tremaining: 28m 12s\n",
      "165:\tlearn: -0.0932128\ttest: -0.0932128\ttest1: -0.6570689\tbest: -0.6405201 (122)\ttotal: 5m 36s\tremaining: 28m 10s\n",
      "166:\tlearn: -0.0926279\ttest: -0.0926279\ttest1: -0.6568796\tbest: -0.6405201 (122)\ttotal: 5m 38s\tremaining: 28m 8s\n",
      "167:\tlearn: -0.0918068\ttest: -0.0918068\ttest1: -0.6561456\tbest: -0.6405201 (122)\ttotal: 5m 40s\tremaining: 28m 6s\n",
      "168:\tlearn: -0.0897027\ttest: -0.0897027\ttest1: -0.6557773\tbest: -0.6405201 (122)\ttotal: 5m 42s\tremaining: 28m 4s\n",
      "169:\tlearn: -0.0887893\ttest: -0.0887893\ttest1: -0.6567962\tbest: -0.6405201 (122)\ttotal: 5m 44s\tremaining: 28m 2s\n",
      "170:\tlearn: -0.0883287\ttest: -0.0883287\ttest1: -0.6576596\tbest: -0.6405201 (122)\ttotal: 5m 46s\tremaining: 28m\n",
      "171:\tlearn: -0.0873319\ttest: -0.0873319\ttest1: -0.6590419\tbest: -0.6405201 (122)\ttotal: 5m 48s\tremaining: 27m 58s\n",
      "172:\tlearn: -0.0862846\ttest: -0.0862846\ttest1: -0.6606444\tbest: -0.6405201 (122)\ttotal: 5m 50s\tremaining: 27m 56s\n",
      "Stopped by overfitting detector  (50 iterations wait)\n",
      "\n",
      "bestTest = -0.640520125\n",
      "bestIteration = 122\n",
      "\n",
      "Shrink model to first 123 iterations.\n",
      "CPU times: user 2h 42min 3s, sys: 30min 26s, total: 3h 12min 30s\n",
      "Wall time: 5min 51s\n"
     ]
    },
    {
     "data": {
      "text/plain": [
       "<catboost.core.CatBoostClassifier at 0x7f11da3855f8>"
      ]
     },
     "execution_count": 52,
     "metadata": {},
     "output_type": "execute_result"
    }
   ],
   "source": [
    "%%time\n",
    "#xgb_model.fit(X_train, y_train, verbose=100, eval_set=[(X_train, y_train), (X_test, y_test)], early_stopping_rounds=50)\n",
    "cat_model.fit(X_train, y=y_train, eval_set=[(X_train, y_train), (X_test, y_test)], early_stopping_rounds=50)"
   ]
  },
  {
   "cell_type": "code",
   "execution_count": 54,
   "metadata": {},
   "outputs": [
    {
     "ename": "CatboostError",
     "evalue": "catboost/libs/labels/external_label_helper.cpp:80: Can't convert bad label back to class name.",
     "output_type": "error",
     "traceback": [
      "\u001b[0;31m---------------------------------------------------------------------------\u001b[0m",
      "\u001b[0;31mCatboostError\u001b[0m                             Traceback (most recent call last)",
      "\u001b[0;32m<ipython-input-54-73d276d53811>\u001b[0m in \u001b[0;36m<module>\u001b[0;34m\u001b[0m\n\u001b[0;32m----> 1\u001b[0;31m \u001b[0mcat_model\u001b[0m\u001b[0;34m.\u001b[0m\u001b[0mscore\u001b[0m\u001b[0;34m(\u001b[0m\u001b[0mX_test\u001b[0m\u001b[0;34m,\u001b[0m \u001b[0my_test\u001b[0m\u001b[0;34m)\u001b[0m\u001b[0;34m\u001b[0m\u001b[0;34m\u001b[0m\u001b[0m\n\u001b[0m",
      "\u001b[0;32m~/miniconda3/envs/plasticc/lib/python3.6/site-packages/catboost/core.py\u001b[0m in \u001b[0;36mscore\u001b[0;34m(self, X, y)\u001b[0m\n",
      "\u001b[0;32m~/miniconda3/envs/plasticc/lib/python3.6/site-packages/catboost/core.py\u001b[0m in \u001b[0;36mpredict\u001b[0;34m(self, data, prediction_type, ntree_start, ntree_end, thread_count, verbose)\u001b[0m\n",
      "\u001b[0;32m~/miniconda3/envs/plasticc/lib/python3.6/site-packages/catboost/core.py\u001b[0m in \u001b[0;36m_predict\u001b[0;34m(self, data, prediction_type, ntree_start, ntree_end, thread_count, verbose)\u001b[0m\n\u001b[1;32m   1267\u001b[0m         \u001b[0my\u001b[0m \u001b[0;34m:\u001b[0m \u001b[0mlist\u001b[0m \u001b[0;32mor\u001b[0m \u001b[0mnumpy\u001b[0m\u001b[0;34m.\u001b[0m\u001b[0marray\u001b[0m \u001b[0;32mor\u001b[0m \u001b[0mpandas\u001b[0m\u001b[0;34m.\u001b[0m\u001b[0mDataFrame\u001b[0m \u001b[0;32mor\u001b[0m \u001b[0mpandas\u001b[0m\u001b[0;34m.\u001b[0m\u001b[0mSeries\u001b[0m\u001b[0;34m,\u001b[0m \u001b[0moptional\u001b[0m \u001b[0;34m(\u001b[0m\u001b[0mdefault\u001b[0m\u001b[0;34m=\u001b[0m\u001b[0;32mNone\u001b[0m\u001b[0;34m)\u001b[0m\u001b[0;34m\u001b[0m\u001b[0;34m\u001b[0m\u001b[0m\n\u001b[1;32m   1268\u001b[0m             \u001b[0mLabels\u001b[0m\u001b[0;34m,\u001b[0m \u001b[0;36m1\u001b[0m \u001b[0mdimensional\u001b[0m \u001b[0marray\u001b[0m \u001b[0mlike\u001b[0m\u001b[0;34m.\u001b[0m\u001b[0;34m\u001b[0m\u001b[0;34m\u001b[0m\u001b[0m\n\u001b[0;32m-> 1269\u001b[0;31m             \u001b[0mUse\u001b[0m \u001b[0monly\u001b[0m \u001b[0;32mif\u001b[0m \u001b[0mX\u001b[0m \u001b[0;32mis\u001b[0m \u001b[0;32mnot\u001b[0m \u001b[0mPool\u001b[0m\u001b[0;34m.\u001b[0m\u001b[0;34m\u001b[0m\u001b[0;34m\u001b[0m\u001b[0m\n\u001b[0m\u001b[1;32m   1270\u001b[0m \u001b[0;34m\u001b[0m\u001b[0m\n\u001b[1;32m   1271\u001b[0m         \u001b[0mcat_features\u001b[0m \u001b[0;34m:\u001b[0m \u001b[0mlist\u001b[0m \u001b[0;32mor\u001b[0m \u001b[0mnumpy\u001b[0m\u001b[0;34m.\u001b[0m\u001b[0marray\u001b[0m\u001b[0;34m,\u001b[0m \u001b[0moptional\u001b[0m \u001b[0;34m(\u001b[0m\u001b[0mdefault\u001b[0m\u001b[0;34m=\u001b[0m\u001b[0;32mNone\u001b[0m\u001b[0;34m)\u001b[0m\u001b[0;34m\u001b[0m\u001b[0;34m\u001b[0m\u001b[0m\n",
      "\u001b[0;32m~/miniconda3/envs/plasticc/lib/python3.6/site-packages/catboost/core.py\u001b[0m in \u001b[0;36m_base_predict_multi\u001b[0;34m(self, pool, prediction_type, ntree_start, ntree_end, thread_count, verbose)\u001b[0m\n\u001b[1;32m    873\u001b[0m                 \u001b[0;32mraise\u001b[0m \u001b[0mCatboostError\u001b[0m\u001b[0;34m(\u001b[0m\u001b[0;34m\"y has not initialized in feature_importances(): X is not Pool object, y must be not None in feature_importances().\"\u001b[0m\u001b[0;34m)\u001b[0m\u001b[0;34m\u001b[0m\u001b[0;34m\u001b[0m\u001b[0m\n\u001b[1;32m    874\u001b[0m             \u001b[0;32mif\u001b[0m \u001b[0mlen\u001b[0m\u001b[0;34m(\u001b[0m\u001b[0mnp\u001b[0m\u001b[0;34m.\u001b[0m\u001b[0mshape\u001b[0m\u001b[0;34m(\u001b[0m\u001b[0mX\u001b[0m\u001b[0;34m)\u001b[0m\u001b[0;34m)\u001b[0m \u001b[0;34m==\u001b[0m \u001b[0;36m1\u001b[0m \u001b[0;32mand\u001b[0m \u001b[0mlen\u001b[0m\u001b[0;34m(\u001b[0m\u001b[0mnp\u001b[0m\u001b[0;34m.\u001b[0m\u001b[0mshape\u001b[0m\u001b[0;34m(\u001b[0m\u001b[0my\u001b[0m\u001b[0;34m)\u001b[0m\u001b[0;34m)\u001b[0m \u001b[0;34m==\u001b[0m \u001b[0;36m0\u001b[0m\u001b[0;34m:\u001b[0m\u001b[0;34m\u001b[0m\u001b[0;34m\u001b[0m\u001b[0m\n\u001b[0;32m--> 875\u001b[0;31m                 \u001b[0mX\u001b[0m\u001b[0;34m,\u001b[0m \u001b[0my\u001b[0m \u001b[0;34m=\u001b[0m \u001b[0;34m[\u001b[0m\u001b[0mX\u001b[0m\u001b[0;34m]\u001b[0m\u001b[0;34m,\u001b[0m \u001b[0;34m[\u001b[0m\u001b[0my\u001b[0m\u001b[0;34m]\u001b[0m\u001b[0;34m\u001b[0m\u001b[0;34m\u001b[0m\u001b[0m\n\u001b[0m\u001b[1;32m    876\u001b[0m             \u001b[0;32mif\u001b[0m \u001b[0mlen\u001b[0m\u001b[0;34m(\u001b[0m\u001b[0mnp\u001b[0m\u001b[0;34m.\u001b[0m\u001b[0mshape\u001b[0m\u001b[0;34m(\u001b[0m\u001b[0mX\u001b[0m\u001b[0;34m)\u001b[0m\u001b[0;34m)\u001b[0m \u001b[0;34m!=\u001b[0m \u001b[0;36m2\u001b[0m\u001b[0;34m:\u001b[0m\u001b[0;34m\u001b[0m\u001b[0;34m\u001b[0m\u001b[0m\n\u001b[1;32m    877\u001b[0m                 \u001b[0;32mraise\u001b[0m \u001b[0mCatboostError\u001b[0m\u001b[0;34m(\u001b[0m\u001b[0;34m\"X has invalid shape or empty: {}. Must be 2 dimensional\"\u001b[0m\u001b[0;34m.\u001b[0m\u001b[0mformat\u001b[0m\u001b[0;34m(\u001b[0m\u001b[0mnp\u001b[0m\u001b[0;34m.\u001b[0m\u001b[0mshape\u001b[0m\u001b[0;34m(\u001b[0m\u001b[0mX\u001b[0m\u001b[0;34m)\u001b[0m\u001b[0;34m)\u001b[0m\u001b[0;34m)\u001b[0m\u001b[0;34m\u001b[0m\u001b[0;34m\u001b[0m\u001b[0m\n",
      "\u001b[0;32m_catboost.pyx\u001b[0m in \u001b[0;36m_catboost._CatBoost._base_predict_multi\u001b[0;34m()\u001b[0m\n",
      "\u001b[0;32m_catboost.pyx\u001b[0m in \u001b[0;36m_catboost._CatBoost._base_predict_multi\u001b[0;34m()\u001b[0m\n",
      "\u001b[0;32m_catboost.pyx\u001b[0m in \u001b[0;36m_catboost._convert_to_visible_labels\u001b[0;34m()\u001b[0m\n",
      "\u001b[0;31mCatboostError\u001b[0m: catboost/libs/labels/external_label_helper.cpp:80: Can't convert bad label back to class name."
     ]
    }
   ],
   "source": [
    "cat_model.score(X_test, y_test)"
   ]
  },
  {
   "cell_type": "code",
   "execution_count": 19,
   "metadata": {},
   "outputs": [
    {
     "data": {
      "image/png": "[encoded data removed]",
      "text/plain": [
       "<Figure size 432x1080 with 1 Axes>"
      ]
     },
     "metadata": {
      "needs_background": "light"
     },
     "output_type": "display_data"
    }
   ],
   "source": [
    "plot_feature_importances(xgb_model, X_test.columns)"
   ]
  },
  {
   "cell_type": "markdown",
   "metadata": {},
   "source": [
    "### Train model on tsfresh dataset"
   ]
  },
  {
   "cell_type": "code",
   "execution_count": 20,
   "metadata": {},
   "outputs": [],
   "source": [
    "#TODO"
   ]
  },
  {
   "cell_type": "markdown",
   "metadata": {},
   "source": [
    "### Calculate feature imporatnce for selecting optimal tsfresh features"
   ]
  },
  {
   "cell_type": "code",
   "execution_count": 21,
   "metadata": {},
   "outputs": [],
   "source": [
    "import seaborn as sns\n",
    "import matplotlib.pyplot as plt\n",
    "from scipy.stats import describe\n",
    "import tsfresh\n",
    "import pandas as pd"
   ]
  },
  {
   "cell_type": "code",
   "execution_count": 22,
   "metadata": {},
   "outputs": [],
   "source": [
    "def to_tsfresh_format(feature_set: set, train_X: pd.DataFrame) -> dict:\n",
    "    \"\"\" Converts a set of features names into tsfresh-acceptable settings dict. \"\"\"\n",
    "    df_selected = train_X[list(feature_set)]\n",
    "    return tsfresh.feature_extraction.settings.from_columns(df_selected)\n",
    "\n",
    "def select_features_from_trained_model(model, train_X: pd.DataFrame, meta_columns: set, verbose=True) -> set:\n",
    "    \"\"\"\n",
    "    Extracts a set of relevant features from trained model.\n",
    "    Parameters:\n",
    "    - train_X should be the X used to train the model\n",
    "    - meta_columns should contain column names that will be excluded from the tsfresh selection (columns from metadata, not the time series)\n",
    "    \"\"\"\n",
    "    print(describe(model.feature_importances_))\n",
    "    features = pd.Series(model.feature_importances_, index=train_X.columns)\n",
    "    print(\"Most relevant features for the model:\", features.sort_values().tail(10))\n",
    "    # calculating how much data is lost based on minimal importance level\n",
    "    N_THRESHOLDS = 1000\n",
    "    select_crit = np.zeros(N_THRESHOLDS)\n",
    "    select_min = np.zeros(N_THRESHOLDS)\n",
    "    for i, q in enumerate(np.linspace(features.min(), features.max(), N_THRESHOLDS, endpoint=False)):\n",
    "        selected = features[features > q]\n",
    "        select_crit[i] = selected.min() * len(selected) / len(features)\n",
    "        select_min[i] = selected.min()\n",
    "    # choosing minimum importance level that maximizes (selected feature count * minimal selected feature importance)\n",
    "    min_importance = select_min[np.argmax(select_crit)]\n",
    "    selected_features = set(features[features > min_importance].index) - meta_columns\n",
    "    if verbose:\n",
    "        print(f\"Selected minimal importance: {min_importance}\", f\"Number of selected features: {len(selected_features)}\")\n",
    "        plt.plot(select_crit)\n",
    "        plt.show()\n",
    "    return selected_features, features"
   ]
  },
  {
   "cell_type": "code",
   "execution_count": 23,
   "metadata": {},
   "outputs": [],
   "source": [
    "meta_columns = set(Dataset('../data/sets/base/').train_meta.columns)"
   ]
  },
  {
   "cell_type": "code",
   "execution_count": 24,
   "metadata": {},
   "outputs": [
    {
     "ename": "NameError",
     "evalue": "name 'model1' is not defined",
     "output_type": "error",
     "traceback": [
      "\u001b[0;31m---------------------------------------------------------------------------\u001b[0m",
      "\u001b[0;31mNameError\u001b[0m                                 Traceback (most recent call last)",
      "\u001b[0;32m<ipython-input-24-d5209c43e645>\u001b[0m in \u001b[0;36m<module>\u001b[0;34m\u001b[0m\n\u001b[0;32m----> 1\u001b[0;31m \u001b[0mxgb_fset\u001b[0m\u001b[0;34m,\u001b[0m \u001b[0mxgb_feature_importance\u001b[0m \u001b[0;34m=\u001b[0m \u001b[0mselect_features_from_trained_model\u001b[0m\u001b[0;34m(\u001b[0m\u001b[0mmodel1\u001b[0m\u001b[0;34m,\u001b[0m \u001b[0mX\u001b[0m\u001b[0;34m,\u001b[0m \u001b[0mmeta_columns\u001b[0m\u001b[0;34m)\u001b[0m\u001b[0;34m\u001b[0m\u001b[0;34m\u001b[0m\u001b[0m\n\u001b[0m",
      "\u001b[0;31mNameError\u001b[0m: name 'model1' is not defined"
     ]
    }
   ],
   "source": [
    "xgb_fset, xgb_feature_importance = select_features_from_trained_model(model1, X, meta_columns)"
   ]
  },
  {
   "cell_type": "code",
   "execution_count": null,
   "metadata": {},
   "outputs": [],
   "source": [
    "skl_fset, skl_feature_importance = select_features_from_trained_model(model2, X, meta_columns)"
   ]
  },
  {
   "cell_type": "code",
   "execution_count": null,
   "metadata": {},
   "outputs": [],
   "source": [
    "important_for_both = xgb_fset & skl_fset"
   ]
  },
  {
   "cell_type": "code",
   "execution_count": null,
   "metadata": {},
   "outputs": [],
   "source": [
    "len(important_for_both)"
   ]
  },
  {
   "cell_type": "code",
   "execution_count": null,
   "metadata": {},
   "outputs": [],
   "source": [
    "common_dict = to_tsfresh_format(important_for_both, X)"
   ]
  },
  {
   "cell_type": "code",
   "execution_count": null,
   "metadata": {},
   "outputs": [],
   "source": [
    "type(common_dict)"
   ]
  },
  {
   "cell_type": "markdown",
   "metadata": {},
   "source": [
    "#### Decrease number of features\n",
    "There are some inconsistencies when it comes to which features are extracted for which series.\n",
    "We will limit extracted features to those relevant for most of the 6 series for now."
   ]
  },
  {
   "cell_type": "code",
   "execution_count": null,
   "metadata": {},
   "outputs": [],
   "source": [
    "keyset = set()\n",
    "for i in range(6):\n",
    "    keyset |= set(common_dict[str(i)].keys())"
   ]
  },
  {
   "cell_type": "code",
   "execution_count": null,
   "metadata": {},
   "outputs": [],
   "source": [
    "len(keyset)"
   ]
  },
  {
   "cell_type": "code",
   "execution_count": null,
   "metadata": {},
   "outputs": [],
   "source": [
    "feature_counts = dict()\n",
    "for feature in keyset:\n",
    "    for i in range(6):\n",
    "        for key in common_dict[str(i)].keys():\n",
    "            if feature in key:\n",
    "                try:\n",
    "                    feature_counts[feature] += 1\n",
    "                except KeyError:\n",
    "                    feature_counts[feature] = 1"
   ]
  },
  {
   "cell_type": "code",
   "execution_count": null,
   "metadata": {},
   "outputs": [],
   "source": [
    "feature_counts = pd.Series(feature_counts)"
   ]
  },
  {
   "cell_type": "code",
   "execution_count": null,
   "metadata": {},
   "outputs": [],
   "source": [
    "feature_counts.sort_values(ascending=False)"
   ]
  },
  {
   "cell_type": "code",
   "execution_count": null,
   "metadata": {},
   "outputs": [],
   "source": [
    "feature_counts.sort_values(ascending=False).mean()"
   ]
  },
  {
   "cell_type": "code",
   "execution_count": null,
   "metadata": {},
   "outputs": [],
   "source": [
    "final_features = set(feature_counts[feature_counts > 4].index)"
   ]
  },
  {
   "cell_type": "code",
   "execution_count": null,
   "metadata": {},
   "outputs": [],
   "source": [
    "final_features"
   ]
  },
  {
   "cell_type": "markdown",
   "metadata": {},
   "source": [
    "### Save feature dict for tsfresh feature generator to use"
   ]
  },
  {
   "cell_type": "code",
   "execution_count": null,
   "metadata": {},
   "outputs": [],
   "source": [
    "import pickle\n",
    "\n",
    "from tsfresh.feature_extraction.settings import ComprehensiveFCParameters"
   ]
  },
  {
   "cell_type": "code",
   "execution_count": null,
   "metadata": {},
   "outputs": [],
   "source": [
    "settings = ComprehensiveFCParameters()\n",
    "comprehensive_keys = set(settings.keys())\n",
    "for key in comprehensive_keys:\n",
    "    if key not in final_features:\n",
    "        del settings[key]"
   ]
  },
  {
   "cell_type": "code",
   "execution_count": null,
   "metadata": {},
   "outputs": [],
   "source": [
    "with open('../data/config/tsfresh-settings.pkl', 'wb+') as file:\n",
    "    pickle.dump(settings, file)"
   ]
  },
  {
   "cell_type": "code",
   "execution_count": null,
   "metadata": {},
   "outputs": [],
   "source": [
    "model1.classes_"
   ]
  },
  {
   "cell_type": "code",
   "execution_count": null,
   "metadata": {},
   "outputs": [],
   "source": []
  },
  {
   "cell_type": "code",
   "execution_count": null,
   "metadata": {},
   "outputs": [],
   "source": []
  },
  {
   "cell_type": "code",
   "execution_count": null,
   "metadata": {},
   "outputs": [],
   "source": []
  },
  {
   "cell_type": "code",
   "execution_count": null,
   "metadata": {},
   "outputs": [],
   "source": []
  }
 ],
 "metadata": {
  "kernelspec": {
   "display_name": "Python 3",
   "language": "python",
   "name": "python3"
  },
  "language_info": {
   "codemirror_mode": {
    "name": "ipython",
    "version": 3
   },
   "file_extension": ".py",
   "mimetype": "text/x-python",
   "name": "python",
   "nbconvert_exporter": "python",
   "pygments_lexer": "ipython3",
   "version": "3.6.7"
  }
 },
 "nbformat": 4,
 "nbformat_minor": 2
}
