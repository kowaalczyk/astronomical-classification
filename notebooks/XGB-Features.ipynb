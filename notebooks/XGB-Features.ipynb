{
 "cells": [
  {
   "cell_type": "code",
   "execution_count": 1,
   "metadata": {},
   "outputs": [
    {
     "name": "stderr",
     "output_type": "stream",
     "text": [
      "/home/kk385830/miniconda3/envs/plasticc/lib/python3.6/site-packages/tqdm/autonotebook/__init__.py:14: TqdmExperimentalWarning: Using `tqdm.autonotebook.tqdm` in notebook mode. Use `tqdm.tqdm` instead to force console mode (e.g. in jupyter console)\n",
      "  \" (e.g. in jupyter console)\", TqdmExperimentalWarning)\n"
     ]
    }
   ],
   "source": [
    "from typing import List\n",
    "\n",
    "from sklearn.ensemble import RandomForestClassifier\n",
    "from xgboost import XGBClassifier\n",
    "import numpy as np\n",
    "import pandas as pd\n",
    "\n",
    "from plasticc.dataset import Dataset"
   ]
  },
  {
   "cell_type": "code",
   "execution_count": 2,
   "metadata": {},
   "outputs": [],
   "source": [
    "ds_tsfresh = Dataset('../data/sets/tsfresh-sample/', y_colname='target')"
   ]
  },
  {
   "cell_type": "code",
   "execution_count": 3,
   "metadata": {},
   "outputs": [],
   "source": [
    "ds_simple = Dataset('../data/sets/simple-12-01/', y_colname='target')"
   ]
  },
  {
   "cell_type": "code",
   "execution_count": 4,
   "metadata": {},
   "outputs": [],
   "source": [
    "Xt, yt = ds_tsfresh.train"
   ]
  },
  {
   "cell_type": "code",
   "execution_count": 5,
   "metadata": {},
   "outputs": [],
   "source": [
    "Xs, ys = ds_simple.train"
   ]
  },
  {
   "cell_type": "markdown",
   "metadata": {},
   "source": [
    "### Eliminate null values"
   ]
  },
  {
   "cell_type": "code",
   "execution_count": 6,
   "metadata": {},
   "outputs": [],
   "source": [
    "def null_values(X: pd.DataFrame) -> List[str]:\n",
    "    print(\"Total columns:\", len(X.columns))\n",
    "    na_cols = [col for col in X.columns if X[col].isna().any()]\n",
    "    print(\"Total NA columns: \", len(na_cols))\n",
    "    if len(na_cols) < 10:\n",
    "        print(\"NA values by column:\")\n",
    "        print({na_col: X[na_col].isna().sum() for na_col in na_cols})\n",
    "    return na_cols"
   ]
  },
  {
   "cell_type": "code",
   "execution_count": 7,
   "metadata": {},
   "outputs": [
    {
     "name": "stdout",
     "output_type": "stream",
     "text": [
      "Total columns: 1065\n",
      "Total NA columns:  1\n",
      "NA values by column:\n",
      "{'distmod': 2325}\n"
     ]
    }
   ],
   "source": [
    "na_tsfresh = null_values(Xt)"
   ]
  },
  {
   "cell_type": "code",
   "execution_count": 8,
   "metadata": {},
   "outputs": [
    {
     "name": "stdout",
     "output_type": "stream",
     "text": [
      "Total columns: 176\n",
      "Total NA columns:  1\n",
      "NA values by column:\n",
      "{'distmod': 2325}\n"
     ]
    }
   ],
   "source": [
    "na_simple = null_values(Xs)"
   ]
  },
  {
   "cell_type": "markdown",
   "metadata": {},
   "source": [
    "We will fill null values with 0 and remove values that were duplicated"
   ]
  },
  {
   "cell_type": "code",
   "execution_count": 9,
   "metadata": {},
   "outputs": [],
   "source": [
    "for X in [Xs, Xt]:\n",
    "    X.fillna(0, inplace=True)\n",
    "#     X.dropna(axis=1, inplace=True)\n",
    "    assert(X.notna().all().all())\n",
    "    X.drop(columns=[col for col in set(X.columns) if col.endswith('_meta')], inplace=True)"
   ]
  },
  {
   "cell_type": "markdown",
   "metadata": {},
   "source": [
    "### Eliminate inifinte values"
   ]
  },
  {
   "cell_type": "code",
   "execution_count": 10,
   "metadata": {},
   "outputs": [
    {
     "name": "stdout",
     "output_type": "stream",
     "text": [
      "Before infinity removal: (7848, 176)\n",
      "Total columns: 176\n",
      "Total NA columns:  0\n",
      "NA values by column:\n",
      "{}\n",
      "After infinity removal: (7848, 176)\n",
      "Before infinity removal: (7848, 1064)\n",
      "Total columns: 1064\n",
      "Total NA columns:  0\n",
      "NA values by column:\n",
      "{}\n",
      "After infinity removal: (7848, 1064)\n"
     ]
    }
   ],
   "source": [
    "for X in [Xs, Xt]:\n",
    "    print(\"Before infinity removal:\", X.shape)\n",
    "    X.replace([np.inf, -np.inf], np.nan, inplace=True)\n",
    "    na_cols = null_values(X)\n",
    "    X.drop(columns=na_cols, inplace=True)\n",
    "    print(\"After infinity removal:\", X.shape)"
   ]
  },
  {
   "cell_type": "markdown",
   "metadata": {},
   "source": [
    "### Train models on simple dataset"
   ]
  },
  {
   "cell_type": "code",
   "execution_count": 11,
   "metadata": {},
   "outputs": [],
   "source": [
    "from sklearn.model_selection import train_test_split\n",
    "import seaborn as sns\n",
    "import matplotlib.pyplot as plt"
   ]
  },
  {
   "cell_type": "code",
   "execution_count": 12,
   "metadata": {},
   "outputs": [],
   "source": [
    "def plot_feature_importances(model, feature_names: List[str]):\n",
    "    features = pd.DataFrame({\"Importance\": model.feature_importances_, \"Feature\": feature_names})\n",
    "    fig, ax = plt.subplots(figsize=(6,15))\n",
    "    sns.barplot(ax=ax, x='Importance', y='Feature', data=features.sort_values(by='Importance', ascending=False).head(50))\n",
    "    sns.despine(left=True, bottom=True)\n",
    "    plt.show()"
   ]
  },
  {
   "cell_type": "code",
   "execution_count": 13,
   "metadata": {},
   "outputs": [],
   "source": [
    "X_train, X_test, y_train, y_test = train_test_split(Xs, ys, test_size=0.15, random_state=42)"
   ]
  },
  {
   "cell_type": "code",
   "execution_count": 16,
   "metadata": {},
   "outputs": [],
   "source": [
    "xgb_model = XGBClassifier(\n",
    "    objective='multi:softmax', \n",
    "    num_class=14, \n",
    "    learning_rate=0.03, \n",
    "    subsample=0.9, \n",
    "    colsample_bytree=0.5, \n",
    "    reg_alpha=0.01, \n",
    "    reg_lambda=0.01, \n",
    "    min_child_weight=10, \n",
    "    n_estimators=1024, \n",
    "    max_depth=3, \n",
    "    nthread=16\n",
    ")"
   ]
  },
  {
   "cell_type": "code",
   "execution_count": 17,
   "metadata": {},
   "outputs": [],
   "source": [
    "# TODO: Class weights for training and for eval"
   ]
  },
  {
   "cell_type": "code",
   "execution_count": 18,
   "metadata": {},
   "outputs": [
    {
     "name": "stdout",
     "output_type": "stream",
     "text": [
      "[0]\tvalidation_0-mlogloss:2.55162\tvalidation_1-mlogloss:2.55334\n",
      "Multiple eval metrics have been passed: 'validation_1-mlogloss' will be used for early stopping.\n",
      "\n",
      "Will train until validation_1-mlogloss hasn't improved in 50 rounds.\n",
      "[100]\tvalidation_0-mlogloss:0.860256\tvalidation_1-mlogloss:0.907671\n",
      "[200]\tvalidation_0-mlogloss:0.635665\tvalidation_1-mlogloss:0.733654\n",
      "[300]\tvalidation_0-mlogloss:0.534223\tvalidation_1-mlogloss:0.681871\n",
      "[400]\tvalidation_0-mlogloss:0.470507\tvalidation_1-mlogloss:0.66156\n",
      "[500]\tvalidation_0-mlogloss:0.422318\tvalidation_1-mlogloss:0.651293\n",
      "[600]\tvalidation_0-mlogloss:0.381903\tvalidation_1-mlogloss:0.645966\n",
      "[700]\tvalidation_0-mlogloss:0.347635\tvalidation_1-mlogloss:0.640294\n",
      "[800]\tvalidation_0-mlogloss:0.31718\tvalidation_1-mlogloss:0.637786\n",
      "[900]\tvalidation_0-mlogloss:0.291347\tvalidation_1-mlogloss:0.637063\n",
      "Stopping. Best iteration:\n",
      "[890]\tvalidation_0-mlogloss:0.293664\tvalidation_1-mlogloss:0.63679\n",
      "\n",
      "CPU times: user 9min 47s, sys: 152 ms, total: 9min 47s\n",
      "Wall time: 36.7 s\n"
     ]
    },
    {
     "data": {
      "text/plain": [
       "XGBClassifier(base_score=0.5, booster='gbtree', colsample_bylevel=1,\n",
       "       colsample_bytree=0.5, gamma=0, learning_rate=0.03, max_delta_step=0,\n",
       "       max_depth=3, min_child_weight=10, missing=None, n_estimators=1024,\n",
       "       n_jobs=1, nthread=16, num_class=14, objective='multi:softprob',\n",
       "       random_state=0, reg_alpha=0.01, reg_lambda=0.01, scale_pos_weight=1,\n",
       "       seed=None, silent=True, subsample=0.9)"
      ]
     },
     "execution_count": 18,
     "metadata": {},
     "output_type": "execute_result"
    }
   ],
   "source": [
    "%%time\n",
    "xgb_model.fit(X_train, y_train, verbose=100, eval_set=[(X_train, y_train), (X_test, y_test)], eval_metric='mlogloss', early_stopping_rounds=50)"
   ]
  },
  {
   "cell_type": "code",
   "execution_count": 21,
   "metadata": {},
   "outputs": [
    {
     "data": {
      "text/plain": [
       "0.7775891341256367"
      ]
     },
     "execution_count": 21,
     "metadata": {},
     "output_type": "execute_result"
    }
   ],
   "source": [
    "xgb_model.score(X_test, y_test)"
   ]
  },
  {
   "cell_type": "code",
   "execution_count": 23,
   "metadata": {},
   "outputs": [
    {
     "data": {
      "image/png": "[encoded data removed]",
      "text/plain": [
       "<Figure size 432x1080 with 1 Axes>"
      ]
     },
     "metadata": {
      "needs_background": "light"
     },
     "output_type": "display_data"
    }
   ],
   "source": [
    "plot_feature_importances(xgb_model, X_test.columns)"
   ]
  },
  {
   "cell_type": "markdown",
   "metadata": {},
   "source": [
    "### Train model on tsfresh dataset"
   ]
  },
  {
   "cell_type": "code",
   "execution_count": 24,
   "metadata": {},
   "outputs": [],
   "source": [
    "#TODO"
   ]
  },
  {
   "cell_type": "markdown",
   "metadata": {},
   "source": [
    "### Calculate feature imporatnce for selecting optimal tsfresh features"
   ]
  },
  {
   "cell_type": "code",
   "execution_count": 34,
   "metadata": {},
   "outputs": [],
   "source": [
    "import seaborn as sns\n",
    "import matplotlib.pyplot as plt\n",
    "from scipy.stats import describe\n",
    "import tsfresh\n",
    "import pandas as pd"
   ]
  },
  {
   "cell_type": "code",
   "execution_count": 35,
   "metadata": {},
   "outputs": [],
   "source": [
    "def to_tsfresh_format(feature_set: set, train_X: pd.DataFrame) -> dict:\n",
    "    \"\"\" Converts a set of features names into tsfresh-acceptable settings dict. \"\"\"\n",
    "    df_selected = train_X[list(feature_set)]\n",
    "    return tsfresh.feature_extraction.settings.from_columns(df_selected)\n",
    "\n",
    "def select_features_from_trained_model(model, train_X: pd.DataFrame, meta_columns: set, verbose=True) -> set:\n",
    "    \"\"\"\n",
    "    Extracts a set of relevant features from trained model.\n",
    "    Parameters:\n",
    "    - train_X should be the X used to train the model\n",
    "    - meta_columns should contain column names that will be excluded from the tsfresh selection (columns from metadata, not the time series)\n",
    "    \"\"\"\n",
    "    print(describe(model.feature_importances_))\n",
    "    features = pd.Series(model.feature_importances_, index=train_X.columns)\n",
    "    print(\"Most relevant features for the model:\", features.sort_values().tail(10))\n",
    "    # calculating how much data is lost based on minimal importance level\n",
    "    N_THRESHOLDS = 1000\n",
    "    select_crit = np.zeros(N_THRESHOLDS)\n",
    "    select_min = np.zeros(N_THRESHOLDS)\n",
    "    for i, q in enumerate(np.linspace(features.min(), features.max(), N_THRESHOLDS, endpoint=False)):\n",
    "        selected = features[features > q]\n",
    "        select_crit[i] = selected.min() * len(selected) / len(features)\n",
    "        select_min[i] = selected.min()\n",
    "    # choosing minimum importance level that maximizes (selected feature count * minimal selected feature importance)\n",
    "    min_importance = select_min[np.argmax(select_crit)]\n",
    "    selected_features = set(features[features > min_importance].index) - meta_columns\n",
    "    if verbose:\n",
    "        print(f\"Selected minimal importance: {min_importance}\", f\"Number of selected features: {len(selected_features)}\")\n",
    "        plt.plot(select_crit)\n",
    "        plt.show()\n",
    "    return selected_features, features"
   ]
  },
  {
   "cell_type": "code",
   "execution_count": 36,
   "metadata": {},
   "outputs": [],
   "source": [
    "meta_columns = set(Dataset('../data/sets/base/').train_meta.columns)"
   ]
  },
  {
   "cell_type": "code",
   "execution_count": 37,
   "metadata": {},
   "outputs": [
    {
     "name": "stdout",
     "output_type": "stream",
     "text": [
      "DescribeResult(nobs=1063, minmax=(0.0, 0.12809652), mean=0.00094073376, variance=1.7136652e-05, skewness=27.461490631103516, kurtosis=836.4666759335174)\n",
      "Most relevant features for the model: 5__abs_energy                            0.006418\n",
      "4__fft_aggregated__aggtype_\"kurtosis\"    0.007316\n",
      "hostgal_photoz                           0.007830\n",
      "2__fft_aggregated__aggtype_\"kurtosis\"    0.008215\n",
      "1__abs_energy                            0.008985\n",
      "4__skewness                              0.010782\n",
      "1__skewness                              0.011167\n",
      "3__skewness                              0.014376\n",
      "2__skewness                              0.016814\n",
      "hostgal_specz                            0.128097\n",
      "dtype: float32\n",
      "Selected minimal importance: 0.0008984726155176759 Number of selected features: 274\n"
     ]
    },
    {
     "data": {
      "image/png": "[encoded data removed]",
      "text/plain": [
       "<Figure size 432x288 with 1 Axes>"
      ]
     },
     "metadata": {
      "needs_background": "light"
     },
     "output_type": "display_data"
    }
   ],
   "source": [
    "xgb_fset, xgb_feature_importance = select_features_from_trained_model(model1, X, meta_columns)"
   ]
  },
  {
   "cell_type": "code",
   "execution_count": 38,
   "metadata": {},
   "outputs": [
    {
     "name": "stdout",
     "output_type": "stream",
     "text": [
      "DescribeResult(nobs=1063, minmax=(0.0, 0.045006083722017746), mean=0.0009407337723424271, variance=5.165210235765588e-06, skewness=11.532354823143152, kurtosis=178.22540690042794)\n",
      "Most relevant features for the model: 4__change_quantiles__f_agg_\"mean\"__isabs_True__qh_0.6__ql_0.0    0.007598\n",
      "2__change_quantiles__f_agg_\"var\"__isabs_False__qh_0.8__ql_0.0    0.009486\n",
      "2__quantile__q_0.1                                               0.010711\n",
      "2__change_quantiles__f_agg_\"mean\"__isabs_True__qh_0.6__ql_0.0    0.010874\n",
      "2__change_quantiles__f_agg_\"mean\"__isabs_True__qh_0.4__ql_0.0    0.011374\n",
      "3__change_quantiles__f_agg_\"mean\"__isabs_True__qh_0.6__ql_0.0    0.018506\n",
      "2__change_quantiles__f_agg_\"var\"__isabs_True__qh_0.6__ql_0.0     0.020175\n",
      "hostgal_specz                                                    0.025541\n",
      "hostgal_photoz_err                                               0.029981\n",
      "hostgal_photoz                                                   0.045006\n",
      "dtype: float64\n",
      "Selected minimal importance: 0.0005866028931361426 Number of selected features: 534\n"
     ]
    },
    {
     "data": {
      "image/png": "[encoded data removed]",
      "text/plain": [
       "<Figure size 432x288 with 1 Axes>"
      ]
     },
     "metadata": {
      "needs_background": "light"
     },
     "output_type": "display_data"
    }
   ],
   "source": [
    "skl_fset, skl_feature_importance = select_features_from_trained_model(model2, X, meta_columns)"
   ]
  },
  {
   "cell_type": "code",
   "execution_count": 39,
   "metadata": {},
   "outputs": [],
   "source": [
    "important_for_both = xgb_fset & skl_fset"
   ]
  },
  {
   "cell_type": "code",
   "execution_count": 40,
   "metadata": {},
   "outputs": [
    {
     "data": {
      "text/plain": [
       "222"
      ]
     },
     "execution_count": 40,
     "metadata": {},
     "output_type": "execute_result"
    }
   ],
   "source": [
    "len(important_for_both)"
   ]
  },
  {
   "cell_type": "code",
   "execution_count": 41,
   "metadata": {},
   "outputs": [],
   "source": [
    "common_dict = to_tsfresh_format(important_for_both, X)"
   ]
  },
  {
   "cell_type": "code",
   "execution_count": 42,
   "metadata": {},
   "outputs": [
    {
     "data": {
      "text/plain": [
       "dict"
      ]
     },
     "execution_count": 42,
     "metadata": {},
     "output_type": "execute_result"
    }
   ],
   "source": [
    "type(common_dict)"
   ]
  },
  {
   "cell_type": "markdown",
   "metadata": {},
   "source": [
    "#### Decrease number of features\n",
    "There are some inconsistencies when it comes to which features are extracted for which series.\n",
    "We will limit extracted features to those relevant for most of the 6 series for now."
   ]
  },
  {
   "cell_type": "code",
   "execution_count": 43,
   "metadata": {},
   "outputs": [],
   "source": [
    "keyset = set()\n",
    "for i in range(6):\n",
    "    keyset |= set(common_dict[str(i)].keys())"
   ]
  },
  {
   "cell_type": "code",
   "execution_count": 44,
   "metadata": {},
   "outputs": [
    {
     "data": {
      "text/plain": [
       "17"
      ]
     },
     "execution_count": 44,
     "metadata": {},
     "output_type": "execute_result"
    }
   ],
   "source": [
    "len(keyset)"
   ]
  },
  {
   "cell_type": "code",
   "execution_count": 45,
   "metadata": {},
   "outputs": [],
   "source": [
    "feature_counts = dict()\n",
    "for feature in keyset:\n",
    "    for i in range(6):\n",
    "        for key in common_dict[str(i)].keys():\n",
    "            if feature in key:\n",
    "                try:\n",
    "                    feature_counts[feature] += 1\n",
    "                except KeyError:\n",
    "                    feature_counts[feature] = 1"
   ]
  },
  {
   "cell_type": "code",
   "execution_count": 46,
   "metadata": {},
   "outputs": [],
   "source": [
    "feature_counts = pd.Series(feature_counts)"
   ]
  },
  {
   "cell_type": "code",
   "execution_count": 54,
   "metadata": {},
   "outputs": [
    {
     "data": {
      "text/plain": [
       "quantile                             12\n",
       "autocorrelation                      12\n",
       "abs_energy                            6\n",
       "fft_coefficient                       6\n",
       "linear_trend                          6\n",
       "ratio_beyond_r_sigma                  6\n",
       "change_quantiles                      6\n",
       "agg_autocorrelation                   6\n",
       "energy_ratio_by_chunks                6\n",
       "cid_ce                                6\n",
       "time_reversal_asymmetry_statistic     5\n",
       "maximum                               5\n",
       "c3                                    5\n",
       "mean                                  5\n",
       "skewness                              5\n",
       "fft_aggregated                        5\n",
       "approximate_entropy                   5\n",
       "dtype: int64"
      ]
     },
     "execution_count": 54,
     "metadata": {},
     "output_type": "execute_result"
    }
   ],
   "source": [
    "feature_counts.sort_values(ascending=False)"
   ]
  },
  {
   "cell_type": "code",
   "execution_count": 48,
   "metadata": {},
   "outputs": [
    {
     "data": {
      "text/plain": [
       "6.294117647058823"
      ]
     },
     "execution_count": 48,
     "metadata": {},
     "output_type": "execute_result"
    }
   ],
   "source": [
    "feature_counts.sort_values(ascending=False).mean()"
   ]
  },
  {
   "cell_type": "code",
   "execution_count": 49,
   "metadata": {},
   "outputs": [],
   "source": [
    "final_features = set(feature_counts[feature_counts > 4].index)"
   ]
  },
  {
   "cell_type": "code",
   "execution_count": 50,
   "metadata": {},
   "outputs": [
    {
     "data": {
      "text/plain": [
       "{'abs_energy',\n",
       " 'agg_autocorrelation',\n",
       " 'approximate_entropy',\n",
       " 'autocorrelation',\n",
       " 'c3',\n",
       " 'change_quantiles',\n",
       " 'cid_ce',\n",
       " 'energy_ratio_by_chunks',\n",
       " 'fft_aggregated',\n",
       " 'fft_coefficient',\n",
       " 'linear_trend',\n",
       " 'maximum',\n",
       " 'mean',\n",
       " 'quantile',\n",
       " 'ratio_beyond_r_sigma',\n",
       " 'skewness',\n",
       " 'time_reversal_asymmetry_statistic'}"
      ]
     },
     "execution_count": 50,
     "metadata": {},
     "output_type": "execute_result"
    }
   ],
   "source": [
    "final_features"
   ]
  },
  {
   "cell_type": "markdown",
   "metadata": {},
   "source": [
    "### Save feature dict for tsfresh feature generator to use"
   ]
  },
  {
   "cell_type": "code",
   "execution_count": 51,
   "metadata": {},
   "outputs": [],
   "source": [
    "import pickle\n",
    "\n",
    "from tsfresh.feature_extraction.settings import ComprehensiveFCParameters"
   ]
  },
  {
   "cell_type": "code",
   "execution_count": 52,
   "metadata": {},
   "outputs": [],
   "source": [
    "settings = ComprehensiveFCParameters()\n",
    "comprehensive_keys = set(settings.keys())\n",
    "for key in comprehensive_keys:\n",
    "    if key not in final_features:\n",
    "        del settings[key]"
   ]
  },
  {
   "cell_type": "code",
   "execution_count": 53,
   "metadata": {},
   "outputs": [],
   "source": [
    "with open('../data/config/tsfresh-settings.pkl', 'wb+') as file:\n",
    "    pickle.dump(settings, file)"
   ]
  },
  {
   "cell_type": "code",
   "execution_count": 55,
   "metadata": {},
   "outputs": [
    {
     "data": {
      "text/plain": [
       "array([ 6, 15, 16, 42, 52, 53, 62, 64, 65, 67, 88, 90, 92, 95])"
      ]
     },
     "execution_count": 55,
     "metadata": {},
     "output_type": "execute_result"
    }
   ],
   "source": [
    "model1.classes_"
   ]
  }
 ],
 "metadata": {
  "kernelspec": {
   "display_name": "Python 3",
   "language": "python",
   "name": "python3"
  },
  "language_info": {
   "codemirror_mode": {
    "name": "ipython",
    "version": 3
   },
   "file_extension": ".py",
   "mimetype": "text/x-python",
   "name": "python",
   "nbconvert_exporter": "python",
   "pygments_lexer": "ipython3",
   "version": "3.6.7"
  }
 },
 "nbformat": 4,
 "nbformat_minor": 2
}
