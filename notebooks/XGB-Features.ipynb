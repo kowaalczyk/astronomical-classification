{
 "cells": [
  {
   "cell_type": "code",
   "execution_count": 1,
   "metadata": {},
   "outputs": [
    {
     "name": "stderr",
     "output_type": "stream",
     "text": [
      "/home/kk385830/miniconda3/envs/plasticc/lib/python3.6/site-packages/tqdm/autonotebook/__init__.py:14: TqdmExperimentalWarning: Using `tqdm.autonotebook.tqdm` in notebook mode. Use `tqdm.tqdm` instead to force console mode (e.g. in jupyter console)\n",
      "  \" (e.g. in jupyter console)\", TqdmExperimentalWarning)\n"
     ]
    }
   ],
   "source": [
    "from sklearn.ensemble import RandomForestClassifier\n",
    "from xgboost import XGBClassifier\n",
    "import numpy as np\n",
    "import pandas as pd\n",
    "\n",
    "from plasticc.dataset import Dataset"
   ]
  },
  {
   "cell_type": "code",
   "execution_count": 2,
   "metadata": {},
   "outputs": [],
   "source": [
    "ds = Dataset('../data/sets/tsfresh-sample/', y_colname='target')"
   ]
  },
  {
   "cell_type": "code",
   "execution_count": 3,
   "metadata": {},
   "outputs": [],
   "source": [
    "X, y = ds.train"
   ]
  },
  {
   "cell_type": "markdown",
   "metadata": {},
   "source": [
    "### Eliminate null values"
   ]
  },
  {
   "cell_type": "code",
   "execution_count": 4,
   "metadata": {},
   "outputs": [
    {
     "data": {
      "text/plain": [
       "1886"
      ]
     },
     "execution_count": 4,
     "metadata": {},
     "output_type": "execute_result"
    }
   ],
   "source": [
    "len(X.columns)"
   ]
  },
  {
   "cell_type": "code",
   "execution_count": 5,
   "metadata": {},
   "outputs": [
    {
     "data": {
      "text/plain": [
       "1"
      ]
     },
     "execution_count": 5,
     "metadata": {},
     "output_type": "execute_result"
    }
   ],
   "source": [
    "na_cols = [col for col in X.columns if X[col].isna().any()]\n",
    "len(na_cols)"
   ]
  },
  {
   "cell_type": "code",
   "execution_count": 6,
   "metadata": {},
   "outputs": [
    {
     "data": {
      "text/plain": [
       "{'distmod': 2325}"
      ]
     },
     "execution_count": 6,
     "metadata": {},
     "output_type": "execute_result"
    }
   ],
   "source": [
    "{\n",
    "    na_col: X[na_col].isna().sum() for na_col in na_cols\n",
    "}"
   ]
  },
  {
   "cell_type": "code",
   "execution_count": 7,
   "metadata": {},
   "outputs": [],
   "source": [
    "X.dropna(axis=1, inplace=True)"
   ]
  },
  {
   "cell_type": "code",
   "execution_count": 8,
   "metadata": {},
   "outputs": [],
   "source": [
    "assert(X.notna().all().all())"
   ]
  },
  {
   "cell_type": "code",
   "execution_count": 9,
   "metadata": {},
   "outputs": [],
   "source": [
    "X.drop(columns='object_id_meta', inplace=True)"
   ]
  },
  {
   "cell_type": "markdown",
   "metadata": {},
   "source": [
    "### Eliminate inifinte values"
   ]
  },
  {
   "cell_type": "code",
   "execution_count": 10,
   "metadata": {},
   "outputs": [],
   "source": [
    "X.replace([np.inf, -np.inf], np.nan, inplace=True)"
   ]
  },
  {
   "cell_type": "code",
   "execution_count": 11,
   "metadata": {},
   "outputs": [
    {
     "data": {
      "text/plain": [
       "2"
      ]
     },
     "execution_count": 11,
     "metadata": {},
     "output_type": "execute_result"
    }
   ],
   "source": [
    "na_cols = [col for col in X.columns if X[col].isna().any()]\n",
    "len(na_cols)"
   ]
  },
  {
   "cell_type": "code",
   "execution_count": 12,
   "metadata": {},
   "outputs": [
    {
     "data": {
      "text/plain": [
       "['0__sample_entropy', '1__sample_entropy']"
      ]
     },
     "execution_count": 12,
     "metadata": {},
     "output_type": "execute_result"
    }
   ],
   "source": [
    "na_cols"
   ]
  },
  {
   "cell_type": "code",
   "execution_count": 13,
   "metadata": {},
   "outputs": [],
   "source": [
    "X.drop(columns=na_cols, inplace=True)"
   ]
  },
  {
   "cell_type": "code",
   "execution_count": 14,
   "metadata": {},
   "outputs": [
    {
     "data": {
      "text/plain": [
       "(7848, 1882)"
      ]
     },
     "execution_count": 14,
     "metadata": {},
     "output_type": "execute_result"
    }
   ],
   "source": [
    "X.shape"
   ]
  },
  {
   "cell_type": "code",
   "execution_count": 15,
   "metadata": {},
   "outputs": [
    {
     "data": {
      "text/plain": [
       "(7848,)"
      ]
     },
     "execution_count": 15,
     "metadata": {},
     "output_type": "execute_result"
    }
   ],
   "source": [
    "y.shape"
   ]
  },
  {
   "cell_type": "code",
   "execution_count": 17,
   "metadata": {},
   "outputs": [],
   "source": [
    "model1 = XGBClassifier(nthread=16)\n",
    "model2 = RandomForestClassifier()"
   ]
  },
  {
   "cell_type": "code",
   "execution_count": 18,
   "metadata": {},
   "outputs": [
    {
     "data": {
      "text/plain": [
       "XGBClassifier(base_score=0.5, booster='gbtree', colsample_bylevel=1,\n",
       "       colsample_bytree=1, gamma=0, learning_rate=0.1, max_delta_step=0,\n",
       "       max_depth=3, min_child_weight=1, missing=None, n_estimators=100,\n",
       "       n_jobs=1, nthread=16, objective='multi:softprob', random_state=0,\n",
       "       reg_alpha=0, reg_lambda=1, scale_pos_weight=1, seed=None,\n",
       "       silent=True, subsample=1)"
      ]
     },
     "execution_count": 18,
     "metadata": {},
     "output_type": "execute_result"
    }
   ],
   "source": [
    "model1.fit(X.values.astype(np.float32), y.values.astype(np.int), verbose=True)"
   ]
  },
  {
   "cell_type": "code",
   "execution_count": 19,
   "metadata": {},
   "outputs": [
    {
     "name": "stderr",
     "output_type": "stream",
     "text": [
      "/home/kk385830/miniconda3/envs/plasticc/lib/python3.6/site-packages/sklearn/ensemble/forest.py:246: FutureWarning: The default value of n_estimators will change from 10 in version 0.20 to 100 in 0.22.\n",
      "  \"10 in version 0.20 to 100 in 0.22.\", FutureWarning)\n"
     ]
    },
    {
     "data": {
      "text/plain": [
       "RandomForestClassifier(bootstrap=True, class_weight=None, criterion='gini',\n",
       "            max_depth=None, max_features='auto', max_leaf_nodes=None,\n",
       "            min_impurity_decrease=0.0, min_impurity_split=None,\n",
       "            min_samples_leaf=1, min_samples_split=2,\n",
       "            min_weight_fraction_leaf=0.0, n_estimators=10, n_jobs=None,\n",
       "            oob_score=False, random_state=None, verbose=0,\n",
       "            warm_start=False)"
      ]
     },
     "execution_count": 19,
     "metadata": {},
     "output_type": "execute_result"
    }
   ],
   "source": [
    "model2.fit(X.values.astype(np.float32), y.values.astype(np.int))"
   ]
  },
  {
   "cell_type": "markdown",
   "metadata": {},
   "source": [
    "### Calculate feature imporatnce"
   ]
  },
  {
   "cell_type": "code",
   "execution_count": 20,
   "metadata": {},
   "outputs": [],
   "source": [
    "import seaborn as sns\n",
    "import matplotlib.pyplot as plt\n",
    "from scipy.stats import describe\n",
    "import tsfresh\n",
    "import pandas as pd"
   ]
  },
  {
   "cell_type": "code",
   "execution_count": 56,
   "metadata": {},
   "outputs": [],
   "source": [
    "def to_tsfresh_format(feature_set: set, train_X: pd.DataFrame) -> dict:\n",
    "    \"\"\" Converts a set of features names into tsfresh-acceptable settings dict. \"\"\"\n",
    "    df_selected = train_X[list(feature_set)]\n",
    "    return tsfresh.feature_extraction.settings.from_columns(df_selected)\n",
    "\n",
    "def select_features_from_trained_model(model, train_X: pd.DataFrame, meta_columns: set, verbose=True) -> set:\n",
    "    \"\"\"\n",
    "    Extracts a set of relevant features from trained model.\n",
    "    Parameters:\n",
    "    - train_X should be the X used to train the model\n",
    "    - meta_columns should contain column names that will be excluded from the tsfresh selection (columns from metadata, not the time series)\n",
    "    \"\"\"\n",
    "    print(describe(model.feature_importances_))\n",
    "    features = pd.Series(model.feature_importances_, index=train_X.columns)\n",
    "    print(\"Most relevant features for the model:\", features.sort_values().tail(10))\n",
    "    # calculating how much data is lost based on minimal importance level\n",
    "    N_THRESHOLDS = 1000\n",
    "    select_crit = np.zeros(N_THRESHOLDS)\n",
    "    select_min = np.zeros(N_THRESHOLDS)\n",
    "    for i, q in enumerate(np.linspace(features.min(), features.max(), N_THRESHOLDS, endpoint=False)):\n",
    "        selected = features[features > q]\n",
    "        select_crit[i] = selected.min() * len(selected) / len(features)\n",
    "        select_min[i] = selected.min()\n",
    "    # choosing minimum importance level that maximizes (selected feature count * minimal selected feature importance)\n",
    "    min_importance = select_min[np.argmax(select_crit)]\n",
    "    selected_features = set(features[features > min_importance].index) - meta_columns\n",
    "    if verbose:\n",
    "        print(f\"Selected minimal importance: {min_importance}\", f\"Number of selected features: {len(selected_features)}\")\n",
    "        plt.plot(select_crit)\n",
    "        plt.show()\n",
    "    return selected_features, features"
   ]
  },
  {
   "cell_type": "code",
   "execution_count": 57,
   "metadata": {},
   "outputs": [],
   "source": [
    "meta_columns = set(Dataset('../data/sets/base/').train_meta.columns)"
   ]
  },
  {
   "cell_type": "code",
   "execution_count": 58,
   "metadata": {},
   "outputs": [
    {
     "name": "stdout",
     "output_type": "stream",
     "text": [
      "DescribeResult(nobs=1882, minmax=(0.0, 0.12440682), mean=0.0005313496, variance=9.079897e-06, skewness=37.110294342041016, kurtosis=1516.7057451720254)\n",
      "Most relevant features for the model: hostgal_photoz_err                       0.006028\n",
      "4__fft_aggregated__aggtype_\"kurtosis\"    0.006284\n",
      "2__fft_aggregated__aggtype_\"kurtosis\"    0.006926\n",
      "4__skewness                              0.007567\n",
      "1__abs_energy                            0.007695\n",
      "hostgal_photoz                           0.009234\n",
      "1__skewness                              0.010773\n",
      "3__skewness                              0.011286\n",
      "2__skewness                              0.013595\n",
      "hostgal_specz                            0.124407\n",
      "dtype: float32\n",
      "Selected minimal importance: 0.0006412722868844867 Number of selected features: 373\n"
     ]
    },
    {
     "data": {
      "image/png": "[encoded data removed]",
      "text/plain": [
       "<Figure size 432x288 with 1 Axes>"
      ]
     },
     "metadata": {
      "needs_background": "light"
     },
     "output_type": "display_data"
    }
   ],
   "source": [
    "xgb_fset, xgb_feature_importance = select_features_from_trained_model(model1, X, meta_columns)"
   ]
  },
  {
   "cell_type": "code",
   "execution_count": 59,
   "metadata": {},
   "outputs": [
    {
     "name": "stdout",
     "output_type": "stream",
     "text": [
      "DescribeResult(nobs=1882, minmax=(0.0, 0.026418196773151166), mean=0.0005313496280552603, variance=1.8073295956759233e-06, skewness=11.573548759054617, kurtosis=188.29432473453332)\n",
      "Most relevant features for the model: 4__cid_ce__normalize_True                                        0.007975\n",
      "3__skewness                                                      0.007994\n",
      "2__change_quantiles__f_agg_\"var\"__isabs_False__qh_0.4__ql_0.0    0.008591\n",
      "3__minimum                                                       0.008901\n",
      "1__change_quantiles__f_agg_\"var\"__isabs_False__qh_0.8__ql_0.0    0.009017\n",
      "3__cid_ce__normalize_True                                        0.010155\n",
      "3__change_quantiles__f_agg_\"var\"__isabs_True__qh_0.8__ql_0.0     0.010191\n",
      "hostgal_photoz_err                                               0.023315\n",
      "hostgal_photoz                                                   0.025681\n",
      "hostgal_specz                                                    0.026418\n",
      "dtype: float64\n",
      "Selected minimal importance: 0.0003974415182595556 Number of selected features: 774\n"
     ]
    },
    {
     "data": {
      "image/png": "[encoded data removed]",
      "text/plain": [
       "<Figure size 432x288 with 1 Axes>"
      ]
     },
     "metadata": {
      "needs_background": "light"
     },
     "output_type": "display_data"
    }
   ],
   "source": [
    "skl_fset, skl_feature_importance = select_features_from_trained_model(model2, X, meta_columns)"
   ]
  },
  {
   "cell_type": "code",
   "execution_count": 60,
   "metadata": {},
   "outputs": [],
   "source": [
    "important_for_both = xgb_fset & skl_fset"
   ]
  },
  {
   "cell_type": "code",
   "execution_count": 61,
   "metadata": {},
   "outputs": [
    {
     "data": {
      "text/plain": [
       "296"
      ]
     },
     "execution_count": 61,
     "metadata": {},
     "output_type": "execute_result"
    }
   ],
   "source": [
    "len(important_for_both)"
   ]
  },
  {
   "cell_type": "code",
   "execution_count": 62,
   "metadata": {},
   "outputs": [],
   "source": [
    "common_dict = to_tsfresh_format(important_for_both, X)"
   ]
  },
  {
   "cell_type": "code",
   "execution_count": 65,
   "metadata": {},
   "outputs": [
    {
     "data": {
      "text/plain": [
       "dict"
      ]
     },
     "execution_count": 65,
     "metadata": {},
     "output_type": "execute_result"
    }
   ],
   "source": [
    "type(common_dict)"
   ]
  },
  {
   "cell_type": "markdown",
   "metadata": {},
   "source": [
    "#### Decrease number of features\n",
    "There are some inconsistencies when it comes to which features are extracted for which series.\n",
    "We will limit extracted features to those relevant for most of the 6 series for now."
   ]
  },
  {
   "cell_type": "code",
   "execution_count": 71,
   "metadata": {},
   "outputs": [],
   "source": [
    "keyset = set()\n",
    "for i in range(6):\n",
    "    keyset |= set(common_dict[str(i)].keys())"
   ]
  },
  {
   "cell_type": "code",
   "execution_count": 72,
   "metadata": {},
   "outputs": [
    {
     "data": {
      "text/plain": [
       "38"
      ]
     },
     "execution_count": 72,
     "metadata": {},
     "output_type": "execute_result"
    }
   ],
   "source": [
    "len(keyset)"
   ]
  },
  {
   "cell_type": "code",
   "execution_count": 105,
   "metadata": {},
   "outputs": [],
   "source": [
    "feature_counts = dict()\n",
    "for feature in keyset:\n",
    "    for i in range(6):\n",
    "        for key in common_dict[str(i)].keys():\n",
    "            if feature in key:\n",
    "                try:\n",
    "                    feature_counts[feature] += 1\n",
    "                except KeyError:\n",
    "                    feature_counts[feature] = 1"
   ]
  },
  {
   "cell_type": "code",
   "execution_count": 106,
   "metadata": {},
   "outputs": [],
   "source": [
    "feature_counts = pd.Series(feature_counts)"
   ]
  },
  {
   "cell_type": "code",
   "execution_count": 108,
   "metadata": {},
   "outputs": [
    {
     "data": {
      "text/plain": [
       "4.605263157894737"
      ]
     },
     "execution_count": 108,
     "metadata": {},
     "output_type": "execute_result"
    }
   ],
   "source": [
    "feature_counts.sort_values(ascending=False).mean()"
   ]
  },
  {
   "cell_type": "code",
   "execution_count": 109,
   "metadata": {},
   "outputs": [],
   "source": [
    "final_features = set(feature_counts[feature_counts > 4].index)"
   ]
  },
  {
   "cell_type": "code",
   "execution_count": 110,
   "metadata": {},
   "outputs": [
    {
     "data": {
      "text/plain": [
       "{'abs_energy',\n",
       " 'agg_autocorrelation',\n",
       " 'approximate_entropy',\n",
       " 'autocorrelation',\n",
       " 'c3',\n",
       " 'change_quantiles',\n",
       " 'cid_ce',\n",
       " 'energy_ratio_by_chunks',\n",
       " 'fft_aggregated',\n",
       " 'fft_coefficient',\n",
       " 'linear_trend',\n",
       " 'maximum',\n",
       " 'mean',\n",
       " 'quantile',\n",
       " 'ratio_beyond_r_sigma',\n",
       " 'skewness',\n",
       " 'time_reversal_asymmetry_statistic'}"
      ]
     },
     "execution_count": 110,
     "metadata": {},
     "output_type": "execute_result"
    }
   ],
   "source": [
    "final_features"
   ]
  },
  {
   "cell_type": "markdown",
   "metadata": {},
   "source": [
    "### Save feature dict for tsfresh feature generator to use"
   ]
  },
  {
   "cell_type": "code",
   "execution_count": 90,
   "metadata": {},
   "outputs": [],
   "source": [
    "import pickle\n",
    "\n",
    "from tsfresh.feature_extraction.settings import ComprehensiveFCParameters"
   ]
  },
  {
   "cell_type": "code",
   "execution_count": 92,
   "metadata": {},
   "outputs": [],
   "source": [
    "settings = ComprehensiveFCParameters()\n",
    "comprehensive_keys = set(settings.keys())\n",
    "for key in comprehensive_keys:\n",
    "    if key not in final_features:\n",
    "        del settings[key]"
   ]
  },
  {
   "cell_type": "code",
   "execution_count": 93,
   "metadata": {},
   "outputs": [],
   "source": [
    "with open('../data/config/tsfresh-settings.pkl', 'wb+') as file:\n",
    "    pickle.dump(settings, file)"
   ]
  }
 ],
 "metadata": {
  "kernelspec": {
   "display_name": "Python 3",
   "language": "python",
   "name": "python3"
  },
  "language_info": {
   "codemirror_mode": {
    "name": "ipython",
    "version": 3
   },
   "file_extension": ".py",
   "mimetype": "text/x-python",
   "name": "python",
   "nbconvert_exporter": "python",
   "pygments_lexer": "ipython3",
   "version": "3.6.6"
  }
 },
 "nbformat": 4,
 "nbformat_minor": 2
}
