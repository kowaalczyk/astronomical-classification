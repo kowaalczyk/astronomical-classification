{
 "cells": [
  {
   "cell_type": "markdown",
   "metadata": {},
   "source": [
    "# Splitting series by mjd into 3 bins"
   ]
  },
  {
   "cell_type": "markdown",
   "metadata": {},
   "source": [
    "### Demonstration"
   ]
  },
  {
   "cell_type": "code",
   "execution_count": null,
   "metadata": {},
   "outputs": [],
   "source": [
    "import pandas as pd\n",
    "import numpy as np\n",
    "from typing import Tuple\n",
    "from functools import partial\n",
    "import multiprocessing as mp\n",
    "from scipy.stats import linregress\n",
    "from tqdm import tqdm"
   ]
  },
  {
   "cell_type": "code",
   "execution_count": null,
   "metadata": {},
   "outputs": [],
   "source": [
    "def polyfit_bin(bin_idx: int, bin_df: pd.DataFrame, deg: int) -> pd.Series:\n",
    "    \"\"\"\n",
    "    Seem not to be that important, dropped to improve speed.\n",
    "    Also, 'fittable' feature turned out to be ignored by model so its dropped in linear fit too.\n",
    "    \"\"\"\n",
    "    try:\n",
    "        coeffs = np.polyfit(x=bin_df['mjd'].values*1e-4, y=bin_df['flux'].values, deg=deg)\n",
    "        fittable = 1\n",
    "    except TypeError:  # x is too short in this bin\n",
    "        coeffs = np.zeros_like(deg+1)\n",
    "        fittable = 0\n",
    "    bin_poly_features = pd.Series(coeffs, index = [f'bin_{bin_idx}_flux_polyfit_coeff_{i}' for i in range(deg+1)])\n",
    "    bin_poly_features[f'bin_{bin_idx}_is_poly_fittable'] = fittable\n",
    "    return bin_poly_features\n",
    "\n",
    "def linreg_bin(bin_idx: int, bin_df: pd.DataFrame) -> pd.Series:\n",
    "    if len(bin_df) > 1:\n",
    "        slope, intercept, r_value, p_value, std_err = linregress(\n",
    "            x=bin_df['mjd'].values*1e-4, \n",
    "            y=bin_df['flux'].values\n",
    "        )\n",
    "    else:\n",
    "        slope, intercept, r_value, p_value, std_err = 0,0,0,0,0\n",
    "    bin_linear = pd.Series(\n",
    "        [slope, intercept, r_value, p_value, std_err], \n",
    "        index = [f'bin_{bin_idx}_{f}' for f in ['slope', 'intercept', 'r_value', 'p_value', 'std_err']]\n",
    "    )\n",
    "    return bin_linear\n",
    "\n",
    "\n",
    "def agg_bin(bin_idx: int, bin_df: pd.DataFrame, bin_aggs: dict) -> pd.Series:\n",
    "    bin_agg_df = bin_df.agg(bin_aggs)\n",
    "    bin_agg_series = pd.concat([\n",
    "        bin_agg_df.xs(bin_agg_df.index[i]).add_suffix(f'_{aggname}') \n",
    "        for i, aggname in enumerate(bin_agg_df.index)\n",
    "    ], axis=0).add_prefix(f'bin_{bin_idx+1}_')\n",
    "    return bin_agg_series\n",
    "\n",
    "def process_bin(bin_idx: int, bin_df: pd.DataFrame, bin_aggs: dict, polyfit_deg: int) -> pd.Series:\n",
    "    return pd.concat([\n",
    "#         polyfit_bin(bin_idx, bin_df, polyfit_deg), \n",
    "        linreg_bin(bin_idx, bin_df),\n",
    "        agg_bin(bin_idx, bin_df, bin_aggs)\n",
    "    ], axis=0)\n",
    "\n",
    "def process_group(group_data: Tuple[int, pd.DataFrame], bin_aggs: dict, polyfit_deg: int) -> pd.Series:\n",
    "    group_idx, group = group_data\n",
    "    min_time = group['mjd'].min()\n",
    "    max_time = group['mjd'].max()\n",
    "    interval = (max_time+1e-15 - min_time)/3\n",
    "    bins = [group[(group['mjd'] >= min_time + i*interval) & (group['mjd'] < min_time + (i+1)*interval)] for i in range(3)]\n",
    "    bins_series = [process_bin(bin_idx, bin_df, bin_aggs, polyfit_deg) for bin_idx, bin_df in enumerate(bins)]\n",
    "    agg_series_all_bins = pd.concat(bins_series, axis=0).dropna().rename(group_idx)\n",
    "    return agg_series_all_bins\n",
    "\n",
    "def compute_binned_features(series_df: pd.DataFrame, bin_aggs: dict, polyfit_deg: int, n_jobs=None):\n",
    "    \"\"\"\n",
    "    Parallel computation of series bins splitted into \n",
    "    \"\"\"\n",
    "    process_group_with_fixed_aggs = partial(\n",
    "        process_group,\n",
    "        bin_aggs=bin_aggs,\n",
    "        polyfit_deg=polyfit_deg\n",
    "    )\n",
    "    gbo = series_df.groupby('object_id')\n",
    "    if n_jobs is None:\n",
    "        group_features_series = [process_group_with_fixed_aggs(g) for g in gbo]\n",
    "        # not using tqdm in order to improve speed\n",
    "    else:\n",
    "        with mp.Pool(n_jobs) as pool:\n",
    "            group_features_series = pool.map(process_group_with_fixed_aggs, gbo)\n",
    "    return pd.concat(group_features_series, axis=1, sort=False).transpose()"
   ]
  },
  {
   "cell_type": "code",
   "execution_count": null,
   "metadata": {},
   "outputs": [],
   "source": [
    "bin_aggs = {\n",
    "    'flux': ['mean', 'skew', 'kurtosis'],\n",
    "    'flux_err': ['mean', 'std'],\n",
    "#     'detected': ['mean']\n",
    "}\n",
    "polyfit_deg = 3"
   ]
  },
  {
   "cell_type": "code",
   "execution_count": null,
   "metadata": {},
   "outputs": [],
   "source": [
    "df = pd.read_csv('../data/raw/training_set.csv')"
   ]
  },
  {
   "cell_type": "markdown",
   "metadata": {},
   "source": [
    "We will generate some basic features + measure time of execution and profile process_bin:"
   ]
  },
  {
   "cell_type": "code",
   "execution_count": null,
   "metadata": {},
   "outputs": [],
   "source": [
    "%load_ext line_profiler"
   ]
  },
  {
   "cell_type": "code",
   "execution_count": 286,
   "metadata": {},
   "outputs": [
    {
     "ename": "TypeError",
     "evalue": "compute_binned_features() got multiple values for argument 'n_jobs'",
     "output_type": "error",
     "traceback": [
      "\u001b[0;31m---------------------------------------------------------------------------\u001b[0m",
      "\u001b[0;31mTypeError\u001b[0m                                 Traceback (most recent call last)",
      "\u001b[0;32m<timed eval>\u001b[0m in \u001b[0;36m<module>\u001b[0;34m\u001b[0m\n",
      "\u001b[0;32m~/miniconda3/envs/plasticc/lib/python3.6/site-packages/IPython/core/interactiveshell.py\u001b[0m in \u001b[0;36mrun_line_magic\u001b[0;34m(self, magic_name, line, _stack_depth)\u001b[0m\n\u001b[1;32m   2285\u001b[0m                 \u001b[0mkwargs\u001b[0m\u001b[0;34m[\u001b[0m\u001b[0;34m'local_ns'\u001b[0m\u001b[0;34m]\u001b[0m \u001b[0;34m=\u001b[0m \u001b[0msys\u001b[0m\u001b[0;34m.\u001b[0m\u001b[0m_getframe\u001b[0m\u001b[0;34m(\u001b[0m\u001b[0mstack_depth\u001b[0m\u001b[0;34m)\u001b[0m\u001b[0;34m.\u001b[0m\u001b[0mf_locals\u001b[0m\u001b[0;34m\u001b[0m\u001b[0;34m\u001b[0m\u001b[0m\n\u001b[1;32m   2286\u001b[0m             \u001b[0;32mwith\u001b[0m \u001b[0mself\u001b[0m\u001b[0;34m.\u001b[0m\u001b[0mbuiltin_trap\u001b[0m\u001b[0;34m:\u001b[0m\u001b[0;34m\u001b[0m\u001b[0;34m\u001b[0m\u001b[0m\n\u001b[0;32m-> 2287\u001b[0;31m                 \u001b[0mresult\u001b[0m \u001b[0;34m=\u001b[0m \u001b[0mfn\u001b[0m\u001b[0;34m(\u001b[0m\u001b[0;34m*\u001b[0m\u001b[0margs\u001b[0m\u001b[0;34m,\u001b[0m\u001b[0;34m**\u001b[0m\u001b[0mkwargs\u001b[0m\u001b[0;34m)\u001b[0m\u001b[0;34m\u001b[0m\u001b[0;34m\u001b[0m\u001b[0m\n\u001b[0m\u001b[1;32m   2288\u001b[0m             \u001b[0;32mreturn\u001b[0m \u001b[0mresult\u001b[0m\u001b[0;34m\u001b[0m\u001b[0;34m\u001b[0m\u001b[0m\n\u001b[1;32m   2289\u001b[0m \u001b[0;34m\u001b[0m\u001b[0m\n",
      "\u001b[0;32m<decorator-gen-125>\u001b[0m in \u001b[0;36mlprun\u001b[0;34m(self, parameter_s)\u001b[0m\n",
      "\u001b[0;32m~/miniconda3/envs/plasticc/lib/python3.6/site-packages/IPython/core/magic.py\u001b[0m in \u001b[0;36m<lambda>\u001b[0;34m(f, *a, **k)\u001b[0m\n\u001b[1;32m    185\u001b[0m     \u001b[0;31m# but it's overkill for just that one bit of state.\u001b[0m\u001b[0;34m\u001b[0m\u001b[0;34m\u001b[0m\u001b[0;34m\u001b[0m\u001b[0m\n\u001b[1;32m    186\u001b[0m     \u001b[0;32mdef\u001b[0m \u001b[0mmagic_deco\u001b[0m\u001b[0;34m(\u001b[0m\u001b[0marg\u001b[0m\u001b[0;34m)\u001b[0m\u001b[0;34m:\u001b[0m\u001b[0;34m\u001b[0m\u001b[0;34m\u001b[0m\u001b[0m\n\u001b[0;32m--> 187\u001b[0;31m         \u001b[0mcall\u001b[0m \u001b[0;34m=\u001b[0m \u001b[0;32mlambda\u001b[0m \u001b[0mf\u001b[0m\u001b[0;34m,\u001b[0m \u001b[0;34m*\u001b[0m\u001b[0ma\u001b[0m\u001b[0;34m,\u001b[0m \u001b[0;34m**\u001b[0m\u001b[0mk\u001b[0m\u001b[0;34m:\u001b[0m \u001b[0mf\u001b[0m\u001b[0;34m(\u001b[0m\u001b[0;34m*\u001b[0m\u001b[0ma\u001b[0m\u001b[0;34m,\u001b[0m \u001b[0;34m**\u001b[0m\u001b[0mk\u001b[0m\u001b[0;34m)\u001b[0m\u001b[0;34m\u001b[0m\u001b[0;34m\u001b[0m\u001b[0m\n\u001b[0m\u001b[1;32m    188\u001b[0m \u001b[0;34m\u001b[0m\u001b[0m\n\u001b[1;32m    189\u001b[0m         \u001b[0;32mif\u001b[0m \u001b[0mcallable\u001b[0m\u001b[0;34m(\u001b[0m\u001b[0marg\u001b[0m\u001b[0;34m)\u001b[0m\u001b[0;34m:\u001b[0m\u001b[0;34m\u001b[0m\u001b[0;34m\u001b[0m\u001b[0m\n",
      "\u001b[0;32m~/miniconda3/envs/plasticc/lib/python3.6/site-packages/line_profiler.py\u001b[0m in \u001b[0;36mlprun\u001b[0;34m(self, parameter_s)\u001b[0m\n\u001b[1;32m    354\u001b[0m         \u001b[0;32mtry\u001b[0m\u001b[0;34m:\u001b[0m\u001b[0;34m\u001b[0m\u001b[0;34m\u001b[0m\u001b[0m\n\u001b[1;32m    355\u001b[0m             \u001b[0;32mtry\u001b[0m\u001b[0;34m:\u001b[0m\u001b[0;34m\u001b[0m\u001b[0;34m\u001b[0m\u001b[0m\n\u001b[0;32m--> 356\u001b[0;31m                 \u001b[0mprofile\u001b[0m\u001b[0;34m.\u001b[0m\u001b[0mrunctx\u001b[0m\u001b[0;34m(\u001b[0m\u001b[0marg_str\u001b[0m\u001b[0;34m,\u001b[0m \u001b[0mglobal_ns\u001b[0m\u001b[0;34m,\u001b[0m \u001b[0mlocal_ns\u001b[0m\u001b[0;34m)\u001b[0m\u001b[0;34m\u001b[0m\u001b[0;34m\u001b[0m\u001b[0m\n\u001b[0m\u001b[1;32m    357\u001b[0m                 \u001b[0mmessage\u001b[0m \u001b[0;34m=\u001b[0m \u001b[0;34m''\u001b[0m\u001b[0;34m\u001b[0m\u001b[0;34m\u001b[0m\u001b[0m\n\u001b[1;32m    358\u001b[0m             \u001b[0;32mexcept\u001b[0m \u001b[0mSystemExit\u001b[0m\u001b[0;34m:\u001b[0m\u001b[0;34m\u001b[0m\u001b[0;34m\u001b[0m\u001b[0m\n",
      "\u001b[0;32m~/miniconda3/envs/plasticc/lib/python3.6/site-packages/line_profiler.py\u001b[0m in \u001b[0;36mrunctx\u001b[0;34m(self, cmd, globals, locals)\u001b[0m\n\u001b[1;32m    149\u001b[0m         \u001b[0mself\u001b[0m\u001b[0;34m.\u001b[0m\u001b[0menable_by_count\u001b[0m\u001b[0;34m(\u001b[0m\u001b[0;34m)\u001b[0m\u001b[0;34m\u001b[0m\u001b[0;34m\u001b[0m\u001b[0m\n\u001b[1;32m    150\u001b[0m         \u001b[0;32mtry\u001b[0m\u001b[0;34m:\u001b[0m\u001b[0;34m\u001b[0m\u001b[0;34m\u001b[0m\u001b[0m\n\u001b[0;32m--> 151\u001b[0;31m             \u001b[0mexec_\u001b[0m\u001b[0;34m(\u001b[0m\u001b[0mcmd\u001b[0m\u001b[0;34m,\u001b[0m \u001b[0mglobals\u001b[0m\u001b[0;34m,\u001b[0m \u001b[0mlocals\u001b[0m\u001b[0;34m)\u001b[0m\u001b[0;34m\u001b[0m\u001b[0;34m\u001b[0m\u001b[0m\n\u001b[0m\u001b[1;32m    152\u001b[0m         \u001b[0;32mfinally\u001b[0m\u001b[0;34m:\u001b[0m\u001b[0;34m\u001b[0m\u001b[0;34m\u001b[0m\u001b[0m\n\u001b[1;32m    153\u001b[0m             \u001b[0mself\u001b[0m\u001b[0;34m.\u001b[0m\u001b[0mdisable_by_count\u001b[0m\u001b[0;34m(\u001b[0m\u001b[0;34m)\u001b[0m\u001b[0;34m\u001b[0m\u001b[0;34m\u001b[0m\u001b[0m\n",
      "\u001b[0;32m<string>\u001b[0m in \u001b[0;36m<module>\u001b[0;34m\u001b[0m\n",
      "\u001b[0;31mTypeError\u001b[0m: compute_binned_features() got multiple values for argument 'n_jobs'"
     ]
    }
   ],
   "source": [
    "%%time \n",
    "%lprun -f process_bin df_feat = compute_binned_features(df, bin_aggs, polyfit_deg, n_jobs=None)"
   ]
  },
  {
   "cell_type": "code",
   "execution_count": null,
   "metadata": {},
   "outputs": [],
   "source": [
    "df_feat.head()"
   ]
  },
  {
   "cell_type": "code",
   "execution_count": null,
   "metadata": {},
   "outputs": [],
   "source": [
    "df_feat.shape"
   ]
  },
  {
   "cell_type": "code",
   "execution_count": null,
   "metadata": {},
   "outputs": [],
   "source": [
    "assert(df_feat.isna().any().sum()==0)"
   ]
  },
  {
   "cell_type": "markdown",
   "metadata": {},
   "source": [
    "Inspect how many curves were fitted successfully:"
   ]
  },
  {
   "cell_type": "code",
   "execution_count": null,
   "metadata": {},
   "outputs": [],
   "source": [
    "df_feat[[col for col in df_feat.columns if col.endswith('fittable')]].sum()"
   ]
  },
  {
   "cell_type": "markdown",
   "metadata": {},
   "source": [
    "### Testing importance versus standard features"
   ]
  },
  {
   "cell_type": "markdown",
   "metadata": {},
   "source": [
    "At the time of writing this, binned features were not generated as a part of featurize yet."
   ]
  },
  {
   "cell_type": "code",
   "execution_count": null,
   "metadata": {},
   "outputs": [],
   "source": [
    "from plasticc.featurize import compute_binned_features"
   ]
  },
  {
   "cell_type": "code",
   "execution_count": null,
   "metadata": {},
   "outputs": [],
   "source": [
    "import pandas as pd\n",
    "import numpy as np\n",
    "import matplotlib.pyplot as plt\n",
    "import seaborn as sns\n",
    "\n",
    "from typing import Set\n",
    "from datetime import datetime as dt\n",
    "\n",
    "from plasticc.featurize import process_meta, featurize\n",
    "from plasticc.training import path_from_cv_score, train_and_validate\n",
    "from plasticc.final import featurize_test, predict_test"
   ]
  },
  {
   "cell_type": "code",
   "execution_count": null,
   "metadata": {},
   "outputs": [],
   "source": [
    "%load_ext autoreload\n",
    "%autoreload 2"
   ]
  },
  {
   "cell_type": "code",
   "execution_count": null,
   "metadata": {},
   "outputs": [],
   "source": [
    "fcp = {\n",
    "    'flux': {\n",
    "        'longest_strike_above_mean': None,\n",
    "        'longest_strike_below_mean': None,\n",
    "        'mean_change': None,\n",
    "        'mean_abs_change': None,\n",
    "        'length': None,\n",
    "    },\n",
    "\n",
    "    'flux_by_flux_ratio_sq': {\n",
    "        'longest_strike_above_mean': None,\n",
    "        'longest_strike_below_mean': None,       \n",
    "    },\n",
    "\n",
    "    'flux_passband': {\n",
    "        'fft_coefficient': [\n",
    "                {'coeff': 0, 'attr': 'abs'}, \n",
    "                {'coeff': 1, 'attr': 'abs'}\n",
    "            ],\n",
    "        'kurtosis' : None, \n",
    "        'skewness' : None,\n",
    "    },\n",
    "\n",
    "    'mjd': {\n",
    "        'maximum': None, \n",
    "        'minimum': None,\n",
    "        'mean_change': None,\n",
    "        'mean_abs_change': None,\n",
    "    },\n",
    "}"
   ]
  },
  {
   "cell_type": "code",
   "execution_count": null,
   "metadata": {},
   "outputs": [],
   "source": [
    "aggs = {\n",
    "    'flux': ['min', 'max', 'mean', 'median', 'std', 'skew'],\n",
    "    'flux_err': ['min', 'max', 'mean', 'median', 'std', 'skew'],\n",
    "    'detected': ['mean'],\n",
    "    'flux_ratio_sq':['sum', 'skew'],\n",
    "    'flux_by_flux_ratio_sq':['sum','skew'],\n",
    "}"
   ]
  },
  {
   "cell_type": "markdown",
   "metadata": {},
   "source": [
    "### Generate features for model training"
   ]
  },
  {
   "cell_type": "code",
   "execution_count": 271,
   "metadata": {},
   "outputs": [
    {
     "name": "stdout",
     "output_type": "stream",
     "text": [
      "CPU times: user 1.31 s, sys: 288 ms, total: 1.6 s\n",
      "Wall time: 1.07 s\n"
     ]
    }
   ],
   "source": [
    "%%time\n",
    "meta_train = process_meta('../data/raw/training_set_metadata.csv')\n",
    "train = pd.read_csv('../data/raw/training_set.csv')"
   ]
  },
  {
   "cell_type": "code",
   "execution_count": 272,
   "metadata": {
    "scrolled": true
   },
   "outputs": [
    {
     "name": "stderr",
     "output_type": "stream",
     "text": [
      "\n",
      "\n",
      "Feature Extraction:   0%|          | 0/80 [00:00<?, ?it/s]\u001b[A\u001b[A\n",
      "\n",
      "Feature Extraction:   1%|▏         | 1/80 [00:00<00:34,  2.27it/s]\u001b[A\u001b[A\n",
      "\n",
      "Feature Extraction:   4%|▍         | 3/80 [00:00<00:25,  3.05it/s]\u001b[A\u001b[A\n",
      "\n",
      "Feature Extraction:   6%|▋         | 5/80 [00:00<00:18,  3.98it/s]\u001b[A\u001b[A\n",
      "\n",
      "Feature Extraction:   8%|▊         | 6/80 [00:00<00:15,  4.81it/s]\u001b[A\u001b[A\n",
      "\n",
      "Feature Extraction:   9%|▉         | 7/80 [00:01<00:13,  5.58it/s]\u001b[A\u001b[A\n",
      "\n",
      "Feature Extraction:  10%|█         | 8/80 [00:01<00:22,  3.20it/s]\u001b[A\u001b[A\n",
      "\n",
      "Feature Extraction:  20%|██        | 16/80 [00:01<00:14,  4.29it/s]\u001b[A\u001b[A\n",
      "\n",
      "Feature Extraction:  22%|██▎       | 18/80 [00:02<00:11,  5.37it/s]\u001b[A\u001b[A\n",
      "\n",
      "Feature Extraction:  25%|██▌       | 20/80 [00:02<00:09,  6.66it/s]\u001b[A\u001b[A\n",
      "\n",
      "Feature Extraction:  28%|██▊       | 22/80 [00:02<00:07,  7.43it/s]\u001b[A\u001b[A\n",
      "\n",
      "Feature Extraction:  30%|███       | 24/80 [00:02<00:06,  8.03it/s]\u001b[A\u001b[A\n",
      "\n",
      "Feature Extraction:  32%|███▎      | 26/80 [00:02<00:06,  8.44it/s]\u001b[A\u001b[A\n",
      "\n",
      "Feature Extraction:  35%|███▌      | 28/80 [00:03<00:05,  9.43it/s]\u001b[A\u001b[A\n",
      "\n",
      "Feature Extraction:  38%|███▊      | 30/80 [00:03<00:04, 11.04it/s]\u001b[A\u001b[A\n",
      "\n",
      "Feature Extraction:  40%|████      | 32/80 [00:03<00:03, 12.18it/s]\u001b[A\u001b[A\n",
      "\n",
      "Feature Extraction:  42%|████▎     | 34/80 [00:03<00:04, 10.74it/s]\u001b[A\u001b[A\n",
      "\n",
      "Feature Extraction:  45%|████▌     | 36/80 [00:03<00:03, 12.40it/s]\u001b[A\u001b[A\n",
      "\n",
      "Feature Extraction:  48%|████▊     | 38/80 [00:03<00:03, 13.85it/s]\u001b[A\u001b[A\n",
      "\n",
      "Feature Extraction:  50%|█████     | 40/80 [00:03<00:02, 14.06it/s]\u001b[A\u001b[A\n",
      "\n",
      "Feature Extraction:  52%|█████▎    | 42/80 [00:03<00:02, 14.59it/s]\u001b[A\u001b[A\n",
      "\n",
      "Feature Extraction:  55%|█████▌    | 44/80 [00:04<00:02, 15.08it/s]\u001b[A\u001b[A\n",
      "\n",
      "Feature Extraction:  57%|█████▊    | 46/80 [00:04<00:03,  9.19it/s]\u001b[A\u001b[A\n",
      "\n",
      "Feature Extraction:  60%|██████    | 48/80 [00:04<00:02, 10.94it/s]\u001b[A\u001b[A\n",
      "\n",
      "Feature Extraction:  62%|██████▎   | 50/80 [00:04<00:02, 11.78it/s]\u001b[A\u001b[A\n",
      "\n",
      "Feature Extraction:  65%|██████▌   | 52/80 [00:04<00:02, 11.33it/s]\u001b[A\u001b[A\n",
      "\n",
      "Feature Extraction:  68%|██████▊   | 54/80 [00:05<00:02, 12.27it/s]\u001b[A\u001b[A\n",
      "\n",
      "Feature Extraction:  70%|███████   | 56/80 [00:05<00:02, 11.42it/s]\u001b[A\u001b[A\n",
      "\n",
      "Feature Extraction:  72%|███████▎  | 58/80 [00:05<00:01, 13.10it/s]\u001b[A\u001b[A\n",
      "\n",
      "Feature Extraction:  75%|███████▌  | 60/80 [00:05<00:01, 13.88it/s]\u001b[A\u001b[A\n",
      "\n",
      "Feature Extraction:  78%|███████▊  | 62/80 [00:05<00:01, 13.70it/s]\u001b[A\u001b[A\n",
      "\n",
      "Feature Extraction:  80%|████████  | 64/80 [00:05<00:01, 14.37it/s]\u001b[A\u001b[A\n",
      "\n",
      "Feature Extraction:  82%|████████▎ | 66/80 [00:05<00:01, 13.88it/s]\u001b[A\u001b[A\n",
      "\n",
      "Feature Extraction:  85%|████████▌ | 68/80 [00:06<00:00, 13.10it/s]\u001b[A\u001b[A\n",
      "\n",
      "Feature Extraction:  88%|████████▊ | 70/80 [00:06<00:00, 13.68it/s]\u001b[A\u001b[A\n",
      "\n",
      "Feature Extraction:  90%|█████████ | 72/80 [00:06<00:00, 13.92it/s]\u001b[A\u001b[A\n",
      "\n",
      "Feature Extraction:  92%|█████████▎| 74/80 [00:06<00:00, 13.94it/s]\u001b[A\u001b[A\n",
      "\n",
      "Feature Extraction:  95%|█████████▌| 76/80 [00:06<00:00, 13.56it/s]\u001b[A\u001b[A\n",
      "\n",
      "Feature Extraction:  98%|█████████▊| 78/80 [00:06<00:00, 14.07it/s]\u001b[A\u001b[A\n",
      "\n",
      "Feature Extraction: 100%|██████████| 80/80 [00:06<00:00, 11.71it/s]\u001b[A\u001b[A\n",
      "\n",
      "Feature Extraction:   0%|          | 0/80 [00:00<?, ?it/s]\u001b[A\u001b[A\n",
      "\n",
      "Feature Extraction:   1%|▏         | 1/80 [00:00<00:08,  9.87it/s]\u001b[A\u001b[A\n",
      "\n",
      "Feature Extraction:   8%|▊         | 6/80 [00:00<00:05, 12.83it/s]\u001b[A\u001b[A\n",
      "\n",
      "Feature Extraction:  19%|█▉        | 15/80 [00:00<00:03, 17.00it/s]\u001b[A\u001b[A\n",
      "\n",
      "Feature Extraction:  30%|███       | 24/80 [00:00<00:02, 22.35it/s]\u001b[A\u001b[A\n",
      "\n",
      "Feature Extraction:  40%|████      | 32/80 [00:00<00:01, 27.88it/s]\u001b[A\u001b[A\n",
      "\n",
      "Feature Extraction:  48%|████▊     | 38/80 [00:00<00:01, 33.16it/s]\u001b[A\u001b[A\n",
      "\n",
      "Feature Extraction:  57%|█████▊    | 46/80 [00:00<00:00, 38.83it/s]\u001b[A\u001b[A\n",
      "\n",
      "Feature Extraction:  70%|███████   | 56/80 [00:00<00:00, 46.44it/s]\u001b[A\u001b[A\n",
      "\n",
      "Feature Extraction:  80%|████████  | 64/80 [00:01<00:00, 52.09it/s]\u001b[A\u001b[A\n",
      "\n",
      "Feature Extraction:  92%|█████████▎| 74/80 [00:01<00:00, 60.63it/s]\u001b[A\u001b[A\n",
      "\n",
      "Feature Extraction: 100%|██████████| 80/80 [00:01<00:00, 66.90it/s]\u001b[A\u001b[A\n",
      "\n",
      "Feature Extraction:   0%|          | 0/80 [00:00<?, ?it/s]\u001b[A\u001b[A\n",
      "\n",
      "Feature Extraction:   8%|▊         | 6/80 [00:00<00:01, 56.24it/s]\u001b[A\u001b[A\n",
      "\n",
      "Feature Extraction:  14%|█▍        | 11/80 [00:00<00:01, 53.39it/s]\u001b[A\u001b[A\n",
      "\n",
      "Feature Extraction:  26%|██▋       | 21/80 [00:00<00:00, 60.98it/s]\u001b[A\u001b[A\n",
      "\n",
      "Feature Extraction:  39%|███▉      | 31/80 [00:00<00:00, 68.30it/s]\u001b[A\u001b[A\n",
      "\n",
      "Feature Extraction:  50%|█████     | 40/80 [00:00<00:00, 70.18it/s]\u001b[A\u001b[A\n",
      "\n",
      "Feature Extraction:  59%|█████▉    | 47/80 [00:00<00:00, 68.61it/s]\u001b[A\u001b[A\n",
      "\n",
      "Feature Extraction:  72%|███████▎  | 58/80 [00:00<00:00, 73.94it/s]\u001b[A\u001b[A\n",
      "\n",
      "Feature Extraction:  84%|████████▍ | 67/80 [00:00<00:00, 74.67it/s]\u001b[A\u001b[A\n",
      "\n",
      "Feature Extraction:  94%|█████████▍| 75/80 [00:01<00:00, 73.47it/s]\u001b[A\u001b[A\n",
      "\n",
      "Feature Extraction: 100%|██████████| 80/80 [00:01<00:00, 75.84it/s]\u001b[A\u001b[A\n",
      "\n",
      "Feature Extraction:   0%|          | 0/80 [00:00<?, ?it/s]\u001b[A\u001b[A\n",
      "\n",
      "Feature Extraction:  11%|█▏        | 9/80 [00:00<00:00, 88.09it/s]\u001b[A\u001b[A\n",
      "\n",
      "Feature Extraction:  25%|██▌       | 20/80 [00:00<00:00, 87.81it/s]\u001b[A\u001b[A\n",
      "\n",
      "Feature Extraction:  31%|███▏      | 25/80 [00:00<00:00, 70.86it/s]\u001b[A\u001b[A\n",
      "\n",
      "Feature Extraction:  44%|████▍     | 35/80 [00:00<00:00, 76.00it/s]\u001b[A\u001b[A\n",
      "\n",
      "Feature Extraction:  52%|█████▎    | 42/80 [00:00<00:00, 73.46it/s]\u001b[A\u001b[A\n",
      "\n",
      "Feature Extraction:  66%|██████▋   | 53/80 [00:00<00:00, 78.97it/s]\u001b[A\u001b[A\n",
      "\n",
      "Feature Extraction:  76%|███████▋  | 61/80 [00:00<00:00, 78.17it/s]\u001b[A\u001b[A\n",
      "\n",
      "Feature Extraction:  91%|█████████▏| 73/80 [00:00<00:00, 86.79it/s]\u001b[A\u001b[A\n",
      "\n",
      "Feature Extraction: 100%|██████████| 80/80 [00:01<00:00, 71.68it/s]\u001b[A\u001b[A"
     ]
    },
    {
     "name": "stdout",
     "output_type": "stream",
     "text": [
      "CPU times: user 58.5 s, sys: 3.61 s, total: 1min 2s\n",
      "Wall time: 30.3 s\n"
     ]
    }
   ],
   "source": [
    "%%time\n",
    "X = featurize(train, meta_train, aggs, fcp, n_jobs=16)"
   ]
  },
  {
   "cell_type": "code",
   "execution_count": 273,
   "metadata": {},
   "outputs": [
    {
     "data": {
      "text/html": [
       "<div>\n",
       "<style scoped>\n",
       "    .dataframe tbody tr th:only-of-type {\n",
       "        vertical-align: middle;\n",
       "    }\n",
       "\n",
       "    .dataframe tbody tr th {\n",
       "        vertical-align: top;\n",
       "    }\n",
       "\n",
       "    .dataframe thead th {\n",
       "        text-align: right;\n",
       "    }\n",
       "</style>\n",
       "<table border=\"1\" class=\"dataframe\">\n",
       "  <thead>\n",
       "    <tr style=\"text-align: right;\">\n",
       "      <th></th>\n",
       "      <th>object_id</th>\n",
       "      <th>flux_min</th>\n",
       "      <th>flux_max</th>\n",
       "      <th>flux_mean</th>\n",
       "      <th>flux_median</th>\n",
       "      <th>flux_std</th>\n",
       "      <th>flux_skew</th>\n",
       "      <th>flux_err_min</th>\n",
       "      <th>flux_err_max</th>\n",
       "      <th>flux_err_mean</th>\n",
       "      <th>...</th>\n",
       "      <th>bin_2_slope</th>\n",
       "      <th>bin_2_intercept</th>\n",
       "      <th>bin_2_r_value</th>\n",
       "      <th>bin_2_p_value</th>\n",
       "      <th>bin_2_std_err</th>\n",
       "      <th>bin_3_flux_kurtosis</th>\n",
       "      <th>bin_3_flux_mean</th>\n",
       "      <th>bin_3_flux_err_mean</th>\n",
       "      <th>bin_3_flux_skew</th>\n",
       "      <th>bin_3_flux_err_std</th>\n",
       "    </tr>\n",
       "  </thead>\n",
       "  <tbody>\n",
       "    <tr>\n",
       "      <th>0</th>\n",
       "      <td>615</td>\n",
       "      <td>-1100.440063</td>\n",
       "      <td>660.626343</td>\n",
       "      <td>-123.096998</td>\n",
       "      <td>-89.477524</td>\n",
       "      <td>394.109851</td>\n",
       "      <td>-0.349540</td>\n",
       "      <td>2.130510</td>\n",
       "      <td>12.845472</td>\n",
       "      <td>4.482743</td>\n",
       "      <td>...</td>\n",
       "      <td>24030.379155</td>\n",
       "      <td>-145587.356799</td>\n",
       "      <td>0.258553</td>\n",
       "      <td>4.353893e-03</td>\n",
       "      <td>8265.047516</td>\n",
       "      <td>0.430326</td>\n",
       "      <td>-46.744086</td>\n",
       "      <td>4.365833</td>\n",
       "      <td>-0.703042</td>\n",
       "      <td>1.646093</td>\n",
       "    </tr>\n",
       "    <tr>\n",
       "      <th>1</th>\n",
       "      <td>713</td>\n",
       "      <td>-14.735178</td>\n",
       "      <td>14.770886</td>\n",
       "      <td>-1.423351</td>\n",
       "      <td>-0.873033</td>\n",
       "      <td>6.471144</td>\n",
       "      <td>0.014989</td>\n",
       "      <td>0.639458</td>\n",
       "      <td>9.115748</td>\n",
       "      <td>2.359620</td>\n",
       "      <td>...</td>\n",
       "      <td>101.944267</td>\n",
       "      <td>-626.112393</td>\n",
       "      <td>0.120409</td>\n",
       "      <td>1.792697e-01</td>\n",
       "      <td>75.478353</td>\n",
       "      <td>0.088545</td>\n",
       "      <td>-8.140190</td>\n",
       "      <td>2.327743</td>\n",
       "      <td>0.227280</td>\n",
       "      <td>1.455394</td>\n",
       "    </tr>\n",
       "    <tr>\n",
       "      <th>2</th>\n",
       "      <td>730</td>\n",
       "      <td>-19.159811</td>\n",
       "      <td>47.310059</td>\n",
       "      <td>2.267434</td>\n",
       "      <td>0.409172</td>\n",
       "      <td>8.022239</td>\n",
       "      <td>3.177854</td>\n",
       "      <td>0.695106</td>\n",
       "      <td>11.281384</td>\n",
       "      <td>2.471061</td>\n",
       "      <td>...</td>\n",
       "      <td>-2064.888302</td>\n",
       "      <td>12520.073419</td>\n",
       "      <td>-0.627233</td>\n",
       "      <td>4.880146e-13</td>\n",
       "      <td>250.217209</td>\n",
       "      <td>2.916757</td>\n",
       "      <td>7.164814</td>\n",
       "      <td>2.302723</td>\n",
       "      <td>1.912551</td>\n",
       "      <td>1.555040</td>\n",
       "    </tr>\n",
       "    <tr>\n",
       "      <th>3</th>\n",
       "      <td>745</td>\n",
       "      <td>-15.494463</td>\n",
       "      <td>220.795212</td>\n",
       "      <td>8.909206</td>\n",
       "      <td>1.035895</td>\n",
       "      <td>27.558208</td>\n",
       "      <td>4.979826</td>\n",
       "      <td>0.567170</td>\n",
       "      <td>55.892746</td>\n",
       "      <td>2.555576</td>\n",
       "      <td>...</td>\n",
       "      <td>-41.376100</td>\n",
       "      <td>250.654304</td>\n",
       "      <td>-0.050705</td>\n",
       "      <td>5.823329e-01</td>\n",
       "      <td>75.024479</td>\n",
       "      <td>6.088809</td>\n",
       "      <td>0.050553</td>\n",
       "      <td>2.914420</td>\n",
       "      <td>-0.605998</td>\n",
       "      <td>5.521127</td>\n",
       "    </tr>\n",
       "    <tr>\n",
       "      <th>4</th>\n",
       "      <td>1124</td>\n",
       "      <td>-16.543753</td>\n",
       "      <td>143.600189</td>\n",
       "      <td>7.145702</td>\n",
       "      <td>1.141288</td>\n",
       "      <td>20.051722</td>\n",
       "      <td>4.406298</td>\n",
       "      <td>0.695277</td>\n",
       "      <td>11.383690</td>\n",
       "      <td>2.753004</td>\n",
       "      <td>...</td>\n",
       "      <td>-4918.341011</td>\n",
       "      <td>29808.648947</td>\n",
       "      <td>-0.658344</td>\n",
       "      <td>3.051860e-16</td>\n",
       "      <td>517.674111</td>\n",
       "      <td>6.436583</td>\n",
       "      <td>20.589439</td>\n",
       "      <td>2.725916</td>\n",
       "      <td>2.553437</td>\n",
       "      <td>1.813782</td>\n",
       "    </tr>\n",
       "  </tbody>\n",
       "</table>\n",
       "<p>5 rows × 100 columns</p>\n",
       "</div>"
      ],
      "text/plain": [
       "   object_id     flux_min    flux_max   flux_mean  flux_median    flux_std  \\\n",
       "0        615 -1100.440063  660.626343 -123.096998   -89.477524  394.109851   \n",
       "1        713   -14.735178   14.770886   -1.423351    -0.873033    6.471144   \n",
       "2        730   -19.159811   47.310059    2.267434     0.409172    8.022239   \n",
       "3        745   -15.494463  220.795212    8.909206     1.035895   27.558208   \n",
       "4       1124   -16.543753  143.600189    7.145702     1.141288   20.051722   \n",
       "\n",
       "   flux_skew  flux_err_min  flux_err_max  flux_err_mean         ...          \\\n",
       "0  -0.349540      2.130510     12.845472       4.482743         ...           \n",
       "1   0.014989      0.639458      9.115748       2.359620         ...           \n",
       "2   3.177854      0.695106     11.281384       2.471061         ...           \n",
       "3   4.979826      0.567170     55.892746       2.555576         ...           \n",
       "4   4.406298      0.695277     11.383690       2.753004         ...           \n",
       "\n",
       "    bin_2_slope  bin_2_intercept  bin_2_r_value  bin_2_p_value  bin_2_std_err  \\\n",
       "0  24030.379155   -145587.356799       0.258553   4.353893e-03    8265.047516   \n",
       "1    101.944267      -626.112393       0.120409   1.792697e-01      75.478353   \n",
       "2  -2064.888302     12520.073419      -0.627233   4.880146e-13     250.217209   \n",
       "3    -41.376100       250.654304      -0.050705   5.823329e-01      75.024479   \n",
       "4  -4918.341011     29808.648947      -0.658344   3.051860e-16     517.674111   \n",
       "\n",
       "   bin_3_flux_kurtosis  bin_3_flux_mean  bin_3_flux_err_mean  bin_3_flux_skew  \\\n",
       "0             0.430326       -46.744086             4.365833        -0.703042   \n",
       "1             0.088545        -8.140190             2.327743         0.227280   \n",
       "2             2.916757         7.164814             2.302723         1.912551   \n",
       "3             6.088809         0.050553             2.914420        -0.605998   \n",
       "4             6.436583        20.589439             2.725916         2.553437   \n",
       "\n",
       "   bin_3_flux_err_std  \n",
       "0            1.646093  \n",
       "1            1.455394  \n",
       "2            1.555040  \n",
       "3            5.521127  \n",
       "4            1.813782  \n",
       "\n",
       "[5 rows x 100 columns]"
      ]
     },
     "execution_count": 273,
     "metadata": {},
     "output_type": "execute_result"
    }
   ],
   "source": [
    "X_basic = X.copy()\n",
    "X = X.join(df_feat, on='object_id')\n",
    "X.head()"
   ]
  },
  {
   "cell_type": "code",
   "execution_count": 274,
   "metadata": {},
   "outputs": [],
   "source": [
    "if 'target' in X:\n",
    "    y = X['target']\n",
    "    del X['target']\n",
    "else:\n",
    "    print(\"What the duck\")\n",
    "    3//0"
   ]
  },
  {
   "cell_type": "code",
   "execution_count": 275,
   "metadata": {},
   "outputs": [
    {
     "name": "stdout",
     "output_type": "stream",
     "text": [
      "CPU times: user 380 ms, sys: 4 ms, total: 384 ms\n",
      "Wall time: 26 ms\n"
     ]
    }
   ],
   "source": [
    "%%time\n",
    "train_mean = X.mean(axis=0)\n",
    "#train_mean.to_hdf('train_data.hdf5', 'data')\n",
    "# pd.set_option('display.max_rows', 500)\n",
    "#import pdb; pdb.set_trace()\n",
    "X.fillna(0, inplace=True)"
   ]
  },
  {
   "cell_type": "code",
   "execution_count": 276,
   "metadata": {},
   "outputs": [
    {
     "data": {
      "text/plain": [
       "(7848, 99)"
      ]
     },
     "execution_count": 276,
     "metadata": {},
     "output_type": "execute_result"
    }
   ],
   "source": [
    "X.shape"
   ]
  },
  {
   "cell_type": "code",
   "execution_count": 277,
   "metadata": {},
   "outputs": [
    {
     "data": {
      "text/plain": [
       "(7848,)"
      ]
     },
     "execution_count": 277,
     "metadata": {},
     "output_type": "execute_result"
    }
   ],
   "source": [
    "y.shape"
   ]
  },
  {
   "cell_type": "markdown",
   "metadata": {},
   "source": [
    "### Train model with CV"
   ]
  },
  {
   "cell_type": "code",
   "execution_count": 278,
   "metadata": {},
   "outputs": [],
   "source": [
    "lgbm_params = {\n",
    "    'device': 'cpu',\n",
    "    'objective': 'multiclass',\n",
    "    'num_class': 14,\n",
    "    'boosting_type': 'gbdt',\n",
    "    'n_jobs': 16,\n",
    "    'max_depth': 5,\n",
    "    'n_estimators': 1024,\n",
    "    'subsample_freq': 2,\n",
    "    'subsample_for_bin': 5000,\n",
    "    'min_data_per_group': 100,\n",
    "    'max_cat_to_onehot': 4,\n",
    "    'cat_l2': 1.0,\n",
    "    'cat_smooth': 59.5,\n",
    "    'max_cat_threshold': 32,\n",
    "    'metric_freq': 10,\n",
    "    'verbosity': -1,\n",
    "    'metric': 'multi_logloss',\n",
    "    'xgboost_dart_mode': False,\n",
    "    'uniform_drop': False,\n",
    "    'colsample_bytree': 0.5,\n",
    "    'drop_rate': 0.173,\n",
    "    'learning_rate': 0.03,\n",
    "    'max_drop': 5,\n",
    "    'min_child_samples': 10,\n",
    "    'min_child_weight': 100.0,\n",
    "    'min_split_gain': 0.126,\n",
    "    'num_leaves': 9,\n",
    "    'reg_alpha': 0.1,\n",
    "    'reg_lambda': 0.00023,\n",
    "    'skip_drop': 0.44,\n",
    "    'subsample': 0.75,\n",
    "    'max_bin': 32,\n",
    "    'min_data_in_leaf': 13,\n",
    "    'lambda_l1': 2,\n",
    "}"
   ]
  },
  {
   "cell_type": "code",
   "execution_count": 279,
   "metadata": {},
   "outputs": [],
   "source": [
    "colnames_to_ignore = set([\n",
    "    'object_id',\n",
    "    'hostgal_specz',\n",
    "    'ra',\n",
    "    'decl',\n",
    "    'gal_l',\n",
    "    'gal_b',\n",
    "    'ddf',\n",
    "])\n",
    "colnames_to_ignore_restrictive = colnames_to_ignore | set([\n",
    "    'latlon1',\n",
    "    'haversine',\n",
    "])\n",
    "colnames_to_ignore_very_restrictive = colnames_to_ignore_restrictive | set([\n",
    "    'flux_err_skew',\n",
    "    'flux_by_flux_ratio_sq_sum'\n",
    "])\n",
    "feature_colnames = [col for col in X.columns if col not in colnames_to_ignore]\n",
    "id_colname = 'object_id'"
   ]
  },
  {
   "cell_type": "code",
   "execution_count": 280,
   "metadata": {},
   "outputs": [],
   "source": [
    "new_colnames_to_ignore = []"
   ]
  },
  {
   "cell_type": "code",
   "execution_count": 281,
   "metadata": {},
   "outputs": [],
   "source": [
    "feature_colnames = [col for col in X.columns if col not in colnames_to_ignore_very_restrictive]"
   ]
  },
  {
   "cell_type": "code",
   "execution_count": 282,
   "metadata": {},
   "outputs": [
    {
     "name": "stdout",
     "output_type": "stream",
     "text": [
      "Training until validation scores don't improve for 50 rounds.\n",
      "[100]\ttraining's multi_logloss: 0.283463\ttraining's wloss: 0.730706\tvalid_1's multi_logloss: 1.60783\tvalid_1's wloss: 0.948083\n",
      "[200]\ttraining's multi_logloss: 0.146946\ttraining's wloss: 0.469449\tvalid_1's multi_logloss: 1.25604\tvalid_1's wloss: 0.74816\n",
      "[300]\ttraining's multi_logloss: 0.105381\ttraining's wloss: 0.363484\tvalid_1's multi_logloss: 1.09445\tvalid_1's wloss: 0.695373\n",
      "[400]\ttraining's multi_logloss: 0.0836781\ttraining's wloss: 0.301492\tvalid_1's multi_logloss: 0.998747\tvalid_1's wloss: 0.669751\n",
      "[500]\ttraining's multi_logloss: 0.0694431\ttraining's wloss: 0.258794\tvalid_1's multi_logloss: 0.934852\tvalid_1's wloss: 0.660812\n",
      "[600]\ttraining's multi_logloss: 0.0588312\ttraining's wloss: 0.225483\tvalid_1's multi_logloss: 0.885632\tvalid_1's wloss: 0.659673\n",
      "Early stopping, best iteration is:\n",
      "[584]\ttraining's multi_logloss: 0.0603613\ttraining's wloss: 0.230214\tvalid_1's multi_logloss: 0.891772\tvalid_1's wloss: 0.658318\n",
      "no 1-fold loss: 0.6583181487351345\n",
      "Training until validation scores don't improve for 50 rounds.\n",
      "[100]\ttraining's multi_logloss: 0.281669\ttraining's wloss: 0.737133\tvalid_1's multi_logloss: 1.62854\tvalid_1's wloss: 0.96134\n",
      "[200]\ttraining's multi_logloss: 0.14641\ttraining's wloss: 0.475263\tvalid_1's multi_logloss: 1.2706\tvalid_1's wloss: 0.72556\n",
      "[300]\ttraining's multi_logloss: 0.104988\ttraining's wloss: 0.367029\tvalid_1's multi_logloss: 1.10513\tvalid_1's wloss: 0.645797\n",
      "[400]\ttraining's multi_logloss: 0.0832469\ttraining's wloss: 0.303938\tvalid_1's multi_logloss: 1.00938\tvalid_1's wloss: 0.611998\n",
      "[500]\ttraining's multi_logloss: 0.0687273\ttraining's wloss: 0.259162\tvalid_1's multi_logloss: 0.943487\tvalid_1's wloss: 0.593858\n",
      "[600]\ttraining's multi_logloss: 0.058265\ttraining's wloss: 0.226126\tvalid_1's multi_logloss: 0.899314\tvalid_1's wloss: 0.589101\n",
      "[700]\ttraining's multi_logloss: 0.0501828\ttraining's wloss: 0.199163\tvalid_1's multi_logloss: 0.861633\tvalid_1's wloss: 0.589438\n",
      "Early stopping, best iteration is:\n",
      "[680]\ttraining's multi_logloss: 0.0516624\ttraining's wloss: 0.204156\tvalid_1's multi_logloss: 0.868233\tvalid_1's wloss: 0.588207\n",
      "no 2-fold loss: 0.5882074326446814\n",
      "Training until validation scores don't improve for 50 rounds.\n",
      "[100]\ttraining's multi_logloss: 0.287156\ttraining's wloss: 0.74319\tvalid_1's multi_logloss: 1.58617\tvalid_1's wloss: 0.956485\n",
      "[200]\ttraining's multi_logloss: 0.150542\ttraining's wloss: 0.482419\tvalid_1's multi_logloss: 1.22119\tvalid_1's wloss: 0.750126\n",
      "[300]\ttraining's multi_logloss: 0.108971\ttraining's wloss: 0.375677\tvalid_1's multi_logloss: 1.05497\tvalid_1's wloss: 0.69313\n",
      "[400]\ttraining's multi_logloss: 0.0872444\ttraining's wloss: 0.31326\tvalid_1's multi_logloss: 0.964337\tvalid_1's wloss: 0.68344\n",
      "Early stopping, best iteration is:\n",
      "[386]\ttraining's multi_logloss: 0.0897568\ttraining's wloss: 0.320687\tvalid_1's multi_logloss: 0.974621\tvalid_1's wloss: 0.682606\n",
      "no 3-fold loss: 0.6826058587649854\n",
      "Training until validation scores don't improve for 50 rounds.\n",
      "[100]\ttraining's multi_logloss: 0.281525\ttraining's wloss: 0.738087\tvalid_1's multi_logloss: 1.60989\tvalid_1's wloss: 0.927727\n",
      "[200]\ttraining's multi_logloss: 0.145117\ttraining's wloss: 0.475512\tvalid_1's multi_logloss: 1.24099\tvalid_1's wloss: 0.698206\n",
      "[300]\ttraining's multi_logloss: 0.103791\ttraining's wloss: 0.367585\tvalid_1's multi_logloss: 1.07815\tvalid_1's wloss: 0.633891\n",
      "[400]\ttraining's multi_logloss: 0.0821312\ttraining's wloss: 0.304044\tvalid_1's multi_logloss: 0.982881\tvalid_1's wloss: 0.612393\n",
      "[500]\ttraining's multi_logloss: 0.0679884\ttraining's wloss: 0.259904\tvalid_1's multi_logloss: 0.919442\tvalid_1's wloss: 0.606706\n",
      "[600]\ttraining's multi_logloss: 0.0574743\ttraining's wloss: 0.225998\tvalid_1's multi_logloss: 0.872459\tvalid_1's wloss: 0.603605\n",
      "Early stopping, best iteration is:\n",
      "[580]\ttraining's multi_logloss: 0.0593562\ttraining's wloss: 0.232278\tvalid_1's multi_logloss: 0.880978\tvalid_1's wloss: 0.602668\n",
      "no 4-fold loss: 0.6026678828503009\n",
      "Training until validation scores don't improve for 50 rounds.\n",
      "[100]\ttraining's multi_logloss: 0.283804\ttraining's wloss: 0.739082\tvalid_1's multi_logloss: 1.63615\tvalid_1's wloss: 0.926576\n",
      "[200]\ttraining's multi_logloss: 0.146604\ttraining's wloss: 0.474057\tvalid_1's multi_logloss: 1.26565\tvalid_1's wloss: 0.691569\n",
      "[300]\ttraining's multi_logloss: 0.104912\ttraining's wloss: 0.365929\tvalid_1's multi_logloss: 1.09424\tvalid_1's wloss: 0.619902\n",
      "[400]\ttraining's multi_logloss: 0.0830254\ttraining's wloss: 0.303224\tvalid_1's multi_logloss: 1.00233\tvalid_1's wloss: 0.595125\n",
      "[500]\ttraining's multi_logloss: 0.0687298\ttraining's wloss: 0.259529\tvalid_1's multi_logloss: 0.937241\tvalid_1's wloss: 0.586968\n",
      "[600]\ttraining's multi_logloss: 0.0583707\ttraining's wloss: 0.226302\tvalid_1's multi_logloss: 0.88854\tvalid_1's wloss: 0.584408\n",
      "Early stopping, best iteration is:\n",
      "[613]\ttraining's multi_logloss: 0.0572076\ttraining's wloss: 0.222418\tvalid_1's multi_logloss: 0.882692\tvalid_1's wloss: 0.583912\n",
      "no 5-fold loss: 0.5839123492311465\n",
      "Training until validation scores don't improve for 50 rounds.\n",
      "[100]\ttraining's multi_logloss: 0.282787\ttraining's wloss: 0.740031\tvalid_1's multi_logloss: 1.62487\tvalid_1's wloss: 0.945091\n",
      "[200]\ttraining's multi_logloss: 0.145656\ttraining's wloss: 0.477261\tvalid_1's multi_logloss: 1.24339\tvalid_1's wloss: 0.711242\n",
      "[300]\ttraining's multi_logloss: 0.104075\ttraining's wloss: 0.368451\tvalid_1's multi_logloss: 1.07312\tvalid_1's wloss: 0.643968\n",
      "[400]\ttraining's multi_logloss: 0.0824455\ttraining's wloss: 0.305346\tvalid_1's multi_logloss: 0.97944\tvalid_1's wloss: 0.62698\n",
      "Early stopping, best iteration is:\n",
      "[448]\ttraining's multi_logloss: 0.0750273\ttraining's wloss: 0.282258\tvalid_1's multi_logloss: 0.946667\tvalid_1's wloss: 0.625861\n",
      "no 6-fold loss: 0.6258610270256975\n",
      "Training until validation scores don't improve for 50 rounds.\n",
      "[100]\ttraining's multi_logloss: 0.28537\ttraining's wloss: 0.739074\tvalid_1's multi_logloss: 1.64972\tvalid_1's wloss: 0.962588\n",
      "[200]\ttraining's multi_logloss: 0.147526\ttraining's wloss: 0.476371\tvalid_1's multi_logloss: 1.26449\tvalid_1's wloss: 0.736712\n",
      "[300]\ttraining's multi_logloss: 0.105485\ttraining's wloss: 0.368553\tvalid_1's multi_logloss: 1.0985\tvalid_1's wloss: 0.678475\n",
      "[400]\ttraining's multi_logloss: 0.0836154\ttraining's wloss: 0.305415\tvalid_1's multi_logloss: 1.00169\tvalid_1's wloss: 0.655818\n",
      "[500]\ttraining's multi_logloss: 0.0691027\ttraining's wloss: 0.26078\tvalid_1's multi_logloss: 0.934757\tvalid_1's wloss: 0.649052\n",
      "[600]\ttraining's multi_logloss: 0.0585789\ttraining's wloss: 0.227045\tvalid_1's multi_logloss: 0.885472\tvalid_1's wloss: 0.647699\n",
      "Early stopping, best iteration is:\n",
      "[596]\ttraining's multi_logloss: 0.0589469\ttraining's wloss: 0.228339\tvalid_1's multi_logloss: 0.887336\tvalid_1's wloss: 0.647185\n",
      "no 7-fold loss: 0.6471846645286154\n",
      "Training until validation scores don't improve for 50 rounds.\n",
      "[100]\ttraining's multi_logloss: 0.281708\ttraining's wloss: 0.735582\tvalid_1's multi_logloss: 1.65649\tvalid_1's wloss: 0.978281\n",
      "[200]\ttraining's multi_logloss: 0.145565\ttraining's wloss: 0.474222\tvalid_1's multi_logloss: 1.27948\tvalid_1's wloss: 0.740548\n",
      "[300]\ttraining's multi_logloss: 0.104759\ttraining's wloss: 0.367861\tvalid_1's multi_logloss: 1.10537\tvalid_1's wloss: 0.663805\n",
      "[400]\ttraining's multi_logloss: 0.0834576\ttraining's wloss: 0.305139\tvalid_1's multi_logloss: 1.00233\tvalid_1's wloss: 0.635434\n",
      "[500]\ttraining's multi_logloss: 0.069303\ttraining's wloss: 0.261566\tvalid_1's multi_logloss: 0.936583\tvalid_1's wloss: 0.623169\n",
      "[600]\ttraining's multi_logloss: 0.0587815\ttraining's wloss: 0.228235\tvalid_1's multi_logloss: 0.886687\tvalid_1's wloss: 0.6122\n",
      "[700]\ttraining's multi_logloss: 0.0507403\ttraining's wloss: 0.201357\tvalid_1's multi_logloss: 0.848196\tvalid_1's wloss: 0.607937\n",
      "Early stopping, best iteration is:\n",
      "[746]\ttraining's multi_logloss: 0.0475574\ttraining's wloss: 0.190653\tvalid_1's multi_logloss: 0.832188\tvalid_1's wloss: 0.60588\n",
      "no 8-fold loss: 0.6058802832199752\n",
      "MULTI WEIGHTED LOG LOSS: 0.62517\n"
     ]
    }
   ],
   "source": [
    "clfs, score, importances = train_and_validate(\n",
    "    X=X, \n",
    "    y=y,\n",
    "    feature_colnames=feature_colnames, \n",
    "    id_colname=id_colname, \n",
    "    model='lgbm', \n",
    "    model_params=lgbm_params, \n",
    "    nr_fold=8, \n",
    "    random_state=1\n",
    ")\n",
    "submission_file_path = path_from_cv_score(score, suffix='')"
   ]
  },
  {
   "cell_type": "code",
   "execution_count": 283,
   "metadata": {},
   "outputs": [
    {
     "data": {
      "image/png": "[encoded data removed]",
      "text/plain": [
       "<Figure size 864x1152 with 1 Axes>"
      ]
     },
     "metadata": {
      "needs_background": "light"
     },
     "output_type": "display_data"
    }
   ],
   "source": [
    "fig, ax = plt.subplots(figsize=(12,16))\n",
    "sns.barplot(ax=ax, data=importances.sort_values(by='mean_gain', ascending=False).head(50), x='gain', y='feature', hue='fold', )\n",
    "plt.show()"
   ]
  },
  {
   "cell_type": "code",
   "execution_count": 284,
   "metadata": {},
   "outputs": [
    {
     "data": {
      "image/png": "[encoded data removed]",
      "text/plain": [
       "<Figure size 864x1152 with 1 Axes>"
      ]
     },
     "metadata": {
      "needs_background": "light"
     },
     "output_type": "display_data"
    }
   ],
   "source": [
    "fig, ax = plt.subplots(figsize=(12,16))\n",
    "sns.barplot(ax=ax, data=importances.sort_values(by='mean_gain', ascending=False).tail(50), x='gain', y='feature', hue='fold', )\n",
    "plt.show()"
   ]
  },
  {
   "cell_type": "markdown",
   "metadata": {},
   "source": [
    "### Generate features for the test set"
   ]
  },
  {
   "cell_type": "code",
   "execution_count": null,
   "metadata": {},
   "outputs": [],
   "source": [
    "sorted_importances = importances.groupby('feature').mean().sort_values(by='mean_gain', ascending=False)"
   ]
  },
  {
   "cell_type": "code",
   "execution_count": null,
   "metadata": {},
   "outputs": [],
   "source": [
    "sns.distplot(sorted_importances['mean_gain'])"
   ]
  },
  {
   "cell_type": "code",
   "execution_count": null,
   "metadata": {},
   "outputs": [],
   "source": [
    "sns.distplot(sorted_importances[sorted_importances['mean_gain'] < 200.]['mean_gain'], bins=20)"
   ]
  },
  {
   "cell_type": "code",
   "execution_count": null,
   "metadata": {},
   "outputs": [],
   "source": [
    "new_features_to_drop = sorted_importances[sorted_importances['mean_gain'] < 100.].index.unique()"
   ]
  },
  {
   "cell_type": "code",
   "execution_count": null,
   "metadata": {},
   "outputs": [],
   "source": [
    "new_features_to_drop"
   ]
  },
  {
   "cell_type": "markdown",
   "metadata": {},
   "source": [
    "### Generate predictions"
   ]
  },
  {
   "cell_type": "code",
   "execution_count": null,
   "metadata": {},
   "outputs": [],
   "source": [
    "def train_validate_predict(ignore_colnames: Set[str], name_suffix: str):\n",
    "    feature_colnames = [col for col in X.columns if col not in ignore_colnames]\n",
    "    clfs, score, importances = train_and_validate(\n",
    "        X=X, \n",
    "        y=y,\n",
    "        feature_colnames=feature_colnames, \n",
    "        id_colname=id_colname, \n",
    "        model='lgbm', \n",
    "        model_params=lgbm_params, \n",
    "        nr_fold=5, \n",
    "        random_state=1\n",
    "    )\n",
    "    submission_file_path = path_from_cv_score(score, suffix=name_suffix)\n",
    "    print(submission_file_path)\n",
    "    print(importances.sort_values(by='mean_gain', ascending=False).head(15))\n",
    "    submission = predict_test(\n",
    "        clfs=clfs, \n",
    "        feature_colnames=feature_colnames, \n",
    "        id_colname=id_colname, \n",
    "        input_path='../data/features/test-all-feat-from-kernel-repro.csv', \n",
    "        output_path=submission_file_path, \n",
    "        verbose=True\n",
    "    )"
   ]
  },
  {
   "cell_type": "code",
   "execution_count": null,
   "metadata": {},
   "outputs": [],
   "source": [
    "for i, ign_cols in enumerate([colnames_to_ignore, colnames_to_ignore_restrictive, colnames_to_ignore_very_restrictive]):\n",
    "    print(f\"Iteration {i}, ignoring columnsL \", ign_cols)\n",
    "    train_validate_predict(ign_cols)"
   ]
  },
  {
   "cell_type": "code",
   "execution_count": null,
   "metadata": {},
   "outputs": [],
   "source": [
    "print(\"Done\")"
   ]
  }
 ],
 "metadata": {
  "kernelspec": {
   "display_name": "Python 3",
   "language": "python",
   "name": "python3"
  },
  "language_info": {
   "codemirror_mode": {
    "name": "ipython",
    "version": 3
   },
   "file_extension": ".py",
   "mimetype": "text/x-python",
   "name": "python",
   "nbconvert_exporter": "python",
   "pygments_lexer": "ipython3",
   "version": "3.6.7"
  }
 },
 "nbformat": 4,
 "nbformat_minor": 2
}
