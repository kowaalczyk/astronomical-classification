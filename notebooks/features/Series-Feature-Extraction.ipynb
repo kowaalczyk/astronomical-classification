{
 "cells": [
  {
   "cell_type": "markdown",
   "metadata": {},
   "source": [
    "# Attempting to fit flux time series to various characteristical curves and use their coeffs as features"
   ]
  },
  {
   "cell_type": "markdown",
   "metadata": {},
   "source": [
    "### Useful work:\n",
    "\n",
    "- http://astro.uchicago.edu/~frieman/Courses/A411-old/References/supernova-photometric-classification-1008.1024.pdf?fbclid=IwAR1jnLflM2OXY3mXEb3ZzZ_jdXYczsRn-90hMCX7lNghn3JXe_n42voz4OE\n",
    "- https://www.kaggle.com/c/PLAsTiCC-2018/discussion/73572\n",
    "- https://www.kaggle.com/mithrillion/all-classes-light-curve-characteristics-updated\n",
    "- https://www.kaggle.com/mithrillion/strategies-for-flux-time-series-preprocessing\n",
    "- https://docs.scipy.org/doc/scipy/reference/signal.html\n",
    "- https://en.wikipedia.org/wiki/Dynamic_time_warping"
   ]
  },
  {
   "cell_type": "markdown",
   "metadata": {},
   "source": [
    "### Feature generation experiments\n",
    "Not implemented outside of this notebook yet"
   ]
  },
  {
   "cell_type": "code",
   "execution_count": 1,
   "metadata": {},
   "outputs": [],
   "source": [
    "import dask.dataframe as dd\n",
    "import pandas as pd\n",
    "import numpy as np"
   ]
  },
  {
   "cell_type": "code",
   "execution_count": null,
   "metadata": {},
   "outputs": [],
   "source": [
    "df = dd.read_csv('../../data/raw/test_set.csv')"
   ]
  },
  {
   "cell_type": "code",
   "execution_count": null,
   "metadata": {},
   "outputs": [],
   "source": [
    "%%time\n",
    "passband_aggregates = df.groupby('passband').flux.agg(['min', 'max', 'mean', 'std']).compute()"
   ]
  },
  {
   "cell_type": "code",
   "execution_count": null,
   "metadata": {},
   "outputs": [],
   "source": [
    "freq = pd.DataFrame({\n",
    "    0: [300,400],\n",
    "    1: [400,600],\n",
    "    2: [500,700],\n",
    "    3: [650,850],\n",
    "    4: [800,950],\n",
    "    5: [950,1050],\n",
    "}, index=['min', 'max'])\n",
    "freq.loc['mean'] = freq.mean()\n",
    "freq = freq.transpose().add_prefix('freq_')"
   ]
  },
  {
   "cell_type": "code",
   "execution_count": null,
   "metadata": {},
   "outputs": [],
   "source": [
    "passband_meta = passband_aggregates.add_prefix('flux_').join(freq)"
   ]
  },
  {
   "cell_type": "code",
   "execution_count": null,
   "metadata": {},
   "outputs": [],
   "source": [
    "test_meta = pd.read_csv('../../data/raw/test_set_metadata.csv')"
   ]
  },
  {
   "cell_type": "code",
   "execution_count": null,
   "metadata": {},
   "outputs": [],
   "source": [
    "redshift = test_meta.agg({'hostgal_photoz': ['mean', 'min', 'max', 'std']})"
   ]
  },
  {
   "cell_type": "code",
   "execution_count": null,
   "metadata": {},
   "outputs": [],
   "source": [
    "train = pd.read_csv('../../data/raw/training_set.csv')\n",
    "train_meta = pd.read_csv('../../data/raw/training_set_metadata.csv')"
   ]
  },
  {
   "cell_type": "code",
   "execution_count": null,
   "metadata": {},
   "outputs": [],
   "source": [
    "train_aggregates = train.groupby('passband').flux.agg(['min', 'max', 'mean', 'std']).add_prefix('train_flux_')\n",
    "train_redshift = train_meta.agg({'hostgal_photoz': ['mean', 'min', 'max', 'std']}).add_prefix('train_')"
   ]
  },
  {
   "cell_type": "code",
   "execution_count": 114,
   "metadata": {},
   "outputs": [],
   "source": [
    "passband_meta = passband_meta.join(train_aggregates)"
   ]
  },
  {
   "cell_type": "code",
   "execution_count": 115,
   "metadata": {},
   "outputs": [],
   "source": [
    "redshift_meta = redshift.join(train_redshift)"
   ]
  },
  {
   "cell_type": "code",
   "execution_count": 116,
   "metadata": {},
   "outputs": [
    {
     "data": {
      "text/html": [
       "<div>\n",
       "<style scoped>\n",
       "    .dataframe tbody tr th:only-of-type {\n",
       "        vertical-align: middle;\n",
       "    }\n",
       "\n",
       "    .dataframe tbody tr th {\n",
       "        vertical-align: top;\n",
       "    }\n",
       "\n",
       "    .dataframe thead th {\n",
       "        text-align: right;\n",
       "    }\n",
       "</style>\n",
       "<table border=\"1\" class=\"dataframe\">\n",
       "  <thead>\n",
       "    <tr style=\"text-align: right;\">\n",
       "      <th></th>\n",
       "      <th>flux_min</th>\n",
       "      <th>flux_max</th>\n",
       "      <th>flux_mean</th>\n",
       "      <th>flux_std</th>\n",
       "      <th>freq_min</th>\n",
       "      <th>freq_max</th>\n",
       "      <th>freq_mean</th>\n",
       "      <th>train_flux_min</th>\n",
       "      <th>train_flux_max</th>\n",
       "      <th>train_flux_mean</th>\n",
       "      <th>train_flux_std</th>\n",
       "    </tr>\n",
       "    <tr>\n",
       "      <th>passband</th>\n",
       "      <th></th>\n",
       "      <th></th>\n",
       "      <th></th>\n",
       "      <th></th>\n",
       "      <th></th>\n",
       "      <th></th>\n",
       "      <th></th>\n",
       "      <th></th>\n",
       "      <th></th>\n",
       "      <th></th>\n",
       "      <th></th>\n",
       "    </tr>\n",
       "  </thead>\n",
       "  <tbody>\n",
       "    <tr>\n",
       "      <th>0</th>\n",
       "      <td>-8.935484e+06</td>\n",
       "      <td>1.367579e+07</td>\n",
       "      <td>3.486876</td>\n",
       "      <td>16904.505340</td>\n",
       "      <td>300.0</td>\n",
       "      <td>400.0</td>\n",
       "      <td>350.0</td>\n",
       "      <td>-1.149388e+06</td>\n",
       "      <td>2.432809e+06</td>\n",
       "      <td>21.871795</td>\n",
       "      <td>7625.403812</td>\n",
       "    </tr>\n",
       "    <tr>\n",
       "      <th>1</th>\n",
       "      <td>-1.440740e+05</td>\n",
       "      <td>2.521541e+05</td>\n",
       "      <td>3.621615</td>\n",
       "      <td>1021.469816</td>\n",
       "      <td>400.0</td>\n",
       "      <td>600.0</td>\n",
       "      <td>500.0</td>\n",
       "      <td>-3.657252e+04</td>\n",
       "      <td>1.728294e+05</td>\n",
       "      <td>21.050868</td>\n",
       "      <td>1093.284525</td>\n",
       "    </tr>\n",
       "    <tr>\n",
       "      <th>2</th>\n",
       "      <td>-7.443788e+04</td>\n",
       "      <td>2.036998e+05</td>\n",
       "      <td>6.540808</td>\n",
       "      <td>778.074806</td>\n",
       "      <td>500.0</td>\n",
       "      <td>700.0</td>\n",
       "      <td>600.0</td>\n",
       "      <td>-1.939117e+04</td>\n",
       "      <td>3.842410e+05</td>\n",
       "      <td>37.078660</td>\n",
       "      <td>2339.649282</td>\n",
       "    </tr>\n",
       "    <tr>\n",
       "      <th>3</th>\n",
       "      <td>-9.078573e+04</td>\n",
       "      <td>2.826358e+05</td>\n",
       "      <td>7.538213</td>\n",
       "      <td>650.457695</td>\n",
       "      <td>650.0</td>\n",
       "      <td>850.0</td>\n",
       "      <td>750.0</td>\n",
       "      <td>-4.418473e+04</td>\n",
       "      <td>4.786452e+05</td>\n",
       "      <td>33.123413</td>\n",
       "      <td>2477.230889</td>\n",
       "    </tr>\n",
       "    <tr>\n",
       "      <th>4</th>\n",
       "      <td>-1.166522e+05</td>\n",
       "      <td>7.251493e+05</td>\n",
       "      <td>7.202244</td>\n",
       "      <td>726.519569</td>\n",
       "      <td>800.0</td>\n",
       "      <td>950.0</td>\n",
       "      <td>875.0</td>\n",
       "      <td>-8.753470e+04</td>\n",
       "      <td>5.342851e+05</td>\n",
       "      <td>25.322441</td>\n",
       "      <td>2577.226679</td>\n",
       "    </tr>\n",
       "    <tr>\n",
       "      <th>5</th>\n",
       "      <td>-2.009988e+05</td>\n",
       "      <td>6.350717e+05</td>\n",
       "      <td>6.994828</td>\n",
       "      <td>853.411579</td>\n",
       "      <td>950.0</td>\n",
       "      <td>1050.0</td>\n",
       "      <td>1000.0</td>\n",
       "      <td>-1.269998e+05</td>\n",
       "      <td>6.142572e+05</td>\n",
       "      <td>11.657914</td>\n",
       "      <td>3182.773739</td>\n",
       "    </tr>\n",
       "  </tbody>\n",
       "</table>\n",
       "</div>"
      ],
      "text/plain": [
       "              flux_min      flux_max  flux_mean      flux_std  freq_min  \\\n",
       "passband                                                                  \n",
       "0        -8.935484e+06  1.367579e+07   3.486876  16904.505340     300.0   \n",
       "1        -1.440740e+05  2.521541e+05   3.621615   1021.469816     400.0   \n",
       "2        -7.443788e+04  2.036998e+05   6.540808    778.074806     500.0   \n",
       "3        -9.078573e+04  2.826358e+05   7.538213    650.457695     650.0   \n",
       "4        -1.166522e+05  7.251493e+05   7.202244    726.519569     800.0   \n",
       "5        -2.009988e+05  6.350717e+05   6.994828    853.411579     950.0   \n",
       "\n",
       "          freq_max  freq_mean  train_flux_min  train_flux_max  \\\n",
       "passband                                                        \n",
       "0            400.0      350.0   -1.149388e+06    2.432809e+06   \n",
       "1            600.0      500.0   -3.657252e+04    1.728294e+05   \n",
       "2            700.0      600.0   -1.939117e+04    3.842410e+05   \n",
       "3            850.0      750.0   -4.418473e+04    4.786452e+05   \n",
       "4            950.0      875.0   -8.753470e+04    5.342851e+05   \n",
       "5           1050.0     1000.0   -1.269998e+05    6.142572e+05   \n",
       "\n",
       "          train_flux_mean  train_flux_std  \n",
       "passband                                   \n",
       "0               21.871795     7625.403812  \n",
       "1               21.050868     1093.284525  \n",
       "2               37.078660     2339.649282  \n",
       "3               33.123413     2477.230889  \n",
       "4               25.322441     2577.226679  \n",
       "5               11.657914     3182.773739  "
      ]
     },
     "execution_count": 116,
     "metadata": {},
     "output_type": "execute_result"
    }
   ],
   "source": [
    "passband_meta"
   ]
  },
  {
   "cell_type": "code",
   "execution_count": 117,
   "metadata": {},
   "outputs": [
    {
     "data": {
      "text/html": [
       "<div>\n",
       "<style scoped>\n",
       "    .dataframe tbody tr th:only-of-type {\n",
       "        vertical-align: middle;\n",
       "    }\n",
       "\n",
       "    .dataframe tbody tr th {\n",
       "        vertical-align: top;\n",
       "    }\n",
       "\n",
       "    .dataframe thead th {\n",
       "        text-align: right;\n",
       "    }\n",
       "</style>\n",
       "<table border=\"1\" class=\"dataframe\">\n",
       "  <thead>\n",
       "    <tr style=\"text-align: right;\">\n",
       "      <th></th>\n",
       "      <th>hostgal_photoz</th>\n",
       "      <th>train_hostgal_photoz</th>\n",
       "    </tr>\n",
       "  </thead>\n",
       "  <tbody>\n",
       "    <tr>\n",
       "      <th>mean</th>\n",
       "      <td>0.516816</td>\n",
       "      <td>0.357885</td>\n",
       "    </tr>\n",
       "    <tr>\n",
       "      <th>min</th>\n",
       "      <td>0.000000</td>\n",
       "      <td>0.000000</td>\n",
       "    </tr>\n",
       "    <tr>\n",
       "      <th>max</th>\n",
       "      <td>3.000000</td>\n",
       "      <td>2.999400</td>\n",
       "    </tr>\n",
       "    <tr>\n",
       "      <th>std</th>\n",
       "      <td>0.449134</td>\n",
       "      <td>0.545552</td>\n",
       "    </tr>\n",
       "  </tbody>\n",
       "</table>\n",
       "</div>"
      ],
      "text/plain": [
       "      hostgal_photoz  train_hostgal_photoz\n",
       "mean        0.516816              0.357885\n",
       "min         0.000000              0.000000\n",
       "max         3.000000              2.999400\n",
       "std         0.449134              0.545552"
      ]
     },
     "execution_count": 117,
     "metadata": {},
     "output_type": "execute_result"
    }
   ],
   "source": [
    "redshift_meta"
   ]
  },
  {
   "cell_type": "code",
   "execution_count": 118,
   "metadata": {},
   "outputs": [],
   "source": [
    "# these are some important readings, make sure to save them\n",
    "passband_meta.to_csv('../../data/features/passband-meta.csv')\n",
    "redshift_meta.to_csv('../../data/features/redshift-meta.csv')"
   ]
  },
  {
   "cell_type": "markdown",
   "metadata": {},
   "source": [
    "Improving passband meaning by calculating source frequency based on redshift will impact test performance even more than train performance"
   ]
  },
  {
   "cell_type": "code",
   "execution_count": 3,
   "metadata": {},
   "outputs": [],
   "source": [
    "passband_meta = pd.read_csv('../../data/features/passband-meta.csv')\n",
    "redshift_meta = pd.read_csv('../../data/features/redshift-meta.csv')"
   ]
  },
  {
   "cell_type": "code",
   "execution_count": 14,
   "metadata": {},
   "outputs": [],
   "source": [
    "passband_freq = passband_meta[[col for col in passband_meta if 'freq' in col]].copy()"
   ]
  },
  {
   "cell_type": "code",
   "execution_count": 15,
   "metadata": {},
   "outputs": [
    {
     "data": {
      "text/html": [
       "<div>\n",
       "<style scoped>\n",
       "    .dataframe tbody tr th:only-of-type {\n",
       "        vertical-align: middle;\n",
       "    }\n",
       "\n",
       "    .dataframe tbody tr th {\n",
       "        vertical-align: top;\n",
       "    }\n",
       "\n",
       "    .dataframe thead th {\n",
       "        text-align: right;\n",
       "    }\n",
       "</style>\n",
       "<table border=\"1\" class=\"dataframe\">\n",
       "  <thead>\n",
       "    <tr style=\"text-align: right;\">\n",
       "      <th></th>\n",
       "      <th>freq_min</th>\n",
       "      <th>freq_max</th>\n",
       "      <th>freq_mean</th>\n",
       "      <th>freq_high_conf_min</th>\n",
       "      <th>freq_high_conf_max</th>\n",
       "    </tr>\n",
       "  </thead>\n",
       "  <tbody>\n",
       "    <tr>\n",
       "      <th>0</th>\n",
       "      <td>300.0</td>\n",
       "      <td>400.0</td>\n",
       "      <td>350.0</td>\n",
       "      <td>316.50</td>\n",
       "      <td>433.50</td>\n",
       "    </tr>\n",
       "    <tr>\n",
       "      <th>1</th>\n",
       "      <td>400.0</td>\n",
       "      <td>600.0</td>\n",
       "      <td>500.0</td>\n",
       "      <td>433.00</td>\n",
       "      <td>667.00</td>\n",
       "    </tr>\n",
       "    <tr>\n",
       "      <th>2</th>\n",
       "      <td>500.0</td>\n",
       "      <td>700.0</td>\n",
       "      <td>600.0</td>\n",
       "      <td>533.00</td>\n",
       "      <td>767.00</td>\n",
       "    </tr>\n",
       "    <tr>\n",
       "      <th>3</th>\n",
       "      <td>650.0</td>\n",
       "      <td>850.0</td>\n",
       "      <td>750.0</td>\n",
       "      <td>683.00</td>\n",
       "      <td>917.00</td>\n",
       "    </tr>\n",
       "    <tr>\n",
       "      <th>4</th>\n",
       "      <td>800.0</td>\n",
       "      <td>950.0</td>\n",
       "      <td>875.0</td>\n",
       "      <td>824.75</td>\n",
       "      <td>1000.25</td>\n",
       "    </tr>\n",
       "    <tr>\n",
       "      <th>5</th>\n",
       "      <td>950.0</td>\n",
       "      <td>1050.0</td>\n",
       "      <td>1000.0</td>\n",
       "      <td>966.50</td>\n",
       "      <td>1083.50</td>\n",
       "    </tr>\n",
       "  </tbody>\n",
       "</table>\n",
       "</div>"
      ],
      "text/plain": [
       "   freq_min  freq_max  freq_mean  freq_high_conf_min  freq_high_conf_max\n",
       "0     300.0     400.0      350.0              316.50              433.50\n",
       "1     400.0     600.0      500.0              433.00              667.00\n",
       "2     500.0     700.0      600.0              533.00              767.00\n",
       "3     650.0     850.0      750.0              683.00              917.00\n",
       "4     800.0     950.0      875.0              824.75             1000.25\n",
       "5     950.0    1050.0     1000.0              966.50             1083.50"
      ]
     },
     "execution_count": 15,
     "metadata": {},
     "output_type": "execute_result"
    }
   ],
   "source": [
    "high_confidence_threshold = (passband_freq['freq_mean'] - passband_freq['freq_min']) * 0.67\n",
    "passband_freq['freq_high_conf_min'] = passband_freq['freq_mean'] - high_confidence_threshold\n",
    "passband_freq['freq_high_conf_max'] = passband_freq['freq_max'] + high_confidence_threshold\n",
    "passband_freq"
   ]
  },
  {
   "cell_type": "code",
   "execution_count": 37,
   "metadata": {},
   "outputs": [
    {
     "data": {
      "text/plain": [
       "[350.0, 500.0, 600.0, 750.0, 875.0, 1000.0]"
      ]
     },
     "execution_count": 37,
     "metadata": {},
     "output_type": "execute_result"
    }
   ],
   "source": [
    "list(passband_freq['freq_mean'])"
   ]
  },
  {
   "cell_type": "code",
   "execution_count": 1,
   "metadata": {},
   "outputs": [],
   "source": [
    "import pandas as pd\n",
    "import numpy as np\n",
    "from numba import jit, float32, float64, int32, int64"
   ]
  },
  {
   "cell_type": "code",
   "execution_count": 46,
   "metadata": {},
   "outputs": [],
   "source": [
    "@jit([\"int32(int32, float32)\", \"int64(int64, float64)\"], nopython=True)\n",
    "def fix_passband(raw_passband: int, redshift: float):\n",
    "    \"\"\" \n",
    "    Moving from raw passband r to passband p, if: \n",
    "    redshift offset x high confidence min freq of r <= min freq of p, \n",
    "    redshift offset x and high confidence max freq of r >= max freq of p\n",
    "    \"\"\"\n",
    "    freq_mean = np.array([350.0, 500.0, 600.0, 750.0, 875.0, 1000.0])\n",
    "    freq_min = np.array([300.0, 400.0, 500.0, 650.0, 800.0, 950.0])\n",
    "    freq_max = np.array([400.0, 600.0, 700.0, 850.0, 950.0, 1050.0])\n",
    "    mean_with_offset = (1+redshift) * freq_mean[raw_passband]\n",
    "    for i in range(6):\n",
    "        if mean_with_offset > freq_min[i] and mean_with_offset < freq_max[i]:\n",
    "            return i\n",
    "    return np.nan\n",
    "\n",
    "@jit([\"int32[:](float32[:,:])\", \"int64[:](float64[:,:])\"])\n",
    "def fix_passband_vct(passband_and_redshift_):\n",
    "    result = np.zeros(passband_and_redshift_.shape[0]).astype(np.int)\n",
    "    for i in range(passband_and_redshift_.shape[0]):\n",
    "        result[i] = fix_passband(passband_and_redshift_[i][0].astype(np.int), passband_and_redshift_[i][1])\n",
    "    return result"
   ]
  },
  {
   "cell_type": "code",
   "execution_count": 52,
   "metadata": {},
   "outputs": [],
   "source": [
    "ones = np.ones(5000000, dtype=np.int) # 1/10000 of the test set, more or less\n",
    "rss = np.random.rand(5000000)\n",
    "df_time_test = pd.DataFrame({'ones': ones, 'rss': rss})"
   ]
  },
  {
   "cell_type": "code",
   "execution_count": 53,
   "metadata": {},
   "outputs": [
    {
     "name": "stdout",
     "output_type": "stream",
     "text": [
      "CPU times: user 17.3 s, sys: 52 ms, total: 17.3 s\n",
      "Wall time: 17.3 s\n"
     ]
    },
    {
     "data": {
      "text/plain": [
       "array([3, 3, 4, 3, 3, 5, 1, 3, 3, 4])"
      ]
     },
     "execution_count": 53,
     "metadata": {},
     "output_type": "execute_result"
    }
   ],
   "source": [
    "%%time\n",
    "fix_passband_vct(df_time_test.values)[:10]"
   ]
  },
  {
   "cell_type": "code",
   "execution_count": 54,
   "metadata": {},
   "outputs": [
    {
     "data": {
      "text/html": [
       "<div>\n",
       "<style scoped>\n",
       "    .dataframe tbody tr th:only-of-type {\n",
       "        vertical-align: middle;\n",
       "    }\n",
       "\n",
       "    .dataframe tbody tr th {\n",
       "        vertical-align: top;\n",
       "    }\n",
       "\n",
       "    .dataframe thead th {\n",
       "        text-align: right;\n",
       "    }\n",
       "</style>\n",
       "<table border=\"1\" class=\"dataframe\">\n",
       "  <thead>\n",
       "    <tr style=\"text-align: right;\">\n",
       "      <th></th>\n",
       "      <th>ones</th>\n",
       "      <th>rss</th>\n",
       "    </tr>\n",
       "  </thead>\n",
       "  <tbody>\n",
       "    <tr>\n",
       "      <th>0</th>\n",
       "      <td>1</td>\n",
       "      <td>0.608068</td>\n",
       "    </tr>\n",
       "    <tr>\n",
       "      <th>1</th>\n",
       "      <td>1</td>\n",
       "      <td>0.550315</td>\n",
       "    </tr>\n",
       "    <tr>\n",
       "      <th>2</th>\n",
       "      <td>1</td>\n",
       "      <td>0.777934</td>\n",
       "    </tr>\n",
       "    <tr>\n",
       "      <th>3</th>\n",
       "      <td>1</td>\n",
       "      <td>0.442073</td>\n",
       "    </tr>\n",
       "    <tr>\n",
       "      <th>4</th>\n",
       "      <td>1</td>\n",
       "      <td>0.507400</td>\n",
       "    </tr>\n",
       "    <tr>\n",
       "      <th>5</th>\n",
       "      <td>1</td>\n",
       "      <td>0.989552</td>\n",
       "    </tr>\n",
       "    <tr>\n",
       "      <th>6</th>\n",
       "      <td>1</td>\n",
       "      <td>0.115404</td>\n",
       "    </tr>\n",
       "    <tr>\n",
       "      <th>7</th>\n",
       "      <td>1</td>\n",
       "      <td>0.477823</td>\n",
       "    </tr>\n",
       "    <tr>\n",
       "      <th>8</th>\n",
       "      <td>1</td>\n",
       "      <td>0.504899</td>\n",
       "    </tr>\n",
       "    <tr>\n",
       "      <th>9</th>\n",
       "      <td>1</td>\n",
       "      <td>0.877799</td>\n",
       "    </tr>\n",
       "  </tbody>\n",
       "</table>\n",
       "</div>"
      ],
      "text/plain": [
       "   ones       rss\n",
       "0     1  0.608068\n",
       "1     1  0.550315\n",
       "2     1  0.777934\n",
       "3     1  0.442073\n",
       "4     1  0.507400\n",
       "5     1  0.989552\n",
       "6     1  0.115404\n",
       "7     1  0.477823\n",
       "8     1  0.504899\n",
       "9     1  0.877799"
      ]
     },
     "execution_count": 54,
     "metadata": {},
     "output_type": "execute_result"
    }
   ],
   "source": [
    "df_time_test.head(10)"
   ]
  },
  {
   "cell_type": "code",
   "execution_count": 24,
   "metadata": {},
   "outputs": [
    {
     "ename": "NameError",
     "evalue": "name 'redshift_meta' is not defined",
     "output_type": "error",
     "traceback": [
      "\u001b[0;31m---------------------------------------------------------------------------\u001b[0m",
      "\u001b[0;31mNameError\u001b[0m                                 Traceback (most recent call last)",
      "\u001b[0;32m<ipython-input-24-b2cf263d1c77>\u001b[0m in \u001b[0;36m<module>\u001b[0;34m\u001b[0m\n\u001b[0;32m----> 1\u001b[0;31m \u001b[0mredshift_meta\u001b[0m\u001b[0;34m[\u001b[0m\u001b[0;34m'hostgal_photoz_mapped'\u001b[0m\u001b[0;34m]\u001b[0m \u001b[0;34m=\u001b[0m \u001b[0mredshift_meta\u001b[0m\u001b[0;34m.\u001b[0m\u001b[0mindex\u001b[0m\u001b[0;34m.\u001b[0m\u001b[0mmap\u001b[0m\u001b[0;34m(\u001b[0m\u001b[0mredshift_meta\u001b[0m\u001b[0;34m[\u001b[0m\u001b[0;34m'hostgal_photoz'\u001b[0m\u001b[0;34m]\u001b[0m\u001b[0;34m)\u001b[0m\u001b[0;34m\u001b[0m\u001b[0m\n\u001b[0m",
      "\u001b[0;31mNameError\u001b[0m: name 'redshift_meta' is not defined"
     ]
    }
   ],
   "source": [
    "redshift_meta['hostgal_photoz_mapped'] = redshift_meta.index.map(redshift_meta['hostgal_photoz'])"
   ]
  },
  {
   "cell_type": "markdown",
   "metadata": {},
   "source": [
    "### Generation of features"
   ]
  },
  {
   "cell_type": "markdown",
   "metadata": {},
   "source": [
    "Already implemented in featurize.py"
   ]
  },
  {
   "cell_type": "code",
   "execution_count": 1,
   "metadata": {},
   "outputs": [
    {
     "name": "stderr",
     "output_type": "stream",
     "text": [
      "Using TensorFlow backend.\n"
     ]
    }
   ],
   "source": [
    "import pandas as pd\n",
    "import numpy as np\n",
    "import matplotlib.pyplot as plt\n",
    "import seaborn as sns\n",
    "\n",
    "from typing import Set\n",
    "from datetime import datetime as dt\n",
    "\n",
    "from plasticc.featurize import process_meta, featurize\n",
    "from plasticc.training import path_from_cv_score, train_and_validate\n",
    "from plasticc.final import featurize_test, predict_test"
   ]
  },
  {
   "cell_type": "code",
   "execution_count": 2,
   "metadata": {},
   "outputs": [],
   "source": [
    "%load_ext autoreload\n",
    "%autoreload 2"
   ]
  },
  {
   "cell_type": "code",
   "execution_count": 3,
   "metadata": {},
   "outputs": [],
   "source": [
    "fcp = {\n",
    "    'flux': {\n",
    "        'longest_strike_above_mean': None,\n",
    "        'longest_strike_below_mean': None,\n",
    "        'mean_change': None,\n",
    "        'mean_abs_change': None,\n",
    "        'length': None,\n",
    "    },\n",
    "\n",
    "    'flux_by_flux_ratio_sq': {\n",
    "        'longest_strike_above_mean': None,\n",
    "        'longest_strike_below_mean': None,       \n",
    "    },\n",
    "\n",
    "    'flux_passband': {\n",
    "        'fft_coefficient': [\n",
    "                {'coeff': 0, 'attr': 'abs'}, \n",
    "                {'coeff': 1, 'attr': 'abs'}\n",
    "            ],\n",
    "        'maximum': None, \n",
    "        'minimum': None,\n",
    "        'mean_change': None,\n",
    "        'mean_abs_change': None,\n",
    "        'kurtosis' : None, \n",
    "        'skewness' : None,\n",
    "    },\n",
    "\n",
    "    'mjd': {\n",
    "        'maximum': None, \n",
    "        'minimum': None,\n",
    "        'mean_change': None,\n",
    "        'mean_abs_change': None,\n",
    "    },\n",
    "}"
   ]
  },
  {
   "cell_type": "code",
   "execution_count": 4,
   "metadata": {},
   "outputs": [],
   "source": [
    "aggs = {\n",
    "    'flux': ['min', 'max', 'mean', 'median', 'std', 'skew'],\n",
    "    'flux_err': ['min', 'max', 'mean', 'median', 'std', 'skew'],\n",
    "    'detected': ['mean'],\n",
    "    'flux_ratio_sq':['sum', 'skew'],\n",
    "    'flux_by_flux_ratio_sq':['sum','skew'],\n",
    "}"
   ]
  },
  {
   "cell_type": "markdown",
   "metadata": {},
   "source": [
    "### Generate features for model training"
   ]
  },
  {
   "cell_type": "code",
   "execution_count": 5,
   "metadata": {},
   "outputs": [
    {
     "name": "stdout",
     "output_type": "stream",
     "text": [
      "CPU times: user 2.98 s, sys: 652 ms, total: 3.63 s\n",
      "Wall time: 3.62 s\n"
     ]
    }
   ],
   "source": [
    "%%time\n",
    "meta_train = process_meta('../../data/raw/training_set_metadata.csv')\n",
    "train = pd.read_csv('../../data/raw/training_set.csv')"
   ]
  },
  {
   "cell_type": "code",
   "execution_count": 48,
   "metadata": {
    "scrolled": true
   },
   "outputs": [
    {
     "name": "stdout",
     "output_type": "stream",
     "text": [
      "Preprocessing time...\n",
      "Fixing passband alignment...\n",
      "Generating custom features...\n",
      "Custom features generated.\n"
     ]
    },
    {
     "name": "stderr",
     "output_type": "stream",
     "text": [
      "Feature Extraction: 100%|██████████| 80/80 [00:08<00:00,  8.95it/s]\n",
      "Feature Extraction: 100%|██████████| 80/80 [00:01<00:00, 47.23it/s]\n",
      "Feature Extraction: 100%|██████████| 80/80 [00:01<00:00, 48.28it/s]\n",
      "Feature Extraction: 100%|██████████| 80/80 [00:02<00:00, 34.46it/s]\n"
     ]
    },
    {
     "name": "stdout",
     "output_type": "stream",
     "text": [
      "CPU times: user 2min 53s, sys: 5.87 s, total: 2min 59s\n",
      "Wall time: 3min\n"
     ]
    }
   ],
   "source": [
    "%%time\n",
    "X = featurize(train, meta_train, aggs, fcp, n_jobs=16)"
   ]
  },
  {
   "cell_type": "code",
   "execution_count": 50,
   "metadata": {},
   "outputs": [
    {
     "data": {
      "text/plain": [
       "18.958333333333332"
      ]
     },
     "execution_count": 50,
     "metadata": {},
     "output_type": "execute_result"
    }
   ],
   "source": [
    "3.25*350/60  # hrs to featurize entire test set"
   ]
  },
  {
   "cell_type": "code",
   "execution_count": 51,
   "metadata": {},
   "outputs": [],
   "source": [
    "if 'target' in X:\n",
    "    y = X['target']\n",
    "    del X['target']\n",
    "else:\n",
    "    print(\"What the duck\")\n",
    "    3//0"
   ]
  },
  {
   "cell_type": "code",
   "execution_count": 52,
   "metadata": {},
   "outputs": [
    {
     "name": "stdout",
     "output_type": "stream",
     "text": [
      "CPU times: user 52 ms, sys: 4 ms, total: 56 ms\n",
      "Wall time: 54.6 ms\n"
     ]
    }
   ],
   "source": [
    "%%time\n",
    "train_mean = X.mean(axis=0)\n",
    "#train_mean.to_hdf('train_data.hdf5', 'data')\n",
    "# pd.set_option('display.max_rows', 500)\n",
    "#import pdb; pdb.set_trace()\n",
    "X.fillna(0, inplace=True)"
   ]
  },
  {
   "cell_type": "code",
   "execution_count": 53,
   "metadata": {},
   "outputs": [
    {
     "data": {
      "text/plain": [
       "(7848, 181)"
      ]
     },
     "execution_count": 53,
     "metadata": {},
     "output_type": "execute_result"
    }
   ],
   "source": [
    "X.shape"
   ]
  },
  {
   "cell_type": "code",
   "execution_count": 54,
   "metadata": {},
   "outputs": [
    {
     "data": {
      "text/plain": [
       "(7848,)"
      ]
     },
     "execution_count": 54,
     "metadata": {},
     "output_type": "execute_result"
    }
   ],
   "source": [
    "y.shape"
   ]
  },
  {
   "cell_type": "markdown",
   "metadata": {},
   "source": [
    "### Train model with CV"
   ]
  },
  {
   "cell_type": "code",
   "execution_count": 55,
   "metadata": {},
   "outputs": [],
   "source": [
    "lgbm_params = {\n",
    "    'device': 'cpu',\n",
    "    'objective': 'multiclass',\n",
    "    'num_class': 14,\n",
    "    'boosting_type': 'gbdt',\n",
    "    'n_jobs': 16,\n",
    "    'max_depth': 6,\n",
    "    'n_estimators': 2048,\n",
    "    'subsample_freq': 2,\n",
    "    'subsample_for_bin': 5000,\n",
    "    'min_data_per_group': 100,\n",
    "    'max_cat_to_onehot': 4,\n",
    "    'cat_l2': 1.0,\n",
    "    'cat_smooth': 59.5,\n",
    "    'max_cat_threshold': 32,\n",
    "    'metric_freq': 10,\n",
    "    'verbosity': -1,\n",
    "    'metric': 'multi_logloss',\n",
    "    'xgboost_dart_mode': False,\n",
    "    'uniform_drop': False,\n",
    "    'colsample_bytree': 0.5,\n",
    "    'drop_rate': 0.173,\n",
    "    'learning_rate': 0.02137,\n",
    "    'max_drop': 5,\n",
    "    'min_child_samples': 10,\n",
    "    'min_child_weight': 100.0,\n",
    "    'min_split_gain': 0.126,\n",
    "    'num_leaves': 7,\n",
    "    'reg_alpha': 0.1,\n",
    "    'reg_lambda': 0.00023,\n",
    "    'skip_drop': 0.44,\n",
    "    'subsample': 0.75,\n",
    "    'max_bin': 32,\n",
    "    'min_data_in_leaf': 13,\n",
    "    'lambda_l1': 2,\n",
    "}"
   ]
  },
  {
   "cell_type": "code",
   "execution_count": 56,
   "metadata": {},
   "outputs": [],
   "source": [
    "colnames_to_ignore = set([\n",
    "    'object_id',\n",
    "    'hostgal_specz',\n",
    "    'ra',\n",
    "    'decl',\n",
    "    'gal_l',\n",
    "    'gal_b',\n",
    "    'ddf',\n",
    "])\n",
    "colnames_to_ignore_restrictive = colnames_to_ignore | set([\n",
    "    'latlon1',\n",
    "    'haversine',\n",
    "])\n",
    "colnames_to_ignore_very_restrictive = colnames_to_ignore_restrictive | set([\n",
    "    'flux_err_skew',\n",
    "    'flux_by_flux_ratio_sq_sum'\n",
    "])\n",
    "feature_colnames = [col for col in X.columns if col not in colnames_to_ignore]\n",
    "\n",
    "colanmes_to_ignore_no_raw_data_peaks = colnames_to_ignore_very_restrictive | set([col for col in X.columns if 'peak' in col and not 'period' in col])\n",
    "\n",
    "colnames_to_ignore_no_custom_series_for_fpb = colnames_to_ignore_restrictive | set([col for col in X.columns if '_fpb' in col and not '__' in col])\n",
    "\n",
    "colnames_to_ignore_final = colanmes_to_ignore_no_raw_data_peaks | colnames_to_ignore_no_custom_series_for_fpb\n",
    "\n",
    "id_colname = 'object_id'"
   ]
  },
  {
   "cell_type": "code",
   "execution_count": 57,
   "metadata": {},
   "outputs": [],
   "source": [
    "feature_colnames = [col for col in X.columns if col not in colnames_to_ignore_final]"
   ]
  },
  {
   "cell_type": "code",
   "execution_count": 58,
   "metadata": {},
   "outputs": [
    {
     "data": {
      "text/plain": [
       "(7848, 146)"
      ]
     },
     "execution_count": 58,
     "metadata": {},
     "output_type": "execute_result"
    }
   ],
   "source": [
    "X[feature_colnames].shape"
   ]
  },
  {
   "cell_type": "code",
   "execution_count": null,
   "metadata": {},
   "outputs": [
    {
     "name": "stdout",
     "output_type": "stream",
     "text": [
      "Training until validation scores don't improve for 100 rounds.\n",
      "[100]\ttraining's multi_logloss: 0.403363\ttraining's wloss: 0.903578\tvalid_1's multi_logloss: 1.75736\tvalid_1's wloss: 1.1103\n",
      "[200]\ttraining's multi_logloss: 0.206011\ttraining's wloss: 0.588198\tvalid_1's multi_logloss: 1.35755\tvalid_1's wloss: 0.827918\n",
      "[300]\ttraining's multi_logloss: 0.147582\ttraining's wloss: 0.46307\tvalid_1's multi_logloss: 1.17598\tvalid_1's wloss: 0.743969\n",
      "[400]\ttraining's multi_logloss: 0.119446\ttraining's wloss: 0.392402\tvalid_1's multi_logloss: 1.07467\tvalid_1's wloss: 0.718419\n",
      "[500]\ttraining's multi_logloss: 0.102167\ttraining's wloss: 0.346105\tvalid_1's multi_logloss: 1.01095\tvalid_1's wloss: 0.708514\n",
      "[600]\ttraining's multi_logloss: 0.0895134\ttraining's wloss: 0.310561\tvalid_1's multi_logloss: 0.966467\tvalid_1's wloss: 0.703469\n",
      "[700]\ttraining's multi_logloss: 0.0796326\ttraining's wloss: 0.282068\tvalid_1's multi_logloss: 0.932047\tvalid_1's wloss: 0.708096\n",
      "Early stopping, best iteration is:\n",
      "[601]\ttraining's multi_logloss: 0.0894035\ttraining's wloss: 0.310221\tvalid_1's multi_logloss: 0.965983\tvalid_1's wloss: 0.703372\n",
      "no 1-fold loss: 0.7033718804093108\n",
      "Training until validation scores don't improve for 100 rounds.\n",
      "[100]\ttraining's multi_logloss: 0.412433\ttraining's wloss: 0.918909\tvalid_1's multi_logloss: 1.74598\tvalid_1's wloss: 1.10764\n",
      "[200]\ttraining's multi_logloss: 0.211921\ttraining's wloss: 0.599979\tvalid_1's multi_logloss: 1.34848\tvalid_1's wloss: 0.817644\n",
      "[300]\ttraining's multi_logloss: 0.151944\ttraining's wloss: 0.473313\tvalid_1's multi_logloss: 1.17602\tvalid_1's wloss: 0.728271\n",
      "[400]\ttraining's multi_logloss: 0.12323\ttraining's wloss: 0.402522\tvalid_1's multi_logloss: 1.08126\tvalid_1's wloss: 0.690759\n",
      "[500]\ttraining's multi_logloss: 0.105125\ttraining's wloss: 0.354185\tvalid_1's multi_logloss: 1.02\tvalid_1's wloss: 0.673164\n",
      "[600]\ttraining's multi_logloss: 0.0920653\ttraining's wloss: 0.317993\tvalid_1's multi_logloss: 0.974149\tvalid_1's wloss: 0.662236\n",
      "[700]\ttraining's multi_logloss: 0.0819391\ttraining's wloss: 0.288961\tvalid_1's multi_logloss: 0.93688\tvalid_1's wloss: 0.655255\n",
      "[800]\ttraining's multi_logloss: 0.0734407\ttraining's wloss: 0.263859\tvalid_1's multi_logloss: 0.905571\tvalid_1's wloss: 0.649328\n",
      "[900]\ttraining's multi_logloss: 0.066407\ttraining's wloss: 0.242713\tvalid_1's multi_logloss: 0.88016\tvalid_1's wloss: 0.647684\n",
      "[1000]\ttraining's multi_logloss: 0.0603836\ttraining's wloss: 0.224235\tvalid_1's multi_logloss: 0.857992\tvalid_1's wloss: 0.646356\n",
      "Early stopping, best iteration is:\n",
      "[979]\ttraining's multi_logloss: 0.0615938\ttraining's wloss: 0.227994\tvalid_1's multi_logloss: 0.862144\tvalid_1's wloss: 0.645908\n",
      "no 2-fold loss: 0.6459075175240966\n",
      "Training until validation scores don't improve for 100 rounds.\n",
      "[100]\ttraining's multi_logloss: 0.407791\ttraining's wloss: 0.913241\tvalid_1's multi_logloss: 1.70258\tvalid_1's wloss: 1.06751\n",
      "[200]\ttraining's multi_logloss: 0.207875\ttraining's wloss: 0.594436\tvalid_1's multi_logloss: 1.28961\tvalid_1's wloss: 0.769659\n",
      "[300]\ttraining's multi_logloss: 0.148574\ttraining's wloss: 0.467281\tvalid_1's multi_logloss: 1.10519\tvalid_1's wloss: 0.67439\n"
     ]
    }
   ],
   "source": [
    "%%time\n",
    "clfs, score, importances = train_and_validate(\n",
    "    X=X, \n",
    "    y=y, \n",
    "    feature_colnames=feature_colnames, \n",
    "    id_colname=id_colname, \n",
    "    model='lgbm', \n",
    "    model_params={\n",
    "        'lgbm': lgbm_params\n",
    "    }, \n",
    "    nr_fold=6, \n",
    "    random_state=1\n",
    ")"
   ]
  },
  {
   "cell_type": "code",
   "execution_count": null,
   "metadata": {},
   "outputs": [],
   "source": [
    "fig, ax = plt.subplots(figsize=(12,16))\n",
    "sns.barplot(ax=ax, data=importances.sort_values(by='mean_gain', ascending=False).head(60), x='gain', y='feature', hue='fold', )\n",
    "plt.show()"
   ]
  },
  {
   "cell_type": "code",
   "execution_count": null,
   "metadata": {},
   "outputs": [],
   "source": [
    "fig, ax = plt.subplots(figsize=(12,16))\n",
    "sns.barplot(ax=ax, data=importances.sort_values(by='mean_gain', ascending=False).tail(250), x='gain', y='feature', hue='fold', )\n",
    "plt.show()"
   ]
  },
  {
   "cell_type": "code",
   "execution_count": null,
   "metadata": {},
   "outputs": [],
   "source": [
    "[col for col in X.columns if '_fpb' in col and not '__' in col]"
   ]
  },
  {
   "cell_type": "markdown",
   "metadata": {},
   "source": [
    "### Working on scaled flux"
   ]
  },
  {
   "cell_type": "code",
   "execution_count": 24,
   "metadata": {},
   "outputs": [
    {
     "data": {
      "text/plain": [
       "object_id\n",
       "615     0.0000\n",
       "713     0.2139\n",
       "730     0.5002\n",
       "745     1.6654\n",
       "1124    0.0000\n",
       "1227    0.0985\n",
       "1598    0.4446\n",
       "1632    0.4897\n",
       "1920    0.5783\n",
       "1926    0.3816\n",
       "2072    0.2382\n",
       "2103    0.5041\n",
       "Name: hostgal_photoz, dtype: float64"
      ]
     },
     "execution_count": 24,
     "metadata": {},
     "output_type": "execute_result"
    }
   ],
   "source": [
    "scaling_series = pd.Series(meta_train['hostgal_photoz'], index=meta_train['object_id']).fillna(0)\n",
    "scaling_series.head(12)"
   ]
  },
  {
   "cell_type": "code",
   "execution_count": 25,
   "metadata": {},
   "outputs": [],
   "source": [
    "from tqdm.autonotebook import tqdm"
   ]
  },
  {
   "cell_type": "code",
   "execution_count": 26,
   "metadata": {},
   "outputs": [],
   "source": [
    "train_experiment = train.copy()"
   ]
  },
  {
   "cell_type": "code",
   "execution_count": 27,
   "metadata": {},
   "outputs": [
    {
     "data": {
      "application/vnd.jupyter.widget-view+json": {
       "model_id": "f9008455668142b1ac037a4d22c928fc",
       "version_major": 2,
       "version_minor": 0
      },
      "text/plain": [
       "HBox(children=(IntProgress(value=0, max=7848), HTML(value='')))"
      ]
     },
     "metadata": {},
     "output_type": "display_data"
    },
    {
     "name": "stdout",
     "output_type": "stream",
     "text": [
      "\n",
      "CPU times: user 7min 8s, sys: 2.2 s, total: 7min 11s\n",
      "Wall time: 7min 7s\n"
     ]
    }
   ],
   "source": [
    "%%time\n",
    "gbo = train_experiment.groupby('object_id')\n",
    "for idx_, df_ in tqdm(gbo, total=len(train_experiment['object_id'].unique())):\n",
    "    scale_factor = scaling_series.loc[idx_]\n",
    "    new_flux = df_['flux'] * ((1+scale_factor)**2)\n",
    "    new_flux_err = df_['flux_err'] * ((1+scale_factor)**2)\n",
    "    train_experiment.loc[train_experiment['object_id'] == idx_, 'flux'] = new_flux\n",
    "    train_experiment.loc[train_experiment['object_id'] == idx_, 'flux_err'] = new_flux_err"
   ]
  },
  {
   "cell_type": "markdown",
   "metadata": {},
   "source": [
    "##### Performing featurization once again"
   ]
  },
  {
   "cell_type": "code",
   "execution_count": 28,
   "metadata": {
    "scrolled": true
   },
   "outputs": [
    {
     "name": "stdout",
     "output_type": "stream",
     "text": [
      "Preprocessing time...\n",
      "Fixing passband alignment...\n",
      "Generating custom features...\n",
      "Custom features generated.\n"
     ]
    },
    {
     "name": "stderr",
     "output_type": "stream",
     "text": [
      "Feature Extraction: 100%|██████████| 20/20 [00:16<00:00,  1.40it/s]\n",
      "Feature Extraction: 100%|██████████| 20/20 [00:03<00:00,  5.16it/s]\n",
      "Feature Extraction: 100%|██████████| 20/20 [00:03<00:00,  8.35it/s]\n",
      "Feature Extraction: 100%|██████████| 20/20 [00:02<00:00, 11.00it/s]\n",
      "Feature Extraction: 100%|██████████| 20/20 [00:02<00:00,  7.56it/s]\n"
     ]
    },
    {
     "name": "stdout",
     "output_type": "stream",
     "text": [
      "CPU times: user 3min 27s, sys: 8.14 s, total: 3min 35s\n",
      "Wall time: 3min 45s\n"
     ]
    }
   ],
   "source": [
    "%%time\n",
    "Xsf = featurize(train_experiment, meta_train, aggs, fcp, n_jobs=4)"
   ]
  },
  {
   "cell_type": "code",
   "execution_count": 29,
   "metadata": {},
   "outputs": [
    {
     "data": {
      "text/plain": [
       "20.416666666666668"
      ]
     },
     "execution_count": 29,
     "metadata": {},
     "output_type": "execute_result"
    }
   ],
   "source": [
    "3.5*350/60  # hrs to featurize entire test set"
   ]
  },
  {
   "cell_type": "code",
   "execution_count": 30,
   "metadata": {},
   "outputs": [],
   "source": [
    "if 'target' in Xsf:\n",
    "    y = Xsf['target']\n",
    "    del Xsf['target']\n",
    "else:\n",
    "    print(\"What the duck\")\n",
    "    3//0"
   ]
  },
  {
   "cell_type": "code",
   "execution_count": 31,
   "metadata": {},
   "outputs": [
    {
     "name": "stdout",
     "output_type": "stream",
     "text": [
      "CPU times: user 72 ms, sys: 24 ms, total: 96 ms\n",
      "Wall time: 97 ms\n"
     ]
    }
   ],
   "source": [
    "%%time\n",
    "train_mean = Xsf.mean(axis=0)\n",
    "#train_mean.to_hdf('train_data.hdf5', 'data')\n",
    "# pd.set_option('display.max_rows', 500)\n",
    "#import pdb; pdb.set_trace()\n",
    "Xsf.fillna(0, inplace=True)"
   ]
  },
  {
   "cell_type": "code",
   "execution_count": 32,
   "metadata": {},
   "outputs": [
    {
     "data": {
      "text/plain": [
       "(7848, 189)"
      ]
     },
     "execution_count": 32,
     "metadata": {},
     "output_type": "execute_result"
    }
   ],
   "source": [
    "Xsf.shape"
   ]
  },
  {
   "cell_type": "code",
   "execution_count": 33,
   "metadata": {},
   "outputs": [
    {
     "data": {
      "text/plain": [
       "(7848,)"
      ]
     },
     "execution_count": 33,
     "metadata": {},
     "output_type": "execute_result"
    }
   ],
   "source": [
    "y.shape"
   ]
  },
  {
   "cell_type": "markdown",
   "metadata": {},
   "source": [
    "##### Train model with CV"
   ]
  },
  {
   "cell_type": "code",
   "execution_count": 35,
   "metadata": {},
   "outputs": [],
   "source": [
    "lgbm_params = {\n",
    "    'device': 'cpu',\n",
    "    'objective': 'multiclass',\n",
    "    'num_class': 14,\n",
    "    'boosting_type': 'gbdt',\n",
    "    'n_jobs': 8,\n",
    "    'max_depth': 6,\n",
    "    'n_estimators': 4096,\n",
    "    'subsample_freq': 2,\n",
    "    'subsample_for_bin': 5000,\n",
    "    'min_data_per_group': 100,\n",
    "    'max_cat_to_onehot': 4,\n",
    "    'cat_l2': 1.0,\n",
    "    'cat_smooth': 59.5,\n",
    "    'max_cat_threshold': 32,\n",
    "    'metric_freq': 10,\n",
    "    'verbosity': -1,\n",
    "    'metric': 'multi_logloss',\n",
    "    'xgboost_dart_mode': False,\n",
    "    'uniform_drop': False,\n",
    "    'colsample_bytree': 0.5,\n",
    "    'drop_rate': 0.173,\n",
    "    'learning_rate': 0.01237,\n",
    "    'max_drop': 5,\n",
    "    'min_child_samples': 10,\n",
    "    'min_child_weight': 100.0,\n",
    "    'min_split_gain': 25.,\n",
    "    'num_leaves': 7,\n",
    "    'reg_alpha': 0.1,\n",
    "    'reg_lambda': 0.00023,\n",
    "    'skip_drop': 0.44,\n",
    "    'subsample': 0.75,\n",
    "    'max_bin': 32,\n",
    "    'min_data_in_leaf': 13,\n",
    "    'lambda_l1': 2,\n",
    "}"
   ]
  },
  {
   "cell_type": "code",
   "execution_count": 36,
   "metadata": {},
   "outputs": [
    {
     "data": {
      "text/plain": [
       "(7848, 154)"
      ]
     },
     "execution_count": 36,
     "metadata": {},
     "output_type": "execute_result"
    }
   ],
   "source": [
    "X[feature_colnames].shape"
   ]
  },
  {
   "cell_type": "code",
   "execution_count": 37,
   "metadata": {},
   "outputs": [
    {
     "data": {
      "text/plain": [
       "(7848, 154)"
      ]
     },
     "execution_count": 37,
     "metadata": {},
     "output_type": "execute_result"
    }
   ],
   "source": [
    "Xsf[feature_colnames].shape"
   ]
  },
  {
   "cell_type": "code",
   "execution_count": 38,
   "metadata": {},
   "outputs": [
    {
     "name": "stdout",
     "output_type": "stream",
     "text": [
      "Training until validation scores don't improve for 100 rounds.\n",
      "[100]\ttraining's multi_logloss: 0.660654\ttraining's wloss: 1.25787\tvalid_1's multi_logloss: 2.17537\tvalid_1's wloss: 1.43394\n",
      "[200]\ttraining's multi_logloss: 0.35118\ttraining's wloss: 0.829698\tvalid_1's multi_logloss: 1.69696\tvalid_1's wloss: 1.04139\n",
      "[300]\ttraining's multi_logloss: 0.233656\ttraining's wloss: 0.640761\tvalid_1's multi_logloss: 1.45857\tvalid_1's wloss: 0.872622\n",
      "[400]\ttraining's multi_logloss: 0.178666\ttraining's wloss: 0.535662\tvalid_1's multi_logloss: 1.31155\tvalid_1's wloss: 0.787009\n",
      "[500]\ttraining's multi_logloss: 0.147876\ttraining's wloss: 0.467403\tvalid_1's multi_logloss: 1.21053\tvalid_1's wloss: 0.740815\n",
      "[600]\ttraining's multi_logloss: 0.128225\ttraining's wloss: 0.419941\tvalid_1's multi_logloss: 1.14048\tvalid_1's wloss: 0.71663\n",
      "[700]\ttraining's multi_logloss: 0.114367\ttraining's wloss: 0.384455\tvalid_1's multi_logloss: 1.08853\tvalid_1's wloss: 0.699178\n",
      "[800]\ttraining's multi_logloss: 0.103907\ttraining's wloss: 0.356504\tvalid_1's multi_logloss: 1.04837\tvalid_1's wloss: 0.687864\n",
      "[900]\ttraining's multi_logloss: 0.0955973\ttraining's wloss: 0.333959\tvalid_1's multi_logloss: 1.01874\tvalid_1's wloss: 0.679227\n",
      "[1000]\ttraining's multi_logloss: 0.0887351\ttraining's wloss: 0.315689\tvalid_1's multi_logloss: 0.996915\tvalid_1's wloss: 0.67352\n",
      "[1100]\ttraining's multi_logloss: 0.0828951\ttraining's wloss: 0.299848\tvalid_1's multi_logloss: 0.977013\tvalid_1's wloss: 0.66811\n",
      "[1200]\ttraining's multi_logloss: 0.0779285\ttraining's wloss: 0.286401\tvalid_1's multi_logloss: 0.960689\tvalid_1's wloss: 0.665901\n",
      "[1300]\ttraining's multi_logloss: 0.0737144\ttraining's wloss: 0.274795\tvalid_1's multi_logloss: 0.947526\tvalid_1's wloss: 0.665163\n",
      "[1400]\ttraining's multi_logloss: 0.0700885\ttraining's wloss: 0.265009\tvalid_1's multi_logloss: 0.936152\tvalid_1's wloss: 0.664013\n",
      "[1500]\ttraining's multi_logloss: 0.0669212\ttraining's wloss: 0.256339\tvalid_1's multi_logloss: 0.92632\tvalid_1's wloss: 0.66455\n",
      "Early stopping, best iteration is:\n",
      "[1414]\ttraining's multi_logloss: 0.0696055\ttraining's wloss: 0.263674\tvalid_1's multi_logloss: 0.934513\tvalid_1's wloss: 0.663962\n",
      "no 1-fold loss: 0.6639619916099373\n",
      "Training until validation scores don't improve for 100 rounds.\n",
      "[100]\ttraining's multi_logloss: 0.673307\ttraining's wloss: 1.26811\tvalid_1's multi_logloss: 2.16466\tvalid_1's wloss: 1.43147\n",
      "[200]\ttraining's multi_logloss: 0.359411\ttraining's wloss: 0.836907\tvalid_1's multi_logloss: 1.70276\tvalid_1's wloss: 1.03353\n",
      "[300]\ttraining's multi_logloss: 0.238977\ttraining's wloss: 0.645562\tvalid_1's multi_logloss: 1.46853\tvalid_1's wloss: 0.859587\n",
      "[400]\ttraining's multi_logloss: 0.182233\ttraining's wloss: 0.539436\tvalid_1's multi_logloss: 1.3244\tvalid_1's wloss: 0.768541\n",
      "[500]\ttraining's multi_logloss: 0.150333\ttraining's wloss: 0.470356\tvalid_1's multi_logloss: 1.22565\tvalid_1's wloss: 0.718058\n",
      "[600]\ttraining's multi_logloss: 0.129677\ttraining's wloss: 0.421497\tvalid_1's multi_logloss: 1.15629\tvalid_1's wloss: 0.686181\n",
      "[700]\ttraining's multi_logloss: 0.115206\ttraining's wloss: 0.384904\tvalid_1's multi_logloss: 1.10429\tvalid_1's wloss: 0.666519\n",
      "[800]\ttraining's multi_logloss: 0.104243\ttraining's wloss: 0.356414\tvalid_1's multi_logloss: 1.06567\tvalid_1's wloss: 0.653187\n",
      "[900]\ttraining's multi_logloss: 0.0954829\ttraining's wloss: 0.333003\tvalid_1's multi_logloss: 1.03475\tvalid_1's wloss: 0.64374\n",
      "[1000]\ttraining's multi_logloss: 0.0883062\ttraining's wloss: 0.313736\tvalid_1's multi_logloss: 1.00928\tvalid_1's wloss: 0.636224\n",
      "[1100]\ttraining's multi_logloss: 0.0822259\ttraining's wloss: 0.297409\tvalid_1's multi_logloss: 0.988035\tvalid_1's wloss: 0.630227\n",
      "[1200]\ttraining's multi_logloss: 0.0771213\ttraining's wloss: 0.283439\tvalid_1's multi_logloss: 0.969738\tvalid_1's wloss: 0.625368\n",
      "[1300]\ttraining's multi_logloss: 0.0727372\ttraining's wloss: 0.271423\tvalid_1's multi_logloss: 0.954044\tvalid_1's wloss: 0.62194\n",
      "[1400]\ttraining's multi_logloss: 0.0690412\ttraining's wloss: 0.261246\tvalid_1's multi_logloss: 0.941587\tvalid_1's wloss: 0.619728\n",
      "[1500]\ttraining's multi_logloss: 0.0658878\ttraining's wloss: 0.252533\tvalid_1's multi_logloss: 0.930567\tvalid_1's wloss: 0.617883\n",
      "[1600]\ttraining's multi_logloss: 0.0631027\ttraining's wloss: 0.244894\tvalid_1's multi_logloss: 0.920769\tvalid_1's wloss: 0.616852\n",
      "[1700]\ttraining's multi_logloss: 0.0606815\ttraining's wloss: 0.238462\tvalid_1's multi_logloss: 0.91309\tvalid_1's wloss: 0.616719\n",
      "Early stopping, best iteration is:\n",
      "[1652]\ttraining's multi_logloss: 0.0618033\ttraining's wloss: 0.241394\tvalid_1's multi_logloss: 0.916234\tvalid_1's wloss: 0.616321\n",
      "no 2-fold loss: 0.616321421327934\n",
      "Training until validation scores don't improve for 100 rounds.\n",
      "[100]\ttraining's multi_logloss: 0.666827\ttraining's wloss: 1.27073\tvalid_1's multi_logloss: 2.15798\tvalid_1's wloss: 1.42356\n",
      "[200]\ttraining's multi_logloss: 0.354367\ttraining's wloss: 0.837178\tvalid_1's multi_logloss: 1.66598\tvalid_1's wloss: 1.0104\n",
      "[300]\ttraining's multi_logloss: 0.235181\ttraining's wloss: 0.644996\tvalid_1's multi_logloss: 1.4154\tvalid_1's wloss: 0.828016\n",
      "[400]\ttraining's multi_logloss: 0.179386\ttraining's wloss: 0.537275\tvalid_1's multi_logloss: 1.26078\tvalid_1's wloss: 0.735789\n",
      "[500]\ttraining's multi_logloss: 0.148077\ttraining's wloss: 0.468035\tvalid_1's multi_logloss: 1.15771\tvalid_1's wloss: 0.686867\n",
      "[600]\ttraining's multi_logloss: 0.128117\ttraining's wloss: 0.419892\tvalid_1's multi_logloss: 1.08701\tvalid_1's wloss: 0.66031\n",
      "[700]\ttraining's multi_logloss: 0.113974\ttraining's wloss: 0.383508\tvalid_1's multi_logloss: 1.03557\tvalid_1's wloss: 0.647447\n",
      "[800]\ttraining's multi_logloss: 0.103136\ttraining's wloss: 0.355129\tvalid_1's multi_logloss: 0.997636\tvalid_1's wloss: 0.640738\n"
     ]
    },
    {
     "ename": "KeyboardInterrupt",
     "evalue": "",
     "output_type": "error",
     "traceback": [
      "\u001b[0;31m---------------------------------------------------------------------------\u001b[0m",
      "\u001b[0;31mKeyboardInterrupt\u001b[0m                         Traceback (most recent call last)",
      "\u001b[0;32m<timed exec>\u001b[0m in \u001b[0;36m<module>\u001b[0;34m\u001b[0m\n",
      "\u001b[0;32m~/astronomical-classification/plasticc/training.py\u001b[0m in \u001b[0;36mtrain_and_validate\u001b[0;34m(X, y, feature_colnames, id_colname, model, model_params, fit_params, nr_fold, random_state)\u001b[0m\n\u001b[1;32m     58\u001b[0m             \u001b[0mclass_weights\u001b[0m\u001b[0;34m=\u001b[0m\u001b[0mweights\u001b[0m\u001b[0;34m,\u001b[0m\u001b[0;34m\u001b[0m\u001b[0m\n\u001b[1;32m     59\u001b[0m             \u001b[0mnr_fold\u001b[0m\u001b[0;34m=\u001b[0m\u001b[0mnr_fold\u001b[0m\u001b[0;34m,\u001b[0m\u001b[0;34m\u001b[0m\u001b[0m\n\u001b[0;32m---> 60\u001b[0;31m             \u001b[0mrandom_state\u001b[0m\u001b[0;34m=\u001b[0m\u001b[0mrandom_state\u001b[0m\u001b[0;34m\u001b[0m\u001b[0m\n\u001b[0m\u001b[1;32m     61\u001b[0m         )\n\u001b[1;32m     62\u001b[0m         return TrainingResult(\n",
      "\u001b[0;32m~/astronomical-classification/plasticc/models/lgbm.py\u001b[0m in \u001b[0;36mlgbm_modeling_cross_validation\u001b[0;34m(params, X_features, y, classes, class_weights, nr_fold, random_state)\u001b[0m\n\u001b[1;32m    121\u001b[0m             \u001b[0mverbose\u001b[0m\u001b[0;34m=\u001b[0m\u001b[0;36m100\u001b[0m\u001b[0;34m,\u001b[0m\u001b[0;34m\u001b[0m\u001b[0m\n\u001b[1;32m    122\u001b[0m             \u001b[0mearly_stopping_rounds\u001b[0m\u001b[0;34m=\u001b[0m\u001b[0;36m100\u001b[0m\u001b[0;34m,\u001b[0m\u001b[0;34m\u001b[0m\u001b[0m\n\u001b[0;32m--> 123\u001b[0;31m             \u001b[0msample_weight\u001b[0m\u001b[0;34m=\u001b[0m\u001b[0mtrn_y\u001b[0m\u001b[0;34m.\u001b[0m\u001b[0mmap\u001b[0m\u001b[0;34m(\u001b[0m\u001b[0mweights\u001b[0m\u001b[0;34m)\u001b[0m\u001b[0;34m\u001b[0m\u001b[0m\n\u001b[0m\u001b[1;32m    124\u001b[0m         )\n\u001b[1;32m    125\u001b[0m \u001b[0;34m\u001b[0m\u001b[0m\n",
      "\u001b[0;32m~/miniconda3/envs/plasticc/lib/python3.6/site-packages/lightgbm/sklearn.py\u001b[0m in \u001b[0;36mfit\u001b[0;34m(self, X, y, sample_weight, init_score, eval_set, eval_names, eval_sample_weight, eval_class_weight, eval_init_score, eval_metric, early_stopping_rounds, verbose, feature_name, categorical_feature, callbacks)\u001b[0m\n\u001b[1;32m    740\u001b[0m                                         \u001b[0mverbose\u001b[0m\u001b[0;34m=\u001b[0m\u001b[0mverbose\u001b[0m\u001b[0;34m,\u001b[0m \u001b[0mfeature_name\u001b[0m\u001b[0;34m=\u001b[0m\u001b[0mfeature_name\u001b[0m\u001b[0;34m,\u001b[0m\u001b[0;34m\u001b[0m\u001b[0m\n\u001b[1;32m    741\u001b[0m                                         \u001b[0mcategorical_feature\u001b[0m\u001b[0;34m=\u001b[0m\u001b[0mcategorical_feature\u001b[0m\u001b[0;34m,\u001b[0m\u001b[0;34m\u001b[0m\u001b[0m\n\u001b[0;32m--> 742\u001b[0;31m                                         callbacks=callbacks)\n\u001b[0m\u001b[1;32m    743\u001b[0m         \u001b[0;32mreturn\u001b[0m \u001b[0mself\u001b[0m\u001b[0;34m\u001b[0m\u001b[0m\n\u001b[1;32m    744\u001b[0m \u001b[0;34m\u001b[0m\u001b[0m\n",
      "\u001b[0;32m~/miniconda3/envs/plasticc/lib/python3.6/site-packages/lightgbm/sklearn.py\u001b[0m in \u001b[0;36mfit\u001b[0;34m(self, X, y, sample_weight, init_score, group, eval_set, eval_names, eval_sample_weight, eval_class_weight, eval_init_score, eval_group, eval_metric, early_stopping_rounds, verbose, feature_name, categorical_feature, callbacks)\u001b[0m\n\u001b[1;32m    540\u001b[0m                               \u001b[0mverbose_eval\u001b[0m\u001b[0;34m=\u001b[0m\u001b[0mverbose\u001b[0m\u001b[0;34m,\u001b[0m \u001b[0mfeature_name\u001b[0m\u001b[0;34m=\u001b[0m\u001b[0mfeature_name\u001b[0m\u001b[0;34m,\u001b[0m\u001b[0;34m\u001b[0m\u001b[0m\n\u001b[1;32m    541\u001b[0m                               \u001b[0mcategorical_feature\u001b[0m\u001b[0;34m=\u001b[0m\u001b[0mcategorical_feature\u001b[0m\u001b[0;34m,\u001b[0m\u001b[0;34m\u001b[0m\u001b[0m\n\u001b[0;32m--> 542\u001b[0;31m                               callbacks=callbacks)\n\u001b[0m\u001b[1;32m    543\u001b[0m \u001b[0;34m\u001b[0m\u001b[0m\n\u001b[1;32m    544\u001b[0m         \u001b[0;32mif\u001b[0m \u001b[0mevals_result\u001b[0m\u001b[0;34m:\u001b[0m\u001b[0;34m\u001b[0m\u001b[0m\n",
      "\u001b[0;32m~/miniconda3/envs/plasticc/lib/python3.6/site-packages/lightgbm/engine.py\u001b[0m in \u001b[0;36mtrain\u001b[0;34m(params, train_set, num_boost_round, valid_sets, valid_names, fobj, feval, init_model, feature_name, categorical_feature, early_stopping_rounds, evals_result, verbose_eval, learning_rates, keep_training_booster, callbacks)\u001b[0m\n\u001b[1;32m    214\u001b[0m                                     evaluation_result_list=None))\n\u001b[1;32m    215\u001b[0m \u001b[0;34m\u001b[0m\u001b[0m\n\u001b[0;32m--> 216\u001b[0;31m         \u001b[0mbooster\u001b[0m\u001b[0;34m.\u001b[0m\u001b[0mupdate\u001b[0m\u001b[0;34m(\u001b[0m\u001b[0mfobj\u001b[0m\u001b[0;34m=\u001b[0m\u001b[0mfobj\u001b[0m\u001b[0;34m)\u001b[0m\u001b[0;34m\u001b[0m\u001b[0m\n\u001b[0m\u001b[1;32m    217\u001b[0m \u001b[0;34m\u001b[0m\u001b[0m\n\u001b[1;32m    218\u001b[0m         \u001b[0mevaluation_result_list\u001b[0m \u001b[0;34m=\u001b[0m \u001b[0;34m[\u001b[0m\u001b[0;34m]\u001b[0m\u001b[0;34m\u001b[0m\u001b[0m\n",
      "\u001b[0;32m~/miniconda3/envs/plasticc/lib/python3.6/site-packages/lightgbm/basic.py\u001b[0m in \u001b[0;36mupdate\u001b[0;34m(self, train_set, fobj)\u001b[0m\n\u001b[1;32m   1758\u001b[0m             _safe_call(_LIB.LGBM_BoosterUpdateOneIter(\n\u001b[1;32m   1759\u001b[0m                 \u001b[0mself\u001b[0m\u001b[0;34m.\u001b[0m\u001b[0mhandle\u001b[0m\u001b[0;34m,\u001b[0m\u001b[0;34m\u001b[0m\u001b[0m\n\u001b[0;32m-> 1760\u001b[0;31m                 ctypes.byref(is_finished)))\n\u001b[0m\u001b[1;32m   1761\u001b[0m             \u001b[0mself\u001b[0m\u001b[0;34m.\u001b[0m\u001b[0m__is_predicted_cur_iter\u001b[0m \u001b[0;34m=\u001b[0m \u001b[0;34m[\u001b[0m\u001b[0;32mFalse\u001b[0m \u001b[0;32mfor\u001b[0m \u001b[0m_\u001b[0m \u001b[0;32min\u001b[0m \u001b[0mrange_\u001b[0m\u001b[0;34m(\u001b[0m\u001b[0mself\u001b[0m\u001b[0;34m.\u001b[0m\u001b[0m__num_dataset\u001b[0m\u001b[0;34m)\u001b[0m\u001b[0;34m]\u001b[0m\u001b[0;34m\u001b[0m\u001b[0m\n\u001b[1;32m   1762\u001b[0m             \u001b[0;32mreturn\u001b[0m \u001b[0mis_finished\u001b[0m\u001b[0;34m.\u001b[0m\u001b[0mvalue\u001b[0m \u001b[0;34m==\u001b[0m \u001b[0;36m1\u001b[0m\u001b[0;34m\u001b[0m\u001b[0m\n",
      "\u001b[0;31mKeyboardInterrupt\u001b[0m: "
     ]
    }
   ],
   "source": [
    "%%time\n",
    "clfs, score, importances = train_and_validate(\n",
    "    X=Xsf, \n",
    "    y=y, \n",
    "    feature_colnames=feature_colnames, \n",
    "    id_colname=id_colname, \n",
    "    model='lgbm', \n",
    "    model_params={\n",
    "        'lgbm': lgbm_params\n",
    "    }, \n",
    "    nr_fold=6, \n",
    "    random_state=1\n",
    ")"
   ]
  },
  {
   "cell_type": "code",
   "execution_count": 21,
   "metadata": {},
   "outputs": [
    {
     "data": {
      "image/png": "[encoded data removed]",
      "text/plain": [
       "<Figure size 864x1152 with 1 Axes>"
      ]
     },
     "metadata": {
      "needs_background": "light"
     },
     "output_type": "display_data"
    }
   ],
   "source": [
    "fig, ax = plt.subplots(figsize=(12,16))\n",
    "sns.barplot(ax=ax, data=importances.sort_values(by='mean_gain', ascending=False).head(60), x='gain', y='feature', hue='fold', )\n",
    "plt.show()"
   ]
  },
  {
   "cell_type": "code",
   "execution_count": 22,
   "metadata": {},
   "outputs": [
    {
     "data": {
      "image/png": "[encoded data removed]",
      "text/plain": [
       "<Figure size 864x1152 with 1 Axes>"
      ]
     },
     "metadata": {
      "needs_background": "light"
     },
     "output_type": "display_data"
    }
   ],
   "source": [
    "fig, ax = plt.subplots(figsize=(12,16))\n",
    "sns.barplot(ax=ax, data=importances.sort_values(by='mean_gain', ascending=False).tail(250), x='gain', y='feature', hue='fold', )\n",
    "plt.show()"
   ]
  },
  {
   "cell_type": "code",
   "execution_count": 23,
   "metadata": {},
   "outputs": [
    {
     "data": {
      "text/plain": [
       "[]"
      ]
     },
     "execution_count": 23,
     "metadata": {},
     "output_type": "execute_result"
    }
   ],
   "source": [
    "[col for col in X.columns if '_fpb' in col and not '__' in col]"
   ]
  },
  {
   "cell_type": "markdown",
   "metadata": {},
   "source": [
    "### Combining both feature sets\n",
    "TODO: Combine features that will be generated from the scripts running on the test set"
   ]
  },
  {
   "cell_type": "markdown",
   "metadata": {},
   "source": [
    "### PCA\n",
    "TODO: Use PCA to reduce dimensions and re-train the  model on both feature sets"
   ]
  },
  {
   "cell_type": "markdown",
   "metadata": {},
   "source": [
    "### Generate features for the test set"
   ]
  },
  {
   "cell_type": "code",
   "execution_count": 21,
   "metadata": {},
   "outputs": [],
   "source": [
    "sorted_importances = importances.groupby('feature').mean().sort_values(by='mean_gain', ascending=False)"
   ]
  },
  {
   "cell_type": "code",
   "execution_count": 22,
   "metadata": {},
   "outputs": [
    {
     "data": {
      "text/plain": [
       "<matplotlib.axes._subplots.AxesSubplot at 0x7efedd185dd8>"
      ]
     },
     "execution_count": 22,
     "metadata": {},
     "output_type": "execute_result"
    },
    {
     "data": {
      "image/png": "[encoded data removed]",
      "text/plain": [
       "<Figure size 432x288 with 1 Axes>"
      ]
     },
     "metadata": {
      "needs_background": "light"
     },
     "output_type": "display_data"
    }
   ],
   "source": [
    "sns.distplot(sorted_importances['mean_gain'])"
   ]
  },
  {
   "cell_type": "code",
   "execution_count": 23,
   "metadata": {},
   "outputs": [
    {
     "data": {
      "text/plain": [
       "<matplotlib.axes._subplots.AxesSubplot at 0x7eff38f02a90>"
      ]
     },
     "execution_count": 23,
     "metadata": {},
     "output_type": "execute_result"
    },
    {
     "data": {
      "image/png": "[encoded data removed]",
      "text/plain": [
       "<Figure size 432x288 with 1 Axes>"
      ]
     },
     "metadata": {
      "needs_background": "light"
     },
     "output_type": "display_data"
    }
   ],
   "source": [
    "sns.distplot(sorted_importances[sorted_importances['mean_gain'] < 200.]['mean_gain'], bins=20)"
   ]
  },
  {
   "cell_type": "code",
   "execution_count": 24,
   "metadata": {},
   "outputs": [],
   "source": [
    "new_features_to_drop = sorted_importances[sorted_importances['mean_gain'] < 100.].index.unique()"
   ]
  },
  {
   "cell_type": "code",
   "execution_count": 25,
   "metadata": {},
   "outputs": [
    {
     "data": {
      "text/plain": [
       "Index([], dtype='object', name='feature')"
      ]
     },
     "execution_count": 25,
     "metadata": {},
     "output_type": "execute_result"
    }
   ],
   "source": [
    "new_features_to_drop"
   ]
  },
  {
   "cell_type": "markdown",
   "metadata": {},
   "source": [
    "### Featurize the test set"
   ]
  },
  {
   "cell_type": "code",
   "execution_count": 26,
   "metadata": {},
   "outputs": [
    {
     "data": {
      "text/plain": [
       "4536532"
      ]
     },
     "execution_count": 26,
     "metadata": {},
     "output_type": "execute_result"
    }
   ],
   "source": [
    "chunk_size_one_100 = 453653105 // 100 + 1\n",
    "# chunk_size_one_100 = 1000001 // 100 + 1\n",
    "chunk_size_one_100"
   ]
  },
  {
   "cell_type": "code",
   "execution_count": 37,
   "metadata": {},
   "outputs": [
    {
     "data": {
      "text/plain": [
       "datetime.datetime(2018, 12, 14, 20, 12, 17, 563401)"
      ]
     },
     "execution_count": 37,
     "metadata": {},
     "output_type": "execute_result"
    }
   ],
   "source": [
    "from datetime import datetime\n",
    "datetime.now()  # should take no more than 12hrs"
   ]
  },
  {
   "cell_type": "code",
   "execution_count": 46,
   "metadata": {},
   "outputs": [],
   "source": [
    "X1 = X.iloc[:4000].copy()\n",
    "X2 = X.iloc[4000:].copy()"
   ]
  },
  {
   "cell_type": "code",
   "execution_count": 51,
   "metadata": {},
   "outputs": [
    {
     "data": {
      "text/plain": [
       "(7848, 156)"
      ]
     },
     "execution_count": 51,
     "metadata": {},
     "output_type": "execute_result"
    }
   ],
   "source": [
    "X.shape"
   ]
  },
  {
   "cell_type": "code",
   "execution_count": 50,
   "metadata": {},
   "outputs": [
    {
     "data": {
      "text/plain": [
       "(7848, 156)"
      ]
     },
     "execution_count": 50,
     "metadata": {},
     "output_type": "execute_result"
    }
   ],
   "source": [
    "pd.concat([X1,X2]).shape"
   ]
  },
  {
   "cell_type": "code",
   "execution_count": null,
   "metadata": {},
   "outputs": [],
   "source": [
    "%%time\n",
    "# should take 100x (time after 1st iteration)\n",
    "featurize_test(\n",
    "    featurize_configs={'aggs': aggs, 'fcp': fcp}, \n",
    "    n_jobs=16,\n",
    "    meta_path='../../data/raw/test_set_metadata.csv',\n",
    "    test_path='../../data/raw/test_set.csv',\n",
    "    output_path='../../data/features/test-3band-series-models.csv',\n",
    "    id_colname='object_id',\n",
    "    chunks=chunk_size_one_100,  # alternatively: 5000000\n",
    ")"
   ]
  },
  {
   "cell_type": "code",
   "execution_count": 39,
   "metadata": {},
   "outputs": [
    {
     "name": "stdout",
     "output_type": "stream",
     "text": [
      "Done.\n"
     ]
    }
   ],
   "source": [
    "print(\"Done.\")"
   ]
  }
 ],
 "metadata": {
  "kernelspec": {
   "display_name": "Python 3",
   "language": "python",
   "name": "python3"
  },
  "language_info": {
   "codemirror_mode": {
    "name": "ipython",
    "version": 3
   },
   "file_extension": ".py",
   "mimetype": "text/x-python",
   "name": "python",
   "nbconvert_exporter": "python",
   "pygments_lexer": "ipython3",
   "version": "3.6.6"
  }
 },
 "nbformat": 4,
 "nbformat_minor": 2
}
