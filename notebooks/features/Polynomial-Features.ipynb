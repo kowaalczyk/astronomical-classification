{
 "cells": [
  {
   "cell_type": "code",
   "execution_count": 18,
   "metadata": {},
   "outputs": [],
   "source": [
    "import pandas as pd\n",
    "import numpy as np\n",
    "from sklearn.preprocessing import PolynomialFeatures, MinMaxScaler\n",
    "import seaborn as sns\n",
    "import matplotlib.pyplot as plt\n",
    "\n",
    "from datetime import datetime as dt\n",
    "from functools import partial, wraps\n",
    "\n",
    "from plasticc.featurize import process_meta, featurize\n",
    "from plasticc.training import path_from_cv_score, train_and_validate\n",
    "from plasticc.final import featurize_test, predict_test"
   ]
  },
  {
   "cell_type": "code",
   "execution_count": 19,
   "metadata": {},
   "outputs": [
    {
     "name": "stdout",
     "output_type": "stream",
     "text": [
      "The autoreload extension is already loaded. To reload it, use:\n",
      "  %reload_ext autoreload\n"
     ]
    }
   ],
   "source": [
    "%load_ext autoreload\n",
    "%autoreload 2"
   ]
  },
  {
   "cell_type": "code",
   "execution_count": 20,
   "metadata": {},
   "outputs": [],
   "source": [
    "fcp = {\n",
    "    'flux': {\n",
    "        'longest_strike_above_mean': None,\n",
    "        'longest_strike_below_mean': None,\n",
    "        'mean_change': None,\n",
    "        'mean_abs_change': None,\n",
    "        'length': None,\n",
    "    },\n",
    "\n",
    "    'flux_by_flux_ratio_sq': {\n",
    "        'longest_strike_above_mean': None,\n",
    "        'longest_strike_below_mean': None,       \n",
    "    },\n",
    "\n",
    "    'flux_passband': {\n",
    "        'fft_coefficient': [\n",
    "                {'coeff': 0, 'attr': 'abs'}, \n",
    "                {'coeff': 1, 'attr': 'abs'}\n",
    "            ],\n",
    "        'kurtosis' : None, \n",
    "        'skewness' : None,\n",
    "    },\n",
    "\n",
    "    'mjd': {\n",
    "        'maximum': None, \n",
    "        'minimum': None,\n",
    "        'mean_change': None,\n",
    "        'mean_abs_change': None,\n",
    "    },\n",
    "}"
   ]
  },
  {
   "cell_type": "code",
   "execution_count": 21,
   "metadata": {},
   "outputs": [],
   "source": [
    "aggs = {\n",
    "    'flux': ['min', 'max', 'mean', 'median', 'std', 'skew'],\n",
    "    'flux_err': ['min', 'max', 'mean', 'median', 'std', 'skew'],\n",
    "    'detected': ['mean'],\n",
    "    'flux_ratio_sq':['sum', 'skew'],\n",
    "    'flux_by_flux_ratio_sq':['sum','skew'],\n",
    "}"
   ]
  },
  {
   "cell_type": "markdown",
   "metadata": {},
   "source": [
    "### Generate features for model training"
   ]
  },
  {
   "cell_type": "code",
   "execution_count": 22,
   "metadata": {},
   "outputs": [
    {
     "name": "stdout",
     "output_type": "stream",
     "text": [
      "CPU times: user 1.32 s, sys: 88 ms, total: 1.41 s\n",
      "Wall time: 928 ms\n"
     ]
    }
   ],
   "source": [
    "%%time\n",
    "meta_train = process_meta('../../data/raw/training_set_metadata.csv')\n",
    "train = pd.read_csv('../../data/raw/training_set.csv')"
   ]
  },
  {
   "cell_type": "code",
   "execution_count": 23,
   "metadata": {
    "scrolled": true
   },
   "outputs": [
    {
     "name": "stderr",
     "output_type": "stream",
     "text": [
      "Feature Extraction: 100%|██████████| 20/20 [00:08<00:00,  2.47it/s]\n",
      "Feature Extraction: 100%|██████████| 20/20 [00:01<00:00, 10.35it/s]\n",
      "Feature Extraction: 100%|██████████| 20/20 [00:01<00:00, 12.74it/s]\n",
      "Feature Extraction: 100%|██████████| 20/20 [00:01<00:00, 15.67it/s]\n"
     ]
    },
    {
     "name": "stdout",
     "output_type": "stream",
     "text": [
      "CPU times: user 1min 1s, sys: 1.72 s, total: 1min 2s\n",
      "Wall time: 29.6 s\n"
     ]
    }
   ],
   "source": [
    "%%time\n",
    "X = featurize(train, meta_train, aggs, fcp, n_jobs=4)"
   ]
  },
  {
   "cell_type": "code",
   "execution_count": 24,
   "metadata": {},
   "outputs": [],
   "source": [
    "if 'target' in X:\n",
    "    y = X['target']\n",
    "    del X['target']\n",
    "else:\n",
    "    print(\"What the duck\")\n",
    "    3//0"
   ]
  },
  {
   "cell_type": "code",
   "execution_count": 25,
   "metadata": {},
   "outputs": [
    {
     "name": "stdout",
     "output_type": "stream",
     "text": [
      "CPU times: user 136 ms, sys: 4 ms, total: 140 ms\n",
      "Wall time: 6.93 ms\n"
     ]
    }
   ],
   "source": [
    "%%time\n",
    "train_mean = X.mean(axis=0)\n",
    "#train_mean.to_hdf('train_data.hdf5', 'data')\n",
    "# pd.set_option('display.max_rows', 500)\n",
    "#import pdb; pdb.set_trace()\n",
    "X.fillna(0, inplace=True)"
   ]
  },
  {
   "cell_type": "code",
   "execution_count": 26,
   "metadata": {},
   "outputs": [
    {
     "data": {
      "text/plain": [
       "[]"
      ]
     },
     "execution_count": 26,
     "metadata": {},
     "output_type": "execute_result"
    }
   ],
   "source": [
    "X = X.replace([np.inf, -np.inf], np.nan)\n",
    "[col for col in X.columns if X[col].isna().any()]"
   ]
  },
  {
   "cell_type": "markdown",
   "metadata": {},
   "source": [
    "### Generating polynomial features"
   ]
  },
  {
   "cell_type": "code",
   "execution_count": 27,
   "metadata": {},
   "outputs": [],
   "source": [
    "X_backup = X.copy()"
   ]
  },
  {
   "cell_type": "code",
   "execution_count": 28,
   "metadata": {},
   "outputs": [],
   "source": [
    "non_id_cols = [col for col in X.columns if not col == 'object_id']"
   ]
  },
  {
   "cell_type": "code",
   "execution_count": 29,
   "metadata": {},
   "outputs": [],
   "source": [
    "scaler = MinMaxScaler(feature_range=(0,1))"
   ]
  },
  {
   "cell_type": "code",
   "execution_count": 30,
   "metadata": {},
   "outputs": [],
   "source": [
    "scaled = scaler.fit_transform(X[non_id_cols].values)"
   ]
  },
  {
   "cell_type": "code",
   "execution_count": 33,
   "metadata": {},
   "outputs": [],
   "source": [
    "poly = PolynomialFeatures(degree=3)"
   ]
  },
  {
   "cell_type": "code",
   "execution_count": 34,
   "metadata": {},
   "outputs": [
    {
     "name": "stdout",
     "output_type": "stream",
     "text": [
      "CPU times: user 9.22 s, sys: 4.44 s, total: 13.7 s\n",
      "Wall time: 13.7 s\n"
     ]
    }
   ],
   "source": [
    "%%time\n",
    "poly_features = poly.fit_transform(scaled)"
   ]
  },
  {
   "cell_type": "code",
   "execution_count": 35,
   "metadata": {},
   "outputs": [],
   "source": [
    "poly_df = pd.DataFrame(poly_features, index=X['object_id'], columns=[f'Poly_{fnum}' for fnum in range(poly_features.shape[1])])"
   ]
  },
  {
   "cell_type": "code",
   "execution_count": 36,
   "metadata": {},
   "outputs": [],
   "source": [
    "poly_select = pd.DataFrame({'var': poly_df.var(), 'mean': poly_df.mean(), 'std': poly_df.std()})"
   ]
  },
  {
   "cell_type": "code",
   "execution_count": 37,
   "metadata": {},
   "outputs": [],
   "source": [
    "poly_select['cv'] = poly_select['std'] / poly_select['mean'].abs()"
   ]
  },
  {
   "cell_type": "code",
   "execution_count": 38,
   "metadata": {},
   "outputs": [],
   "source": [
    "sorted_select = poly_select.sort_values(by='cv', ascending=False)"
   ]
  },
  {
   "cell_type": "code",
   "execution_count": 39,
   "metadata": {},
   "outputs": [
    {
     "data": {
      "image/png": "[encoded data removed]",
      "text/plain": [
       "<Figure size 1152x288 with 1 Axes>"
      ]
     },
     "metadata": {
      "needs_background": "light"
     },
     "output_type": "display_data"
    }
   ],
   "source": [
    "_, ax = plt.subplots(figsize=(16,4))\n",
    "sns.distplot(sorted_select['cv'], ax=ax)\n",
    "plt.show()"
   ]
  },
  {
   "cell_type": "code",
   "execution_count": 45,
   "metadata": {},
   "outputs": [
    {
     "data": {
      "text/plain": [
       "107"
      ]
     },
     "execution_count": 45,
     "metadata": {},
     "output_type": "execute_result"
    }
   ],
   "source": [
    "len(sorted_select[sorted_select['cv'] > 88.4])"
   ]
  },
  {
   "cell_type": "code",
   "execution_count": 47,
   "metadata": {},
   "outputs": [
    {
     "data": {
      "image/png": "[encoded data removed]",
      "text/plain": [
       "<Figure size 1152x288 with 1 Axes>"
      ]
     },
     "metadata": {
      "needs_background": "light"
     },
     "output_type": "display_data"
    }
   ],
   "source": [
    "_, ax = plt.subplots(figsize=(16,4))\n",
    "sns.distplot(sorted_select['cv'].head(120), ax=ax, bins=32)\n",
    "plt.show()"
   ]
  },
  {
   "cell_type": "code",
   "execution_count": 48,
   "metadata": {},
   "outputs": [
    {
     "data": {
      "text/plain": [
       "107"
      ]
     },
     "execution_count": 48,
     "metadata": {},
     "output_type": "execute_result"
    }
   ],
   "source": [
    "len(sorted_select[sorted_select['cv'] > 88.4])"
   ]
  },
  {
   "cell_type": "markdown",
   "metadata": {},
   "source": [
    "##### This looks like a good starting point (not too much features)"
   ]
  },
  {
   "cell_type": "code",
   "execution_count": 49,
   "metadata": {},
   "outputs": [],
   "source": [
    "select_cols = list((sorted_select[sorted_select['cv'] > 88.4]).index)"
   ]
  },
  {
   "cell_type": "code",
   "execution_count": 50,
   "metadata": {},
   "outputs": [],
   "source": [
    "X = X.join(poly_df[select_cols], on='object_id')"
   ]
  },
  {
   "cell_type": "code",
   "execution_count": 51,
   "metadata": {},
   "outputs": [
    {
     "data": {
      "text/plain": [
       "(7848, 176)"
      ]
     },
     "execution_count": 51,
     "metadata": {},
     "output_type": "execute_result"
    }
   ],
   "source": [
    "X.shape"
   ]
  },
  {
   "cell_type": "code",
   "execution_count": 52,
   "metadata": {},
   "outputs": [
    {
     "data": {
      "text/plain": [
       "(7848,)"
      ]
     },
     "execution_count": 52,
     "metadata": {},
     "output_type": "execute_result"
    }
   ],
   "source": [
    "y.shape"
   ]
  },
  {
   "cell_type": "markdown",
   "metadata": {},
   "source": [
    "### Train model with CV"
   ]
  },
  {
   "cell_type": "code",
   "execution_count": 53,
   "metadata": {},
   "outputs": [],
   "source": [
    "lgbm_params = {\n",
    "    'device': 'cpu',\n",
    "    'objective': 'multiclass',\n",
    "    'num_class': 14,\n",
    "    'boosting_type': 'gbdt',\n",
    "    'n_jobs': 16,\n",
    "    'max_depth': 6,\n",
    "    'n_estimators': 2048,\n",
    "    'subsample_freq': 2,\n",
    "    'subsample_for_bin': 5000,\n",
    "    'min_data_per_group': 100,\n",
    "    'max_cat_to_onehot': 4,\n",
    "    'cat_l2': 1.0,\n",
    "    'cat_smooth': 59.5,\n",
    "    'max_cat_threshold': 32,\n",
    "    'metric_freq': 10,\n",
    "    'verbosity': -1,\n",
    "    'metric': 'multi_logloss',\n",
    "    'xgboost_dart_mode': False,\n",
    "    'uniform_drop': False,\n",
    "    'colsample_bytree': 0.5,\n",
    "    'drop_rate': 0.173,\n",
    "    'learning_rate': 0.0267,\n",
    "    'max_drop': 5,\n",
    "    'min_child_samples': 10,\n",
    "    'min_child_weight': 100.0,\n",
    "    'min_split_gain': 0.126,\n",
    "    'num_leaves': 7,\n",
    "    'reg_alpha': 0.1,\n",
    "    'reg_lambda': 0.00023,\n",
    "    'skip_drop': 0.44,\n",
    "    'subsample': 0.75,\n",
    "    'max_bin': 32,\n",
    "    'min_data_in_leaf': 13,\n",
    "    'lambda_l1': 2,\n",
    "}\n",
    "\n",
    "model_params = {\n",
    "    'lgbm': lgbm_params,\n",
    "}"
   ]
  },
  {
   "cell_type": "code",
   "execution_count": 54,
   "metadata": {},
   "outputs": [],
   "source": [
    "# update best params for lgbm to account for more features\n",
    "lgbm_params.update({\n",
    "    'boosting_type': 'dart',\n",
    "#     'learning_rate': 0.033,\n",
    "    'n_estimators': 2048,\n",
    "    'max_bin': 64,\n",
    "#     'num_leaves': 11,\n",
    "#     'min_data_in_leaf': 32,\n",
    "#     'min_sum_hessian_in_leaf': 0,\n",
    "#     'bagging_fraction': 0,\n",
    "#     'bagging_freq': 0,\n",
    "#     'feature_fraction': 0.75,\n",
    "#     'min_gain_to_split': 50.,\n",
    "    'max_depth': 9,\n",
    "})"
   ]
  },
  {
   "cell_type": "code",
   "execution_count": 55,
   "metadata": {},
   "outputs": [],
   "source": [
    "colnames_to_ignore = set([\n",
    "    'object_id',\n",
    "    'hostgal_specz',\n",
    "    'ra',\n",
    "    'decl',\n",
    "    'gal_l',\n",
    "    'gal_b',\n",
    "    'ddf'\n",
    "])\n",
    "feature_colnames = [col for col in X.columns if col not in colnames_to_ignore]\n",
    "id_colname = 'object_id'"
   ]
  },
  {
   "cell_type": "code",
   "execution_count": 56,
   "metadata": {},
   "outputs": [
    {
     "name": "stdout",
     "output_type": "stream",
     "text": [
      "Training until validation scores don't improve for 100 rounds.\n",
      "[100]\ttraining's multi_logloss: 0.986066\ttraining's wloss: 1.39824\tvalid_1's multi_logloss: 2.03443\tvalid_1's wloss: 1.54516\n",
      "[200]\ttraining's multi_logloss: 0.596732\ttraining's wloss: 1.00166\tvalid_1's multi_logloss: 1.69241\tvalid_1's wloss: 1.19768\n",
      "[300]\ttraining's multi_logloss: 0.385449\ttraining's wloss: 0.804435\tvalid_1's multi_logloss: 1.56727\tvalid_1's wloss: 1.02346\n",
      "[400]\ttraining's multi_logloss: 0.282704\ttraining's wloss: 0.682416\tvalid_1's multi_logloss: 1.46458\tvalid_1's wloss: 0.91957\n",
      "[500]\ttraining's multi_logloss: 0.218615\ttraining's wloss: 0.598769\tvalid_1's multi_logloss: 1.39547\tvalid_1's wloss: 0.851384\n",
      "[600]\ttraining's multi_logloss: 0.190209\ttraining's wloss: 0.545329\tvalid_1's multi_logloss: 1.32379\tvalid_1's wloss: 0.810512\n",
      "[700]\ttraining's multi_logloss: 0.161253\ttraining's wloss: 0.493982\tvalid_1's multi_logloss: 1.26852\tvalid_1's wloss: 0.774698\n",
      "[800]\ttraining's multi_logloss: 0.142254\ttraining's wloss: 0.45377\tvalid_1's multi_logloss: 1.21888\tvalid_1's wloss: 0.743013\n",
      "[900]\ttraining's multi_logloss: 0.128805\ttraining's wloss: 0.419987\tvalid_1's multi_logloss: 1.16487\tvalid_1's wloss: 0.719256\n",
      "[1000]\ttraining's multi_logloss: 0.118477\ttraining's wloss: 0.392794\tvalid_1's multi_logloss: 1.12222\tvalid_1's wloss: 0.701765\n",
      "[1100]\ttraining's multi_logloss: 0.11034\ttraining's wloss: 0.371575\tvalid_1's multi_logloss: 1.09274\tvalid_1's wloss: 0.689788\n",
      "[1200]\ttraining's multi_logloss: 0.101646\ttraining's wloss: 0.348919\tvalid_1's multi_logloss: 1.06211\tvalid_1's wloss: 0.680112\n",
      "[1300]\ttraining's multi_logloss: 0.0948006\ttraining's wloss: 0.329579\tvalid_1's multi_logloss: 1.03439\tvalid_1's wloss: 0.670908\n",
      "[1400]\ttraining's multi_logloss: 0.0886898\ttraining's wloss: 0.311755\tvalid_1's multi_logloss: 1.00816\tvalid_1's wloss: 0.664828\n",
      "[1500]\ttraining's multi_logloss: 0.0833977\ttraining's wloss: 0.296356\tvalid_1's multi_logloss: 0.985883\tvalid_1's wloss: 0.658104\n",
      "[1600]\ttraining's multi_logloss: 0.0785298\ttraining's wloss: 0.282251\tvalid_1's multi_logloss: 0.967588\tvalid_1's wloss: 0.653806\n",
      "[1700]\ttraining's multi_logloss: 0.0740281\ttraining's wloss: 0.269007\tvalid_1's multi_logloss: 0.949414\tvalid_1's wloss: 0.649917\n",
      "[1800]\ttraining's multi_logloss: 0.0701925\ttraining's wloss: 0.257193\tvalid_1's multi_logloss: 0.933731\tvalid_1's wloss: 0.648302\n",
      "[1900]\ttraining's multi_logloss: 0.066983\ttraining's wloss: 0.246992\tvalid_1's multi_logloss: 0.919583\tvalid_1's wloss: 0.647102\n",
      "Early stopping, best iteration is:\n",
      "[1867]\ttraining's multi_logloss: 0.0678394\ttraining's wloss: 0.249715\tvalid_1's multi_logloss: 0.922867\tvalid_1's wloss: 0.646519\n",
      "no 1-fold loss: 0.6446316604822108\n",
      "Training until validation scores don't improve for 100 rounds.\n",
      "[100]\ttraining's multi_logloss: 0.989565\ttraining's wloss: 1.39951\tvalid_1's multi_logloss: 2.03028\tvalid_1's wloss: 1.55754\n",
      "[200]\ttraining's multi_logloss: 0.601325\ttraining's wloss: 1.00528\tvalid_1's multi_logloss: 1.69267\tvalid_1's wloss: 1.22236\n",
      "[300]\ttraining's multi_logloss: 0.38906\ttraining's wloss: 0.810052\tvalid_1's multi_logloss: 1.57586\tvalid_1's wloss: 1.05303\n",
      "[400]\ttraining's multi_logloss: 0.286325\ttraining's wloss: 0.689519\tvalid_1's multi_logloss: 1.46991\tvalid_1's wloss: 0.953554\n",
      "[500]\ttraining's multi_logloss: 0.221717\ttraining's wloss: 0.605136\tvalid_1's multi_logloss: 1.39964\tvalid_1's wloss: 0.883574\n",
      "[600]\ttraining's multi_logloss: 0.192744\ttraining's wloss: 0.5506\tvalid_1's multi_logloss: 1.326\tvalid_1's wloss: 0.839069\n",
      "[700]\ttraining's multi_logloss: 0.163096\ttraining's wloss: 0.497844\tvalid_1's multi_logloss: 1.268\tvalid_1's wloss: 0.79946\n",
      "[800]\ttraining's multi_logloss: 0.143701\ttraining's wloss: 0.456782\tvalid_1's multi_logloss: 1.21728\tvalid_1's wloss: 0.775249\n",
      "[900]\ttraining's multi_logloss: 0.130004\ttraining's wloss: 0.422314\tvalid_1's multi_logloss: 1.16304\tvalid_1's wloss: 0.756972\n",
      "[1000]\ttraining's multi_logloss: 0.119458\ttraining's wloss: 0.394305\tvalid_1's multi_logloss: 1.11981\tvalid_1's wloss: 0.746413\n",
      "[1100]\ttraining's multi_logloss: 0.111174\ttraining's wloss: 0.372747\tvalid_1's multi_logloss: 1.08779\tvalid_1's wloss: 0.737525\n",
      "[1200]\ttraining's multi_logloss: 0.102231\ttraining's wloss: 0.349878\tvalid_1's multi_logloss: 1.05763\tvalid_1's wloss: 0.732607\n",
      "[1300]\ttraining's multi_logloss: 0.0953576\ttraining's wloss: 0.330842\tvalid_1's multi_logloss: 1.03017\tvalid_1's wloss: 0.729002\n",
      "[1400]\ttraining's multi_logloss: 0.0890666\ttraining's wloss: 0.312788\tvalid_1's multi_logloss: 1.00555\tvalid_1's wloss: 0.728576\n",
      "[1500]\ttraining's multi_logloss: 0.0837893\ttraining's wloss: 0.297601\tvalid_1's multi_logloss: 0.983797\tvalid_1's wloss: 0.725954\n",
      "[1600]\ttraining's multi_logloss: 0.07892\ttraining's wloss: 0.283766\tvalid_1's multi_logloss: 0.964181\tvalid_1's wloss: 0.723076\n",
      "[1700]\ttraining's multi_logloss: 0.0744636\ttraining's wloss: 0.270594\tvalid_1's multi_logloss: 0.945517\tvalid_1's wloss: 0.721964\n",
      "[1800]\ttraining's multi_logloss: 0.0705402\ttraining's wloss: 0.25867\tvalid_1's multi_logloss: 0.929181\tvalid_1's wloss: 0.722193\n",
      "[1900]\ttraining's multi_logloss: 0.067278\ttraining's wloss: 0.248538\tvalid_1's multi_logloss: 0.914286\tvalid_1's wloss: 0.721478\n",
      "Early stopping, best iteration is:\n",
      "[1827]\ttraining's multi_logloss: 0.069418\ttraining's wloss: 0.255421\tvalid_1's multi_logloss: 0.924846\tvalid_1's wloss: 0.720946\n",
      "no 2-fold loss: 0.7194863395413548\n",
      "Training until validation scores don't improve for 100 rounds.\n",
      "[100]\ttraining's multi_logloss: 0.983696\ttraining's wloss: 1.39729\tvalid_1's multi_logloss: 2.0429\tvalid_1's wloss: 1.51976\n",
      "[200]\ttraining's multi_logloss: 0.594945\ttraining's wloss: 0.999411\tvalid_1's multi_logloss: 1.69399\tvalid_1's wloss: 1.15537\n",
      "[300]\ttraining's multi_logloss: 0.38388\ttraining's wloss: 0.804501\tvalid_1's multi_logloss: 1.57005\tvalid_1's wloss: 0.974298\n",
      "[400]\ttraining's multi_logloss: 0.281602\ttraining's wloss: 0.684609\tvalid_1's multi_logloss: 1.46346\tvalid_1's wloss: 0.864591\n",
      "[500]\ttraining's multi_logloss: 0.217361\ttraining's wloss: 0.600183\tvalid_1's multi_logloss: 1.38906\tvalid_1's wloss: 0.788737\n",
      "[600]\ttraining's multi_logloss: 0.188643\ttraining's wloss: 0.546307\tvalid_1's multi_logloss: 1.31395\tvalid_1's wloss: 0.743387\n",
      "[700]\ttraining's multi_logloss: 0.159856\ttraining's wloss: 0.494417\tvalid_1's multi_logloss: 1.25438\tvalid_1's wloss: 0.701331\n",
      "[800]\ttraining's multi_logloss: 0.140838\ttraining's wloss: 0.453089\tvalid_1's multi_logloss: 1.19688\tvalid_1's wloss: 0.672924\n",
      "[900]\ttraining's multi_logloss: 0.127425\ttraining's wloss: 0.418363\tvalid_1's multi_logloss: 1.14123\tvalid_1's wloss: 0.652173\n",
      "[1000]\ttraining's multi_logloss: 0.117066\ttraining's wloss: 0.390399\tvalid_1's multi_logloss: 1.0982\tvalid_1's wloss: 0.639435\n",
      "[1100]\ttraining's multi_logloss: 0.109081\ttraining's wloss: 0.36914\tvalid_1's multi_logloss: 1.06804\tvalid_1's wloss: 0.630974\n",
      "[1200]\ttraining's multi_logloss: 0.100517\ttraining's wloss: 0.34657\tvalid_1's multi_logloss: 1.03626\tvalid_1's wloss: 0.622764\n",
      "[1300]\ttraining's multi_logloss: 0.0938024\ttraining's wloss: 0.327517\tvalid_1's multi_logloss: 1.0098\tvalid_1's wloss: 0.615491\n",
      "[1400]\ttraining's multi_logloss: 0.0877912\ttraining's wloss: 0.309734\tvalid_1's multi_logloss: 0.983062\tvalid_1's wloss: 0.610873\n",
      "[1500]\ttraining's multi_logloss: 0.0826623\ttraining's wloss: 0.294286\tvalid_1's multi_logloss: 0.961037\tvalid_1's wloss: 0.606112\n",
      "[1600]\ttraining's multi_logloss: 0.0779571\ttraining's wloss: 0.280809\tvalid_1's multi_logloss: 0.943755\tvalid_1's wloss: 0.601371\n",
      "[1700]\ttraining's multi_logloss: 0.073581\ttraining's wloss: 0.267491\tvalid_1's multi_logloss: 0.927019\tvalid_1's wloss: 0.598503\n",
      "[1800]\ttraining's multi_logloss: 0.0697187\ttraining's wloss: 0.255825\tvalid_1's multi_logloss: 0.911501\tvalid_1's wloss: 0.598044\n",
      "[1900]\ttraining's multi_logloss: 0.0665279\ttraining's wloss: 0.245763\tvalid_1's multi_logloss: 0.897767\tvalid_1's wloss: 0.596662\n",
      "[2000]\ttraining's multi_logloss: 0.0635097\ttraining's wloss: 0.236478\tvalid_1's multi_logloss: 0.885603\tvalid_1's wloss: 0.594475\n",
      "Did not meet early stopping. Best iteration is:\n",
      "[2047]\ttraining's multi_logloss: 0.0622884\ttraining's wloss: 0.232491\tvalid_1's multi_logloss: 0.880103\tvalid_1's wloss: 0.593819\n",
      "no 3-fold loss: 0.5938285875747742\n",
      "Training until validation scores don't improve for 100 rounds.\n",
      "[100]\ttraining's multi_logloss: 0.986587\ttraining's wloss: 1.3943\tvalid_1's multi_logloss: 2.05625\tvalid_1's wloss: 1.56024\n",
      "[200]\ttraining's multi_logloss: 0.598109\ttraining's wloss: 0.997115\tvalid_1's multi_logloss: 1.70318\tvalid_1's wloss: 1.1971\n",
      "[300]\ttraining's multi_logloss: 0.387591\ttraining's wloss: 0.803562\tvalid_1's multi_logloss: 1.58108\tvalid_1's wloss: 1.01711\n",
      "[400]\ttraining's multi_logloss: 0.285031\ttraining's wloss: 0.68445\tvalid_1's multi_logloss: 1.47743\tvalid_1's wloss: 0.906297\n",
      "[500]\ttraining's multi_logloss: 0.220197\ttraining's wloss: 0.600784\tvalid_1's multi_logloss: 1.40336\tvalid_1's wloss: 0.825562\n",
      "[600]\ttraining's multi_logloss: 0.19111\ttraining's wloss: 0.546715\tvalid_1's multi_logloss: 1.32201\tvalid_1's wloss: 0.774631\n",
      "[700]\ttraining's multi_logloss: 0.161513\ttraining's wloss: 0.49419\tvalid_1's multi_logloss: 1.25686\tvalid_1's wloss: 0.730346\n",
      "[800]\ttraining's multi_logloss: 0.141838\ttraining's wloss: 0.451959\tvalid_1's multi_logloss: 1.19674\tvalid_1's wloss: 0.699744\n",
      "[900]\ttraining's multi_logloss: 0.128095\ttraining's wloss: 0.416778\tvalid_1's multi_logloss: 1.13709\tvalid_1's wloss: 0.676004\n",
      "[1000]\ttraining's multi_logloss: 0.117545\ttraining's wloss: 0.388939\tvalid_1's multi_logloss: 1.09094\tvalid_1's wloss: 0.661797\n",
      "[1100]\ttraining's multi_logloss: 0.109286\ttraining's wloss: 0.367487\tvalid_1's multi_logloss: 1.05856\tvalid_1's wloss: 0.653267\n",
      "[1200]\ttraining's multi_logloss: 0.100404\ttraining's wloss: 0.344364\tvalid_1's multi_logloss: 1.02466\tvalid_1's wloss: 0.644849\n",
      "[1300]\ttraining's multi_logloss: 0.0935111\ttraining's wloss: 0.325294\tvalid_1's multi_logloss: 0.997835\tvalid_1's wloss: 0.639297\n",
      "[1400]\ttraining's multi_logloss: 0.0872016\ttraining's wloss: 0.306815\tvalid_1's multi_logloss: 0.969185\tvalid_1's wloss: 0.635043\n",
      "[1500]\ttraining's multi_logloss: 0.0820225\ttraining's wloss: 0.291389\tvalid_1's multi_logloss: 0.946555\tvalid_1's wloss: 0.633659\n",
      "[1600]\ttraining's multi_logloss: 0.0771958\ttraining's wloss: 0.277634\tvalid_1's multi_logloss: 0.928775\tvalid_1's wloss: 0.633313\n",
      "[1700]\ttraining's multi_logloss: 0.0727488\ttraining's wloss: 0.264548\tvalid_1's multi_logloss: 0.910939\tvalid_1's wloss: 0.632455\n",
      "Early stopping, best iteration is:\n",
      "[1691]\ttraining's multi_logloss: 0.0730562\ttraining's wloss: 0.265932\tvalid_1's multi_logloss: 0.913751\tvalid_1's wloss: 0.632032\n",
      "no 4-fold loss: 0.6319392704548538\n",
      "Training until validation scores don't improve for 100 rounds.\n",
      "[100]\ttraining's multi_logloss: 0.990744\ttraining's wloss: 1.39954\tvalid_1's multi_logloss: 2.05433\tvalid_1's wloss: 1.57184\n",
      "[200]\ttraining's multi_logloss: 0.59956\ttraining's wloss: 1.0037\tvalid_1's multi_logloss: 1.71185\tvalid_1's wloss: 1.21427\n",
      "[300]\ttraining's multi_logloss: 0.385941\ttraining's wloss: 0.80816\tvalid_1's multi_logloss: 1.59008\tvalid_1's wloss: 1.03398\n",
      "[400]\ttraining's multi_logloss: 0.282821\ttraining's wloss: 0.688496\tvalid_1's multi_logloss: 1.48244\tvalid_1's wloss: 0.923627\n",
      "[500]\ttraining's multi_logloss: 0.217876\ttraining's wloss: 0.603005\tvalid_1's multi_logloss: 1.40175\tvalid_1's wloss: 0.846673\n",
      "[600]\ttraining's multi_logloss: 0.188958\ttraining's wloss: 0.54843\tvalid_1's multi_logloss: 1.31785\tvalid_1's wloss: 0.796579\n",
      "[700]\ttraining's multi_logloss: 0.15979\ttraining's wloss: 0.496538\tvalid_1's multi_logloss: 1.25787\tvalid_1's wloss: 0.757746\n",
      "[800]\ttraining's multi_logloss: 0.140581\ttraining's wloss: 0.455898\tvalid_1's multi_logloss: 1.20353\tvalid_1's wloss: 0.732437\n",
      "[900]\ttraining's multi_logloss: 0.127043\ttraining's wloss: 0.422024\tvalid_1's multi_logloss: 1.14849\tvalid_1's wloss: 0.713011\n",
      "[1000]\ttraining's multi_logloss: 0.11672\ttraining's wloss: 0.393692\tvalid_1's multi_logloss: 1.10025\tvalid_1's wloss: 0.700484\n",
      "[1100]\ttraining's multi_logloss: 0.108536\ttraining's wloss: 0.371772\tvalid_1's multi_logloss: 1.06699\tvalid_1's wloss: 0.692431\n",
      "[1200]\ttraining's multi_logloss: 0.0999349\ttraining's wloss: 0.348944\tvalid_1's multi_logloss: 1.03613\tvalid_1's wloss: 0.686018\n",
      "[1300]\ttraining's multi_logloss: 0.0932907\ttraining's wloss: 0.330519\tvalid_1's multi_logloss: 1.01033\tvalid_1's wloss: 0.681856\n",
      "[1400]\ttraining's multi_logloss: 0.0873577\ttraining's wloss: 0.312526\tvalid_1's multi_logloss: 0.983662\tvalid_1's wloss: 0.67949\n",
      "[1500]\ttraining's multi_logloss: 0.0821778\ttraining's wloss: 0.297274\tvalid_1's multi_logloss: 0.962257\tvalid_1's wloss: 0.676988\n",
      "[1600]\ttraining's multi_logloss: 0.0775144\ttraining's wloss: 0.283301\tvalid_1's multi_logloss: 0.942702\tvalid_1's wloss: 0.676019\n",
      "[1700]\ttraining's multi_logloss: 0.0731612\ttraining's wloss: 0.270009\tvalid_1's multi_logloss: 0.92385\tvalid_1's wloss: 0.674786\n",
      "Early stopping, best iteration is:\n",
      "[1683]\ttraining's multi_logloss: 0.0738289\ttraining's wloss: 0.272428\tvalid_1's multi_logloss: 0.927887\tvalid_1's wloss: 0.67458\n",
      "no 5-fold loss: 0.6734713495967649\n",
      "MULTI WEIGHTED LOG LOSS: 0.65245\n",
      "CPU times: user 1h 43min 9s, sys: 3.72 s, total: 1h 43min 13s\n",
      "Wall time: 6min 27s\n"
     ]
    }
   ],
   "source": [
    "%%time\n",
    "# modeling from CV\n",
    "clfs, score, importances = train_and_validate(\n",
    "    X=X, \n",
    "    y=y, \n",
    "    feature_colnames=feature_colnames, \n",
    "    id_colname=id_colname, \n",
    "    model='lgbm', \n",
    "    model_params=model_params,\n",
    "    nr_fold=5, \n",
    "    random_state=1\n",
    ")"
   ]
  },
  {
   "cell_type": "code",
   "execution_count": 57,
   "metadata": {},
   "outputs": [],
   "source": [
    "sorted_importances = importances.sort_values(by='mean_gain', ascending=False)"
   ]
  },
  {
   "cell_type": "code",
   "execution_count": 58,
   "metadata": {},
   "outputs": [
    {
     "data": {
      "image/png": "[encoded data removed]",
      "text/plain": [
       "<Figure size 864x1152 with 1 Axes>"
      ]
     },
     "metadata": {
      "needs_background": "light"
     },
     "output_type": "display_data"
    }
   ],
   "source": [
    "fig, ax = plt.subplots(figsize=(12,16))\n",
    "sns.barplot(ax=ax, data=sorted_importances.head(50), x='gain', y='feature', hue='fold', )\n",
    "plt.show()"
   ]
  },
  {
   "cell_type": "code",
   "execution_count": 59,
   "metadata": {},
   "outputs": [
    {
     "data": {
      "image/png": "[encoded data removed]",
      "text/plain": [
       "<Figure size 864x1152 with 1 Axes>"
      ]
     },
     "metadata": {
      "needs_background": "light"
     },
     "output_type": "display_data"
    }
   ],
   "source": [
    "fig, ax = plt.subplots(figsize=(12,16))\n",
    "sns.barplot(ax=ax, data=sorted_importances.tail(50), x='gain', y='feature', hue='fold', )\n",
    "plt.show()"
   ]
  },
  {
   "cell_type": "code",
   "execution_count": 60,
   "metadata": {},
   "outputs": [
    {
     "data": {
      "text/plain": [
       "'/home/kk385830/astronomical-classification/submissions/subm_0.652449_2018-12-13-22-58.csv'"
      ]
     },
     "execution_count": 60,
     "metadata": {},
     "output_type": "execute_result"
    }
   ],
   "source": [
    "submission_file_path = path_from_cv_score(score)\n",
    "submission_file_path"
   ]
  },
  {
   "cell_type": "markdown",
   "metadata": {},
   "source": [
    "### PCA"
   ]
  },
  {
   "cell_type": "code",
   "execution_count": 72,
   "metadata": {},
   "outputs": [],
   "source": [
    "from sklearn.decomposition import PCA"
   ]
  },
  {
   "cell_type": "code",
   "execution_count": 73,
   "metadata": {},
   "outputs": [],
   "source": [
    "pca = PCA(n_components=len(poly_df)//100)"
   ]
  },
  {
   "cell_type": "code",
   "execution_count": 74,
   "metadata": {},
   "outputs": [
    {
     "name": "stdout",
     "output_type": "stream",
     "text": [
      "CPU times: user 2min 28s, sys: 24.9 s, total: 2min 53s\n",
      "Wall time: 20.1 s\n"
     ]
    }
   ],
   "source": [
    "%%time\n",
    "poly_pca = pca.fit_transform(poly_df.values)"
   ]
  },
  {
   "cell_type": "code",
   "execution_count": 75,
   "metadata": {},
   "outputs": [
    {
     "data": {
      "text/plain": [
       "(7848, 78)"
      ]
     },
     "execution_count": 75,
     "metadata": {},
     "output_type": "execute_result"
    }
   ],
   "source": [
    "poly_pca.shape"
   ]
  },
  {
   "cell_type": "markdown",
   "metadata": {},
   "source": [
    "##### Repeat steps performed on cv-based selection of features to compare these strategies"
   ]
  },
  {
   "cell_type": "code",
   "execution_count": 76,
   "metadata": {},
   "outputs": [],
   "source": [
    "pca_df = pd.DataFrame(poly_pca, index=X['object_id'], columns=[f'Poly_{fnum}' for fnum in range(poly_pca.shape[1])])"
   ]
  },
  {
   "cell_type": "code",
   "execution_count": 78,
   "metadata": {},
   "outputs": [],
   "source": [
    "poly_select = pd.DataFrame({'var': pca_df.var(), 'mean': pca_df.mean(), 'std': pca_df.std()})"
   ]
  },
  {
   "cell_type": "code",
   "execution_count": 79,
   "metadata": {},
   "outputs": [],
   "source": [
    "poly_select['cv'] = poly_select['std'] / poly_select['mean'].abs()"
   ]
  },
  {
   "cell_type": "code",
   "execution_count": 80,
   "metadata": {},
   "outputs": [],
   "source": [
    "sorted_select = poly_select.sort_values(by='cv', ascending=False)"
   ]
  },
  {
   "cell_type": "code",
   "execution_count": 82,
   "metadata": {},
   "outputs": [
    {
     "data": {
      "text/html": [
       "<div>\n",
       "<style scoped>\n",
       "    .dataframe tbody tr th:only-of-type {\n",
       "        vertical-align: middle;\n",
       "    }\n",
       "\n",
       "    .dataframe tbody tr th {\n",
       "        vertical-align: top;\n",
       "    }\n",
       "\n",
       "    .dataframe thead th {\n",
       "        text-align: right;\n",
       "    }\n",
       "</style>\n",
       "<table border=\"1\" class=\"dataframe\">\n",
       "  <thead>\n",
       "    <tr style=\"text-align: right;\">\n",
       "      <th></th>\n",
       "      <th>var</th>\n",
       "      <th>mean</th>\n",
       "      <th>std</th>\n",
       "      <th>cv</th>\n",
       "    </tr>\n",
       "  </thead>\n",
       "  <tbody>\n",
       "    <tr>\n",
       "      <th>Poly_36</th>\n",
       "      <td>0.194770</td>\n",
       "      <td>2.010228e-17</td>\n",
       "      <td>0.441328</td>\n",
       "      <td>2.195412e+16</td>\n",
       "    </tr>\n",
       "    <tr>\n",
       "      <th>Poly_11</th>\n",
       "      <td>1.211780</td>\n",
       "      <td>-5.123889e-17</td>\n",
       "      <td>1.100809</td>\n",
       "      <td>2.148385e+16</td>\n",
       "    </tr>\n",
       "    <tr>\n",
       "      <th>Poly_4</th>\n",
       "      <td>6.591387</td>\n",
       "      <td>-1.800859e-16</td>\n",
       "      <td>2.567370</td>\n",
       "      <td>1.425636e+16</td>\n",
       "    </tr>\n",
       "    <tr>\n",
       "      <th>Poly_14</th>\n",
       "      <td>0.855567</td>\n",
       "      <td>-9.152833e-17</td>\n",
       "      <td>0.924969</td>\n",
       "      <td>1.010582e+16</td>\n",
       "    </tr>\n",
       "    <tr>\n",
       "      <th>Poly_2</th>\n",
       "      <td>9.925041</td>\n",
       "      <td>3.284834e-16</td>\n",
       "      <td>3.150403</td>\n",
       "      <td>9.590753e+15</td>\n",
       "    </tr>\n",
       "  </tbody>\n",
       "</table>\n",
       "</div>"
      ],
      "text/plain": [
       "              var          mean       std            cv\n",
       "Poly_36  0.194770  2.010228e-17  0.441328  2.195412e+16\n",
       "Poly_11  1.211780 -5.123889e-17  1.100809  2.148385e+16\n",
       "Poly_4   6.591387 -1.800859e-16  2.567370  1.425636e+16\n",
       "Poly_14  0.855567 -9.152833e-17  0.924969  1.010582e+16\n",
       "Poly_2   9.925041  3.284834e-16  3.150403  9.590753e+15"
      ]
     },
     "execution_count": 82,
     "metadata": {},
     "output_type": "execute_result"
    }
   ],
   "source": [
    "sorted_select.head()"
   ]
  },
  {
   "cell_type": "code",
   "execution_count": 83,
   "metadata": {},
   "outputs": [
    {
     "data": {
      "text/html": [
       "<div>\n",
       "<style scoped>\n",
       "    .dataframe tbody tr th:only-of-type {\n",
       "        vertical-align: middle;\n",
       "    }\n",
       "\n",
       "    .dataframe tbody tr th {\n",
       "        vertical-align: top;\n",
       "    }\n",
       "\n",
       "    .dataframe thead th {\n",
       "        text-align: right;\n",
       "    }\n",
       "</style>\n",
       "<table border=\"1\" class=\"dataframe\">\n",
       "  <thead>\n",
       "    <tr style=\"text-align: right;\">\n",
       "      <th></th>\n",
       "      <th>var</th>\n",
       "      <th>mean</th>\n",
       "      <th>std</th>\n",
       "      <th>cv</th>\n",
       "    </tr>\n",
       "  </thead>\n",
       "  <tbody>\n",
       "    <tr>\n",
       "      <th>Poly_58</th>\n",
       "      <td>0.071906</td>\n",
       "      <td>-6.990246e-16</td>\n",
       "      <td>0.268154</td>\n",
       "      <td>3.836112e+14</td>\n",
       "    </tr>\n",
       "    <tr>\n",
       "      <th>Poly_54</th>\n",
       "      <td>0.084909</td>\n",
       "      <td>-7.760845e-16</td>\n",
       "      <td>0.291391</td>\n",
       "      <td>3.754628e+14</td>\n",
       "    </tr>\n",
       "    <tr>\n",
       "      <th>Poly_50</th>\n",
       "      <td>0.093169</td>\n",
       "      <td>-8.583362e-16</td>\n",
       "      <td>0.305236</td>\n",
       "      <td>3.556133e+14</td>\n",
       "    </tr>\n",
       "    <tr>\n",
       "      <th>Poly_48</th>\n",
       "      <td>0.102862</td>\n",
       "      <td>9.081569e-16</td>\n",
       "      <td>0.320720</td>\n",
       "      <td>3.531552e+14</td>\n",
       "    </tr>\n",
       "    <tr>\n",
       "      <th>Poly_71</th>\n",
       "      <td>0.047521</td>\n",
       "      <td>-6.528360e-16</td>\n",
       "      <td>0.217993</td>\n",
       "      <td>3.339170e+14</td>\n",
       "    </tr>\n",
       "  </tbody>\n",
       "</table>\n",
       "</div>"
      ],
      "text/plain": [
       "              var          mean       std            cv\n",
       "Poly_58  0.071906 -6.990246e-16  0.268154  3.836112e+14\n",
       "Poly_54  0.084909 -7.760845e-16  0.291391  3.754628e+14\n",
       "Poly_50  0.093169 -8.583362e-16  0.305236  3.556133e+14\n",
       "Poly_48  0.102862  9.081569e-16  0.320720  3.531552e+14\n",
       "Poly_71  0.047521 -6.528360e-16  0.217993  3.339170e+14"
      ]
     },
     "execution_count": 83,
     "metadata": {},
     "output_type": "execute_result"
    }
   ],
   "source": [
    "sorted_select.tail()"
   ]
  },
  {
   "cell_type": "code",
   "execution_count": 81,
   "metadata": {},
   "outputs": [
    {
     "data": {
      "image/png": "[encoded data removed]",
      "text/plain": [
       "<Figure size 1152x288 with 1 Axes>"
      ]
     },
     "metadata": {
      "needs_background": "light"
     },
     "output_type": "display_data"
    }
   ],
   "source": [
    "_, ax = plt.subplots(figsize=(16,4))\n",
    "sns.distplot(sorted_select['cv'], ax=ax)\n",
    "plt.show()"
   ]
  },
  {
   "cell_type": "markdown",
   "metadata": {},
   "source": [
    "##### This looks like a good starting point (not too much features)"
   ]
  },
  {
   "cell_type": "code",
   "execution_count": 84,
   "metadata": {},
   "outputs": [],
   "source": [
    "X = X.join(pca_df, on='object_id')"
   ]
  },
  {
   "cell_type": "code",
   "execution_count": 85,
   "metadata": {},
   "outputs": [
    {
     "data": {
      "text/plain": [
       "(7848, 254)"
      ]
     },
     "execution_count": 85,
     "metadata": {},
     "output_type": "execute_result"
    }
   ],
   "source": [
    "X.shape"
   ]
  },
  {
   "cell_type": "code",
   "execution_count": 86,
   "metadata": {},
   "outputs": [
    {
     "data": {
      "text/plain": [
       "(7848,)"
      ]
     },
     "execution_count": 86,
     "metadata": {},
     "output_type": "execute_result"
    }
   ],
   "source": [
    "y.shape"
   ]
  },
  {
   "cell_type": "markdown",
   "metadata": {},
   "source": [
    "### Perform training once again"
   ]
  },
  {
   "cell_type": "code",
   "execution_count": 87,
   "metadata": {},
   "outputs": [],
   "source": [
    "colnames_to_ignore = set([\n",
    "    'object_id',\n",
    "    'hostgal_specz',\n",
    "    'ra',\n",
    "    'decl',\n",
    "    'gal_l',\n",
    "    'gal_b',\n",
    "    'ddf'\n",
    "])\n",
    "feature_colnames = [col for col in X.columns if col not in colnames_to_ignore]\n",
    "id_colname = 'object_id'"
   ]
  },
  {
   "cell_type": "code",
   "execution_count": 88,
   "metadata": {},
   "outputs": [
    {
     "name": "stdout",
     "output_type": "stream",
     "text": [
      "Training until validation scores don't improve for 100 rounds.\n",
      "[100]\ttraining's multi_logloss: 0.97171\ttraining's wloss: 1.36991\tvalid_1's multi_logloss: 2.01179\tvalid_1's wloss: 1.53378\n",
      "[200]\ttraining's multi_logloss: 0.586278\ttraining's wloss: 0.97424\tvalid_1's multi_logloss: 1.6744\tvalid_1's wloss: 1.19135\n",
      "[300]\ttraining's multi_logloss: 0.375754\ttraining's wloss: 0.780485\tvalid_1's multi_logloss: 1.55285\tvalid_1's wloss: 1.01779\n",
      "[400]\ttraining's multi_logloss: 0.271726\ttraining's wloss: 0.659488\tvalid_1's multi_logloss: 1.44869\tvalid_1's wloss: 0.912656\n",
      "[500]\ttraining's multi_logloss: 0.207008\ttraining's wloss: 0.574763\tvalid_1's multi_logloss: 1.37641\tvalid_1's wloss: 0.839984\n",
      "[600]\ttraining's multi_logloss: 0.179335\ttraining's wloss: 0.522554\tvalid_1's multi_logloss: 1.30464\tvalid_1's wloss: 0.801067\n",
      "[700]\ttraining's multi_logloss: 0.150371\ttraining's wloss: 0.469558\tvalid_1's multi_logloss: 1.24676\tvalid_1's wloss: 0.763521\n",
      "[800]\ttraining's multi_logloss: 0.131664\ttraining's wloss: 0.428288\tvalid_1's multi_logloss: 1.19364\tvalid_1's wloss: 0.736453\n",
      "[900]\ttraining's multi_logloss: 0.1185\ttraining's wloss: 0.394537\tvalid_1's multi_logloss: 1.14171\tvalid_1's wloss: 0.714653\n",
      "[1000]\ttraining's multi_logloss: 0.108274\ttraining's wloss: 0.366677\tvalid_1's multi_logloss: 1.09655\tvalid_1's wloss: 0.697531\n",
      "[1100]\ttraining's multi_logloss: 0.100184\ttraining's wloss: 0.34442\tvalid_1's multi_logloss: 1.06276\tvalid_1's wloss: 0.685662\n",
      "[1200]\ttraining's multi_logloss: 0.0914755\ttraining's wloss: 0.321204\tvalid_1's multi_logloss: 1.0292\tvalid_1's wloss: 0.675685\n",
      "[1300]\ttraining's multi_logloss: 0.0847931\ttraining's wloss: 0.30172\tvalid_1's multi_logloss: 1.00002\tvalid_1's wloss: 0.667586\n",
      "[1400]\ttraining's multi_logloss: 0.0788936\ttraining's wloss: 0.283912\tvalid_1's multi_logloss: 0.973393\tvalid_1's wloss: 0.66065\n",
      "[1500]\ttraining's multi_logloss: 0.0737038\ttraining's wloss: 0.268156\tvalid_1's multi_logloss: 0.950729\tvalid_1's wloss: 0.655277\n",
      "[1600]\ttraining's multi_logloss: 0.068918\ttraining's wloss: 0.253947\tvalid_1's multi_logloss: 0.930629\tvalid_1's wloss: 0.65031\n",
      "[1700]\ttraining's multi_logloss: 0.0645545\ttraining's wloss: 0.240453\tvalid_1's multi_logloss: 0.911385\tvalid_1's wloss: 0.645853\n",
      "[1800]\ttraining's multi_logloss: 0.0608287\ttraining's wloss: 0.228476\tvalid_1's multi_logloss: 0.89314\tvalid_1's wloss: 0.641551\n",
      "[1900]\ttraining's multi_logloss: 0.0577836\ttraining's wloss: 0.218529\tvalid_1's multi_logloss: 0.878455\tvalid_1's wloss: 0.638741\n",
      "[2000]\ttraining's multi_logloss: 0.0548385\ttraining's wloss: 0.209275\tvalid_1's multi_logloss: 0.864839\tvalid_1's wloss: 0.636834\n",
      "Did not meet early stopping. Best iteration is:\n",
      "[2047]\ttraining's multi_logloss: 0.0536387\ttraining's wloss: 0.205427\tvalid_1's multi_logloss: 0.859588\tvalid_1's wloss: 0.636359\n",
      "no 1-fold loss: 0.6362699642777266\n",
      "Training until validation scores don't improve for 100 rounds.\n",
      "[100]\ttraining's multi_logloss: 0.97941\ttraining's wloss: 1.37921\tvalid_1's multi_logloss: 2.01151\tvalid_1's wloss: 1.53985\n",
      "[200]\ttraining's multi_logloss: 0.593927\ttraining's wloss: 0.98259\tvalid_1's multi_logloss: 1.6674\tvalid_1's wloss: 1.20977\n",
      "[300]\ttraining's multi_logloss: 0.380737\ttraining's wloss: 0.786803\tvalid_1's multi_logloss: 1.54817\tvalid_1's wloss: 1.04567\n",
      "[400]\ttraining's multi_logloss: 0.274443\ttraining's wloss: 0.662415\tvalid_1's multi_logloss: 1.4395\tvalid_1's wloss: 0.946439\n",
      "[500]\ttraining's multi_logloss: 0.208708\ttraining's wloss: 0.576465\tvalid_1's multi_logloss: 1.36772\tvalid_1's wloss: 0.873904\n",
      "[600]\ttraining's multi_logloss: 0.180375\ttraining's wloss: 0.523567\tvalid_1's multi_logloss: 1.29573\tvalid_1's wloss: 0.82784\n",
      "[700]\ttraining's multi_logloss: 0.151244\ttraining's wloss: 0.470613\tvalid_1's multi_logloss: 1.23925\tvalid_1's wloss: 0.787891\n",
      "[800]\ttraining's multi_logloss: 0.132119\ttraining's wloss: 0.428385\tvalid_1's multi_logloss: 1.18402\tvalid_1's wloss: 0.761517\n",
      "[900]\ttraining's multi_logloss: 0.118852\ttraining's wloss: 0.393938\tvalid_1's multi_logloss: 1.13144\tvalid_1's wloss: 0.749151\n",
      "[1000]\ttraining's multi_logloss: 0.108705\ttraining's wloss: 0.366267\tvalid_1's multi_logloss: 1.08827\tvalid_1's wloss: 0.737824\n",
      "[1100]\ttraining's multi_logloss: 0.10045\ttraining's wloss: 0.344106\tvalid_1's multi_logloss: 1.05787\tvalid_1's wloss: 0.732356\n",
      "[1200]\ttraining's multi_logloss: 0.0917777\ttraining's wloss: 0.320813\tvalid_1's multi_logloss: 1.02807\tvalid_1's wloss: 0.730118\n",
      "[1300]\ttraining's multi_logloss: 0.0851551\ttraining's wloss: 0.301913\tvalid_1's multi_logloss: 1.00387\tvalid_1's wloss: 0.728093\n",
      "[1400]\ttraining's multi_logloss: 0.0791853\ttraining's wloss: 0.28383\tvalid_1's multi_logloss: 0.979346\tvalid_1's wloss: 0.726802\n",
      "Early stopping, best iteration is:\n",
      "[1374]\ttraining's multi_logloss: 0.080952\ttraining's wloss: 0.288803\tvalid_1's multi_logloss: 0.985456\tvalid_1's wloss: 0.726112\n",
      "no 2-fold loss: 0.7244783388782171\n",
      "Training until validation scores don't improve for 100 rounds.\n",
      "[100]\ttraining's multi_logloss: 0.974609\ttraining's wloss: 1.37192\tvalid_1's multi_logloss: 2.01305\tvalid_1's wloss: 1.50492\n",
      "[200]\ttraining's multi_logloss: 0.588737\ttraining's wloss: 0.977771\tvalid_1's multi_logloss: 1.66752\tvalid_1's wloss: 1.14638\n",
      "[300]\ttraining's multi_logloss: 0.376107\ttraining's wloss: 0.783231\tvalid_1's multi_logloss: 1.54753\tvalid_1's wloss: 0.970607\n",
      "[400]\ttraining's multi_logloss: 0.27088\ttraining's wloss: 0.660453\tvalid_1's multi_logloss: 1.43748\tvalid_1's wloss: 0.858722\n",
      "[500]\ttraining's multi_logloss: 0.205085\ttraining's wloss: 0.57274\tvalid_1's multi_logloss: 1.35421\tvalid_1's wloss: 0.777006\n",
      "[600]\ttraining's multi_logloss: 0.176881\ttraining's wloss: 0.519515\tvalid_1's multi_logloss: 1.28072\tvalid_1's wloss: 0.734329\n",
      "[700]\ttraining's multi_logloss: 0.1484\ttraining's wloss: 0.466358\tvalid_1's multi_logloss: 1.22\tvalid_1's wloss: 0.693112\n",
      "[800]\ttraining's multi_logloss: 0.129889\ttraining's wloss: 0.425458\tvalid_1's multi_logloss: 1.16699\tvalid_1's wloss: 0.66754\n",
      "[900]\ttraining's multi_logloss: 0.11675\ttraining's wloss: 0.39041\tvalid_1's multi_logloss: 1.11239\tvalid_1's wloss: 0.648243\n",
      "[1000]\ttraining's multi_logloss: 0.106624\ttraining's wloss: 0.362135\tvalid_1's multi_logloss: 1.06713\tvalid_1's wloss: 0.633706\n",
      "[1100]\ttraining's multi_logloss: 0.0987644\ttraining's wloss: 0.340427\tvalid_1's multi_logloss: 1.03598\tvalid_1's wloss: 0.624365\n",
      "[1200]\ttraining's multi_logloss: 0.0904422\ttraining's wloss: 0.317879\tvalid_1's multi_logloss: 1.00672\tvalid_1's wloss: 0.618932\n",
      "[1300]\ttraining's multi_logloss: 0.0838778\ttraining's wloss: 0.298627\tvalid_1's multi_logloss: 0.977241\tvalid_1's wloss: 0.613479\n",
      "[1400]\ttraining's multi_logloss: 0.0780094\ttraining's wloss: 0.280617\tvalid_1's multi_logloss: 0.950518\tvalid_1's wloss: 0.609238\n",
      "[1500]\ttraining's multi_logloss: 0.0729104\ttraining's wloss: 0.265131\tvalid_1's multi_logloss: 0.92868\tvalid_1's wloss: 0.605907\n",
      "[1600]\ttraining's multi_logloss: 0.0683429\ttraining's wloss: 0.251453\tvalid_1's multi_logloss: 0.912177\tvalid_1's wloss: 0.604981\n",
      "Early stopping, best iteration is:\n",
      "[1582]\ttraining's multi_logloss: 0.0689522\ttraining's wloss: 0.253456\tvalid_1's multi_logloss: 0.914753\tvalid_1's wloss: 0.604627\n",
      "no 3-fold loss: 0.6046728851765014\n",
      "Training until validation scores don't improve for 100 rounds.\n",
      "[100]\ttraining's multi_logloss: 0.974922\ttraining's wloss: 1.36994\tvalid_1's multi_logloss: 2.03479\tvalid_1's wloss: 1.546\n",
      "[200]\ttraining's multi_logloss: 0.58939\ttraining's wloss: 0.97487\tvalid_1's multi_logloss: 1.68025\tvalid_1's wloss: 1.1954\n",
      "[300]\ttraining's multi_logloss: 0.377527\ttraining's wloss: 0.779801\tvalid_1's multi_logloss: 1.55494\tvalid_1's wloss: 1.01382\n",
      "[400]\ttraining's multi_logloss: 0.272378\ttraining's wloss: 0.656937\tvalid_1's multi_logloss: 1.44233\tvalid_1's wloss: 0.897989\n",
      "[500]\ttraining's multi_logloss: 0.207016\ttraining's wloss: 0.572041\tvalid_1's multi_logloss: 1.36168\tvalid_1's wloss: 0.817074\n",
      "[600]\ttraining's multi_logloss: 0.178807\ttraining's wloss: 0.519279\tvalid_1's multi_logloss: 1.28423\tvalid_1's wloss: 0.770806\n",
      "[700]\ttraining's multi_logloss: 0.149808\ttraining's wloss: 0.46574\tvalid_1's multi_logloss: 1.21236\tvalid_1's wloss: 0.726665\n",
      "[800]\ttraining's multi_logloss: 0.130858\ttraining's wloss: 0.423661\tvalid_1's multi_logloss: 1.15061\tvalid_1's wloss: 0.699826\n",
      "[900]\ttraining's multi_logloss: 0.117556\ttraining's wloss: 0.388491\tvalid_1's multi_logloss: 1.0912\tvalid_1's wloss: 0.679839\n",
      "[1000]\ttraining's multi_logloss: 0.107292\ttraining's wloss: 0.360353\tvalid_1's multi_logloss: 1.04689\tvalid_1's wloss: 0.667137\n",
      "[1100]\ttraining's multi_logloss: 0.099238\ttraining's wloss: 0.338553\tvalid_1's multi_logloss: 1.01451\tvalid_1's wloss: 0.660053\n",
      "[1200]\ttraining's multi_logloss: 0.090646\ttraining's wloss: 0.315537\tvalid_1's multi_logloss: 0.982265\tvalid_1's wloss: 0.653712\n",
      "[1300]\ttraining's multi_logloss: 0.0838891\ttraining's wloss: 0.296147\tvalid_1's multi_logloss: 0.954173\tvalid_1's wloss: 0.649163\n",
      "[1400]\ttraining's multi_logloss: 0.0778759\ttraining's wloss: 0.27797\tvalid_1's multi_logloss: 0.928111\tvalid_1's wloss: 0.649634\n",
      "Early stopping, best iteration is:\n",
      "[1326]\ttraining's multi_logloss: 0.081766\ttraining's wloss: 0.290153\tvalid_1's multi_logloss: 0.946198\tvalid_1's wloss: 0.648809\n",
      "no 4-fold loss: 0.6483292284022657\n",
      "Training until validation scores don't improve for 100 rounds.\n",
      "[100]\ttraining's multi_logloss: 0.976437\ttraining's wloss: 1.37673\tvalid_1's multi_logloss: 2.03197\tvalid_1's wloss: 1.53926\n",
      "[200]\ttraining's multi_logloss: 0.591865\ttraining's wloss: 0.986144\tvalid_1's multi_logloss: 1.69247\tvalid_1's wloss: 1.19611\n",
      "[300]\ttraining's multi_logloss: 0.379125\ttraining's wloss: 0.790634\tvalid_1's multi_logloss: 1.56928\tvalid_1's wloss: 1.02018\n",
      "[400]\ttraining's multi_logloss: 0.272702\ttraining's wloss: 0.665732\tvalid_1's multi_logloss: 1.45412\tvalid_1's wloss: 0.9073\n",
      "[500]\ttraining's multi_logloss: 0.207263\ttraining's wloss: 0.578662\tvalid_1's multi_logloss: 1.37205\tvalid_1's wloss: 0.828998\n",
      "[600]\ttraining's multi_logloss: 0.178976\ttraining's wloss: 0.525154\tvalid_1's multi_logloss: 1.28931\tvalid_1's wloss: 0.781498\n",
      "[700]\ttraining's multi_logloss: 0.150177\ttraining's wloss: 0.472518\tvalid_1's multi_logloss: 1.22722\tvalid_1's wloss: 0.741086\n",
      "[800]\ttraining's multi_logloss: 0.131299\ttraining's wloss: 0.430624\tvalid_1's multi_logloss: 1.16935\tvalid_1's wloss: 0.716444\n",
      "[900]\ttraining's multi_logloss: 0.118165\ttraining's wloss: 0.39629\tvalid_1's multi_logloss: 1.1149\tvalid_1's wloss: 0.700219\n",
      "[1000]\ttraining's multi_logloss: 0.108071\ttraining's wloss: 0.368584\tvalid_1's multi_logloss: 1.07079\tvalid_1's wloss: 0.688818\n",
      "[1100]\ttraining's multi_logloss: 0.0999819\ttraining's wloss: 0.346265\tvalid_1's multi_logloss: 1.03922\tvalid_1's wloss: 0.683236\n",
      "[1200]\ttraining's multi_logloss: 0.0915823\ttraining's wloss: 0.323099\tvalid_1's multi_logloss: 1.00665\tvalid_1's wloss: 0.676396\n",
      "[1300]\ttraining's multi_logloss: 0.0849415\ttraining's wloss: 0.304085\tvalid_1's multi_logloss: 0.980542\tvalid_1's wloss: 0.671068\n",
      "[1400]\ttraining's multi_logloss: 0.0789804\ttraining's wloss: 0.28581\tvalid_1's multi_logloss: 0.952506\tvalid_1's wloss: 0.666737\n",
      "[1500]\ttraining's multi_logloss: 0.073899\ttraining's wloss: 0.270144\tvalid_1's multi_logloss: 0.930264\tvalid_1's wloss: 0.665605\n",
      "[1600]\ttraining's multi_logloss: 0.0692225\ttraining's wloss: 0.256053\tvalid_1's multi_logloss: 0.913065\tvalid_1's wloss: 0.666832\n",
      "Early stopping, best iteration is:\n",
      "[1523]\ttraining's multi_logloss: 0.0729105\ttraining's wloss: 0.266948\tvalid_1's multi_logloss: 0.92584\tvalid_1's wloss: 0.665257\n",
      "no 5-fold loss: 0.6644041410897006\n",
      "MULTI WEIGHTED LOG LOSS: 0.65542\n",
      "CPU times: user 1h 38min 11s, sys: 7.18 s, total: 1h 38min 18s\n",
      "Wall time: 6min 9s\n"
     ]
    }
   ],
   "source": [
    "%%time\n",
    "# modeling from CV\n",
    "pca_clfs, pca_score, pca_importances = train_and_validate(\n",
    "    X=X, \n",
    "    y=y, \n",
    "    feature_colnames=feature_colnames, \n",
    "    id_colname=id_colname, \n",
    "    model='lgbm', \n",
    "    model_params=model_params,\n",
    "    nr_fold=5, \n",
    "    random_state=1\n",
    ")"
   ]
  },
  {
   "cell_type": "code",
   "execution_count": 89,
   "metadata": {},
   "outputs": [],
   "source": [
    "sorted_importances = pca_importances.sort_values(by='mean_gain', ascending=False)"
   ]
  },
  {
   "cell_type": "code",
   "execution_count": 90,
   "metadata": {},
   "outputs": [
    {
     "data": {
      "image/png": "[encoded data removed]",
      "text/plain": [
       "<Figure size 864x1152 with 1 Axes>"
      ]
     },
     "metadata": {
      "needs_background": "light"
     },
     "output_type": "display_data"
    }
   ],
   "source": [
    "fig, ax = plt.subplots(figsize=(12,16))\n",
    "sns.barplot(ax=ax, data=sorted_importances.head(50), x='gain', y='feature', hue='fold', )\n",
    "plt.show()"
   ]
  },
  {
   "cell_type": "code",
   "execution_count": 91,
   "metadata": {},
   "outputs": [
    {
     "data": {
      "image/png": "[encoded data removed]",
      "text/plain": [
       "<Figure size 864x1152 with 1 Axes>"
      ]
     },
     "metadata": {
      "needs_background": "light"
     },
     "output_type": "display_data"
    }
   ],
   "source": [
    "fig, ax = plt.subplots(figsize=(12,16))\n",
    "sns.barplot(ax=ax, data=sorted_importances.tail(50), x='gain', y='feature', hue='fold', )\n",
    "plt.show()"
   ]
  },
  {
   "cell_type": "code",
   "execution_count": 92,
   "metadata": {},
   "outputs": [
    {
     "data": {
      "text/plain": [
       "'/home/kk385830/astronomical-classification/submissions/subm_0.655417_2018-12-14-00-35.csv'"
      ]
     },
     "execution_count": 92,
     "metadata": {},
     "output_type": "execute_result"
    }
   ],
   "source": [
    "pca_submission_file_path = path_from_cv_score(pca_score)\n",
    "pca_submission_file_path"
   ]
  },
  {
   "cell_type": "markdown",
   "metadata": {},
   "source": [
    "### Test set features"
   ]
  },
  {
   "cell_type": "code",
   "execution_count": 61,
   "metadata": {},
   "outputs": [
    {
     "data": {
      "text/plain": [
       "4536532"
      ]
     },
     "execution_count": 61,
     "metadata": {},
     "output_type": "execute_result"
    }
   ],
   "source": [
    "chunk_size_one_100 = 453653105 // 100 + 1\n",
    "# chunk_size_one_100 = 1000001 // 100 + 1\n",
    "chunk_size_one_100"
   ]
  },
  {
   "cell_type": "code",
   "execution_count": null,
   "metadata": {},
   "outputs": [
    {
     "name": "stderr",
     "output_type": "stream",
     "text": [
      "Feature Extraction: 100%|██████████| 60/60 [00:10<00:00,  5.83it/s]\n",
      "Feature Extraction: 100%|██████████| 60/60 [00:02<00:00, 23.79it/s]\n",
      "Feature Extraction: 100%|██████████| 60/60 [00:02<00:00, 29.98it/s]\n",
      "Feature Extraction: 100%|██████████| 60/60 [00:01<00:00, 37.97it/s]\n"
     ]
    },
    {
     "name": "stdout",
     "output_type": "stream",
     "text": [
      "        4536532 done in   1.0 minutes\n"
     ]
    },
    {
     "name": "stderr",
     "output_type": "stream",
     "text": [
      "Feature Extraction: 100%|██████████| 60/60 [00:12<00:00,  4.89it/s]\n",
      "Feature Extraction: 100%|██████████| 60/60 [00:02<00:00, 27.38it/s]\n",
      "Feature Extraction: 100%|██████████| 60/60 [00:01<00:00, 32.15it/s]\n",
      "Feature Extraction: 100%|██████████| 60/60 [00:01<00:00, 38.33it/s]\n"
     ]
    },
    {
     "name": "stdout",
     "output_type": "stream",
     "text": [
      "        9073064 done in   1.9 minutes\n"
     ]
    },
    {
     "name": "stderr",
     "output_type": "stream",
     "text": [
      "Feature Extraction: 100%|██████████| 60/60 [00:21<00:00,  2.74it/s]\n",
      "Feature Extraction: 100%|██████████| 60/60 [00:04<00:00, 14.76it/s]\n",
      "Feature Extraction: 100%|██████████| 60/60 [00:03<00:00, 16.32it/s]\n",
      "Feature Extraction: 100%|██████████| 60/60 [00:03<00:00, 18.97it/s]\n"
     ]
    },
    {
     "name": "stdout",
     "output_type": "stream",
     "text": [
      "       13609596 done in   3.4 minutes\n"
     ]
    },
    {
     "name": "stderr",
     "output_type": "stream",
     "text": [
      "Feature Extraction: 100%|██████████| 60/60 [00:28<00:00,  2.48it/s]\n",
      "Feature Extraction: 100%|██████████| 60/60 [00:05<00:00, 11.41it/s]\n",
      "Feature Extraction: 100%|██████████| 60/60 [00:05<00:00, 11.92it/s]\n",
      "Feature Extraction: 100%|██████████| 60/60 [00:04<00:00, 13.12it/s]\n"
     ]
    },
    {
     "name": "stdout",
     "output_type": "stream",
     "text": [
      "       18146128 done in   5.4 minutes\n"
     ]
    },
    {
     "name": "stderr",
     "output_type": "stream",
     "text": [
      "Feature Extraction: 100%|██████████| 60/60 [00:26<00:00,  2.38it/s]\n",
      "Feature Extraction: 100%|██████████| 60/60 [00:04<00:00, 12.12it/s]\n",
      "Feature Extraction: 100%|██████████| 60/60 [00:04<00:00, 12.71it/s]\n",
      "Feature Extraction: 100%|██████████| 60/60 [00:04<00:00, 14.09it/s]\n"
     ]
    },
    {
     "name": "stdout",
     "output_type": "stream",
     "text": [
      "       22682660 done in   7.3 minutes\n"
     ]
    },
    {
     "name": "stderr",
     "output_type": "stream",
     "text": [
      "Feature Extraction: 100%|██████████| 60/60 [00:27<00:00,  2.17it/s]\n",
      "Feature Extraction: 100%|██████████| 60/60 [00:05<00:00, 11.30it/s]\n",
      "Feature Extraction: 100%|██████████| 60/60 [00:04<00:00, 12.34it/s]\n",
      "Feature Extraction: 100%|██████████| 60/60 [00:04<00:00, 14.16it/s]\n"
     ]
    },
    {
     "name": "stdout",
     "output_type": "stream",
     "text": [
      "       27219192 done in   9.3 minutes\n"
     ]
    },
    {
     "name": "stderr",
     "output_type": "stream",
     "text": [
      "Feature Extraction: 100%|██████████| 60/60 [00:26<00:00,  2.69it/s]\n",
      "Feature Extraction: 100%|██████████| 60/60 [00:05<00:00, 11.41it/s]\n",
      "Feature Extraction: 100%|██████████| 60/60 [00:04<00:00, 14.81it/s]\n",
      "Feature Extraction: 100%|██████████| 60/60 [00:04<00:00, 13.16it/s]\n"
     ]
    },
    {
     "name": "stdout",
     "output_type": "stream",
     "text": [
      "       31755724 done in  11.2 minutes\n"
     ]
    },
    {
     "name": "stderr",
     "output_type": "stream",
     "text": [
      "Feature Extraction: 100%|██████████| 60/60 [00:26<00:00,  2.23it/s]\n",
      "Feature Extraction: 100%|██████████| 60/60 [00:05<00:00, 15.03it/s]\n",
      "Feature Extraction: 100%|██████████| 60/60 [00:04<00:00, 12.47it/s]\n",
      "Feature Extraction: 100%|██████████| 60/60 [00:04<00:00, 13.69it/s]\n"
     ]
    },
    {
     "name": "stdout",
     "output_type": "stream",
     "text": [
      "       36292256 done in  13.1 minutes\n"
     ]
    },
    {
     "name": "stderr",
     "output_type": "stream",
     "text": [
      "Feature Extraction: 100%|██████████| 60/60 [00:26<00:00,  2.33it/s]\n",
      "Feature Extraction: 100%|██████████| 60/60 [00:05<00:00, 11.39it/s]\n",
      "Feature Extraction: 100%|██████████| 60/60 [00:05<00:00, 11.95it/s]\n",
      "Feature Extraction: 100%|██████████| 60/60 [00:04<00:00, 14.10it/s]\n"
     ]
    },
    {
     "name": "stdout",
     "output_type": "stream",
     "text": [
      "       40828788 done in  15.0 minutes\n"
     ]
    },
    {
     "name": "stderr",
     "output_type": "stream",
     "text": [
      "Feature Extraction: 100%|██████████| 60/60 [00:26<00:00,  2.24it/s]\n",
      "Feature Extraction: 100%|██████████| 60/60 [00:05<00:00, 11.05it/s]\n",
      "Feature Extraction: 100%|██████████| 60/60 [00:04<00:00, 12.51it/s]\n",
      "Feature Extraction: 100%|██████████| 60/60 [00:04<00:00, 15.10it/s]\n"
     ]
    },
    {
     "name": "stdout",
     "output_type": "stream",
     "text": [
      "       45365320 done in  16.9 minutes\n"
     ]
    },
    {
     "name": "stderr",
     "output_type": "stream",
     "text": [
      "Feature Extraction: 100%|██████████| 60/60 [00:27<00:00,  2.70it/s]\n",
      "Feature Extraction: 100%|██████████| 60/60 [00:05<00:00, 11.27it/s]\n",
      "Feature Extraction: 100%|██████████| 60/60 [00:05<00:00, 11.95it/s]\n",
      "Feature Extraction: 100%|██████████| 60/60 [00:04<00:00, 12.35it/s]\n"
     ]
    },
    {
     "name": "stdout",
     "output_type": "stream",
     "text": [
      "       49901852 done in  18.8 minutes\n"
     ]
    },
    {
     "name": "stderr",
     "output_type": "stream",
     "text": [
      "Feature Extraction: 100%|██████████| 60/60 [00:28<00:00,  2.46it/s]\n",
      "Feature Extraction: 100%|██████████| 60/60 [00:05<00:00, 11.72it/s]\n",
      "Feature Extraction: 100%|██████████| 60/60 [00:04<00:00, 12.60it/s]\n",
      "Feature Extraction: 100%|██████████| 60/60 [00:04<00:00, 10.89it/s]\n"
     ]
    },
    {
     "name": "stdout",
     "output_type": "stream",
     "text": [
      "       54438384 done in  20.7 minutes\n"
     ]
    },
    {
     "name": "stderr",
     "output_type": "stream",
     "text": [
      "Feature Extraction: 100%|██████████| 60/60 [00:26<00:00,  2.71it/s]\n",
      "Feature Extraction: 100%|██████████| 60/60 [00:05<00:00, 14.13it/s]\n",
      "Feature Extraction: 100%|██████████| 60/60 [00:04<00:00, 12.31it/s]\n",
      "Feature Extraction: 100%|██████████| 60/60 [00:04<00:00, 13.96it/s]\n"
     ]
    },
    {
     "name": "stdout",
     "output_type": "stream",
     "text": [
      "       58974916 done in  22.6 minutes\n"
     ]
    },
    {
     "name": "stderr",
     "output_type": "stream",
     "text": [
      "Feature Extraction: 100%|██████████| 60/60 [00:27<00:00,  2.18it/s]\n",
      "Feature Extraction: 100%|██████████| 60/60 [00:04<00:00, 15.67it/s]\n",
      "Feature Extraction: 100%|██████████| 60/60 [00:04<00:00, 12.85it/s]\n",
      "Feature Extraction: 100%|██████████| 60/60 [00:04<00:00, 13.82it/s]\n"
     ]
    },
    {
     "name": "stdout",
     "output_type": "stream",
     "text": [
      "       63511448 done in  24.5 minutes\n"
     ]
    },
    {
     "name": "stderr",
     "output_type": "stream",
     "text": [
      "Feature Extraction: 100%|██████████| 60/60 [00:28<00:00,  2.36it/s]\n",
      "Feature Extraction: 100%|██████████| 60/60 [00:05<00:00, 13.39it/s]\n",
      "Feature Extraction: 100%|██████████| 60/60 [00:04<00:00, 12.46it/s]\n",
      "Feature Extraction: 100%|██████████| 60/60 [00:04<00:00, 13.12it/s]\n"
     ]
    },
    {
     "name": "stdout",
     "output_type": "stream",
     "text": [
      "       68047980 done in  26.4 minutes\n"
     ]
    },
    {
     "name": "stderr",
     "output_type": "stream",
     "text": [
      "Feature Extraction: 100%|██████████| 60/60 [00:26<00:00,  2.47it/s]\n",
      "Feature Extraction: 100%|██████████| 60/60 [00:05<00:00, 12.71it/s]\n",
      "Feature Extraction: 100%|██████████| 60/60 [00:04<00:00, 12.77it/s]\n",
      "Feature Extraction: 100%|██████████| 60/60 [00:04<00:00, 13.20it/s]\n"
     ]
    },
    {
     "name": "stdout",
     "output_type": "stream",
     "text": [
      "       72584512 done in  28.3 minutes\n"
     ]
    },
    {
     "name": "stderr",
     "output_type": "stream",
     "text": [
      "Feature Extraction: 100%|██████████| 60/60 [00:25<00:00,  2.90it/s]\n",
      "Feature Extraction: 100%|██████████| 60/60 [00:05<00:00, 11.57it/s]\n",
      "Feature Extraction: 100%|██████████| 60/60 [00:04<00:00, 14.17it/s]\n",
      "Feature Extraction: 100%|██████████| 60/60 [00:04<00:00, 14.68it/s]\n"
     ]
    },
    {
     "name": "stdout",
     "output_type": "stream",
     "text": [
      "       77121044 done in  30.1 minutes\n"
     ]
    },
    {
     "name": "stderr",
     "output_type": "stream",
     "text": [
      "Feature Extraction: 100%|██████████| 60/60 [00:26<00:00,  2.34it/s]\n",
      "Feature Extraction: 100%|██████████| 60/60 [00:04<00:00, 12.21it/s]\n",
      "Feature Extraction: 100%|██████████| 60/60 [00:04<00:00, 12.83it/s]\n",
      "Feature Extraction: 100%|██████████| 60/60 [00:04<00:00, 14.58it/s]\n"
     ]
    },
    {
     "name": "stdout",
     "output_type": "stream",
     "text": [
      "       81657576 done in  32.0 minutes\n"
     ]
    },
    {
     "name": "stderr",
     "output_type": "stream",
     "text": [
      "Feature Extraction: 100%|██████████| 60/60 [00:26<00:00,  2.47it/s]\n",
      "Feature Extraction: 100%|██████████| 60/60 [00:05<00:00, 13.16it/s]\n",
      "Feature Extraction: 100%|██████████| 60/60 [00:04<00:00, 12.95it/s]\n",
      "Feature Extraction: 100%|██████████| 60/60 [00:04<00:00, 16.41it/s]\n"
     ]
    },
    {
     "name": "stdout",
     "output_type": "stream",
     "text": [
      "       86194108 done in  33.9 minutes\n"
     ]
    },
    {
     "name": "stderr",
     "output_type": "stream",
     "text": [
      "Feature Extraction: 100%|██████████| 60/60 [00:27<00:00,  3.14it/s]\n",
      "Feature Extraction: 100%|██████████| 60/60 [00:05<00:00, 11.27it/s]\n",
      "Feature Extraction: 100%|██████████| 60/60 [00:04<00:00, 12.64it/s]\n",
      "Feature Extraction: 100%|██████████| 60/60 [00:04<00:00, 13.39it/s]\n"
     ]
    },
    {
     "name": "stdout",
     "output_type": "stream",
     "text": [
      "       90730640 done in  35.8 minutes\n"
     ]
    },
    {
     "name": "stderr",
     "output_type": "stream",
     "text": [
      "Feature Extraction: 100%|██████████| 60/60 [00:26<00:00,  2.62it/s]\n",
      "Feature Extraction: 100%|██████████| 60/60 [00:04<00:00, 14.46it/s]\n",
      "Feature Extraction: 100%|██████████| 60/60 [00:04<00:00, 12.86it/s]\n",
      "Feature Extraction: 100%|██████████| 60/60 [00:04<00:00, 14.05it/s]\n"
     ]
    },
    {
     "name": "stdout",
     "output_type": "stream",
     "text": [
      "       95267172 done in  37.7 minutes\n"
     ]
    },
    {
     "name": "stderr",
     "output_type": "stream",
     "text": [
      "Feature Extraction: 100%|██████████| 60/60 [00:27<00:00,  2.19it/s]\n",
      "Feature Extraction: 100%|██████████| 60/60 [00:04<00:00, 14.93it/s]\n",
      "Feature Extraction: 100%|██████████| 60/60 [00:04<00:00, 13.33it/s]\n",
      "Feature Extraction: 100%|██████████| 60/60 [00:04<00:00, 15.90it/s]\n"
     ]
    },
    {
     "name": "stdout",
     "output_type": "stream",
     "text": [
      "       99803704 done in  39.6 minutes\n"
     ]
    },
    {
     "name": "stderr",
     "output_type": "stream",
     "text": [
      "Feature Extraction: 100%|██████████| 60/60 [00:26<00:00,  2.30it/s]\n",
      "Feature Extraction: 100%|██████████| 60/60 [00:05<00:00, 12.85it/s]\n",
      "Feature Extraction: 100%|██████████| 60/60 [00:04<00:00, 12.22it/s]\n",
      "Feature Extraction: 100%|██████████| 60/60 [00:04<00:00, 12.55it/s]\n"
     ]
    },
    {
     "name": "stdout",
     "output_type": "stream",
     "text": [
      "      104340236 done in  41.5 minutes\n"
     ]
    },
    {
     "name": "stderr",
     "output_type": "stream",
     "text": [
      "Feature Extraction: 100%|██████████| 60/60 [00:25<00:00,  3.18it/s]\n",
      "Feature Extraction: 100%|██████████| 60/60 [00:05<00:00, 11.48it/s]\n",
      "Feature Extraction: 100%|██████████| 60/60 [00:04<00:00, 14.15it/s]\n",
      "Feature Extraction: 100%|██████████| 60/60 [00:05<00:00, 11.84it/s]\n"
     ]
    },
    {
     "name": "stdout",
     "output_type": "stream",
     "text": [
      "      108876768 done in  43.3 minutes\n"
     ]
    },
    {
     "name": "stderr",
     "output_type": "stream",
     "text": [
      "Feature Extraction: 100%|██████████| 60/60 [00:27<00:00,  2.43it/s]\n",
      "Feature Extraction: 100%|██████████| 60/60 [00:05<00:00, 11.94it/s]\n",
      "Feature Extraction: 100%|██████████| 60/60 [00:05<00:00, 11.67it/s]\n",
      "Feature Extraction: 100%|██████████| 60/60 [00:04<00:00, 12.73it/s]\n"
     ]
    },
    {
     "name": "stdout",
     "output_type": "stream",
     "text": [
      "      113413300 done in  45.2 minutes\n"
     ]
    },
    {
     "name": "stderr",
     "output_type": "stream",
     "text": [
      "Feature Extraction: 100%|██████████| 60/60 [00:26<00:00,  2.25it/s]\n",
      "Feature Extraction: 100%|██████████| 60/60 [00:05<00:00, 11.94it/s]\n",
      "Feature Extraction: 100%|██████████| 60/60 [00:04<00:00, 15.81it/s]\n",
      "Feature Extraction: 100%|██████████| 60/60 [00:04<00:00, 15.18it/s]\n"
     ]
    },
    {
     "name": "stdout",
     "output_type": "stream",
     "text": [
      "      117949832 done in  47.1 minutes\n"
     ]
    },
    {
     "name": "stderr",
     "output_type": "stream",
     "text": [
      "Feature Extraction: 100%|██████████| 60/60 [00:27<00:00,  2.22it/s]\n",
      "Feature Extraction: 100%|██████████| 60/60 [00:05<00:00, 11.52it/s]\n",
      "Feature Extraction: 100%|██████████| 60/60 [00:04<00:00, 12.48it/s]\n",
      "Feature Extraction: 100%|██████████| 60/60 [00:04<00:00, 13.39it/s]\n"
     ]
    },
    {
     "name": "stdout",
     "output_type": "stream",
     "text": [
      "      122486364 done in  49.0 minutes\n"
     ]
    },
    {
     "name": "stderr",
     "output_type": "stream",
     "text": [
      "Feature Extraction: 100%|██████████| 60/60 [00:28<00:00,  2.59it/s]\n",
      "Feature Extraction: 100%|██████████| 60/60 [00:05<00:00, 14.65it/s]\n",
      "Feature Extraction: 100%|██████████| 60/60 [00:04<00:00, 13.42it/s]\n",
      "Feature Extraction: 100%|██████████| 60/60 [00:04<00:00, 14.35it/s]\n"
     ]
    },
    {
     "name": "stdout",
     "output_type": "stream",
     "text": [
      "      127022896 done in  50.9 minutes\n"
     ]
    },
    {
     "name": "stderr",
     "output_type": "stream",
     "text": [
      "Feature Extraction: 100%|██████████| 60/60 [00:26<00:00,  2.58it/s]\n",
      "Feature Extraction: 100%|██████████| 60/60 [00:05<00:00, 11.17it/s]\n",
      "Feature Extraction: 100%|██████████| 60/60 [00:04<00:00, 12.34it/s]\n",
      "Feature Extraction: 100%|██████████| 60/60 [00:04<00:00, 13.31it/s]\n"
     ]
    },
    {
     "name": "stdout",
     "output_type": "stream",
     "text": [
      "      131559428 done in  52.7 minutes\n"
     ]
    },
    {
     "name": "stderr",
     "output_type": "stream",
     "text": [
      "Feature Extraction: 100%|██████████| 60/60 [00:26<00:00,  2.86it/s]\n",
      "Feature Extraction: 100%|██████████| 60/60 [00:04<00:00, 12.24it/s]\n",
      "Feature Extraction: 100%|██████████| 60/60 [00:05<00:00, 11.54it/s]\n",
      "Feature Extraction: 100%|██████████| 60/60 [00:04<00:00, 13.50it/s]\n"
     ]
    },
    {
     "name": "stdout",
     "output_type": "stream",
     "text": [
      "      136095960 done in  54.5 minutes\n"
     ]
    },
    {
     "name": "stderr",
     "output_type": "stream",
     "text": [
      "Feature Extraction: 100%|██████████| 60/60 [00:26<00:00,  2.92it/s]\n",
      "Feature Extraction: 100%|██████████| 60/60 [00:05<00:00, 12.00it/s]\n",
      "Feature Extraction: 100%|██████████| 60/60 [00:04<00:00, 12.83it/s]\n",
      "Feature Extraction: 100%|██████████| 60/60 [00:04<00:00, 13.33it/s]\n"
     ]
    },
    {
     "name": "stdout",
     "output_type": "stream",
     "text": [
      "      140632492 done in  56.3 minutes\n"
     ]
    },
    {
     "name": "stderr",
     "output_type": "stream",
     "text": [
      "Feature Extraction: 100%|██████████| 60/60 [00:26<00:00,  2.24it/s]\n",
      "Feature Extraction: 100%|██████████| 60/60 [00:04<00:00, 14.24it/s]\n",
      "Feature Extraction: 100%|██████████| 60/60 [00:05<00:00, 15.57it/s]\n",
      "Feature Extraction: 100%|██████████| 60/60 [00:04<00:00, 16.84it/s]\n"
     ]
    },
    {
     "name": "stdout",
     "output_type": "stream",
     "text": [
      "      145169024 done in  58.1 minutes\n"
     ]
    },
    {
     "name": "stderr",
     "output_type": "stream",
     "text": [
      "Feature Extraction: 100%|██████████| 60/60 [00:25<00:00,  3.05it/s]\n",
      "Feature Extraction: 100%|██████████| 60/60 [00:05<00:00, 11.46it/s]\n",
      "Feature Extraction: 100%|██████████| 60/60 [00:05<00:00, 11.64it/s]\n",
      "Feature Extraction: 100%|██████████| 60/60 [00:04<00:00, 12.65it/s]\n"
     ]
    },
    {
     "name": "stdout",
     "output_type": "stream",
     "text": [
      "      149705556 done in  59.9 minutes\n"
     ]
    },
    {
     "name": "stderr",
     "output_type": "stream",
     "text": [
      "Feature Extraction: 100%|██████████| 60/60 [00:26<00:00,  2.45it/s]\n",
      "Feature Extraction: 100%|██████████| 60/60 [00:05<00:00, 12.16it/s]\n",
      "Feature Extraction: 100%|██████████| 60/60 [00:05<00:00, 11.84it/s]\n",
      "Feature Extraction: 100%|██████████| 60/60 [00:04<00:00, 16.09it/s]\n"
     ]
    },
    {
     "name": "stdout",
     "output_type": "stream",
     "text": [
      "      154242088 done in  61.7 minutes\n"
     ]
    },
    {
     "name": "stderr",
     "output_type": "stream",
     "text": [
      "Feature Extraction: 100%|██████████| 60/60 [00:26<00:00,  2.28it/s]\n",
      "Feature Extraction: 100%|██████████| 60/60 [00:05<00:00, 11.63it/s]\n",
      "Feature Extraction: 100%|██████████| 60/60 [00:04<00:00, 12.05it/s]\n",
      "Feature Extraction: 100%|██████████| 60/60 [00:04<00:00, 14.59it/s]\n"
     ]
    },
    {
     "name": "stdout",
     "output_type": "stream",
     "text": [
      "      158778620 done in  63.6 minutes\n"
     ]
    },
    {
     "name": "stderr",
     "output_type": "stream",
     "text": [
      "Feature Extraction: 100%|██████████| 60/60 [00:25<00:00,  2.87it/s]\n",
      "Feature Extraction: 100%|██████████| 60/60 [00:05<00:00, 11.62it/s]\n",
      "Feature Extraction: 100%|██████████| 60/60 [00:04<00:00, 14.02it/s]\n",
      "Feature Extraction: 100%|██████████| 60/60 [00:04<00:00, 12.99it/s]\n"
     ]
    },
    {
     "name": "stdout",
     "output_type": "stream",
     "text": [
      "      163315152 done in  65.4 minutes\n"
     ]
    },
    {
     "name": "stderr",
     "output_type": "stream",
     "text": [
      "Feature Extraction: 100%|██████████| 60/60 [00:27<00:00,  2.23it/s]\n",
      "Feature Extraction: 100%|██████████| 60/60 [00:04<00:00, 12.06it/s]\n",
      "Feature Extraction: 100%|██████████| 60/60 [00:05<00:00,  9.86it/s]\n",
      "Feature Extraction: 100%|██████████| 60/60 [00:04<00:00, 13.77it/s]\n"
     ]
    },
    {
     "name": "stdout",
     "output_type": "stream",
     "text": [
      "      167851684 done in  67.2 minutes\n"
     ]
    },
    {
     "name": "stderr",
     "output_type": "stream",
     "text": [
      "Feature Extraction: 100%|██████████| 60/60 [00:27<00:00,  2.39it/s]\n",
      "Feature Extraction: 100%|██████████| 60/60 [00:05<00:00, 12.08it/s]\n",
      "Feature Extraction: 100%|██████████| 60/60 [00:04<00:00, 12.25it/s]\n",
      "Feature Extraction: 100%|██████████| 60/60 [00:04<00:00, 15.79it/s]\n"
     ]
    },
    {
     "name": "stdout",
     "output_type": "stream",
     "text": [
      "      172388216 done in  69.1 minutes\n"
     ]
    },
    {
     "name": "stderr",
     "output_type": "stream",
     "text": [
      "Feature Extraction: 100%|██████████| 60/60 [00:27<00:00,  2.07it/s]\n",
      "Feature Extraction: 100%|██████████| 60/60 [00:05<00:00, 10.09it/s]\n",
      "Feature Extraction: 100%|██████████| 60/60 [00:04<00:00, 12.38it/s]\n",
      "Feature Extraction: 100%|██████████| 60/60 [00:04<00:00, 14.45it/s]\n"
     ]
    },
    {
     "name": "stdout",
     "output_type": "stream",
     "text": [
      "      176924748 done in  70.9 minutes\n"
     ]
    },
    {
     "name": "stderr",
     "output_type": "stream",
     "text": [
      "Feature Extraction: 100%|██████████| 60/60 [00:26<00:00,  3.00it/s]\n",
      "Feature Extraction: 100%|██████████| 60/60 [00:05<00:00, 11.36it/s]\n",
      "Feature Extraction: 100%|██████████| 60/60 [00:04<00:00, 12.58it/s]\n",
      "Feature Extraction: 100%|██████████| 60/60 [00:04<00:00, 12.92it/s]\n"
     ]
    },
    {
     "name": "stdout",
     "output_type": "stream",
     "text": [
      "      181461280 done in  72.7 minutes\n"
     ]
    },
    {
     "name": "stderr",
     "output_type": "stream",
     "text": [
      "Feature Extraction: 100%|██████████| 60/60 [00:26<00:00,  2.76it/s]\n",
      "Feature Extraction: 100%|██████████| 60/60 [00:05<00:00, 11.02it/s]\n",
      "Feature Extraction: 100%|██████████| 60/60 [00:05<00:00, 11.31it/s]\n",
      "Feature Extraction: 100%|██████████| 60/60 [00:04<00:00, 12.61it/s]\n"
     ]
    },
    {
     "name": "stdout",
     "output_type": "stream",
     "text": [
      "      185997812 done in  74.5 minutes\n"
     ]
    },
    {
     "name": "stderr",
     "output_type": "stream",
     "text": [
      "Feature Extraction: 100%|██████████| 60/60 [00:26<00:00,  2.74it/s]\n",
      "Feature Extraction: 100%|██████████| 60/60 [00:05<00:00, 10.24it/s]\n",
      "Feature Extraction: 100%|██████████| 60/60 [00:04<00:00, 12.11it/s]\n",
      "Feature Extraction: 100%|██████████| 60/60 [00:04<00:00, 11.11it/s]\n"
     ]
    },
    {
     "name": "stdout",
     "output_type": "stream",
     "text": [
      "      190534344 done in  76.3 minutes\n"
     ]
    },
    {
     "name": "stderr",
     "output_type": "stream",
     "text": [
      "Feature Extraction: 100%|██████████| 60/60 [00:26<00:00,  2.50it/s]\n",
      "Feature Extraction: 100%|██████████| 60/60 [00:05<00:00, 10.21it/s]\n",
      "Feature Extraction: 100%|██████████| 60/60 [00:04<00:00, 14.68it/s]\n",
      "Feature Extraction: 100%|██████████| 60/60 [00:04<00:00, 13.95it/s]\n"
     ]
    },
    {
     "name": "stdout",
     "output_type": "stream",
     "text": [
      "      195070876 done in  78.1 minutes\n"
     ]
    },
    {
     "name": "stderr",
     "output_type": "stream",
     "text": [
      "Feature Extraction: 100%|██████████| 60/60 [00:27<00:00,  2.06it/s]\n",
      "Feature Extraction: 100%|██████████| 60/60 [00:05<00:00, 11.98it/s]\n",
      "Feature Extraction: 100%|██████████| 60/60 [00:04<00:00, 12.56it/s]\n",
      "Feature Extraction: 100%|██████████| 60/60 [00:04<00:00, 14.54it/s]\n"
     ]
    },
    {
     "name": "stdout",
     "output_type": "stream",
     "text": [
      "      199607408 done in  79.9 minutes\n"
     ]
    },
    {
     "name": "stderr",
     "output_type": "stream",
     "text": [
      "Feature Extraction: 100%|██████████| 60/60 [00:26<00:00,  2.59it/s]\n",
      "Feature Extraction: 100%|██████████| 60/60 [00:04<00:00, 12.49it/s]\n",
      "Feature Extraction: 100%|██████████| 60/60 [00:04<00:00, 12.60it/s]\n",
      "Feature Extraction: 100%|██████████| 60/60 [00:04<00:00, 16.57it/s]\n"
     ]
    },
    {
     "name": "stdout",
     "output_type": "stream",
     "text": [
      "      204143940 done in  81.8 minutes\n"
     ]
    },
    {
     "name": "stderr",
     "output_type": "stream",
     "text": [
      "Feature Extraction: 100%|██████████| 60/60 [00:26<00:00,  2.71it/s]\n",
      "Feature Extraction: 100%|██████████| 60/60 [00:04<00:00, 12.45it/s]\n",
      "Feature Extraction: 100%|██████████| 60/60 [00:04<00:00, 12.81it/s]\n",
      "Feature Extraction: 100%|██████████| 60/60 [00:04<00:00, 13.56it/s]\n"
     ]
    },
    {
     "name": "stdout",
     "output_type": "stream",
     "text": [
      "      208680472 done in  83.6 minutes\n"
     ]
    },
    {
     "name": "stderr",
     "output_type": "stream",
     "text": [
      "Feature Extraction: 100%|██████████| 60/60 [00:25<00:00,  2.75it/s]\n",
      "Feature Extraction: 100%|██████████| 60/60 [00:05<00:00,  7.91it/s]\n",
      "Feature Extraction: 100%|██████████| 60/60 [00:04<00:00, 12.29it/s]\n",
      "Feature Extraction: 100%|██████████| 60/60 [00:04<00:00, 13.91it/s]\n"
     ]
    },
    {
     "name": "stdout",
     "output_type": "stream",
     "text": [
      "      213217004 done in  85.4 minutes\n"
     ]
    },
    {
     "name": "stderr",
     "output_type": "stream",
     "text": [
      "Feature Extraction: 100%|██████████| 60/60 [00:24<00:00,  2.81it/s]\n",
      "Feature Extraction: 100%|██████████| 60/60 [00:05<00:00, 11.34it/s]\n",
      "Feature Extraction: 100%|██████████| 60/60 [00:04<00:00, 12.68it/s]\n",
      "Feature Extraction: 100%|██████████| 60/60 [00:04<00:00, 12.19it/s]\n"
     ]
    },
    {
     "name": "stdout",
     "output_type": "stream",
     "text": [
      "      217753536 done in  87.2 minutes\n"
     ]
    },
    {
     "name": "stderr",
     "output_type": "stream",
     "text": [
      "Feature Extraction: 100%|██████████| 60/60 [00:25<00:00,  2.81it/s]\n",
      "Feature Extraction: 100%|██████████| 60/60 [00:05<00:00, 11.27it/s]\n",
      "Feature Extraction: 100%|██████████| 60/60 [00:04<00:00, 12.93it/s]\n",
      "Feature Extraction: 100%|██████████| 60/60 [00:04<00:00, 14.10it/s]\n"
     ]
    },
    {
     "name": "stdout",
     "output_type": "stream",
     "text": [
      "      222290068 done in  89.0 minutes\n"
     ]
    },
    {
     "name": "stderr",
     "output_type": "stream",
     "text": [
      "Feature Extraction: 100%|██████████| 60/60 [00:27<00:00,  2.02it/s]\n",
      "Feature Extraction: 100%|██████████| 60/60 [00:04<00:00, 13.07it/s]\n",
      "Feature Extraction: 100%|██████████| 60/60 [00:04<00:00, 12.23it/s]\n",
      "Feature Extraction: 100%|██████████| 60/60 [00:03<00:00, 15.89it/s]\n"
     ]
    },
    {
     "name": "stdout",
     "output_type": "stream",
     "text": [
      "      226826600 done in  90.9 minutes\n"
     ]
    },
    {
     "name": "stderr",
     "output_type": "stream",
     "text": [
      "Feature Extraction: 100%|██████████| 60/60 [00:26<00:00,  2.46it/s]\n",
      "Feature Extraction: 100%|██████████| 60/60 [00:05<00:00, 11.07it/s]\n",
      "Feature Extraction: 100%|██████████| 60/60 [00:04<00:00, 12.19it/s]\n",
      "Feature Extraction: 100%|██████████| 60/60 [00:04<00:00, 13.21it/s]\n"
     ]
    },
    {
     "name": "stdout",
     "output_type": "stream",
     "text": [
      "      231363132 done in  92.7 minutes\n"
     ]
    },
    {
     "name": "stderr",
     "output_type": "stream",
     "text": [
      "Feature Extraction: 100%|██████████| 60/60 [00:27<00:00,  2.07it/s]\n",
      "Feature Extraction: 100%|██████████| 60/60 [00:05<00:00, 13.17it/s]\n",
      "Feature Extraction: 100%|██████████| 60/60 [00:04<00:00, 12.67it/s]\n",
      "Feature Extraction: 100%|██████████| 60/60 [00:04<00:00, 13.79it/s]\n"
     ]
    },
    {
     "name": "stdout",
     "output_type": "stream",
     "text": [
      "      235899664 done in  94.5 minutes\n"
     ]
    },
    {
     "name": "stderr",
     "output_type": "stream",
     "text": [
      "Feature Extraction: 100%|██████████| 60/60 [00:25<00:00,  2.92it/s]\n",
      "Feature Extraction: 100%|██████████| 60/60 [00:05<00:00, 13.35it/s]\n",
      "Feature Extraction: 100%|██████████| 60/60 [00:04<00:00, 12.50it/s]\n",
      "Feature Extraction: 100%|██████████| 60/60 [00:04<00:00, 13.66it/s]\n"
     ]
    },
    {
     "name": "stdout",
     "output_type": "stream",
     "text": [
      "      240436196 done in  96.3 minutes\n"
     ]
    },
    {
     "name": "stderr",
     "output_type": "stream",
     "text": [
      "Feature Extraction: 100%|██████████| 60/60 [00:27<00:00,  2.75it/s]\n",
      "Feature Extraction: 100%|██████████| 60/60 [00:05<00:00, 11.73it/s]\n",
      "Feature Extraction: 100%|██████████| 60/60 [00:05<00:00, 10.67it/s]\n",
      "Feature Extraction: 100%|██████████| 60/60 [00:03<00:00, 19.90it/s]\n"
     ]
    },
    {
     "name": "stdout",
     "output_type": "stream",
     "text": [
      "      244972728 done in  98.2 minutes\n"
     ]
    },
    {
     "name": "stderr",
     "output_type": "stream",
     "text": [
      "Feature Extraction: 100%|██████████| 60/60 [00:25<00:00,  3.09it/s]\n",
      "Feature Extraction: 100%|██████████| 60/60 [00:05<00:00, 11.77it/s]\n",
      "Feature Extraction: 100%|██████████| 60/60 [00:04<00:00, 15.55it/s]\n",
      "Feature Extraction: 100%|██████████| 60/60 [00:05<00:00, 11.71it/s]\n"
     ]
    },
    {
     "name": "stdout",
     "output_type": "stream",
     "text": [
      "      249509260 done in 100.0 minutes\n"
     ]
    },
    {
     "name": "stderr",
     "output_type": "stream",
     "text": [
      "Feature Extraction: 100%|██████████| 60/60 [00:25<00:00,  2.72it/s]\n",
      "Feature Extraction: 100%|██████████| 60/60 [00:04<00:00, 12.33it/s]\n",
      "Feature Extraction: 100%|██████████| 60/60 [00:04<00:00, 13.12it/s]\n",
      "Feature Extraction: 100%|██████████| 60/60 [00:04<00:00, 13.04it/s]\n"
     ]
    },
    {
     "name": "stdout",
     "output_type": "stream",
     "text": [
      "      254045792 done in 101.8 minutes\n"
     ]
    },
    {
     "name": "stderr",
     "output_type": "stream",
     "text": [
      "Feature Extraction: 100%|██████████| 60/60 [00:26<00:00,  2.59it/s]\n",
      "Feature Extraction: 100%|██████████| 60/60 [00:04<00:00, 12.83it/s]\n",
      "Feature Extraction: 100%|██████████| 60/60 [00:05<00:00, 12.63it/s]\n",
      "Feature Extraction: 100%|██████████| 60/60 [00:04<00:00, 16.25it/s]\n"
     ]
    },
    {
     "name": "stdout",
     "output_type": "stream",
     "text": [
      "      258582324 done in 103.6 minutes\n"
     ]
    },
    {
     "name": "stderr",
     "output_type": "stream",
     "text": [
      "Feature Extraction: 100%|██████████| 60/60 [00:25<00:00,  2.65it/s]\n",
      "Feature Extraction: 100%|██████████| 60/60 [00:05<00:00, 13.93it/s]\n",
      "Feature Extraction: 100%|██████████| 60/60 [00:04<00:00, 15.20it/s]\n",
      "Feature Extraction: 100%|██████████| 60/60 [00:04<00:00, 14.43it/s]\n"
     ]
    },
    {
     "name": "stdout",
     "output_type": "stream",
     "text": [
      "      263118856 done in 105.4 minutes\n"
     ]
    },
    {
     "name": "stderr",
     "output_type": "stream",
     "text": [
      "Feature Extraction: 100%|██████████| 60/60 [00:25<00:00,  3.07it/s]\n",
      "Feature Extraction: 100%|██████████| 60/60 [00:04<00:00, 13.93it/s]\n",
      "Feature Extraction: 100%|██████████| 60/60 [00:04<00:00, 12.64it/s]\n",
      "Feature Extraction: 100%|██████████| 60/60 [00:04<00:00, 12.43it/s]\n"
     ]
    },
    {
     "name": "stdout",
     "output_type": "stream",
     "text": [
      "      267655388 done in 107.2 minutes\n"
     ]
    },
    {
     "name": "stderr",
     "output_type": "stream",
     "text": [
      "Feature Extraction: 100%|██████████| 60/60 [00:26<00:00,  2.59it/s]\n",
      "Feature Extraction: 100%|██████████| 60/60 [00:05<00:00, 11.56it/s]\n",
      "Feature Extraction: 100%|██████████| 60/60 [00:04<00:00, 13.24it/s]\n",
      "Feature Extraction: 100%|██████████| 60/60 [00:03<00:00, 16.07it/s]\n"
     ]
    },
    {
     "name": "stdout",
     "output_type": "stream",
     "text": [
      "      272191920 done in 109.0 minutes\n"
     ]
    },
    {
     "name": "stderr",
     "output_type": "stream",
     "text": [
      "Feature Extraction: 100%|██████████| 60/60 [00:26<00:00,  2.26it/s]\n",
      "Feature Extraction: 100%|██████████| 60/60 [00:05<00:00, 13.02it/s]\n",
      "Feature Extraction: 100%|██████████| 60/60 [00:05<00:00, 13.99it/s]\n",
      "Feature Extraction: 100%|██████████| 60/60 [00:04<00:00, 12.52it/s]\n"
     ]
    },
    {
     "name": "stdout",
     "output_type": "stream",
     "text": [
      "      276728452 done in 110.9 minutes\n"
     ]
    },
    {
     "name": "stderr",
     "output_type": "stream",
     "text": [
      "Feature Extraction: 100%|██████████| 60/60 [00:26<00:00,  2.47it/s]\n",
      "Feature Extraction: 100%|██████████| 60/60 [00:05<00:00, 13.54it/s]\n",
      "Feature Extraction: 100%|██████████| 60/60 [00:05<00:00, 12.50it/s]\n",
      "Feature Extraction: 100%|██████████| 60/60 [00:04<00:00, 14.01it/s]\n"
     ]
    },
    {
     "name": "stdout",
     "output_type": "stream",
     "text": [
      "      281264984 done in 112.7 minutes\n"
     ]
    },
    {
     "name": "stderr",
     "output_type": "stream",
     "text": [
      "Feature Extraction: 100%|██████████| 60/60 [00:26<00:00,  2.50it/s]\n",
      "Feature Extraction: 100%|██████████| 60/60 [00:05<00:00, 11.73it/s]\n",
      "Feature Extraction: 100%|██████████| 60/60 [00:05<00:00, 11.84it/s]\n",
      "Feature Extraction: 100%|██████████| 60/60 [00:03<00:00, 18.15it/s]\n"
     ]
    },
    {
     "name": "stdout",
     "output_type": "stream",
     "text": [
      "      285801516 done in 114.5 minutes\n"
     ]
    },
    {
     "name": "stderr",
     "output_type": "stream",
     "text": [
      "Feature Extraction: 100%|██████████| 60/60 [00:27<00:00,  2.05it/s]\n",
      "Feature Extraction: 100%|██████████| 60/60 [00:05<00:00, 10.64it/s]\n",
      "Feature Extraction: 100%|██████████| 60/60 [00:04<00:00, 12.54it/s]\n",
      "Feature Extraction: 100%|██████████| 60/60 [00:04<00:00, 15.81it/s]\n"
     ]
    },
    {
     "name": "stdout",
     "output_type": "stream",
     "text": [
      "      290338048 done in 116.4 minutes\n"
     ]
    },
    {
     "name": "stderr",
     "output_type": "stream",
     "text": [
      "Feature Extraction: 100%|██████████| 60/60 [00:27<00:00,  2.31it/s]\n",
      "Feature Extraction: 100%|██████████| 60/60 [00:05<00:00, 11.19it/s]\n",
      "Feature Extraction: 100%|██████████| 60/60 [00:04<00:00, 13.83it/s]\n",
      "Feature Extraction: 100%|██████████| 60/60 [00:04<00:00, 13.57it/s]\n"
     ]
    },
    {
     "name": "stdout",
     "output_type": "stream",
     "text": [
      "      294874580 done in 118.2 minutes\n"
     ]
    },
    {
     "name": "stderr",
     "output_type": "stream",
     "text": [
      "Feature Extraction: 100%|██████████| 60/60 [00:25<00:00,  2.82it/s]\n",
      "Feature Extraction: 100%|██████████| 60/60 [00:05<00:00, 10.00it/s]\n",
      "Feature Extraction: 100%|██████████| 60/60 [00:04<00:00, 14.07it/s]\n",
      "Feature Extraction: 100%|██████████| 60/60 [00:04<00:00, 13.56it/s]\n"
     ]
    },
    {
     "name": "stdout",
     "output_type": "stream",
     "text": [
      "      299411112 done in 120.0 minutes\n"
     ]
    },
    {
     "name": "stderr",
     "output_type": "stream",
     "text": [
      "Feature Extraction: 100%|██████████| 60/60 [00:26<00:00,  2.30it/s]\n",
      "Feature Extraction: 100%|██████████| 60/60 [00:05<00:00, 12.82it/s]\n",
      "Feature Extraction: 100%|██████████| 60/60 [00:04<00:00, 14.83it/s]\n",
      "Feature Extraction: 100%|██████████| 60/60 [00:04<00:00, 13.52it/s]\n"
     ]
    },
    {
     "name": "stdout",
     "output_type": "stream",
     "text": [
      "      303947644 done in 121.8 minutes\n"
     ]
    },
    {
     "name": "stderr",
     "output_type": "stream",
     "text": [
      "Feature Extraction: 100%|██████████| 60/60 [00:25<00:00,  3.24it/s]\n",
      "Feature Extraction: 100%|██████████| 60/60 [00:05<00:00, 14.62it/s]\n",
      "Feature Extraction: 100%|██████████| 60/60 [00:04<00:00, 15.90it/s]\n",
      "Feature Extraction: 100%|██████████| 60/60 [00:03<00:00, 20.45it/s]\n"
     ]
    },
    {
     "name": "stdout",
     "output_type": "stream",
     "text": [
      "      308484176 done in 123.6 minutes\n"
     ]
    },
    {
     "name": "stderr",
     "output_type": "stream",
     "text": [
      "Feature Extraction: 100%|██████████| 60/60 [00:26<00:00,  2.52it/s]\n",
      "Feature Extraction: 100%|██████████| 60/60 [00:04<00:00, 15.34it/s]\n",
      "Feature Extraction: 100%|██████████| 60/60 [00:04<00:00, 13.18it/s]\n",
      "Feature Extraction: 100%|██████████| 60/60 [00:04<00:00, 12.44it/s]\n"
     ]
    },
    {
     "name": "stdout",
     "output_type": "stream",
     "text": [
      "      313020708 done in 125.4 minutes\n"
     ]
    },
    {
     "name": "stderr",
     "output_type": "stream",
     "text": [
      "Feature Extraction: 100%|██████████| 60/60 [00:25<00:00,  2.94it/s]\n",
      "Feature Extraction: 100%|██████████| 60/60 [00:04<00:00, 12.98it/s]\n",
      "Feature Extraction: 100%|██████████| 60/60 [00:03<00:00, 17.79it/s]\n",
      "Feature Extraction: 100%|██████████| 60/60 [00:04<00:00, 14.05it/s]\n"
     ]
    },
    {
     "name": "stdout",
     "output_type": "stream",
     "text": [
      "      317557240 done in 127.2 minutes\n"
     ]
    },
    {
     "name": "stderr",
     "output_type": "stream",
     "text": [
      "Feature Extraction: 100%|██████████| 60/60 [00:25<00:00,  3.04it/s]\n",
      "Feature Extraction: 100%|██████████| 60/60 [00:04<00:00,  9.83it/s]\n",
      "Feature Extraction: 100%|██████████| 60/60 [00:04<00:00, 14.51it/s]\n",
      "Feature Extraction: 100%|██████████| 60/60 [00:04<00:00, 14.35it/s]\n"
     ]
    },
    {
     "name": "stdout",
     "output_type": "stream",
     "text": [
      "      322093772 done in 129.0 minutes\n"
     ]
    },
    {
     "name": "stderr",
     "output_type": "stream",
     "text": [
      "Feature Extraction: 100%|██████████| 60/60 [00:25<00:00,  2.72it/s]\n",
      "Feature Extraction: 100%|██████████| 60/60 [00:04<00:00, 13.25it/s]\n",
      "Feature Extraction: 100%|██████████| 60/60 [00:04<00:00, 15.17it/s]\n",
      "Feature Extraction: 100%|██████████| 60/60 [00:04<00:00, 15.36it/s]\n"
     ]
    },
    {
     "name": "stdout",
     "output_type": "stream",
     "text": [
      "      326630304 done in 130.8 minutes\n"
     ]
    },
    {
     "name": "stderr",
     "output_type": "stream",
     "text": [
      "Feature Extraction: 100%|██████████| 60/60 [00:25<00:00,  2.58it/s]\n",
      "Feature Extraction: 100%|██████████| 60/60 [00:04<00:00, 13.98it/s]\n",
      "Feature Extraction: 100%|██████████| 60/60 [00:03<00:00, 15.09it/s]\n",
      "Feature Extraction: 100%|██████████| 60/60 [00:03<00:00, 16.76it/s]\n"
     ]
    },
    {
     "name": "stdout",
     "output_type": "stream",
     "text": [
      "      331166836 done in 132.6 minutes\n"
     ]
    },
    {
     "name": "stderr",
     "output_type": "stream",
     "text": [
      "Feature Extraction: 100%|██████████| 60/60 [00:24<00:00,  2.69it/s]\n",
      "Feature Extraction: 100%|██████████| 60/60 [00:04<00:00, 12.65it/s]\n",
      "Feature Extraction: 100%|██████████| 60/60 [00:04<00:00, 13.13it/s]\n",
      "Feature Extraction: 100%|██████████| 60/60 [00:03<00:00, 17.84it/s]\n"
     ]
    },
    {
     "name": "stdout",
     "output_type": "stream",
     "text": [
      "      335703368 done in 134.3 minutes\n"
     ]
    },
    {
     "name": "stderr",
     "output_type": "stream",
     "text": [
      "Feature Extraction: 100%|██████████| 60/60 [00:25<00:00,  2.62it/s]\n",
      "Feature Extraction: 100%|██████████| 60/60 [00:04<00:00, 12.35it/s]\n",
      "Feature Extraction: 100%|██████████| 60/60 [00:04<00:00, 14.57it/s]\n",
      "Feature Extraction: 100%|██████████| 60/60 [00:03<00:00, 15.28it/s]\n"
     ]
    },
    {
     "name": "stdout",
     "output_type": "stream",
     "text": [
      "      340239900 done in 136.1 minutes\n"
     ]
    },
    {
     "name": "stderr",
     "output_type": "stream",
     "text": [
      "Feature Extraction: 100%|██████████| 60/60 [00:25<00:00,  2.54it/s]\n",
      "Feature Extraction: 100%|██████████| 60/60 [00:04<00:00, 13.55it/s]\n",
      "Feature Extraction: 100%|██████████| 60/60 [00:04<00:00, 12.73it/s]\n",
      "Feature Extraction: 100%|██████████| 60/60 [00:03<00:00, 16.64it/s]\n"
     ]
    },
    {
     "name": "stdout",
     "output_type": "stream",
     "text": [
      "      344776432 done in 137.9 minutes\n"
     ]
    },
    {
     "name": "stderr",
     "output_type": "stream",
     "text": [
      "Feature Extraction: 100%|██████████| 60/60 [00:24<00:00,  2.73it/s]\n",
      "Feature Extraction: 100%|██████████| 60/60 [00:04<00:00, 12.62it/s]\n",
      "Feature Extraction: 100%|██████████| 60/60 [00:03<00:00, 15.64it/s]\n",
      "Feature Extraction: 100%|██████████| 60/60 [00:03<00:00, 15.33it/s]\n"
     ]
    },
    {
     "name": "stdout",
     "output_type": "stream",
     "text": [
      "      349312964 done in 139.6 minutes\n"
     ]
    },
    {
     "name": "stderr",
     "output_type": "stream",
     "text": [
      "Feature Extraction: 100%|██████████| 60/60 [00:25<00:00,  2.32it/s]\n",
      "Feature Extraction: 100%|██████████| 60/60 [00:05<00:00, 11.37it/s]\n",
      "Feature Extraction: 100%|██████████| 60/60 [00:04<00:00, 17.06it/s]\n",
      "Feature Extraction: 100%|██████████| 60/60 [00:04<00:00, 14.89it/s]\n"
     ]
    },
    {
     "name": "stdout",
     "output_type": "stream",
     "text": [
      "      353849496 done in 141.4 minutes\n"
     ]
    },
    {
     "name": "stderr",
     "output_type": "stream",
     "text": [
      "Feature Extraction: 100%|██████████| 60/60 [00:25<00:00,  2.38it/s]\n",
      "Feature Extraction: 100%|██████████| 60/60 [00:04<00:00, 12.52it/s]\n",
      "Feature Extraction: 100%|██████████| 60/60 [00:04<00:00, 13.87it/s]\n",
      "Feature Extraction: 100%|██████████| 60/60 [00:03<00:00, 15.46it/s]\n"
     ]
    },
    {
     "name": "stdout",
     "output_type": "stream",
     "text": [
      "      358386028 done in 143.2 minutes\n"
     ]
    },
    {
     "name": "stderr",
     "output_type": "stream",
     "text": [
      "Feature Extraction: 100%|██████████| 60/60 [00:25<00:00,  2.61it/s]\n",
      "Feature Extraction: 100%|██████████| 60/60 [00:04<00:00, 12.58it/s]\n",
      "Feature Extraction: 100%|██████████| 60/60 [00:04<00:00, 17.82it/s]\n",
      "Feature Extraction: 100%|██████████| 60/60 [00:03<00:00, 15.05it/s]\n"
     ]
    },
    {
     "name": "stdout",
     "output_type": "stream",
     "text": [
      "      362922560 done in 145.0 minutes\n"
     ]
    },
    {
     "name": "stderr",
     "output_type": "stream",
     "text": [
      "Feature Extraction: 100%|██████████| 60/60 [00:24<00:00,  2.88it/s]\n",
      "Feature Extraction: 100%|██████████| 60/60 [00:04<00:00, 12.96it/s]\n",
      "Feature Extraction: 100%|██████████| 60/60 [00:04<00:00, 14.20it/s]\n",
      "Feature Extraction: 100%|██████████| 60/60 [00:03<00:00, 15.53it/s]\n"
     ]
    },
    {
     "name": "stdout",
     "output_type": "stream",
     "text": [
      "      367459092 done in 146.8 minutes\n"
     ]
    },
    {
     "name": "stderr",
     "output_type": "stream",
     "text": [
      "Feature Extraction: 100%|██████████| 60/60 [00:25<00:00,  2.83it/s]\n",
      "Feature Extraction: 100%|██████████| 60/60 [00:04<00:00, 12.13it/s]\n",
      "Feature Extraction: 100%|██████████| 60/60 [00:04<00:00, 14.59it/s]\n",
      "Feature Extraction: 100%|██████████| 60/60 [00:03<00:00, 15.05it/s]\n"
     ]
    },
    {
     "name": "stdout",
     "output_type": "stream",
     "text": [
      "      371995624 done in 148.6 minutes\n"
     ]
    },
    {
     "name": "stderr",
     "output_type": "stream",
     "text": [
      "Feature Extraction: 100%|██████████| 60/60 [00:24<00:00,  3.15it/s]\n",
      "Feature Extraction: 100%|██████████| 60/60 [00:04<00:00, 12.46it/s]\n",
      "Feature Extraction: 100%|██████████| 60/60 [00:04<00:00, 19.15it/s]\n",
      "Feature Extraction: 100%|██████████| 60/60 [00:03<00:00, 17.05it/s]\n"
     ]
    },
    {
     "name": "stdout",
     "output_type": "stream",
     "text": [
      "      376532156 done in 150.3 minutes\n"
     ]
    }
   ],
   "source": [
    "featurized_set_savior = 2//3  # to prevent accidental running\n",
    "%%time\n",
    "# should take 100x (time after 1st iteration)\n",
    "featurize_test(\n",
    "    featurize_configs={'aggs': aggs, 'fcp': fcp}, \n",
    "    n_jobs=12,\n",
    "    meta_path='../data/raw/test_set_metadata.csv',\n",
    "    test_path='../data/raw/test_set.csv',\n",
    "    output_path='../data/features/test-all-feat-from-kernel-repro.csv',\n",
    "    id_colname='object_id',\n",
    "    chunks=chunk_size_one_100,  # alternatively: 5000000\n",
    ")"
   ]
  },
  {
   "cell_type": "markdown",
   "metadata": {},
   "source": [
    "### Test set predictions"
   ]
  },
  {
   "cell_type": "code",
   "execution_count": 20,
   "metadata": {},
   "outputs": [
    {
     "name": "stdout",
     "output_type": "stream",
     "text": [
      "Loading data...\n"
     ]
    },
    {
     "name": "stderr",
     "output_type": "stream",
     "text": [
      "  0%|          | 0/5 [00:00<?, ?it/s]"
     ]
    },
    {
     "name": "stdout",
     "output_type": "stream",
     "text": [
      "Generating predictions...\n"
     ]
    },
    {
     "name": "stderr",
     "output_type": "stream",
     "text": [
      "100%|██████████| 5/5 [06:59<00:00, 85.82s/it]\n"
     ]
    },
    {
     "name": "stdout",
     "output_type": "stream",
     "text": [
      "Postprocessing...\n",
      "Submission shape before grouping: (3492890, 16)\n",
      "Submission shape after grouping: (3492890, 15)\n",
      "Submission shape after postprocessing: (3492890, 15)\n",
      "Validating submission file...\n",
      "Saving submission...\n",
      "Submission saved to f/home/kk385830/astronomical-classification/submissions/subm_0.655012_2018-12-10-15-50.csv\n",
      "CPU times: user 1h 45min 8s, sys: 1min 31s, total: 1h 46min 40s\n",
      "Wall time: 9min 13s\n"
     ]
    }
   ],
   "source": [
    "%%time\n",
    "submission = predict_test(\n",
    "    clfs=clfs, \n",
    "    feature_colnames=feature_colnames, \n",
    "    id_colname=id_colname, \n",
    "    input_path='../data/features/test-all-feat-from-kernel-repro.csv', \n",
    "    output_path=submission_file_path, \n",
    "    verbose=True\n",
    ")"
   ]
  },
  {
   "cell_type": "code",
   "execution_count": 21,
   "metadata": {},
   "outputs": [
    {
     "data": {
      "text/html": [
       "<div>\n",
       "<style scoped>\n",
       "    .dataframe tbody tr th:only-of-type {\n",
       "        vertical-align: middle;\n",
       "    }\n",
       "\n",
       "    .dataframe tbody tr th {\n",
       "        vertical-align: top;\n",
       "    }\n",
       "\n",
       "    .dataframe thead th {\n",
       "        text-align: right;\n",
       "    }\n",
       "</style>\n",
       "<table border=\"1\" class=\"dataframe\">\n",
       "  <thead>\n",
       "    <tr style=\"text-align: right;\">\n",
       "      <th></th>\n",
       "      <th>class_6</th>\n",
       "      <th>class_15</th>\n",
       "      <th>class_16</th>\n",
       "      <th>class_42</th>\n",
       "      <th>class_52</th>\n",
       "      <th>class_53</th>\n",
       "      <th>class_62</th>\n",
       "      <th>class_64</th>\n",
       "      <th>class_65</th>\n",
       "      <th>class_67</th>\n",
       "      <th>class_88</th>\n",
       "      <th>class_90</th>\n",
       "      <th>class_92</th>\n",
       "      <th>class_95</th>\n",
       "      <th>class_99</th>\n",
       "    </tr>\n",
       "    <tr>\n",
       "      <th>object_id</th>\n",
       "      <th></th>\n",
       "      <th></th>\n",
       "      <th></th>\n",
       "      <th></th>\n",
       "      <th></th>\n",
       "      <th></th>\n",
       "      <th></th>\n",
       "      <th></th>\n",
       "      <th></th>\n",
       "      <th></th>\n",
       "      <th></th>\n",
       "      <th></th>\n",
       "      <th></th>\n",
       "      <th></th>\n",
       "      <th></th>\n",
       "    </tr>\n",
       "  </thead>\n",
       "  <tbody>\n",
       "    <tr>\n",
       "      <th>13</th>\n",
       "      <td>0.000360</td>\n",
       "      <td>0.002533</td>\n",
       "      <td>0.000253</td>\n",
       "      <td>0.398584</td>\n",
       "      <td>0.234868</td>\n",
       "      <td>0.000588</td>\n",
       "      <td>0.076150</td>\n",
       "      <td>0.000179</td>\n",
       "      <td>0.000245</td>\n",
       "      <td>0.002449</td>\n",
       "      <td>0.000558</td>\n",
       "      <td>0.142123</td>\n",
       "      <td>0.000271</td>\n",
       "      <td>0.000576</td>\n",
       "      <td>0.140263</td>\n",
       "    </tr>\n",
       "    <tr>\n",
       "      <th>14</th>\n",
       "      <td>0.000729</td>\n",
       "      <td>0.017038</td>\n",
       "      <td>0.000646</td>\n",
       "      <td>0.131502</td>\n",
       "      <td>0.041601</td>\n",
       "      <td>0.001021</td>\n",
       "      <td>0.071493</td>\n",
       "      <td>0.001367</td>\n",
       "      <td>0.001644</td>\n",
       "      <td>0.021206</td>\n",
       "      <td>0.004001</td>\n",
       "      <td>0.582138</td>\n",
       "      <td>0.000522</td>\n",
       "      <td>0.008279</td>\n",
       "      <td>0.116813</td>\n",
       "    </tr>\n",
       "    <tr>\n",
       "      <th>17</th>\n",
       "      <td>0.000281</td>\n",
       "      <td>0.003488</td>\n",
       "      <td>0.000267</td>\n",
       "      <td>0.029676</td>\n",
       "      <td>0.018126</td>\n",
       "      <td>0.000389</td>\n",
       "      <td>0.017293</td>\n",
       "      <td>0.001509</td>\n",
       "      <td>0.000419</td>\n",
       "      <td>0.039358</td>\n",
       "      <td>0.004025</td>\n",
       "      <td>0.822417</td>\n",
       "      <td>0.000155</td>\n",
       "      <td>0.004335</td>\n",
       "      <td>0.058262</td>\n",
       "    </tr>\n",
       "    <tr>\n",
       "      <th>23</th>\n",
       "      <td>0.000532</td>\n",
       "      <td>0.002382</td>\n",
       "      <td>0.000454</td>\n",
       "      <td>0.050927</td>\n",
       "      <td>0.015834</td>\n",
       "      <td>0.000628</td>\n",
       "      <td>0.060551</td>\n",
       "      <td>0.003201</td>\n",
       "      <td>0.000719</td>\n",
       "      <td>0.240286</td>\n",
       "      <td>0.001429</td>\n",
       "      <td>0.465966</td>\n",
       "      <td>0.000241</td>\n",
       "      <td>0.023801</td>\n",
       "      <td>0.133049</td>\n",
       "    </tr>\n",
       "    <tr>\n",
       "      <th>34</th>\n",
       "      <td>0.000352</td>\n",
       "      <td>0.004464</td>\n",
       "      <td>0.000237</td>\n",
       "      <td>0.099490</td>\n",
       "      <td>0.163679</td>\n",
       "      <td>0.000487</td>\n",
       "      <td>0.037197</td>\n",
       "      <td>0.000272</td>\n",
       "      <td>0.000470</td>\n",
       "      <td>0.012618</td>\n",
       "      <td>0.000360</td>\n",
       "      <td>0.559497</td>\n",
       "      <td>0.000196</td>\n",
       "      <td>0.000489</td>\n",
       "      <td>0.120193</td>\n",
       "    </tr>\n",
       "  </tbody>\n",
       "</table>\n",
       "</div>"
      ],
      "text/plain": [
       "            class_6  class_15  class_16  class_42  class_52  class_53  \\\n",
       "object_id                                                               \n",
       "13         0.000360  0.002533  0.000253  0.398584  0.234868  0.000588   \n",
       "14         0.000729  0.017038  0.000646  0.131502  0.041601  0.001021   \n",
       "17         0.000281  0.003488  0.000267  0.029676  0.018126  0.000389   \n",
       "23         0.000532  0.002382  0.000454  0.050927  0.015834  0.000628   \n",
       "34         0.000352  0.004464  0.000237  0.099490  0.163679  0.000487   \n",
       "\n",
       "           class_62  class_64  class_65  class_67  class_88  class_90  \\\n",
       "object_id                                                               \n",
       "13         0.076150  0.000179  0.000245  0.002449  0.000558  0.142123   \n",
       "14         0.071493  0.001367  0.001644  0.021206  0.004001  0.582138   \n",
       "17         0.017293  0.001509  0.000419  0.039358  0.004025  0.822417   \n",
       "23         0.060551  0.003201  0.000719  0.240286  0.001429  0.465966   \n",
       "34         0.037197  0.000272  0.000470  0.012618  0.000360  0.559497   \n",
       "\n",
       "           class_92  class_95  class_99  \n",
       "object_id                                \n",
       "13         0.000271  0.000576  0.140263  \n",
       "14         0.000522  0.008279  0.116813  \n",
       "17         0.000155  0.004335  0.058262  \n",
       "23         0.000241  0.023801  0.133049  \n",
       "34         0.000196  0.000489  0.120193  "
      ]
     },
     "execution_count": 21,
     "metadata": {},
     "output_type": "execute_result"
    }
   ],
   "source": [
    "submission.head()"
   ]
  }
 ],
 "metadata": {
  "kernelspec": {
   "display_name": "Python 3",
   "language": "python",
   "name": "python3"
  },
  "language_info": {
   "codemirror_mode": {
    "name": "ipython",
    "version": 3
   },
   "file_extension": ".py",
   "mimetype": "text/x-python",
   "name": "python",
   "nbconvert_exporter": "python",
   "pygments_lexer": "ipython3",
   "version": "3.6.7"
  }
 },
 "nbformat": 4,
 "nbformat_minor": 2
}
