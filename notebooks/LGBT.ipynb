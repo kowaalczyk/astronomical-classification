{
 "cells": [
  {
   "cell_type": "code",
   "execution_count": 26,
   "metadata": {},
   "outputs": [],
   "source": [
    "from typing import List\n",
    "\n",
    "from sklearn.ensemble import RandomForestClassifier\n",
    "from sklearn.preprocessing import OneHotEncoder\n",
    "from sklearn.model_selection import GridSearchCV\n",
    "import numpy as np\n",
    "import pandas as pd\n",
    "\n",
    "from lightgbm import LGBMClassifier\n",
    "\n",
    "\n",
    "from plasticc.dataset import Dataset\n",
    "\n",
    "import plasticc.metrics as metrics"
   ]
  },
  {
   "cell_type": "code",
   "execution_count": 4,
   "metadata": {},
   "outputs": [
    {
     "name": "stdout",
     "output_type": "stream",
     "text": [
      "Requirement already satisfied: lightgbm in /home/kk385830/miniconda3/envs/plasticc/lib/python3.6/site-packages (2.2.2)\n",
      "Requirement already satisfied: scikit-learn in /home/kk385830/miniconda3/envs/plasticc/lib/python3.6/site-packages (from lightgbm) (0.20.1)\n",
      "Requirement already satisfied: numpy in /home/kk385830/miniconda3/envs/plasticc/lib/python3.6/site-packages (from lightgbm) (1.15.4)\n",
      "Requirement already satisfied: scipy in /home/kk385830/miniconda3/envs/plasticc/lib/python3.6/site-packages (from lightgbm) (1.1.0)\n"
     ]
    }
   ],
   "source": [
    "!pip install lightgbm"
   ]
  },
  {
   "cell_type": "code",
   "execution_count": 5,
   "metadata": {},
   "outputs": [],
   "source": [
    "ds_tsfresh = Dataset('../data/sets/tsfresh-sample/', y_colname='target')"
   ]
  },
  {
   "cell_type": "code",
   "execution_count": 6,
   "metadata": {},
   "outputs": [],
   "source": [
    "ds_simple = Dataset('../data/sets/simple-12-01/', y_colname='target')"
   ]
  },
  {
   "cell_type": "code",
   "execution_count": 7,
   "metadata": {},
   "outputs": [],
   "source": [
    "#Xt, yt = ds_tsfresh.train"
   ]
  },
  {
   "cell_type": "code",
   "execution_count": 8,
   "metadata": {},
   "outputs": [],
   "source": [
    "Xs, ys = ds_simple.train"
   ]
  },
  {
   "cell_type": "markdown",
   "metadata": {},
   "source": [
    "### Eliminate null values"
   ]
  },
  {
   "cell_type": "code",
   "execution_count": 9,
   "metadata": {},
   "outputs": [],
   "source": [
    "def null_values(X: pd.DataFrame) -> List[str]:\n",
    "    print(\"Total columns:\", len(X.columns))\n",
    "    na_cols = [col for col in X.columns if X[col].isna().any()]\n",
    "    print(\"Total NA columns: \", len(na_cols))\n",
    "    if len(na_cols) < 10:\n",
    "        print(\"NA values by column:\")\n",
    "        print({na_col: X[na_col].isna().sum() for na_col in na_cols})\n",
    "    return na_cols"
   ]
  },
  {
   "cell_type": "code",
   "execution_count": 10,
   "metadata": {},
   "outputs": [],
   "source": [
    "#na_tsfresh = null_values(Xt)"
   ]
  },
  {
   "cell_type": "code",
   "execution_count": 11,
   "metadata": {},
   "outputs": [
    {
     "name": "stdout",
     "output_type": "stream",
     "text": [
      "Total columns: 176\n",
      "Total NA columns:  1\n",
      "NA values by column:\n",
      "{'distmod': 2325}\n"
     ]
    }
   ],
   "source": [
    "na_simple = null_values(Xs)"
   ]
  },
  {
   "cell_type": "markdown",
   "metadata": {},
   "source": [
    "We will fill null values with 0 and remove values that were duplicated"
   ]
  },
  {
   "cell_type": "code",
   "execution_count": 12,
   "metadata": {},
   "outputs": [],
   "source": [
    "for X in [Xs]:\n",
    "    X.fillna(0, inplace=True)\n",
    "#     X.dropna(axis=1, inplace=True)\n",
    "    assert(X.notna().all().all())\n",
    "    X.drop(columns=[col for col in set(X.columns) if col.endswith('_meta')], inplace=True)"
   ]
  },
  {
   "cell_type": "markdown",
   "metadata": {},
   "source": [
    "### Eliminate inifinte values"
   ]
  },
  {
   "cell_type": "code",
   "execution_count": 13,
   "metadata": {},
   "outputs": [
    {
     "name": "stdout",
     "output_type": "stream",
     "text": [
      "Before infinity removal: (7848, 176)\n",
      "Total columns: 176\n",
      "Total NA columns:  0\n",
      "NA values by column:\n",
      "{}\n",
      "After infinity removal: (7848, 176)\n"
     ]
    }
   ],
   "source": [
    "for X in [Xs]:\n",
    "    print(\"Before infinity removal:\", X.shape)\n",
    "    X.replace([np.inf, -np.inf], np.nan, inplace=True)\n",
    "    na_cols = null_values(X)\n",
    "    X.drop(columns=na_cols, inplace=True)\n",
    "    print(\"After infinity removal:\", X.shape)"
   ]
  },
  {
   "cell_type": "markdown",
   "metadata": {},
   "source": [
    "### Train models on simple dataset"
   ]
  },
  {
   "cell_type": "code",
   "execution_count": 14,
   "metadata": {},
   "outputs": [],
   "source": [
    "from sklearn.model_selection import train_test_split\n",
    "import seaborn as sns\n",
    "import matplotlib.pyplot as plt"
   ]
  },
  {
   "cell_type": "code",
   "execution_count": 15,
   "metadata": {},
   "outputs": [],
   "source": [
    "def plot_feature_importances(model, feature_names: List[str]):\n",
    "    features = pd.DataFrame({\"Importance\": model.feature_importances_, \"Feature\": feature_names})\n",
    "    fig, ax = plt.subplots(figsize=(6,15))\n",
    "    sns.barplot(ax=ax, x='Importance', y='Feature', data=features.sort_values(by='Importance', ascending=False).head(50))\n",
    "    sns.despine(left=True, bottom=True)\n",
    "    plt.show()"
   ]
  },
  {
   "cell_type": "code",
   "execution_count": 16,
   "metadata": {},
   "outputs": [],
   "source": [
    "X_train, X_test, y_train, y_test = train_test_split(Xs, ys, test_size=0.15, random_state=42)"
   ]
  },
  {
   "cell_type": "markdown",
   "metadata": {},
   "source": [
    "LGBM beginning"
   ]
  },
  {
   "cell_type": "code",
   "execution_count": 22,
   "metadata": {},
   "outputs": [],
   "source": [
    "lgb_params = {\n",
    "    'boosting_type': 'gbdt',\n",
    "    'objective': 'multiclass',\n",
    "    'num_class': 14,\n",
    "    'metric': 'multi_logloss',\n",
    "    'learning_rate': 0.03,\n",
    "    'subsample': .9,\n",
    "    'colsample_bytree': 0.5,\n",
    "    'reg_alpha': .01,\n",
    "    'reg_lambda': .01,\n",
    "    'min_split_gain': 0.01,\n",
    "    'min_child_weight': 10,\n",
    "    'n_estimators': 10000,\n",
    "    'silent': -1,\n",
    "    'verbose': -1,\n",
    "    'max_depth': 7,\n",
    "}\n",
    "lgb = LGBMClassifier(**lgb_params)"
   ]
  },
  {
   "cell_type": "code",
   "execution_count": null,
   "metadata": {},
   "outputs": [
    {
     "name": "stdout",
     "output_type": "stream",
     "text": [
      "Fitting 5 folds for each of 96 candidates, totalling 480 fits\n",
      "[Parallel(n_jobs=1)]: Using backend SequentialBackend with 1 concurrent workers.\n",
      "[CV] boosting_type=gbdt, colsample_bytree=0.5, learning_rate=0.03, max_depth=3, metric=multi_logloss, min_child_weight=10, min_split_gain=0.01, n_estimators=1000, num_class=14, objective=multiclass, reg_alpha=0.01, reg_lambda=0.01, silent=-1, subsample=0.9, verbose=-1 \n",
      "[CV]  boosting_type=gbdt, colsample_bytree=0.5, learning_rate=0.03, max_depth=3, metric=multi_logloss, min_child_weight=10, min_split_gain=0.01, n_estimators=1000, num_class=14, objective=multiclass, reg_alpha=0.01, reg_lambda=0.01, silent=-1, subsample=0.9, verbose=-1, score=0.7708955223880597, total=  12.4s\n",
      "[Parallel(n_jobs=1)]: Done   1 out of   1 | elapsed:   12.5s remaining:    0.0s\n",
      "[CV] boosting_type=gbdt, colsample_bytree=0.5, learning_rate=0.03, max_depth=3, metric=multi_logloss, min_child_weight=10, min_split_gain=0.01, n_estimators=1000, num_class=14, objective=multiclass, reg_alpha=0.01, reg_lambda=0.01, silent=-1, subsample=0.9, verbose=-1 \n",
      "[CV]  boosting_type=gbdt, colsample_bytree=0.5, learning_rate=0.03, max_depth=3, metric=multi_logloss, min_child_weight=10, min_split_gain=0.01, n_estimators=1000, num_class=14, objective=multiclass, reg_alpha=0.01, reg_lambda=0.01, silent=-1, subsample=0.9, verbose=-1, score=0.7700374531835206, total=  11.2s\n",
      "[Parallel(n_jobs=1)]: Done   2 out of   2 | elapsed:   23.9s remaining:    0.0s\n",
      "[CV] boosting_type=gbdt, colsample_bytree=0.5, learning_rate=0.03, max_depth=3, metric=multi_logloss, min_child_weight=10, min_split_gain=0.01, n_estimators=1000, num_class=14, objective=multiclass, reg_alpha=0.01, reg_lambda=0.01, silent=-1, subsample=0.9, verbose=-1 \n",
      "[CV]  boosting_type=gbdt, colsample_bytree=0.5, learning_rate=0.03, max_depth=3, metric=multi_logloss, min_child_weight=10, min_split_gain=0.01, n_estimators=1000, num_class=14, objective=multiclass, reg_alpha=0.01, reg_lambda=0.01, silent=-1, subsample=0.9, verbose=-1, score=0.7638680659670165, total=  10.8s\n",
      "[Parallel(n_jobs=1)]: Done   3 out of   3 | elapsed:   34.9s remaining:    0.0s\n",
      "[CV] boosting_type=gbdt, colsample_bytree=0.5, learning_rate=0.03, max_depth=3, metric=multi_logloss, min_child_weight=10, min_split_gain=0.01, n_estimators=1000, num_class=14, objective=multiclass, reg_alpha=0.01, reg_lambda=0.01, silent=-1, subsample=0.9, verbose=-1 \n",
      "[CV]  boosting_type=gbdt, colsample_bytree=0.5, learning_rate=0.03, max_depth=3, metric=multi_logloss, min_child_weight=10, min_split_gain=0.01, n_estimators=1000, num_class=14, objective=multiclass, reg_alpha=0.01, reg_lambda=0.01, silent=-1, subsample=0.9, verbose=-1, score=0.7657657657657657, total=  10.7s\n",
      "[Parallel(n_jobs=1)]: Done   4 out of   4 | elapsed:   45.8s remaining:    0.0s\n",
      "[CV] boosting_type=gbdt, colsample_bytree=0.5, learning_rate=0.03, max_depth=3, metric=multi_logloss, min_child_weight=10, min_split_gain=0.01, n_estimators=1000, num_class=14, objective=multiclass, reg_alpha=0.01, reg_lambda=0.01, silent=-1, subsample=0.9, verbose=-1 \n",
      "[CV]  boosting_type=gbdt, colsample_bytree=0.5, learning_rate=0.03, max_depth=3, metric=multi_logloss, min_child_weight=10, min_split_gain=0.01, n_estimators=1000, num_class=14, objective=multiclass, reg_alpha=0.01, reg_lambda=0.01, silent=-1, subsample=0.9, verbose=-1, score=0.7539503386004515, total=  10.7s\n",
      "[Parallel(n_jobs=1)]: Done   5 out of   5 | elapsed:   56.7s remaining:    0.0s\n",
      "[CV] boosting_type=gbdt, colsample_bytree=0.5, learning_rate=0.03, max_depth=3, metric=multi_logloss, min_child_weight=10, min_split_gain=0.01, n_estimators=1000, num_class=14, objective=multiclass, reg_alpha=0.01, reg_lambda=0.001, silent=-1, subsample=0.9, verbose=-1 \n",
      "[CV]  boosting_type=gbdt, colsample_bytree=0.5, learning_rate=0.03, max_depth=3, metric=multi_logloss, min_child_weight=10, min_split_gain=0.01, n_estimators=1000, num_class=14, objective=multiclass, reg_alpha=0.01, reg_lambda=0.001, silent=-1, subsample=0.9, verbose=-1, score=0.7723880597014925, total=   9.7s\n",
      "[Parallel(n_jobs=1)]: Done   6 out of   6 | elapsed:  1.1min remaining:    0.0s\n",
      "[CV] boosting_type=gbdt, colsample_bytree=0.5, learning_rate=0.03, max_depth=3, metric=multi_logloss, min_child_weight=10, min_split_gain=0.01, n_estimators=1000, num_class=14, objective=multiclass, reg_alpha=0.01, reg_lambda=0.001, silent=-1, subsample=0.9, verbose=-1 \n",
      "[CV]  boosting_type=gbdt, colsample_bytree=0.5, learning_rate=0.03, max_depth=3, metric=multi_logloss, min_child_weight=10, min_split_gain=0.01, n_estimators=1000, num_class=14, objective=multiclass, reg_alpha=0.01, reg_lambda=0.001, silent=-1, subsample=0.9, verbose=-1, score=0.7655430711610487, total=  11.7s\n",
      "[Parallel(n_jobs=1)]: Done   7 out of   7 | elapsed:  1.3min remaining:    0.0s\n",
      "[CV] boosting_type=gbdt, colsample_bytree=0.5, learning_rate=0.03, max_depth=3, metric=multi_logloss, min_child_weight=10, min_split_gain=0.01, n_estimators=1000, num_class=14, objective=multiclass, reg_alpha=0.01, reg_lambda=0.001, silent=-1, subsample=0.9, verbose=-1 \n",
      "[CV]  boosting_type=gbdt, colsample_bytree=0.5, learning_rate=0.03, max_depth=3, metric=multi_logloss, min_child_weight=10, min_split_gain=0.01, n_estimators=1000, num_class=14, objective=multiclass, reg_alpha=0.01, reg_lambda=0.001, silent=-1, subsample=0.9, verbose=-1, score=0.7668665667166417, total=  10.3s\n",
      "[Parallel(n_jobs=1)]: Done   8 out of   8 | elapsed:  1.5min remaining:    0.0s\n",
      "[CV] boosting_type=gbdt, colsample_bytree=0.5, learning_rate=0.03, max_depth=3, metric=multi_logloss, min_child_weight=10, min_split_gain=0.01, n_estimators=1000, num_class=14, objective=multiclass, reg_alpha=0.01, reg_lambda=0.001, silent=-1, subsample=0.9, verbose=-1 \n",
      "[CV]  boosting_type=gbdt, colsample_bytree=0.5, learning_rate=0.03, max_depth=3, metric=multi_logloss, min_child_weight=10, min_split_gain=0.01, n_estimators=1000, num_class=14, objective=multiclass, reg_alpha=0.01, reg_lambda=0.001, silent=-1, subsample=0.9, verbose=-1, score=0.7680180180180181, total=  11.3s\n",
      "[Parallel(n_jobs=1)]: Done   9 out of   9 | elapsed:  1.7min remaining:    0.0s\n",
      "[CV] boosting_type=gbdt, colsample_bytree=0.5, learning_rate=0.03, max_depth=3, metric=multi_logloss, min_child_weight=10, min_split_gain=0.01, n_estimators=1000, num_class=14, objective=multiclass, reg_alpha=0.01, reg_lambda=0.001, silent=-1, subsample=0.9, verbose=-1 \n",
      "[CV]  boosting_type=gbdt, colsample_bytree=0.5, learning_rate=0.03, max_depth=3, metric=multi_logloss, min_child_weight=10, min_split_gain=0.01, n_estimators=1000, num_class=14, objective=multiclass, reg_alpha=0.01, reg_lambda=0.001, silent=-1, subsample=0.9, verbose=-1, score=0.7577125658389767, total=   9.8s\n",
      "[Parallel(n_jobs=1)]: Done  10 out of  10 | elapsed:  1.8min remaining:    0.0s\n",
      "[CV] boosting_type=gbdt, colsample_bytree=0.5, learning_rate=0.03, max_depth=3, metric=multi_logloss, min_child_weight=10, min_split_gain=0.01, n_estimators=1000, num_class=14, objective=multiclass, reg_alpha=0.01, reg_lambda=0.1, silent=-1, subsample=0.9, verbose=-1 \n",
      "[CV]  boosting_type=gbdt, colsample_bytree=0.5, learning_rate=0.03, max_depth=3, metric=multi_logloss, min_child_weight=10, min_split_gain=0.01, n_estimators=1000, num_class=14, objective=multiclass, reg_alpha=0.01, reg_lambda=0.1, silent=-1, subsample=0.9, verbose=-1, score=0.7761194029850746, total=  11.7s\n",
      "[Parallel(n_jobs=1)]: Done  11 out of  11 | elapsed:  2.0min remaining:    0.0s\n",
      "[CV] boosting_type=gbdt, colsample_bytree=0.5, learning_rate=0.03, max_depth=3, metric=multi_logloss, min_child_weight=10, min_split_gain=0.01, n_estimators=1000, num_class=14, objective=multiclass, reg_alpha=0.01, reg_lambda=0.1, silent=-1, subsample=0.9, verbose=-1 \n",
      "[CV]  boosting_type=gbdt, colsample_bytree=0.5, learning_rate=0.03, max_depth=3, metric=multi_logloss, min_child_weight=10, min_split_gain=0.01, n_estimators=1000, num_class=14, objective=multiclass, reg_alpha=0.01, reg_lambda=0.1, silent=-1, subsample=0.9, verbose=-1, score=0.7692883895131086, total=  11.4s\n",
      "[Parallel(n_jobs=1)]: Done  12 out of  12 | elapsed:  2.2min remaining:    0.0s\n",
      "[CV] boosting_type=gbdt, colsample_bytree=0.5, learning_rate=0.03, max_depth=3, metric=multi_logloss, min_child_weight=10, min_split_gain=0.01, n_estimators=1000, num_class=14, objective=multiclass, reg_alpha=0.01, reg_lambda=0.1, silent=-1, subsample=0.9, verbose=-1 \n",
      "[CV]  boosting_type=gbdt, colsample_bytree=0.5, learning_rate=0.03, max_depth=3, metric=multi_logloss, min_child_weight=10, min_split_gain=0.01, n_estimators=1000, num_class=14, objective=multiclass, reg_alpha=0.01, reg_lambda=0.1, silent=-1, subsample=0.9, verbose=-1, score=0.7653673163418291, total=  11.3s\n",
      "[Parallel(n_jobs=1)]: Done  13 out of  13 | elapsed:  2.4min remaining:    0.0s\n",
      "[CV] boosting_type=gbdt, colsample_bytree=0.5, learning_rate=0.03, max_depth=3, metric=multi_logloss, min_child_weight=10, min_split_gain=0.01, n_estimators=1000, num_class=14, objective=multiclass, reg_alpha=0.01, reg_lambda=0.1, silent=-1, subsample=0.9, verbose=-1 \n",
      "[CV]  boosting_type=gbdt, colsample_bytree=0.5, learning_rate=0.03, max_depth=3, metric=multi_logloss, min_child_weight=10, min_split_gain=0.01, n_estimators=1000, num_class=14, objective=multiclass, reg_alpha=0.01, reg_lambda=0.1, silent=-1, subsample=0.9, verbose=-1, score=0.7642642642642643, total=   9.6s\n",
      "[Parallel(n_jobs=1)]: Done  14 out of  14 | elapsed:  2.6min remaining:    0.0s\n",
      "[CV] boosting_type=gbdt, colsample_bytree=0.5, learning_rate=0.03, max_depth=3, metric=multi_logloss, min_child_weight=10, min_split_gain=0.01, n_estimators=1000, num_class=14, objective=multiclass, reg_alpha=0.01, reg_lambda=0.1, silent=-1, subsample=0.9, verbose=-1 \n",
      "[CV]  boosting_type=gbdt, colsample_bytree=0.5, learning_rate=0.03, max_depth=3, metric=multi_logloss, min_child_weight=10, min_split_gain=0.01, n_estimators=1000, num_class=14, objective=multiclass, reg_alpha=0.01, reg_lambda=0.1, silent=-1, subsample=0.9, verbose=-1, score=0.7562076749435666, total=  11.0s\n",
      "[Parallel(n_jobs=1)]: Done  15 out of  15 | elapsed:  2.8min remaining:    0.0s\n",
      "[CV] boosting_type=gbdt, colsample_bytree=0.5, learning_rate=0.03, max_depth=3, metric=multi_logloss, min_child_weight=10, min_split_gain=0.01, n_estimators=1000, num_class=14, objective=multiclass, reg_alpha=0.01, reg_lambda=1, silent=-1, subsample=0.9, verbose=-1 \n",
      "[CV]  boosting_type=gbdt, colsample_bytree=0.5, learning_rate=0.03, max_depth=3, metric=multi_logloss, min_child_weight=10, min_split_gain=0.01, n_estimators=1000, num_class=14, objective=multiclass, reg_alpha=0.01, reg_lambda=1, silent=-1, subsample=0.9, verbose=-1, score=0.7701492537313432, total=  10.8s\n",
      "[Parallel(n_jobs=1)]: Done  16 out of  16 | elapsed:  3.0min remaining:    0.0s\n",
      "[CV] boosting_type=gbdt, colsample_bytree=0.5, learning_rate=0.03, max_depth=3, metric=multi_logloss, min_child_weight=10, min_split_gain=0.01, n_estimators=1000, num_class=14, objective=multiclass, reg_alpha=0.01, reg_lambda=1, silent=-1, subsample=0.9, verbose=-1 \n",
      "[CV]  boosting_type=gbdt, colsample_bytree=0.5, learning_rate=0.03, max_depth=3, metric=multi_logloss, min_child_weight=10, min_split_gain=0.01, n_estimators=1000, num_class=14, objective=multiclass, reg_alpha=0.01, reg_lambda=1, silent=-1, subsample=0.9, verbose=-1, score=0.7670411985018727, total=  11.2s\n",
      "[Parallel(n_jobs=1)]: Done  17 out of  17 | elapsed:  3.1min remaining:    0.0s\n",
      "[CV] boosting_type=gbdt, colsample_bytree=0.5, learning_rate=0.03, max_depth=3, metric=multi_logloss, min_child_weight=10, min_split_gain=0.01, n_estimators=1000, num_class=14, objective=multiclass, reg_alpha=0.01, reg_lambda=1, silent=-1, subsample=0.9, verbose=-1 \n",
      "[CV]  boosting_type=gbdt, colsample_bytree=0.5, learning_rate=0.03, max_depth=3, metric=multi_logloss, min_child_weight=10, min_split_gain=0.01, n_estimators=1000, num_class=14, objective=multiclass, reg_alpha=0.01, reg_lambda=1, silent=-1, subsample=0.9, verbose=-1, score=0.7653673163418291, total=  12.6s\n",
      "[Parallel(n_jobs=1)]: Done  18 out of  18 | elapsed:  3.4min remaining:    0.0s\n",
      "[CV] boosting_type=gbdt, colsample_bytree=0.5, learning_rate=0.03, max_depth=3, metric=multi_logloss, min_child_weight=10, min_split_gain=0.01, n_estimators=1000, num_class=14, objective=multiclass, reg_alpha=0.01, reg_lambda=1, silent=-1, subsample=0.9, verbose=-1 \n",
      "[CV]  boosting_type=gbdt, colsample_bytree=0.5, learning_rate=0.03, max_depth=3, metric=multi_logloss, min_child_weight=10, min_split_gain=0.01, n_estimators=1000, num_class=14, objective=multiclass, reg_alpha=0.01, reg_lambda=1, silent=-1, subsample=0.9, verbose=-1, score=0.765015015015015, total=  10.6s\n",
      "[Parallel(n_jobs=1)]: Done  19 out of  19 | elapsed:  3.5min remaining:    0.0s\n",
      "[CV] boosting_type=gbdt, colsample_bytree=0.5, learning_rate=0.03, max_depth=3, metric=multi_logloss, min_child_weight=10, min_split_gain=0.01, n_estimators=1000, num_class=14, objective=multiclass, reg_alpha=0.01, reg_lambda=1, silent=-1, subsample=0.9, verbose=-1 \n",
      "[CV]  boosting_type=gbdt, colsample_bytree=0.5, learning_rate=0.03, max_depth=3, metric=multi_logloss, min_child_weight=10, min_split_gain=0.01, n_estimators=1000, num_class=14, objective=multiclass, reg_alpha=0.01, reg_lambda=1, silent=-1, subsample=0.9, verbose=-1, score=0.7531978931527464, total=  13.6s\n",
      "[Parallel(n_jobs=1)]: Done  20 out of  20 | elapsed:  3.8min remaining:    0.0s\n",
      "[CV] boosting_type=gbdt, colsample_bytree=0.5, learning_rate=0.03, max_depth=3, metric=multi_logloss, min_child_weight=10, min_split_gain=0.01, n_estimators=1000, num_class=14, objective=multiclass, reg_alpha=0.001, reg_lambda=0.01, silent=-1, subsample=0.9, verbose=-1 \n",
      "[CV]  boosting_type=gbdt, colsample_bytree=0.5, learning_rate=0.03, max_depth=3, metric=multi_logloss, min_child_weight=10, min_split_gain=0.01, n_estimators=1000, num_class=14, objective=multiclass, reg_alpha=0.001, reg_lambda=0.01, silent=-1, subsample=0.9, verbose=-1, score=0.767910447761194, total=  10.4s\n",
      "[Parallel(n_jobs=1)]: Done  21 out of  21 | elapsed:  3.9min remaining:    0.0s\n",
      "[CV] boosting_type=gbdt, colsample_bytree=0.5, learning_rate=0.03, max_depth=3, metric=multi_logloss, min_child_weight=10, min_split_gain=0.01, n_estimators=1000, num_class=14, objective=multiclass, reg_alpha=0.001, reg_lambda=0.01, silent=-1, subsample=0.9, verbose=-1 \n",
      "[CV]  boosting_type=gbdt, colsample_bytree=0.5, learning_rate=0.03, max_depth=3, metric=multi_logloss, min_child_weight=10, min_split_gain=0.01, n_estimators=1000, num_class=14, objective=multiclass, reg_alpha=0.001, reg_lambda=0.01, silent=-1, subsample=0.9, verbose=-1, score=0.7677902621722846, total=  11.0s\n",
      "[Parallel(n_jobs=1)]: Done  22 out of  22 | elapsed:  4.1min remaining:    0.0s\n",
      "[CV] boosting_type=gbdt, colsample_bytree=0.5, learning_rate=0.03, max_depth=3, metric=multi_logloss, min_child_weight=10, min_split_gain=0.01, n_estimators=1000, num_class=14, objective=multiclass, reg_alpha=0.001, reg_lambda=0.01, silent=-1, subsample=0.9, verbose=-1 \n",
      "[CV]  boosting_type=gbdt, colsample_bytree=0.5, learning_rate=0.03, max_depth=3, metric=multi_logloss, min_child_weight=10, min_split_gain=0.01, n_estimators=1000, num_class=14, objective=multiclass, reg_alpha=0.001, reg_lambda=0.01, silent=-1, subsample=0.9, verbose=-1, score=0.7713643178410795, total=  11.8s\n",
      "[Parallel(n_jobs=1)]: Done  23 out of  23 | elapsed:  4.3min remaining:    0.0s\n",
      "[CV] boosting_type=gbdt, colsample_bytree=0.5, learning_rate=0.03, max_depth=3, metric=multi_logloss, min_child_weight=10, min_split_gain=0.01, n_estimators=1000, num_class=14, objective=multiclass, reg_alpha=0.001, reg_lambda=0.01, silent=-1, subsample=0.9, verbose=-1 \n",
      "[CV]  boosting_type=gbdt, colsample_bytree=0.5, learning_rate=0.03, max_depth=3, metric=multi_logloss, min_child_weight=10, min_split_gain=0.01, n_estimators=1000, num_class=14, objective=multiclass, reg_alpha=0.001, reg_lambda=0.01, silent=-1, subsample=0.9, verbose=-1, score=0.7672672672672672, total=  10.0s\n",
      "[Parallel(n_jobs=1)]: Done  24 out of  24 | elapsed:  4.5min remaining:    0.0s\n",
      "[CV] boosting_type=gbdt, colsample_bytree=0.5, learning_rate=0.03, max_depth=3, metric=multi_logloss, min_child_weight=10, min_split_gain=0.01, n_estimators=1000, num_class=14, objective=multiclass, reg_alpha=0.001, reg_lambda=0.01, silent=-1, subsample=0.9, verbose=-1 \n",
      "[CV]  boosting_type=gbdt, colsample_bytree=0.5, learning_rate=0.03, max_depth=3, metric=multi_logloss, min_child_weight=10, min_split_gain=0.01, n_estimators=1000, num_class=14, objective=multiclass, reg_alpha=0.001, reg_lambda=0.01, silent=-1, subsample=0.9, verbose=-1, score=0.7486832204665161, total=  11.4s\n",
      "[Parallel(n_jobs=1)]: Done  25 out of  25 | elapsed:  4.7min remaining:    0.0s\n",
      "[CV] boosting_type=gbdt, colsample_bytree=0.5, learning_rate=0.03, max_depth=3, metric=multi_logloss, min_child_weight=10, min_split_gain=0.01, n_estimators=1000, num_class=14, objective=multiclass, reg_alpha=0.001, reg_lambda=0.001, silent=-1, subsample=0.9, verbose=-1 \n",
      "[CV]  boosting_type=gbdt, colsample_bytree=0.5, learning_rate=0.03, max_depth=3, metric=multi_logloss, min_child_weight=10, min_split_gain=0.01, n_estimators=1000, num_class=14, objective=multiclass, reg_alpha=0.001, reg_lambda=0.001, silent=-1, subsample=0.9, verbose=-1, score=0.7716417910447761, total=  14.4s\n",
      "[Parallel(n_jobs=1)]: Done  26 out of  26 | elapsed:  4.9min remaining:    0.0s\n",
      "[CV] boosting_type=gbdt, colsample_bytree=0.5, learning_rate=0.03, max_depth=3, metric=multi_logloss, min_child_weight=10, min_split_gain=0.01, n_estimators=1000, num_class=14, objective=multiclass, reg_alpha=0.001, reg_lambda=0.001, silent=-1, subsample=0.9, verbose=-1 \n",
      "[CV]  boosting_type=gbdt, colsample_bytree=0.5, learning_rate=0.03, max_depth=3, metric=multi_logloss, min_child_weight=10, min_split_gain=0.01, n_estimators=1000, num_class=14, objective=multiclass, reg_alpha=0.001, reg_lambda=0.001, silent=-1, subsample=0.9, verbose=-1, score=0.7655430711610487, total=   9.8s\n",
      "[Parallel(n_jobs=1)]: Done  27 out of  27 | elapsed:  5.1min remaining:    0.0s\n",
      "[CV] boosting_type=gbdt, colsample_bytree=0.5, learning_rate=0.03, max_depth=3, metric=multi_logloss, min_child_weight=10, min_split_gain=0.01, n_estimators=1000, num_class=14, objective=multiclass, reg_alpha=0.001, reg_lambda=0.001, silent=-1, subsample=0.9, verbose=-1 \n",
      "[CV]  boosting_type=gbdt, colsample_bytree=0.5, learning_rate=0.03, max_depth=3, metric=multi_logloss, min_child_weight=10, min_split_gain=0.01, n_estimators=1000, num_class=14, objective=multiclass, reg_alpha=0.001, reg_lambda=0.001, silent=-1, subsample=0.9, verbose=-1, score=0.7668665667166417, total=  10.7s\n",
      "[Parallel(n_jobs=1)]: Done  28 out of  28 | elapsed:  5.3min remaining:    0.0s\n",
      "[CV] boosting_type=gbdt, colsample_bytree=0.5, learning_rate=0.03, max_depth=3, metric=multi_logloss, min_child_weight=10, min_split_gain=0.01, n_estimators=1000, num_class=14, objective=multiclass, reg_alpha=0.001, reg_lambda=0.001, silent=-1, subsample=0.9, verbose=-1 \n",
      "[CV]  boosting_type=gbdt, colsample_bytree=0.5, learning_rate=0.03, max_depth=3, metric=multi_logloss, min_child_weight=10, min_split_gain=0.01, n_estimators=1000, num_class=14, objective=multiclass, reg_alpha=0.001, reg_lambda=0.001, silent=-1, subsample=0.9, verbose=-1, score=0.7702702702702703, total=  11.1s\n",
      "[Parallel(n_jobs=1)]: Done  29 out of  29 | elapsed:  5.5min remaining:    0.0s\n",
      "[CV] boosting_type=gbdt, colsample_bytree=0.5, learning_rate=0.03, max_depth=3, metric=multi_logloss, min_child_weight=10, min_split_gain=0.01, n_estimators=1000, num_class=14, objective=multiclass, reg_alpha=0.001, reg_lambda=0.001, silent=-1, subsample=0.9, verbose=-1 \n",
      "[CV]  boosting_type=gbdt, colsample_bytree=0.5, learning_rate=0.03, max_depth=3, metric=multi_logloss, min_child_weight=10, min_split_gain=0.01, n_estimators=1000, num_class=14, objective=multiclass, reg_alpha=0.001, reg_lambda=0.001, silent=-1, subsample=0.9, verbose=-1, score=0.7516930022573364, total=  11.6s\n",
      "[Parallel(n_jobs=1)]: Done  30 out of  30 | elapsed:  5.7min remaining:    0.0s\n",
      "[CV] boosting_type=gbdt, colsample_bytree=0.5, learning_rate=0.03, max_depth=3, metric=multi_logloss, min_child_weight=10, min_split_gain=0.01, n_estimators=1000, num_class=14, objective=multiclass, reg_alpha=0.001, reg_lambda=0.1, silent=-1, subsample=0.9, verbose=-1 \n",
      "[CV]  boosting_type=gbdt, colsample_bytree=0.5, learning_rate=0.03, max_depth=3, metric=multi_logloss, min_child_weight=10, min_split_gain=0.01, n_estimators=1000, num_class=14, objective=multiclass, reg_alpha=0.001, reg_lambda=0.1, silent=-1, subsample=0.9, verbose=-1, score=0.7708955223880597, total=  10.7s\n",
      "[Parallel(n_jobs=1)]: Done  31 out of  31 | elapsed:  5.9min remaining:    0.0s\n",
      "[CV] boosting_type=gbdt, colsample_bytree=0.5, learning_rate=0.03, max_depth=3, metric=multi_logloss, min_child_weight=10, min_split_gain=0.01, n_estimators=1000, num_class=14, objective=multiclass, reg_alpha=0.001, reg_lambda=0.1, silent=-1, subsample=0.9, verbose=-1 \n",
      "[CV]  boosting_type=gbdt, colsample_bytree=0.5, learning_rate=0.03, max_depth=3, metric=multi_logloss, min_child_weight=10, min_split_gain=0.01, n_estimators=1000, num_class=14, objective=multiclass, reg_alpha=0.001, reg_lambda=0.1, silent=-1, subsample=0.9, verbose=-1, score=0.7685393258426966, total=  10.5s\n",
      "[Parallel(n_jobs=1)]: Done  32 out of  32 | elapsed:  6.0min remaining:    0.0s\n",
      "[CV] boosting_type=gbdt, colsample_bytree=0.5, learning_rate=0.03, max_depth=3, metric=multi_logloss, min_child_weight=10, min_split_gain=0.01, n_estimators=1000, num_class=14, objective=multiclass, reg_alpha=0.001, reg_lambda=0.1, silent=-1, subsample=0.9, verbose=-1 \n",
      "[CV]  boosting_type=gbdt, colsample_bytree=0.5, learning_rate=0.03, max_depth=3, metric=multi_logloss, min_child_weight=10, min_split_gain=0.01, n_estimators=1000, num_class=14, objective=multiclass, reg_alpha=0.001, reg_lambda=0.1, silent=-1, subsample=0.9, verbose=-1, score=0.7661169415292354, total=  10.9s\n",
      "[Parallel(n_jobs=1)]: Done  33 out of  33 | elapsed:  6.2min remaining:    0.0s\n",
      "[CV] boosting_type=gbdt, colsample_bytree=0.5, learning_rate=0.03, max_depth=3, metric=multi_logloss, min_child_weight=10, min_split_gain=0.01, n_estimators=1000, num_class=14, objective=multiclass, reg_alpha=0.001, reg_lambda=0.1, silent=-1, subsample=0.9, verbose=-1 \n",
      "[CV]  boosting_type=gbdt, colsample_bytree=0.5, learning_rate=0.03, max_depth=3, metric=multi_logloss, min_child_weight=10, min_split_gain=0.01, n_estimators=1000, num_class=14, objective=multiclass, reg_alpha=0.001, reg_lambda=0.1, silent=-1, subsample=0.9, verbose=-1, score=0.7665165165165165, total=  10.9s\n",
      "[Parallel(n_jobs=1)]: Done  34 out of  34 | elapsed:  6.4min remaining:    0.0s\n",
      "[CV] boosting_type=gbdt, colsample_bytree=0.5, learning_rate=0.03, max_depth=3, metric=multi_logloss, min_child_weight=10, min_split_gain=0.01, n_estimators=1000, num_class=14, objective=multiclass, reg_alpha=0.001, reg_lambda=0.1, silent=-1, subsample=0.9, verbose=-1 \n",
      "[CV]  boosting_type=gbdt, colsample_bytree=0.5, learning_rate=0.03, max_depth=3, metric=multi_logloss, min_child_weight=10, min_split_gain=0.01, n_estimators=1000, num_class=14, objective=multiclass, reg_alpha=0.001, reg_lambda=0.1, silent=-1, subsample=0.9, verbose=-1, score=0.7554552294958615, total=  10.0s\n",
      "[Parallel(n_jobs=1)]: Done  35 out of  35 | elapsed:  6.6min remaining:    0.0s\n",
      "[CV] boosting_type=gbdt, colsample_bytree=0.5, learning_rate=0.03, max_depth=3, metric=multi_logloss, min_child_weight=10, min_split_gain=0.01, n_estimators=1000, num_class=14, objective=multiclass, reg_alpha=0.001, reg_lambda=1, silent=-1, subsample=0.9, verbose=-1 \n",
      "[CV]  boosting_type=gbdt, colsample_bytree=0.5, learning_rate=0.03, max_depth=3, metric=multi_logloss, min_child_weight=10, min_split_gain=0.01, n_estimators=1000, num_class=14, objective=multiclass, reg_alpha=0.001, reg_lambda=1, silent=-1, subsample=0.9, verbose=-1, score=0.7686567164179104, total=  11.1s\n",
      "[Parallel(n_jobs=1)]: Done  36 out of  36 | elapsed:  6.8min remaining:    0.0s\n",
      "[CV] boosting_type=gbdt, colsample_bytree=0.5, learning_rate=0.03, max_depth=3, metric=multi_logloss, min_child_weight=10, min_split_gain=0.01, n_estimators=1000, num_class=14, objective=multiclass, reg_alpha=0.001, reg_lambda=1, silent=-1, subsample=0.9, verbose=-1 \n",
      "[CV]  boosting_type=gbdt, colsample_bytree=0.5, learning_rate=0.03, max_depth=3, metric=multi_logloss, min_child_weight=10, min_split_gain=0.01, n_estimators=1000, num_class=14, objective=multiclass, reg_alpha=0.001, reg_lambda=1, silent=-1, subsample=0.9, verbose=-1, score=0.7670411985018727, total=  11.2s\n",
      "[Parallel(n_jobs=1)]: Done  37 out of  37 | elapsed:  6.9min remaining:    0.0s\n",
      "[CV] boosting_type=gbdt, colsample_bytree=0.5, learning_rate=0.03, max_depth=3, metric=multi_logloss, min_child_weight=10, min_split_gain=0.01, n_estimators=1000, num_class=14, objective=multiclass, reg_alpha=0.001, reg_lambda=1, silent=-1, subsample=0.9, verbose=-1 \n",
      "[CV]  boosting_type=gbdt, colsample_bytree=0.5, learning_rate=0.03, max_depth=3, metric=multi_logloss, min_child_weight=10, min_split_gain=0.01, n_estimators=1000, num_class=14, objective=multiclass, reg_alpha=0.001, reg_lambda=1, silent=-1, subsample=0.9, verbose=-1, score=0.7661169415292354, total=  11.2s\n",
      "[Parallel(n_jobs=1)]: Done  38 out of  38 | elapsed:  7.1min remaining:    0.0s\n",
      "[CV] boosting_type=gbdt, colsample_bytree=0.5, learning_rate=0.03, max_depth=3, metric=multi_logloss, min_child_weight=10, min_split_gain=0.01, n_estimators=1000, num_class=14, objective=multiclass, reg_alpha=0.001, reg_lambda=1, silent=-1, subsample=0.9, verbose=-1 \n",
      "[CV]  boosting_type=gbdt, colsample_bytree=0.5, learning_rate=0.03, max_depth=3, metric=multi_logloss, min_child_weight=10, min_split_gain=0.01, n_estimators=1000, num_class=14, objective=multiclass, reg_alpha=0.001, reg_lambda=1, silent=-1, subsample=0.9, verbose=-1, score=0.765015015015015, total=  10.1s\n",
      "[Parallel(n_jobs=1)]: Done  39 out of  39 | elapsed:  7.3min remaining:    0.0s\n",
      "[CV] boosting_type=gbdt, colsample_bytree=0.5, learning_rate=0.03, max_depth=3, metric=multi_logloss, min_child_weight=10, min_split_gain=0.01, n_estimators=1000, num_class=14, objective=multiclass, reg_alpha=0.001, reg_lambda=1, silent=-1, subsample=0.9, verbose=-1 \n",
      "[CV]  boosting_type=gbdt, colsample_bytree=0.5, learning_rate=0.03, max_depth=3, metric=multi_logloss, min_child_weight=10, min_split_gain=0.01, n_estimators=1000, num_class=14, objective=multiclass, reg_alpha=0.001, reg_lambda=1, silent=-1, subsample=0.9, verbose=-1, score=0.7509405568096313, total=  11.9s\n",
      "[Parallel(n_jobs=1)]: Done  40 out of  40 | elapsed:  7.5min remaining:    0.0s\n",
      "[CV] boosting_type=gbdt, colsample_bytree=0.5, learning_rate=0.03, max_depth=3, metric=multi_logloss, min_child_weight=10, min_split_gain=0.01, n_estimators=1000, num_class=14, objective=multiclass, reg_alpha=0.1, reg_lambda=0.01, silent=-1, subsample=0.9, verbose=-1 \n",
      "[CV]  boosting_type=gbdt, colsample_bytree=0.5, learning_rate=0.03, max_depth=3, metric=multi_logloss, min_child_weight=10, min_split_gain=0.01, n_estimators=1000, num_class=14, objective=multiclass, reg_alpha=0.1, reg_lambda=0.01, silent=-1, subsample=0.9, verbose=-1, score=0.767910447761194, total=  10.1s\n",
      "[Parallel(n_jobs=1)]: Done  41 out of  41 | elapsed:  7.7min remaining:    0.0s\n",
      "[CV] boosting_type=gbdt, colsample_bytree=0.5, learning_rate=0.03, max_depth=3, metric=multi_logloss, min_child_weight=10, min_split_gain=0.01, n_estimators=1000, num_class=14, objective=multiclass, reg_alpha=0.1, reg_lambda=0.01, silent=-1, subsample=0.9, verbose=-1 \n",
      "[CV]  boosting_type=gbdt, colsample_bytree=0.5, learning_rate=0.03, max_depth=3, metric=multi_logloss, min_child_weight=10, min_split_gain=0.01, n_estimators=1000, num_class=14, objective=multiclass, reg_alpha=0.1, reg_lambda=0.01, silent=-1, subsample=0.9, verbose=-1, score=0.7722846441947565, total=  10.7s\n",
      "[Parallel(n_jobs=1)]: Done  42 out of  42 | elapsed:  7.9min remaining:    0.0s\n",
      "[CV] boosting_type=gbdt, colsample_bytree=0.5, learning_rate=0.03, max_depth=3, metric=multi_logloss, min_child_weight=10, min_split_gain=0.01, n_estimators=1000, num_class=14, objective=multiclass, reg_alpha=0.1, reg_lambda=0.01, silent=-1, subsample=0.9, verbose=-1 \n",
      "[CV]  boosting_type=gbdt, colsample_bytree=0.5, learning_rate=0.03, max_depth=3, metric=multi_logloss, min_child_weight=10, min_split_gain=0.01, n_estimators=1000, num_class=14, objective=multiclass, reg_alpha=0.1, reg_lambda=0.01, silent=-1, subsample=0.9, verbose=-1, score=0.7683658170914542, total=  12.3s\n",
      "[Parallel(n_jobs=1)]: Done  43 out of  43 | elapsed:  8.1min remaining:    0.0s\n",
      "[CV] boosting_type=gbdt, colsample_bytree=0.5, learning_rate=0.03, max_depth=3, metric=multi_logloss, min_child_weight=10, min_split_gain=0.01, n_estimators=1000, num_class=14, objective=multiclass, reg_alpha=0.1, reg_lambda=0.01, silent=-1, subsample=0.9, verbose=-1 \n",
      "[CV]  boosting_type=gbdt, colsample_bytree=0.5, learning_rate=0.03, max_depth=3, metric=multi_logloss, min_child_weight=10, min_split_gain=0.01, n_estimators=1000, num_class=14, objective=multiclass, reg_alpha=0.1, reg_lambda=0.01, silent=-1, subsample=0.9, verbose=-1, score=0.7657657657657657, total=   9.8s\n",
      "[Parallel(n_jobs=1)]: Done  44 out of  44 | elapsed:  8.2min remaining:    0.0s\n",
      "[CV] boosting_type=gbdt, colsample_bytree=0.5, learning_rate=0.03, max_depth=3, metric=multi_logloss, min_child_weight=10, min_split_gain=0.01, n_estimators=1000, num_class=14, objective=multiclass, reg_alpha=0.1, reg_lambda=0.01, silent=-1, subsample=0.9, verbose=-1 \n",
      "[CV]  boosting_type=gbdt, colsample_bytree=0.5, learning_rate=0.03, max_depth=3, metric=multi_logloss, min_child_weight=10, min_split_gain=0.01, n_estimators=1000, num_class=14, objective=multiclass, reg_alpha=0.1, reg_lambda=0.01, silent=-1, subsample=0.9, verbose=-1, score=0.7562076749435666, total=  11.3s\n",
      "[Parallel(n_jobs=1)]: Done  45 out of  45 | elapsed:  8.4min remaining:    0.0s\n",
      "[CV] boosting_type=gbdt, colsample_bytree=0.5, learning_rate=0.03, max_depth=3, metric=multi_logloss, min_child_weight=10, min_split_gain=0.01, n_estimators=1000, num_class=14, objective=multiclass, reg_alpha=0.1, reg_lambda=0.001, silent=-1, subsample=0.9, verbose=-1 \n",
      "[CV]  boosting_type=gbdt, colsample_bytree=0.5, learning_rate=0.03, max_depth=3, metric=multi_logloss, min_child_weight=10, min_split_gain=0.01, n_estimators=1000, num_class=14, objective=multiclass, reg_alpha=0.1, reg_lambda=0.001, silent=-1, subsample=0.9, verbose=-1, score=0.7656716417910447, total=  11.9s\n",
      "[Parallel(n_jobs=1)]: Done  46 out of  46 | elapsed:  8.6min remaining:    0.0s\n",
      "[CV] boosting_type=gbdt, colsample_bytree=0.5, learning_rate=0.03, max_depth=3, metric=multi_logloss, min_child_weight=10, min_split_gain=0.01, n_estimators=1000, num_class=14, objective=multiclass, reg_alpha=0.1, reg_lambda=0.001, silent=-1, subsample=0.9, verbose=-1 \n",
      "[CV]  boosting_type=gbdt, colsample_bytree=0.5, learning_rate=0.03, max_depth=3, metric=multi_logloss, min_child_weight=10, min_split_gain=0.01, n_estimators=1000, num_class=14, objective=multiclass, reg_alpha=0.1, reg_lambda=0.001, silent=-1, subsample=0.9, verbose=-1, score=0.7647940074906368, total=  11.7s\n",
      "[Parallel(n_jobs=1)]: Done  47 out of  47 | elapsed:  8.8min remaining:    0.0s\n",
      "[CV] boosting_type=gbdt, colsample_bytree=0.5, learning_rate=0.03, max_depth=3, metric=multi_logloss, min_child_weight=10, min_split_gain=0.01, n_estimators=1000, num_class=14, objective=multiclass, reg_alpha=0.1, reg_lambda=0.001, silent=-1, subsample=0.9, verbose=-1 \n",
      "[CV]  boosting_type=gbdt, colsample_bytree=0.5, learning_rate=0.03, max_depth=3, metric=multi_logloss, min_child_weight=10, min_split_gain=0.01, n_estimators=1000, num_class=14, objective=multiclass, reg_alpha=0.1, reg_lambda=0.001, silent=-1, subsample=0.9, verbose=-1, score=0.7698650674662668, total=  10.6s\n",
      "[Parallel(n_jobs=1)]: Done  48 out of  48 | elapsed:  9.0min remaining:    0.0s\n",
      "[CV] boosting_type=gbdt, colsample_bytree=0.5, learning_rate=0.03, max_depth=3, metric=multi_logloss, min_child_weight=10, min_split_gain=0.01, n_estimators=1000, num_class=14, objective=multiclass, reg_alpha=0.1, reg_lambda=0.001, silent=-1, subsample=0.9, verbose=-1 \n",
      "[CV]  boosting_type=gbdt, colsample_bytree=0.5, learning_rate=0.03, max_depth=3, metric=multi_logloss, min_child_weight=10, min_split_gain=0.01, n_estimators=1000, num_class=14, objective=multiclass, reg_alpha=0.1, reg_lambda=0.001, silent=-1, subsample=0.9, verbose=-1, score=0.765015015015015, total=  10.6s\n",
      "[Parallel(n_jobs=1)]: Done  49 out of  49 | elapsed:  9.2min remaining:    0.0s\n",
      "[CV] boosting_type=gbdt, colsample_bytree=0.5, learning_rate=0.03, max_depth=3, metric=multi_logloss, min_child_weight=10, min_split_gain=0.01, n_estimators=1000, num_class=14, objective=multiclass, reg_alpha=0.1, reg_lambda=0.001, silent=-1, subsample=0.9, verbose=-1 \n",
      "[CV]  boosting_type=gbdt, colsample_bytree=0.5, learning_rate=0.03, max_depth=3, metric=multi_logloss, min_child_weight=10, min_split_gain=0.01, n_estimators=1000, num_class=14, objective=multiclass, reg_alpha=0.1, reg_lambda=0.001, silent=-1, subsample=0.9, verbose=-1, score=0.7569601203912716, total=   9.5s\n",
      "[Parallel(n_jobs=1)]: Done  50 out of  50 | elapsed:  9.3min remaining:    0.0s\n",
      "[CV] boosting_type=gbdt, colsample_bytree=0.5, learning_rate=0.03, max_depth=3, metric=multi_logloss, min_child_weight=10, min_split_gain=0.01, n_estimators=1000, num_class=14, objective=multiclass, reg_alpha=0.1, reg_lambda=0.1, silent=-1, subsample=0.9, verbose=-1 \n",
      "[CV]  boosting_type=gbdt, colsample_bytree=0.5, learning_rate=0.03, max_depth=3, metric=multi_logloss, min_child_weight=10, min_split_gain=0.01, n_estimators=1000, num_class=14, objective=multiclass, reg_alpha=0.1, reg_lambda=0.1, silent=-1, subsample=0.9, verbose=-1, score=0.7701492537313432, total=  11.7s\n",
      "[Parallel(n_jobs=1)]: Done  51 out of  51 | elapsed:  9.5min remaining:    0.0s\n",
      "[CV] boosting_type=gbdt, colsample_bytree=0.5, learning_rate=0.03, max_depth=3, metric=multi_logloss, min_child_weight=10, min_split_gain=0.01, n_estimators=1000, num_class=14, objective=multiclass, reg_alpha=0.1, reg_lambda=0.1, silent=-1, subsample=0.9, verbose=-1 \n",
      "[CV]  boosting_type=gbdt, colsample_bytree=0.5, learning_rate=0.03, max_depth=3, metric=multi_logloss, min_child_weight=10, min_split_gain=0.01, n_estimators=1000, num_class=14, objective=multiclass, reg_alpha=0.1, reg_lambda=0.1, silent=-1, subsample=0.9, verbose=-1, score=0.7715355805243446, total=  10.6s\n",
      "[Parallel(n_jobs=1)]: Done  52 out of  52 | elapsed:  9.7min remaining:    0.0s\n",
      "[CV] boosting_type=gbdt, colsample_bytree=0.5, learning_rate=0.03, max_depth=3, metric=multi_logloss, min_child_weight=10, min_split_gain=0.01, n_estimators=1000, num_class=14, objective=multiclass, reg_alpha=0.1, reg_lambda=0.1, silent=-1, subsample=0.9, verbose=-1 \n",
      "[CV]  boosting_type=gbdt, colsample_bytree=0.5, learning_rate=0.03, max_depth=3, metric=multi_logloss, min_child_weight=10, min_split_gain=0.01, n_estimators=1000, num_class=14, objective=multiclass, reg_alpha=0.1, reg_lambda=0.1, silent=-1, subsample=0.9, verbose=-1, score=0.7668665667166417, total=  11.4s\n",
      "[Parallel(n_jobs=1)]: Done  53 out of  53 | elapsed:  9.9min remaining:    0.0s\n",
      "[CV] boosting_type=gbdt, colsample_bytree=0.5, learning_rate=0.03, max_depth=3, metric=multi_logloss, min_child_weight=10, min_split_gain=0.01, n_estimators=1000, num_class=14, objective=multiclass, reg_alpha=0.1, reg_lambda=0.1, silent=-1, subsample=0.9, verbose=-1 \n",
      "[CV]  boosting_type=gbdt, colsample_bytree=0.5, learning_rate=0.03, max_depth=3, metric=multi_logloss, min_child_weight=10, min_split_gain=0.01, n_estimators=1000, num_class=14, objective=multiclass, reg_alpha=0.1, reg_lambda=0.1, silent=-1, subsample=0.9, verbose=-1, score=0.7657657657657657, total=  10.6s\n",
      "[Parallel(n_jobs=1)]: Done  54 out of  54 | elapsed: 10.1min remaining:    0.0s\n",
      "[CV] boosting_type=gbdt, colsample_bytree=0.5, learning_rate=0.03, max_depth=3, metric=multi_logloss, min_child_weight=10, min_split_gain=0.01, n_estimators=1000, num_class=14, objective=multiclass, reg_alpha=0.1, reg_lambda=0.1, silent=-1, subsample=0.9, verbose=-1 \n",
      "[CV]  boosting_type=gbdt, colsample_bytree=0.5, learning_rate=0.03, max_depth=3, metric=multi_logloss, min_child_weight=10, min_split_gain=0.01, n_estimators=1000, num_class=14, objective=multiclass, reg_alpha=0.1, reg_lambda=0.1, silent=-1, subsample=0.9, verbose=-1, score=0.7516930022573364, total=  10.8s\n",
      "[Parallel(n_jobs=1)]: Done  55 out of  55 | elapsed: 10.3min remaining:    0.0s\n",
      "[CV] boosting_type=gbdt, colsample_bytree=0.5, learning_rate=0.03, max_depth=3, metric=multi_logloss, min_child_weight=10, min_split_gain=0.01, n_estimators=1000, num_class=14, objective=multiclass, reg_alpha=0.1, reg_lambda=1, silent=-1, subsample=0.9, verbose=-1 \n",
      "[CV]  boosting_type=gbdt, colsample_bytree=0.5, learning_rate=0.03, max_depth=3, metric=multi_logloss, min_child_weight=10, min_split_gain=0.01, n_estimators=1000, num_class=14, objective=multiclass, reg_alpha=0.1, reg_lambda=1, silent=-1, subsample=0.9, verbose=-1, score=0.7686567164179104, total=  14.0s\n",
      "[Parallel(n_jobs=1)]: Done  56 out of  56 | elapsed: 10.5min remaining:    0.0s\n",
      "[CV] boosting_type=gbdt, colsample_bytree=0.5, learning_rate=0.03, max_depth=3, metric=multi_logloss, min_child_weight=10, min_split_gain=0.01, n_estimators=1000, num_class=14, objective=multiclass, reg_alpha=0.1, reg_lambda=1, silent=-1, subsample=0.9, verbose=-1 \n",
      "[CV]  boosting_type=gbdt, colsample_bytree=0.5, learning_rate=0.03, max_depth=3, metric=multi_logloss, min_child_weight=10, min_split_gain=0.01, n_estimators=1000, num_class=14, objective=multiclass, reg_alpha=0.1, reg_lambda=1, silent=-1, subsample=0.9, verbose=-1, score=0.7692883895131086, total=  11.0s\n",
      "[Parallel(n_jobs=1)]: Done  57 out of  57 | elapsed: 10.7min remaining:    0.0s\n",
      "[CV] boosting_type=gbdt, colsample_bytree=0.5, learning_rate=0.03, max_depth=3, metric=multi_logloss, min_child_weight=10, min_split_gain=0.01, n_estimators=1000, num_class=14, objective=multiclass, reg_alpha=0.1, reg_lambda=1, silent=-1, subsample=0.9, verbose=-1 \n",
      "[CV]  boosting_type=gbdt, colsample_bytree=0.5, learning_rate=0.03, max_depth=3, metric=multi_logloss, min_child_weight=10, min_split_gain=0.01, n_estimators=1000, num_class=14, objective=multiclass, reg_alpha=0.1, reg_lambda=1, silent=-1, subsample=0.9, verbose=-1, score=0.7653673163418291, total=  10.6s\n",
      "[Parallel(n_jobs=1)]: Done  58 out of  58 | elapsed: 10.9min remaining:    0.0s\n",
      "[CV] boosting_type=gbdt, colsample_bytree=0.5, learning_rate=0.03, max_depth=3, metric=multi_logloss, min_child_weight=10, min_split_gain=0.01, n_estimators=1000, num_class=14, objective=multiclass, reg_alpha=0.1, reg_lambda=1, silent=-1, subsample=0.9, verbose=-1 \n",
      "[CV]  boosting_type=gbdt, colsample_bytree=0.5, learning_rate=0.03, max_depth=3, metric=multi_logloss, min_child_weight=10, min_split_gain=0.01, n_estimators=1000, num_class=14, objective=multiclass, reg_alpha=0.1, reg_lambda=1, silent=-1, subsample=0.9, verbose=-1, score=0.762012012012012, total=  10.7s\n",
      "[Parallel(n_jobs=1)]: Done  59 out of  59 | elapsed: 11.1min remaining:    0.0s\n",
      "[CV] boosting_type=gbdt, colsample_bytree=0.5, learning_rate=0.03, max_depth=3, metric=multi_logloss, min_child_weight=10, min_split_gain=0.01, n_estimators=1000, num_class=14, objective=multiclass, reg_alpha=0.1, reg_lambda=1, silent=-1, subsample=0.9, verbose=-1 \n",
      "[CV]  boosting_type=gbdt, colsample_bytree=0.5, learning_rate=0.03, max_depth=3, metric=multi_logloss, min_child_weight=10, min_split_gain=0.01, n_estimators=1000, num_class=14, objective=multiclass, reg_alpha=0.1, reg_lambda=1, silent=-1, subsample=0.9, verbose=-1, score=0.7531978931527464, total=  11.8s\n",
      "[Parallel(n_jobs=1)]: Done  60 out of  60 | elapsed: 11.3min remaining:    0.0s\n",
      "[CV] boosting_type=gbdt, colsample_bytree=0.5, learning_rate=0.03, max_depth=3, metric=multi_logloss, min_child_weight=10, min_split_gain=0.01, n_estimators=1000, num_class=14, objective=multiclass, reg_alpha=1, reg_lambda=0.01, silent=-1, subsample=0.9, verbose=-1 \n",
      "[CV]  boosting_type=gbdt, colsample_bytree=0.5, learning_rate=0.03, max_depth=3, metric=multi_logloss, min_child_weight=10, min_split_gain=0.01, n_estimators=1000, num_class=14, objective=multiclass, reg_alpha=1, reg_lambda=0.01, silent=-1, subsample=0.9, verbose=-1, score=0.7626865671641792, total=  11.5s\n",
      "[Parallel(n_jobs=1)]: Done  61 out of  61 | elapsed: 11.5min remaining:    0.0s\n",
      "[CV] boosting_type=gbdt, colsample_bytree=0.5, learning_rate=0.03, max_depth=3, metric=multi_logloss, min_child_weight=10, min_split_gain=0.01, n_estimators=1000, num_class=14, objective=multiclass, reg_alpha=1, reg_lambda=0.01, silent=-1, subsample=0.9, verbose=-1 \n",
      "[CV]  boosting_type=gbdt, colsample_bytree=0.5, learning_rate=0.03, max_depth=3, metric=multi_logloss, min_child_weight=10, min_split_gain=0.01, n_estimators=1000, num_class=14, objective=multiclass, reg_alpha=1, reg_lambda=0.01, silent=-1, subsample=0.9, verbose=-1, score=0.7670411985018727, total=  12.0s\n",
      "[Parallel(n_jobs=1)]: Done  62 out of  62 | elapsed: 11.7min remaining:    0.0s\n",
      "[CV] boosting_type=gbdt, colsample_bytree=0.5, learning_rate=0.03, max_depth=3, metric=multi_logloss, min_child_weight=10, min_split_gain=0.01, n_estimators=1000, num_class=14, objective=multiclass, reg_alpha=1, reg_lambda=0.01, silent=-1, subsample=0.9, verbose=-1 \n",
      "[CV]  boosting_type=gbdt, colsample_bytree=0.5, learning_rate=0.03, max_depth=3, metric=multi_logloss, min_child_weight=10, min_split_gain=0.01, n_estimators=1000, num_class=14, objective=multiclass, reg_alpha=1, reg_lambda=0.01, silent=-1, subsample=0.9, verbose=-1, score=0.7706146926536732, total=  10.4s\n",
      "[Parallel(n_jobs=1)]: Done  63 out of  63 | elapsed: 11.8min remaining:    0.0s\n",
      "[CV] boosting_type=gbdt, colsample_bytree=0.5, learning_rate=0.03, max_depth=3, metric=multi_logloss, min_child_weight=10, min_split_gain=0.01, n_estimators=1000, num_class=14, objective=multiclass, reg_alpha=1, reg_lambda=0.01, silent=-1, subsample=0.9, verbose=-1 \n",
      "[CV]  boosting_type=gbdt, colsample_bytree=0.5, learning_rate=0.03, max_depth=3, metric=multi_logloss, min_child_weight=10, min_split_gain=0.01, n_estimators=1000, num_class=14, objective=multiclass, reg_alpha=1, reg_lambda=0.01, silent=-1, subsample=0.9, verbose=-1, score=0.7657657657657657, total=  11.4s\n",
      "[Parallel(n_jobs=1)]: Done  64 out of  64 | elapsed: 12.0min remaining:    0.0s\n",
      "[CV] boosting_type=gbdt, colsample_bytree=0.5, learning_rate=0.03, max_depth=3, metric=multi_logloss, min_child_weight=10, min_split_gain=0.01, n_estimators=1000, num_class=14, objective=multiclass, reg_alpha=1, reg_lambda=0.01, silent=-1, subsample=0.9, verbose=-1 \n",
      "[CV]  boosting_type=gbdt, colsample_bytree=0.5, learning_rate=0.03, max_depth=3, metric=multi_logloss, min_child_weight=10, min_split_gain=0.01, n_estimators=1000, num_class=14, objective=multiclass, reg_alpha=1, reg_lambda=0.01, silent=-1, subsample=0.9, verbose=-1, score=0.7494356659142212, total=  11.0s\n",
      "[Parallel(n_jobs=1)]: Done  65 out of  65 | elapsed: 12.2min remaining:    0.0s\n",
      "[CV] boosting_type=gbdt, colsample_bytree=0.5, learning_rate=0.03, max_depth=3, metric=multi_logloss, min_child_weight=10, min_split_gain=0.01, n_estimators=1000, num_class=14, objective=multiclass, reg_alpha=1, reg_lambda=0.001, silent=-1, subsample=0.9, verbose=-1 \n",
      "[CV]  boosting_type=gbdt, colsample_bytree=0.5, learning_rate=0.03, max_depth=3, metric=multi_logloss, min_child_weight=10, min_split_gain=0.01, n_estimators=1000, num_class=14, objective=multiclass, reg_alpha=1, reg_lambda=0.001, silent=-1, subsample=0.9, verbose=-1, score=0.7671641791044777, total=  11.1s\n",
      "[Parallel(n_jobs=1)]: Done  66 out of  66 | elapsed: 12.4min remaining:    0.0s\n",
      "[CV] boosting_type=gbdt, colsample_bytree=0.5, learning_rate=0.03, max_depth=3, metric=multi_logloss, min_child_weight=10, min_split_gain=0.01, n_estimators=1000, num_class=14, objective=multiclass, reg_alpha=1, reg_lambda=0.001, silent=-1, subsample=0.9, verbose=-1 \n",
      "[CV]  boosting_type=gbdt, colsample_bytree=0.5, learning_rate=0.03, max_depth=3, metric=multi_logloss, min_child_weight=10, min_split_gain=0.01, n_estimators=1000, num_class=14, objective=multiclass, reg_alpha=1, reg_lambda=0.001, silent=-1, subsample=0.9, verbose=-1, score=0.7655430711610487, total=  11.4s\n",
      "[Parallel(n_jobs=1)]: Done  67 out of  67 | elapsed: 12.6min remaining:    0.0s\n",
      "[CV] boosting_type=gbdt, colsample_bytree=0.5, learning_rate=0.03, max_depth=3, metric=multi_logloss, min_child_weight=10, min_split_gain=0.01, n_estimators=1000, num_class=14, objective=multiclass, reg_alpha=1, reg_lambda=0.001, silent=-1, subsample=0.9, verbose=-1 \n",
      "[CV]  boosting_type=gbdt, colsample_bytree=0.5, learning_rate=0.03, max_depth=3, metric=multi_logloss, min_child_weight=10, min_split_gain=0.01, n_estimators=1000, num_class=14, objective=multiclass, reg_alpha=1, reg_lambda=0.001, silent=-1, subsample=0.9, verbose=-1, score=0.7661169415292354, total=  11.4s\n",
      "[Parallel(n_jobs=1)]: Done  68 out of  68 | elapsed: 12.8min remaining:    0.0s\n",
      "[CV] boosting_type=gbdt, colsample_bytree=0.5, learning_rate=0.03, max_depth=3, metric=multi_logloss, min_child_weight=10, min_split_gain=0.01, n_estimators=1000, num_class=14, objective=multiclass, reg_alpha=1, reg_lambda=0.001, silent=-1, subsample=0.9, verbose=-1 \n",
      "[CV]  boosting_type=gbdt, colsample_bytree=0.5, learning_rate=0.03, max_depth=3, metric=multi_logloss, min_child_weight=10, min_split_gain=0.01, n_estimators=1000, num_class=14, objective=multiclass, reg_alpha=1, reg_lambda=0.001, silent=-1, subsample=0.9, verbose=-1, score=0.7657657657657657, total=  11.6s\n",
      "[Parallel(n_jobs=1)]: Done  69 out of  69 | elapsed: 13.0min remaining:    0.0s\n",
      "[CV] boosting_type=gbdt, colsample_bytree=0.5, learning_rate=0.03, max_depth=3, metric=multi_logloss, min_child_weight=10, min_split_gain=0.01, n_estimators=1000, num_class=14, objective=multiclass, reg_alpha=1, reg_lambda=0.001, silent=-1, subsample=0.9, verbose=-1 \n",
      "[CV]  boosting_type=gbdt, colsample_bytree=0.5, learning_rate=0.03, max_depth=3, metric=multi_logloss, min_child_weight=10, min_split_gain=0.01, n_estimators=1000, num_class=14, objective=multiclass, reg_alpha=1, reg_lambda=0.001, silent=-1, subsample=0.9, verbose=-1, score=0.7501881113619263, total=  12.3s\n",
      "[Parallel(n_jobs=1)]: Done  70 out of  70 | elapsed: 13.2min remaining:    0.0s\n",
      "[CV] boosting_type=gbdt, colsample_bytree=0.5, learning_rate=0.03, max_depth=3, metric=multi_logloss, min_child_weight=10, min_split_gain=0.01, n_estimators=1000, num_class=14, objective=multiclass, reg_alpha=1, reg_lambda=0.1, silent=-1, subsample=0.9, verbose=-1 \n",
      "[CV]  boosting_type=gbdt, colsample_bytree=0.5, learning_rate=0.03, max_depth=3, metric=multi_logloss, min_child_weight=10, min_split_gain=0.01, n_estimators=1000, num_class=14, objective=multiclass, reg_alpha=1, reg_lambda=0.1, silent=-1, subsample=0.9, verbose=-1, score=0.7686567164179104, total=  10.5s\n",
      "[Parallel(n_jobs=1)]: Done  71 out of  71 | elapsed: 13.4min remaining:    0.0s\n",
      "[CV] boosting_type=gbdt, colsample_bytree=0.5, learning_rate=0.03, max_depth=3, metric=multi_logloss, min_child_weight=10, min_split_gain=0.01, n_estimators=1000, num_class=14, objective=multiclass, reg_alpha=1, reg_lambda=0.1, silent=-1, subsample=0.9, verbose=-1 \n",
      "[CV]  boosting_type=gbdt, colsample_bytree=0.5, learning_rate=0.03, max_depth=3, metric=multi_logloss, min_child_weight=10, min_split_gain=0.01, n_estimators=1000, num_class=14, objective=multiclass, reg_alpha=1, reg_lambda=0.1, silent=-1, subsample=0.9, verbose=-1, score=0.7647940074906368, total=  12.4s\n",
      "[Parallel(n_jobs=1)]: Done  72 out of  72 | elapsed: 13.6min remaining:    0.0s\n",
      "[CV] boosting_type=gbdt, colsample_bytree=0.5, learning_rate=0.03, max_depth=3, metric=multi_logloss, min_child_weight=10, min_split_gain=0.01, n_estimators=1000, num_class=14, objective=multiclass, reg_alpha=1, reg_lambda=0.1, silent=-1, subsample=0.9, verbose=-1 \n",
      "[CV]  boosting_type=gbdt, colsample_bytree=0.5, learning_rate=0.03, max_depth=3, metric=multi_logloss, min_child_weight=10, min_split_gain=0.01, n_estimators=1000, num_class=14, objective=multiclass, reg_alpha=1, reg_lambda=0.1, silent=-1, subsample=0.9, verbose=-1, score=0.7713643178410795, total=  12.3s\n",
      "[Parallel(n_jobs=1)]: Done  73 out of  73 | elapsed: 13.8min remaining:    0.0s\n",
      "[CV] boosting_type=gbdt, colsample_bytree=0.5, learning_rate=0.03, max_depth=3, metric=multi_logloss, min_child_weight=10, min_split_gain=0.01, n_estimators=1000, num_class=14, objective=multiclass, reg_alpha=1, reg_lambda=0.1, silent=-1, subsample=0.9, verbose=-1 \n",
      "[CV]  boosting_type=gbdt, colsample_bytree=0.5, learning_rate=0.03, max_depth=3, metric=multi_logloss, min_child_weight=10, min_split_gain=0.01, n_estimators=1000, num_class=14, objective=multiclass, reg_alpha=1, reg_lambda=0.1, silent=-1, subsample=0.9, verbose=-1, score=0.7695195195195195, total=  11.4s\n",
      "[Parallel(n_jobs=1)]: Done  74 out of  74 | elapsed: 14.0min remaining:    0.0s\n",
      "[CV] boosting_type=gbdt, colsample_bytree=0.5, learning_rate=0.03, max_depth=3, metric=multi_logloss, min_child_weight=10, min_split_gain=0.01, n_estimators=1000, num_class=14, objective=multiclass, reg_alpha=1, reg_lambda=0.1, silent=-1, subsample=0.9, verbose=-1 \n",
      "[CV]  boosting_type=gbdt, colsample_bytree=0.5, learning_rate=0.03, max_depth=3, metric=multi_logloss, min_child_weight=10, min_split_gain=0.01, n_estimators=1000, num_class=14, objective=multiclass, reg_alpha=1, reg_lambda=0.1, silent=-1, subsample=0.9, verbose=-1, score=0.7501881113619263, total=  12.9s\n",
      "[Parallel(n_jobs=1)]: Done  75 out of  75 | elapsed: 14.2min remaining:    0.0s\n",
      "[CV] boosting_type=gbdt, colsample_bytree=0.5, learning_rate=0.03, max_depth=3, metric=multi_logloss, min_child_weight=10, min_split_gain=0.01, n_estimators=1000, num_class=14, objective=multiclass, reg_alpha=1, reg_lambda=1, silent=-1, subsample=0.9, verbose=-1 \n",
      "[CV]  boosting_type=gbdt, colsample_bytree=0.5, learning_rate=0.03, max_depth=3, metric=multi_logloss, min_child_weight=10, min_split_gain=0.01, n_estimators=1000, num_class=14, objective=multiclass, reg_alpha=1, reg_lambda=1, silent=-1, subsample=0.9, verbose=-1, score=0.767910447761194, total=  10.7s\n",
      "[Parallel(n_jobs=1)]: Done  76 out of  76 | elapsed: 14.4min remaining:    0.0s\n",
      "[CV] boosting_type=gbdt, colsample_bytree=0.5, learning_rate=0.03, max_depth=3, metric=multi_logloss, min_child_weight=10, min_split_gain=0.01, n_estimators=1000, num_class=14, objective=multiclass, reg_alpha=1, reg_lambda=1, silent=-1, subsample=0.9, verbose=-1 \n",
      "[CV]  boosting_type=gbdt, colsample_bytree=0.5, learning_rate=0.03, max_depth=3, metric=multi_logloss, min_child_weight=10, min_split_gain=0.01, n_estimators=1000, num_class=14, objective=multiclass, reg_alpha=1, reg_lambda=1, silent=-1, subsample=0.9, verbose=-1, score=0.7662921348314606, total=  11.2s\n",
      "[Parallel(n_jobs=1)]: Done  77 out of  77 | elapsed: 14.6min remaining:    0.0s\n",
      "[CV] boosting_type=gbdt, colsample_bytree=0.5, learning_rate=0.03, max_depth=3, metric=multi_logloss, min_child_weight=10, min_split_gain=0.01, n_estimators=1000, num_class=14, objective=multiclass, reg_alpha=1, reg_lambda=1, silent=-1, subsample=0.9, verbose=-1 \n",
      "[CV]  boosting_type=gbdt, colsample_bytree=0.5, learning_rate=0.03, max_depth=3, metric=multi_logloss, min_child_weight=10, min_split_gain=0.01, n_estimators=1000, num_class=14, objective=multiclass, reg_alpha=1, reg_lambda=1, silent=-1, subsample=0.9, verbose=-1, score=0.7721139430284858, total=  13.0s\n",
      "[Parallel(n_jobs=1)]: Done  78 out of  78 | elapsed: 14.8min remaining:    0.0s\n",
      "[CV] boosting_type=gbdt, colsample_bytree=0.5, learning_rate=0.03, max_depth=3, metric=multi_logloss, min_child_weight=10, min_split_gain=0.01, n_estimators=1000, num_class=14, objective=multiclass, reg_alpha=1, reg_lambda=1, silent=-1, subsample=0.9, verbose=-1 \n",
      "[CV]  boosting_type=gbdt, colsample_bytree=0.5, learning_rate=0.03, max_depth=3, metric=multi_logloss, min_child_weight=10, min_split_gain=0.01, n_estimators=1000, num_class=14, objective=multiclass, reg_alpha=1, reg_lambda=1, silent=-1, subsample=0.9, verbose=-1, score=0.7672672672672672, total=  11.3s\n",
      "[Parallel(n_jobs=1)]: Done  79 out of  79 | elapsed: 15.0min remaining:    0.0s\n",
      "[CV] boosting_type=gbdt, colsample_bytree=0.5, learning_rate=0.03, max_depth=3, metric=multi_logloss, min_child_weight=10, min_split_gain=0.01, n_estimators=1000, num_class=14, objective=multiclass, reg_alpha=1, reg_lambda=1, silent=-1, subsample=0.9, verbose=-1 \n",
      "[CV]  boosting_type=gbdt, colsample_bytree=0.5, learning_rate=0.03, max_depth=3, metric=multi_logloss, min_child_weight=10, min_split_gain=0.01, n_estimators=1000, num_class=14, objective=multiclass, reg_alpha=1, reg_lambda=1, silent=-1, subsample=0.9, verbose=-1, score=0.7524454477050414, total=  13.0s\n",
      "[Parallel(n_jobs=1)]: Done  80 out of  80 | elapsed: 15.2min remaining:    0.0s\n",
      "[CV] boosting_type=gbdt, colsample_bytree=0.5, learning_rate=0.03, max_depth=5, metric=multi_logloss, min_child_weight=10, min_split_gain=0.01, n_estimators=1000, num_class=14, objective=multiclass, reg_alpha=0.01, reg_lambda=0.01, silent=-1, subsample=0.9, verbose=-1 \n",
      "[CV]  boosting_type=gbdt, colsample_bytree=0.5, learning_rate=0.03, max_depth=5, metric=multi_logloss, min_child_weight=10, min_split_gain=0.01, n_estimators=1000, num_class=14, objective=multiclass, reg_alpha=0.01, reg_lambda=0.01, silent=-1, subsample=0.9, verbose=-1, score=0.7858208955223881, total=  16.1s\n",
      "[Parallel(n_jobs=1)]: Done  81 out of  81 | elapsed: 15.5min remaining:    0.0s\n",
      "[CV] boosting_type=gbdt, colsample_bytree=0.5, learning_rate=0.03, max_depth=5, metric=multi_logloss, min_child_weight=10, min_split_gain=0.01, n_estimators=1000, num_class=14, objective=multiclass, reg_alpha=0.01, reg_lambda=0.01, silent=-1, subsample=0.9, verbose=-1 \n",
      "[CV]  boosting_type=gbdt, colsample_bytree=0.5, learning_rate=0.03, max_depth=5, metric=multi_logloss, min_child_weight=10, min_split_gain=0.01, n_estimators=1000, num_class=14, objective=multiclass, reg_alpha=0.01, reg_lambda=0.01, silent=-1, subsample=0.9, verbose=-1, score=0.7767790262172285, total=  16.7s\n",
      "[Parallel(n_jobs=1)]: Done  82 out of  82 | elapsed: 15.8min remaining:    0.0s\n",
      "[CV] boosting_type=gbdt, colsample_bytree=0.5, learning_rate=0.03, max_depth=5, metric=multi_logloss, min_child_weight=10, min_split_gain=0.01, n_estimators=1000, num_class=14, objective=multiclass, reg_alpha=0.01, reg_lambda=0.01, silent=-1, subsample=0.9, verbose=-1 \n",
      "[CV]  boosting_type=gbdt, colsample_bytree=0.5, learning_rate=0.03, max_depth=5, metric=multi_logloss, min_child_weight=10, min_split_gain=0.01, n_estimators=1000, num_class=14, objective=multiclass, reg_alpha=0.01, reg_lambda=0.01, silent=-1, subsample=0.9, verbose=-1, score=0.7743628185907047, total=  16.9s\n",
      "[Parallel(n_jobs=1)]: Done  83 out of  83 | elapsed: 16.1min remaining:    0.0s\n",
      "[CV] boosting_type=gbdt, colsample_bytree=0.5, learning_rate=0.03, max_depth=5, metric=multi_logloss, min_child_weight=10, min_split_gain=0.01, n_estimators=1000, num_class=14, objective=multiclass, reg_alpha=0.01, reg_lambda=0.01, silent=-1, subsample=0.9, verbose=-1 \n",
      "[CV]  boosting_type=gbdt, colsample_bytree=0.5, learning_rate=0.03, max_depth=5, metric=multi_logloss, min_child_weight=10, min_split_gain=0.01, n_estimators=1000, num_class=14, objective=multiclass, reg_alpha=0.01, reg_lambda=0.01, silent=-1, subsample=0.9, verbose=-1, score=0.7680180180180181, total=  18.6s\n",
      "[Parallel(n_jobs=1)]: Done  84 out of  84 | elapsed: 16.4min remaining:    0.0s\n",
      "[CV] boosting_type=gbdt, colsample_bytree=0.5, learning_rate=0.03, max_depth=5, metric=multi_logloss, min_child_weight=10, min_split_gain=0.01, n_estimators=1000, num_class=14, objective=multiclass, reg_alpha=0.01, reg_lambda=0.01, silent=-1, subsample=0.9, verbose=-1 \n",
      "[CV]  boosting_type=gbdt, colsample_bytree=0.5, learning_rate=0.03, max_depth=5, metric=multi_logloss, min_child_weight=10, min_split_gain=0.01, n_estimators=1000, num_class=14, objective=multiclass, reg_alpha=0.01, reg_lambda=0.01, silent=-1, subsample=0.9, verbose=-1, score=0.7569601203912716, total=  21.0s\n",
      "[Parallel(n_jobs=1)]: Done  85 out of  85 | elapsed: 16.7min remaining:    0.0s\n",
      "[CV] boosting_type=gbdt, colsample_bytree=0.5, learning_rate=0.03, max_depth=5, metric=multi_logloss, min_child_weight=10, min_split_gain=0.01, n_estimators=1000, num_class=14, objective=multiclass, reg_alpha=0.01, reg_lambda=0.001, silent=-1, subsample=0.9, verbose=-1 \n",
      "[CV]  boosting_type=gbdt, colsample_bytree=0.5, learning_rate=0.03, max_depth=5, metric=multi_logloss, min_child_weight=10, min_split_gain=0.01, n_estimators=1000, num_class=14, objective=multiclass, reg_alpha=0.01, reg_lambda=0.001, silent=-1, subsample=0.9, verbose=-1, score=0.7873134328358209, total=  19.2s\n",
      "[Parallel(n_jobs=1)]: Done  86 out of  86 | elapsed: 17.0min remaining:    0.0s\n",
      "[CV] boosting_type=gbdt, colsample_bytree=0.5, learning_rate=0.03, max_depth=5, metric=multi_logloss, min_child_weight=10, min_split_gain=0.01, n_estimators=1000, num_class=14, objective=multiclass, reg_alpha=0.01, reg_lambda=0.001, silent=-1, subsample=0.9, verbose=-1 \n",
      "[CV]  boosting_type=gbdt, colsample_bytree=0.5, learning_rate=0.03, max_depth=5, metric=multi_logloss, min_child_weight=10, min_split_gain=0.01, n_estimators=1000, num_class=14, objective=multiclass, reg_alpha=0.01, reg_lambda=0.001, silent=-1, subsample=0.9, verbose=-1, score=0.7760299625468164, total=  17.7s\n",
      "[Parallel(n_jobs=1)]: Done  87 out of  87 | elapsed: 17.3min remaining:    0.0s\n",
      "[CV] boosting_type=gbdt, colsample_bytree=0.5, learning_rate=0.03, max_depth=5, metric=multi_logloss, min_child_weight=10, min_split_gain=0.01, n_estimators=1000, num_class=14, objective=multiclass, reg_alpha=0.01, reg_lambda=0.001, silent=-1, subsample=0.9, verbose=-1 \n",
      "[CV]  boosting_type=gbdt, colsample_bytree=0.5, learning_rate=0.03, max_depth=5, metric=multi_logloss, min_child_weight=10, min_split_gain=0.01, n_estimators=1000, num_class=14, objective=multiclass, reg_alpha=0.01, reg_lambda=0.001, silent=-1, subsample=0.9, verbose=-1, score=0.7773613193403298, total=  15.1s\n",
      "[Parallel(n_jobs=1)]: Done  88 out of  88 | elapsed: 17.6min remaining:    0.0s\n",
      "[CV] boosting_type=gbdt, colsample_bytree=0.5, learning_rate=0.03, max_depth=5, metric=multi_logloss, min_child_weight=10, min_split_gain=0.01, n_estimators=1000, num_class=14, objective=multiclass, reg_alpha=0.01, reg_lambda=0.001, silent=-1, subsample=0.9, verbose=-1 \n",
      "[CV]  boosting_type=gbdt, colsample_bytree=0.5, learning_rate=0.03, max_depth=5, metric=multi_logloss, min_child_weight=10, min_split_gain=0.01, n_estimators=1000, num_class=14, objective=multiclass, reg_alpha=0.01, reg_lambda=0.001, silent=-1, subsample=0.9, verbose=-1, score=0.7725225225225225, total=  16.8s\n",
      "[Parallel(n_jobs=1)]: Done  89 out of  89 | elapsed: 17.9min remaining:    0.0s\n",
      "[CV] boosting_type=gbdt, colsample_bytree=0.5, learning_rate=0.03, max_depth=5, metric=multi_logloss, min_child_weight=10, min_split_gain=0.01, n_estimators=1000, num_class=14, objective=multiclass, reg_alpha=0.01, reg_lambda=0.001, silent=-1, subsample=0.9, verbose=-1 \n",
      "[CV]  boosting_type=gbdt, colsample_bytree=0.5, learning_rate=0.03, max_depth=5, metric=multi_logloss, min_child_weight=10, min_split_gain=0.01, n_estimators=1000, num_class=14, objective=multiclass, reg_alpha=0.01, reg_lambda=0.001, silent=-1, subsample=0.9, verbose=-1, score=0.7569601203912716, total=  17.1s\n",
      "[Parallel(n_jobs=1)]: Done  90 out of  90 | elapsed: 18.2min remaining:    0.0s\n",
      "[CV] boosting_type=gbdt, colsample_bytree=0.5, learning_rate=0.03, max_depth=5, metric=multi_logloss, min_child_weight=10, min_split_gain=0.01, n_estimators=1000, num_class=14, objective=multiclass, reg_alpha=0.01, reg_lambda=0.1, silent=-1, subsample=0.9, verbose=-1 \n",
      "[CV]  boosting_type=gbdt, colsample_bytree=0.5, learning_rate=0.03, max_depth=5, metric=multi_logloss, min_child_weight=10, min_split_gain=0.01, n_estimators=1000, num_class=14, objective=multiclass, reg_alpha=0.01, reg_lambda=0.1, silent=-1, subsample=0.9, verbose=-1, score=0.7843283582089552, total=  23.4s\n",
      "[Parallel(n_jobs=1)]: Done  91 out of  91 | elapsed: 18.6min remaining:    0.0s\n",
      "[CV] boosting_type=gbdt, colsample_bytree=0.5, learning_rate=0.03, max_depth=5, metric=multi_logloss, min_child_weight=10, min_split_gain=0.01, n_estimators=1000, num_class=14, objective=multiclass, reg_alpha=0.01, reg_lambda=0.1, silent=-1, subsample=0.9, verbose=-1 \n",
      "[CV]  boosting_type=gbdt, colsample_bytree=0.5, learning_rate=0.03, max_depth=5, metric=multi_logloss, min_child_weight=10, min_split_gain=0.01, n_estimators=1000, num_class=14, objective=multiclass, reg_alpha=0.01, reg_lambda=0.1, silent=-1, subsample=0.9, verbose=-1, score=0.7752808988764045, total=  20.3s\n",
      "[Parallel(n_jobs=1)]: Done  92 out of  92 | elapsed: 18.9min remaining:    0.0s\n",
      "[CV] boosting_type=gbdt, colsample_bytree=0.5, learning_rate=0.03, max_depth=5, metric=multi_logloss, min_child_weight=10, min_split_gain=0.01, n_estimators=1000, num_class=14, objective=multiclass, reg_alpha=0.01, reg_lambda=0.1, silent=-1, subsample=0.9, verbose=-1 \n",
      "[CV]  boosting_type=gbdt, colsample_bytree=0.5, learning_rate=0.03, max_depth=5, metric=multi_logloss, min_child_weight=10, min_split_gain=0.01, n_estimators=1000, num_class=14, objective=multiclass, reg_alpha=0.01, reg_lambda=0.1, silent=-1, subsample=0.9, verbose=-1, score=0.7758620689655172, total=  15.2s\n",
      "[Parallel(n_jobs=1)]: Done  93 out of  93 | elapsed: 19.2min remaining:    0.0s\n",
      "[CV] boosting_type=gbdt, colsample_bytree=0.5, learning_rate=0.03, max_depth=5, metric=multi_logloss, min_child_weight=10, min_split_gain=0.01, n_estimators=1000, num_class=14, objective=multiclass, reg_alpha=0.01, reg_lambda=0.1, silent=-1, subsample=0.9, verbose=-1 \n",
      "[CV]  boosting_type=gbdt, colsample_bytree=0.5, learning_rate=0.03, max_depth=5, metric=multi_logloss, min_child_weight=10, min_split_gain=0.01, n_estimators=1000, num_class=14, objective=multiclass, reg_alpha=0.01, reg_lambda=0.1, silent=-1, subsample=0.9, verbose=-1, score=0.7680180180180181, total=  16.4s\n",
      "[Parallel(n_jobs=1)]: Done  94 out of  94 | elapsed: 19.4min remaining:    0.0s\n",
      "[CV] boosting_type=gbdt, colsample_bytree=0.5, learning_rate=0.03, max_depth=5, metric=multi_logloss, min_child_weight=10, min_split_gain=0.01, n_estimators=1000, num_class=14, objective=multiclass, reg_alpha=0.01, reg_lambda=0.1, silent=-1, subsample=0.9, verbose=-1 \n",
      "[CV]  boosting_type=gbdt, colsample_bytree=0.5, learning_rate=0.03, max_depth=5, metric=multi_logloss, min_child_weight=10, min_split_gain=0.01, n_estimators=1000, num_class=14, objective=multiclass, reg_alpha=0.01, reg_lambda=0.1, silent=-1, subsample=0.9, verbose=-1, score=0.7599699021820918, total=  17.8s\n",
      "[Parallel(n_jobs=1)]: Done  95 out of  95 | elapsed: 19.7min remaining:    0.0s\n",
      "[CV] boosting_type=gbdt, colsample_bytree=0.5, learning_rate=0.03, max_depth=5, metric=multi_logloss, min_child_weight=10, min_split_gain=0.01, n_estimators=1000, num_class=14, objective=multiclass, reg_alpha=0.01, reg_lambda=1, silent=-1, subsample=0.9, verbose=-1 \n",
      "[CV]  boosting_type=gbdt, colsample_bytree=0.5, learning_rate=0.03, max_depth=5, metric=multi_logloss, min_child_weight=10, min_split_gain=0.01, n_estimators=1000, num_class=14, objective=multiclass, reg_alpha=0.01, reg_lambda=1, silent=-1, subsample=0.9, verbose=-1, score=0.7850746268656716, total=  18.3s\n",
      "[Parallel(n_jobs=1)]: Done  96 out of  96 | elapsed: 20.0min remaining:    0.0s\n",
      "[CV] boosting_type=gbdt, colsample_bytree=0.5, learning_rate=0.03, max_depth=5, metric=multi_logloss, min_child_weight=10, min_split_gain=0.01, n_estimators=1000, num_class=14, objective=multiclass, reg_alpha=0.01, reg_lambda=1, silent=-1, subsample=0.9, verbose=-1 \n",
      "[CV]  boosting_type=gbdt, colsample_bytree=0.5, learning_rate=0.03, max_depth=5, metric=multi_logloss, min_child_weight=10, min_split_gain=0.01, n_estimators=1000, num_class=14, objective=multiclass, reg_alpha=0.01, reg_lambda=1, silent=-1, subsample=0.9, verbose=-1, score=0.7805243445692884, total=  16.3s\n",
      "[Parallel(n_jobs=1)]: Done  97 out of  97 | elapsed: 20.3min remaining:    0.0s\n",
      "[CV] boosting_type=gbdt, colsample_bytree=0.5, learning_rate=0.03, max_depth=5, metric=multi_logloss, min_child_weight=10, min_split_gain=0.01, n_estimators=1000, num_class=14, objective=multiclass, reg_alpha=0.01, reg_lambda=1, silent=-1, subsample=0.9, verbose=-1 \n",
      "[CV]  boosting_type=gbdt, colsample_bytree=0.5, learning_rate=0.03, max_depth=5, metric=multi_logloss, min_child_weight=10, min_split_gain=0.01, n_estimators=1000, num_class=14, objective=multiclass, reg_alpha=0.01, reg_lambda=1, silent=-1, subsample=0.9, verbose=-1, score=0.7736131934032984, total=  18.6s\n",
      "[Parallel(n_jobs=1)]: Done  98 out of  98 | elapsed: 20.6min remaining:    0.0s\n",
      "[CV] boosting_type=gbdt, colsample_bytree=0.5, learning_rate=0.03, max_depth=5, metric=multi_logloss, min_child_weight=10, min_split_gain=0.01, n_estimators=1000, num_class=14, objective=multiclass, reg_alpha=0.01, reg_lambda=1, silent=-1, subsample=0.9, verbose=-1 \n",
      "[CV]  boosting_type=gbdt, colsample_bytree=0.5, learning_rate=0.03, max_depth=5, metric=multi_logloss, min_child_weight=10, min_split_gain=0.01, n_estimators=1000, num_class=14, objective=multiclass, reg_alpha=0.01, reg_lambda=1, silent=-1, subsample=0.9, verbose=-1, score=0.7755255255255256, total=  16.5s\n",
      "[Parallel(n_jobs=1)]: Done  99 out of  99 | elapsed: 20.9min remaining:    0.0s\n",
      "[CV] boosting_type=gbdt, colsample_bytree=0.5, learning_rate=0.03, max_depth=5, metric=multi_logloss, min_child_weight=10, min_split_gain=0.01, n_estimators=1000, num_class=14, objective=multiclass, reg_alpha=0.01, reg_lambda=1, silent=-1, subsample=0.9, verbose=-1 \n",
      "[CV]  boosting_type=gbdt, colsample_bytree=0.5, learning_rate=0.03, max_depth=5, metric=multi_logloss, min_child_weight=10, min_split_gain=0.01, n_estimators=1000, num_class=14, objective=multiclass, reg_alpha=0.01, reg_lambda=1, silent=-1, subsample=0.9, verbose=-1, score=0.7599699021820918, total=  23.1s\n",
      "[CV] boosting_type=gbdt, colsample_bytree=0.5, learning_rate=0.03, max_depth=5, metric=multi_logloss, min_child_weight=10, min_split_gain=0.01, n_estimators=1000, num_class=14, objective=multiclass, reg_alpha=0.001, reg_lambda=0.01, silent=-1, subsample=0.9, verbose=-1 \n",
      "[CV]  boosting_type=gbdt, colsample_bytree=0.5, learning_rate=0.03, max_depth=5, metric=multi_logloss, min_child_weight=10, min_split_gain=0.01, n_estimators=1000, num_class=14, objective=multiclass, reg_alpha=0.001, reg_lambda=0.01, silent=-1, subsample=0.9, verbose=-1, score=0.7865671641791044, total=  21.4s\n",
      "[CV] boosting_type=gbdt, colsample_bytree=0.5, learning_rate=0.03, max_depth=5, metric=multi_logloss, min_child_weight=10, min_split_gain=0.01, n_estimators=1000, num_class=14, objective=multiclass, reg_alpha=0.001, reg_lambda=0.01, silent=-1, subsample=0.9, verbose=-1 \n",
      "[CV]  boosting_type=gbdt, colsample_bytree=0.5, learning_rate=0.03, max_depth=5, metric=multi_logloss, min_child_weight=10, min_split_gain=0.01, n_estimators=1000, num_class=14, objective=multiclass, reg_alpha=0.001, reg_lambda=0.01, silent=-1, subsample=0.9, verbose=-1, score=0.7752808988764045, total=  16.6s\n",
      "[CV] boosting_type=gbdt, colsample_bytree=0.5, learning_rate=0.03, max_depth=5, metric=multi_logloss, min_child_weight=10, min_split_gain=0.01, n_estimators=1000, num_class=14, objective=multiclass, reg_alpha=0.001, reg_lambda=0.01, silent=-1, subsample=0.9, verbose=-1 \n",
      "[CV]  boosting_type=gbdt, colsample_bytree=0.5, learning_rate=0.03, max_depth=5, metric=multi_logloss, min_child_weight=10, min_split_gain=0.01, n_estimators=1000, num_class=14, objective=multiclass, reg_alpha=0.001, reg_lambda=0.01, silent=-1, subsample=0.9, verbose=-1, score=0.767616191904048, total=  17.2s\n",
      "[CV] boosting_type=gbdt, colsample_bytree=0.5, learning_rate=0.03, max_depth=5, metric=multi_logloss, min_child_weight=10, min_split_gain=0.01, n_estimators=1000, num_class=14, objective=multiclass, reg_alpha=0.001, reg_lambda=0.01, silent=-1, subsample=0.9, verbose=-1 \n",
      "[CV]  boosting_type=gbdt, colsample_bytree=0.5, learning_rate=0.03, max_depth=5, metric=multi_logloss, min_child_weight=10, min_split_gain=0.01, n_estimators=1000, num_class=14, objective=multiclass, reg_alpha=0.001, reg_lambda=0.01, silent=-1, subsample=0.9, verbose=-1, score=0.7695195195195195, total=  16.2s\n",
      "[CV] boosting_type=gbdt, colsample_bytree=0.5, learning_rate=0.03, max_depth=5, metric=multi_logloss, min_child_weight=10, min_split_gain=0.01, n_estimators=1000, num_class=14, objective=multiclass, reg_alpha=0.001, reg_lambda=0.01, silent=-1, subsample=0.9, verbose=-1 \n",
      "[CV]  boosting_type=gbdt, colsample_bytree=0.5, learning_rate=0.03, max_depth=5, metric=multi_logloss, min_child_weight=10, min_split_gain=0.01, n_estimators=1000, num_class=14, objective=multiclass, reg_alpha=0.001, reg_lambda=0.01, silent=-1, subsample=0.9, verbose=-1, score=0.7562076749435666, total=  19.7s\n",
      "[CV] boosting_type=gbdt, colsample_bytree=0.5, learning_rate=0.03, max_depth=5, metric=multi_logloss, min_child_weight=10, min_split_gain=0.01, n_estimators=1000, num_class=14, objective=multiclass, reg_alpha=0.001, reg_lambda=0.001, silent=-1, subsample=0.9, verbose=-1 \n",
      "[CV]  boosting_type=gbdt, colsample_bytree=0.5, learning_rate=0.03, max_depth=5, metric=multi_logloss, min_child_weight=10, min_split_gain=0.01, n_estimators=1000, num_class=14, objective=multiclass, reg_alpha=0.001, reg_lambda=0.001, silent=-1, subsample=0.9, verbose=-1, score=0.7865671641791044, total=  19.1s\n",
      "[CV] boosting_type=gbdt, colsample_bytree=0.5, learning_rate=0.03, max_depth=5, metric=multi_logloss, min_child_weight=10, min_split_gain=0.01, n_estimators=1000, num_class=14, objective=multiclass, reg_alpha=0.001, reg_lambda=0.001, silent=-1, subsample=0.9, verbose=-1 \n",
      "[CV]  boosting_type=gbdt, colsample_bytree=0.5, learning_rate=0.03, max_depth=5, metric=multi_logloss, min_child_weight=10, min_split_gain=0.01, n_estimators=1000, num_class=14, objective=multiclass, reg_alpha=0.001, reg_lambda=0.001, silent=-1, subsample=0.9, verbose=-1, score=0.7752808988764045, total=  16.5s\n",
      "[CV] boosting_type=gbdt, colsample_bytree=0.5, learning_rate=0.03, max_depth=5, metric=multi_logloss, min_child_weight=10, min_split_gain=0.01, n_estimators=1000, num_class=14, objective=multiclass, reg_alpha=0.001, reg_lambda=0.001, silent=-1, subsample=0.9, verbose=-1 \n",
      "[CV]  boosting_type=gbdt, colsample_bytree=0.5, learning_rate=0.03, max_depth=5, metric=multi_logloss, min_child_weight=10, min_split_gain=0.01, n_estimators=1000, num_class=14, objective=multiclass, reg_alpha=0.001, reg_lambda=0.001, silent=-1, subsample=0.9, verbose=-1, score=0.7721139430284858, total=  16.8s\n",
      "[CV] boosting_type=gbdt, colsample_bytree=0.5, learning_rate=0.03, max_depth=5, metric=multi_logloss, min_child_weight=10, min_split_gain=0.01, n_estimators=1000, num_class=14, objective=multiclass, reg_alpha=0.001, reg_lambda=0.001, silent=-1, subsample=0.9, verbose=-1 \n",
      "[CV]  boosting_type=gbdt, colsample_bytree=0.5, learning_rate=0.03, max_depth=5, metric=multi_logloss, min_child_weight=10, min_split_gain=0.01, n_estimators=1000, num_class=14, objective=multiclass, reg_alpha=0.001, reg_lambda=0.001, silent=-1, subsample=0.9, verbose=-1, score=0.771021021021021, total=  19.5s\n",
      "[CV] boosting_type=gbdt, colsample_bytree=0.5, learning_rate=0.03, max_depth=5, metric=multi_logloss, min_child_weight=10, min_split_gain=0.01, n_estimators=1000, num_class=14, objective=multiclass, reg_alpha=0.001, reg_lambda=0.001, silent=-1, subsample=0.9, verbose=-1 \n",
      "[CV]  boosting_type=gbdt, colsample_bytree=0.5, learning_rate=0.03, max_depth=5, metric=multi_logloss, min_child_weight=10, min_split_gain=0.01, n_estimators=1000, num_class=14, objective=multiclass, reg_alpha=0.001, reg_lambda=0.001, silent=-1, subsample=0.9, verbose=-1, score=0.7562076749435666, total=  16.1s\n",
      "[CV] boosting_type=gbdt, colsample_bytree=0.5, learning_rate=0.03, max_depth=5, metric=multi_logloss, min_child_weight=10, min_split_gain=0.01, n_estimators=1000, num_class=14, objective=multiclass, reg_alpha=0.001, reg_lambda=0.1, silent=-1, subsample=0.9, verbose=-1 \n",
      "[CV]  boosting_type=gbdt, colsample_bytree=0.5, learning_rate=0.03, max_depth=5, metric=multi_logloss, min_child_weight=10, min_split_gain=0.01, n_estimators=1000, num_class=14, objective=multiclass, reg_alpha=0.001, reg_lambda=0.1, silent=-1, subsample=0.9, verbose=-1, score=0.7820895522388059, total=  44.8s\n",
      "[CV] boosting_type=gbdt, colsample_bytree=0.5, learning_rate=0.03, max_depth=5, metric=multi_logloss, min_child_weight=10, min_split_gain=0.01, n_estimators=1000, num_class=14, objective=multiclass, reg_alpha=0.001, reg_lambda=0.1, silent=-1, subsample=0.9, verbose=-1 \n",
      "[CV]  boosting_type=gbdt, colsample_bytree=0.5, learning_rate=0.03, max_depth=5, metric=multi_logloss, min_child_weight=10, min_split_gain=0.01, n_estimators=1000, num_class=14, objective=multiclass, reg_alpha=0.001, reg_lambda=0.1, silent=-1, subsample=0.9, verbose=-1, score=0.7745318352059926, total=  16.6s\n",
      "[CV] boosting_type=gbdt, colsample_bytree=0.5, learning_rate=0.03, max_depth=5, metric=multi_logloss, min_child_weight=10, min_split_gain=0.01, n_estimators=1000, num_class=14, objective=multiclass, reg_alpha=0.001, reg_lambda=0.1, silent=-1, subsample=0.9, verbose=-1 \n",
      "[CV]  boosting_type=gbdt, colsample_bytree=0.5, learning_rate=0.03, max_depth=5, metric=multi_logloss, min_child_weight=10, min_split_gain=0.01, n_estimators=1000, num_class=14, objective=multiclass, reg_alpha=0.001, reg_lambda=0.1, silent=-1, subsample=0.9, verbose=-1, score=0.7698650674662668, total=  16.3s\n",
      "[CV] boosting_type=gbdt, colsample_bytree=0.5, learning_rate=0.03, max_depth=5, metric=multi_logloss, min_child_weight=10, min_split_gain=0.01, n_estimators=1000, num_class=14, objective=multiclass, reg_alpha=0.001, reg_lambda=0.1, silent=-1, subsample=0.9, verbose=-1 \n",
      "[CV]  boosting_type=gbdt, colsample_bytree=0.5, learning_rate=0.03, max_depth=5, metric=multi_logloss, min_child_weight=10, min_split_gain=0.01, n_estimators=1000, num_class=14, objective=multiclass, reg_alpha=0.001, reg_lambda=0.1, silent=-1, subsample=0.9, verbose=-1, score=0.7702702702702703, total=  17.1s\n",
      "[CV] boosting_type=gbdt, colsample_bytree=0.5, learning_rate=0.03, max_depth=5, metric=multi_logloss, min_child_weight=10, min_split_gain=0.01, n_estimators=1000, num_class=14, objective=multiclass, reg_alpha=0.001, reg_lambda=0.1, silent=-1, subsample=0.9, verbose=-1 \n",
      "[CV]  boosting_type=gbdt, colsample_bytree=0.5, learning_rate=0.03, max_depth=5, metric=multi_logloss, min_child_weight=10, min_split_gain=0.01, n_estimators=1000, num_class=14, objective=multiclass, reg_alpha=0.001, reg_lambda=0.1, silent=-1, subsample=0.9, verbose=-1, score=0.7569601203912716, total=  17.0s\n",
      "[CV] boosting_type=gbdt, colsample_bytree=0.5, learning_rate=0.03, max_depth=5, metric=multi_logloss, min_child_weight=10, min_split_gain=0.01, n_estimators=1000, num_class=14, objective=multiclass, reg_alpha=0.001, reg_lambda=1, silent=-1, subsample=0.9, verbose=-1 \n",
      "[CV]  boosting_type=gbdt, colsample_bytree=0.5, learning_rate=0.03, max_depth=5, metric=multi_logloss, min_child_weight=10, min_split_gain=0.01, n_estimators=1000, num_class=14, objective=multiclass, reg_alpha=0.001, reg_lambda=1, silent=-1, subsample=0.9, verbose=-1, score=0.7813432835820896, total=  16.0s\n",
      "[CV] boosting_type=gbdt, colsample_bytree=0.5, learning_rate=0.03, max_depth=5, metric=multi_logloss, min_child_weight=10, min_split_gain=0.01, n_estimators=1000, num_class=14, objective=multiclass, reg_alpha=0.001, reg_lambda=1, silent=-1, subsample=0.9, verbose=-1 \n",
      "[CV]  boosting_type=gbdt, colsample_bytree=0.5, learning_rate=0.03, max_depth=5, metric=multi_logloss, min_child_weight=10, min_split_gain=0.01, n_estimators=1000, num_class=14, objective=multiclass, reg_alpha=0.001, reg_lambda=1, silent=-1, subsample=0.9, verbose=-1, score=0.7805243445692884, total=  20.2s\n",
      "[CV] boosting_type=gbdt, colsample_bytree=0.5, learning_rate=0.03, max_depth=5, metric=multi_logloss, min_child_weight=10, min_split_gain=0.01, n_estimators=1000, num_class=14, objective=multiclass, reg_alpha=0.001, reg_lambda=1, silent=-1, subsample=0.9, verbose=-1 \n",
      "[CV]  boosting_type=gbdt, colsample_bytree=0.5, learning_rate=0.03, max_depth=5, metric=multi_logloss, min_child_weight=10, min_split_gain=0.01, n_estimators=1000, num_class=14, objective=multiclass, reg_alpha=0.001, reg_lambda=1, silent=-1, subsample=0.9, verbose=-1, score=0.7706146926536732, total=  17.3s\n",
      "[CV] boosting_type=gbdt, colsample_bytree=0.5, learning_rate=0.03, max_depth=5, metric=multi_logloss, min_child_weight=10, min_split_gain=0.01, n_estimators=1000, num_class=14, objective=multiclass, reg_alpha=0.001, reg_lambda=1, silent=-1, subsample=0.9, verbose=-1 \n",
      "[CV]  boosting_type=gbdt, colsample_bytree=0.5, learning_rate=0.03, max_depth=5, metric=multi_logloss, min_child_weight=10, min_split_gain=0.01, n_estimators=1000, num_class=14, objective=multiclass, reg_alpha=0.001, reg_lambda=1, silent=-1, subsample=0.9, verbose=-1, score=0.7702702702702703, total=  15.8s\n",
      "[CV] boosting_type=gbdt, colsample_bytree=0.5, learning_rate=0.03, max_depth=5, metric=multi_logloss, min_child_weight=10, min_split_gain=0.01, n_estimators=1000, num_class=14, objective=multiclass, reg_alpha=0.001, reg_lambda=1, silent=-1, subsample=0.9, verbose=-1 \n",
      "[CV]  boosting_type=gbdt, colsample_bytree=0.5, learning_rate=0.03, max_depth=5, metric=multi_logloss, min_child_weight=10, min_split_gain=0.01, n_estimators=1000, num_class=14, objective=multiclass, reg_alpha=0.001, reg_lambda=1, silent=-1, subsample=0.9, verbose=-1, score=0.7614747930775019, total=  15.2s\n",
      "[CV] boosting_type=gbdt, colsample_bytree=0.5, learning_rate=0.03, max_depth=5, metric=multi_logloss, min_child_weight=10, min_split_gain=0.01, n_estimators=1000, num_class=14, objective=multiclass, reg_alpha=0.1, reg_lambda=0.01, silent=-1, subsample=0.9, verbose=-1 \n",
      "[CV]  boosting_type=gbdt, colsample_bytree=0.5, learning_rate=0.03, max_depth=5, metric=multi_logloss, min_child_weight=10, min_split_gain=0.01, n_estimators=1000, num_class=14, objective=multiclass, reg_alpha=0.1, reg_lambda=0.01, silent=-1, subsample=0.9, verbose=-1, score=0.7858208955223881, total=  15.9s\n",
      "[CV] boosting_type=gbdt, colsample_bytree=0.5, learning_rate=0.03, max_depth=5, metric=multi_logloss, min_child_weight=10, min_split_gain=0.01, n_estimators=1000, num_class=14, objective=multiclass, reg_alpha=0.1, reg_lambda=0.01, silent=-1, subsample=0.9, verbose=-1 \n",
      "[CV]  boosting_type=gbdt, colsample_bytree=0.5, learning_rate=0.03, max_depth=5, metric=multi_logloss, min_child_weight=10, min_split_gain=0.01, n_estimators=1000, num_class=14, objective=multiclass, reg_alpha=0.1, reg_lambda=0.01, silent=-1, subsample=0.9, verbose=-1, score=0.7745318352059926, total=  16.4s\n",
      "[CV] boosting_type=gbdt, colsample_bytree=0.5, learning_rate=0.03, max_depth=5, metric=multi_logloss, min_child_weight=10, min_split_gain=0.01, n_estimators=1000, num_class=14, objective=multiclass, reg_alpha=0.1, reg_lambda=0.01, silent=-1, subsample=0.9, verbose=-1 \n",
      "[CV]  boosting_type=gbdt, colsample_bytree=0.5, learning_rate=0.03, max_depth=5, metric=multi_logloss, min_child_weight=10, min_split_gain=0.01, n_estimators=1000, num_class=14, objective=multiclass, reg_alpha=0.1, reg_lambda=0.01, silent=-1, subsample=0.9, verbose=-1, score=0.7721139430284858, total=  15.1s\n",
      "[CV] boosting_type=gbdt, colsample_bytree=0.5, learning_rate=0.03, max_depth=5, metric=multi_logloss, min_child_weight=10, min_split_gain=0.01, n_estimators=1000, num_class=14, objective=multiclass, reg_alpha=0.1, reg_lambda=0.01, silent=-1, subsample=0.9, verbose=-1 \n",
      "[CV]  boosting_type=gbdt, colsample_bytree=0.5, learning_rate=0.03, max_depth=5, metric=multi_logloss, min_child_weight=10, min_split_gain=0.01, n_estimators=1000, num_class=14, objective=multiclass, reg_alpha=0.1, reg_lambda=0.01, silent=-1, subsample=0.9, verbose=-1, score=0.7702702702702703, total=  19.6s\n",
      "[CV] boosting_type=gbdt, colsample_bytree=0.5, learning_rate=0.03, max_depth=5, metric=multi_logloss, min_child_weight=10, min_split_gain=0.01, n_estimators=1000, num_class=14, objective=multiclass, reg_alpha=0.1, reg_lambda=0.01, silent=-1, subsample=0.9, verbose=-1 \n",
      "[CV]  boosting_type=gbdt, colsample_bytree=0.5, learning_rate=0.03, max_depth=5, metric=multi_logloss, min_child_weight=10, min_split_gain=0.01, n_estimators=1000, num_class=14, objective=multiclass, reg_alpha=0.1, reg_lambda=0.01, silent=-1, subsample=0.9, verbose=-1, score=0.7554552294958615, total=  13.7s\n",
      "[CV] boosting_type=gbdt, colsample_bytree=0.5, learning_rate=0.03, max_depth=5, metric=multi_logloss, min_child_weight=10, min_split_gain=0.01, n_estimators=1000, num_class=14, objective=multiclass, reg_alpha=0.1, reg_lambda=0.001, silent=-1, subsample=0.9, verbose=-1 \n",
      "[CV]  boosting_type=gbdt, colsample_bytree=0.5, learning_rate=0.03, max_depth=5, metric=multi_logloss, min_child_weight=10, min_split_gain=0.01, n_estimators=1000, num_class=14, objective=multiclass, reg_alpha=0.1, reg_lambda=0.001, silent=-1, subsample=0.9, verbose=-1, score=0.7776119402985074, total=  18.8s\n",
      "[CV] boosting_type=gbdt, colsample_bytree=0.5, learning_rate=0.03, max_depth=5, metric=multi_logloss, min_child_weight=10, min_split_gain=0.01, n_estimators=1000, num_class=14, objective=multiclass, reg_alpha=0.1, reg_lambda=0.001, silent=-1, subsample=0.9, verbose=-1 \n",
      "[CV]  boosting_type=gbdt, colsample_bytree=0.5, learning_rate=0.03, max_depth=5, metric=multi_logloss, min_child_weight=10, min_split_gain=0.01, n_estimators=1000, num_class=14, objective=multiclass, reg_alpha=0.1, reg_lambda=0.001, silent=-1, subsample=0.9, verbose=-1, score=0.7760299625468164, total=  45.3s\n",
      "[CV] boosting_type=gbdt, colsample_bytree=0.5, learning_rate=0.03, max_depth=5, metric=multi_logloss, min_child_weight=10, min_split_gain=0.01, n_estimators=1000, num_class=14, objective=multiclass, reg_alpha=0.1, reg_lambda=0.001, silent=-1, subsample=0.9, verbose=-1 \n",
      "[CV]  boosting_type=gbdt, colsample_bytree=0.5, learning_rate=0.03, max_depth=5, metric=multi_logloss, min_child_weight=10, min_split_gain=0.01, n_estimators=1000, num_class=14, objective=multiclass, reg_alpha=0.1, reg_lambda=0.001, silent=-1, subsample=0.9, verbose=-1, score=0.7743628185907047, total=  16.2s\n",
      "[CV] boosting_type=gbdt, colsample_bytree=0.5, learning_rate=0.03, max_depth=5, metric=multi_logloss, min_child_weight=10, min_split_gain=0.01, n_estimators=1000, num_class=14, objective=multiclass, reg_alpha=0.1, reg_lambda=0.001, silent=-1, subsample=0.9, verbose=-1 \n",
      "[CV]  boosting_type=gbdt, colsample_bytree=0.5, learning_rate=0.03, max_depth=5, metric=multi_logloss, min_child_weight=10, min_split_gain=0.01, n_estimators=1000, num_class=14, objective=multiclass, reg_alpha=0.1, reg_lambda=0.001, silent=-1, subsample=0.9, verbose=-1, score=0.7717717717717718, total=  16.3s\n",
      "[CV] boosting_type=gbdt, colsample_bytree=0.5, learning_rate=0.03, max_depth=5, metric=multi_logloss, min_child_weight=10, min_split_gain=0.01, n_estimators=1000, num_class=14, objective=multiclass, reg_alpha=0.1, reg_lambda=0.001, silent=-1, subsample=0.9, verbose=-1 \n",
      "[CV]  boosting_type=gbdt, colsample_bytree=0.5, learning_rate=0.03, max_depth=5, metric=multi_logloss, min_child_weight=10, min_split_gain=0.01, n_estimators=1000, num_class=14, objective=multiclass, reg_alpha=0.1, reg_lambda=0.001, silent=-1, subsample=0.9, verbose=-1, score=0.7607223476297968, total=  17.2s\n",
      "[CV] boosting_type=gbdt, colsample_bytree=0.5, learning_rate=0.03, max_depth=5, metric=multi_logloss, min_child_weight=10, min_split_gain=0.01, n_estimators=1000, num_class=14, objective=multiclass, reg_alpha=0.1, reg_lambda=0.1, silent=-1, subsample=0.9, verbose=-1 \n",
      "[CV]  boosting_type=gbdt, colsample_bytree=0.5, learning_rate=0.03, max_depth=5, metric=multi_logloss, min_child_weight=10, min_split_gain=0.01, n_estimators=1000, num_class=14, objective=multiclass, reg_alpha=0.1, reg_lambda=0.1, silent=-1, subsample=0.9, verbose=-1, score=0.7888059701492537, total=  18.6s\n",
      "[CV] boosting_type=gbdt, colsample_bytree=0.5, learning_rate=0.03, max_depth=5, metric=multi_logloss, min_child_weight=10, min_split_gain=0.01, n_estimators=1000, num_class=14, objective=multiclass, reg_alpha=0.1, reg_lambda=0.1, silent=-1, subsample=0.9, verbose=-1 \n",
      "[CV]  boosting_type=gbdt, colsample_bytree=0.5, learning_rate=0.03, max_depth=5, metric=multi_logloss, min_child_weight=10, min_split_gain=0.01, n_estimators=1000, num_class=14, objective=multiclass, reg_alpha=0.1, reg_lambda=0.1, silent=-1, subsample=0.9, verbose=-1, score=0.7775280898876404, total=  15.6s\n",
      "[CV] boosting_type=gbdt, colsample_bytree=0.5, learning_rate=0.03, max_depth=5, metric=multi_logloss, min_child_weight=10, min_split_gain=0.01, n_estimators=1000, num_class=14, objective=multiclass, reg_alpha=0.1, reg_lambda=0.1, silent=-1, subsample=0.9, verbose=-1 \n",
      "[CV]  boosting_type=gbdt, colsample_bytree=0.5, learning_rate=0.03, max_depth=5, metric=multi_logloss, min_child_weight=10, min_split_gain=0.01, n_estimators=1000, num_class=14, objective=multiclass, reg_alpha=0.1, reg_lambda=0.1, silent=-1, subsample=0.9, verbose=-1, score=0.7698650674662668, total=  19.3s\n",
      "[CV] boosting_type=gbdt, colsample_bytree=0.5, learning_rate=0.03, max_depth=5, metric=multi_logloss, min_child_weight=10, min_split_gain=0.01, n_estimators=1000, num_class=14, objective=multiclass, reg_alpha=0.1, reg_lambda=0.1, silent=-1, subsample=0.9, verbose=-1 \n",
      "[CV]  boosting_type=gbdt, colsample_bytree=0.5, learning_rate=0.03, max_depth=5, metric=multi_logloss, min_child_weight=10, min_split_gain=0.01, n_estimators=1000, num_class=14, objective=multiclass, reg_alpha=0.1, reg_lambda=0.1, silent=-1, subsample=0.9, verbose=-1, score=0.7747747747747747, total=  13.7s\n",
      "[CV] boosting_type=gbdt, colsample_bytree=0.5, learning_rate=0.03, max_depth=5, metric=multi_logloss, min_child_weight=10, min_split_gain=0.01, n_estimators=1000, num_class=14, objective=multiclass, reg_alpha=0.1, reg_lambda=0.1, silent=-1, subsample=0.9, verbose=-1 \n",
      "[CV]  boosting_type=gbdt, colsample_bytree=0.5, learning_rate=0.03, max_depth=5, metric=multi_logloss, min_child_weight=10, min_split_gain=0.01, n_estimators=1000, num_class=14, objective=multiclass, reg_alpha=0.1, reg_lambda=0.1, silent=-1, subsample=0.9, verbose=-1, score=0.7577125658389767, total=  16.1s\n",
      "[CV] boosting_type=gbdt, colsample_bytree=0.5, learning_rate=0.03, max_depth=5, metric=multi_logloss, min_child_weight=10, min_split_gain=0.01, n_estimators=1000, num_class=14, objective=multiclass, reg_alpha=0.1, reg_lambda=1, silent=-1, subsample=0.9, verbose=-1 \n",
      "[CV]  boosting_type=gbdt, colsample_bytree=0.5, learning_rate=0.03, max_depth=5, metric=multi_logloss, min_child_weight=10, min_split_gain=0.01, n_estimators=1000, num_class=14, objective=multiclass, reg_alpha=0.1, reg_lambda=1, silent=-1, subsample=0.9, verbose=-1, score=0.7888059701492537, total=  14.7s\n",
      "[CV] boosting_type=gbdt, colsample_bytree=0.5, learning_rate=0.03, max_depth=5, metric=multi_logloss, min_child_weight=10, min_split_gain=0.01, n_estimators=1000, num_class=14, objective=multiclass, reg_alpha=0.1, reg_lambda=1, silent=-1, subsample=0.9, verbose=-1 \n",
      "[CV]  boosting_type=gbdt, colsample_bytree=0.5, learning_rate=0.03, max_depth=5, metric=multi_logloss, min_child_weight=10, min_split_gain=0.01, n_estimators=1000, num_class=14, objective=multiclass, reg_alpha=0.1, reg_lambda=1, silent=-1, subsample=0.9, verbose=-1, score=0.7760299625468164, total=  17.6s\n",
      "[CV] boosting_type=gbdt, colsample_bytree=0.5, learning_rate=0.03, max_depth=5, metric=multi_logloss, min_child_weight=10, min_split_gain=0.01, n_estimators=1000, num_class=14, objective=multiclass, reg_alpha=0.1, reg_lambda=1, silent=-1, subsample=0.9, verbose=-1 \n",
      "[CV]  boosting_type=gbdt, colsample_bytree=0.5, learning_rate=0.03, max_depth=5, metric=multi_logloss, min_child_weight=10, min_split_gain=0.01, n_estimators=1000, num_class=14, objective=multiclass, reg_alpha=0.1, reg_lambda=1, silent=-1, subsample=0.9, verbose=-1, score=0.7691154422788605, total=  15.8s\n",
      "[CV] boosting_type=gbdt, colsample_bytree=0.5, learning_rate=0.03, max_depth=5, metric=multi_logloss, min_child_weight=10, min_split_gain=0.01, n_estimators=1000, num_class=14, objective=multiclass, reg_alpha=0.1, reg_lambda=1, silent=-1, subsample=0.9, verbose=-1 \n",
      "[CV]  boosting_type=gbdt, colsample_bytree=0.5, learning_rate=0.03, max_depth=5, metric=multi_logloss, min_child_weight=10, min_split_gain=0.01, n_estimators=1000, num_class=14, objective=multiclass, reg_alpha=0.1, reg_lambda=1, silent=-1, subsample=0.9, verbose=-1, score=0.771021021021021, total=  17.9s\n",
      "[CV] boosting_type=gbdt, colsample_bytree=0.5, learning_rate=0.03, max_depth=5, metric=multi_logloss, min_child_weight=10, min_split_gain=0.01, n_estimators=1000, num_class=14, objective=multiclass, reg_alpha=0.1, reg_lambda=1, silent=-1, subsample=0.9, verbose=-1 \n",
      "[CV]  boosting_type=gbdt, colsample_bytree=0.5, learning_rate=0.03, max_depth=5, metric=multi_logloss, min_child_weight=10, min_split_gain=0.01, n_estimators=1000, num_class=14, objective=multiclass, reg_alpha=0.1, reg_lambda=1, silent=-1, subsample=0.9, verbose=-1, score=0.7599699021820918, total=  20.5s\n",
      "[CV] boosting_type=gbdt, colsample_bytree=0.5, learning_rate=0.03, max_depth=5, metric=multi_logloss, min_child_weight=10, min_split_gain=0.01, n_estimators=1000, num_class=14, objective=multiclass, reg_alpha=1, reg_lambda=0.01, silent=-1, subsample=0.9, verbose=-1 \n",
      "[CV]  boosting_type=gbdt, colsample_bytree=0.5, learning_rate=0.03, max_depth=5, metric=multi_logloss, min_child_weight=10, min_split_gain=0.01, n_estimators=1000, num_class=14, objective=multiclass, reg_alpha=1, reg_lambda=0.01, silent=-1, subsample=0.9, verbose=-1, score=0.7828358208955224, total=  17.1s\n",
      "[CV] boosting_type=gbdt, colsample_bytree=0.5, learning_rate=0.03, max_depth=5, metric=multi_logloss, min_child_weight=10, min_split_gain=0.01, n_estimators=1000, num_class=14, objective=multiclass, reg_alpha=1, reg_lambda=0.01, silent=-1, subsample=0.9, verbose=-1 \n",
      "[CV]  boosting_type=gbdt, colsample_bytree=0.5, learning_rate=0.03, max_depth=5, metric=multi_logloss, min_child_weight=10, min_split_gain=0.01, n_estimators=1000, num_class=14, objective=multiclass, reg_alpha=1, reg_lambda=0.01, silent=-1, subsample=0.9, verbose=-1, score=0.7760299625468164, total=  16.3s\n",
      "[CV] boosting_type=gbdt, colsample_bytree=0.5, learning_rate=0.03, max_depth=5, metric=multi_logloss, min_child_weight=10, min_split_gain=0.01, n_estimators=1000, num_class=14, objective=multiclass, reg_alpha=1, reg_lambda=0.01, silent=-1, subsample=0.9, verbose=-1 \n",
      "[CV]  boosting_type=gbdt, colsample_bytree=0.5, learning_rate=0.03, max_depth=5, metric=multi_logloss, min_child_weight=10, min_split_gain=0.01, n_estimators=1000, num_class=14, objective=multiclass, reg_alpha=1, reg_lambda=0.01, silent=-1, subsample=0.9, verbose=-1, score=0.7728635682158921, total=  18.6s\n",
      "[CV] boosting_type=gbdt, colsample_bytree=0.5, learning_rate=0.03, max_depth=5, metric=multi_logloss, min_child_weight=10, min_split_gain=0.01, n_estimators=1000, num_class=14, objective=multiclass, reg_alpha=1, reg_lambda=0.01, silent=-1, subsample=0.9, verbose=-1 \n",
      "[CV]  boosting_type=gbdt, colsample_bytree=0.5, learning_rate=0.03, max_depth=5, metric=multi_logloss, min_child_weight=10, min_split_gain=0.01, n_estimators=1000, num_class=14, objective=multiclass, reg_alpha=1, reg_lambda=0.01, silent=-1, subsample=0.9, verbose=-1, score=0.7785285285285285, total=  17.7s\n",
      "[CV] boosting_type=gbdt, colsample_bytree=0.5, learning_rate=0.03, max_depth=5, metric=multi_logloss, min_child_weight=10, min_split_gain=0.01, n_estimators=1000, num_class=14, objective=multiclass, reg_alpha=1, reg_lambda=0.01, silent=-1, subsample=0.9, verbose=-1 \n",
      "[CV]  boosting_type=gbdt, colsample_bytree=0.5, learning_rate=0.03, max_depth=5, metric=multi_logloss, min_child_weight=10, min_split_gain=0.01, n_estimators=1000, num_class=14, objective=multiclass, reg_alpha=1, reg_lambda=0.01, silent=-1, subsample=0.9, verbose=-1, score=0.7584650112866818, total=  17.8s\n",
      "[CV] boosting_type=gbdt, colsample_bytree=0.5, learning_rate=0.03, max_depth=5, metric=multi_logloss, min_child_weight=10, min_split_gain=0.01, n_estimators=1000, num_class=14, objective=multiclass, reg_alpha=1, reg_lambda=0.001, silent=-1, subsample=0.9, verbose=-1 \n",
      "[CV]  boosting_type=gbdt, colsample_bytree=0.5, learning_rate=0.03, max_depth=5, metric=multi_logloss, min_child_weight=10, min_split_gain=0.01, n_estimators=1000, num_class=14, objective=multiclass, reg_alpha=1, reg_lambda=0.001, silent=-1, subsample=0.9, verbose=-1, score=0.7805970149253731, total=  16.7s\n",
      "[CV] boosting_type=gbdt, colsample_bytree=0.5, learning_rate=0.03, max_depth=5, metric=multi_logloss, min_child_weight=10, min_split_gain=0.01, n_estimators=1000, num_class=14, objective=multiclass, reg_alpha=1, reg_lambda=0.001, silent=-1, subsample=0.9, verbose=-1 \n",
      "[CV]  boosting_type=gbdt, colsample_bytree=0.5, learning_rate=0.03, max_depth=5, metric=multi_logloss, min_child_weight=10, min_split_gain=0.01, n_estimators=1000, num_class=14, objective=multiclass, reg_alpha=1, reg_lambda=0.001, silent=-1, subsample=0.9, verbose=-1, score=0.7737827715355805, total=  18.7s\n",
      "[CV] boosting_type=gbdt, colsample_bytree=0.5, learning_rate=0.03, max_depth=5, metric=multi_logloss, min_child_weight=10, min_split_gain=0.01, n_estimators=1000, num_class=14, objective=multiclass, reg_alpha=1, reg_lambda=0.001, silent=-1, subsample=0.9, verbose=-1 \n",
      "[CV]  boosting_type=gbdt, colsample_bytree=0.5, learning_rate=0.03, max_depth=5, metric=multi_logloss, min_child_weight=10, min_split_gain=0.01, n_estimators=1000, num_class=14, objective=multiclass, reg_alpha=1, reg_lambda=0.001, silent=-1, subsample=0.9, verbose=-1, score=0.7781109445277361, total=  17.4s\n",
      "[CV] boosting_type=gbdt, colsample_bytree=0.5, learning_rate=0.03, max_depth=5, metric=multi_logloss, min_child_weight=10, min_split_gain=0.01, n_estimators=1000, num_class=14, objective=multiclass, reg_alpha=1, reg_lambda=0.001, silent=-1, subsample=0.9, verbose=-1 \n",
      "[CV]  boosting_type=gbdt, colsample_bytree=0.5, learning_rate=0.03, max_depth=5, metric=multi_logloss, min_child_weight=10, min_split_gain=0.01, n_estimators=1000, num_class=14, objective=multiclass, reg_alpha=1, reg_lambda=0.001, silent=-1, subsample=0.9, verbose=-1, score=0.7702702702702703, total=  15.9s\n",
      "[CV] boosting_type=gbdt, colsample_bytree=0.5, learning_rate=0.03, max_depth=5, metric=multi_logloss, min_child_weight=10, min_split_gain=0.01, n_estimators=1000, num_class=14, objective=multiclass, reg_alpha=1, reg_lambda=0.001, silent=-1, subsample=0.9, verbose=-1 \n",
      "[CV]  boosting_type=gbdt, colsample_bytree=0.5, learning_rate=0.03, max_depth=5, metric=multi_logloss, min_child_weight=10, min_split_gain=0.01, n_estimators=1000, num_class=14, objective=multiclass, reg_alpha=1, reg_lambda=0.001, silent=-1, subsample=0.9, verbose=-1, score=0.7539503386004515, total=  18.8s\n",
      "[CV] boosting_type=gbdt, colsample_bytree=0.5, learning_rate=0.03, max_depth=5, metric=multi_logloss, min_child_weight=10, min_split_gain=0.01, n_estimators=1000, num_class=14, objective=multiclass, reg_alpha=1, reg_lambda=0.1, silent=-1, subsample=0.9, verbose=-1 \n",
      "[CV]  boosting_type=gbdt, colsample_bytree=0.5, learning_rate=0.03, max_depth=5, metric=multi_logloss, min_child_weight=10, min_split_gain=0.01, n_estimators=1000, num_class=14, objective=multiclass, reg_alpha=1, reg_lambda=0.1, silent=-1, subsample=0.9, verbose=-1, score=0.7835820895522388, total=  17.7s\n",
      "[CV] boosting_type=gbdt, colsample_bytree=0.5, learning_rate=0.03, max_depth=5, metric=multi_logloss, min_child_weight=10, min_split_gain=0.01, n_estimators=1000, num_class=14, objective=multiclass, reg_alpha=1, reg_lambda=0.1, silent=-1, subsample=0.9, verbose=-1 \n",
      "[CV]  boosting_type=gbdt, colsample_bytree=0.5, learning_rate=0.03, max_depth=5, metric=multi_logloss, min_child_weight=10, min_split_gain=0.01, n_estimators=1000, num_class=14, objective=multiclass, reg_alpha=1, reg_lambda=0.1, silent=-1, subsample=0.9, verbose=-1, score=0.7737827715355805, total=  14.1s\n",
      "[CV] boosting_type=gbdt, colsample_bytree=0.5, learning_rate=0.03, max_depth=5, metric=multi_logloss, min_child_weight=10, min_split_gain=0.01, n_estimators=1000, num_class=14, objective=multiclass, reg_alpha=1, reg_lambda=0.1, silent=-1, subsample=0.9, verbose=-1 \n",
      "[CV]  boosting_type=gbdt, colsample_bytree=0.5, learning_rate=0.03, max_depth=5, metric=multi_logloss, min_child_weight=10, min_split_gain=0.01, n_estimators=1000, num_class=14, objective=multiclass, reg_alpha=1, reg_lambda=0.1, silent=-1, subsample=0.9, verbose=-1, score=0.7736131934032984, total=  15.9s\n",
      "[CV] boosting_type=gbdt, colsample_bytree=0.5, learning_rate=0.03, max_depth=5, metric=multi_logloss, min_child_weight=10, min_split_gain=0.01, n_estimators=1000, num_class=14, objective=multiclass, reg_alpha=1, reg_lambda=0.1, silent=-1, subsample=0.9, verbose=-1 \n",
      "[CV]  boosting_type=gbdt, colsample_bytree=0.5, learning_rate=0.03, max_depth=5, metric=multi_logloss, min_child_weight=10, min_split_gain=0.01, n_estimators=1000, num_class=14, objective=multiclass, reg_alpha=1, reg_lambda=0.1, silent=-1, subsample=0.9, verbose=-1, score=0.777027027027027, total=  17.1s\n",
      "[CV] boosting_type=gbdt, colsample_bytree=0.5, learning_rate=0.03, max_depth=5, metric=multi_logloss, min_child_weight=10, min_split_gain=0.01, n_estimators=1000, num_class=14, objective=multiclass, reg_alpha=1, reg_lambda=0.1, silent=-1, subsample=0.9, verbose=-1 \n",
      "[CV]  boosting_type=gbdt, colsample_bytree=0.5, learning_rate=0.03, max_depth=5, metric=multi_logloss, min_child_weight=10, min_split_gain=0.01, n_estimators=1000, num_class=14, objective=multiclass, reg_alpha=1, reg_lambda=0.1, silent=-1, subsample=0.9, verbose=-1, score=0.7516930022573364, total=  19.0s\n",
      "[CV] boosting_type=gbdt, colsample_bytree=0.5, learning_rate=0.03, max_depth=5, metric=multi_logloss, min_child_weight=10, min_split_gain=0.01, n_estimators=1000, num_class=14, objective=multiclass, reg_alpha=1, reg_lambda=1, silent=-1, subsample=0.9, verbose=-1 \n",
      "[CV]  boosting_type=gbdt, colsample_bytree=0.5, learning_rate=0.03, max_depth=5, metric=multi_logloss, min_child_weight=10, min_split_gain=0.01, n_estimators=1000, num_class=14, objective=multiclass, reg_alpha=1, reg_lambda=1, silent=-1, subsample=0.9, verbose=-1, score=0.7858208955223881, total=  18.1s\n",
      "[CV] boosting_type=gbdt, colsample_bytree=0.5, learning_rate=0.03, max_depth=5, metric=multi_logloss, min_child_weight=10, min_split_gain=0.01, n_estimators=1000, num_class=14, objective=multiclass, reg_alpha=1, reg_lambda=1, silent=-1, subsample=0.9, verbose=-1 \n",
      "[CV]  boosting_type=gbdt, colsample_bytree=0.5, learning_rate=0.03, max_depth=5, metric=multi_logloss, min_child_weight=10, min_split_gain=0.01, n_estimators=1000, num_class=14, objective=multiclass, reg_alpha=1, reg_lambda=1, silent=-1, subsample=0.9, verbose=-1, score=0.7752808988764045, total=  16.0s\n",
      "[CV] boosting_type=gbdt, colsample_bytree=0.5, learning_rate=0.03, max_depth=5, metric=multi_logloss, min_child_weight=10, min_split_gain=0.01, n_estimators=1000, num_class=14, objective=multiclass, reg_alpha=1, reg_lambda=1, silent=-1, subsample=0.9, verbose=-1 \n"
     ]
    }
   ],
   "source": [
    "grid = GridSearchCV(LGBMClassifier(), \n",
    "                    {\n",
    "    'boosting_type': ['gbdt'],\n",
    "    'objective': ['multiclass'],\n",
    "    'num_class': [14],\n",
    "    'metric': ['multi_logloss'],\n",
    "    'learning_rate': [0.03, 0.1],\n",
    "    'subsample':[.9],\n",
    "    'colsample_bytree': [0.5],\n",
    "    'reg_alpha': [.01, 0.001, 0.1, 1],\n",
    "    'reg_lambda': [.01, 0.001, 0.1, 1],\n",
    "    'min_split_gain': [0.01],\n",
    "    'min_child_weight': [10],\n",
    "    'n_estimators': [1000],\n",
    "    'silent': [-1],\n",
    "    'verbose': [-1],\n",
    "    'max_depth': [3,5,8]\n",
    "    }, cv=5, verbose=100\n",
    ")\n",
    "\n",
    "grid.fit(X_train, y_train.values.astype(np.int))"
   ]
  },
  {
   "cell_type": "code",
   "execution_count": null,
   "metadata": {},
   "outputs": [],
   "source": [
    "print(grid.best_params_)"
   ]
  },
  {
   "cell_type": "code",
   "execution_count": 23,
   "metadata": {},
   "outputs": [
    {
     "name": "stdout",
     "output_type": "stream",
     "text": [
      "Training until validation scores don't improve for 50 rounds.\n",
      "[100]\ttraining's multi_logloss: 0.544255\tvalid_1's multi_logloss: 0.769715\n",
      "[200]\ttraining's multi_logloss: 0.310562\tvalid_1's multi_logloss: 0.641509\n",
      "[300]\ttraining's multi_logloss: 0.206681\tvalid_1's multi_logloss: 0.615086\n",
      "[400]\ttraining's multi_logloss: 0.150204\tvalid_1's multi_logloss: 0.60715\n",
      "[500]\ttraining's multi_logloss: 0.113598\tvalid_1's multi_logloss: 0.605136\n",
      "Early stopping, best iteration is:\n",
      "[498]\ttraining's multi_logloss: 0.114151\tvalid_1's multi_logloss: 0.604982\n",
      "CPU times: user 14min 54s, sys: 1.94 s, total: 14min 56s\n",
      "Wall time: 23 s\n"
     ]
    },
    {
     "data": {
      "text/plain": [
       "LGBMClassifier(boosting_type='gbdt', class_weight=None, colsample_bytree=0.5,\n",
       "        importance_type='split', learning_rate=0.03, max_depth=7,\n",
       "        metric='multi_logloss', min_child_samples=20, min_child_weight=10,\n",
       "        min_split_gain=0.01, n_estimators=10000, n_jobs=-1, num_class=14,\n",
       "        num_leaves=120, objective='multiclass', random_state=None,\n",
       "        reg_alpha=0.01, reg_lambda=0.01, silent=-1, subsample=0.9,\n",
       "        subsample_for_bin=200000, subsample_freq=0, verbose=-1)"
      ]
     },
     "execution_count": 23,
     "metadata": {},
     "output_type": "execute_result"
    }
   ],
   "source": [
    "%%time\n",
    "lgb.fit(\n",
    "        X_train, y_train,\n",
    "        eval_set=[(X_train, y_train), (X_test, y_test)],\n",
    "        # eval_metric=lgb_multi_weighted_logloss,\n",
    "        verbose=100,\n",
    "        early_stopping_rounds=50,\n",
    "        #sample_weight=trn_y.map(weights)\n",
    "    )"
   ]
  },
  {
   "cell_type": "code",
   "execution_count": null,
   "metadata": {},
   "outputs": [],
   "source": [
    "lgb.predict(X_test)"
   ]
  },
  {
   "cell_type": "code",
   "execution_count": null,
   "metadata": {},
   "outputs": [],
   "source": [
    "lgb.score(X_test, y_test)"
   ]
  },
  {
   "cell_type": "code",
   "execution_count": null,
   "metadata": {},
   "outputs": [],
   "source": [
    "plot_feature_importances(lgb, X_test.columns)"
   ]
  },
  {
   "cell_type": "markdown",
   "metadata": {},
   "source": [
    "### Train model on tsfresh dataset"
   ]
  },
  {
   "cell_type": "code",
   "execution_count": null,
   "metadata": {},
   "outputs": [],
   "source": [
    "#TODO"
   ]
  },
  {
   "cell_type": "markdown",
   "metadata": {},
   "source": [
    "### Calculate feature imporatnce for selecting optimal tsfresh features"
   ]
  },
  {
   "cell_type": "code",
   "execution_count": null,
   "metadata": {},
   "outputs": [],
   "source": [
    "import seaborn as sns\n",
    "import matplotlib.pyplot as plt\n",
    "from scipy.stats import describe\n",
    "import tsfresh\n",
    "import pandas as pd"
   ]
  },
  {
   "cell_type": "code",
   "execution_count": null,
   "metadata": {},
   "outputs": [],
   "source": [
    "def to_tsfresh_format(feature_set: set, train_X: pd.DataFrame) -> dict:\n",
    "    \"\"\" Converts a set of features names into tsfresh-acceptable settings dict. \"\"\"\n",
    "    df_selected = train_X[list(feature_set)]\n",
    "    return tsfresh.feature_extraction.settings.from_columns(df_selected)\n",
    "\n",
    "def select_features_from_trained_model(model, train_X: pd.DataFrame, meta_columns: set, verbose=True) -> set:\n",
    "    \"\"\"\n",
    "    Extracts a set of relevant features from trained model.\n",
    "    Parameters:\n",
    "    - train_X should be the X used to train the model\n",
    "    - meta_columns should contain column names that will be excluded from the tsfresh selection (columns from metadata, not the time series)\n",
    "    \"\"\"\n",
    "    print(describe(model.feature_importances_))\n",
    "    features = pd.Series(model.feature_importances_, index=train_X.columns)\n",
    "    print(\"Most relevant features for the model:\", features.sort_values().tail(10))\n",
    "    # calculating how much data is lost based on minimal importance level\n",
    "    N_THRESHOLDS = 1000\n",
    "    select_crit = np.zeros(N_THRESHOLDS)\n",
    "    select_min = np.zeros(N_THRESHOLDS)\n",
    "    for i, q in enumerate(np.linspace(features.min(), features.max(), N_THRESHOLDS, endpoint=False)):\n",
    "        selected = features[features > q]\n",
    "        select_crit[i] = selected.min() * len(selected) / len(features)\n",
    "        select_min[i] = selected.min()\n",
    "    # choosing minimum importance level that maximizes (selected feature count * minimal selected feature importance)\n",
    "    min_importance = select_min[np.argmax(select_crit)]\n",
    "    selected_features = set(features[features > min_importance].index) - meta_columns\n",
    "    if verbose:\n",
    "        print(f\"Selected minimal importance: {min_importance}\", f\"Number of selected features: {len(selected_features)}\")\n",
    "        plt.plot(select_crit)\n",
    "        plt.show()\n",
    "    return selected_features, features"
   ]
  },
  {
   "cell_type": "code",
   "execution_count": null,
   "metadata": {},
   "outputs": [],
   "source": [
    "meta_columns = set(Dataset('../data/sets/base/').train_meta.columns)"
   ]
  },
  {
   "cell_type": "code",
   "execution_count": null,
   "metadata": {},
   "outputs": [],
   "source": [
    "xgb_fset, xgb_feature_importance = select_features_from_trained_model(model1, X, meta_columns)"
   ]
  },
  {
   "cell_type": "code",
   "execution_count": null,
   "metadata": {},
   "outputs": [],
   "source": [
    "skl_fset, skl_feature_importance = select_features_from_trained_model(model2, X, meta_columns)"
   ]
  },
  {
   "cell_type": "code",
   "execution_count": null,
   "metadata": {},
   "outputs": [],
   "source": [
    "important_for_both = xgb_fset & skl_fset"
   ]
  },
  {
   "cell_type": "code",
   "execution_count": null,
   "metadata": {},
   "outputs": [],
   "source": [
    "len(important_for_both)"
   ]
  },
  {
   "cell_type": "code",
   "execution_count": null,
   "metadata": {},
   "outputs": [],
   "source": [
    "common_dict = to_tsfresh_format(important_for_both, X)"
   ]
  },
  {
   "cell_type": "code",
   "execution_count": null,
   "metadata": {},
   "outputs": [],
   "source": [
    "type(common_dict)"
   ]
  },
  {
   "cell_type": "markdown",
   "metadata": {},
   "source": [
    "#### Decrease number of features\n",
    "There are some inconsistencies when it comes to which features are extracted for which series.\n",
    "We will limit extracted features to those relevant for most of the 6 series for now."
   ]
  },
  {
   "cell_type": "code",
   "execution_count": null,
   "metadata": {},
   "outputs": [],
   "source": [
    "keyset = set()\n",
    "for i in range(6):\n",
    "    keyset |= set(common_dict[str(i)].keys())"
   ]
  },
  {
   "cell_type": "code",
   "execution_count": null,
   "metadata": {},
   "outputs": [],
   "source": [
    "len(keyset)"
   ]
  },
  {
   "cell_type": "code",
   "execution_count": null,
   "metadata": {},
   "outputs": [],
   "source": [
    "feature_counts = dict()\n",
    "for feature in keyset:\n",
    "    for i in range(6):\n",
    "        for key in common_dict[str(i)].keys():\n",
    "            if feature in key:\n",
    "                try:\n",
    "                    feature_counts[feature] += 1\n",
    "                except KeyError:\n",
    "                    feature_counts[feature] = 1"
   ]
  },
  {
   "cell_type": "code",
   "execution_count": null,
   "metadata": {},
   "outputs": [],
   "source": [
    "feature_counts = pd.Series(feature_counts)"
   ]
  },
  {
   "cell_type": "code",
   "execution_count": null,
   "metadata": {},
   "outputs": [],
   "source": [
    "feature_counts.sort_values(ascending=False)"
   ]
  },
  {
   "cell_type": "code",
   "execution_count": null,
   "metadata": {},
   "outputs": [],
   "source": [
    "feature_counts.sort_values(ascending=False).mean()"
   ]
  },
  {
   "cell_type": "code",
   "execution_count": null,
   "metadata": {},
   "outputs": [],
   "source": [
    "final_features = set(feature_counts[feature_counts > 4].index)"
   ]
  },
  {
   "cell_type": "code",
   "execution_count": null,
   "metadata": {},
   "outputs": [],
   "source": [
    "final_features"
   ]
  },
  {
   "cell_type": "markdown",
   "metadata": {},
   "source": [
    "### Save feature dict for tsfresh feature generator to use"
   ]
  },
  {
   "cell_type": "code",
   "execution_count": null,
   "metadata": {},
   "outputs": [],
   "source": [
    "import pickle\n",
    "\n",
    "from tsfresh.feature_extraction.settings import ComprehensiveFCParameters"
   ]
  },
  {
   "cell_type": "code",
   "execution_count": null,
   "metadata": {},
   "outputs": [],
   "source": [
    "settings = ComprehensiveFCParameters()\n",
    "comprehensive_keys = set(settings.keys())\n",
    "for key in comprehensive_keys:\n",
    "    if key not in final_features:\n",
    "        del settings[key]"
   ]
  },
  {
   "cell_type": "code",
   "execution_count": null,
   "metadata": {},
   "outputs": [],
   "source": [
    "with open('../data/config/tsfresh-settings.pkl', 'wb+') as file:\n",
    "    pickle.dump(settings, file)"
   ]
  },
  {
   "cell_type": "code",
   "execution_count": null,
   "metadata": {},
   "outputs": [],
   "source": [
    "model1.classes_"
   ]
  },
  {
   "cell_type": "code",
   "execution_count": null,
   "metadata": {},
   "outputs": [],
   "source": []
  },
  {
   "cell_type": "code",
   "execution_count": null,
   "metadata": {},
   "outputs": [],
   "source": []
  },
  {
   "cell_type": "code",
   "execution_count": null,
   "metadata": {},
   "outputs": [],
   "source": []
  },
  {
   "cell_type": "code",
   "execution_count": null,
   "metadata": {},
   "outputs": [],
   "source": []
  }
 ],
 "metadata": {
  "kernelspec": {
   "display_name": "Python 3",
   "language": "python",
   "name": "python3"
  },
  "language_info": {
   "codemirror_mode": {
    "name": "ipython",
    "version": 3
   },
   "file_extension": ".py",
   "mimetype": "text/x-python",
   "name": "python",
   "nbconvert_exporter": "python",
   "pygments_lexer": "ipython3",
   "version": "3.6.7"
  }
 },
 "nbformat": 4,
 "nbformat_minor": 2
}
