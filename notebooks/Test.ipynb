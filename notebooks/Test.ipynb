{
 "cells": [
  {
   "cell_type": "code",
   "execution_count": 1,
   "metadata": {},
   "outputs": [],
   "source": [
    "import pandas as pd\n",
    "import numpy as np\n",
    "\n",
    "from datetime import datetime as dt\n",
    "from functools import partial, wraps\n",
    "\n",
    "import plasticc.lgbm_train as lgbm\n",
    "from plasticc.featurize import process_meta\n",
    "from plasticc.featurize import featurize\n",
    "from plasticc.lgbm_train import lgbm_modeling_cross_validation\n",
    "from plasticc.training import path_from_cv_score\n",
    "from plasticc.final import featurize_test, predict_test"
   ]
  },
  {
   "cell_type": "code",
   "execution_count": 2,
   "metadata": {},
   "outputs": [],
   "source": [
    "%load_ext autoreload\n",
    "%autoreload 2"
   ]
  },
  {
   "cell_type": "code",
   "execution_count": 3,
   "metadata": {},
   "outputs": [],
   "source": [
    "fcp = {\n",
    "    'flux': {\n",
    "        'longest_strike_above_mean': None,\n",
    "        'longest_strike_below_mean': None,\n",
    "        'mean_change': None,\n",
    "        'mean_abs_change': None,\n",
    "        'length': None,\n",
    "    },\n",
    "\n",
    "    'flux_by_flux_ratio_sq': {\n",
    "        'longest_strike_above_mean': None,\n",
    "        'longest_strike_below_mean': None,       \n",
    "    },\n",
    "\n",
    "    'flux_passband': {\n",
    "        'fft_coefficient': [\n",
    "                {'coeff': 0, 'attr': 'abs'}, \n",
    "                {'coeff': 1, 'attr': 'abs'}\n",
    "            ],\n",
    "        'kurtosis' : None, \n",
    "        'skewness' : None,\n",
    "    },\n",
    "\n",
    "    'mjd': {\n",
    "        'maximum': None, \n",
    "        'minimum': None,\n",
    "        'mean_change': None,\n",
    "        'mean_abs_change': None,\n",
    "    },\n",
    "}"
   ]
  },
  {
   "cell_type": "code",
   "execution_count": 4,
   "metadata": {},
   "outputs": [],
   "source": [
    "aggs = {\n",
    "    'flux': ['min', 'max', 'mean', 'median', 'std', 'skew'],\n",
    "    'flux_err': ['min', 'max', 'mean', 'median', 'std', 'skew'],\n",
    "    'detected': ['mean'],\n",
    "    'flux_ratio_sq':['sum', 'skew'],\n",
    "    'flux_by_flux_ratio_sq':['sum','skew'],\n",
    "}"
   ]
  },
  {
   "cell_type": "markdown",
   "metadata": {},
   "source": [
    "### Generate features for model training"
   ]
  },
  {
   "cell_type": "code",
   "execution_count": 5,
   "metadata": {},
   "outputs": [
    {
     "name": "stdout",
     "output_type": "stream",
     "text": [
      "CPU times: user 1.71 s, sys: 260 ms, total: 1.97 s\n",
      "Wall time: 1.58 s\n"
     ]
    }
   ],
   "source": [
    "%%time\n",
    "meta_train = process_meta('../data/raw/training_set_metadata.csv')\n",
    "train = pd.read_csv('../data/raw/training_set.csv')"
   ]
  },
  {
   "cell_type": "code",
   "execution_count": 6,
   "metadata": {
    "scrolled": true
   },
   "outputs": [
    {
     "name": "stderr",
     "output_type": "stream",
     "text": [
      "Feature Extraction: 100%|██████████| 20/20 [00:08<00:00,  2.50it/s]\n",
      "Feature Extraction: 100%|██████████| 20/20 [00:01<00:00,  9.15it/s]\n",
      "Feature Extraction: 100%|██████████| 20/20 [00:01<00:00, 15.68it/s]\n",
      "Feature Extraction: 100%|██████████| 20/20 [00:01<00:00, 19.81it/s]\n"
     ]
    },
    {
     "name": "stdout",
     "output_type": "stream",
     "text": [
      "CPU times: user 1min 5s, sys: 1.64 s, total: 1min 6s\n",
      "Wall time: 28.2 s\n"
     ]
    }
   ],
   "source": [
    "%%time\n",
    "X = featurize(train, meta_train, aggs, fcp, n_jobs=4)"
   ]
  },
  {
   "cell_type": "code",
   "execution_count": 7,
   "metadata": {},
   "outputs": [],
   "source": [
    "if 'target' in X:\n",
    "    y = X['target']\n",
    "    del X['target']\n",
    "else:\n",
    "    print(\"What the duck\")\n",
    "    3//0"
   ]
  },
  {
   "cell_type": "code",
   "execution_count": 8,
   "metadata": {},
   "outputs": [
    {
     "name": "stdout",
     "output_type": "stream",
     "text": [
      "Unique classes : 14, [6, 15, 16, 42, 52, 53, 62, 64, 65, 67, 88, 90, 92, 95]\n",
      "{6: 1, 15: 2, 16: 1, 42: 1, 52: 1, 53: 1, 62: 1, 64: 2, 65: 1, 67: 1, 88: 1, 90: 1, 92: 1, 95: 1}\n"
     ]
    }
   ],
   "source": [
    "# Taken from Giba's topic : https://www.kaggle.com/titericz\n",
    "# https://www.kaggle.com/c/PLAsTiCC-2018/discussion/67194\n",
    "# with Kyle Boone's post https://www.kaggle.com/kyleboone\n",
    "classes = sorted(y.unique())\n",
    "class_weights = {c: 1 for c in classes}\n",
    "class_weights.update({c:2 for c in [64, 15]})\n",
    "print('Unique classes : {}, {}'.format(len(classes), classes))\n",
    "print(class_weights)"
   ]
  },
  {
   "cell_type": "code",
   "execution_count": 9,
   "metadata": {},
   "outputs": [
    {
     "name": "stdout",
     "output_type": "stream",
     "text": [
      "CPU times: user 260 ms, sys: 0 ns, total: 260 ms\n",
      "Wall time: 13.1 ms\n"
     ]
    }
   ],
   "source": [
    "%%time\n",
    "train_mean = X.mean(axis=0)\n",
    "#train_mean.to_hdf('train_data.hdf5', 'data')\n",
    "# pd.set_option('display.max_rows', 500)\n",
    "#import pdb; pdb.set_trace()\n",
    "X.fillna(0, inplace=True)"
   ]
  },
  {
   "cell_type": "markdown",
   "metadata": {},
   "source": [
    "### Train model with CV"
   ]
  },
  {
   "cell_type": "code",
   "execution_count": 10,
   "metadata": {},
   "outputs": [],
   "source": [
    "eval_func = partial(\n",
    "    lgbm_modeling_cross_validation, \n",
    "    X=X, \n",
    "    y=y, \n",
    "    classes=classes, \n",
    "    class_weights=class_weights, \n",
    "    nr_fold=5, \n",
    "    random_state=1\n",
    ")"
   ]
  },
  {
   "cell_type": "code",
   "execution_count": 11,
   "metadata": {},
   "outputs": [],
   "source": [
    "lgbm_params = {\n",
    "    'device': 'cpu',\n",
    "    'objective': 'multiclass',\n",
    "    'num_class': 14,\n",
    "    'boosting_type': 'gbdt',\n",
    "    'n_jobs': 16,\n",
    "    'max_depth': 7,\n",
    "    'n_estimators': 1024,\n",
    "    'subsample_freq': 2,\n",
    "    'subsample_for_bin': 5000,\n",
    "    'min_data_per_group': 100,\n",
    "    'max_cat_to_onehot': 4,\n",
    "    'cat_l2': 1.0,\n",
    "    'cat_smooth': 59.5,\n",
    "    'max_cat_threshold': 32,\n",
    "    'metric_freq': 10,\n",
    "    'verbosity': -1,\n",
    "    'metric': 'multi_logloss',\n",
    "    'xgboost_dart_mode': False,\n",
    "    'uniform_drop': False,\n",
    "    'colsample_bytree': 0.5,\n",
    "    'drop_rate': 0.173,\n",
    "    'learning_rate': 0.0267,\n",
    "    'max_drop': 5,\n",
    "    'min_child_samples': 10,\n",
    "    'min_child_weight': 100.0,\n",
    "    'min_split_gain': 0.1,\n",
    "    'num_leaves': 7,\n",
    "    'reg_alpha': 0.1,\n",
    "    'reg_lambda': 0.00023,\n",
    "    'skip_drop': 0.44,\n",
    "    'subsample': 0.75\n",
    "}\n",
    "\n",
    "\n",
    "xgb_params = {\n",
    "    'objective': 'multiclass',\n",
    "    'booster': 'gbdtree',\n",
    "    'n_jobs': 16,\n",
    "    'max_depth': 7,\n",
    "    'n_estimators': 1024,\n",
    "    'verbosity': -1,\n",
    "    'colsample_bytree': 0.5,\n",
    "    'learning_rate': 0.0267,\n",
    "    'min_child_weight': 100.0,\n",
    "    'reg_alpha': 0.1,\n",
    "    'reg_lambda': 0.00023,\n",
    "    'subsample': 0.75\n",
    "}"
   ]
  },
  {
   "cell_type": "code",
   "execution_count": 12,
   "metadata": {},
   "outputs": [
    {
     "name": "stdout",
     "output_type": "stream",
     "text": [
      "Training until validation scores don't improve for 50 rounds.\n",
      "[100]\ttraining's multi_logloss: 0.717861\ttraining's wloss: 0.711255\tvalid_1's multi_logloss: 1.04954\tvalid_1's wloss: 0.884715\n",
      "[200]\ttraining's multi_logloss: 0.462997\ttraining's wloss: 0.453975\tvalid_1's multi_logloss: 0.824108\tvalid_1's wloss: 0.681722\n",
      "[300]\ttraining's multi_logloss: 0.363312\ttraining's wloss: 0.353314\tvalid_1's multi_logloss: 0.745845\tvalid_1's wloss: 0.62637\n",
      "[400]\ttraining's multi_logloss: 0.306263\ttraining's wloss: 0.296382\tvalid_1's multi_logloss: 0.708015\tvalid_1's wloss: 0.609718\n",
      "[500]\ttraining's multi_logloss: 0.265356\ttraining's wloss: 0.255547\tvalid_1's multi_logloss: 0.681448\tvalid_1's wloss: 0.603735\n",
      "Early stopping, best iteration is:\n",
      "[487]\ttraining's multi_logloss: 0.269997\ttraining's wloss: 0.260174\tvalid_1's multi_logloss: 0.683963\tvalid_1's wloss: 0.602947\n",
      "no 1-fold loss: 0.6029465964400008\n",
      "Training until validation scores don't improve for 50 rounds.\n",
      "[100]\ttraining's multi_logloss: 0.718033\ttraining's wloss: 0.71344\tvalid_1's multi_logloss: 1.05336\tvalid_1's wloss: 0.914997\n",
      "[200]\ttraining's multi_logloss: 0.464089\ttraining's wloss: 0.456606\tvalid_1's multi_logloss: 0.826431\tvalid_1's wloss: 0.718735\n",
      "[300]\ttraining's multi_logloss: 0.364042\ttraining's wloss: 0.355064\tvalid_1's multi_logloss: 0.748099\tvalid_1's wloss: 0.678268\n",
      "[400]\ttraining's multi_logloss: 0.30659\ttraining's wloss: 0.297519\tvalid_1's multi_logloss: 0.709933\tvalid_1's wloss: 0.667767\n",
      "[500]\ttraining's multi_logloss: 0.265163\ttraining's wloss: 0.256309\tvalid_1's multi_logloss: 0.682731\tvalid_1's wloss: 0.660367\n",
      "[600]\ttraining's multi_logloss: 0.232716\ttraining's wloss: 0.22405\tvalid_1's multi_logloss: 0.661588\tvalid_1's wloss: 0.658354\n",
      "Early stopping, best iteration is:\n",
      "[630]\ttraining's multi_logloss: 0.224172\ttraining's wloss: 0.21555\tvalid_1's multi_logloss: 0.656065\tvalid_1's wloss: 0.657663\n",
      "no 2-fold loss: 0.6576632568608693\n",
      "Training until validation scores don't improve for 50 rounds.\n",
      "[100]\ttraining's multi_logloss: 0.722103\ttraining's wloss: 0.71639\tvalid_1's multi_logloss: 1.05306\tvalid_1's wloss: 0.869743\n",
      "[200]\ttraining's multi_logloss: 0.466038\ttraining's wloss: 0.458304\tvalid_1's multi_logloss: 0.828423\tvalid_1's wloss: 0.65873\n",
      "[300]\ttraining's multi_logloss: 0.365256\ttraining's wloss: 0.356698\tvalid_1's multi_logloss: 0.745015\tvalid_1's wloss: 0.603083\n",
      "[400]\ttraining's multi_logloss: 0.307399\ttraining's wloss: 0.298816\tvalid_1's multi_logloss: 0.704574\tvalid_1's wloss: 0.585415\n",
      "[500]\ttraining's multi_logloss: 0.266017\ttraining's wloss: 0.257553\tvalid_1's multi_logloss: 0.675092\tvalid_1's wloss: 0.576009\n",
      "[600]\ttraining's multi_logloss: 0.23332\ttraining's wloss: 0.225051\tvalid_1's multi_logloss: 0.654709\tvalid_1's wloss: 0.572811\n",
      "Early stopping, best iteration is:\n",
      "[602]\ttraining's multi_logloss: 0.23272\ttraining's wloss: 0.224464\tvalid_1's multi_logloss: 0.654219\tvalid_1's wloss: 0.572747\n",
      "no 3-fold loss: 0.5727468682580279\n",
      "Training until validation scores don't improve for 50 rounds.\n",
      "[100]\ttraining's multi_logloss: 0.723202\ttraining's wloss: 0.717013\tvalid_1's multi_logloss: 1.05503\tvalid_1's wloss: 0.872003\n",
      "[200]\ttraining's multi_logloss: 0.466164\ttraining's wloss: 0.458141\tvalid_1's multi_logloss: 0.81837\tvalid_1's wloss: 0.662123\n",
      "[300]\ttraining's multi_logloss: 0.365608\ttraining's wloss: 0.356765\tvalid_1's multi_logloss: 0.735424\tvalid_1's wloss: 0.612285\n",
      "[400]\ttraining's multi_logloss: 0.30711\ttraining's wloss: 0.298308\tvalid_1's multi_logloss: 0.693554\tvalid_1's wloss: 0.598057\n",
      "[500]\ttraining's multi_logloss: 0.265469\ttraining's wloss: 0.256679\tvalid_1's multi_logloss: 0.666157\tvalid_1's wloss: 0.592094\n",
      "Early stopping, best iteration is:\n",
      "[534]\ttraining's multi_logloss: 0.253578\ttraining's wloss: 0.244962\tvalid_1's multi_logloss: 0.659237\tvalid_1's wloss: 0.591284\n",
      "no 4-fold loss: 0.5912835268184756\n",
      "Training until validation scores don't improve for 50 rounds.\n",
      "[100]\ttraining's multi_logloss: 0.717304\ttraining's wloss: 0.710314\tvalid_1's multi_logloss: 1.05371\tvalid_1's wloss: 0.905819\n",
      "[200]\ttraining's multi_logloss: 0.461831\ttraining's wloss: 0.45339\tvalid_1's multi_logloss: 0.818324\tvalid_1's wloss: 0.701226\n",
      "[300]\ttraining's multi_logloss: 0.363595\ttraining's wloss: 0.354418\tvalid_1's multi_logloss: 0.738184\tvalid_1's wloss: 0.651592\n",
      "[400]\ttraining's multi_logloss: 0.308013\ttraining's wloss: 0.298417\tvalid_1's multi_logloss: 0.69583\tvalid_1's wloss: 0.635022\n",
      "[500]\ttraining's multi_logloss: 0.267209\ttraining's wloss: 0.257964\tvalid_1's multi_logloss: 0.665902\tvalid_1's wloss: 0.626954\n",
      "[600]\ttraining's multi_logloss: 0.235164\ttraining's wloss: 0.226246\tvalid_1's multi_logloss: 0.643631\tvalid_1's wloss: 0.623008\n",
      "[700]\ttraining's multi_logloss: 0.208867\ttraining's wloss: 0.200403\tvalid_1's multi_logloss: 0.624433\tvalid_1's wloss: 0.621843\n",
      "Early stopping, best iteration is:\n",
      "[701]\ttraining's multi_logloss: 0.208637\ttraining's wloss: 0.200172\tvalid_1's multi_logloss: 0.624194\tvalid_1's wloss: 0.621841\n",
      "no 5-fold loss: 0.6218410449070875\n",
      "MULTI WEIGHTED LOG LOSS: 0.60924\n",
      "CPU times: user 11min 33s, sys: 140 ms, total: 11min 33s\n",
      "Wall time: 43.3 s\n"
     ]
    }
   ],
   "source": [
    "%%time\n",
    "# modeling from CV\n",
    "clfs, score, importances = eval_func(lgbm_params)"
   ]
  },
  {
   "cell_type": "code",
   "execution_count": 13,
   "metadata": {},
   "outputs": [
    {
     "data": {
      "text/html": [
       "<div>\n",
       "<style scoped>\n",
       "    .dataframe tbody tr th:only-of-type {\n",
       "        vertical-align: middle;\n",
       "    }\n",
       "\n",
       "    .dataframe tbody tr th {\n",
       "        vertical-align: top;\n",
       "    }\n",
       "\n",
       "    .dataframe thead th {\n",
       "        text-align: right;\n",
       "    }\n",
       "</style>\n",
       "<table border=\"1\" class=\"dataframe\">\n",
       "  <thead>\n",
       "    <tr style=\"text-align: right;\">\n",
       "      <th></th>\n",
       "      <th>feature</th>\n",
       "      <th>gain</th>\n",
       "      <th>fold</th>\n",
       "      <th>mean_gain</th>\n",
       "    </tr>\n",
       "  </thead>\n",
       "  <tbody>\n",
       "    <tr>\n",
       "      <th>60</th>\n",
       "      <td>hostgal_specz</td>\n",
       "      <td>2648</td>\n",
       "      <td>1</td>\n",
       "      <td>2844.8</td>\n",
       "    </tr>\n",
       "    <tr>\n",
       "      <th>60</th>\n",
       "      <td>hostgal_specz</td>\n",
       "      <td>3082</td>\n",
       "      <td>5</td>\n",
       "      <td>2844.8</td>\n",
       "    </tr>\n",
       "    <tr>\n",
       "      <th>60</th>\n",
       "      <td>hostgal_specz</td>\n",
       "      <td>2875</td>\n",
       "      <td>3</td>\n",
       "      <td>2844.8</td>\n",
       "    </tr>\n",
       "    <tr>\n",
       "      <th>60</th>\n",
       "      <td>hostgal_specz</td>\n",
       "      <td>2747</td>\n",
       "      <td>4</td>\n",
       "      <td>2844.8</td>\n",
       "    </tr>\n",
       "    <tr>\n",
       "      <th>60</th>\n",
       "      <td>hostgal_specz</td>\n",
       "      <td>2872</td>\n",
       "      <td>2</td>\n",
       "      <td>2844.8</td>\n",
       "    </tr>\n",
       "    <tr>\n",
       "      <th>54</th>\n",
       "      <td>mjd_diff_det</td>\n",
       "      <td>1727</td>\n",
       "      <td>3</td>\n",
       "      <td>1659.4</td>\n",
       "    </tr>\n",
       "    <tr>\n",
       "      <th>54</th>\n",
       "      <td>mjd_diff_det</td>\n",
       "      <td>1468</td>\n",
       "      <td>1</td>\n",
       "      <td>1659.4</td>\n",
       "    </tr>\n",
       "    <tr>\n",
       "      <th>54</th>\n",
       "      <td>mjd_diff_det</td>\n",
       "      <td>1863</td>\n",
       "      <td>5</td>\n",
       "      <td>1659.4</td>\n",
       "    </tr>\n",
       "    <tr>\n",
       "      <th>54</th>\n",
       "      <td>mjd_diff_det</td>\n",
       "      <td>1634</td>\n",
       "      <td>2</td>\n",
       "      <td>1659.4</td>\n",
       "    </tr>\n",
       "    <tr>\n",
       "      <th>54</th>\n",
       "      <td>mjd_diff_det</td>\n",
       "      <td>1605</td>\n",
       "      <td>4</td>\n",
       "      <td>1659.4</td>\n",
       "    </tr>\n",
       "    <tr>\n",
       "      <th>3</th>\n",
       "      <td>flux_median</td>\n",
       "      <td>959</td>\n",
       "      <td>4</td>\n",
       "      <td>939.4</td>\n",
       "    </tr>\n",
       "    <tr>\n",
       "      <th>3</th>\n",
       "      <td>flux_median</td>\n",
       "      <td>1019</td>\n",
       "      <td>5</td>\n",
       "      <td>939.4</td>\n",
       "    </tr>\n",
       "    <tr>\n",
       "      <th>3</th>\n",
       "      <td>flux_median</td>\n",
       "      <td>1004</td>\n",
       "      <td>2</td>\n",
       "      <td>939.4</td>\n",
       "    </tr>\n",
       "    <tr>\n",
       "      <th>3</th>\n",
       "      <td>flux_median</td>\n",
       "      <td>811</td>\n",
       "      <td>1</td>\n",
       "      <td>939.4</td>\n",
       "    </tr>\n",
       "    <tr>\n",
       "      <th>3</th>\n",
       "      <td>flux_median</td>\n",
       "      <td>904</td>\n",
       "      <td>3</td>\n",
       "      <td>939.4</td>\n",
       "    </tr>\n",
       "  </tbody>\n",
       "</table>\n",
       "</div>"
      ],
      "text/plain": [
       "          feature  gain  fold  mean_gain\n",
       "60  hostgal_specz  2648     1     2844.8\n",
       "60  hostgal_specz  3082     5     2844.8\n",
       "60  hostgal_specz  2875     3     2844.8\n",
       "60  hostgal_specz  2747     4     2844.8\n",
       "60  hostgal_specz  2872     2     2844.8\n",
       "54   mjd_diff_det  1727     3     1659.4\n",
       "54   mjd_diff_det  1468     1     1659.4\n",
       "54   mjd_diff_det  1863     5     1659.4\n",
       "54   mjd_diff_det  1634     2     1659.4\n",
       "54   mjd_diff_det  1605     4     1659.4\n",
       "3     flux_median   959     4      939.4\n",
       "3     flux_median  1019     5      939.4\n",
       "3     flux_median  1004     2      939.4\n",
       "3     flux_median   811     1      939.4\n",
       "3     flux_median   904     3      939.4"
      ]
     },
     "execution_count": 13,
     "metadata": {},
     "output_type": "execute_result"
    }
   ],
   "source": [
    "importances.sort_values(by='mean_gain', ascending=False).head(15)"
   ]
  },
  {
   "cell_type": "code",
   "execution_count": 14,
   "metadata": {},
   "outputs": [],
   "source": [
    "submission_file_path = path_from_cv_score(score)"
   ]
  },
  {
   "cell_type": "markdown",
   "metadata": {},
   "source": [
    "### Test set features"
   ]
  },
  {
   "cell_type": "code",
   "execution_count": 15,
   "metadata": {},
   "outputs": [
    {
     "data": {
      "text/plain": [
       "4536532"
      ]
     },
     "execution_count": 15,
     "metadata": {},
     "output_type": "execute_result"
    }
   ],
   "source": [
    "chunk_size_one_100 = 453653105 // 100 + 1\n",
    "# chunk_size_one_100 = 1000001 // 100 + 1\n",
    "chunk_size_one_100"
   ]
  },
  {
   "cell_type": "code",
   "execution_count": null,
   "metadata": {},
   "outputs": [],
   "source": [
    "%%time\n",
    "# should take 100x (time after 1st iteration)\n",
    "featurize_test(\n",
    "    featurize_configs={'aggs': aggs, 'fcp': fcp}, \n",
    "    n_jobs=4,\n",
    "    meta_path='../data/raw/test_set_metadata.csv',\n",
    "    test_path='../data/raw/test_set.csv',\n",
    "    output_path='../data/feature-selection/test-all-feat-from-kernel-repro.csv',\n",
    "    id_colname='object_id',\n",
    "    chunks=chunk_size_one_100,  # alternatively: 5000000\n",
    ")"
   ]
  },
  {
   "cell_type": "markdown",
   "metadata": {},
   "source": [
    "### Test set predictions"
   ]
  },
  {
   "cell_type": "code",
   "execution_count": 16,
   "metadata": {},
   "outputs": [
    {
     "name": "stdout",
     "output_type": "stream",
     "text": [
      "Loading data...\n"
     ]
    },
    {
     "name": "stderr",
     "output_type": "stream",
     "text": [
      "  0%|          | 0/5 [00:00<?, ?it/s]"
     ]
    },
    {
     "name": "stdout",
     "output_type": "stream",
     "text": [
      "Generating predictions...\n"
     ]
    },
    {
     "name": "stderr",
     "output_type": "stream",
     "text": [
      "100%|██████████| 5/5 [07:24<00:00, 88.84s/it]\n"
     ]
    },
    {
     "name": "stdout",
     "output_type": "stream",
     "text": [
      "Postprocessing...\n",
      "Submission shape before grouping: (3492891, 16)\n",
      "Submission shape after grouping: (3492890, 15)\n",
      "Submission shape after postprocessing: (3492890, 15)\n",
      "Validating submission file...\n",
      "Saving submission...\n",
      "Submission saved to f/home/kk385830/astronomical-classification/submissions/subm_0.609236_2018-12-10-14-21\n",
      "CPU times: user 1h 55min 4s, sys: 1min 18s, total: 1h 56min 23s\n",
      "Wall time: 9min 38s\n"
     ]
    }
   ],
   "source": [
    "%%time\n",
    "submission = predict_test(\n",
    "    clfs=clfs, \n",
    "    feature_colnames=X.drop(columns='object_id').columns, \n",
    "    id_colname='object_id', \n",
    "    input_path='../data/feature-selection/test-all-feat-from-kernel-repro.csv', \n",
    "    output_path=submission_file_path, \n",
    "    verbose=True\n",
    ")"
   ]
  },
  {
   "cell_type": "code",
   "execution_count": 17,
   "metadata": {},
   "outputs": [
    {
     "data": {
      "text/html": [
       "<div>\n",
       "<style scoped>\n",
       "    .dataframe tbody tr th:only-of-type {\n",
       "        vertical-align: middle;\n",
       "    }\n",
       "\n",
       "    .dataframe tbody tr th {\n",
       "        vertical-align: top;\n",
       "    }\n",
       "\n",
       "    .dataframe thead th {\n",
       "        text-align: right;\n",
       "    }\n",
       "</style>\n",
       "<table border=\"1\" class=\"dataframe\">\n",
       "  <thead>\n",
       "    <tr style=\"text-align: right;\">\n",
       "      <th></th>\n",
       "      <th>class_6</th>\n",
       "      <th>class_15</th>\n",
       "      <th>class_16</th>\n",
       "      <th>class_42</th>\n",
       "      <th>class_52</th>\n",
       "      <th>class_53</th>\n",
       "      <th>class_62</th>\n",
       "      <th>class_64</th>\n",
       "      <th>class_65</th>\n",
       "      <th>class_67</th>\n",
       "      <th>class_88</th>\n",
       "      <th>class_90</th>\n",
       "      <th>class_92</th>\n",
       "      <th>class_95</th>\n",
       "      <th>class_99</th>\n",
       "    </tr>\n",
       "    <tr>\n",
       "      <th>object_id</th>\n",
       "      <th></th>\n",
       "      <th></th>\n",
       "      <th></th>\n",
       "      <th></th>\n",
       "      <th></th>\n",
       "      <th></th>\n",
       "      <th></th>\n",
       "      <th></th>\n",
       "      <th></th>\n",
       "      <th></th>\n",
       "      <th></th>\n",
       "      <th></th>\n",
       "      <th></th>\n",
       "      <th></th>\n",
       "      <th></th>\n",
       "    </tr>\n",
       "  </thead>\n",
       "  <tbody>\n",
       "    <tr>\n",
       "      <th>13</th>\n",
       "      <td>0.000305</td>\n",
       "      <td>0.002167</td>\n",
       "      <td>0.000222</td>\n",
       "      <td>0.378942</td>\n",
       "      <td>0.260280</td>\n",
       "      <td>0.000546</td>\n",
       "      <td>0.091976</td>\n",
       "      <td>0.000201</td>\n",
       "      <td>0.000235</td>\n",
       "      <td>0.002533</td>\n",
       "      <td>0.000457</td>\n",
       "      <td>0.132778</td>\n",
       "      <td>0.000239</td>\n",
       "      <td>0.000280</td>\n",
       "      <td>0.128839</td>\n",
       "    </tr>\n",
       "    <tr>\n",
       "      <th>14</th>\n",
       "      <td>0.019575</td>\n",
       "      <td>0.037175</td>\n",
       "      <td>0.005286</td>\n",
       "      <td>0.166122</td>\n",
       "      <td>0.125653</td>\n",
       "      <td>0.002729</td>\n",
       "      <td>0.152813</td>\n",
       "      <td>0.011442</td>\n",
       "      <td>0.213547</td>\n",
       "      <td>0.031640</td>\n",
       "      <td>0.003380</td>\n",
       "      <td>0.082647</td>\n",
       "      <td>0.002471</td>\n",
       "      <td>0.003202</td>\n",
       "      <td>0.142318</td>\n",
       "    </tr>\n",
       "    <tr>\n",
       "      <th>17</th>\n",
       "      <td>0.020874</td>\n",
       "      <td>0.014936</td>\n",
       "      <td>0.004936</td>\n",
       "      <td>0.106407</td>\n",
       "      <td>0.126020</td>\n",
       "      <td>0.002214</td>\n",
       "      <td>0.068507</td>\n",
       "      <td>0.070296</td>\n",
       "      <td>0.062055</td>\n",
       "      <td>0.141210</td>\n",
       "      <td>0.006181</td>\n",
       "      <td>0.229678</td>\n",
       "      <td>0.001196</td>\n",
       "      <td>0.002432</td>\n",
       "      <td>0.143058</td>\n",
       "    </tr>\n",
       "    <tr>\n",
       "      <th>23</th>\n",
       "      <td>0.023610</td>\n",
       "      <td>0.006495</td>\n",
       "      <td>0.007940</td>\n",
       "      <td>0.104016</td>\n",
       "      <td>0.055123</td>\n",
       "      <td>0.001947</td>\n",
       "      <td>0.139985</td>\n",
       "      <td>0.101690</td>\n",
       "      <td>0.096011</td>\n",
       "      <td>0.228287</td>\n",
       "      <td>0.001821</td>\n",
       "      <td>0.083863</td>\n",
       "      <td>0.000935</td>\n",
       "      <td>0.005069</td>\n",
       "      <td>0.143208</td>\n",
       "    </tr>\n",
       "    <tr>\n",
       "      <th>34</th>\n",
       "      <td>0.000393</td>\n",
       "      <td>0.004274</td>\n",
       "      <td>0.000247</td>\n",
       "      <td>0.106649</td>\n",
       "      <td>0.084917</td>\n",
       "      <td>0.000521</td>\n",
       "      <td>0.021107</td>\n",
       "      <td>0.000271</td>\n",
       "      <td>0.000460</td>\n",
       "      <td>0.004701</td>\n",
       "      <td>0.000495</td>\n",
       "      <td>0.689042</td>\n",
       "      <td>0.000207</td>\n",
       "      <td>0.000524</td>\n",
       "      <td>0.086191</td>\n",
       "    </tr>\n",
       "  </tbody>\n",
       "</table>\n",
       "</div>"
      ],
      "text/plain": [
       "            class_6  class_15  class_16  class_42  class_52  class_53  \\\n",
       "object_id                                                               \n",
       "13         0.000305  0.002167  0.000222  0.378942  0.260280  0.000546   \n",
       "14         0.019575  0.037175  0.005286  0.166122  0.125653  0.002729   \n",
       "17         0.020874  0.014936  0.004936  0.106407  0.126020  0.002214   \n",
       "23         0.023610  0.006495  0.007940  0.104016  0.055123  0.001947   \n",
       "34         0.000393  0.004274  0.000247  0.106649  0.084917  0.000521   \n",
       "\n",
       "           class_62  class_64  class_65  class_67  class_88  class_90  \\\n",
       "object_id                                                               \n",
       "13         0.091976  0.000201  0.000235  0.002533  0.000457  0.132778   \n",
       "14         0.152813  0.011442  0.213547  0.031640  0.003380  0.082647   \n",
       "17         0.068507  0.070296  0.062055  0.141210  0.006181  0.229678   \n",
       "23         0.139985  0.101690  0.096011  0.228287  0.001821  0.083863   \n",
       "34         0.021107  0.000271  0.000460  0.004701  0.000495  0.689042   \n",
       "\n",
       "           class_92  class_95  class_99  \n",
       "object_id                                \n",
       "13         0.000239  0.000280  0.128839  \n",
       "14         0.002471  0.003202  0.142318  \n",
       "17         0.001196  0.002432  0.143058  \n",
       "23         0.000935  0.005069  0.143208  \n",
       "34         0.000207  0.000524  0.086191  "
      ]
     },
     "execution_count": 17,
     "metadata": {},
     "output_type": "execute_result"
    }
   ],
   "source": [
    "submission.head()"
   ]
  }
 ],
 "metadata": {
  "kernelspec": {
   "display_name": "Python 3",
   "language": "python",
   "name": "python3"
  },
  "language_info": {
   "codemirror_mode": {
    "name": "ipython",
    "version": 3
   },
   "file_extension": ".py",
   "mimetype": "text/x-python",
   "name": "python",
   "nbconvert_exporter": "python",
   "pygments_lexer": "ipython3",
   "version": "3.6.7"
  }
 },
 "nbformat": 4,
 "nbformat_minor": 2
}
