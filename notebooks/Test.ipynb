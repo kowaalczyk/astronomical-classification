{
 "cells": [
  {
   "cell_type": "code",
   "execution_count": 1,
   "metadata": {},
   "outputs": [],
   "source": [
    "import pandas as pd\n",
    "import numpy as np\n",
    "\n",
    "from datetime import datetime as dt\n",
    "from functools import partial, wraps\n",
    "\n",
    "import plasticc.xgb_train as xgb\n",
    "import plasticc.lgbm_train as lgbm\n",
    "from plasticc.featurize import process_meta\n",
    "from plasticc.featurize import featurize\n",
    "from plasticc.lgbm_train import lgbm_modeling_cross_validation\n",
    "from plasticc.xgb_train import xgb_modeling_cross_validation\n",
    "from plasticc.final import featurize_test, predict_test"
   ]
  },
  {
   "cell_type": "code",
   "execution_count": 2,
   "metadata": {},
   "outputs": [],
   "source": [
    "%load_ext autoreload\n",
    "%autoreload 2"
   ]
  },
  {
   "cell_type": "code",
   "execution_count": 3,
   "metadata": {},
   "outputs": [],
   "source": [
    "fcp = {\n",
    "    'flux': {\n",
    "        'longest_strike_above_mean': None,\n",
    "        'longest_strike_below_mean': None,\n",
    "        'mean_change': None,\n",
    "        'mean_abs_change': None,\n",
    "        'length': None,\n",
    "    },\n",
    "\n",
    "    'flux_by_flux_ratio_sq': {\n",
    "        'longest_strike_above_mean': None,\n",
    "        'longest_strike_below_mean': None,       \n",
    "    },\n",
    "\n",
    "    'flux_passband': {\n",
    "        'fft_coefficient': [\n",
    "                {'coeff': 0, 'attr': 'abs'}, \n",
    "                {'coeff': 1, 'attr': 'abs'}\n",
    "            ],\n",
    "        'kurtosis' : None, \n",
    "        'skewness' : None,\n",
    "    },\n",
    "\n",
    "    'mjd': {\n",
    "        'maximum': None, \n",
    "        'minimum': None,\n",
    "        'mean_change': None,\n",
    "        'mean_abs_change': None,\n",
    "    },\n",
    "}"
   ]
  },
  {
   "cell_type": "code",
   "execution_count": 4,
   "metadata": {},
   "outputs": [],
   "source": [
    "aggs = {\n",
    "    'flux': ['min', 'max', 'mean', 'median', 'std', 'skew'],\n",
    "    'flux_err': ['min', 'max', 'mean', 'median', 'std', 'skew'],\n",
    "    'detected': ['mean'],\n",
    "    'flux_ratio_sq':['sum', 'skew'],\n",
    "    'flux_by_flux_ratio_sq':['sum','skew'],\n",
    "}"
   ]
  },
  {
   "cell_type": "markdown",
   "metadata": {},
   "source": [
    "## Data processing"
   ]
  },
  {
   "cell_type": "code",
   "execution_count": 5,
   "metadata": {},
   "outputs": [
    {
     "name": "stdout",
     "output_type": "stream",
     "text": [
      "CPU times: user 1.05 s, sys: 95.6 ms, total: 1.15 s\n",
      "Wall time: 1.15 s\n"
     ]
    }
   ],
   "source": [
    "%%time\n",
    "meta_train = process_meta('../data/raw/training_set_metadata.csv')\n",
    "train = pd.read_csv('../data/raw/training_set.csv')"
   ]
  },
  {
   "cell_type": "code",
   "execution_count": 6,
   "metadata": {
    "scrolled": true
   },
   "outputs": [
    {
     "name": "stderr",
     "output_type": "stream",
     "text": [
      "Feature Extraction: 100%|██████████| 20/20 [00:06<00:00,  3.73it/s]\n",
      "Feature Extraction: 100%|██████████| 20/20 [00:01<00:00, 17.24it/s]\n",
      "Feature Extraction: 100%|██████████| 20/20 [00:00<00:00, 20.49it/s]\n",
      "Feature Extraction: 100%|██████████| 20/20 [00:00<00:00, 34.98it/s]\n"
     ]
    },
    {
     "name": "stdout",
     "output_type": "stream",
     "text": [
      "CPU times: user 16.7 s, sys: 916 ms, total: 17.6 s\n",
      "Wall time: 20.5 s\n"
     ]
    }
   ],
   "source": [
    "%%time\n",
    "X = featurize(train, meta_train, aggs, fcp, n_jobs=4)\n",
    "X_backup = X.copy()"
   ]
  },
  {
   "cell_type": "code",
   "execution_count": 7,
   "metadata": {},
   "outputs": [],
   "source": [
    "if 'target' in X:\n",
    "    y = X['target']\n",
    "    del X['target']\n",
    "else:\n",
    "    print(\"What the duck\")\n",
    "    3//0"
   ]
  },
  {
   "cell_type": "code",
   "execution_count": 8,
   "metadata": {},
   "outputs": [
    {
     "name": "stdout",
     "output_type": "stream",
     "text": [
      "Unique classes : 14, [6, 15, 16, 42, 52, 53, 62, 64, 65, 67, 88, 90, 92, 95]\n",
      "{6: 1, 15: 2, 16: 1, 42: 1, 52: 1, 53: 1, 62: 1, 64: 2, 65: 1, 67: 1, 88: 1, 90: 1, 92: 1, 95: 1}\n"
     ]
    }
   ],
   "source": [
    "# Taken from Giba's topic : https://www.kaggle.com/titericz\n",
    "# https://www.kaggle.com/c/PLAsTiCC-2018/discussion/67194\n",
    "# with Kyle Boone's post https://www.kaggle.com/kyleboone\n",
    "classes = sorted(y.unique())\n",
    "class_weights = {c: 1 for c in classes}\n",
    "class_weights.update({c:2 for c in [64, 15]})\n",
    "print('Unique classes : {}, {}'.format(len(classes), classes))\n",
    "print(class_weights)"
   ]
  },
  {
   "cell_type": "code",
   "execution_count": 9,
   "metadata": {},
   "outputs": [
    {
     "name": "stdout",
     "output_type": "stream",
     "text": [
      "CPU times: user 2.64 ms, sys: 3.23 ms, total: 5.87 ms\n",
      "Wall time: 5.49 ms\n"
     ]
    }
   ],
   "source": [
    "%%time\n",
    "train_mean = X.mean(axis=0)\n",
    "#train_mean.to_hdf('train_data.hdf5', 'data')\n",
    "pd.set_option('display.max_rows', 500)\n",
    "#import pdb; pdb.set_trace()\n",
    "X.fillna(0, inplace=True)"
   ]
  },
  {
   "cell_type": "markdown",
   "metadata": {},
   "source": [
    "## Train model with CV"
   ]
  },
  {
   "cell_type": "code",
   "execution_count": 10,
   "metadata": {},
   "outputs": [],
   "source": [
    "eval_func = partial(\n",
    "    lgbm_modeling_cross_validation, \n",
    "    X=X, \n",
    "    y=y, \n",
    "    classes=classes, \n",
    "    class_weights=class_weights, \n",
    "    nr_fold=5, \n",
    "    random_state=1\n",
    ")"
   ]
  },
  {
   "cell_type": "code",
   "execution_count": 11,
   "metadata": {},
   "outputs": [],
   "source": [
    "lgbm_params = {\n",
    "    'device': 'cpu',\n",
    "    'objective': 'multiclass',\n",
    "    'num_class': 14,\n",
    "    'boosting_type': 'gbdt',\n",
    "    'n_jobs': 16,\n",
    "    'max_depth': 7,\n",
    "    'n_estimators': 1024,\n",
    "    'subsample_freq': 2,\n",
    "    'subsample_for_bin': 5000,\n",
    "    'min_data_per_group': 100,\n",
    "    'max_cat_to_onehot': 4,\n",
    "    'cat_l2': 1.0,\n",
    "    'cat_smooth': 59.5,\n",
    "    'max_cat_threshold': 32,\n",
    "    'metric_freq': 10,\n",
    "    'verbosity': -1,\n",
    "    'metric': 'multi_logloss',\n",
    "    'xgboost_dart_mode': False,\n",
    "    'uniform_drop': False,\n",
    "    'colsample_bytree': 0.5,\n",
    "    'drop_rate': 0.173,\n",
    "    'learning_rate': 0.0267,\n",
    "    'max_drop': 5,\n",
    "    'min_child_samples': 10,\n",
    "    'min_child_weight': 100.0,\n",
    "    'min_split_gain': 0.1,\n",
    "    'num_leaves': 7,\n",
    "    'reg_alpha': 0.1,\n",
    "    'reg_lambda': 0.00023,\n",
    "    'skip_drop': 0.44,\n",
    "    'subsample': 0.75\n",
    "}\n",
    "\n",
    "\n",
    "xgb_params = {\n",
    "    'objective': 'multiclass',\n",
    "    'booster': 'gbdtree',\n",
    "    'n_jobs': 16,\n",
    "    'max_depth': 7,\n",
    "    'n_estimators': 1024,\n",
    "    'verbosity': -1,\n",
    "    'colsample_bytree': 0.5,\n",
    "    'learning_rate': 0.0267,\n",
    "    'min_child_weight': 100.0,\n",
    "    'reg_alpha': 0.1,\n",
    "    'reg_lambda': 0.00023,\n",
    "    'subsample': 0.75\n",
    "}"
   ]
  },
  {
   "cell_type": "code",
   "execution_count": 12,
   "metadata": {},
   "outputs": [
    {
     "name": "stdout",
     "output_type": "stream",
     "text": [
      "Training until validation scores don't improve for 50 rounds.\n",
      "[100]\ttraining's multi_logloss: 0.719458\ttraining's wloss: 0.712412\tvalid_1's multi_logloss: 1.05447\tvalid_1's wloss: 0.884753\n",
      "[200]\ttraining's multi_logloss: 0.464389\ttraining's wloss: 0.45543\tvalid_1's multi_logloss: 0.827313\tvalid_1's wloss: 0.682208\n",
      "[300]\ttraining's multi_logloss: 0.363731\ttraining's wloss: 0.354034\tvalid_1's multi_logloss: 0.747372\tvalid_1's wloss: 0.625374\n",
      "[400]\ttraining's multi_logloss: 0.306134\ttraining's wloss: 0.296357\tvalid_1's multi_logloss: 0.707577\tvalid_1's wloss: 0.607326\n",
      "[500]\ttraining's multi_logloss: 0.264831\ttraining's wloss: 0.255135\tvalid_1's multi_logloss: 0.680097\tvalid_1's wloss: 0.601133\n",
      "Early stopping, best iteration is:\n",
      "[508]\ttraining's multi_logloss: 0.262046\ttraining's wloss: 0.252407\tvalid_1's multi_logloss: 0.677936\tvalid_1's wloss: 0.600375\n",
      "no 1-fold loss: 0.6003746421112547\n",
      "Training until validation scores don't improve for 50 rounds.\n",
      "[100]\ttraining's multi_logloss: 0.719866\ttraining's wloss: 0.714649\tvalid_1's multi_logloss: 1.0549\tvalid_1's wloss: 0.912493\n",
      "[200]\ttraining's multi_logloss: 0.4651\ttraining's wloss: 0.456994\tvalid_1's multi_logloss: 0.829638\tvalid_1's wloss: 0.722766\n",
      "[300]\ttraining's multi_logloss: 0.365054\ttraining's wloss: 0.355859\tvalid_1's multi_logloss: 0.750765\tvalid_1's wloss: 0.683819\n",
      "[400]\ttraining's multi_logloss: 0.307567\ttraining's wloss: 0.298312\tvalid_1's multi_logloss: 0.713782\tvalid_1's wloss: 0.674138\n",
      "[500]\ttraining's multi_logloss: 0.266391\ttraining's wloss: 0.257429\tvalid_1's multi_logloss: 0.68613\tvalid_1's wloss: 0.666531\n",
      "[600]\ttraining's multi_logloss: 0.233927\ttraining's wloss: 0.225138\tvalid_1's multi_logloss: 0.665792\tvalid_1's wloss: 0.665602\n",
      "Early stopping, best iteration is:\n",
      "[616]\ttraining's multi_logloss: 0.229244\ttraining's wloss: 0.220467\tvalid_1's multi_logloss: 0.663059\tvalid_1's wloss: 0.665075\n",
      "no 2-fold loss: 0.665074979245978\n",
      "Training until validation scores don't improve for 50 rounds.\n",
      "[100]\ttraining's multi_logloss: 0.721357\ttraining's wloss: 0.715071\tvalid_1's multi_logloss: 1.0586\tvalid_1's wloss: 0.864213\n",
      "[200]\ttraining's multi_logloss: 0.46598\ttraining's wloss: 0.458111\tvalid_1's multi_logloss: 0.832451\tvalid_1's wloss: 0.657065\n",
      "[300]\ttraining's multi_logloss: 0.364747\ttraining's wloss: 0.356183\tvalid_1's multi_logloss: 0.747617\tvalid_1's wloss: 0.59995\n",
      "[400]\ttraining's multi_logloss: 0.307069\ttraining's wloss: 0.298305\tvalid_1's multi_logloss: 0.704697\tvalid_1's wloss: 0.580804\n",
      "[500]\ttraining's multi_logloss: 0.265461\ttraining's wloss: 0.256782\tvalid_1's multi_logloss: 0.676247\tvalid_1's wloss: 0.571877\n",
      "[600]\ttraining's multi_logloss: 0.232468\ttraining's wloss: 0.224084\tvalid_1's multi_logloss: 0.654938\tvalid_1's wloss: 0.568592\n",
      "Early stopping, best iteration is:\n",
      "[584]\ttraining's multi_logloss: 0.237303\ttraining's wloss: 0.228925\tvalid_1's multi_logloss: 0.657705\tvalid_1's wloss: 0.568381\n",
      "no 3-fold loss: 0.5683809245519857\n",
      "Training until validation scores don't improve for 50 rounds.\n",
      "[100]\ttraining's multi_logloss: 0.722139\ttraining's wloss: 0.715554\tvalid_1's multi_logloss: 1.05845\tvalid_1's wloss: 0.872919\n",
      "[200]\ttraining's multi_logloss: 0.465121\ttraining's wloss: 0.457089\tvalid_1's multi_logloss: 0.822495\tvalid_1's wloss: 0.665315\n",
      "[300]\ttraining's multi_logloss: 0.364896\ttraining's wloss: 0.356233\tvalid_1's multi_logloss: 0.737404\tvalid_1's wloss: 0.612946\n",
      "[400]\ttraining's multi_logloss: 0.307501\ttraining's wloss: 0.298682\tvalid_1's multi_logloss: 0.696291\tvalid_1's wloss: 0.597276\n",
      "[500]\ttraining's multi_logloss: 0.265425\ttraining's wloss: 0.256575\tvalid_1's multi_logloss: 0.667347\tvalid_1's wloss: 0.590861\n",
      "Early stopping, best iteration is:\n",
      "[543]\ttraining's multi_logloss: 0.250426\ttraining's wloss: 0.2417\tvalid_1's multi_logloss: 0.659184\tvalid_1's wloss: 0.589154\n",
      "no 4-fold loss: 0.5891537224819948\n",
      "Training until validation scores don't improve for 50 rounds.\n",
      "[100]\ttraining's multi_logloss: 0.718287\ttraining's wloss: 0.711079\tvalid_1's multi_logloss: 1.05375\tvalid_1's wloss: 0.905846\n",
      "[200]\ttraining's multi_logloss: 0.461209\ttraining's wloss: 0.452542\tvalid_1's multi_logloss: 0.816427\tvalid_1's wloss: 0.700308\n",
      "[300]\ttraining's multi_logloss: 0.362657\ttraining's wloss: 0.353501\tvalid_1's multi_logloss: 0.735047\tvalid_1's wloss: 0.651566\n",
      "[400]\ttraining's multi_logloss: 0.306647\ttraining's wloss: 0.297224\tvalid_1's multi_logloss: 0.690989\tvalid_1's wloss: 0.634173\n",
      "[500]\ttraining's multi_logloss: 0.266006\ttraining's wloss: 0.256871\tvalid_1's multi_logloss: 0.661946\tvalid_1's wloss: 0.627164\n",
      "[600]\ttraining's multi_logloss: 0.234093\ttraining's wloss: 0.2253\tvalid_1's multi_logloss: 0.641346\tvalid_1's wloss: 0.625644\n",
      "Early stopping, best iteration is:\n",
      "[558]\ttraining's multi_logloss: 0.246639\ttraining's wloss: 0.23765\tvalid_1's multi_logloss: 0.648907\tvalid_1's wloss: 0.625213\n",
      "no 5-fold loss: 0.6252127346737902\n",
      "MULTI WEIGHTED LOG LOSS: 0.60962\n",
      "CPU times: user 5min 25s, sys: 1min 21s, total: 6min 46s\n",
      "Wall time: 1min 41s\n"
     ]
    }
   ],
   "source": [
    "%%time\n",
    "# modeling from CV\n",
    "clfs, score = eval_func(lgbm_params)"
   ]
  },
  {
   "cell_type": "code",
   "execution_count": 13,
   "metadata": {},
   "outputs": [
    {
     "name": "stdout",
     "output_type": "stream",
     "text": [
      "save to subm_0.609619_2018-12-09-20-07.csv\n"
     ]
    }
   ],
   "source": [
    "filename = 'subm_{:.6f}_{}.csv'.format(\n",
    "    score, \n",
    "    dt.now().strftime('%Y-%m-%d-%H-%M')\n",
    ")\n",
    "print('save to {}'.format(filename))"
   ]
  },
  {
   "cell_type": "markdown",
   "metadata": {},
   "source": [
    "## FINAL RUN"
   ]
  },
  {
   "cell_type": "code",
   "execution_count": 14,
   "metadata": {},
   "outputs": [
    {
     "name": "stdout",
     "output_type": "stream",
     "text": [
      "1000001 ../data/raw/test_set_sample.csv\r\n"
     ]
    }
   ],
   "source": [
    "# calculate test size\n",
    "!wc -l ../data/raw/test_set_sample.csv"
   ]
  },
  {
   "cell_type": "code",
   "execution_count": 15,
   "metadata": {},
   "outputs": [
    {
     "data": {
      "text/plain": [
       "10001"
      ]
     },
     "execution_count": 15,
     "metadata": {},
     "output_type": "execute_result"
    }
   ],
   "source": [
    "#chunk_size_one_100 = 453653105 // 100 + 1\n",
    "chunk_size_one_100 = 1000001 // 100 + 1\n",
    "chunk_size_one_100"
   ]
  },
  {
   "cell_type": "code",
   "execution_count": 16,
   "metadata": {},
   "outputs": [
    {
     "name": "stderr",
     "output_type": "stream",
     "text": [
      "Feature Extraction: 100%|██████████| 20/20 [00:02<00:00,  8.91it/s]\n",
      "Feature Extraction: 100%|██████████| 20/20 [00:00<00:00, 22.74it/s]\n",
      "Feature Extraction: 100%|██████████| 20/20 [00:00<00:00, 39.22it/s]\n",
      "Feature Extraction: 100%|██████████| 20/20 [00:00<00:00, 85.07it/s]\n"
     ]
    },
    {
     "name": "stdout",
     "output_type": "stream",
     "text": [
      "        5000000 done in   0.3 minutes\n"
     ]
    },
    {
     "name": "stderr",
     "output_type": "stream",
     "text": [
      "Feature Extraction: 100%|██████████| 6/6 [00:00<00:00, 2244.54it/s]\n",
      "Feature Extraction: 100%|██████████| 1/1 [00:00<00:00, 506.44it/s]\n",
      "Feature Extraction: 100%|██████████| 1/1 [00:00<00:00, 1188.52it/s]\n",
      "Feature Extraction: 100%|██████████| 1/1 [00:00<00:00, 1220.69it/s]\n"
     ]
    }
   ],
   "source": [
    "featurize_test(\n",
    "    featurize_configs={'aggs': aggs, 'fcp': fcp}, \n",
    "    n_jobs=4,\n",
    "    meta_path='../data/raw/test_set_metadata.csv',\n",
    "    test_path='../data/raw/test_set_sample.csv',\n",
    "    output_path='feat_test.csv',\n",
    "    id_colname='object_id',\n",
    "    chunks=5000000,\n",
    ")"
   ]
  },
  {
   "cell_type": "code",
   "execution_count": 17,
   "metadata": {},
   "outputs": [
    {
     "name": "stdout",
     "output_type": "stream",
     "text": [
      "          10001 done in   0.0 minutes\n",
      "CPU times: user 6.88 s, sys: 0 ns, total: 6.88 s\n",
      "Wall time: 1.24 s\n"
     ]
    }
   ],
   "source": [
    "%%time\n",
    "# should take 100x (time after 1st iteration)\n",
    "predict_test(\n",
    "    clfs,\n",
    "    features=X.columns, \n",
    "    output_path=filename,\n",
    "    input_path='feat_test.csv',\n",
    "    chunks=chunk_size_one_100,\n",
    "    n_jobs=4\n",
    ")"
   ]
  },
  {
   "cell_type": "code",
   "execution_count": 18,
   "metadata": {},
   "outputs": [
    {
     "name": "stdout",
     "output_type": "stream",
     "text": [
      "Shape BEFORE grouping: (3036, 16)\n",
      "Shape AFTER grouping: (3035, 15)\n"
     ]
    }
   ],
   "source": [
    "z = pd.read_csv(filename)\n",
    "print(\"Shape BEFORE grouping: {}\".format(z.shape))\n",
    "z = z.groupby('object_id').mean()\n",
    "print(\"Shape AFTER grouping: {}\".format(z.shape))\n",
    "z.to_csv('single_{}'.format(filename), index=True)"
   ]
  }
 ],
 "metadata": {
  "kernelspec": {
   "display_name": "Python 3",
   "language": "python",
   "name": "python3"
  },
  "language_info": {
   "codemirror_mode": {
    "name": "ipython",
    "version": 3
   },
   "file_extension": ".py",
   "mimetype": "text/x-python",
   "name": "python",
   "nbconvert_exporter": "python",
   "pygments_lexer": "ipython3",
   "version": "3.6.7"
  }
 },
 "nbformat": 4,
 "nbformat_minor": 2
}
