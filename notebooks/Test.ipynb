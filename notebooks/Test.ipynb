{
 "cells": [
  {
   "cell_type": "code",
   "execution_count": 1,
   "metadata": {},
   "outputs": [],
   "source": [
    "import pandas as pd\n",
    "import numpy as np\n",
    "\n",
    "from datetime import datetime as dt\n",
    "from functools import partial, wraps\n",
    "\n",
    "import plasticc.xgb_train as xgb\n",
    "import plasticc.lgbm_train as lgbm\n",
    "from plasticc.featurize import process_meta\n",
    "from plasticc.featurize import featurize\n",
    "from plasticc.lgbm_train import lgbm_modeling_cross_validation\n",
    "from plasticc.xgb_train import xgb_modeling_cross_validation\n",
    "from plasticc.final import process_test"
   ]
  },
  {
   "cell_type": "code",
   "execution_count": 2,
   "metadata": {},
   "outputs": [],
   "source": [
    "fcp = {\n",
    "    'flux': {\n",
    "        'longest_strike_above_mean': None,\n",
    "        'longest_strike_below_mean': None,\n",
    "        'mean_change': None,\n",
    "        'mean_abs_change': None,\n",
    "        'length': None,\n",
    "    },\n",
    "\n",
    "    'flux_by_flux_ratio_sq': {\n",
    "        'longest_strike_above_mean': None,\n",
    "        'longest_strike_below_mean': None,       \n",
    "    },\n",
    "\n",
    "    'flux_passband': {\n",
    "        'fft_coefficient': [\n",
    "                {'coeff': 0, 'attr': 'abs'}, \n",
    "                {'coeff': 1, 'attr': 'abs'}\n",
    "            ],\n",
    "        'kurtosis' : None, \n",
    "        'skewness' : None,\n",
    "    },\n",
    "\n",
    "    'mjd': {\n",
    "        'maximum': None, \n",
    "        'minimum': None,\n",
    "        'mean_change': None,\n",
    "        'mean_abs_change': None,\n",
    "    },\n",
    "}"
   ]
  },
  {
   "cell_type": "code",
   "execution_count": 3,
   "metadata": {},
   "outputs": [],
   "source": [
    "aggs = {\n",
    "    'flux': ['min', 'max', 'mean', 'median', 'std', 'skew'],\n",
    "    'flux_err': ['min', 'max', 'mean', 'median', 'std', 'skew'],\n",
    "    'detected': ['mean'],\n",
    "    'flux_ratio_sq':['sum', 'skew'],\n",
    "    'flux_by_flux_ratio_sq':['sum','skew'],\n",
    "}"
   ]
  },
  {
   "cell_type": "markdown",
   "metadata": {},
   "source": [
    "## Data processing"
   ]
  },
  {
   "cell_type": "code",
   "execution_count": 4,
   "metadata": {},
   "outputs": [
    {
     "name": "stdout",
     "output_type": "stream",
     "text": [
      "CPU times: user 1.06 s, sys: 65.6 ms, total: 1.12 s\n",
      "Wall time: 1.12 s\n"
     ]
    }
   ],
   "source": [
    "%%time\n",
    "meta_train = process_meta('../data/raw/training_set_metadata.csv')\n",
    "train = pd.read_csv('../data/raw/training_set.csv')"
   ]
  },
  {
   "cell_type": "code",
   "execution_count": 5,
   "metadata": {
    "scrolled": true
   },
   "outputs": [
    {
     "name": "stderr",
     "output_type": "stream",
     "text": [
      "Feature Extraction: 100%|██████████| 20/20 [00:06<00:00,  4.40it/s]\n",
      "Feature Extraction: 100%|██████████| 20/20 [00:01<00:00, 16.90it/s]\n",
      "Feature Extraction: 100%|██████████| 20/20 [00:00<00:00, 23.87it/s]\n",
      "Feature Extraction: 100%|██████████| 20/20 [00:00<00:00, 30.62it/s]\n"
     ]
    },
    {
     "name": "stdout",
     "output_type": "stream",
     "text": [
      "CPU times: user 15.6 s, sys: 704 ms, total: 16.3 s\n",
      "Wall time: 19.3 s\n"
     ]
    }
   ],
   "source": [
    "%%time\n",
    "X = featurize(train, meta_train, aggs, fcp, n_jobs=4)\n",
    "X_backup = X.copy()"
   ]
  },
  {
   "cell_type": "code",
   "execution_count": 6,
   "metadata": {},
   "outputs": [],
   "source": [
    "if 'target' in X:\n",
    "    y = X['target']\n",
    "    del X['target']\n",
    "else:\n",
    "    print(\"What the duck\")\n",
    "    3//0"
   ]
  },
  {
   "cell_type": "code",
   "execution_count": 7,
   "metadata": {},
   "outputs": [
    {
     "name": "stdout",
     "output_type": "stream",
     "text": [
      "Unique classes : 14, [6, 15, 16, 42, 52, 53, 62, 64, 65, 67, 88, 90, 92, 95]\n",
      "{6: 1, 15: 2, 16: 1, 42: 1, 52: 1, 53: 1, 62: 1, 64: 2, 65: 1, 67: 1, 88: 1, 90: 1, 92: 1, 95: 1}\n"
     ]
    }
   ],
   "source": [
    "# Taken from Giba's topic : https://www.kaggle.com/titericz\n",
    "# https://www.kaggle.com/c/PLAsTiCC-2018/discussion/67194\n",
    "# with Kyle Boone's post https://www.kaggle.com/kyleboone\n",
    "classes = sorted(y.unique())\n",
    "class_weights = {c: 1 for c in classes}\n",
    "class_weights.update({c:2 for c in [64, 15]})\n",
    "print('Unique classes : {}, {}'.format(len(classes), classes))\n",
    "print(class_weights)"
   ]
  },
  {
   "cell_type": "code",
   "execution_count": 8,
   "metadata": {},
   "outputs": [
    {
     "name": "stdout",
     "output_type": "stream",
     "text": [
      "CPU times: user 7.49 ms, sys: 88 µs, total: 7.58 ms\n",
      "Wall time: 7.06 ms\n"
     ]
    }
   ],
   "source": [
    "%%time\n",
    "train_mean = X.mean(axis=0)\n",
    "#train_mean.to_hdf('train_data.hdf5', 'data')\n",
    "pd.set_option('display.max_rows', 500)\n",
    "#import pdb; pdb.set_trace()\n",
    "X.fillna(0, inplace=True)"
   ]
  },
  {
   "cell_type": "markdown",
   "metadata": {},
   "source": [
    "## Train model with CV"
   ]
  },
  {
   "cell_type": "code",
   "execution_count": 9,
   "metadata": {},
   "outputs": [],
   "source": [
    "eval_func = partial(\n",
    "    lgbm_modeling_cross_validation, \n",
    "    X=X, \n",
    "    y=y, \n",
    "    classes=classes, \n",
    "    class_weights=class_weights, \n",
    "    nr_fold=5, \n",
    "    random_state=1\n",
    ")"
   ]
  },
  {
   "cell_type": "code",
   "execution_count": 10,
   "metadata": {},
   "outputs": [],
   "source": [
    "lgbm_params = {\n",
    "    'device': 'cpu',\n",
    "    'objective': 'multiclass',\n",
    "    'num_class': 14,\n",
    "    'boosting_type': 'gbdt',\n",
    "    'n_jobs': 16,\n",
    "    'max_depth': 7,\n",
    "    'n_estimators': 1024,\n",
    "    'subsample_freq': 2,\n",
    "    'subsample_for_bin': 5000,\n",
    "    'min_data_per_group': 100,\n",
    "    'max_cat_to_onehot': 4,\n",
    "    'cat_l2': 1.0,\n",
    "    'cat_smooth': 59.5,\n",
    "    'max_cat_threshold': 32,\n",
    "    'metric_freq': 10,\n",
    "    'verbosity': -1,\n",
    "    'metric': 'multi_logloss',\n",
    "    'xgboost_dart_mode': False,\n",
    "    'uniform_drop': False,\n",
    "    'colsample_bytree': 0.5,\n",
    "    'drop_rate': 0.173,\n",
    "    'learning_rate': 0.0267,\n",
    "    'max_drop': 5,\n",
    "    'min_child_samples': 10,\n",
    "    'min_child_weight': 100.0,\n",
    "    'min_split_gain': 0.1,\n",
    "    'num_leaves': 7,\n",
    "    'reg_alpha': 0.1,\n",
    "    'reg_lambda': 0.00023,\n",
    "    'skip_drop': 0.44,\n",
    "    'subsample': 0.75\n",
    "}\n",
    "\n",
    "\n",
    "xgb_params = {\n",
    "    'objective': 'multiclass',\n",
    "    'booster': 'gbdtree',\n",
    "    'n_jobs': 16,\n",
    "    'max_depth': 7,\n",
    "    'n_estimators': 1024,\n",
    "    'verbosity': -1,\n",
    "    'colsample_bytree': 0.5,\n",
    "    'learning_rate': 0.0267,\n",
    "    'min_child_weight': 100.0,\n",
    "    'reg_alpha': 0.1,\n",
    "    'reg_lambda': 0.00023,\n",
    "    'subsample': 0.75\n",
    "}"
   ]
  },
  {
   "cell_type": "code",
   "execution_count": 11,
   "metadata": {},
   "outputs": [
    {
     "name": "stdout",
     "output_type": "stream",
     "text": [
      "Training until validation scores don't improve for 50 rounds.\n",
      "[100]\ttraining's multi_logloss: 0.719458\ttraining's wloss: 0.712412\tvalid_1's multi_logloss: 1.05447\tvalid_1's wloss: 0.884753\n",
      "[200]\ttraining's multi_logloss: 0.464389\ttraining's wloss: 0.45543\tvalid_1's multi_logloss: 0.827313\tvalid_1's wloss: 0.682208\n",
      "[300]\ttraining's multi_logloss: 0.363731\ttraining's wloss: 0.354034\tvalid_1's multi_logloss: 0.747372\tvalid_1's wloss: 0.625374\n",
      "[400]\ttraining's multi_logloss: 0.306134\ttraining's wloss: 0.296357\tvalid_1's multi_logloss: 0.707577\tvalid_1's wloss: 0.607326\n",
      "[500]\ttraining's multi_logloss: 0.264831\ttraining's wloss: 0.255135\tvalid_1's multi_logloss: 0.680097\tvalid_1's wloss: 0.601133\n",
      "Early stopping, best iteration is:\n",
      "[508]\ttraining's multi_logloss: 0.262046\ttraining's wloss: 0.252407\tvalid_1's multi_logloss: 0.677936\tvalid_1's wloss: 0.600375\n",
      "no 1-fold loss: 0.6003746421112547\n",
      "Training until validation scores don't improve for 50 rounds.\n",
      "[100]\ttraining's multi_logloss: 0.719866\ttraining's wloss: 0.714649\tvalid_1's multi_logloss: 1.0549\tvalid_1's wloss: 0.912493\n",
      "[200]\ttraining's multi_logloss: 0.4651\ttraining's wloss: 0.456994\tvalid_1's multi_logloss: 0.829638\tvalid_1's wloss: 0.722766\n",
      "[300]\ttraining's multi_logloss: 0.365054\ttraining's wloss: 0.355859\tvalid_1's multi_logloss: 0.750765\tvalid_1's wloss: 0.683819\n",
      "[400]\ttraining's multi_logloss: 0.307567\ttraining's wloss: 0.298312\tvalid_1's multi_logloss: 0.713782\tvalid_1's wloss: 0.674138\n",
      "[500]\ttraining's multi_logloss: 0.266391\ttraining's wloss: 0.257429\tvalid_1's multi_logloss: 0.68613\tvalid_1's wloss: 0.666531\n",
      "[600]\ttraining's multi_logloss: 0.233927\ttraining's wloss: 0.225138\tvalid_1's multi_logloss: 0.665792\tvalid_1's wloss: 0.665602\n",
      "Early stopping, best iteration is:\n",
      "[616]\ttraining's multi_logloss: 0.229244\ttraining's wloss: 0.220467\tvalid_1's multi_logloss: 0.663059\tvalid_1's wloss: 0.665075\n",
      "no 2-fold loss: 0.665074979245978\n",
      "Training until validation scores don't improve for 50 rounds.\n",
      "[100]\ttraining's multi_logloss: 0.721357\ttraining's wloss: 0.715071\tvalid_1's multi_logloss: 1.0586\tvalid_1's wloss: 0.864213\n",
      "[200]\ttraining's multi_logloss: 0.46598\ttraining's wloss: 0.458111\tvalid_1's multi_logloss: 0.832451\tvalid_1's wloss: 0.657065\n",
      "[300]\ttraining's multi_logloss: 0.364747\ttraining's wloss: 0.356183\tvalid_1's multi_logloss: 0.747617\tvalid_1's wloss: 0.59995\n",
      "[400]\ttraining's multi_logloss: 0.307069\ttraining's wloss: 0.298305\tvalid_1's multi_logloss: 0.704697\tvalid_1's wloss: 0.580804\n",
      "[500]\ttraining's multi_logloss: 0.265461\ttraining's wloss: 0.256782\tvalid_1's multi_logloss: 0.676247\tvalid_1's wloss: 0.571877\n",
      "[600]\ttraining's multi_logloss: 0.232468\ttraining's wloss: 0.224084\tvalid_1's multi_logloss: 0.654938\tvalid_1's wloss: 0.568592\n",
      "Early stopping, best iteration is:\n",
      "[584]\ttraining's multi_logloss: 0.237303\ttraining's wloss: 0.228925\tvalid_1's multi_logloss: 0.657705\tvalid_1's wloss: 0.568381\n",
      "no 3-fold loss: 0.5683809245519857\n",
      "Training until validation scores don't improve for 50 rounds.\n",
      "[100]\ttraining's multi_logloss: 0.722139\ttraining's wloss: 0.715554\tvalid_1's multi_logloss: 1.05845\tvalid_1's wloss: 0.872919\n",
      "[200]\ttraining's multi_logloss: 0.465121\ttraining's wloss: 0.457089\tvalid_1's multi_logloss: 0.822495\tvalid_1's wloss: 0.665315\n",
      "[300]\ttraining's multi_logloss: 0.364896\ttraining's wloss: 0.356233\tvalid_1's multi_logloss: 0.737404\tvalid_1's wloss: 0.612946\n",
      "[400]\ttraining's multi_logloss: 0.307501\ttraining's wloss: 0.298682\tvalid_1's multi_logloss: 0.696291\tvalid_1's wloss: 0.597276\n",
      "[500]\ttraining's multi_logloss: 0.265425\ttraining's wloss: 0.256575\tvalid_1's multi_logloss: 0.667347\tvalid_1's wloss: 0.590861\n",
      "Early stopping, best iteration is:\n",
      "[543]\ttraining's multi_logloss: 0.250426\ttraining's wloss: 0.2417\tvalid_1's multi_logloss: 0.659184\tvalid_1's wloss: 0.589154\n",
      "no 4-fold loss: 0.5891537224819948\n",
      "Training until validation scores don't improve for 50 rounds.\n",
      "[100]\ttraining's multi_logloss: 0.718287\ttraining's wloss: 0.711079\tvalid_1's multi_logloss: 1.05375\tvalid_1's wloss: 0.905846\n",
      "[200]\ttraining's multi_logloss: 0.461209\ttraining's wloss: 0.452542\tvalid_1's multi_logloss: 0.816427\tvalid_1's wloss: 0.700308\n",
      "[300]\ttraining's multi_logloss: 0.362657\ttraining's wloss: 0.353501\tvalid_1's multi_logloss: 0.735047\tvalid_1's wloss: 0.651566\n",
      "[400]\ttraining's multi_logloss: 0.306647\ttraining's wloss: 0.297224\tvalid_1's multi_logloss: 0.690989\tvalid_1's wloss: 0.634173\n",
      "[500]\ttraining's multi_logloss: 0.266006\ttraining's wloss: 0.256871\tvalid_1's multi_logloss: 0.661946\tvalid_1's wloss: 0.627164\n",
      "[600]\ttraining's multi_logloss: 0.234093\ttraining's wloss: 0.2253\tvalid_1's multi_logloss: 0.641346\tvalid_1's wloss: 0.625644\n",
      "Early stopping, best iteration is:\n",
      "[558]\ttraining's multi_logloss: 0.246639\ttraining's wloss: 0.23765\tvalid_1's multi_logloss: 0.648907\tvalid_1's wloss: 0.625213\n",
      "no 5-fold loss: 0.6252127346737902\n",
      "MULTI WEIGHTED LOG LOSS: 0.60962\n",
      "CPU times: user 5min 23s, sys: 1min 22s, total: 6min 45s\n",
      "Wall time: 1min 40s\n"
     ]
    }
   ],
   "source": [
    "%%time\n",
    "# modeling from CV\n",
    "clfs, score = eval_func(lgbm_params)"
   ]
  },
  {
   "cell_type": "code",
   "execution_count": 12,
   "metadata": {},
   "outputs": [
    {
     "name": "stdout",
     "output_type": "stream",
     "text": [
      "save to subm_0.609619_2018-12-09-15-47.csv\n"
     ]
    }
   ],
   "source": [
    "filename = 'subm_{:.6f}_{}.csv'.format(\n",
    "    score, \n",
    "    dt.now().strftime('%Y-%m-%d-%H-%M')\n",
    ")\n",
    "print('save to {}'.format(filename))"
   ]
  },
  {
   "cell_type": "markdown",
   "metadata": {},
   "source": [
    "## FINAL RUN"
   ]
  },
  {
   "cell_type": "code",
   "execution_count": 13,
   "metadata": {},
   "outputs": [
    {
     "name": "stdout",
     "output_type": "stream",
     "text": [
      "1000001 ../data/raw/test_set_sample.csv\r\n"
     ]
    }
   ],
   "source": [
    "# calculate test size\n",
    "!wc -l ../data/raw/test_set_sample.csv"
   ]
  },
  {
   "cell_type": "code",
   "execution_count": 14,
   "metadata": {},
   "outputs": [
    {
     "data": {
      "text/plain": [
       "10001"
      ]
     },
     "execution_count": 14,
     "metadata": {},
     "output_type": "execute_result"
    }
   ],
   "source": [
    "#chunk_size_one_100 = 453653105 // 100 + 1\n",
    "chunk_size_one_100 = 1000001 // 100 + 1\n",
    "chunk_size_one_100"
   ]
  },
  {
   "cell_type": "code",
   "execution_count": 19,
   "metadata": {},
   "outputs": [
    {
     "name": "stderr",
     "output_type": "stream",
     "text": [
      "Feature Extraction: 100%|██████████| 20/20 [00:00<00:00, 676.23it/s]\n",
      "Feature Extraction: 100%|██████████| 15/15 [00:00<00:00, 1599.17it/s]\n",
      "Feature Extraction: 100%|██████████| 15/15 [00:00<00:00, 3732.47it/s]\n",
      "Feature Extraction: 100%|██████████| 15/15 [00:00<00:00, 8467.64it/s]\n"
     ]
    },
    {
     "name": "stdout",
     "output_type": "stream",
     "text": [
      "          10001 done in   0.1 minutes\n"
     ]
    },
    {
     "name": "stderr",
     "output_type": "stream",
     "text": [
      "Feature Extraction: 100%|██████████| 20/20 [00:00<00:00, 1334.60it/s]\n",
      "Feature Extraction: 100%|██████████| 16/16 [00:00<00:00, 1673.50it/s]\n",
      "Feature Extraction: 100%|██████████| 16/16 [00:00<00:00, 3395.34it/s]\n",
      "Feature Extraction: 100%|██████████| 16/16 [00:00<00:00, 54295.20it/s]\n"
     ]
    },
    {
     "name": "stdout",
     "output_type": "stream",
     "text": [
      "          20002 done in   0.1 minutes\n"
     ]
    },
    {
     "name": "stderr",
     "output_type": "stream",
     "text": [
      "Feature Extraction: 100%|██████████| 20/20 [00:00<00:00, 861.97it/s]\n",
      "Feature Extraction: 100%|██████████| 15/15 [00:00<00:00, 1223.19it/s]\n",
      "Feature Extraction: 100%|██████████| 15/15 [00:00<00:00, 3152.03it/s]\n",
      "Feature Extraction: 100%|██████████| 15/15 [00:00<00:00, 9833.47it/s]\n"
     ]
    },
    {
     "name": "stdout",
     "output_type": "stream",
     "text": [
      "          30003 done in   0.2 minutes\n"
     ]
    },
    {
     "name": "stderr",
     "output_type": "stream",
     "text": [
      "Feature Extraction: 100%|██████████| 20/20 [00:00<00:00, 867.39it/s]\n",
      "Feature Extraction: 100%|██████████| 15/15 [00:00<00:00, 1373.65it/s]\n",
      "Feature Extraction: 100%|██████████| 15/15 [00:00<00:00, 16880.75it/s]\n",
      "Feature Extraction: 100%|██████████| 15/15 [00:00<00:00, 11111.72it/s]\n"
     ]
    },
    {
     "name": "stdout",
     "output_type": "stream",
     "text": [
      "          40004 done in   0.2 minutes\n"
     ]
    },
    {
     "name": "stderr",
     "output_type": "stream",
     "text": [
      "Feature Extraction: 100%|██████████| 19/19 [00:00<00:00, 696.06it/s]\n",
      "Feature Extraction: 100%|██████████| 16/16 [00:00<00:00, 1375.83it/s]\n",
      "Feature Extraction: 100%|██████████| 16/16 [00:00<00:00, 5795.24it/s]\n",
      "Feature Extraction: 100%|██████████| 16/16 [00:00<00:00, 46798.37it/s]\n"
     ]
    },
    {
     "name": "stdout",
     "output_type": "stream",
     "text": [
      "          50005 done in   0.2 minutes\n"
     ]
    },
    {
     "name": "stderr",
     "output_type": "stream",
     "text": [
      "Feature Extraction: 100%|██████████| 20/20 [00:00<00:00, 2432.82it/s]\n",
      "Feature Extraction: 100%|██████████| 15/15 [00:00<00:00, 2183.85it/s]\n",
      "Feature Extraction: 100%|██████████| 15/15 [00:00<00:00, 14668.82it/s]\n",
      "Feature Extraction: 100%|██████████| 15/15 [00:00<00:00, 25912.09it/s]\n"
     ]
    },
    {
     "name": "stdout",
     "output_type": "stream",
     "text": [
      "          60006 done in   0.3 minutes\n"
     ]
    },
    {
     "name": "stderr",
     "output_type": "stream",
     "text": [
      "Feature Extraction: 100%|██████████| 20/20 [00:00<00:00, 1552.12it/s]\n",
      "Feature Extraction: 100%|██████████| 16/16 [00:00<00:00, 1171.20it/s]\n",
      "Feature Extraction: 100%|██████████| 16/16 [00:00<00:00, 6998.53it/s]\n",
      "Feature Extraction: 100%|██████████| 16/16 [00:00<00:00, 35098.78it/s]\n"
     ]
    },
    {
     "name": "stdout",
     "output_type": "stream",
     "text": [
      "          70007 done in   0.3 minutes\n"
     ]
    },
    {
     "name": "stderr",
     "output_type": "stream",
     "text": [
      "Feature Extraction: 100%|██████████| 20/20 [00:00<00:00, 831.28it/s]\n",
      "Feature Extraction: 100%|██████████| 15/15 [00:00<00:00, 2994.22it/s]\n",
      "Feature Extraction: 100%|██████████| 15/15 [00:00<00:00, 12176.23it/s]\n",
      "Feature Extraction: 100%|██████████| 15/15 [00:00<00:00, 19834.35it/s]\n"
     ]
    },
    {
     "name": "stdout",
     "output_type": "stream",
     "text": [
      "          80008 done in   0.3 minutes\n"
     ]
    },
    {
     "name": "stderr",
     "output_type": "stream",
     "text": [
      "Feature Extraction: 100%|██████████| 20/20 [00:00<00:00, 931.93it/s]\n",
      "Feature Extraction: 100%|██████████| 15/15 [00:00<00:00, 1412.45it/s]\n",
      "Feature Extraction: 100%|██████████| 15/15 [00:00<00:00, 2113.21it/s]\n",
      "Feature Extraction: 100%|██████████| 15/15 [00:00<00:00, 10443.98it/s]\n"
     ]
    },
    {
     "name": "stdout",
     "output_type": "stream",
     "text": [
      "          90009 done in   0.3 minutes\n"
     ]
    },
    {
     "name": "stderr",
     "output_type": "stream",
     "text": [
      "Feature Extraction: 100%|██████████| 20/20 [00:00<00:00, 904.60it/s]\n",
      "Feature Extraction: 100%|██████████| 15/15 [00:00<00:00, 1132.82it/s]\n",
      "Feature Extraction: 100%|██████████| 15/15 [00:00<00:00, 3074.55it/s]\n",
      "Feature Extraction: 100%|██████████| 15/15 [00:00<00:00, 22911.35it/s]\n"
     ]
    },
    {
     "name": "stdout",
     "output_type": "stream",
     "text": [
      "         100010 done in   0.4 minutes\n"
     ]
    },
    {
     "name": "stderr",
     "output_type": "stream",
     "text": [
      "Feature Extraction: 100%|██████████| 20/20 [00:00<00:00, 1027.36it/s]\n",
      "Feature Extraction: 100%|██████████| 15/15 [00:00<00:00, 1164.59it/s]\n",
      "Feature Extraction: 100%|██████████| 15/15 [00:00<00:00, 2348.52it/s]\n",
      "Feature Extraction: 100%|██████████| 15/15 [00:00<00:00, 4100.54it/s]\n"
     ]
    },
    {
     "name": "stdout",
     "output_type": "stream",
     "text": [
      "         110011 done in   0.4 minutes\n"
     ]
    },
    {
     "name": "stderr",
     "output_type": "stream",
     "text": [
      "Feature Extraction: 100%|██████████| 19/19 [00:00<00:00, 1402.21it/s]\n",
      "Feature Extraction: 100%|██████████| 16/16 [00:00<00:00, 1005.87it/s]\n",
      "Feature Extraction: 100%|██████████| 16/16 [00:00<00:00, 2627.19it/s]\n",
      "Feature Extraction: 100%|██████████| 16/16 [00:00<00:00, 60404.02it/s]\n"
     ]
    },
    {
     "name": "stdout",
     "output_type": "stream",
     "text": [
      "         120012 done in   0.4 minutes\n"
     ]
    },
    {
     "name": "stderr",
     "output_type": "stream",
     "text": [
      "Feature Extraction: 100%|██████████| 20/20 [00:00<00:00, 1183.81it/s]\n",
      "Feature Extraction: 100%|██████████| 15/15 [00:00<00:00, 1921.99it/s]\n",
      "Feature Extraction: 100%|██████████| 15/15 [00:00<00:00, 3155.83it/s]\n",
      "Feature Extraction: 100%|██████████| 15/15 [00:00<00:00, 64067.78it/s]\n"
     ]
    },
    {
     "name": "stdout",
     "output_type": "stream",
     "text": [
      "         130013 done in   0.5 minutes\n"
     ]
    },
    {
     "name": "stderr",
     "output_type": "stream",
     "text": [
      "Feature Extraction: 100%|██████████| 19/19 [00:00<00:00, 1541.81it/s]\n",
      "Feature Extraction: 100%|██████████| 16/16 [00:00<00:00, 2024.95it/s]\n",
      "Feature Extraction: 100%|██████████| 16/16 [00:00<00:00, 2568.47it/s]\n",
      "Feature Extraction: 100%|██████████| 16/16 [00:00<00:00, 16764.64it/s]\n"
     ]
    },
    {
     "name": "stdout",
     "output_type": "stream",
     "text": [
      "         140014 done in   0.5 minutes\n"
     ]
    },
    {
     "name": "stderr",
     "output_type": "stream",
     "text": [
      "Feature Extraction: 100%|██████████| 19/19 [00:00<00:00, 765.21it/s]\n",
      "Feature Extraction: 100%|██████████| 16/16 [00:00<00:00, 1582.91it/s]\n",
      "Feature Extraction: 100%|██████████| 16/16 [00:00<00:00, 11054.00it/s]\n",
      "Feature Extraction: 100%|██████████| 16/16 [00:00<00:00, 27492.37it/s]\n"
     ]
    },
    {
     "name": "stdout",
     "output_type": "stream",
     "text": [
      "         150015 done in   0.5 minutes\n"
     ]
    },
    {
     "name": "stderr",
     "output_type": "stream",
     "text": [
      "Feature Extraction: 100%|██████████| 20/20 [00:00<00:00, 696.13it/s]\n",
      "Feature Extraction: 100%|██████████| 15/15 [00:00<00:00, 1971.38it/s]\n",
      "Feature Extraction: 100%|██████████| 15/15 [00:00<00:00, 8356.30it/s]\n",
      "Feature Extraction: 100%|██████████| 15/15 [00:00<00:00, 29235.39it/s]\n"
     ]
    },
    {
     "name": "stdout",
     "output_type": "stream",
     "text": [
      "         160016 done in   0.6 minutes\n"
     ]
    },
    {
     "name": "stderr",
     "output_type": "stream",
     "text": [
      "Feature Extraction: 100%|██████████| 20/20 [00:00<00:00, 871.05it/s]\n",
      "Feature Extraction: 100%|██████████| 16/16 [00:00<00:00, 1393.23it/s]\n",
      "Feature Extraction: 100%|██████████| 16/16 [00:00<00:00, 2461.72it/s]\n",
      "Feature Extraction: 100%|██████████| 16/16 [00:00<00:00, 14146.05it/s]\n"
     ]
    },
    {
     "name": "stdout",
     "output_type": "stream",
     "text": [
      "         170017 done in   0.6 minutes\n"
     ]
    },
    {
     "name": "stderr",
     "output_type": "stream",
     "text": [
      "Feature Extraction: 100%|██████████| 20/20 [00:00<00:00, 1909.06it/s]\n",
      "Feature Extraction: 100%|██████████| 15/15 [00:00<00:00, 1454.81it/s]\n",
      "Feature Extraction: 100%|██████████| 15/15 [00:00<00:00, 2809.31it/s]\n",
      "Feature Extraction: 100%|██████████| 15/15 [00:00<00:00, 12288.00it/s]\n"
     ]
    },
    {
     "name": "stdout",
     "output_type": "stream",
     "text": [
      "         180018 done in   0.6 minutes\n"
     ]
    },
    {
     "name": "stderr",
     "output_type": "stream",
     "text": [
      "Feature Extraction: 100%|██████████| 20/20 [00:00<00:00, 828.71it/s]\n",
      "Feature Extraction: 100%|██████████| 15/15 [00:00<00:00, 1445.68it/s]\n",
      "Feature Extraction: 100%|██████████| 15/15 [00:00<00:00, 4902.56it/s]\n",
      "Feature Extraction: 100%|██████████| 15/15 [00:00<00:00, 12326.52it/s]\n"
     ]
    },
    {
     "name": "stdout",
     "output_type": "stream",
     "text": [
      "         190019 done in   0.6 minutes\n"
     ]
    },
    {
     "name": "stderr",
     "output_type": "stream",
     "text": [
      "Feature Extraction: 100%|██████████| 20/20 [00:00<00:00, 742.48it/s]\n",
      "Feature Extraction: 100%|██████████| 15/15 [00:00<00:00, 1620.84it/s]\n",
      "Feature Extraction: 100%|██████████| 15/15 [00:00<00:00, 5084.42it/s]\n",
      "Feature Extraction: 100%|██████████| 15/15 [00:00<00:00, 8145.33it/s]\n"
     ]
    },
    {
     "name": "stdout",
     "output_type": "stream",
     "text": [
      "         200020 done in   0.7 minutes\n"
     ]
    },
    {
     "name": "stderr",
     "output_type": "stream",
     "text": [
      "Feature Extraction: 100%|██████████| 20/20 [00:00<00:00, 1299.07it/s]\n",
      "Feature Extraction: 100%|██████████| 15/15 [00:00<00:00, 1189.96it/s]\n",
      "Feature Extraction: 100%|██████████| 15/15 [00:00<00:00, 3138.82it/s]\n",
      "Feature Extraction: 100%|██████████| 15/15 [00:00<00:00, 16867.17it/s]\n"
     ]
    },
    {
     "name": "stdout",
     "output_type": "stream",
     "text": [
      "         210021 done in   0.7 minutes\n"
     ]
    },
    {
     "name": "stderr",
     "output_type": "stream",
     "text": [
      "Feature Extraction: 100%|██████████| 20/20 [00:00<00:00, 2973.52it/s]\n",
      "Feature Extraction: 100%|██████████| 15/15 [00:00<00:00, 1381.22it/s]\n",
      "Feature Extraction: 100%|██████████| 15/15 [00:00<00:00, 2663.16it/s]\n",
      "Feature Extraction: 100%|██████████| 15/15 [00:00<00:00, 35069.43it/s]\n"
     ]
    },
    {
     "name": "stdout",
     "output_type": "stream",
     "text": [
      "         220022 done in   0.7 minutes\n"
     ]
    },
    {
     "name": "stderr",
     "output_type": "stream",
     "text": [
      "Feature Extraction: 100%|██████████| 19/19 [00:00<00:00, 737.81it/s]\n",
      "Feature Extraction: 100%|██████████| 16/16 [00:00<00:00, 1375.58it/s]\n",
      "Feature Extraction: 100%|██████████| 16/16 [00:00<00:00, 2842.27it/s]\n",
      "Feature Extraction: 100%|██████████| 16/16 [00:00<00:00, 51385.04it/s]\n"
     ]
    },
    {
     "name": "stdout",
     "output_type": "stream",
     "text": [
      "         230023 done in   0.8 minutes\n"
     ]
    },
    {
     "name": "stderr",
     "output_type": "stream",
     "text": [
      "Feature Extraction: 100%|██████████| 20/20 [00:00<00:00, 837.13it/s]\n",
      "Feature Extraction: 100%|██████████| 15/15 [00:00<00:00, 1177.98it/s]\n",
      "Feature Extraction: 100%|██████████| 15/15 [00:00<00:00, 2661.47it/s]\n",
      "Feature Extraction: 100%|██████████| 15/15 [00:00<00:00, 16090.68it/s]\n"
     ]
    },
    {
     "name": "stdout",
     "output_type": "stream",
     "text": [
      "         240024 done in   0.8 minutes\n"
     ]
    },
    {
     "name": "stderr",
     "output_type": "stream",
     "text": [
      "Feature Extraction: 100%|██████████| 19/19 [00:00<00:00, 787.97it/s]\n",
      "Feature Extraction: 100%|██████████| 16/16 [00:00<00:00, 1728.90it/s]\n",
      "Feature Extraction: 100%|██████████| 16/16 [00:00<00:00, 10419.01it/s]\n",
      "Feature Extraction: 100%|██████████| 16/16 [00:00<00:00, 31300.78it/s]\n"
     ]
    },
    {
     "name": "stdout",
     "output_type": "stream",
     "text": [
      "         250025 done in   0.8 minutes\n"
     ]
    },
    {
     "name": "stderr",
     "output_type": "stream",
     "text": [
      "Feature Extraction: 100%|██████████| 20/20 [00:00<00:00, 1117.13it/s]\n",
      "Feature Extraction: 100%|██████████| 15/15 [00:00<00:00, 1212.02it/s]\n",
      "Feature Extraction: 100%|██████████| 15/15 [00:00<00:00, 3104.90it/s]\n",
      "Feature Extraction: 100%|██████████| 15/15 [00:00<00:00, 15992.52it/s]\n"
     ]
    },
    {
     "name": "stdout",
     "output_type": "stream",
     "text": [
      "         260026 done in   0.9 minutes\n"
     ]
    },
    {
     "name": "stderr",
     "output_type": "stream",
     "text": [
      "Feature Extraction: 100%|██████████| 20/20 [00:00<00:00, 3318.93it/s]\n",
      "Feature Extraction: 100%|██████████| 15/15 [00:00<00:00, 1329.72it/s]\n",
      "Feature Extraction: 100%|██████████| 15/15 [00:00<00:00, 3294.65it/s]\n",
      "Feature Extraction: 100%|██████████| 15/15 [00:00<00:00, 54189.97it/s]\n"
     ]
    },
    {
     "name": "stdout",
     "output_type": "stream",
     "text": [
      "         270027 done in   0.9 minutes\n"
     ]
    },
    {
     "name": "stderr",
     "output_type": "stream",
     "text": [
      "Feature Extraction: 100%|██████████| 19/19 [00:00<00:00, 806.52it/s]\n",
      "Feature Extraction: 100%|██████████| 16/16 [00:00<00:00, 1818.18it/s]\n",
      "Feature Extraction: 100%|██████████| 16/16 [00:00<00:00, 1524.16it/s]\n",
      "Feature Extraction: 100%|██████████| 16/16 [00:00<00:00, 38195.14it/s]\n"
     ]
    },
    {
     "name": "stdout",
     "output_type": "stream",
     "text": [
      "         280028 done in   0.9 minutes\n"
     ]
    },
    {
     "name": "stderr",
     "output_type": "stream",
     "text": [
      "Feature Extraction: 100%|██████████| 20/20 [00:00<00:00, 1310.37it/s]\n",
      "Feature Extraction: 100%|██████████| 15/15 [00:00<00:00, 1221.07it/s]\n",
      "Feature Extraction: 100%|██████████| 15/15 [00:00<00:00, 3018.50it/s]\n",
      "Feature Extraction: 100%|██████████| 15/15 [00:00<00:00, 28728.11it/s]\n"
     ]
    },
    {
     "name": "stdout",
     "output_type": "stream",
     "text": [
      "         290029 done in   0.9 minutes\n"
     ]
    },
    {
     "name": "stderr",
     "output_type": "stream",
     "text": [
      "Feature Extraction: 100%|██████████| 19/19 [00:00<00:00, 830.01it/s]\n",
      "Feature Extraction: 100%|██████████| 16/16 [00:00<00:00, 1224.95it/s]\n",
      "Feature Extraction: 100%|██████████| 16/16 [00:00<00:00, 2576.95it/s]\n",
      "Feature Extraction: 100%|██████████| 16/16 [00:00<00:00, 13030.85it/s]\n"
     ]
    },
    {
     "name": "stdout",
     "output_type": "stream",
     "text": [
      "         300030 done in   1.0 minutes\n"
     ]
    },
    {
     "name": "stderr",
     "output_type": "stream",
     "text": [
      "Feature Extraction: 100%|██████████| 20/20 [00:00<00:00, 740.64it/s]\n",
      "Feature Extraction: 100%|██████████| 15/15 [00:00<00:00, 1437.78it/s]\n",
      "Feature Extraction: 100%|██████████| 15/15 [00:00<00:00, 2731.38it/s]\n",
      "Feature Extraction: 100%|██████████| 15/15 [00:00<00:00, 23876.49it/s]\n"
     ]
    },
    {
     "name": "stdout",
     "output_type": "stream",
     "text": [
      "         310031 done in   1.0 minutes\n"
     ]
    },
    {
     "name": "stderr",
     "output_type": "stream",
     "text": [
      "Feature Extraction: 100%|██████████| 20/20 [00:00<00:00, 868.76it/s]\n",
      "Feature Extraction: 100%|██████████| 15/15 [00:00<00:00, 1326.22it/s]\n",
      "Feature Extraction: 100%|██████████| 15/15 [00:00<00:00, 1995.26it/s]\n",
      "Feature Extraction: 100%|██████████| 15/15 [00:00<00:00, 26127.31it/s]\n"
     ]
    },
    {
     "name": "stdout",
     "output_type": "stream",
     "text": [
      "         320032 done in   1.0 minutes\n"
     ]
    },
    {
     "name": "stderr",
     "output_type": "stream",
     "text": [
      "Feature Extraction: 100%|██████████| 20/20 [00:00<00:00, 1255.18it/s]\n",
      "Feature Extraction: 100%|██████████| 15/15 [00:00<00:00, 1224.11it/s]\n",
      "Feature Extraction: 100%|██████████| 15/15 [00:00<00:00, 4605.41it/s]\n",
      "Feature Extraction: 100%|██████████| 15/15 [00:00<00:00, 51442.81it/s]\n"
     ]
    },
    {
     "name": "stdout",
     "output_type": "stream",
     "text": [
      "         330033 done in   1.1 minutes\n"
     ]
    },
    {
     "name": "stderr",
     "output_type": "stream",
     "text": [
      "Feature Extraction: 100%|██████████| 20/20 [00:00<00:00, 1028.67it/s]\n",
      "Feature Extraction: 100%|██████████| 16/16 [00:00<00:00, 1713.62it/s]\n",
      "Feature Extraction: 100%|██████████| 16/16 [00:00<00:00, 3010.31it/s]\n",
      "Feature Extraction: 100%|██████████| 16/16 [00:00<00:00, 14681.44it/s]\n"
     ]
    },
    {
     "name": "stdout",
     "output_type": "stream",
     "text": [
      "         340034 done in   1.1 minutes\n"
     ]
    },
    {
     "name": "stderr",
     "output_type": "stream",
     "text": [
      "Feature Extraction: 100%|██████████| 20/20 [00:00<00:00, 2022.28it/s]\n",
      "Feature Extraction: 100%|██████████| 15/15 [00:00<00:00, 1393.15it/s]\n",
      "Feature Extraction: 100%|██████████| 15/15 [00:00<00:00, 3628.92it/s]\n",
      "Feature Extraction: 100%|██████████| 15/15 [00:00<00:00, 29413.07it/s]\n"
     ]
    },
    {
     "name": "stdout",
     "output_type": "stream",
     "text": [
      "         350035 done in   1.1 minutes\n"
     ]
    },
    {
     "name": "stderr",
     "output_type": "stream",
     "text": [
      "Feature Extraction: 100%|██████████| 19/19 [00:00<00:00, 773.90it/s]\n",
      "Feature Extraction: 100%|██████████| 16/16 [00:00<00:00, 1387.12it/s]\n",
      "Feature Extraction: 100%|██████████| 16/16 [00:00<00:00, 4336.60it/s]\n",
      "Feature Extraction: 100%|██████████| 16/16 [00:00<00:00, 32248.37it/s]\n"
     ]
    },
    {
     "name": "stdout",
     "output_type": "stream",
     "text": [
      "         360036 done in   1.1 minutes\n"
     ]
    },
    {
     "name": "stderr",
     "output_type": "stream",
     "text": [
      "Feature Extraction: 100%|██████████| 20/20 [00:00<00:00, 1305.80it/s]\n",
      "Feature Extraction: 100%|██████████| 15/15 [00:00<00:00, 1677.10it/s]\n",
      "Feature Extraction: 100%|██████████| 15/15 [00:00<00:00, 1699.98it/s]\n",
      "Feature Extraction: 100%|██████████| 15/15 [00:00<00:00, 39743.88it/s]\n"
     ]
    },
    {
     "name": "stdout",
     "output_type": "stream",
     "text": [
      "         370037 done in   1.2 minutes\n"
     ]
    },
    {
     "name": "stderr",
     "output_type": "stream",
     "text": [
      "Feature Extraction: 100%|██████████| 20/20 [00:00<00:00, 841.02it/s]\n",
      "Feature Extraction: 100%|██████████| 15/15 [00:00<00:00, 1301.85it/s]\n",
      "Feature Extraction: 100%|██████████| 15/15 [00:00<00:00, 2594.20it/s]\n",
      "Feature Extraction: 100%|██████████| 15/15 [00:00<00:00, 46881.19it/s]\n"
     ]
    },
    {
     "name": "stdout",
     "output_type": "stream",
     "text": [
      "         380038 done in   1.2 minutes\n"
     ]
    },
    {
     "name": "stderr",
     "output_type": "stream",
     "text": [
      "Feature Extraction: 100%|██████████| 20/20 [00:00<00:00, 817.44it/s]\n",
      "Feature Extraction: 100%|██████████| 16/16 [00:00<00:00, 1398.60it/s]\n",
      "Feature Extraction: 100%|██████████| 16/16 [00:00<00:00, 3698.27it/s]\n",
      "Feature Extraction: 100%|██████████| 16/16 [00:00<00:00, 10563.33it/s]\n"
     ]
    },
    {
     "name": "stdout",
     "output_type": "stream",
     "text": [
      "         390039 done in   1.2 minutes\n"
     ]
    },
    {
     "name": "stderr",
     "output_type": "stream",
     "text": [
      "Feature Extraction: 100%|██████████| 19/19 [00:00<00:00, 734.77it/s]\n",
      "Feature Extraction: 100%|██████████| 16/16 [00:00<00:00, 1074.79it/s]\n",
      "Feature Extraction: 100%|██████████| 16/16 [00:00<00:00, 3014.64it/s]\n",
      "Feature Extraction: 100%|██████████| 16/16 [00:00<00:00, 2930.65it/s]\n"
     ]
    },
    {
     "name": "stdout",
     "output_type": "stream",
     "text": [
      "         400040 done in   1.3 minutes\n"
     ]
    },
    {
     "name": "stderr",
     "output_type": "stream",
     "text": [
      "Feature Extraction: 100%|██████████| 20/20 [00:00<00:00, 876.23it/s]\n",
      "Feature Extraction: 100%|██████████| 15/15 [00:00<00:00, 1642.98it/s]\n",
      "Feature Extraction: 100%|██████████| 15/15 [00:00<00:00, 2662.60it/s]\n",
      "Feature Extraction: 100%|██████████| 15/15 [00:00<00:00, 26875.08it/s]\n"
     ]
    },
    {
     "name": "stdout",
     "output_type": "stream",
     "text": [
      "         410041 done in   1.3 minutes\n"
     ]
    },
    {
     "name": "stderr",
     "output_type": "stream",
     "text": [
      "Feature Extraction: 100%|██████████| 19/19 [00:00<00:00, 600.25it/s]\n",
      "Feature Extraction: 100%|██████████| 16/16 [00:00<00:00, 1659.80it/s]\n",
      "Feature Extraction: 100%|██████████| 16/16 [00:00<00:00, 2488.83it/s]\n",
      "Feature Extraction: 100%|██████████| 16/16 [00:00<00:00, 15520.09it/s]\n"
     ]
    },
    {
     "name": "stdout",
     "output_type": "stream",
     "text": [
      "         420042 done in   1.3 minutes\n"
     ]
    },
    {
     "name": "stderr",
     "output_type": "stream",
     "text": [
      "Feature Extraction: 100%|██████████| 20/20 [00:00<00:00, 2438.62it/s]\n",
      "Feature Extraction: 100%|██████████| 15/15 [00:00<00:00, 736.04it/s]\n",
      "Feature Extraction: 100%|██████████| 15/15 [00:00<00:00, 2117.19it/s]\n",
      "Feature Extraction: 100%|██████████| 15/15 [00:00<00:00, 42196.22it/s]\n"
     ]
    },
    {
     "name": "stdout",
     "output_type": "stream",
     "text": [
      "         430043 done in   1.4 minutes\n"
     ]
    },
    {
     "name": "stderr",
     "output_type": "stream",
     "text": [
      "Feature Extraction: 100%|██████████| 19/19 [00:00<00:00, 868.66it/s]\n",
      "Feature Extraction: 100%|██████████| 16/16 [00:00<00:00, 1233.41it/s]\n",
      "Feature Extraction: 100%|██████████| 16/16 [00:00<00:00, 2856.30it/s]\n",
      "Feature Extraction: 100%|██████████| 16/16 [00:00<00:00, 56205.08it/s]\n"
     ]
    },
    {
     "name": "stdout",
     "output_type": "stream",
     "text": [
      "         440044 done in   1.4 minutes\n"
     ]
    },
    {
     "name": "stderr",
     "output_type": "stream",
     "text": [
      "Feature Extraction: 100%|██████████| 20/20 [00:00<00:00, 671.74it/s]\n",
      "Feature Extraction: 100%|██████████| 15/15 [00:00<00:00, 1349.63it/s]\n",
      "Feature Extraction: 100%|██████████| 15/15 [00:00<00:00, 5371.80it/s]\n",
      "Feature Extraction: 100%|██████████| 15/15 [00:00<00:00, 57091.25it/s]\n"
     ]
    },
    {
     "name": "stdout",
     "output_type": "stream",
     "text": [
      "         450045 done in   1.4 minutes\n"
     ]
    },
    {
     "name": "stderr",
     "output_type": "stream",
     "text": [
      "Feature Extraction: 100%|██████████| 20/20 [00:00<00:00, 2596.85it/s]\n",
      "Feature Extraction: 100%|██████████| 15/15 [00:00<00:00, 1542.36it/s]\n",
      "Feature Extraction: 100%|██████████| 15/15 [00:00<00:00, 26291.08it/s]\n",
      "Feature Extraction: 100%|██████████| 15/15 [00:00<00:00, 14012.15it/s]\n"
     ]
    },
    {
     "name": "stdout",
     "output_type": "stream",
     "text": [
      "         460046 done in   1.4 minutes\n"
     ]
    },
    {
     "name": "stderr",
     "output_type": "stream",
     "text": [
      "Feature Extraction: 100%|██████████| 20/20 [00:00<00:00, 841.03it/s]\n",
      "Feature Extraction: 100%|██████████| 15/15 [00:00<00:00, 1273.88it/s]\n",
      "Feature Extraction: 100%|██████████| 15/15 [00:00<00:00, 2465.79it/s]\n",
      "Feature Extraction: 100%|██████████| 15/15 [00:00<00:00, 21754.69it/s]\n"
     ]
    },
    {
     "name": "stdout",
     "output_type": "stream",
     "text": [
      "         470047 done in   1.5 minutes\n"
     ]
    },
    {
     "name": "stderr",
     "output_type": "stream",
     "text": [
      "Feature Extraction: 100%|██████████| 20/20 [00:00<00:00, 760.60it/s]\n",
      "Feature Extraction: 100%|██████████| 15/15 [00:00<00:00, 1194.35it/s]\n",
      "Feature Extraction: 100%|██████████| 15/15 [00:00<00:00, 2355.20it/s]\n",
      "Feature Extraction: 100%|██████████| 15/15 [00:00<00:00, 12082.69it/s]\n"
     ]
    },
    {
     "name": "stdout",
     "output_type": "stream",
     "text": [
      "         480048 done in   1.5 minutes\n"
     ]
    },
    {
     "name": "stderr",
     "output_type": "stream",
     "text": [
      "Feature Extraction: 100%|██████████| 20/20 [00:00<00:00, 1037.56it/s]\n",
      "Feature Extraction: 100%|██████████| 15/15 [00:00<00:00, 2790.99it/s]\n",
      "Feature Extraction: 100%|██████████| 15/15 [00:00<00:00, 2486.94it/s]\n",
      "Feature Extraction: 100%|██████████| 15/15 [00:00<00:00, 12702.31it/s]\n"
     ]
    },
    {
     "name": "stdout",
     "output_type": "stream",
     "text": [
      "         490049 done in   1.5 minutes\n"
     ]
    },
    {
     "name": "stderr",
     "output_type": "stream",
     "text": [
      "Feature Extraction: 100%|██████████| 19/19 [00:00<00:00, 793.32it/s]\n",
      "Feature Extraction: 100%|██████████| 16/16 [00:00<00:00, 1271.58it/s]\n",
      "Feature Extraction: 100%|██████████| 16/16 [00:00<00:00, 2780.10it/s]\n",
      "Feature Extraction: 100%|██████████| 16/16 [00:00<00:00, 26122.56it/s]\n"
     ]
    },
    {
     "name": "stdout",
     "output_type": "stream",
     "text": [
      "         500050 done in   1.6 minutes\n"
     ]
    },
    {
     "name": "stderr",
     "output_type": "stream",
     "text": [
      "Feature Extraction: 100%|██████████| 20/20 [00:00<00:00, 923.14it/s]\n",
      "Feature Extraction: 100%|██████████| 15/15 [00:00<00:00, 1257.16it/s]\n",
      "Feature Extraction: 100%|██████████| 15/15 [00:00<00:00, 2373.69it/s]\n",
      "Feature Extraction: 100%|██████████| 15/15 [00:00<00:00, 23147.37it/s]\n"
     ]
    },
    {
     "name": "stdout",
     "output_type": "stream",
     "text": [
      "         510051 done in   1.6 minutes\n"
     ]
    },
    {
     "name": "stderr",
     "output_type": "stream",
     "text": [
      "Feature Extraction: 100%|██████████| 19/19 [00:00<00:00, 826.04it/s]\n",
      "Feature Extraction: 100%|██████████| 16/16 [00:00<00:00, 1144.44it/s]\n",
      "Feature Extraction: 100%|██████████| 16/16 [00:00<00:00, 2542.10it/s]\n",
      "Feature Extraction: 100%|██████████| 16/16 [00:00<00:00, 31403.31it/s]\n"
     ]
    },
    {
     "name": "stdout",
     "output_type": "stream",
     "text": [
      "         520052 done in   1.6 minutes\n"
     ]
    },
    {
     "name": "stderr",
     "output_type": "stream",
     "text": [
      "Feature Extraction: 100%|██████████| 20/20 [00:00<00:00, 825.37it/s]\n",
      "Feature Extraction: 100%|██████████| 15/15 [00:00<00:00, 2103.18it/s]\n",
      "Feature Extraction: 100%|██████████| 15/15 [00:00<00:00, 4505.16it/s]\n",
      "Feature Extraction: 100%|██████████| 15/15 [00:00<00:00, 37650.84it/s]\n"
     ]
    },
    {
     "name": "stdout",
     "output_type": "stream",
     "text": [
      "         530053 done in   1.7 minutes\n"
     ]
    },
    {
     "name": "stderr",
     "output_type": "stream",
     "text": [
      "Feature Extraction: 100%|██████████| 20/20 [00:00<00:00, 654.51it/s]\n",
      "Feature Extraction: 100%|██████████| 15/15 [00:00<00:00, 1372.60it/s]\n",
      "Feature Extraction: 100%|██████████| 15/15 [00:00<00:00, 5680.77it/s]\n",
      "Feature Extraction: 100%|██████████| 15/15 [00:00<00:00, 14997.51it/s]\n"
     ]
    },
    {
     "name": "stdout",
     "output_type": "stream",
     "text": [
      "         540054 done in   1.7 minutes\n"
     ]
    },
    {
     "name": "stderr",
     "output_type": "stream",
     "text": [
      "Feature Extraction: 100%|██████████| 20/20 [00:00<00:00, 2557.27it/s]\n",
      "Feature Extraction: 100%|██████████| 15/15 [00:00<00:00, 1084.36it/s]\n",
      "Feature Extraction: 100%|██████████| 15/15 [00:00<00:00, 2392.46it/s]\n",
      "Feature Extraction: 100%|██████████| 15/15 [00:00<00:00, 20197.29it/s]\n"
     ]
    },
    {
     "name": "stdout",
     "output_type": "stream",
     "text": [
      "         550055 done in   1.7 minutes\n"
     ]
    },
    {
     "name": "stderr",
     "output_type": "stream",
     "text": [
      "Feature Extraction: 100%|██████████| 19/19 [00:00<00:00, 1624.80it/s]\n",
      "Feature Extraction: 100%|██████████| 16/16 [00:00<00:00, 1408.78it/s]\n",
      "Feature Extraction: 100%|██████████| 16/16 [00:00<00:00, 4717.34it/s]\n",
      "Feature Extraction: 100%|██████████| 16/16 [00:00<00:00, 11835.78it/s]\n"
     ]
    },
    {
     "name": "stdout",
     "output_type": "stream",
     "text": [
      "         560056 done in   1.7 minutes\n"
     ]
    },
    {
     "name": "stderr",
     "output_type": "stream",
     "text": [
      "Feature Extraction: 100%|██████████| 19/19 [00:00<00:00, 753.52it/s]\n",
      "Feature Extraction: 100%|██████████| 16/16 [00:00<00:00, 1223.65it/s]\n",
      "Feature Extraction: 100%|██████████| 16/16 [00:00<00:00, 4046.12it/s]\n",
      "Feature Extraction: 100%|██████████| 16/16 [00:00<00:00, 29356.46it/s]\n"
     ]
    },
    {
     "name": "stdout",
     "output_type": "stream",
     "text": [
      "         570057 done in   1.8 minutes\n"
     ]
    },
    {
     "name": "stderr",
     "output_type": "stream",
     "text": [
      "Feature Extraction: 100%|██████████| 20/20 [00:00<00:00, 812.98it/s]\n",
      "Feature Extraction: 100%|██████████| 15/15 [00:00<00:00, 1427.90it/s]\n",
      "Feature Extraction: 100%|██████████| 15/15 [00:00<00:00, 17762.44it/s]\n",
      "Feature Extraction: 100%|██████████| 15/15 [00:00<00:00, 4579.27it/s]\n"
     ]
    },
    {
     "name": "stdout",
     "output_type": "stream",
     "text": [
      "         580058 done in   1.8 minutes\n"
     ]
    },
    {
     "name": "stderr",
     "output_type": "stream",
     "text": [
      "Feature Extraction: 100%|██████████| 20/20 [00:00<00:00, 739.38it/s]\n",
      "Feature Extraction: 100%|██████████| 15/15 [00:00<00:00, 1659.58it/s]\n",
      "Feature Extraction: 100%|██████████| 15/15 [00:00<00:00, 2778.79it/s]\n",
      "Feature Extraction: 100%|██████████| 15/15 [00:00<00:00, 65672.82it/s]\n"
     ]
    },
    {
     "name": "stdout",
     "output_type": "stream",
     "text": [
      "         590059 done in   1.8 minutes\n"
     ]
    },
    {
     "name": "stderr",
     "output_type": "stream",
     "text": [
      "Feature Extraction: 100%|██████████| 19/19 [00:00<00:00, 1466.03it/s]\n",
      "Feature Extraction: 100%|██████████| 16/16 [00:00<00:00, 1271.80it/s]\n",
      "Feature Extraction: 100%|██████████| 16/16 [00:00<00:00, 2168.23it/s]\n",
      "Feature Extraction: 100%|██████████| 16/16 [00:00<00:00, 58508.16it/s]\n"
     ]
    },
    {
     "name": "stdout",
     "output_type": "stream",
     "text": [
      "         600060 done in   1.9 minutes\n"
     ]
    },
    {
     "name": "stderr",
     "output_type": "stream",
     "text": [
      "Feature Extraction: 100%|██████████| 20/20 [00:00<00:00, 835.03it/s]\n",
      "Feature Extraction: 100%|██████████| 15/15 [00:00<00:00, 1788.82it/s]\n",
      "Feature Extraction: 100%|██████████| 15/15 [00:00<00:00, 2258.16it/s]\n",
      "Feature Extraction: 100%|██████████| 15/15 [00:00<00:00, 30131.49it/s]\n"
     ]
    },
    {
     "name": "stdout",
     "output_type": "stream",
     "text": [
      "         610061 done in   1.9 minutes\n"
     ]
    },
    {
     "name": "stderr",
     "output_type": "stream",
     "text": [
      "Feature Extraction: 100%|██████████| 20/20 [00:00<00:00, 749.28it/s]\n",
      "Feature Extraction: 100%|██████████| 15/15 [00:00<00:00, 1224.59it/s]\n",
      "Feature Extraction: 100%|██████████| 15/15 [00:00<00:00, 2398.48it/s]\n",
      "Feature Extraction: 100%|██████████| 15/15 [00:00<00:00, 27473.61it/s]\n"
     ]
    },
    {
     "name": "stdout",
     "output_type": "stream",
     "text": [
      "         620062 done in   1.9 minutes\n"
     ]
    },
    {
     "name": "stderr",
     "output_type": "stream",
     "text": [
      "Feature Extraction: 100%|██████████| 19/19 [00:00<00:00, 1218.01it/s]\n",
      "Feature Extraction: 100%|██████████| 16/16 [00:00<00:00, 1927.64it/s]\n",
      "Feature Extraction: 100%|██████████| 16/16 [00:00<00:00, 2672.28it/s]\n",
      "Feature Extraction: 100%|██████████| 16/16 [00:00<00:00, 55924.05it/s]\n"
     ]
    },
    {
     "name": "stdout",
     "output_type": "stream",
     "text": [
      "         630063 done in   1.9 minutes\n"
     ]
    },
    {
     "name": "stderr",
     "output_type": "stream",
     "text": [
      "Feature Extraction: 100%|██████████| 20/20 [00:00<00:00, 843.95it/s]\n",
      "Feature Extraction: 100%|██████████| 15/15 [00:00<00:00, 1780.67it/s]\n",
      "Feature Extraction: 100%|██████████| 15/15 [00:00<00:00, 22052.07it/s]\n",
      "Feature Extraction: 100%|██████████| 15/15 [00:00<00:00, 54330.36it/s]\n"
     ]
    },
    {
     "name": "stdout",
     "output_type": "stream",
     "text": [
      "         640064 done in   2.0 minutes\n"
     ]
    },
    {
     "name": "stderr",
     "output_type": "stream",
     "text": [
      "Feature Extraction: 100%|██████████| 19/19 [00:00<00:00, 710.71it/s]\n",
      "Feature Extraction: 100%|██████████| 16/16 [00:00<00:00, 1404.80it/s]\n",
      "Feature Extraction: 100%|██████████| 16/16 [00:00<00:00, 3528.33it/s]\n",
      "Feature Extraction: 100%|██████████| 16/16 [00:00<00:00, 55692.00it/s]\n"
     ]
    },
    {
     "name": "stdout",
     "output_type": "stream",
     "text": [
      "         650065 done in   2.0 minutes\n"
     ]
    },
    {
     "name": "stderr",
     "output_type": "stream",
     "text": [
      "Feature Extraction: 100%|██████████| 20/20 [00:00<00:00, 836.55it/s]\n",
      "Feature Extraction: 100%|██████████| 15/15 [00:00<00:00, 1445.65it/s]\n",
      "Feature Extraction: 100%|██████████| 15/15 [00:00<00:00, 1630.42it/s]\n",
      "Feature Extraction: 100%|██████████| 15/15 [00:00<00:00, 40774.18it/s]\n"
     ]
    },
    {
     "name": "stdout",
     "output_type": "stream",
     "text": [
      "         660066 done in   2.0 minutes\n"
     ]
    },
    {
     "name": "stderr",
     "output_type": "stream",
     "text": [
      "Feature Extraction: 100%|██████████| 19/19 [00:00<00:00, 837.93it/s]\n",
      "Feature Extraction: 100%|██████████| 16/16 [00:00<00:00, 1948.01it/s]\n",
      "Feature Extraction: 100%|██████████| 16/16 [00:00<00:00, 4312.35it/s]\n",
      "Feature Extraction: 100%|██████████| 16/16 [00:00<00:00, 50419.88it/s]\n"
     ]
    },
    {
     "name": "stdout",
     "output_type": "stream",
     "text": [
      "         670067 done in   2.1 minutes\n"
     ]
    },
    {
     "name": "stderr",
     "output_type": "stream",
     "text": [
      "Feature Extraction: 100%|██████████| 20/20 [00:00<00:00, 910.38it/s]\n",
      "Feature Extraction: 100%|██████████| 15/15 [00:00<00:00, 1054.83it/s]\n",
      "Feature Extraction: 100%|██████████| 15/15 [00:00<00:00, 6944.21it/s]\n",
      "Feature Extraction: 100%|██████████| 15/15 [00:00<00:00, 19790.68it/s]\n"
     ]
    },
    {
     "name": "stdout",
     "output_type": "stream",
     "text": [
      "         680068 done in   2.1 minutes\n"
     ]
    },
    {
     "name": "stderr",
     "output_type": "stream",
     "text": [
      "Feature Extraction: 100%|██████████| 19/19 [00:00<00:00, 874.30it/s]\n",
      "Feature Extraction: 100%|██████████| 16/16 [00:00<00:00, 1215.04it/s]\n",
      "Feature Extraction: 100%|██████████| 16/16 [00:00<00:00, 2462.17it/s]\n",
      "Feature Extraction: 100%|██████████| 16/16 [00:00<00:00, 23721.76it/s]\n"
     ]
    },
    {
     "name": "stdout",
     "output_type": "stream",
     "text": [
      "         690069 done in   2.1 minutes\n"
     ]
    },
    {
     "name": "stderr",
     "output_type": "stream",
     "text": [
      "Feature Extraction: 100%|██████████| 20/20 [00:00<00:00, 2987.18it/s]\n",
      "Feature Extraction: 100%|██████████| 15/15 [00:00<00:00, 2223.21it/s]\n",
      "Feature Extraction: 100%|██████████| 15/15 [00:00<00:00, 2488.32it/s]\n",
      "Feature Extraction: 100%|██████████| 15/15 [00:00<00:00, 9622.91it/s]\n"
     ]
    },
    {
     "name": "stdout",
     "output_type": "stream",
     "text": [
      "         700070 done in   2.1 minutes\n"
     ]
    },
    {
     "name": "stderr",
     "output_type": "stream",
     "text": [
      "Feature Extraction: 100%|██████████| 20/20 [00:00<00:00, 940.84it/s]\n",
      "Feature Extraction: 100%|██████████| 15/15 [00:00<00:00, 1548.55it/s]\n",
      "Feature Extraction: 100%|██████████| 15/15 [00:00<00:00, 3054.70it/s]\n",
      "Feature Extraction: 100%|██████████| 15/15 [00:00<00:00, 31269.66it/s]\n"
     ]
    },
    {
     "name": "stdout",
     "output_type": "stream",
     "text": [
      "         710071 done in   2.2 minutes\n"
     ]
    },
    {
     "name": "stderr",
     "output_type": "stream",
     "text": [
      "Feature Extraction: 100%|██████████| 19/19 [00:00<00:00, 1153.60it/s]\n",
      "Feature Extraction: 100%|██████████| 16/16 [00:00<00:00, 2319.06it/s]\n",
      "Feature Extraction: 100%|██████████| 16/16 [00:00<00:00, 5892.43it/s]\n",
      "Feature Extraction: 100%|██████████| 16/16 [00:00<00:00, 2869.62it/s]\n"
     ]
    },
    {
     "name": "stdout",
     "output_type": "stream",
     "text": [
      "         720072 done in   2.2 minutes\n"
     ]
    },
    {
     "name": "stderr",
     "output_type": "stream",
     "text": [
      "Feature Extraction: 100%|██████████| 19/19 [00:00<00:00, 843.45it/s]\n",
      "Feature Extraction: 100%|██████████| 16/16 [00:00<00:00, 1923.44it/s]\n",
      "Feature Extraction: 100%|██████████| 16/16 [00:00<00:00, 1861.19it/s]\n",
      "Feature Extraction: 100%|██████████| 16/16 [00:00<00:00, 14016.05it/s]\n"
     ]
    },
    {
     "name": "stdout",
     "output_type": "stream",
     "text": [
      "         730073 done in   2.2 minutes\n"
     ]
    },
    {
     "name": "stderr",
     "output_type": "stream",
     "text": [
      "Feature Extraction: 100%|██████████| 20/20 [00:00<00:00, 804.48it/s]\n",
      "Feature Extraction: 100%|██████████| 15/15 [00:00<00:00, 1491.68it/s]\n",
      "Feature Extraction: 100%|██████████| 15/15 [00:00<00:00, 2360.77it/s]\n",
      "Feature Extraction: 100%|██████████| 15/15 [00:00<00:00, 17105.64it/s]\n"
     ]
    },
    {
     "name": "stdout",
     "output_type": "stream",
     "text": [
      "         740074 done in   2.3 minutes\n"
     ]
    },
    {
     "name": "stderr",
     "output_type": "stream",
     "text": [
      "Feature Extraction: 100%|██████████| 20/20 [00:00<00:00, 1085.44it/s]\n",
      "Feature Extraction: 100%|██████████| 15/15 [00:00<00:00, 1397.33it/s]\n",
      "Feature Extraction: 100%|██████████| 15/15 [00:00<00:00, 8986.51it/s]\n",
      "Feature Extraction: 100%|██████████| 15/15 [00:00<00:00, 16622.08it/s]\n"
     ]
    },
    {
     "name": "stdout",
     "output_type": "stream",
     "text": [
      "         750075 done in   2.3 minutes\n"
     ]
    },
    {
     "name": "stderr",
     "output_type": "stream",
     "text": [
      "Feature Extraction: 100%|██████████| 19/19 [00:00<00:00, 1324.33it/s]\n",
      "Feature Extraction: 100%|██████████| 16/16 [00:00<00:00, 1550.04it/s]\n",
      "Feature Extraction: 100%|██████████| 16/16 [00:00<00:00, 2014.19it/s]\n",
      "Feature Extraction: 100%|██████████| 16/16 [00:00<00:00, 26789.97it/s]\n"
     ]
    },
    {
     "name": "stdout",
     "output_type": "stream",
     "text": [
      "         760076 done in   2.3 minutes\n"
     ]
    },
    {
     "name": "stderr",
     "output_type": "stream",
     "text": [
      "Feature Extraction: 100%|██████████| 20/20 [00:00<00:00, 800.45it/s]\n",
      "Feature Extraction: 100%|██████████| 16/16 [00:00<00:00, 1629.69it/s]\n",
      "Feature Extraction: 100%|██████████| 16/16 [00:00<00:00, 2342.61it/s]\n",
      "Feature Extraction: 100%|██████████| 16/16 [00:00<00:00, 45435.93it/s]\n"
     ]
    },
    {
     "name": "stdout",
     "output_type": "stream",
     "text": [
      "         770077 done in   2.4 minutes\n"
     ]
    },
    {
     "name": "stderr",
     "output_type": "stream",
     "text": [
      "Feature Extraction: 100%|██████████| 19/19 [00:00<00:00, 1716.79it/s]\n",
      "Feature Extraction: 100%|██████████| 16/16 [00:00<00:00, 2496.80it/s]\n",
      "Feature Extraction: 100%|██████████| 16/16 [00:00<00:00, 2207.82it/s]\n",
      "Feature Extraction: 100%|██████████| 16/16 [00:00<00:00, 56727.70it/s]\n"
     ]
    },
    {
     "name": "stdout",
     "output_type": "stream",
     "text": [
      "         780078 done in   2.4 minutes\n"
     ]
    },
    {
     "name": "stderr",
     "output_type": "stream",
     "text": [
      "Feature Extraction: 100%|██████████| 19/19 [00:00<00:00, 837.03it/s]\n",
      "Feature Extraction: 100%|██████████| 16/16 [00:00<00:00, 1617.78it/s]\n",
      "Feature Extraction: 100%|██████████| 16/16 [00:00<00:00, 4591.47it/s]\n",
      "Feature Extraction: 100%|██████████| 16/16 [00:00<00:00, 17910.03it/s]\n"
     ]
    },
    {
     "name": "stdout",
     "output_type": "stream",
     "text": [
      "         790079 done in   2.4 minutes\n"
     ]
    },
    {
     "name": "stderr",
     "output_type": "stream",
     "text": [
      "Feature Extraction: 100%|██████████| 20/20 [00:00<00:00, 1220.53it/s]\n",
      "Feature Extraction: 100%|██████████| 15/15 [00:00<00:00, 1983.69it/s]\n",
      "Feature Extraction: 100%|██████████| 15/15 [00:00<00:00, 3020.96it/s]\n",
      "Feature Extraction: 100%|██████████| 15/15 [00:00<00:00, 32330.20it/s]\n"
     ]
    },
    {
     "name": "stdout",
     "output_type": "stream",
     "text": [
      "         800080 done in   2.4 minutes\n"
     ]
    },
    {
     "name": "stderr",
     "output_type": "stream",
     "text": [
      "Feature Extraction: 100%|██████████| 20/20 [00:00<00:00, 936.01it/s]\n",
      "Feature Extraction: 100%|██████████| 15/15 [00:00<00:00, 1156.50it/s]\n",
      "Feature Extraction: 100%|██████████| 15/15 [00:00<00:00, 3452.67it/s]\n",
      "Feature Extraction: 100%|██████████| 15/15 [00:00<00:00, 11399.63it/s]\n"
     ]
    },
    {
     "name": "stdout",
     "output_type": "stream",
     "text": [
      "         810081 done in   2.5 minutes\n"
     ]
    },
    {
     "name": "stderr",
     "output_type": "stream",
     "text": [
      "Feature Extraction: 100%|██████████| 20/20 [00:00<00:00, 838.87it/s]\n",
      "Feature Extraction: 100%|██████████| 15/15 [00:00<00:00, 1153.02it/s]\n",
      "Feature Extraction: 100%|██████████| 15/15 [00:00<00:00, 2024.47it/s]\n",
      "Feature Extraction: 100%|██████████| 15/15 [00:00<00:00, 14546.72it/s]\n"
     ]
    },
    {
     "name": "stdout",
     "output_type": "stream",
     "text": [
      "         820082 done in   2.5 minutes\n"
     ]
    },
    {
     "name": "stderr",
     "output_type": "stream",
     "text": [
      "Feature Extraction: 100%|██████████| 20/20 [00:00<00:00, 912.47it/s]\n",
      "Feature Extraction: 100%|██████████| 15/15 [00:00<00:00, 1330.43it/s]\n",
      "Feature Extraction: 100%|██████████| 15/15 [00:00<00:00, 3151.87it/s]\n",
      "Feature Extraction: 100%|██████████| 15/15 [00:00<00:00, 42452.47it/s]\n"
     ]
    },
    {
     "name": "stdout",
     "output_type": "stream",
     "text": [
      "         830083 done in   2.5 minutes\n"
     ]
    },
    {
     "name": "stderr",
     "output_type": "stream",
     "text": [
      "Feature Extraction: 100%|██████████| 20/20 [00:00<00:00, 989.04it/s]\n",
      "Feature Extraction: 100%|██████████| 15/15 [00:00<00:00, 1548.44it/s]\n",
      "Feature Extraction: 100%|██████████| 15/15 [00:00<00:00, 3174.30it/s]\n",
      "Feature Extraction: 100%|██████████| 15/15 [00:00<00:00, 46192.78it/s]\n"
     ]
    },
    {
     "name": "stdout",
     "output_type": "stream",
     "text": [
      "         840084 done in   2.6 minutes\n"
     ]
    },
    {
     "name": "stderr",
     "output_type": "stream",
     "text": [
      "Feature Extraction: 100%|██████████| 20/20 [00:00<00:00, 1992.21it/s]\n",
      "Feature Extraction: 100%|██████████| 15/15 [00:00<00:00, 1526.83it/s]\n",
      "Feature Extraction: 100%|██████████| 15/15 [00:00<00:00, 3417.23it/s]\n",
      "Feature Extraction: 100%|██████████| 15/15 [00:00<00:00, 18487.97it/s]\n"
     ]
    },
    {
     "name": "stdout",
     "output_type": "stream",
     "text": [
      "         850085 done in   2.6 minutes\n"
     ]
    },
    {
     "name": "stderr",
     "output_type": "stream",
     "text": [
      "Feature Extraction: 100%|██████████| 19/19 [00:00<00:00, 909.09it/s]\n",
      "Feature Extraction: 100%|██████████| 16/16 [00:00<00:00, 1478.95it/s]\n",
      "Feature Extraction: 100%|██████████| 16/16 [00:00<00:00, 1991.77it/s]\n",
      "Feature Extraction: 100%|██████████| 16/16 [00:00<00:00, 56441.43it/s]\n"
     ]
    },
    {
     "name": "stdout",
     "output_type": "stream",
     "text": [
      "         860086 done in   2.6 minutes\n"
     ]
    },
    {
     "name": "stderr",
     "output_type": "stream",
     "text": [
      "Feature Extraction: 100%|██████████| 20/20 [00:00<00:00, 2593.64it/s]\n",
      "Feature Extraction: 100%|██████████| 15/15 [00:00<00:00, 1491.64it/s]\n",
      "Feature Extraction: 100%|██████████| 15/15 [00:00<00:00, 3639.20it/s]\n",
      "Feature Extraction: 100%|██████████| 15/15 [00:00<00:00, 59975.75it/s]\n"
     ]
    },
    {
     "name": "stdout",
     "output_type": "stream",
     "text": [
      "         870087 done in   2.6 minutes\n"
     ]
    },
    {
     "name": "stderr",
     "output_type": "stream",
     "text": [
      "Feature Extraction: 100%|██████████| 19/19 [00:00<00:00, 548.00it/s]\n",
      "Feature Extraction: 100%|██████████| 16/16 [00:00<00:00, 1167.42it/s]\n",
      "Feature Extraction: 100%|██████████| 16/16 [00:00<00:00, 2617.86it/s]\n",
      "Feature Extraction: 100%|██████████| 16/16 [00:00<00:00, 10963.71it/s]\n"
     ]
    },
    {
     "name": "stdout",
     "output_type": "stream",
     "text": [
      "         880088 done in   2.7 minutes\n"
     ]
    },
    {
     "name": "stderr",
     "output_type": "stream",
     "text": [
      "Feature Extraction: 100%|██████████| 20/20 [00:00<00:00, 751.37it/s]\n",
      "Feature Extraction: 100%|██████████| 15/15 [00:00<00:00, 1900.74it/s]\n",
      "Feature Extraction: 100%|██████████| 15/15 [00:00<00:00, 3997.88it/s]\n",
      "Feature Extraction: 100%|██████████| 15/15 [00:00<00:00, 58798.65it/s]\n"
     ]
    },
    {
     "name": "stdout",
     "output_type": "stream",
     "text": [
      "         890089 done in   2.7 minutes\n"
     ]
    },
    {
     "name": "stderr",
     "output_type": "stream",
     "text": [
      "Feature Extraction: 100%|██████████| 19/19 [00:00<00:00, 830.59it/s]\n",
      "Feature Extraction: 100%|██████████| 16/16 [00:00<00:00, 1571.71it/s]\n",
      "Feature Extraction: 100%|██████████| 16/16 [00:00<00:00, 14497.49it/s]\n",
      "Feature Extraction: 100%|██████████| 16/16 [00:00<00:00, 26865.04it/s]\n"
     ]
    },
    {
     "name": "stdout",
     "output_type": "stream",
     "text": [
      "         900090 done in   2.7 minutes\n"
     ]
    },
    {
     "name": "stderr",
     "output_type": "stream",
     "text": [
      "Feature Extraction: 100%|██████████| 19/19 [00:00<00:00, 902.26it/s]\n",
      "Feature Extraction: 100%|██████████| 16/16 [00:00<00:00, 1883.60it/s]\n",
      "Feature Extraction: 100%|██████████| 16/16 [00:00<00:00, 3375.70it/s]\n",
      "Feature Extraction: 100%|██████████| 16/16 [00:00<00:00, 47027.94it/s]\n"
     ]
    },
    {
     "name": "stdout",
     "output_type": "stream",
     "text": [
      "         910091 done in   2.8 minutes\n"
     ]
    },
    {
     "name": "stderr",
     "output_type": "stream",
     "text": [
      "Feature Extraction: 100%|██████████| 20/20 [00:00<00:00, 1610.68it/s]\n",
      "Feature Extraction: 100%|██████████| 15/15 [00:00<00:00, 2107.34it/s]\n",
      "Feature Extraction: 100%|██████████| 15/15 [00:00<00:00, 2565.11it/s]\n",
      "Feature Extraction: 100%|██████████| 15/15 [00:00<00:00, 35365.13it/s]\n"
     ]
    },
    {
     "name": "stdout",
     "output_type": "stream",
     "text": [
      "         920092 done in   2.8 minutes\n"
     ]
    },
    {
     "name": "stderr",
     "output_type": "stream",
     "text": [
      "Feature Extraction: 100%|██████████| 19/19 [00:00<00:00, 888.26it/s]\n",
      "Feature Extraction: 100%|██████████| 16/16 [00:00<00:00, 1426.09it/s]\n",
      "Feature Extraction: 100%|██████████| 16/16 [00:00<00:00, 15556.06it/s]\n",
      "Feature Extraction: 100%|██████████| 16/16 [00:00<00:00, 18162.07it/s]\n"
     ]
    },
    {
     "name": "stdout",
     "output_type": "stream",
     "text": [
      "         930093 done in   2.8 minutes\n"
     ]
    },
    {
     "name": "stderr",
     "output_type": "stream",
     "text": [
      "Feature Extraction: 100%|██████████| 20/20 [00:00<00:00, 904.85it/s]\n",
      "Feature Extraction: 100%|██████████| 16/16 [00:00<00:00, 1079.88it/s]\n",
      "Feature Extraction: 100%|██████████| 16/16 [00:00<00:00, 14710.40it/s]\n",
      "Feature Extraction: 100%|██████████| 16/16 [00:00<00:00, 56441.43it/s]\n"
     ]
    },
    {
     "name": "stdout",
     "output_type": "stream",
     "text": [
      "         940094 done in   2.9 minutes\n"
     ]
    },
    {
     "name": "stderr",
     "output_type": "stream",
     "text": [
      "Feature Extraction: 100%|██████████| 20/20 [00:00<00:00, 985.54it/s]\n",
      "Feature Extraction: 100%|██████████| 15/15 [00:00<00:00, 2270.14it/s]\n",
      "Feature Extraction: 100%|██████████| 15/15 [00:00<00:00, 4462.03it/s]\n",
      "Feature Extraction: 100%|██████████| 15/15 [00:00<00:00, 38106.94it/s]\n"
     ]
    },
    {
     "name": "stdout",
     "output_type": "stream",
     "text": [
      "         950095 done in   2.9 minutes\n"
     ]
    },
    {
     "name": "stderr",
     "output_type": "stream",
     "text": [
      "Feature Extraction: 100%|██████████| 19/19 [00:00<00:00, 736.53it/s]\n",
      "Feature Extraction: 100%|██████████| 16/16 [00:00<00:00, 1610.45it/s]\n",
      "Feature Extraction: 100%|██████████| 16/16 [00:00<00:00, 2072.03it/s]\n",
      "Feature Extraction: 100%|██████████| 16/16 [00:00<00:00, 36913.57it/s]\n"
     ]
    },
    {
     "name": "stdout",
     "output_type": "stream",
     "text": [
      "         960096 done in   2.9 minutes\n"
     ]
    },
    {
     "name": "stderr",
     "output_type": "stream",
     "text": [
      "Feature Extraction: 100%|██████████| 20/20 [00:00<00:00, 969.96it/s]\n",
      "Feature Extraction: 100%|██████████| 15/15 [00:00<00:00, 1298.65it/s]\n",
      "Feature Extraction: 100%|██████████| 15/15 [00:00<00:00, 2499.88it/s]\n",
      "Feature Extraction: 100%|██████████| 15/15 [00:00<00:00, 23822.25it/s]\n"
     ]
    },
    {
     "name": "stdout",
     "output_type": "stream",
     "text": [
      "         970097 done in   2.9 minutes\n"
     ]
    },
    {
     "name": "stderr",
     "output_type": "stream",
     "text": [
      "Feature Extraction: 100%|██████████| 20/20 [00:00<00:00, 1041.93it/s]\n",
      "Feature Extraction: 100%|██████████| 15/15 [00:00<00:00, 1024.87it/s]\n",
      "Feature Extraction: 100%|██████████| 15/15 [00:00<00:00, 3700.42it/s]\n",
      "Feature Extraction: 100%|██████████| 15/15 [00:00<00:00, 25700.39it/s]\n"
     ]
    },
    {
     "name": "stdout",
     "output_type": "stream",
     "text": [
      "         980098 done in   3.0 minutes\n"
     ]
    },
    {
     "name": "stderr",
     "output_type": "stream",
     "text": [
      "Feature Extraction: 100%|██████████| 20/20 [00:00<00:00, 838.42it/s]\n",
      "Feature Extraction: 100%|██████████| 15/15 [00:00<00:00, 1456.66it/s]\n",
      "Feature Extraction: 100%|██████████| 15/15 [00:00<00:00, 1929.07it/s]\n",
      "Feature Extraction: 100%|██████████| 15/15 [00:00<00:00, 39028.88it/s]\n"
     ]
    },
    {
     "name": "stdout",
     "output_type": "stream",
     "text": [
      "         990099 done in   3.0 minutes\n"
     ]
    },
    {
     "name": "stderr",
     "output_type": "stream",
     "text": [
      "Feature Extraction: 100%|██████████| 20/20 [00:00<00:00, 797.27it/s]\n",
      "Feature Extraction: 100%|██████████| 15/15 [00:00<00:00, 1518.68it/s]\n",
      "Feature Extraction: 100%|██████████| 15/15 [00:00<00:00, 3625.78it/s]\n",
      "Feature Extraction: 100%|██████████| 15/15 [00:00<00:00, 10510.28it/s]\n"
     ]
    },
    {
     "name": "stdout",
     "output_type": "stream",
     "text": [
      "        1000100 done in   3.0 minutes\n"
     ]
    },
    {
     "name": "stderr",
     "output_type": "stream",
     "text": [
      "Feature Extraction: 100%|██████████| 6/6 [00:00<00:00, 2326.08it/s]\n",
      "Feature Extraction: 100%|██████████| 1/1 [00:00<00:00, 1093.12it/s]\n",
      "Feature Extraction: 100%|██████████| 1/1 [00:00<00:00, 1146.61it/s]\n",
      "Feature Extraction: 100%|██████████| 1/1 [00:00<00:00, 1205.26it/s]\n"
     ]
    },
    {
     "name": "stdout",
     "output_type": "stream",
     "text": [
      "CPU times: user 1min 29s, sys: 53.5 s, total: 2min 22s\n",
      "Wall time: 3min 3s\n"
     ]
    }
   ],
   "source": [
    "%%time\n",
    "# should take 100x (time after 1st iteration)\n",
    "process_test(\n",
    "    clfs, \n",
    "    features=X.columns, \n",
    "    featurize_configs={'aggs': aggs, 'fcp': fcp}, \n",
    "    train_mean=train_mean, \n",
    "    output_path=filename,\n",
    "    meta_path='../data/raw/test_set_metadata.csv',\n",
    "    test_path='../data/raw/test_set_sample.csv',\n",
    "    chunks=chunk_size_one_100,\n",
    "    n_jobs=4\n",
    ")"
   ]
  },
  {
   "cell_type": "code",
   "execution_count": 20,
   "metadata": {},
   "outputs": [
    {
     "name": "stdout",
     "output_type": "stream",
     "text": [
      "Shape BEFORE grouping: (3036, 16)\n",
      "Shape AFTER grouping: (3036, 15)\n"
     ]
    }
   ],
   "source": [
    "z = pd.read_csv(filename)\n",
    "print(\"Shape BEFORE grouping: {}\".format(z.shape))\n",
    "z = z.groupby('object_id').mean()\n",
    "print(\"Shape AFTER grouping: {}\".format(z.shape))\n",
    "z.to_csv('single_{}'.format(filename), index=True)"
   ]
  }
 ],
 "metadata": {
  "kernelspec": {
   "display_name": "Python 3",
   "language": "python",
   "name": "python3"
  },
  "language_info": {
   "codemirror_mode": {
    "name": "ipython",
    "version": 3
   },
   "file_extension": ".py",
   "mimetype": "text/x-python",
   "name": "python",
   "nbconvert_exporter": "python",
   "pygments_lexer": "ipython3",
   "version": "3.6.7"
  }
 },
 "nbformat": 4,
 "nbformat_minor": 2
}
