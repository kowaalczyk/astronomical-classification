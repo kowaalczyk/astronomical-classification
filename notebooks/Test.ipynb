{
 "cells": [
  {
   "cell_type": "code",
   "execution_count": 1,
   "metadata": {},
   "outputs": [
    {
     "ename": "ModuleNotFoundError",
     "evalue": "No module named 'lightgbm'",
     "output_type": "error",
     "traceback": [
      "\u001b[0;31m---------------------------------------------------------------------------\u001b[0m",
      "\u001b[0;31mModuleNotFoundError\u001b[0m                       Traceback (most recent call last)",
      "\u001b[0;32m<ipython-input-1-dbe6e2b0910f>\u001b[0m in \u001b[0;36m<module>\u001b[0;34m\u001b[0m\n\u001b[1;32m      6\u001b[0m \u001b[0;34m\u001b[0m\u001b[0m\n\u001b[1;32m      7\u001b[0m \u001b[0;32mimport\u001b[0m \u001b[0mplasticc\u001b[0m\u001b[0;34m.\u001b[0m\u001b[0mxgb_train\u001b[0m \u001b[0;32mas\u001b[0m \u001b[0mxgb\u001b[0m\u001b[0;34m\u001b[0m\u001b[0m\n\u001b[0;32m----> 8\u001b[0;31m \u001b[0;32mimport\u001b[0m \u001b[0mplasticc\u001b[0m\u001b[0;34m.\u001b[0m\u001b[0mlgbm_train\u001b[0m \u001b[0;32mas\u001b[0m \u001b[0mlgbm\u001b[0m\u001b[0;34m\u001b[0m\u001b[0m\n\u001b[0m\u001b[1;32m      9\u001b[0m \u001b[0;32mfrom\u001b[0m \u001b[0mplasticc\u001b[0m\u001b[0;34m.\u001b[0m\u001b[0mfeaturize\u001b[0m \u001b[0;32mimport\u001b[0m \u001b[0mprocess_meta\u001b[0m\u001b[0;34m\u001b[0m\u001b[0m\n\u001b[1;32m     10\u001b[0m \u001b[0;32mfrom\u001b[0m \u001b[0mplasticc\u001b[0m\u001b[0;34m.\u001b[0m\u001b[0mfeaturize\u001b[0m \u001b[0;32mimport\u001b[0m \u001b[0mfeaturize\u001b[0m\u001b[0;34m\u001b[0m\u001b[0m\n",
      "\u001b[0;32m~/astronomical-classification/plasticc/lgbm_train.py\u001b[0m in \u001b[0;36m<module>\u001b[0;34m\u001b[0m\n\u001b[1;32m      3\u001b[0m \u001b[0;32mimport\u001b[0m \u001b[0mnumpy\u001b[0m \u001b[0;32mas\u001b[0m \u001b[0mnp\u001b[0m\u001b[0;34m\u001b[0m\u001b[0m\n\u001b[1;32m      4\u001b[0m \u001b[0;32mimport\u001b[0m \u001b[0mpandas\u001b[0m \u001b[0;32mas\u001b[0m \u001b[0mpd\u001b[0m\u001b[0;34m\u001b[0m\u001b[0m\n\u001b[0;32m----> 5\u001b[0;31m \u001b[0;32mfrom\u001b[0m \u001b[0mlightgbm\u001b[0m \u001b[0;32mimport\u001b[0m \u001b[0mLGBMClassifier\u001b[0m\u001b[0;34m\u001b[0m\u001b[0m\n\u001b[0m\u001b[1;32m      6\u001b[0m \u001b[0;32mfrom\u001b[0m \u001b[0msklearn\u001b[0m\u001b[0;34m.\u001b[0m\u001b[0mmodel_selection\u001b[0m \u001b[0;32mimport\u001b[0m \u001b[0mStratifiedKFold\u001b[0m\u001b[0;34m\u001b[0m\u001b[0m\n\u001b[1;32m      7\u001b[0m \u001b[0;34m\u001b[0m\u001b[0m\n",
      "\u001b[0;31mModuleNotFoundError\u001b[0m: No module named 'lightgbm'"
     ]
    }
   ],
   "source": [
    "import pandas as pd\n",
    "import numpy as np\n",
    "\n",
    "from datetime import datetime as dt\n",
    "from functools import partial, wraps\n",
    "\n",
    "import plasticc.xgb_train as xgb\n",
    "import plasticc.lgbm_train as lgbm\n",
    "from plasticc.featurize import process_meta\n",
    "from plasticc.featurize import featurize\n",
    "from plasticc.lgbm_train import lgbm_modeling_cross_validation\n",
    "from plasticc.xgb_train import xgb_modeling_cross_validation\n",
    "from plasticc.final import featurize_test, predict_test"
   ]
  },
  {
   "cell_type": "code",
   "execution_count": 2,
   "metadata": {},
   "outputs": [],
   "source": [
    "%load_ext autoreload\n",
    "%autoreload 2"
   ]
  },
  {
   "cell_type": "code",
   "execution_count": 3,
   "metadata": {},
   "outputs": [],
   "source": [
    "fcp = {\n",
    "    'flux': {\n",
    "        'longest_strike_above_mean': None,\n",
    "        'longest_strike_below_mean': None,\n",
    "        'mean_change': None,\n",
    "        'mean_abs_change': None,\n",
    "        'length': None,\n",
    "    },\n",
    "\n",
    "    'flux_by_flux_ratio_sq': {\n",
    "        'longest_strike_above_mean': None,\n",
    "        'longest_strike_below_mean': None,       \n",
    "    },\n",
    "\n",
    "    'flux_passband': {\n",
    "        'fft_coefficient': [\n",
    "                {'coeff': 0, 'attr': 'abs'}, \n",
    "                {'coeff': 1, 'attr': 'abs'}\n",
    "            ],\n",
    "        'kurtosis' : None, \n",
    "        'skewness' : None,\n",
    "    },\n",
    "\n",
    "    'mjd': {\n",
    "        'maximum': None, \n",
    "        'minimum': None,\n",
    "        'mean_change': None,\n",
    "        'mean_abs_change': None,\n",
    "    },\n",
    "}"
   ]
  },
  {
   "cell_type": "code",
   "execution_count": 4,
   "metadata": {},
   "outputs": [],
   "source": [
    "aggs = {\n",
    "    'flux': ['min', 'max', 'mean', 'median', 'std', 'skew'],\n",
    "    'flux_err': ['min', 'max', 'mean', 'median', 'std', 'skew'],\n",
    "    'detected': ['mean'],\n",
    "    'flux_ratio_sq':['sum', 'skew'],\n",
    "    'flux_by_flux_ratio_sq':['sum','skew'],\n",
    "}"
   ]
  },
  {
   "cell_type": "markdown",
   "metadata": {},
   "source": [
    "## Data processing"
   ]
  },
  {
   "cell_type": "code",
   "execution_count": 5,
   "metadata": {},
   "outputs": [
    {
     "name": "stdout",
     "output_type": "stream",
     "text": [
      "CPU times: user 1.18 s, sys: 56.2 ms, total: 1.24 s\n",
      "Wall time: 1.42 s\n"
     ]
    }
   ],
   "source": [
    "%%time\n",
    "meta_train = process_meta('../data/raw/training_set_metadata.csv')\n",
    "train = pd.read_csv('../data/raw/training_set.csv')"
   ]
  },
  {
   "cell_type": "code",
   "execution_count": 6,
   "metadata": {
    "scrolled": true
   },
   "outputs": [
    {
     "name": "stderr",
     "output_type": "stream",
     "text": [
      "Feature Extraction: 100%|██████████| 20/20 [00:08<00:00,  3.13it/s]\n",
      "Feature Extraction: 100%|██████████| 20/20 [00:01<00:00, 11.33it/s]\n",
      "Feature Extraction: 100%|██████████| 20/20 [00:01<00:00, 16.10it/s]\n",
      "Feature Extraction: 100%|██████████| 20/20 [00:00<00:00, 25.85it/s]\n"
     ]
    },
    {
     "name": "stdout",
     "output_type": "stream",
     "text": [
      "CPU times: user 18.7 s, sys: 789 ms, total: 19.5 s\n",
      "Wall time: 23.9 s\n"
     ]
    }
   ],
   "source": [
    "%%time\n",
    "X = featurize(train, meta_train, aggs, fcp, n_jobs=4)\n",
    "X_backup = X.copy()"
   ]
  },
  {
   "cell_type": "code",
   "execution_count": 7,
   "metadata": {},
   "outputs": [],
   "source": [
    "if 'target' in X:\n",
    "    y = X['target']\n",
    "    del X['target']\n",
    "else:\n",
    "    print(\"What the duck\")\n",
    "    3//0"
   ]
  },
  {
   "cell_type": "code",
   "execution_count": 8,
   "metadata": {},
   "outputs": [
    {
     "name": "stdout",
     "output_type": "stream",
     "text": [
      "Unique classes : 14, [6, 15, 16, 42, 52, 53, 62, 64, 65, 67, 88, 90, 92, 95]\n",
      "{6: 1, 15: 2, 16: 1, 42: 1, 52: 1, 53: 1, 62: 1, 64: 2, 65: 1, 67: 1, 88: 1, 90: 1, 92: 1, 95: 1}\n"
     ]
    }
   ],
   "source": [
    "# Taken from Giba's topic : https://www.kaggle.com/titericz\n",
    "# https://www.kaggle.com/c/PLAsTiCC-2018/discussion/67194\n",
    "# with Kyle Boone's post https://www.kaggle.com/kyleboone\n",
    "classes = sorted(y.unique())\n",
    "class_weights = {c: 1 for c in classes}\n",
    "class_weights.update({c:2 for c in [64, 15]})\n",
    "print('Unique classes : {}, {}'.format(len(classes), classes))\n",
    "print(class_weights)"
   ]
  },
  {
   "cell_type": "code",
   "execution_count": 9,
   "metadata": {},
   "outputs": [
    {
     "name": "stdout",
     "output_type": "stream",
     "text": [
      "CPU times: user 5.3 ms, sys: 3.2 ms, total: 8.5 ms\n",
      "Wall time: 8.15 ms\n"
     ]
    }
   ],
   "source": [
    "%%time\n",
    "train_mean = X.mean(axis=0)\n",
    "#train_mean.to_hdf('train_data.hdf5', 'data')\n",
    "pd.set_option('display.max_rows', 500)\n",
    "#import pdb; pdb.set_trace()\n",
    "X.fillna(0, inplace=True)"
   ]
  },
  {
   "cell_type": "markdown",
   "metadata": {},
   "source": [
    "## Train model with CV"
   ]
  },
  {
   "cell_type": "code",
   "execution_count": 10,
   "metadata": {},
   "outputs": [],
   "source": [
    "eval_func = partial(\n",
    "    lgbm_modeling_cross_validation, \n",
    "    X=X, \n",
    "    y=y, \n",
    "    classes=classes, \n",
    "    class_weights=class_weights, \n",
    "    nr_fold=5, \n",
    "    random_state=1\n",
    ")"
   ]
  },
  {
   "cell_type": "code",
   "execution_count": 11,
   "metadata": {},
   "outputs": [],
   "source": [
    "lgbm_params = {\n",
    "    'device': 'cpu',\n",
    "    'objective': 'multiclass',\n",
    "    'num_class': 14,\n",
    "    'boosting_type': 'gbdt',\n",
    "    'n_jobs': 16,\n",
    "    'max_depth': 7,\n",
    "    'n_estimators': 1024,\n",
    "    'subsample_freq': 2,\n",
    "    'subsample_for_bin': 5000,\n",
    "    'min_data_per_group': 100,\n",
    "    'max_cat_to_onehot': 4,\n",
    "    'cat_l2': 1.0,\n",
    "    'cat_smooth': 59.5,\n",
    "    'max_cat_threshold': 32,\n",
    "    'metric_freq': 10,\n",
    "    'verbosity': -1,\n",
    "    'metric': 'multi_logloss',\n",
    "    'xgboost_dart_mode': False,\n",
    "    'uniform_drop': False,\n",
    "    'colsample_bytree': 0.5,\n",
    "    'drop_rate': 0.173,\n",
    "    'learning_rate': 0.0267,\n",
    "    'max_drop': 5,\n",
    "    'min_child_samples': 10,\n",
    "    'min_child_weight': 100.0,\n",
    "    'min_split_gain': 0.1,\n",
    "    'num_leaves': 7,\n",
    "    'reg_alpha': 0.1,\n",
    "    'reg_lambda': 0.00023,\n",
    "    'skip_drop': 0.44,\n",
    "    'subsample': 0.75\n",
    "}\n",
    "\n",
    "\n",
    "xgb_params = {\n",
    "    'objective': 'multiclass',\n",
    "    'booster': 'gbdtree',\n",
    "    'n_jobs': 16,\n",
    "    'max_depth': 7,\n",
    "    'n_estimators': 1024,\n",
    "    'verbosity': -1,\n",
    "    'colsample_bytree': 0.5,\n",
    "    'learning_rate': 0.0267,\n",
    "    'min_child_weight': 100.0,\n",
    "    'reg_alpha': 0.1,\n",
    "    'reg_lambda': 0.00023,\n",
    "    'subsample': 0.75\n",
    "}"
   ]
  },
  {
   "cell_type": "code",
   "execution_count": 12,
   "metadata": {},
   "outputs": [
    {
     "name": "stdout",
     "output_type": "stream",
     "text": [
      "Training until validation scores don't improve for 50 rounds.\n",
      "[100]\ttraining's multi_logloss: 0.719458\ttraining's wloss: 0.712412\tvalid_1's multi_logloss: 1.05447\tvalid_1's wloss: 0.884753\n",
      "[200]\ttraining's multi_logloss: 0.464389\ttraining's wloss: 0.45543\tvalid_1's multi_logloss: 0.827313\tvalid_1's wloss: 0.682208\n",
      "[300]\ttraining's multi_logloss: 0.363731\ttraining's wloss: 0.354034\tvalid_1's multi_logloss: 0.747372\tvalid_1's wloss: 0.625374\n",
      "[400]\ttraining's multi_logloss: 0.306134\ttraining's wloss: 0.296357\tvalid_1's multi_logloss: 0.707577\tvalid_1's wloss: 0.607326\n",
      "[500]\ttraining's multi_logloss: 0.264831\ttraining's wloss: 0.255135\tvalid_1's multi_logloss: 0.680097\tvalid_1's wloss: 0.601133\n",
      "Early stopping, best iteration is:\n",
      "[508]\ttraining's multi_logloss: 0.262046\ttraining's wloss: 0.252407\tvalid_1's multi_logloss: 0.677936\tvalid_1's wloss: 0.600375\n",
      "no 1-fold loss: 0.6003746421112547\n",
      "Training until validation scores don't improve for 50 rounds.\n",
      "[100]\ttraining's multi_logloss: 0.719866\ttraining's wloss: 0.714649\tvalid_1's multi_logloss: 1.0549\tvalid_1's wloss: 0.912493\n",
      "[200]\ttraining's multi_logloss: 0.4651\ttraining's wloss: 0.456994\tvalid_1's multi_logloss: 0.829638\tvalid_1's wloss: 0.722766\n",
      "[300]\ttraining's multi_logloss: 0.365054\ttraining's wloss: 0.355859\tvalid_1's multi_logloss: 0.750765\tvalid_1's wloss: 0.683819\n",
      "[400]\ttraining's multi_logloss: 0.307567\ttraining's wloss: 0.298312\tvalid_1's multi_logloss: 0.713782\tvalid_1's wloss: 0.674138\n",
      "[500]\ttraining's multi_logloss: 0.266391\ttraining's wloss: 0.257429\tvalid_1's multi_logloss: 0.68613\tvalid_1's wloss: 0.666531\n",
      "[600]\ttraining's multi_logloss: 0.233927\ttraining's wloss: 0.225138\tvalid_1's multi_logloss: 0.665792\tvalid_1's wloss: 0.665602\n",
      "Early stopping, best iteration is:\n",
      "[616]\ttraining's multi_logloss: 0.229244\ttraining's wloss: 0.220467\tvalid_1's multi_logloss: 0.663059\tvalid_1's wloss: 0.665075\n",
      "no 2-fold loss: 0.665074979245978\n",
      "Training until validation scores don't improve for 50 rounds.\n",
      "[100]\ttraining's multi_logloss: 0.721357\ttraining's wloss: 0.715071\tvalid_1's multi_logloss: 1.0586\tvalid_1's wloss: 0.864213\n",
      "[200]\ttraining's multi_logloss: 0.46598\ttraining's wloss: 0.458111\tvalid_1's multi_logloss: 0.832451\tvalid_1's wloss: 0.657065\n",
      "[300]\ttraining's multi_logloss: 0.364747\ttraining's wloss: 0.356183\tvalid_1's multi_logloss: 0.747617\tvalid_1's wloss: 0.59995\n",
      "[400]\ttraining's multi_logloss: 0.307069\ttraining's wloss: 0.298305\tvalid_1's multi_logloss: 0.704697\tvalid_1's wloss: 0.580804\n",
      "[500]\ttraining's multi_logloss: 0.265461\ttraining's wloss: 0.256782\tvalid_1's multi_logloss: 0.676247\tvalid_1's wloss: 0.571877\n",
      "[600]\ttraining's multi_logloss: 0.232468\ttraining's wloss: 0.224084\tvalid_1's multi_logloss: 0.654938\tvalid_1's wloss: 0.568592\n",
      "Early stopping, best iteration is:\n",
      "[584]\ttraining's multi_logloss: 0.237303\ttraining's wloss: 0.228925\tvalid_1's multi_logloss: 0.657705\tvalid_1's wloss: 0.568381\n",
      "no 3-fold loss: 0.5683809245519857\n",
      "Training until validation scores don't improve for 50 rounds.\n",
      "[100]\ttraining's multi_logloss: 0.722139\ttraining's wloss: 0.715554\tvalid_1's multi_logloss: 1.05845\tvalid_1's wloss: 0.872919\n",
      "[200]\ttraining's multi_logloss: 0.465121\ttraining's wloss: 0.457089\tvalid_1's multi_logloss: 0.822495\tvalid_1's wloss: 0.665315\n",
      "[300]\ttraining's multi_logloss: 0.364896\ttraining's wloss: 0.356233\tvalid_1's multi_logloss: 0.737404\tvalid_1's wloss: 0.612946\n",
      "[400]\ttraining's multi_logloss: 0.307501\ttraining's wloss: 0.298682\tvalid_1's multi_logloss: 0.696291\tvalid_1's wloss: 0.597276\n",
      "[500]\ttraining's multi_logloss: 0.265425\ttraining's wloss: 0.256575\tvalid_1's multi_logloss: 0.667347\tvalid_1's wloss: 0.590861\n",
      "Early stopping, best iteration is:\n",
      "[543]\ttraining's multi_logloss: 0.250426\ttraining's wloss: 0.2417\tvalid_1's multi_logloss: 0.659184\tvalid_1's wloss: 0.589154\n",
      "no 4-fold loss: 0.5891537224819948\n",
      "Training until validation scores don't improve for 50 rounds.\n",
      "[100]\ttraining's multi_logloss: 0.718287\ttraining's wloss: 0.711079\tvalid_1's multi_logloss: 1.05375\tvalid_1's wloss: 0.905846\n",
      "[200]\ttraining's multi_logloss: 0.461209\ttraining's wloss: 0.452542\tvalid_1's multi_logloss: 0.816427\tvalid_1's wloss: 0.700308\n",
      "[300]\ttraining's multi_logloss: 0.362657\ttraining's wloss: 0.353501\tvalid_1's multi_logloss: 0.735047\tvalid_1's wloss: 0.651566\n",
      "[400]\ttraining's multi_logloss: 0.306647\ttraining's wloss: 0.297224\tvalid_1's multi_logloss: 0.690989\tvalid_1's wloss: 0.634173\n",
      "[500]\ttraining's multi_logloss: 0.266006\ttraining's wloss: 0.256871\tvalid_1's multi_logloss: 0.661946\tvalid_1's wloss: 0.627164\n",
      "[600]\ttraining's multi_logloss: 0.234093\ttraining's wloss: 0.2253\tvalid_1's multi_logloss: 0.641346\tvalid_1's wloss: 0.625644\n",
      "Early stopping, best iteration is:\n",
      "[558]\ttraining's multi_logloss: 0.246639\ttraining's wloss: 0.23765\tvalid_1's multi_logloss: 0.648907\tvalid_1's wloss: 0.625213\n",
      "no 5-fold loss: 0.6252127346737902\n",
      "MULTI WEIGHTED LOG LOSS: 0.60962\n",
      "CPU times: user 6min 5s, sys: 1min 38s, total: 7min 44s\n",
      "Wall time: 2min 22s\n"
     ]
    }
   ],
   "source": [
    "%%time\n",
    "# modeling from CV\n",
    "clfs, score = eval_func(lgbm_params)"
   ]
  },
  {
   "cell_type": "code",
   "execution_count": 13,
   "metadata": {},
   "outputs": [
    {
     "name": "stdout",
     "output_type": "stream",
     "text": [
      "save to subm_0.609619_2018-12-10-21-29.csv\n"
     ]
    }
   ],
   "source": [
    "filename = 'subm_{:.6f}_{}.csv'.format(\n",
    "    score, \n",
    "    dt.now().strftime('%Y-%m-%d-%H-%M')\n",
    ")\n",
    "print('save to {}'.format(filename))"
   ]
  },
  {
   "cell_type": "markdown",
   "metadata": {},
   "source": [
    "## FINAL RUN"
   ]
  },
  {
   "cell_type": "code",
   "execution_count": 14,
   "metadata": {},
   "outputs": [
    {
     "name": "stdout",
     "output_type": "stream",
     "text": [
      "453653105 ../data/raw/test_set.csv\n"
     ]
    }
   ],
   "source": [
    "# calculate test size\n",
    "!wc -l ../data/raw/test_set.csv"
   ]
  },
  {
   "cell_type": "code",
   "execution_count": 15,
   "metadata": {},
   "outputs": [
    {
     "data": {
      "text/plain": [
       "4536532"
      ]
     },
     "execution_count": 15,
     "metadata": {},
     "output_type": "execute_result"
    }
   ],
   "source": [
    "chunk_size_one_100 = 453653105 // 100 + 1\n",
    "#chunk_size_one_100 = 1000001 // 100 + 1\n",
    "chunk_size_one_100"
   ]
  },
  {
   "cell_type": "code",
   "execution_count": 16,
   "metadata": {},
   "outputs": [
    {
     "name": "stderr",
     "output_type": "stream",
     "text": [
      "Feature Extraction: 100%|██████████| 20/20 [00:17<00:00,  1.49it/s]\n",
      "Feature Extraction: 100%|██████████| 20/20 [00:06<00:00,  2.93it/s]\n",
      "Feature Extraction: 100%|██████████| 20/20 [00:03<00:00,  5.56it/s]\n",
      "Feature Extraction: 100%|██████████| 20/20 [00:01<00:00, 11.27it/s]\n",
      "Feature Extraction: 100%|██████████| 20/20 [00:17<00:00,  1.57it/s]\n",
      "Feature Extraction: 100%|██████████| 20/20 [00:06<00:00,  3.20it/s]\n",
      "Feature Extraction: 100%|██████████| 20/20 [00:03<00:00,  6.46it/s]\n",
      "Feature Extraction: 100%|██████████| 20/20 [00:01<00:00, 11.31it/s]\n",
      "Feature Extraction: 100%|██████████| 20/20 [00:42<00:00,  1.60s/it]\n",
      "Feature Extraction: 100%|██████████| 20/20 [00:09<00:00,  3.14it/s]\n",
      "Feature Extraction: 100%|██████████| 20/20 [00:05<00:00,  3.69it/s]\n",
      "Feature Extraction: 100%|██████████| 20/20 [00:03<00:00,  5.34it/s]\n",
      "Feature Extraction: 100%|██████████| 20/20 [00:39<00:00,  1.45s/it]\n",
      "Feature Extraction: 100%|██████████| 20/20 [00:07<00:00,  3.84it/s]\n",
      "Feature Extraction: 100%|██████████| 20/20 [00:04<00:00,  4.67it/s]\n",
      "Feature Extraction: 100%|██████████| 20/20 [00:03<00:00,  4.91it/s]\n",
      "Feature Extraction: 100%|██████████| 20/20 [00:38<00:00,  1.29s/it]\n",
      "Feature Extraction: 100%|██████████| 20/20 [00:07<00:00,  2.82it/s]\n",
      "Feature Extraction: 100%|██████████| 20/20 [00:04<00:00,  5.68it/s]\n",
      "Feature Extraction: 100%|██████████| 20/20 [00:03<00:00,  4.83it/s]\n",
      "Feature Extraction: 100%|██████████| 20/20 [00:36<00:00,  1.30s/it]\n",
      "Feature Extraction: 100%|██████████| 20/20 [00:07<00:00,  2.93it/s]\n",
      "Feature Extraction: 100%|██████████| 20/20 [00:05<00:00,  3.79it/s]\n",
      "Feature Extraction: 100%|██████████| 20/20 [00:04<00:00,  5.14it/s]\n",
      "Feature Extraction: 100%|██████████| 20/20 [00:38<00:00,  1.47s/it]\n",
      "Feature Extraction: 100%|██████████| 20/20 [00:08<00:00,  3.34it/s]\n",
      "Feature Extraction:  45%|████▌     | 9/20 [00:02<00:02,  3.71it/s]Process ForkPoolWorker-122:\n",
      "Process ForkPoolWorker-121:\n",
      "Process ForkPoolWorker-124:\n",
      "Process ForkPoolWorker-123:\n",
      "Traceback (most recent call last):\n",
      "  File \"/home/radek/.conda/envs/plasticc/lib/python3.6/multiprocessing/process.py\", line 258, in _bootstrap\n",
      "    self.run()\n",
      "Traceback (most recent call last):\n",
      "  File \"/home/radek/.conda/envs/plasticc/lib/python3.6/multiprocessing/process.py\", line 93, in run\n",
      "    self._target(*self._args, **self._kwargs)\n",
      "Traceback (most recent call last):\n",
      "Traceback (most recent call last):\n",
      "  File \"/home/radek/.conda/envs/plasticc/lib/python3.6/multiprocessing/process.py\", line 258, in _bootstrap\n",
      "    self.run()\n",
      "  File \"/home/radek/.conda/envs/plasticc/lib/python3.6/multiprocessing/process.py\", line 258, in _bootstrap\n",
      "    self.run()\n",
      "  File \"/home/radek/.conda/envs/plasticc/lib/python3.6/multiprocessing/process.py\", line 258, in _bootstrap\n",
      "    self.run()\n",
      "  File \"/home/radek/.conda/envs/plasticc/lib/python3.6/multiprocessing/pool.py\", line 108, in worker\n",
      "    task = get()\n",
      "  File \"/home/radek/.conda/envs/plasticc/lib/python3.6/multiprocessing/process.py\", line 93, in run\n",
      "    self._target(*self._args, **self._kwargs)\n",
      "  File \"/home/radek/.conda/envs/plasticc/lib/python3.6/multiprocessing/process.py\", line 93, in run\n",
      "    self._target(*self._args, **self._kwargs)\n",
      "  File \"/home/radek/.conda/envs/plasticc/lib/python3.6/multiprocessing/process.py\", line 93, in run\n",
      "    self._target(*self._args, **self._kwargs)\n",
      "  File \"/home/radek/.conda/envs/plasticc/lib/python3.6/multiprocessing/queues.py\", line 335, in get\n",
      "    res = self._reader.recv_bytes()\n",
      "  File \"/home/radek/.conda/envs/plasticc/lib/python3.6/multiprocessing/pool.py\", line 119, in worker\n",
      "    result = (True, func(*args, **kwds))\n",
      "  File \"/home/radek/.conda/envs/plasticc/lib/python3.6/multiprocessing/connection.py\", line 216, in recv_bytes\n",
      "    buf = self._recv_bytes(maxlength)\n",
      "  File \"/home/radek/.conda/envs/plasticc/lib/python3.6/multiprocessing/pool.py\", line 108, in worker\n",
      "    task = get()\n",
      "  File \"/home/radek/.conda/envs/plasticc/lib/python3.6/site-packages/tsfresh/utilities/distribution.py\", line 38, in _function_with_partly_reduce\n",
      "    results = list(itertools.chain.from_iterable(results))\n",
      "  File \"/home/radek/.conda/envs/plasticc/lib/python3.6/multiprocessing/queues.py\", line 337, in get\n",
      "    return _ForkingPickler.loads(res)\n",
      "  File \"/home/radek/.conda/envs/plasticc/lib/python3.6/multiprocessing/pool.py\", line 119, in worker\n",
      "    result = (True, func(*args, **kwds))\n",
      "  File \"/home/radek/.conda/envs/plasticc/lib/python3.6/multiprocessing/connection.py\", line 407, in _recv_bytes\n",
      "    buf = self._recv(4)\n",
      "  File \"/home/radek/.conda/envs/plasticc/lib/python3.6/site-packages/tsfresh/utilities/distribution.py\", line 38, in _function_with_partly_reduce\n",
      "    results = list(itertools.chain.from_iterable(results))\n",
      "  File \"/home/radek/.conda/envs/plasticc/lib/python3.6/multiprocessing/connection.py\", line 379, in _recv\n",
      "    chunk = read(handle, remaining)\n",
      "  File \"/home/radek/.conda/envs/plasticc/lib/python3.6/site-packages/pandas/core/indexes/base.py\", line 171, in _new_Index\n",
      "    def _new_Index(cls, d):\n",
      "  File \"/home/radek/.conda/envs/plasticc/lib/python3.6/site-packages/tsfresh/utilities/distribution.py\", line 37, in <genexpr>\n",
      "    results = (map_function(chunk, **kwargs) for chunk in chunk_list)\n",
      "KeyboardInterrupt\n",
      "  File \"/home/radek/.conda/envs/plasticc/lib/python3.6/site-packages/tsfresh/utilities/distribution.py\", line 37, in <genexpr>\n",
      "    results = (map_function(chunk, **kwargs) for chunk in chunk_list)\n",
      "  File \"/home/radek/.conda/envs/plasticc/lib/python3.6/site-packages/tsfresh/feature_extraction/extraction.py\", line 302, in _do_extraction_on_chunk\n",
      "    return list(_f())\n",
      "KeyboardInterrupt\n",
      "  File \"/home/radek/.conda/envs/plasticc/lib/python3.6/site-packages/tsfresh/feature_extraction/extraction.py\", line 294, in _f\n",
      "    result = [(\"\", func(data))]\n",
      "  File \"/home/radek/.conda/envs/plasticc/lib/python3.6/site-packages/tsfresh/feature_extraction/feature_calculators.py\", line 648, in longest_strike_above_mean\n",
      "    return np.max(_get_length_sequences_where(x >= np.mean(x))) if x.size > 0 else 0\n",
      "  File \"/home/radek/.conda/envs/plasticc/lib/python3.6/site-packages/numpy/core/fromnumeric.py\", line 2334, in amax\n",
      "    initial=initial)\n",
      "  File \"/home/radek/.conda/envs/plasticc/lib/python3.6/site-packages/numpy/core/fromnumeric.py\", line 83, in _wrapreduction\n",
      "    return ufunc.reduce(obj, axis, dtype, out, **passkwargs)\n",
      "  File \"/home/radek/.conda/envs/plasticc/lib/python3.6/site-packages/tsfresh/feature_extraction/extraction.py\", line 302, in _do_extraction_on_chunk\n",
      "    return list(_f())\n",
      "  File \"/home/radek/.conda/envs/plasticc/lib/python3.6/site-packages/tsfresh/feature_extraction/extraction.py\", line 294, in _f\n",
      "    result = [(\"\", func(data))]\n",
      "KeyboardInterrupt\n",
      "  File \"/home/radek/.conda/envs/plasticc/lib/python3.6/site-packages/tsfresh/feature_extraction/feature_calculators.py\", line 633, in longest_strike_below_mean\n",
      "    return np.max(_get_length_sequences_where(x <= np.mean(x))) if x.size > 0 else 0\n",
      "  File \"/home/radek/.conda/envs/plasticc/lib/python3.6/site-packages/tsfresh/feature_extraction/feature_calculators.py\", line 59, in _get_length_sequences_where\n",
      "    res = [len(list(group)) for value, group in itertools.groupby(x) if value == 1]\n",
      "  File \"/home/radek/.conda/envs/plasticc/lib/python3.6/site-packages/tsfresh/feature_extraction/feature_calculators.py\", line 59, in <listcomp>\n",
      "    res = [len(list(group)) for value, group in itertools.groupby(x) if value == 1]\n",
      "KeyboardInterrupt\n"
     ]
    },
    {
     "ename": "KeyboardInterrupt",
     "evalue": "",
     "output_type": "error",
     "traceback": [
      "\u001b[0;31m---------------------------------------------------------------------------\u001b[0m",
      "\u001b[0;31mKeyboardInterrupt\u001b[0m                         Traceback (most recent call last)",
      "\u001b[0;32m<ipython-input-16-a6514a149668>\u001b[0m in \u001b[0;36m<module>\u001b[0;34m\u001b[0m\n\u001b[1;32m      6\u001b[0m     \u001b[0moutput_path\u001b[0m\u001b[0;34m=\u001b[0m\u001b[0;34m'feat_test.csv'\u001b[0m\u001b[0;34m,\u001b[0m\u001b[0;34m\u001b[0m\u001b[0;34m\u001b[0m\u001b[0m\n\u001b[1;32m      7\u001b[0m     \u001b[0mid_colname\u001b[0m\u001b[0;34m=\u001b[0m\u001b[0;34m'object_id'\u001b[0m\u001b[0;34m,\u001b[0m\u001b[0;34m\u001b[0m\u001b[0;34m\u001b[0m\u001b[0m\n\u001b[0;32m----> 8\u001b[0;31m     \u001b[0mchunks\u001b[0m\u001b[0;34m=\u001b[0m\u001b[0;36m5000000\u001b[0m\u001b[0;34m,\u001b[0m\u001b[0;34m\u001b[0m\u001b[0;34m\u001b[0m\u001b[0m\n\u001b[0m\u001b[1;32m      9\u001b[0m )\n",
      "\u001b[0;32m~/Programowanie/astronomical-classification/plasticc/final.py\u001b[0m in \u001b[0;36mfeaturize_test\u001b[0;34m(featurize_configs, n_jobs, meta_path, test_path, output_path, id_colname, chunks)\u001b[0m\n\u001b[1;32m     48\u001b[0m                               \u001b[0mfeaturize_configs\u001b[0m\u001b[0;34m[\u001b[0m\u001b[0;34m'aggs'\u001b[0m\u001b[0;34m]\u001b[0m\u001b[0;34m,\u001b[0m\u001b[0;34m\u001b[0m\u001b[0;34m\u001b[0m\u001b[0m\n\u001b[1;32m     49\u001b[0m                               \u001b[0mfeaturize_configs\u001b[0m\u001b[0;34m[\u001b[0m\u001b[0;34m'fcp'\u001b[0m\u001b[0;34m]\u001b[0m\u001b[0;34m,\u001b[0m\u001b[0;34m\u001b[0m\u001b[0;34m\u001b[0m\u001b[0m\n\u001b[0;32m---> 50\u001b[0;31m                               n_jobs=n_jobs)\n\u001b[0m\u001b[1;32m     51\u001b[0m         \u001b[0mfull_test\u001b[0m\u001b[0;34m.\u001b[0m\u001b[0mfillna\u001b[0m\u001b[0;34m(\u001b[0m\u001b[0;36m0\u001b[0m\u001b[0;34m,\u001b[0m \u001b[0minplace\u001b[0m\u001b[0;34m=\u001b[0m\u001b[0;32mTrue\u001b[0m\u001b[0;34m)\u001b[0m\u001b[0;34m\u001b[0m\u001b[0;34m\u001b[0m\u001b[0m\n\u001b[1;32m     52\u001b[0m         \u001b[0;32mif\u001b[0m \u001b[0mi_c\u001b[0m \u001b[0;34m==\u001b[0m \u001b[0;36m0\u001b[0m\u001b[0;34m:\u001b[0m\u001b[0;34m\u001b[0m\u001b[0;34m\u001b[0m\u001b[0m\n",
      "\u001b[0;32m~/Programowanie/astronomical-classification/plasticc/featurize.py\u001b[0m in \u001b[0;36mfeaturize\u001b[0;34m(df, df_meta, aggs, fcp, n_jobs)\u001b[0m\n\u001b[1;32m    124\u001b[0m         \u001b[0mcolumn_value\u001b[0m\u001b[0;34m=\u001b[0m\u001b[0;34m'flux_by_flux_ratio_sq'\u001b[0m\u001b[0;34m,\u001b[0m\u001b[0;34m\u001b[0m\u001b[0;34m\u001b[0m\u001b[0m\n\u001b[1;32m    125\u001b[0m         \u001b[0mdefault_fc_parameters\u001b[0m\u001b[0;34m=\u001b[0m\u001b[0mfcp\u001b[0m\u001b[0;34m[\u001b[0m\u001b[0;34m'flux_by_flux_ratio_sq'\u001b[0m\u001b[0;34m]\u001b[0m\u001b[0;34m,\u001b[0m\u001b[0;34m\u001b[0m\u001b[0;34m\u001b[0m\u001b[0m\n\u001b[0;32m--> 126\u001b[0;31m         \u001b[0mn_jobs\u001b[0m\u001b[0;34m=\u001b[0m\u001b[0mn_jobs\u001b[0m\u001b[0;34m\u001b[0m\u001b[0;34m\u001b[0m\u001b[0m\n\u001b[0m\u001b[1;32m    127\u001b[0m     )\n\u001b[1;32m    128\u001b[0m     \u001b[0;31m# Add smart feature that is suggested here\u001b[0m\u001b[0;34m\u001b[0m\u001b[0;34m\u001b[0m\u001b[0;34m\u001b[0m\u001b[0m\n",
      "\u001b[0;32m~/.conda/envs/plasticc/lib/python3.6/site-packages/tsfresh/feature_extraction/extraction.py\u001b[0m in \u001b[0;36mextract_features\u001b[0;34m(timeseries_container, default_fc_parameters, kind_to_fc_parameters, column_id, column_sort, column_kind, column_value, chunksize, n_jobs, show_warnings, disable_progressbar, impute_function, profile, profiling_filename, profiling_sorting, distributor)\u001b[0m\n\u001b[1;32m    157\u001b[0m                                 \u001b[0mdefault_fc_parameters\u001b[0m\u001b[0;34m=\u001b[0m\u001b[0mdefault_fc_parameters\u001b[0m\u001b[0;34m,\u001b[0m\u001b[0;34m\u001b[0m\u001b[0;34m\u001b[0m\u001b[0m\n\u001b[1;32m    158\u001b[0m                                 \u001b[0mkind_to_fc_parameters\u001b[0m\u001b[0;34m=\u001b[0m\u001b[0mkind_to_fc_parameters\u001b[0m\u001b[0;34m,\u001b[0m\u001b[0;34m\u001b[0m\u001b[0;34m\u001b[0m\u001b[0m\n\u001b[0;32m--> 159\u001b[0;31m                                 distributor=distributor)\n\u001b[0m\u001b[1;32m    160\u001b[0m \u001b[0;34m\u001b[0m\u001b[0m\n\u001b[1;32m    161\u001b[0m         \u001b[0;31m# Impute the result if requested\u001b[0m\u001b[0;34m\u001b[0m\u001b[0;34m\u001b[0m\u001b[0;34m\u001b[0m\u001b[0m\n",
      "\u001b[0;32m~/.conda/envs/plasticc/lib/python3.6/site-packages/tsfresh/feature_extraction/extraction.py\u001b[0m in \u001b[0;36m_do_extraction\u001b[0;34m(df, column_id, column_value, column_kind, default_fc_parameters, kind_to_fc_parameters, n_jobs, chunk_size, disable_progressbar, distributor)\u001b[0m\n\u001b[1;32m    238\u001b[0m     \u001b[0mkwargs\u001b[0m \u001b[0;34m=\u001b[0m \u001b[0mdict\u001b[0m\u001b[0;34m(\u001b[0m\u001b[0mdefault_fc_parameters\u001b[0m\u001b[0;34m=\u001b[0m\u001b[0mdefault_fc_parameters\u001b[0m\u001b[0;34m,\u001b[0m \u001b[0mkind_to_fc_parameters\u001b[0m\u001b[0;34m=\u001b[0m\u001b[0mkind_to_fc_parameters\u001b[0m\u001b[0;34m)\u001b[0m\u001b[0;34m\u001b[0m\u001b[0;34m\u001b[0m\u001b[0m\n\u001b[1;32m    239\u001b[0m     result = distributor.map_reduce(_do_extraction_on_chunk, data=data_in_chunks, chunk_size=chunk_size,\n\u001b[0;32m--> 240\u001b[0;31m                                     function_kwargs=kwargs)\n\u001b[0m\u001b[1;32m    241\u001b[0m     \u001b[0mdistributor\u001b[0m\u001b[0;34m.\u001b[0m\u001b[0mclose\u001b[0m\u001b[0;34m(\u001b[0m\u001b[0;34m)\u001b[0m\u001b[0;34m\u001b[0m\u001b[0;34m\u001b[0m\u001b[0m\n\u001b[1;32m    242\u001b[0m \u001b[0;34m\u001b[0m\u001b[0m\n",
      "\u001b[0;32m~/.conda/envs/plasticc/lib/python3.6/site-packages/tsfresh/utilities/distribution.py\u001b[0m in \u001b[0;36mmap_reduce\u001b[0;34m(self, map_function, data, function_kwargs, chunk_size, data_length)\u001b[0m\n\u001b[1;32m    147\u001b[0m             \u001b[0mresult\u001b[0m \u001b[0;34m=\u001b[0m \u001b[0mself\u001b[0m\u001b[0;34m.\u001b[0m\u001b[0mdistribute\u001b[0m\u001b[0;34m(\u001b[0m\u001b[0m_function_with_partly_reduce\u001b[0m\u001b[0;34m,\u001b[0m \u001b[0mchunk_generator\u001b[0m\u001b[0;34m,\u001b[0m \u001b[0mmap_kwargs\u001b[0m\u001b[0;34m)\u001b[0m\u001b[0;34m,\u001b[0m\u001b[0;34m\u001b[0m\u001b[0;34m\u001b[0m\u001b[0m\n\u001b[1;32m    148\u001b[0m \u001b[0;34m\u001b[0m\u001b[0m\n\u001b[0;32m--> 149\u001b[0;31m         \u001b[0mresult\u001b[0m \u001b[0;34m=\u001b[0m \u001b[0mlist\u001b[0m\u001b[0;34m(\u001b[0m\u001b[0mitertools\u001b[0m\u001b[0;34m.\u001b[0m\u001b[0mchain\u001b[0m\u001b[0;34m.\u001b[0m\u001b[0mfrom_iterable\u001b[0m\u001b[0;34m(\u001b[0m\u001b[0mresult\u001b[0m\u001b[0;34m)\u001b[0m\u001b[0;34m)\u001b[0m\u001b[0;34m\u001b[0m\u001b[0;34m\u001b[0m\u001b[0m\n\u001b[0m\u001b[1;32m    150\u001b[0m \u001b[0;34m\u001b[0m\u001b[0m\n\u001b[1;32m    151\u001b[0m         \u001b[0;32mreturn\u001b[0m \u001b[0mresult\u001b[0m\u001b[0;34m\u001b[0m\u001b[0;34m\u001b[0m\u001b[0m\n",
      "\u001b[0;32m~/.conda/envs/plasticc/lib/python3.6/site-packages/tqdm/_tqdm.py\u001b[0m in \u001b[0;36m__iter__\u001b[0;34m(self)\u001b[0m\n\u001b[1;32m   1000\u001b[0m                                 \u001b[0mself\u001b[0m\u001b[0;34m.\u001b[0m\u001b[0mmoveto\u001b[0m\u001b[0;34m(\u001b[0m\u001b[0mabs\u001b[0m\u001b[0;34m(\u001b[0m\u001b[0mself\u001b[0m\u001b[0;34m.\u001b[0m\u001b[0mpos\u001b[0m\u001b[0;34m)\u001b[0m\u001b[0;34m)\u001b[0m\u001b[0;34m\u001b[0m\u001b[0;34m\u001b[0m\u001b[0m\n\u001b[1;32m   1001\u001b[0m                             \u001b[0;31m# Print bar update\u001b[0m\u001b[0;34m\u001b[0m\u001b[0;34m\u001b[0m\u001b[0;34m\u001b[0m\u001b[0m\n\u001b[0;32m-> 1002\u001b[0;31m                             \u001b[0msp\u001b[0m\u001b[0;34m(\u001b[0m\u001b[0mself\u001b[0m\u001b[0;34m.\u001b[0m\u001b[0m__repr__\u001b[0m\u001b[0;34m(\u001b[0m\u001b[0;34m)\u001b[0m\u001b[0;34m)\u001b[0m\u001b[0;34m\u001b[0m\u001b[0;34m\u001b[0m\u001b[0m\n\u001b[0m\u001b[1;32m   1003\u001b[0m                             \u001b[0;32mif\u001b[0m \u001b[0mself\u001b[0m\u001b[0;34m.\u001b[0m\u001b[0mpos\u001b[0m\u001b[0;34m:\u001b[0m\u001b[0;34m\u001b[0m\u001b[0;34m\u001b[0m\u001b[0m\n\u001b[1;32m   1004\u001b[0m                                 \u001b[0mself\u001b[0m\u001b[0;34m.\u001b[0m\u001b[0mmoveto\u001b[0m\u001b[0;34m(\u001b[0m\u001b[0;34m-\u001b[0m\u001b[0mabs\u001b[0m\u001b[0;34m(\u001b[0m\u001b[0mself\u001b[0m\u001b[0;34m.\u001b[0m\u001b[0mpos\u001b[0m\u001b[0;34m)\u001b[0m\u001b[0;34m)\u001b[0m\u001b[0;34m\u001b[0m\u001b[0;34m\u001b[0m\u001b[0m\n",
      "\u001b[0;32m~/.conda/envs/plasticc/lib/python3.6/site-packages/tqdm/_tqdm.py\u001b[0m in \u001b[0;36mprint_status\u001b[0;34m(s)\u001b[0m\n\u001b[1;32m    229\u001b[0m         \u001b[0;32mdef\u001b[0m \u001b[0mprint_status\u001b[0m\u001b[0;34m(\u001b[0m\u001b[0ms\u001b[0m\u001b[0;34m)\u001b[0m\u001b[0;34m:\u001b[0m\u001b[0;34m\u001b[0m\u001b[0;34m\u001b[0m\u001b[0m\n\u001b[1;32m    230\u001b[0m             \u001b[0mlen_s\u001b[0m \u001b[0;34m=\u001b[0m \u001b[0mlen\u001b[0m\u001b[0;34m(\u001b[0m\u001b[0ms\u001b[0m\u001b[0;34m)\u001b[0m\u001b[0;34m\u001b[0m\u001b[0;34m\u001b[0m\u001b[0m\n\u001b[0;32m--> 231\u001b[0;31m             \u001b[0mfp_write\u001b[0m\u001b[0;34m(\u001b[0m\u001b[0;34m'\\r'\u001b[0m \u001b[0;34m+\u001b[0m \u001b[0ms\u001b[0m \u001b[0;34m+\u001b[0m \u001b[0;34m(\u001b[0m\u001b[0;34m' '\u001b[0m \u001b[0;34m*\u001b[0m \u001b[0mmax\u001b[0m\u001b[0;34m(\u001b[0m\u001b[0mlast_len\u001b[0m\u001b[0;34m[\u001b[0m\u001b[0;36m0\u001b[0m\u001b[0;34m]\u001b[0m \u001b[0;34m-\u001b[0m \u001b[0mlen_s\u001b[0m\u001b[0;34m,\u001b[0m \u001b[0;36m0\u001b[0m\u001b[0;34m)\u001b[0m\u001b[0;34m)\u001b[0m\u001b[0;34m)\u001b[0m\u001b[0;34m\u001b[0m\u001b[0;34m\u001b[0m\u001b[0m\n\u001b[0m\u001b[1;32m    232\u001b[0m             \u001b[0mlast_len\u001b[0m\u001b[0;34m[\u001b[0m\u001b[0;36m0\u001b[0m\u001b[0;34m]\u001b[0m \u001b[0;34m=\u001b[0m \u001b[0mlen_s\u001b[0m\u001b[0;34m\u001b[0m\u001b[0;34m\u001b[0m\u001b[0m\n\u001b[1;32m    233\u001b[0m \u001b[0;34m\u001b[0m\u001b[0m\n",
      "\u001b[0;32m~/.conda/envs/plasticc/lib/python3.6/site-packages/tqdm/_tqdm.py\u001b[0m in \u001b[0;36mfp_write\u001b[0;34m(s)\u001b[0m\n\u001b[1;32m    223\u001b[0m         \u001b[0;32mdef\u001b[0m \u001b[0mfp_write\u001b[0m\u001b[0;34m(\u001b[0m\u001b[0ms\u001b[0m\u001b[0;34m)\u001b[0m\u001b[0;34m:\u001b[0m\u001b[0;34m\u001b[0m\u001b[0;34m\u001b[0m\u001b[0m\n\u001b[1;32m    224\u001b[0m             \u001b[0mfp\u001b[0m\u001b[0;34m.\u001b[0m\u001b[0mwrite\u001b[0m\u001b[0;34m(\u001b[0m\u001b[0m_unicode\u001b[0m\u001b[0;34m(\u001b[0m\u001b[0ms\u001b[0m\u001b[0;34m)\u001b[0m\u001b[0;34m)\u001b[0m\u001b[0;34m\u001b[0m\u001b[0;34m\u001b[0m\u001b[0m\n\u001b[0;32m--> 225\u001b[0;31m             \u001b[0mfp_flush\u001b[0m\u001b[0;34m(\u001b[0m\u001b[0;34m)\u001b[0m\u001b[0;34m\u001b[0m\u001b[0;34m\u001b[0m\u001b[0m\n\u001b[0m\u001b[1;32m    226\u001b[0m \u001b[0;34m\u001b[0m\u001b[0m\n\u001b[1;32m    227\u001b[0m         \u001b[0mlast_len\u001b[0m \u001b[0;34m=\u001b[0m \u001b[0;34m[\u001b[0m\u001b[0;36m0\u001b[0m\u001b[0;34m]\u001b[0m\u001b[0;34m\u001b[0m\u001b[0;34m\u001b[0m\u001b[0m\n",
      "\u001b[0;32m~/.conda/envs/plasticc/lib/python3.6/site-packages/ipykernel/iostream.py\u001b[0m in \u001b[0;36mflush\u001b[0;34m(self)\u001b[0m\n\u001b[1;32m    345\u001b[0m             \u001b[0;32mif\u001b[0m \u001b[0;32mnot\u001b[0m \u001b[0mimport_lock_held\u001b[0m\u001b[0;34m(\u001b[0m\u001b[0;34m)\u001b[0m\u001b[0;34m:\u001b[0m\u001b[0;34m\u001b[0m\u001b[0;34m\u001b[0m\u001b[0m\n\u001b[1;32m    346\u001b[0m                 \u001b[0mevt\u001b[0m \u001b[0;34m=\u001b[0m \u001b[0mthreading\u001b[0m\u001b[0;34m.\u001b[0m\u001b[0mEvent\u001b[0m\u001b[0;34m(\u001b[0m\u001b[0;34m)\u001b[0m\u001b[0;34m\u001b[0m\u001b[0;34m\u001b[0m\u001b[0m\n\u001b[0;32m--> 347\u001b[0;31m                 \u001b[0mself\u001b[0m\u001b[0;34m.\u001b[0m\u001b[0mpub_thread\u001b[0m\u001b[0;34m.\u001b[0m\u001b[0mschedule\u001b[0m\u001b[0;34m(\u001b[0m\u001b[0mevt\u001b[0m\u001b[0;34m.\u001b[0m\u001b[0mset\u001b[0m\u001b[0;34m)\u001b[0m\u001b[0;34m\u001b[0m\u001b[0;34m\u001b[0m\u001b[0m\n\u001b[0m\u001b[1;32m    348\u001b[0m                 \u001b[0;31m# and give a timeout to avoid\u001b[0m\u001b[0;34m\u001b[0m\u001b[0;34m\u001b[0m\u001b[0;34m\u001b[0m\u001b[0m\n\u001b[1;32m    349\u001b[0m                 \u001b[0;32mif\u001b[0m \u001b[0;32mnot\u001b[0m \u001b[0mevt\u001b[0m\u001b[0;34m.\u001b[0m\u001b[0mwait\u001b[0m\u001b[0;34m(\u001b[0m\u001b[0mself\u001b[0m\u001b[0;34m.\u001b[0m\u001b[0mflush_timeout\u001b[0m\u001b[0;34m)\u001b[0m\u001b[0;34m:\u001b[0m\u001b[0;34m\u001b[0m\u001b[0;34m\u001b[0m\u001b[0m\n",
      "\u001b[0;32m~/.conda/envs/plasticc/lib/python3.6/site-packages/ipykernel/iostream.py\u001b[0m in \u001b[0;36mschedule\u001b[0;34m(self, f)\u001b[0m\n\u001b[1;32m    201\u001b[0m             \u001b[0mself\u001b[0m\u001b[0;34m.\u001b[0m\u001b[0m_events\u001b[0m\u001b[0;34m.\u001b[0m\u001b[0mappend\u001b[0m\u001b[0;34m(\u001b[0m\u001b[0mf\u001b[0m\u001b[0;34m)\u001b[0m\u001b[0;34m\u001b[0m\u001b[0;34m\u001b[0m\u001b[0m\n\u001b[1;32m    202\u001b[0m             \u001b[0;31m# wake event thread (message content is ignored)\u001b[0m\u001b[0;34m\u001b[0m\u001b[0;34m\u001b[0m\u001b[0;34m\u001b[0m\u001b[0m\n\u001b[0;32m--> 203\u001b[0;31m             \u001b[0mself\u001b[0m\u001b[0;34m.\u001b[0m\u001b[0m_event_pipe\u001b[0m\u001b[0;34m.\u001b[0m\u001b[0msend\u001b[0m\u001b[0;34m(\u001b[0m\u001b[0;34mb''\u001b[0m\u001b[0;34m)\u001b[0m\u001b[0;34m\u001b[0m\u001b[0;34m\u001b[0m\u001b[0m\n\u001b[0m\u001b[1;32m    204\u001b[0m         \u001b[0;32melse\u001b[0m\u001b[0;34m:\u001b[0m\u001b[0;34m\u001b[0m\u001b[0;34m\u001b[0m\u001b[0m\n\u001b[1;32m    205\u001b[0m             \u001b[0mf\u001b[0m\u001b[0;34m(\u001b[0m\u001b[0;34m)\u001b[0m\u001b[0;34m\u001b[0m\u001b[0;34m\u001b[0m\u001b[0m\n",
      "\u001b[0;32m~/.conda/envs/plasticc/lib/python3.6/site-packages/zmq/sugar/socket.py\u001b[0m in \u001b[0;36msend\u001b[0;34m(self, data, flags, copy, track, routing_id, group)\u001b[0m\n\u001b[1;32m    390\u001b[0m                                  copy_threshold=self.copy_threshold)\n\u001b[1;32m    391\u001b[0m             \u001b[0mdata\u001b[0m\u001b[0;34m.\u001b[0m\u001b[0mgroup\u001b[0m \u001b[0;34m=\u001b[0m \u001b[0mgroup\u001b[0m\u001b[0;34m\u001b[0m\u001b[0;34m\u001b[0m\u001b[0m\n\u001b[0;32m--> 392\u001b[0;31m         \u001b[0;32mreturn\u001b[0m \u001b[0msuper\u001b[0m\u001b[0;34m(\u001b[0m\u001b[0mSocket\u001b[0m\u001b[0;34m,\u001b[0m \u001b[0mself\u001b[0m\u001b[0;34m)\u001b[0m\u001b[0;34m.\u001b[0m\u001b[0msend\u001b[0m\u001b[0;34m(\u001b[0m\u001b[0mdata\u001b[0m\u001b[0;34m,\u001b[0m \u001b[0mflags\u001b[0m\u001b[0;34m=\u001b[0m\u001b[0mflags\u001b[0m\u001b[0;34m,\u001b[0m \u001b[0mcopy\u001b[0m\u001b[0;34m=\u001b[0m\u001b[0mcopy\u001b[0m\u001b[0;34m,\u001b[0m \u001b[0mtrack\u001b[0m\u001b[0;34m=\u001b[0m\u001b[0mtrack\u001b[0m\u001b[0;34m)\u001b[0m\u001b[0;34m\u001b[0m\u001b[0;34m\u001b[0m\u001b[0m\n\u001b[0m\u001b[1;32m    393\u001b[0m \u001b[0;34m\u001b[0m\u001b[0m\n\u001b[1;32m    394\u001b[0m     \u001b[0;32mdef\u001b[0m \u001b[0msend_multipart\u001b[0m\u001b[0;34m(\u001b[0m\u001b[0mself\u001b[0m\u001b[0;34m,\u001b[0m \u001b[0mmsg_parts\u001b[0m\u001b[0;34m,\u001b[0m \u001b[0mflags\u001b[0m\u001b[0;34m=\u001b[0m\u001b[0;36m0\u001b[0m\u001b[0;34m,\u001b[0m \u001b[0mcopy\u001b[0m\u001b[0;34m=\u001b[0m\u001b[0;32mTrue\u001b[0m\u001b[0;34m,\u001b[0m \u001b[0mtrack\u001b[0m\u001b[0;34m=\u001b[0m\u001b[0;32mFalse\u001b[0m\u001b[0;34m,\u001b[0m \u001b[0;34m**\u001b[0m\u001b[0mkwargs\u001b[0m\u001b[0;34m)\u001b[0m\u001b[0;34m:\u001b[0m\u001b[0;34m\u001b[0m\u001b[0;34m\u001b[0m\u001b[0m\n",
      "\u001b[0;32mzmq/backend/cython/socket.pyx\u001b[0m in \u001b[0;36mzmq.backend.cython.socket.Socket.send\u001b[0;34m()\u001b[0m\n",
      "\u001b[0;32mzmq/backend/cython/socket.pyx\u001b[0m in \u001b[0;36mzmq.backend.cython.socket.Socket.send\u001b[0;34m()\u001b[0m\n",
      "\u001b[0;32mzmq/backend/cython/socket.pyx\u001b[0m in \u001b[0;36mzmq.backend.cython.socket._send_copy\u001b[0;34m()\u001b[0m\n",
      "\u001b[0;32m~/.conda/envs/plasticc/lib/python3.6/site-packages/zmq/backend/cython/checkrc.pxd\u001b[0m in \u001b[0;36mzmq.backend.cython.checkrc._check_rc\u001b[0;34m()\u001b[0m\n",
      "\u001b[0;31mKeyboardInterrupt\u001b[0m: "
     ]
    }
   ],
   "source": [
    "featurize_test(\n",
    "    featurize_configs={'aggs': aggs, 'fcp': fcp}, \n",
    "    n_jobs=4,\n",
    "    meta_path='../data/raw/test_set_metadata.csv',\n",
    "    test_path='../data/raw/test_set.csv',\n",
    "    output_path='feat_test.csv',\n",
    "    id_colname='object_id',\n",
    "    chunks=5000000,\n",
    ")"
   ]
  },
  {
   "cell_type": "code",
   "execution_count": null,
   "metadata": {},
   "outputs": [],
   "source": [
    "%%time\n",
    "# should take 100x (time after 1st iteration)\n",
    "predict_test(\n",
    "    clfs,\n",
    "    features=X.columns, \n",
    "    output_path=filename,\n",
    "    input_path='feat_test.csv',\n",
    "    chunks=chunk_size_one_100,\n",
    "    n_jobs=4\n",
    ")"
   ]
  },
  {
   "cell_type": "code",
   "execution_count": null,
   "metadata": {},
   "outputs": [],
   "source": [
    "z = pd.read_csv(filename)\n",
    "print(\"Shape BEFORE grouping: {}\".format(z.shape))\n",
    "z = z.groupby('object_id').mean()\n",
    "print(\"Shape AFTER grouping: {}\".format(z.shape))\n",
    "z.to_csv('single_{}'.format(filename), index=True)"
   ]
  }
 ],
 "metadata": {
  "kernelspec": {
   "display_name": "Python 3",
   "language": "python",
   "name": "python3"
  },
  "language_info": {
   "codemirror_mode": {
    "name": "ipython",
    "version": 3
   },
   "file_extension": ".py",
   "mimetype": "text/x-python",
   "name": "python",
   "nbconvert_exporter": "python",
   "pygments_lexer": "ipython3",
   "version": "3.6.6"
  }
 },
 "nbformat": 4,
 "nbformat_minor": 2
}
