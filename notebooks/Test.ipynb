{
 "cells": [
  {
   "cell_type": "code",
   "execution_count": 26,
   "metadata": {},
   "outputs": [],
   "source": [
    "import pandas as pd\n",
    "import numpy as np\n",
    "\n",
    "from datetime import datetime as dt\n",
    "from functools import partial, wraps\n",
    "\n",
    "from plasticc.featurize import process_meta, featurize\n",
    "from plasticc.training import path_from_cv_score, train_and_validate\n",
    "from plasticc.final import featurize_test, predict_test"
   ]
  },
  {
   "cell_type": "code",
   "execution_count": 5,
   "metadata": {},
   "outputs": [
    {
     "name": "stdout",
     "output_type": "stream",
     "text": [
      "The autoreload extension is already loaded. To reload it, use:\n",
      "  %reload_ext autoreload\n"
     ]
    }
   ],
   "source": [
    "%load_ext autoreload\n",
    "%autoreload 2"
   ]
  },
  {
   "cell_type": "code",
   "execution_count": 38,
   "metadata": {},
   "outputs": [],
   "source": [
    "%run ../plasticc/training.py"
   ]
  },
  {
   "cell_type": "code",
   "execution_count": 17,
   "metadata": {},
   "outputs": [],
   "source": [
    "fcp = {\n",
    "    'flux': {\n",
    "        'longest_strike_above_mean': None,\n",
    "        'longest_strike_below_mean': None,\n",
    "        'mean_change': None,\n",
    "        'mean_abs_change': None,\n",
    "        'length': None,\n",
    "    },\n",
    "\n",
    "    'flux_by_flux_ratio_sq': {\n",
    "        'longest_strike_above_mean': None,\n",
    "        'longest_strike_below_mean': None,       \n",
    "    },\n",
    "\n",
    "    'flux_passband': {\n",
    "        'fft_coefficient': [\n",
    "                {'coeff': 0, 'attr': 'abs'}, \n",
    "                {'coeff': 1, 'attr': 'abs'}\n",
    "            ],\n",
    "        'kurtosis' : None, \n",
    "        'skewness' : None,\n",
    "    },\n",
    "\n",
    "    'mjd': {\n",
    "        'maximum': None, \n",
    "        'minimum': None,\n",
    "        'mean_change': None,\n",
    "        'mean_abs_change': None,\n",
    "    },\n",
    "}"
   ]
  },
  {
   "cell_type": "code",
   "execution_count": 18,
   "metadata": {},
   "outputs": [],
   "source": [
    "aggs = {\n",
    "    'flux': ['min', 'max', 'mean', 'median', 'std', 'skew'],\n",
    "    'flux_err': ['min', 'max', 'mean', 'median', 'std', 'skew'],\n",
    "    'detected': ['mean'],\n",
    "    'flux_ratio_sq':['sum', 'skew'],\n",
    "    'flux_by_flux_ratio_sq':['sum','skew'],\n",
    "}"
   ]
  },
  {
   "cell_type": "markdown",
   "metadata": {},
   "source": [
    "### Generate features for model training"
   ]
  },
  {
   "cell_type": "code",
   "execution_count": 20,
   "metadata": {},
   "outputs": [
    {
     "name": "stdout",
     "output_type": "stream",
     "text": [
      "CPU times: user 1.59 s, sys: 2.63 s, total: 4.22 s\n",
      "Wall time: 4.32 s\n"
     ]
    }
   ],
   "source": [
    "%%time\n",
    "meta_train = process_meta('../data/raw/training_set_metadata.csv')\n",
    "train = pd.read_csv('../data/raw/training_set.csv')"
   ]
  },
  {
   "cell_type": "code",
   "execution_count": 21,
   "metadata": {
    "scrolled": true
   },
   "outputs": [
    {
     "name": "stderr",
     "output_type": "stream",
     "text": [
      "Feature Extraction: 100%|██████████| 20/20 [00:09<00:00,  2.16it/s]\n",
      "Feature Extraction: 100%|██████████| 20/20 [00:02<00:00,  6.77it/s]\n",
      "Feature Extraction: 100%|██████████| 20/20 [00:01<00:00, 12.99it/s]\n",
      "Feature Extraction: 100%|██████████| 20/20 [00:01<00:00, 12.43it/s]\n"
     ]
    },
    {
     "name": "stdout",
     "output_type": "stream",
     "text": [
      "CPU times: user 24.7 s, sys: 23.4 s, total: 48.1 s\n",
      "Wall time: 53.1 s\n"
     ]
    }
   ],
   "source": [
    "%%time\n",
    "X = featurize(train, meta_train, aggs, fcp, n_jobs=4)"
   ]
  },
  {
   "cell_type": "code",
   "execution_count": 22,
   "metadata": {},
   "outputs": [],
   "source": [
    "if 'target' in X:\n",
    "    y = X['target']\n",
    "    del X['target']\n",
    "else:\n",
    "    print(\"What the duck\")\n",
    "    3//0"
   ]
  },
  {
   "cell_type": "code",
   "execution_count": 23,
   "metadata": {},
   "outputs": [
    {
     "name": "stdout",
     "output_type": "stream",
     "text": [
      "CPU times: user 12 ms, sys: 0 ns, total: 12 ms\n",
      "Wall time: 10.8 ms\n"
     ]
    }
   ],
   "source": [
    "%%time\n",
    "train_mean = X.mean(axis=0)\n",
    "#train_mean.to_hdf('train_data.hdf5', 'data')\n",
    "# pd.set_option('display.max_rows', 500)\n",
    "#import pdb; pdb.set_trace()\n",
    "X.fillna(0, inplace=True)"
   ]
  },
  {
   "cell_type": "markdown",
   "metadata": {},
   "source": [
    "### Train model with CV"
   ]
  },
  {
   "cell_type": "code",
   "execution_count": 39,
   "metadata": {},
   "outputs": [],
   "source": [
    "lgbm_params = {\n",
    "    'device': 'cpu',\n",
    "    'objective': 'multiclass',\n",
    "    'num_class': 14,\n",
    "    'boosting_type': 'gbdt',\n",
    "    'n_jobs': 16,\n",
    "    'max_depth': 6,\n",
    "    'n_estimators': 1024,\n",
    "    'subsample_freq': 2,\n",
    "    'subsample_for_bin': 5000,\n",
    "    'min_data_per_group': 100,\n",
    "    'max_cat_to_onehot': 4,\n",
    "    'cat_l2': 1.0,\n",
    "    'cat_smooth': 59.5,\n",
    "    'max_cat_threshold': 32,\n",
    "    'metric_freq': 10,\n",
    "    'verbosity': -1,\n",
    "    'metric': 'multi_logloss',\n",
    "    'xgboost_dart_mode': False,\n",
    "    'uniform_drop': False,\n",
    "    'colsample_bytree': 0.5,\n",
    "    'drop_rate': 0.173,\n",
    "    'learning_rate': 0.0267,\n",
    "    'max_drop': 5,\n",
    "    'min_child_samples': 10,\n",
    "    'min_child_weight': 100.0,\n",
    "    'min_split_gain': 0.126,\n",
    "    'num_leaves': 7,\n",
    "    'reg_alpha': 0.1,\n",
    "    'reg_lambda': 0.00023,\n",
    "    'skip_drop': 0.44,\n",
    "    'subsample': 0.75,\n",
    "    'max_bin': 32,\n",
    "    'min_data_in_leaf': 13,\n",
    "    'lambda_l1': 2,\n",
    "}\n",
    "\n",
    "\n",
    "xgb_params = {\n",
    "    'objective': 'multiclass',\n",
    "    'booster': 'gbdtree',\n",
    "    'n_jobs': 16,\n",
    "    'max_depth': 7,\n",
    "    'n_estimators': 1024,\n",
    "    'verbosity': -1,\n",
    "    'colsample_bytree': 0.5,\n",
    "    'learning_rate': 0.0267,\n",
    "    'min_child_weight': 100.0,\n",
    "    'reg_alpha': 0.1,\n",
    "    'reg_lambda': 0.00023,\n",
    "    'subsample': 0.75\n",
    "}\n"
   ]
  },
  {
   "cell_type": "code",
   "execution_count": 40,
   "metadata": {},
   "outputs": [],
   "source": [
    "colnames_to_ignore = set([\n",
    "    'object_id',\n",
    "    'hostgal_specz',\n",
    "    'ra',\n",
    "    'decl',\n",
    "    'gal_l',\n",
    "    'gal_b',\n",
    "    'ddf'\n",
    "])\n",
    "feature_colnames = [col for col in X.columns if col not in colnames_to_ignore]\n",
    "id_colname = 'object_id'"
   ]
  },
  {
   "cell_type": "code",
   "execution_count": 43,
   "metadata": {},
   "outputs": [
    {
     "name": "stdout",
     "output_type": "stream",
     "text": [
      "Training until validation scores don't improve for 50 rounds.\n",
      "[100]\ttraining's multi_logloss: 0.484835\ttraining's wloss: 0.471557\tvalid_1's multi_logloss: 0.872412\tvalid_1's wloss: 0.710658\n",
      "[200]\ttraining's multi_logloss: 0.343904\ttraining's wloss: 0.330327\tvalid_1's multi_logloss: 0.789207\tvalid_1's wloss: 0.701091\n",
      "Early stopping, best iteration is:\n",
      "[174]\ttraining's multi_logloss: 0.370746\ttraining's wloss: 0.356952\tvalid_1's multi_logloss: 0.803366\tvalid_1's wloss: 0.690914\n",
      "no 1-fold loss: 0.6909142213288597\n",
      "Training until validation scores don't improve for 50 rounds.\n",
      "[100]\ttraining's multi_logloss: 0.479734\ttraining's wloss: 0.468144\tvalid_1's multi_logloss: 0.864813\tvalid_1's wloss: 0.745861\n",
      "Early stopping, best iteration is:\n",
      "[107]\ttraining's multi_logloss: 0.465315\ttraining's wloss: 0.453538\tvalid_1's multi_logloss: 0.855136\tvalid_1's wloss: 0.742924\n",
      "no 2-fold loss: 0.7429237262592194\n",
      "Training until validation scores don't improve for 50 rounds.\n",
      "[100]\ttraining's multi_logloss: 0.47929\ttraining's wloss: 0.4682\tvalid_1's multi_logloss: 0.873345\tvalid_1's wloss: 0.669192\n",
      "[200]\ttraining's multi_logloss: 0.339993\ttraining's wloss: 0.327858\tvalid_1's multi_logloss: 0.792191\tvalid_1's wloss: 0.642665\n",
      "Early stopping, best iteration is:\n",
      "[201]\ttraining's multi_logloss: 0.33904\ttraining's wloss: 0.326899\tvalid_1's multi_logloss: 0.791792\tvalid_1's wloss: 0.64199\n",
      "no 3-fold loss: 0.6419902064922001\n",
      "Training until validation scores don't improve for 50 rounds.\n",
      "[100]\ttraining's multi_logloss: 0.487064\ttraining's wloss: 0.475426\tvalid_1's multi_logloss: 0.84826\tvalid_1's wloss: 0.667015\n",
      "Early stopping, best iteration is:\n",
      "[145]\ttraining's multi_logloss: 0.4095\ttraining's wloss: 0.397048\tvalid_1's multi_logloss: 0.796483\tvalid_1's wloss: 0.65062\n",
      "no 4-fold loss: 0.6506196998104186\n",
      "Training until validation scores don't improve for 50 rounds.\n",
      "[100]\ttraining's multi_logloss: 0.478468\ttraining's wloss: 0.466329\tvalid_1's multi_logloss: 0.853174\tvalid_1's wloss: 0.707981\n",
      "[200]\ttraining's multi_logloss: 0.34206\ttraining's wloss: 0.32911\tvalid_1's multi_logloss: 0.754075\tvalid_1's wloss: 0.677067\n",
      "Early stopping, best iteration is:\n",
      "[191]\ttraining's multi_logloss: 0.350732\ttraining's wloss: 0.337796\tvalid_1's multi_logloss: 0.759266\tvalid_1's wloss: 0.675706\n",
      "no 5-fold loss: 0.6757057439071508\n",
      "MULTI WEIGHTED LOG LOSS: 0.68042\n",
      "CPU times: user 30.3 s, sys: 108 ms, total: 30.4 s\n",
      "Wall time: 30.4 s\n"
     ]
    }
   ],
   "source": [
    "%%time\n",
    "# modeling from CV\n",
    "clfs, score, importances = train_and_validate(\n",
    "    X=X, \n",
    "    y=y, \n",
    "    feature_colnames=feature_colnames, \n",
    "    id_colname=id_colname, \n",
    "    model='lgbm', \n",
    "    model_params={\n",
    "        'lgbm': lgbm_params\n",
    "    },\n",
    "    nr_fold=5, \n",
    "    random_state=1\n",
    ")"
   ]
  },
  {
   "cell_type": "code",
   "execution_count": 12,
   "metadata": {},
   "outputs": [
    {
     "data": {
      "text/html": [
       "<div>\n",
       "<style scoped>\n",
       "    .dataframe tbody tr th:only-of-type {\n",
       "        vertical-align: middle;\n",
       "    }\n",
       "\n",
       "    .dataframe tbody tr th {\n",
       "        vertical-align: top;\n",
       "    }\n",
       "\n",
       "    .dataframe thead th {\n",
       "        text-align: right;\n",
       "    }\n",
       "</style>\n",
       "<table border=\"1\" class=\"dataframe\">\n",
       "  <thead>\n",
       "    <tr style=\"text-align: right;\">\n",
       "      <th></th>\n",
       "      <th>feature</th>\n",
       "      <th>gain</th>\n",
       "      <th>fold</th>\n",
       "      <th>mean_gain</th>\n",
       "    </tr>\n",
       "  </thead>\n",
       "  <tbody>\n",
       "    <tr>\n",
       "      <th>55</th>\n",
       "      <td>hostgal_photoz</td>\n",
       "      <td>1838</td>\n",
       "      <td>3</td>\n",
       "      <td>1886.4</td>\n",
       "    </tr>\n",
       "    <tr>\n",
       "      <th>55</th>\n",
       "      <td>hostgal_photoz</td>\n",
       "      <td>1788</td>\n",
       "      <td>4</td>\n",
       "      <td>1886.4</td>\n",
       "    </tr>\n",
       "    <tr>\n",
       "      <th>55</th>\n",
       "      <td>hostgal_photoz</td>\n",
       "      <td>1821</td>\n",
       "      <td>2</td>\n",
       "      <td>1886.4</td>\n",
       "    </tr>\n",
       "    <tr>\n",
       "      <th>55</th>\n",
       "      <td>hostgal_photoz</td>\n",
       "      <td>1949</td>\n",
       "      <td>1</td>\n",
       "      <td>1886.4</td>\n",
       "    </tr>\n",
       "    <tr>\n",
       "      <th>55</th>\n",
       "      <td>hostgal_photoz</td>\n",
       "      <td>2036</td>\n",
       "      <td>5</td>\n",
       "      <td>1886.4</td>\n",
       "    </tr>\n",
       "    <tr>\n",
       "      <th>54</th>\n",
       "      <td>mjd_diff_det</td>\n",
       "      <td>1729</td>\n",
       "      <td>5</td>\n",
       "      <td>1636.2</td>\n",
       "    </tr>\n",
       "    <tr>\n",
       "      <th>54</th>\n",
       "      <td>mjd_diff_det</td>\n",
       "      <td>1649</td>\n",
       "      <td>4</td>\n",
       "      <td>1636.2</td>\n",
       "    </tr>\n",
       "    <tr>\n",
       "      <th>54</th>\n",
       "      <td>mjd_diff_det</td>\n",
       "      <td>1658</td>\n",
       "      <td>1</td>\n",
       "      <td>1636.2</td>\n",
       "    </tr>\n",
       "    <tr>\n",
       "      <th>54</th>\n",
       "      <td>mjd_diff_det</td>\n",
       "      <td>1529</td>\n",
       "      <td>2</td>\n",
       "      <td>1636.2</td>\n",
       "    </tr>\n",
       "    <tr>\n",
       "      <th>54</th>\n",
       "      <td>mjd_diff_det</td>\n",
       "      <td>1616</td>\n",
       "      <td>3</td>\n",
       "      <td>1636.2</td>\n",
       "    </tr>\n",
       "    <tr>\n",
       "      <th>57</th>\n",
       "      <td>distmod</td>\n",
       "      <td>1156</td>\n",
       "      <td>4</td>\n",
       "      <td>1117.8</td>\n",
       "    </tr>\n",
       "    <tr>\n",
       "      <th>57</th>\n",
       "      <td>distmod</td>\n",
       "      <td>1046</td>\n",
       "      <td>3</td>\n",
       "      <td>1117.8</td>\n",
       "    </tr>\n",
       "    <tr>\n",
       "      <th>57</th>\n",
       "      <td>distmod</td>\n",
       "      <td>1090</td>\n",
       "      <td>1</td>\n",
       "      <td>1117.8</td>\n",
       "    </tr>\n",
       "    <tr>\n",
       "      <th>57</th>\n",
       "      <td>distmod</td>\n",
       "      <td>1110</td>\n",
       "      <td>2</td>\n",
       "      <td>1117.8</td>\n",
       "    </tr>\n",
       "    <tr>\n",
       "      <th>57</th>\n",
       "      <td>distmod</td>\n",
       "      <td>1187</td>\n",
       "      <td>5</td>\n",
       "      <td>1117.8</td>\n",
       "    </tr>\n",
       "  </tbody>\n",
       "</table>\n",
       "</div>"
      ],
      "text/plain": [
       "           feature  gain  fold  mean_gain\n",
       "55  hostgal_photoz  1838     3     1886.4\n",
       "55  hostgal_photoz  1788     4     1886.4\n",
       "55  hostgal_photoz  1821     2     1886.4\n",
       "55  hostgal_photoz  1949     1     1886.4\n",
       "55  hostgal_photoz  2036     5     1886.4\n",
       "54    mjd_diff_det  1729     5     1636.2\n",
       "54    mjd_diff_det  1649     4     1636.2\n",
       "54    mjd_diff_det  1658     1     1636.2\n",
       "54    mjd_diff_det  1529     2     1636.2\n",
       "54    mjd_diff_det  1616     3     1636.2\n",
       "57         distmod  1156     4     1117.8\n",
       "57         distmod  1046     3     1117.8\n",
       "57         distmod  1090     1     1117.8\n",
       "57         distmod  1110     2     1117.8\n",
       "57         distmod  1187     5     1117.8"
      ]
     },
     "execution_count": 12,
     "metadata": {},
     "output_type": "execute_result"
    }
   ],
   "source": [
    "importances.sort_values(by='mean_gain', ascending=False).head(15)"
   ]
  },
  {
   "cell_type": "code",
   "execution_count": 13,
   "metadata": {},
   "outputs": [
    {
     "data": {
      "text/plain": [
       "'/home/kk385830/astronomical-classification/submissions/subm_0.655012_2018-12-10-15-50.csv'"
      ]
     },
     "execution_count": 13,
     "metadata": {},
     "output_type": "execute_result"
    }
   ],
   "source": [
    "submission_file_path = path_from_cv_score(score)\n",
    "submission_file_path"
   ]
  },
  {
   "cell_type": "markdown",
   "metadata": {},
   "source": [
    "### Test set features"
   ]
  },
  {
   "cell_type": "code",
   "execution_count": 14,
   "metadata": {},
   "outputs": [
    {
     "data": {
      "text/plain": [
       "4536532"
      ]
     },
     "execution_count": 14,
     "metadata": {},
     "output_type": "execute_result"
    }
   ],
   "source": [
    "chunk_size_one_100 = 453653105 // 100 + 1\n",
    "# chunk_size_one_100 = 1000001 // 100 + 1\n",
    "chunk_size_one_100"
   ]
  },
  {
   "cell_type": "code",
   "execution_count": null,
   "metadata": {},
   "outputs": [
    {
     "name": "stderr",
     "output_type": "stream",
     "text": [
      "Feature Extraction: 100%|██████████| 60/60 [00:10<00:00,  5.83it/s]\n",
      "Feature Extraction: 100%|██████████| 60/60 [00:02<00:00, 23.79it/s]\n",
      "Feature Extraction: 100%|██████████| 60/60 [00:02<00:00, 29.98it/s]\n",
      "Feature Extraction: 100%|██████████| 60/60 [00:01<00:00, 37.97it/s]\n"
     ]
    },
    {
     "name": "stdout",
     "output_type": "stream",
     "text": [
      "        4536532 done in   1.0 minutes\n"
     ]
    },
    {
     "name": "stderr",
     "output_type": "stream",
     "text": [
      "Feature Extraction: 100%|██████████| 60/60 [00:12<00:00,  4.89it/s]\n",
      "Feature Extraction: 100%|██████████| 60/60 [00:02<00:00, 27.38it/s]\n",
      "Feature Extraction: 100%|██████████| 60/60 [00:01<00:00, 32.15it/s]\n",
      "Feature Extraction: 100%|██████████| 60/60 [00:01<00:00, 38.33it/s]\n"
     ]
    },
    {
     "name": "stdout",
     "output_type": "stream",
     "text": [
      "        9073064 done in   1.9 minutes\n"
     ]
    },
    {
     "name": "stderr",
     "output_type": "stream",
     "text": [
      "Feature Extraction: 100%|██████████| 60/60 [00:21<00:00,  2.74it/s]\n",
      "Feature Extraction: 100%|██████████| 60/60 [00:04<00:00, 14.76it/s]\n",
      "Feature Extraction: 100%|██████████| 60/60 [00:03<00:00, 16.32it/s]\n",
      "Feature Extraction: 100%|██████████| 60/60 [00:03<00:00, 18.97it/s]\n"
     ]
    },
    {
     "name": "stdout",
     "output_type": "stream",
     "text": [
      "       13609596 done in   3.4 minutes\n"
     ]
    },
    {
     "name": "stderr",
     "output_type": "stream",
     "text": [
      "Feature Extraction: 100%|██████████| 60/60 [00:28<00:00,  2.48it/s]\n",
      "Feature Extraction: 100%|██████████| 60/60 [00:05<00:00, 11.41it/s]\n",
      "Feature Extraction: 100%|██████████| 60/60 [00:05<00:00, 11.92it/s]\n",
      "Feature Extraction: 100%|██████████| 60/60 [00:04<00:00, 13.12it/s]\n"
     ]
    },
    {
     "name": "stdout",
     "output_type": "stream",
     "text": [
      "       18146128 done in   5.4 minutes\n"
     ]
    },
    {
     "name": "stderr",
     "output_type": "stream",
     "text": [
      "Feature Extraction: 100%|██████████| 60/60 [00:26<00:00,  2.38it/s]\n",
      "Feature Extraction: 100%|██████████| 60/60 [00:04<00:00, 12.12it/s]\n",
      "Feature Extraction: 100%|██████████| 60/60 [00:04<00:00, 12.71it/s]\n",
      "Feature Extraction: 100%|██████████| 60/60 [00:04<00:00, 14.09it/s]\n"
     ]
    },
    {
     "name": "stdout",
     "output_type": "stream",
     "text": [
      "       22682660 done in   7.3 minutes\n"
     ]
    },
    {
     "name": "stderr",
     "output_type": "stream",
     "text": [
      "Feature Extraction: 100%|██████████| 60/60 [00:27<00:00,  2.17it/s]\n",
      "Feature Extraction: 100%|██████████| 60/60 [00:05<00:00, 11.30it/s]\n",
      "Feature Extraction: 100%|██████████| 60/60 [00:04<00:00, 12.34it/s]\n",
      "Feature Extraction: 100%|██████████| 60/60 [00:04<00:00, 14.16it/s]\n"
     ]
    },
    {
     "name": "stdout",
     "output_type": "stream",
     "text": [
      "       27219192 done in   9.3 minutes\n"
     ]
    },
    {
     "name": "stderr",
     "output_type": "stream",
     "text": [
      "Feature Extraction: 100%|██████████| 60/60 [00:26<00:00,  2.69it/s]\n",
      "Feature Extraction: 100%|██████████| 60/60 [00:05<00:00, 11.41it/s]\n",
      "Feature Extraction: 100%|██████████| 60/60 [00:04<00:00, 14.81it/s]\n",
      "Feature Extraction: 100%|██████████| 60/60 [00:04<00:00, 13.16it/s]\n"
     ]
    },
    {
     "name": "stdout",
     "output_type": "stream",
     "text": [
      "       31755724 done in  11.2 minutes\n"
     ]
    },
    {
     "name": "stderr",
     "output_type": "stream",
     "text": [
      "Feature Extraction: 100%|██████████| 60/60 [00:26<00:00,  2.23it/s]\n",
      "Feature Extraction: 100%|██████████| 60/60 [00:05<00:00, 15.03it/s]\n",
      "Feature Extraction: 100%|██████████| 60/60 [00:04<00:00, 12.47it/s]\n",
      "Feature Extraction: 100%|██████████| 60/60 [00:04<00:00, 13.69it/s]\n"
     ]
    },
    {
     "name": "stdout",
     "output_type": "stream",
     "text": [
      "       36292256 done in  13.1 minutes\n"
     ]
    },
    {
     "name": "stderr",
     "output_type": "stream",
     "text": [
      "Feature Extraction: 100%|██████████| 60/60 [00:26<00:00,  2.33it/s]\n",
      "Feature Extraction: 100%|██████████| 60/60 [00:05<00:00, 11.39it/s]\n",
      "Feature Extraction: 100%|██████████| 60/60 [00:05<00:00, 11.95it/s]\n",
      "Feature Extraction: 100%|██████████| 60/60 [00:04<00:00, 14.10it/s]\n"
     ]
    },
    {
     "name": "stdout",
     "output_type": "stream",
     "text": [
      "       40828788 done in  15.0 minutes\n"
     ]
    },
    {
     "name": "stderr",
     "output_type": "stream",
     "text": [
      "Feature Extraction: 100%|██████████| 60/60 [00:26<00:00,  2.24it/s]\n",
      "Feature Extraction: 100%|██████████| 60/60 [00:05<00:00, 11.05it/s]\n",
      "Feature Extraction: 100%|██████████| 60/60 [00:04<00:00, 12.51it/s]\n",
      "Feature Extraction: 100%|██████████| 60/60 [00:04<00:00, 15.10it/s]\n"
     ]
    },
    {
     "name": "stdout",
     "output_type": "stream",
     "text": [
      "       45365320 done in  16.9 minutes\n"
     ]
    },
    {
     "name": "stderr",
     "output_type": "stream",
     "text": [
      "Feature Extraction: 100%|██████████| 60/60 [00:27<00:00,  2.70it/s]\n",
      "Feature Extraction: 100%|██████████| 60/60 [00:05<00:00, 11.27it/s]\n",
      "Feature Extraction: 100%|██████████| 60/60 [00:05<00:00, 11.95it/s]\n",
      "Feature Extraction: 100%|██████████| 60/60 [00:04<00:00, 12.35it/s]\n"
     ]
    },
    {
     "name": "stdout",
     "output_type": "stream",
     "text": [
      "       49901852 done in  18.8 minutes\n"
     ]
    },
    {
     "name": "stderr",
     "output_type": "stream",
     "text": [
      "Feature Extraction: 100%|██████████| 60/60 [00:28<00:00,  2.46it/s]\n",
      "Feature Extraction: 100%|██████████| 60/60 [00:05<00:00, 11.72it/s]\n",
      "Feature Extraction: 100%|██████████| 60/60 [00:04<00:00, 12.60it/s]\n",
      "Feature Extraction: 100%|██████████| 60/60 [00:04<00:00, 10.89it/s]\n"
     ]
    },
    {
     "name": "stdout",
     "output_type": "stream",
     "text": [
      "       54438384 done in  20.7 minutes\n"
     ]
    },
    {
     "name": "stderr",
     "output_type": "stream",
     "text": [
      "Feature Extraction: 100%|██████████| 60/60 [00:26<00:00,  2.71it/s]\n",
      "Feature Extraction: 100%|██████████| 60/60 [00:05<00:00, 14.13it/s]\n",
      "Feature Extraction: 100%|██████████| 60/60 [00:04<00:00, 12.31it/s]\n",
      "Feature Extraction: 100%|██████████| 60/60 [00:04<00:00, 13.96it/s]\n"
     ]
    },
    {
     "name": "stdout",
     "output_type": "stream",
     "text": [
      "       58974916 done in  22.6 minutes\n"
     ]
    },
    {
     "name": "stderr",
     "output_type": "stream",
     "text": [
      "Feature Extraction: 100%|██████████| 60/60 [00:27<00:00,  2.18it/s]\n",
      "Feature Extraction: 100%|██████████| 60/60 [00:04<00:00, 15.67it/s]\n",
      "Feature Extraction: 100%|██████████| 60/60 [00:04<00:00, 12.85it/s]\n",
      "Feature Extraction: 100%|██████████| 60/60 [00:04<00:00, 13.82it/s]\n"
     ]
    },
    {
     "name": "stdout",
     "output_type": "stream",
     "text": [
      "       63511448 done in  24.5 minutes\n"
     ]
    },
    {
     "name": "stderr",
     "output_type": "stream",
     "text": [
      "Feature Extraction: 100%|██████████| 60/60 [00:28<00:00,  2.36it/s]\n",
      "Feature Extraction: 100%|██████████| 60/60 [00:05<00:00, 13.39it/s]\n",
      "Feature Extraction: 100%|██████████| 60/60 [00:04<00:00, 12.46it/s]\n",
      "Feature Extraction: 100%|██████████| 60/60 [00:04<00:00, 13.12it/s]\n"
     ]
    },
    {
     "name": "stdout",
     "output_type": "stream",
     "text": [
      "       68047980 done in  26.4 minutes\n"
     ]
    },
    {
     "name": "stderr",
     "output_type": "stream",
     "text": [
      "Feature Extraction: 100%|██████████| 60/60 [00:26<00:00,  2.47it/s]\n",
      "Feature Extraction: 100%|██████████| 60/60 [00:05<00:00, 12.71it/s]\n",
      "Feature Extraction: 100%|██████████| 60/60 [00:04<00:00, 12.77it/s]\n",
      "Feature Extraction: 100%|██████████| 60/60 [00:04<00:00, 13.20it/s]\n"
     ]
    },
    {
     "name": "stdout",
     "output_type": "stream",
     "text": [
      "       72584512 done in  28.3 minutes\n"
     ]
    },
    {
     "name": "stderr",
     "output_type": "stream",
     "text": [
      "Feature Extraction: 100%|██████████| 60/60 [00:25<00:00,  2.90it/s]\n",
      "Feature Extraction: 100%|██████████| 60/60 [00:05<00:00, 11.57it/s]\n",
      "Feature Extraction: 100%|██████████| 60/60 [00:04<00:00, 14.17it/s]\n",
      "Feature Extraction: 100%|██████████| 60/60 [00:04<00:00, 14.68it/s]\n"
     ]
    },
    {
     "name": "stdout",
     "output_type": "stream",
     "text": [
      "       77121044 done in  30.1 minutes\n"
     ]
    },
    {
     "name": "stderr",
     "output_type": "stream",
     "text": [
      "Feature Extraction: 100%|██████████| 60/60 [00:26<00:00,  2.34it/s]\n",
      "Feature Extraction: 100%|██████████| 60/60 [00:04<00:00, 12.21it/s]\n",
      "Feature Extraction: 100%|██████████| 60/60 [00:04<00:00, 12.83it/s]\n",
      "Feature Extraction: 100%|██████████| 60/60 [00:04<00:00, 14.58it/s]\n"
     ]
    },
    {
     "name": "stdout",
     "output_type": "stream",
     "text": [
      "       81657576 done in  32.0 minutes\n"
     ]
    },
    {
     "name": "stderr",
     "output_type": "stream",
     "text": [
      "Feature Extraction: 100%|██████████| 60/60 [00:26<00:00,  2.47it/s]\n",
      "Feature Extraction: 100%|██████████| 60/60 [00:05<00:00, 13.16it/s]\n",
      "Feature Extraction: 100%|██████████| 60/60 [00:04<00:00, 12.95it/s]\n",
      "Feature Extraction: 100%|██████████| 60/60 [00:04<00:00, 16.41it/s]\n"
     ]
    },
    {
     "name": "stdout",
     "output_type": "stream",
     "text": [
      "       86194108 done in  33.9 minutes\n"
     ]
    },
    {
     "name": "stderr",
     "output_type": "stream",
     "text": [
      "Feature Extraction: 100%|██████████| 60/60 [00:27<00:00,  3.14it/s]\n",
      "Feature Extraction: 100%|██████████| 60/60 [00:05<00:00, 11.27it/s]\n",
      "Feature Extraction: 100%|██████████| 60/60 [00:04<00:00, 12.64it/s]\n",
      "Feature Extraction: 100%|██████████| 60/60 [00:04<00:00, 13.39it/s]\n"
     ]
    },
    {
     "name": "stdout",
     "output_type": "stream",
     "text": [
      "       90730640 done in  35.8 minutes\n"
     ]
    },
    {
     "name": "stderr",
     "output_type": "stream",
     "text": [
      "Feature Extraction: 100%|██████████| 60/60 [00:26<00:00,  2.62it/s]\n",
      "Feature Extraction: 100%|██████████| 60/60 [00:04<00:00, 14.46it/s]\n",
      "Feature Extraction: 100%|██████████| 60/60 [00:04<00:00, 12.86it/s]\n",
      "Feature Extraction: 100%|██████████| 60/60 [00:04<00:00, 14.05it/s]\n"
     ]
    },
    {
     "name": "stdout",
     "output_type": "stream",
     "text": [
      "       95267172 done in  37.7 minutes\n"
     ]
    },
    {
     "name": "stderr",
     "output_type": "stream",
     "text": [
      "Feature Extraction: 100%|██████████| 60/60 [00:27<00:00,  2.19it/s]\n",
      "Feature Extraction: 100%|██████████| 60/60 [00:04<00:00, 14.93it/s]\n",
      "Feature Extraction: 100%|██████████| 60/60 [00:04<00:00, 13.33it/s]\n",
      "Feature Extraction: 100%|██████████| 60/60 [00:04<00:00, 15.90it/s]\n"
     ]
    },
    {
     "name": "stdout",
     "output_type": "stream",
     "text": [
      "       99803704 done in  39.6 minutes\n"
     ]
    },
    {
     "name": "stderr",
     "output_type": "stream",
     "text": [
      "Feature Extraction: 100%|██████████| 60/60 [00:26<00:00,  2.30it/s]\n",
      "Feature Extraction: 100%|██████████| 60/60 [00:05<00:00, 12.85it/s]\n",
      "Feature Extraction: 100%|██████████| 60/60 [00:04<00:00, 12.22it/s]\n",
      "Feature Extraction: 100%|██████████| 60/60 [00:04<00:00, 12.55it/s]\n"
     ]
    },
    {
     "name": "stdout",
     "output_type": "stream",
     "text": [
      "      104340236 done in  41.5 minutes\n"
     ]
    },
    {
     "name": "stderr",
     "output_type": "stream",
     "text": [
      "Feature Extraction: 100%|██████████| 60/60 [00:25<00:00,  3.18it/s]\n",
      "Feature Extraction: 100%|██████████| 60/60 [00:05<00:00, 11.48it/s]\n",
      "Feature Extraction: 100%|██████████| 60/60 [00:04<00:00, 14.15it/s]\n",
      "Feature Extraction: 100%|██████████| 60/60 [00:05<00:00, 11.84it/s]\n"
     ]
    },
    {
     "name": "stdout",
     "output_type": "stream",
     "text": [
      "      108876768 done in  43.3 minutes\n"
     ]
    },
    {
     "name": "stderr",
     "output_type": "stream",
     "text": [
      "Feature Extraction: 100%|██████████| 60/60 [00:27<00:00,  2.43it/s]\n",
      "Feature Extraction: 100%|██████████| 60/60 [00:05<00:00, 11.94it/s]\n",
      "Feature Extraction: 100%|██████████| 60/60 [00:05<00:00, 11.67it/s]\n",
      "Feature Extraction: 100%|██████████| 60/60 [00:04<00:00, 12.73it/s]\n"
     ]
    },
    {
     "name": "stdout",
     "output_type": "stream",
     "text": [
      "      113413300 done in  45.2 minutes\n"
     ]
    },
    {
     "name": "stderr",
     "output_type": "stream",
     "text": [
      "Feature Extraction: 100%|██████████| 60/60 [00:26<00:00,  2.25it/s]\n",
      "Feature Extraction: 100%|██████████| 60/60 [00:05<00:00, 11.94it/s]\n",
      "Feature Extraction: 100%|██████████| 60/60 [00:04<00:00, 15.81it/s]\n",
      "Feature Extraction: 100%|██████████| 60/60 [00:04<00:00, 15.18it/s]\n"
     ]
    },
    {
     "name": "stdout",
     "output_type": "stream",
     "text": [
      "      117949832 done in  47.1 minutes\n"
     ]
    },
    {
     "name": "stderr",
     "output_type": "stream",
     "text": [
      "Feature Extraction: 100%|██████████| 60/60 [00:27<00:00,  2.22it/s]\n",
      "Feature Extraction: 100%|██████████| 60/60 [00:05<00:00, 11.52it/s]\n",
      "Feature Extraction: 100%|██████████| 60/60 [00:04<00:00, 12.48it/s]\n",
      "Feature Extraction: 100%|██████████| 60/60 [00:04<00:00, 13.39it/s]\n"
     ]
    },
    {
     "name": "stdout",
     "output_type": "stream",
     "text": [
      "      122486364 done in  49.0 minutes\n"
     ]
    },
    {
     "name": "stderr",
     "output_type": "stream",
     "text": [
      "Feature Extraction: 100%|██████████| 60/60 [00:28<00:00,  2.59it/s]\n",
      "Feature Extraction: 100%|██████████| 60/60 [00:05<00:00, 14.65it/s]\n",
      "Feature Extraction: 100%|██████████| 60/60 [00:04<00:00, 13.42it/s]\n",
      "Feature Extraction: 100%|██████████| 60/60 [00:04<00:00, 14.35it/s]\n"
     ]
    },
    {
     "name": "stdout",
     "output_type": "stream",
     "text": [
      "      127022896 done in  50.9 minutes\n"
     ]
    },
    {
     "name": "stderr",
     "output_type": "stream",
     "text": [
      "Feature Extraction: 100%|██████████| 60/60 [00:26<00:00,  2.58it/s]\n",
      "Feature Extraction: 100%|██████████| 60/60 [00:05<00:00, 11.17it/s]\n",
      "Feature Extraction: 100%|██████████| 60/60 [00:04<00:00, 12.34it/s]\n",
      "Feature Extraction: 100%|██████████| 60/60 [00:04<00:00, 13.31it/s]\n"
     ]
    },
    {
     "name": "stdout",
     "output_type": "stream",
     "text": [
      "      131559428 done in  52.7 minutes\n"
     ]
    },
    {
     "name": "stderr",
     "output_type": "stream",
     "text": [
      "Feature Extraction: 100%|██████████| 60/60 [00:26<00:00,  2.86it/s]\n",
      "Feature Extraction: 100%|██████████| 60/60 [00:04<00:00, 12.24it/s]\n",
      "Feature Extraction: 100%|██████████| 60/60 [00:05<00:00, 11.54it/s]\n",
      "Feature Extraction: 100%|██████████| 60/60 [00:04<00:00, 13.50it/s]\n"
     ]
    },
    {
     "name": "stdout",
     "output_type": "stream",
     "text": [
      "      136095960 done in  54.5 minutes\n"
     ]
    },
    {
     "name": "stderr",
     "output_type": "stream",
     "text": [
      "Feature Extraction: 100%|██████████| 60/60 [00:26<00:00,  2.92it/s]\n",
      "Feature Extraction: 100%|██████████| 60/60 [00:05<00:00, 12.00it/s]\n",
      "Feature Extraction: 100%|██████████| 60/60 [00:04<00:00, 12.83it/s]\n",
      "Feature Extraction: 100%|██████████| 60/60 [00:04<00:00, 13.33it/s]\n"
     ]
    },
    {
     "name": "stdout",
     "output_type": "stream",
     "text": [
      "      140632492 done in  56.3 minutes\n"
     ]
    },
    {
     "name": "stderr",
     "output_type": "stream",
     "text": [
      "Feature Extraction: 100%|██████████| 60/60 [00:26<00:00,  2.24it/s]\n",
      "Feature Extraction: 100%|██████████| 60/60 [00:04<00:00, 14.24it/s]\n",
      "Feature Extraction: 100%|██████████| 60/60 [00:05<00:00, 15.57it/s]\n",
      "Feature Extraction: 100%|██████████| 60/60 [00:04<00:00, 16.84it/s]\n"
     ]
    },
    {
     "name": "stdout",
     "output_type": "stream",
     "text": [
      "      145169024 done in  58.1 minutes\n"
     ]
    },
    {
     "name": "stderr",
     "output_type": "stream",
     "text": [
      "Feature Extraction: 100%|██████████| 60/60 [00:25<00:00,  3.05it/s]\n",
      "Feature Extraction: 100%|██████████| 60/60 [00:05<00:00, 11.46it/s]\n",
      "Feature Extraction: 100%|██████████| 60/60 [00:05<00:00, 11.64it/s]\n",
      "Feature Extraction: 100%|██████████| 60/60 [00:04<00:00, 12.65it/s]\n"
     ]
    },
    {
     "name": "stdout",
     "output_type": "stream",
     "text": [
      "      149705556 done in  59.9 minutes\n"
     ]
    },
    {
     "name": "stderr",
     "output_type": "stream",
     "text": [
      "Feature Extraction: 100%|██████████| 60/60 [00:26<00:00,  2.45it/s]\n",
      "Feature Extraction: 100%|██████████| 60/60 [00:05<00:00, 12.16it/s]\n",
      "Feature Extraction: 100%|██████████| 60/60 [00:05<00:00, 11.84it/s]\n",
      "Feature Extraction: 100%|██████████| 60/60 [00:04<00:00, 16.09it/s]\n"
     ]
    },
    {
     "name": "stdout",
     "output_type": "stream",
     "text": [
      "      154242088 done in  61.7 minutes\n"
     ]
    },
    {
     "name": "stderr",
     "output_type": "stream",
     "text": [
      "Feature Extraction: 100%|██████████| 60/60 [00:26<00:00,  2.28it/s]\n",
      "Feature Extraction: 100%|██████████| 60/60 [00:05<00:00, 11.63it/s]\n",
      "Feature Extraction: 100%|██████████| 60/60 [00:04<00:00, 12.05it/s]\n",
      "Feature Extraction: 100%|██████████| 60/60 [00:04<00:00, 14.59it/s]\n"
     ]
    },
    {
     "name": "stdout",
     "output_type": "stream",
     "text": [
      "      158778620 done in  63.6 minutes\n"
     ]
    },
    {
     "name": "stderr",
     "output_type": "stream",
     "text": [
      "Feature Extraction: 100%|██████████| 60/60 [00:25<00:00,  2.87it/s]\n",
      "Feature Extraction: 100%|██████████| 60/60 [00:05<00:00, 11.62it/s]\n",
      "Feature Extraction: 100%|██████████| 60/60 [00:04<00:00, 14.02it/s]\n",
      "Feature Extraction: 100%|██████████| 60/60 [00:04<00:00, 12.99it/s]\n"
     ]
    },
    {
     "name": "stdout",
     "output_type": "stream",
     "text": [
      "      163315152 done in  65.4 minutes\n"
     ]
    },
    {
     "name": "stderr",
     "output_type": "stream",
     "text": [
      "Feature Extraction: 100%|██████████| 60/60 [00:27<00:00,  2.23it/s]\n",
      "Feature Extraction: 100%|██████████| 60/60 [00:04<00:00, 12.06it/s]\n",
      "Feature Extraction: 100%|██████████| 60/60 [00:05<00:00,  9.86it/s]\n",
      "Feature Extraction: 100%|██████████| 60/60 [00:04<00:00, 13.77it/s]\n"
     ]
    },
    {
     "name": "stdout",
     "output_type": "stream",
     "text": [
      "      167851684 done in  67.2 minutes\n"
     ]
    },
    {
     "name": "stderr",
     "output_type": "stream",
     "text": [
      "Feature Extraction: 100%|██████████| 60/60 [00:27<00:00,  2.39it/s]\n",
      "Feature Extraction: 100%|██████████| 60/60 [00:05<00:00, 12.08it/s]\n",
      "Feature Extraction: 100%|██████████| 60/60 [00:04<00:00, 12.25it/s]\n",
      "Feature Extraction: 100%|██████████| 60/60 [00:04<00:00, 15.79it/s]\n"
     ]
    },
    {
     "name": "stdout",
     "output_type": "stream",
     "text": [
      "      172388216 done in  69.1 minutes\n"
     ]
    },
    {
     "name": "stderr",
     "output_type": "stream",
     "text": [
      "Feature Extraction: 100%|██████████| 60/60 [00:27<00:00,  2.07it/s]\n",
      "Feature Extraction: 100%|██████████| 60/60 [00:05<00:00, 10.09it/s]\n",
      "Feature Extraction: 100%|██████████| 60/60 [00:04<00:00, 12.38it/s]\n",
      "Feature Extraction: 100%|██████████| 60/60 [00:04<00:00, 14.45it/s]\n"
     ]
    },
    {
     "name": "stdout",
     "output_type": "stream",
     "text": [
      "      176924748 done in  70.9 minutes\n"
     ]
    },
    {
     "name": "stderr",
     "output_type": "stream",
     "text": [
      "Feature Extraction: 100%|██████████| 60/60 [00:26<00:00,  3.00it/s]\n",
      "Feature Extraction: 100%|██████████| 60/60 [00:05<00:00, 11.36it/s]\n",
      "Feature Extraction: 100%|██████████| 60/60 [00:04<00:00, 12.58it/s]\n",
      "Feature Extraction: 100%|██████████| 60/60 [00:04<00:00, 12.92it/s]\n"
     ]
    },
    {
     "name": "stdout",
     "output_type": "stream",
     "text": [
      "      181461280 done in  72.7 minutes\n"
     ]
    },
    {
     "name": "stderr",
     "output_type": "stream",
     "text": [
      "Feature Extraction: 100%|██████████| 60/60 [00:26<00:00,  2.76it/s]\n",
      "Feature Extraction: 100%|██████████| 60/60 [00:05<00:00, 11.02it/s]\n",
      "Feature Extraction: 100%|██████████| 60/60 [00:05<00:00, 11.31it/s]\n",
      "Feature Extraction: 100%|██████████| 60/60 [00:04<00:00, 12.61it/s]\n"
     ]
    },
    {
     "name": "stdout",
     "output_type": "stream",
     "text": [
      "      185997812 done in  74.5 minutes\n"
     ]
    },
    {
     "name": "stderr",
     "output_type": "stream",
     "text": [
      "Feature Extraction: 100%|██████████| 60/60 [00:26<00:00,  2.74it/s]\n",
      "Feature Extraction: 100%|██████████| 60/60 [00:05<00:00, 10.24it/s]\n",
      "Feature Extraction: 100%|██████████| 60/60 [00:04<00:00, 12.11it/s]\n",
      "Feature Extraction: 100%|██████████| 60/60 [00:04<00:00, 11.11it/s]\n"
     ]
    },
    {
     "name": "stdout",
     "output_type": "stream",
     "text": [
      "      190534344 done in  76.3 minutes\n"
     ]
    },
    {
     "name": "stderr",
     "output_type": "stream",
     "text": [
      "Feature Extraction: 100%|██████████| 60/60 [00:26<00:00,  2.50it/s]\n",
      "Feature Extraction: 100%|██████████| 60/60 [00:05<00:00, 10.21it/s]\n",
      "Feature Extraction: 100%|██████████| 60/60 [00:04<00:00, 14.68it/s]\n",
      "Feature Extraction: 100%|██████████| 60/60 [00:04<00:00, 13.95it/s]\n"
     ]
    },
    {
     "name": "stdout",
     "output_type": "stream",
     "text": [
      "      195070876 done in  78.1 minutes\n"
     ]
    },
    {
     "name": "stderr",
     "output_type": "stream",
     "text": [
      "Feature Extraction: 100%|██████████| 60/60 [00:27<00:00,  2.06it/s]\n",
      "Feature Extraction: 100%|██████████| 60/60 [00:05<00:00, 11.98it/s]\n",
      "Feature Extraction: 100%|██████████| 60/60 [00:04<00:00, 12.56it/s]\n",
      "Feature Extraction: 100%|██████████| 60/60 [00:04<00:00, 14.54it/s]\n"
     ]
    },
    {
     "name": "stdout",
     "output_type": "stream",
     "text": [
      "      199607408 done in  79.9 minutes\n"
     ]
    },
    {
     "name": "stderr",
     "output_type": "stream",
     "text": [
      "Feature Extraction: 100%|██████████| 60/60 [00:26<00:00,  2.59it/s]\n",
      "Feature Extraction: 100%|██████████| 60/60 [00:04<00:00, 12.49it/s]\n",
      "Feature Extraction: 100%|██████████| 60/60 [00:04<00:00, 12.60it/s]\n",
      "Feature Extraction: 100%|██████████| 60/60 [00:04<00:00, 16.57it/s]\n"
     ]
    },
    {
     "name": "stdout",
     "output_type": "stream",
     "text": [
      "      204143940 done in  81.8 minutes\n"
     ]
    },
    {
     "name": "stderr",
     "output_type": "stream",
     "text": [
      "Feature Extraction: 100%|██████████| 60/60 [00:26<00:00,  2.71it/s]\n",
      "Feature Extraction: 100%|██████████| 60/60 [00:04<00:00, 12.45it/s]\n",
      "Feature Extraction: 100%|██████████| 60/60 [00:04<00:00, 12.81it/s]\n",
      "Feature Extraction: 100%|██████████| 60/60 [00:04<00:00, 13.56it/s]\n"
     ]
    },
    {
     "name": "stdout",
     "output_type": "stream",
     "text": [
      "      208680472 done in  83.6 minutes\n"
     ]
    },
    {
     "name": "stderr",
     "output_type": "stream",
     "text": [
      "Feature Extraction: 100%|██████████| 60/60 [00:25<00:00,  2.75it/s]\n",
      "Feature Extraction: 100%|██████████| 60/60 [00:05<00:00,  7.91it/s]\n",
      "Feature Extraction: 100%|██████████| 60/60 [00:04<00:00, 12.29it/s]\n",
      "Feature Extraction: 100%|██████████| 60/60 [00:04<00:00, 13.91it/s]\n"
     ]
    },
    {
     "name": "stdout",
     "output_type": "stream",
     "text": [
      "      213217004 done in  85.4 minutes\n"
     ]
    },
    {
     "name": "stderr",
     "output_type": "stream",
     "text": [
      "Feature Extraction: 100%|██████████| 60/60 [00:24<00:00,  2.81it/s]\n",
      "Feature Extraction: 100%|██████████| 60/60 [00:05<00:00, 11.34it/s]\n",
      "Feature Extraction: 100%|██████████| 60/60 [00:04<00:00, 12.68it/s]\n",
      "Feature Extraction: 100%|██████████| 60/60 [00:04<00:00, 12.19it/s]\n"
     ]
    },
    {
     "name": "stdout",
     "output_type": "stream",
     "text": [
      "      217753536 done in  87.2 minutes\n"
     ]
    },
    {
     "name": "stderr",
     "output_type": "stream",
     "text": [
      "Feature Extraction: 100%|██████████| 60/60 [00:25<00:00,  2.81it/s]\n",
      "Feature Extraction: 100%|██████████| 60/60 [00:05<00:00, 11.27it/s]\n",
      "Feature Extraction: 100%|██████████| 60/60 [00:04<00:00, 12.93it/s]\n",
      "Feature Extraction: 100%|██████████| 60/60 [00:04<00:00, 14.10it/s]\n"
     ]
    },
    {
     "name": "stdout",
     "output_type": "stream",
     "text": [
      "      222290068 done in  89.0 minutes\n"
     ]
    },
    {
     "name": "stderr",
     "output_type": "stream",
     "text": [
      "Feature Extraction: 100%|██████████| 60/60 [00:27<00:00,  2.02it/s]\n",
      "Feature Extraction: 100%|██████████| 60/60 [00:04<00:00, 13.07it/s]\n",
      "Feature Extraction: 100%|██████████| 60/60 [00:04<00:00, 12.23it/s]\n",
      "Feature Extraction: 100%|██████████| 60/60 [00:03<00:00, 15.89it/s]\n"
     ]
    },
    {
     "name": "stdout",
     "output_type": "stream",
     "text": [
      "      226826600 done in  90.9 minutes\n"
     ]
    },
    {
     "name": "stderr",
     "output_type": "stream",
     "text": [
      "Feature Extraction: 100%|██████████| 60/60 [00:26<00:00,  2.46it/s]\n",
      "Feature Extraction: 100%|██████████| 60/60 [00:05<00:00, 11.07it/s]\n",
      "Feature Extraction: 100%|██████████| 60/60 [00:04<00:00, 12.19it/s]\n",
      "Feature Extraction: 100%|██████████| 60/60 [00:04<00:00, 13.21it/s]\n"
     ]
    },
    {
     "name": "stdout",
     "output_type": "stream",
     "text": [
      "      231363132 done in  92.7 minutes\n"
     ]
    },
    {
     "name": "stderr",
     "output_type": "stream",
     "text": [
      "Feature Extraction: 100%|██████████| 60/60 [00:27<00:00,  2.07it/s]\n",
      "Feature Extraction: 100%|██████████| 60/60 [00:05<00:00, 13.17it/s]\n",
      "Feature Extraction: 100%|██████████| 60/60 [00:04<00:00, 12.67it/s]\n",
      "Feature Extraction: 100%|██████████| 60/60 [00:04<00:00, 13.79it/s]\n"
     ]
    },
    {
     "name": "stdout",
     "output_type": "stream",
     "text": [
      "      235899664 done in  94.5 minutes\n"
     ]
    },
    {
     "name": "stderr",
     "output_type": "stream",
     "text": [
      "Feature Extraction: 100%|██████████| 60/60 [00:25<00:00,  2.92it/s]\n",
      "Feature Extraction: 100%|██████████| 60/60 [00:05<00:00, 13.35it/s]\n",
      "Feature Extraction: 100%|██████████| 60/60 [00:04<00:00, 12.50it/s]\n",
      "Feature Extraction: 100%|██████████| 60/60 [00:04<00:00, 13.66it/s]\n"
     ]
    },
    {
     "name": "stdout",
     "output_type": "stream",
     "text": [
      "      240436196 done in  96.3 minutes\n"
     ]
    },
    {
     "name": "stderr",
     "output_type": "stream",
     "text": [
      "Feature Extraction: 100%|██████████| 60/60 [00:27<00:00,  2.75it/s]\n",
      "Feature Extraction: 100%|██████████| 60/60 [00:05<00:00, 11.73it/s]\n",
      "Feature Extraction: 100%|██████████| 60/60 [00:05<00:00, 10.67it/s]\n",
      "Feature Extraction: 100%|██████████| 60/60 [00:03<00:00, 19.90it/s]\n"
     ]
    },
    {
     "name": "stdout",
     "output_type": "stream",
     "text": [
      "      244972728 done in  98.2 minutes\n"
     ]
    },
    {
     "name": "stderr",
     "output_type": "stream",
     "text": [
      "Feature Extraction: 100%|██████████| 60/60 [00:25<00:00,  3.09it/s]\n",
      "Feature Extraction: 100%|██████████| 60/60 [00:05<00:00, 11.77it/s]\n",
      "Feature Extraction: 100%|██████████| 60/60 [00:04<00:00, 15.55it/s]\n",
      "Feature Extraction: 100%|██████████| 60/60 [00:05<00:00, 11.71it/s]\n"
     ]
    },
    {
     "name": "stdout",
     "output_type": "stream",
     "text": [
      "      249509260 done in 100.0 minutes\n"
     ]
    },
    {
     "name": "stderr",
     "output_type": "stream",
     "text": [
      "Feature Extraction: 100%|██████████| 60/60 [00:25<00:00,  2.72it/s]\n",
      "Feature Extraction: 100%|██████████| 60/60 [00:04<00:00, 12.33it/s]\n",
      "Feature Extraction: 100%|██████████| 60/60 [00:04<00:00, 13.12it/s]\n",
      "Feature Extraction: 100%|██████████| 60/60 [00:04<00:00, 13.04it/s]\n"
     ]
    },
    {
     "name": "stdout",
     "output_type": "stream",
     "text": [
      "      254045792 done in 101.8 minutes\n"
     ]
    },
    {
     "name": "stderr",
     "output_type": "stream",
     "text": [
      "Feature Extraction: 100%|██████████| 60/60 [00:26<00:00,  2.59it/s]\n",
      "Feature Extraction: 100%|██████████| 60/60 [00:04<00:00, 12.83it/s]\n",
      "Feature Extraction: 100%|██████████| 60/60 [00:05<00:00, 12.63it/s]\n",
      "Feature Extraction: 100%|██████████| 60/60 [00:04<00:00, 16.25it/s]\n"
     ]
    },
    {
     "name": "stdout",
     "output_type": "stream",
     "text": [
      "      258582324 done in 103.6 minutes\n"
     ]
    },
    {
     "name": "stderr",
     "output_type": "stream",
     "text": [
      "Feature Extraction: 100%|██████████| 60/60 [00:25<00:00,  2.65it/s]\n",
      "Feature Extraction: 100%|██████████| 60/60 [00:05<00:00, 13.93it/s]\n",
      "Feature Extraction: 100%|██████████| 60/60 [00:04<00:00, 15.20it/s]\n",
      "Feature Extraction: 100%|██████████| 60/60 [00:04<00:00, 14.43it/s]\n"
     ]
    },
    {
     "name": "stdout",
     "output_type": "stream",
     "text": [
      "      263118856 done in 105.4 minutes\n"
     ]
    },
    {
     "name": "stderr",
     "output_type": "stream",
     "text": [
      "Feature Extraction: 100%|██████████| 60/60 [00:25<00:00,  3.07it/s]\n",
      "Feature Extraction: 100%|██████████| 60/60 [00:04<00:00, 13.93it/s]\n",
      "Feature Extraction: 100%|██████████| 60/60 [00:04<00:00, 12.64it/s]\n",
      "Feature Extraction: 100%|██████████| 60/60 [00:04<00:00, 12.43it/s]\n"
     ]
    },
    {
     "name": "stdout",
     "output_type": "stream",
     "text": [
      "      267655388 done in 107.2 minutes\n"
     ]
    },
    {
     "name": "stderr",
     "output_type": "stream",
     "text": [
      "Feature Extraction: 100%|██████████| 60/60 [00:26<00:00,  2.59it/s]\n",
      "Feature Extraction: 100%|██████████| 60/60 [00:05<00:00, 11.56it/s]\n",
      "Feature Extraction: 100%|██████████| 60/60 [00:04<00:00, 13.24it/s]\n",
      "Feature Extraction: 100%|██████████| 60/60 [00:03<00:00, 16.07it/s]\n"
     ]
    },
    {
     "name": "stdout",
     "output_type": "stream",
     "text": [
      "      272191920 done in 109.0 minutes\n"
     ]
    },
    {
     "name": "stderr",
     "output_type": "stream",
     "text": [
      "Feature Extraction: 100%|██████████| 60/60 [00:26<00:00,  2.26it/s]\n",
      "Feature Extraction: 100%|██████████| 60/60 [00:05<00:00, 13.02it/s]\n",
      "Feature Extraction: 100%|██████████| 60/60 [00:05<00:00, 13.99it/s]\n",
      "Feature Extraction: 100%|██████████| 60/60 [00:04<00:00, 12.52it/s]\n"
     ]
    },
    {
     "name": "stdout",
     "output_type": "stream",
     "text": [
      "      276728452 done in 110.9 minutes\n"
     ]
    },
    {
     "name": "stderr",
     "output_type": "stream",
     "text": [
      "Feature Extraction: 100%|██████████| 60/60 [00:26<00:00,  2.47it/s]\n",
      "Feature Extraction: 100%|██████████| 60/60 [00:05<00:00, 13.54it/s]\n",
      "Feature Extraction: 100%|██████████| 60/60 [00:05<00:00, 12.50it/s]\n",
      "Feature Extraction: 100%|██████████| 60/60 [00:04<00:00, 14.01it/s]\n"
     ]
    },
    {
     "name": "stdout",
     "output_type": "stream",
     "text": [
      "      281264984 done in 112.7 minutes\n"
     ]
    },
    {
     "name": "stderr",
     "output_type": "stream",
     "text": [
      "Feature Extraction: 100%|██████████| 60/60 [00:26<00:00,  2.50it/s]\n",
      "Feature Extraction: 100%|██████████| 60/60 [00:05<00:00, 11.73it/s]\n",
      "Feature Extraction: 100%|██████████| 60/60 [00:05<00:00, 11.84it/s]\n",
      "Feature Extraction: 100%|██████████| 60/60 [00:03<00:00, 18.15it/s]\n"
     ]
    },
    {
     "name": "stdout",
     "output_type": "stream",
     "text": [
      "      285801516 done in 114.5 minutes\n"
     ]
    },
    {
     "name": "stderr",
     "output_type": "stream",
     "text": [
      "Feature Extraction: 100%|██████████| 60/60 [00:27<00:00,  2.05it/s]\n",
      "Feature Extraction: 100%|██████████| 60/60 [00:05<00:00, 10.64it/s]\n",
      "Feature Extraction: 100%|██████████| 60/60 [00:04<00:00, 12.54it/s]\n",
      "Feature Extraction: 100%|██████████| 60/60 [00:04<00:00, 15.81it/s]\n"
     ]
    },
    {
     "name": "stdout",
     "output_type": "stream",
     "text": [
      "      290338048 done in 116.4 minutes\n"
     ]
    },
    {
     "name": "stderr",
     "output_type": "stream",
     "text": [
      "Feature Extraction: 100%|██████████| 60/60 [00:27<00:00,  2.31it/s]\n",
      "Feature Extraction: 100%|██████████| 60/60 [00:05<00:00, 11.19it/s]\n",
      "Feature Extraction: 100%|██████████| 60/60 [00:04<00:00, 13.83it/s]\n",
      "Feature Extraction: 100%|██████████| 60/60 [00:04<00:00, 13.57it/s]\n"
     ]
    },
    {
     "name": "stdout",
     "output_type": "stream",
     "text": [
      "      294874580 done in 118.2 minutes\n"
     ]
    },
    {
     "name": "stderr",
     "output_type": "stream",
     "text": [
      "Feature Extraction: 100%|██████████| 60/60 [00:25<00:00,  2.82it/s]\n",
      "Feature Extraction: 100%|██████████| 60/60 [00:05<00:00, 10.00it/s]\n",
      "Feature Extraction: 100%|██████████| 60/60 [00:04<00:00, 14.07it/s]\n",
      "Feature Extraction: 100%|██████████| 60/60 [00:04<00:00, 13.56it/s]\n"
     ]
    },
    {
     "name": "stdout",
     "output_type": "stream",
     "text": [
      "      299411112 done in 120.0 minutes\n"
     ]
    },
    {
     "name": "stderr",
     "output_type": "stream",
     "text": [
      "Feature Extraction: 100%|██████████| 60/60 [00:26<00:00,  2.30it/s]\n",
      "Feature Extraction: 100%|██████████| 60/60 [00:05<00:00, 12.82it/s]\n",
      "Feature Extraction: 100%|██████████| 60/60 [00:04<00:00, 14.83it/s]\n",
      "Feature Extraction: 100%|██████████| 60/60 [00:04<00:00, 13.52it/s]\n"
     ]
    },
    {
     "name": "stdout",
     "output_type": "stream",
     "text": [
      "      303947644 done in 121.8 minutes\n"
     ]
    },
    {
     "name": "stderr",
     "output_type": "stream",
     "text": [
      "Feature Extraction: 100%|██████████| 60/60 [00:25<00:00,  3.24it/s]\n",
      "Feature Extraction: 100%|██████████| 60/60 [00:05<00:00, 14.62it/s]\n",
      "Feature Extraction: 100%|██████████| 60/60 [00:04<00:00, 15.90it/s]\n",
      "Feature Extraction: 100%|██████████| 60/60 [00:03<00:00, 20.45it/s]\n"
     ]
    },
    {
     "name": "stdout",
     "output_type": "stream",
     "text": [
      "      308484176 done in 123.6 minutes\n"
     ]
    },
    {
     "name": "stderr",
     "output_type": "stream",
     "text": [
      "Feature Extraction: 100%|██████████| 60/60 [00:26<00:00,  2.52it/s]\n",
      "Feature Extraction: 100%|██████████| 60/60 [00:04<00:00, 15.34it/s]\n",
      "Feature Extraction: 100%|██████████| 60/60 [00:04<00:00, 13.18it/s]\n",
      "Feature Extraction: 100%|██████████| 60/60 [00:04<00:00, 12.44it/s]\n"
     ]
    },
    {
     "name": "stdout",
     "output_type": "stream",
     "text": [
      "      313020708 done in 125.4 minutes\n"
     ]
    },
    {
     "name": "stderr",
     "output_type": "stream",
     "text": [
      "Feature Extraction: 100%|██████████| 60/60 [00:25<00:00,  2.94it/s]\n",
      "Feature Extraction: 100%|██████████| 60/60 [00:04<00:00, 12.98it/s]\n",
      "Feature Extraction: 100%|██████████| 60/60 [00:03<00:00, 17.79it/s]\n",
      "Feature Extraction: 100%|██████████| 60/60 [00:04<00:00, 14.05it/s]\n"
     ]
    },
    {
     "name": "stdout",
     "output_type": "stream",
     "text": [
      "      317557240 done in 127.2 minutes\n"
     ]
    },
    {
     "name": "stderr",
     "output_type": "stream",
     "text": [
      "Feature Extraction: 100%|██████████| 60/60 [00:25<00:00,  3.04it/s]\n",
      "Feature Extraction: 100%|██████████| 60/60 [00:04<00:00,  9.83it/s]\n",
      "Feature Extraction: 100%|██████████| 60/60 [00:04<00:00, 14.51it/s]\n",
      "Feature Extraction: 100%|██████████| 60/60 [00:04<00:00, 14.35it/s]\n"
     ]
    },
    {
     "name": "stdout",
     "output_type": "stream",
     "text": [
      "      322093772 done in 129.0 minutes\n"
     ]
    },
    {
     "name": "stderr",
     "output_type": "stream",
     "text": [
      "Feature Extraction: 100%|██████████| 60/60 [00:25<00:00,  2.72it/s]\n",
      "Feature Extraction: 100%|██████████| 60/60 [00:04<00:00, 13.25it/s]\n",
      "Feature Extraction: 100%|██████████| 60/60 [00:04<00:00, 15.17it/s]\n",
      "Feature Extraction: 100%|██████████| 60/60 [00:04<00:00, 15.36it/s]\n"
     ]
    },
    {
     "name": "stdout",
     "output_type": "stream",
     "text": [
      "      326630304 done in 130.8 minutes\n"
     ]
    },
    {
     "name": "stderr",
     "output_type": "stream",
     "text": [
      "Feature Extraction: 100%|██████████| 60/60 [00:25<00:00,  2.58it/s]\n",
      "Feature Extraction: 100%|██████████| 60/60 [00:04<00:00, 13.98it/s]\n",
      "Feature Extraction: 100%|██████████| 60/60 [00:03<00:00, 15.09it/s]\n",
      "Feature Extraction: 100%|██████████| 60/60 [00:03<00:00, 16.76it/s]\n"
     ]
    },
    {
     "name": "stdout",
     "output_type": "stream",
     "text": [
      "      331166836 done in 132.6 minutes\n"
     ]
    },
    {
     "name": "stderr",
     "output_type": "stream",
     "text": [
      "Feature Extraction: 100%|██████████| 60/60 [00:24<00:00,  2.69it/s]\n",
      "Feature Extraction: 100%|██████████| 60/60 [00:04<00:00, 12.65it/s]\n",
      "Feature Extraction: 100%|██████████| 60/60 [00:04<00:00, 13.13it/s]\n",
      "Feature Extraction: 100%|██████████| 60/60 [00:03<00:00, 17.84it/s]\n"
     ]
    },
    {
     "name": "stdout",
     "output_type": "stream",
     "text": [
      "      335703368 done in 134.3 minutes\n"
     ]
    },
    {
     "name": "stderr",
     "output_type": "stream",
     "text": [
      "Feature Extraction: 100%|██████████| 60/60 [00:25<00:00,  2.62it/s]\n",
      "Feature Extraction: 100%|██████████| 60/60 [00:04<00:00, 12.35it/s]\n",
      "Feature Extraction: 100%|██████████| 60/60 [00:04<00:00, 14.57it/s]\n",
      "Feature Extraction: 100%|██████████| 60/60 [00:03<00:00, 15.28it/s]\n"
     ]
    },
    {
     "name": "stdout",
     "output_type": "stream",
     "text": [
      "      340239900 done in 136.1 minutes\n"
     ]
    },
    {
     "name": "stderr",
     "output_type": "stream",
     "text": [
      "Feature Extraction: 100%|██████████| 60/60 [00:25<00:00,  2.54it/s]\n",
      "Feature Extraction: 100%|██████████| 60/60 [00:04<00:00, 13.55it/s]\n",
      "Feature Extraction: 100%|██████████| 60/60 [00:04<00:00, 12.73it/s]\n",
      "Feature Extraction: 100%|██████████| 60/60 [00:03<00:00, 16.64it/s]\n"
     ]
    },
    {
     "name": "stdout",
     "output_type": "stream",
     "text": [
      "      344776432 done in 137.9 minutes\n"
     ]
    },
    {
     "name": "stderr",
     "output_type": "stream",
     "text": [
      "Feature Extraction: 100%|██████████| 60/60 [00:24<00:00,  2.73it/s]\n",
      "Feature Extraction: 100%|██████████| 60/60 [00:04<00:00, 12.62it/s]\n",
      "Feature Extraction: 100%|██████████| 60/60 [00:03<00:00, 15.64it/s]\n",
      "Feature Extraction: 100%|██████████| 60/60 [00:03<00:00, 15.33it/s]\n"
     ]
    },
    {
     "name": "stdout",
     "output_type": "stream",
     "text": [
      "      349312964 done in 139.6 minutes\n"
     ]
    },
    {
     "name": "stderr",
     "output_type": "stream",
     "text": [
      "Feature Extraction: 100%|██████████| 60/60 [00:25<00:00,  2.32it/s]\n",
      "Feature Extraction: 100%|██████████| 60/60 [00:05<00:00, 11.37it/s]\n",
      "Feature Extraction: 100%|██████████| 60/60 [00:04<00:00, 17.06it/s]\n",
      "Feature Extraction: 100%|██████████| 60/60 [00:04<00:00, 14.89it/s]\n"
     ]
    },
    {
     "name": "stdout",
     "output_type": "stream",
     "text": [
      "      353849496 done in 141.4 minutes\n"
     ]
    },
    {
     "name": "stderr",
     "output_type": "stream",
     "text": [
      "Feature Extraction: 100%|██████████| 60/60 [00:25<00:00,  2.38it/s]\n",
      "Feature Extraction: 100%|██████████| 60/60 [00:04<00:00, 12.52it/s]\n",
      "Feature Extraction: 100%|██████████| 60/60 [00:04<00:00, 13.87it/s]\n",
      "Feature Extraction: 100%|██████████| 60/60 [00:03<00:00, 15.46it/s]\n"
     ]
    },
    {
     "name": "stdout",
     "output_type": "stream",
     "text": [
      "      358386028 done in 143.2 minutes\n"
     ]
    },
    {
     "name": "stderr",
     "output_type": "stream",
     "text": [
      "Feature Extraction: 100%|██████████| 60/60 [00:25<00:00,  2.61it/s]\n",
      "Feature Extraction: 100%|██████████| 60/60 [00:04<00:00, 12.58it/s]\n",
      "Feature Extraction: 100%|██████████| 60/60 [00:04<00:00, 17.82it/s]\n",
      "Feature Extraction: 100%|██████████| 60/60 [00:03<00:00, 15.05it/s]\n"
     ]
    },
    {
     "name": "stdout",
     "output_type": "stream",
     "text": [
      "      362922560 done in 145.0 minutes\n"
     ]
    },
    {
     "name": "stderr",
     "output_type": "stream",
     "text": [
      "Feature Extraction: 100%|██████████| 60/60 [00:24<00:00,  2.88it/s]\n",
      "Feature Extraction: 100%|██████████| 60/60 [00:04<00:00, 12.96it/s]\n",
      "Feature Extraction: 100%|██████████| 60/60 [00:04<00:00, 14.20it/s]\n",
      "Feature Extraction: 100%|██████████| 60/60 [00:03<00:00, 15.53it/s]\n"
     ]
    },
    {
     "name": "stdout",
     "output_type": "stream",
     "text": [
      "      367459092 done in 146.8 minutes\n"
     ]
    },
    {
     "name": "stderr",
     "output_type": "stream",
     "text": [
      "Feature Extraction: 100%|██████████| 60/60 [00:25<00:00,  2.83it/s]\n",
      "Feature Extraction: 100%|██████████| 60/60 [00:04<00:00, 12.13it/s]\n",
      "Feature Extraction: 100%|██████████| 60/60 [00:04<00:00, 14.59it/s]\n",
      "Feature Extraction: 100%|██████████| 60/60 [00:03<00:00, 15.05it/s]\n"
     ]
    },
    {
     "name": "stdout",
     "output_type": "stream",
     "text": [
      "      371995624 done in 148.6 minutes\n"
     ]
    },
    {
     "name": "stderr",
     "output_type": "stream",
     "text": [
      "Feature Extraction: 100%|██████████| 60/60 [00:24<00:00,  3.15it/s]\n",
      "Feature Extraction: 100%|██████████| 60/60 [00:04<00:00, 12.46it/s]\n",
      "Feature Extraction: 100%|██████████| 60/60 [00:04<00:00, 19.15it/s]\n",
      "Feature Extraction: 100%|██████████| 60/60 [00:03<00:00, 17.05it/s]\n"
     ]
    },
    {
     "name": "stdout",
     "output_type": "stream",
     "text": [
      "      376532156 done in 150.3 minutes\n"
     ]
    }
   ],
   "source": [
    "featurized_set_savior = 2//3  # to prevent accidental running\n",
    "%%time\n",
    "# should take 100x (time after 1st iteration)\n",
    "featurize_test(\n",
    "    featurize_configs={'aggs': aggs, 'fcp': fcp}, \n",
    "    n_jobs=12,\n",
    "    meta_path='../data/raw/test_set_metadata.csv',\n",
    "    test_path='../data/raw/test_set.csv',\n",
    "    output_path='../data/features/test-all-feat-from-kernel-repro.csv',\n",
    "    id_colname='object_id',\n",
    "    chunks=chunk_size_one_100,  # alternatively: 5000000\n",
    ")"
   ]
  },
  {
   "cell_type": "markdown",
   "metadata": {},
   "source": [
    "### Test set predictions"
   ]
  },
  {
   "cell_type": "code",
   "execution_count": 20,
   "metadata": {},
   "outputs": [
    {
     "name": "stdout",
     "output_type": "stream",
     "text": [
      "Loading data...\n"
     ]
    },
    {
     "name": "stderr",
     "output_type": "stream",
     "text": [
      "  0%|          | 0/5 [00:00<?, ?it/s]"
     ]
    },
    {
     "name": "stdout",
     "output_type": "stream",
     "text": [
      "Generating predictions...\n"
     ]
    },
    {
     "name": "stderr",
     "output_type": "stream",
     "text": [
      "100%|██████████| 5/5 [06:59<00:00, 85.82s/it]\n"
     ]
    },
    {
     "name": "stdout",
     "output_type": "stream",
     "text": [
      "Postprocessing...\n",
      "Submission shape before grouping: (3492890, 16)\n",
      "Submission shape after grouping: (3492890, 15)\n",
      "Submission shape after postprocessing: (3492890, 15)\n",
      "Validating submission file...\n",
      "Saving submission...\n",
      "Submission saved to f/home/kk385830/astronomical-classification/submissions/subm_0.655012_2018-12-10-15-50.csv\n",
      "CPU times: user 1h 45min 8s, sys: 1min 31s, total: 1h 46min 40s\n",
      "Wall time: 9min 13s\n"
     ]
    }
   ],
   "source": [
    "%%time\n",
    "submission = predict_test(\n",
    "    clfs=clfs, \n",
    "    feature_colnames=feature_colnames, \n",
    "    id_colname=id_colname, \n",
    "    input_path='../data/features/test-all-feat-from-kernel-repro.csv', \n",
    "    output_path=submission_file_path, \n",
    "    verbose=True\n",
    ")"
   ]
  },
  {
   "cell_type": "code",
   "execution_count": 21,
   "metadata": {},
   "outputs": [
    {
     "data": {
      "text/html": [
       "<div>\n",
       "<style scoped>\n",
       "    .dataframe tbody tr th:only-of-type {\n",
       "        vertical-align: middle;\n",
       "    }\n",
       "\n",
       "    .dataframe tbody tr th {\n",
       "        vertical-align: top;\n",
       "    }\n",
       "\n",
       "    .dataframe thead th {\n",
       "        text-align: right;\n",
       "    }\n",
       "</style>\n",
       "<table border=\"1\" class=\"dataframe\">\n",
       "  <thead>\n",
       "    <tr style=\"text-align: right;\">\n",
       "      <th></th>\n",
       "      <th>class_6</th>\n",
       "      <th>class_15</th>\n",
       "      <th>class_16</th>\n",
       "      <th>class_42</th>\n",
       "      <th>class_52</th>\n",
       "      <th>class_53</th>\n",
       "      <th>class_62</th>\n",
       "      <th>class_64</th>\n",
       "      <th>class_65</th>\n",
       "      <th>class_67</th>\n",
       "      <th>class_88</th>\n",
       "      <th>class_90</th>\n",
       "      <th>class_92</th>\n",
       "      <th>class_95</th>\n",
       "      <th>class_99</th>\n",
       "    </tr>\n",
       "    <tr>\n",
       "      <th>object_id</th>\n",
       "      <th></th>\n",
       "      <th></th>\n",
       "      <th></th>\n",
       "      <th></th>\n",
       "      <th></th>\n",
       "      <th></th>\n",
       "      <th></th>\n",
       "      <th></th>\n",
       "      <th></th>\n",
       "      <th></th>\n",
       "      <th></th>\n",
       "      <th></th>\n",
       "      <th></th>\n",
       "      <th></th>\n",
       "      <th></th>\n",
       "    </tr>\n",
       "  </thead>\n",
       "  <tbody>\n",
       "    <tr>\n",
       "      <th>13</th>\n",
       "      <td>0.000360</td>\n",
       "      <td>0.002533</td>\n",
       "      <td>0.000253</td>\n",
       "      <td>0.398584</td>\n",
       "      <td>0.234868</td>\n",
       "      <td>0.000588</td>\n",
       "      <td>0.076150</td>\n",
       "      <td>0.000179</td>\n",
       "      <td>0.000245</td>\n",
       "      <td>0.002449</td>\n",
       "      <td>0.000558</td>\n",
       "      <td>0.142123</td>\n",
       "      <td>0.000271</td>\n",
       "      <td>0.000576</td>\n",
       "      <td>0.140263</td>\n",
       "    </tr>\n",
       "    <tr>\n",
       "      <th>14</th>\n",
       "      <td>0.000729</td>\n",
       "      <td>0.017038</td>\n",
       "      <td>0.000646</td>\n",
       "      <td>0.131502</td>\n",
       "      <td>0.041601</td>\n",
       "      <td>0.001021</td>\n",
       "      <td>0.071493</td>\n",
       "      <td>0.001367</td>\n",
       "      <td>0.001644</td>\n",
       "      <td>0.021206</td>\n",
       "      <td>0.004001</td>\n",
       "      <td>0.582138</td>\n",
       "      <td>0.000522</td>\n",
       "      <td>0.008279</td>\n",
       "      <td>0.116813</td>\n",
       "    </tr>\n",
       "    <tr>\n",
       "      <th>17</th>\n",
       "      <td>0.000281</td>\n",
       "      <td>0.003488</td>\n",
       "      <td>0.000267</td>\n",
       "      <td>0.029676</td>\n",
       "      <td>0.018126</td>\n",
       "      <td>0.000389</td>\n",
       "      <td>0.017293</td>\n",
       "      <td>0.001509</td>\n",
       "      <td>0.000419</td>\n",
       "      <td>0.039358</td>\n",
       "      <td>0.004025</td>\n",
       "      <td>0.822417</td>\n",
       "      <td>0.000155</td>\n",
       "      <td>0.004335</td>\n",
       "      <td>0.058262</td>\n",
       "    </tr>\n",
       "    <tr>\n",
       "      <th>23</th>\n",
       "      <td>0.000532</td>\n",
       "      <td>0.002382</td>\n",
       "      <td>0.000454</td>\n",
       "      <td>0.050927</td>\n",
       "      <td>0.015834</td>\n",
       "      <td>0.000628</td>\n",
       "      <td>0.060551</td>\n",
       "      <td>0.003201</td>\n",
       "      <td>0.000719</td>\n",
       "      <td>0.240286</td>\n",
       "      <td>0.001429</td>\n",
       "      <td>0.465966</td>\n",
       "      <td>0.000241</td>\n",
       "      <td>0.023801</td>\n",
       "      <td>0.133049</td>\n",
       "    </tr>\n",
       "    <tr>\n",
       "      <th>34</th>\n",
       "      <td>0.000352</td>\n",
       "      <td>0.004464</td>\n",
       "      <td>0.000237</td>\n",
       "      <td>0.099490</td>\n",
       "      <td>0.163679</td>\n",
       "      <td>0.000487</td>\n",
       "      <td>0.037197</td>\n",
       "      <td>0.000272</td>\n",
       "      <td>0.000470</td>\n",
       "      <td>0.012618</td>\n",
       "      <td>0.000360</td>\n",
       "      <td>0.559497</td>\n",
       "      <td>0.000196</td>\n",
       "      <td>0.000489</td>\n",
       "      <td>0.120193</td>\n",
       "    </tr>\n",
       "  </tbody>\n",
       "</table>\n",
       "</div>"
      ],
      "text/plain": [
       "            class_6  class_15  class_16  class_42  class_52  class_53  \\\n",
       "object_id                                                               \n",
       "13         0.000360  0.002533  0.000253  0.398584  0.234868  0.000588   \n",
       "14         0.000729  0.017038  0.000646  0.131502  0.041601  0.001021   \n",
       "17         0.000281  0.003488  0.000267  0.029676  0.018126  0.000389   \n",
       "23         0.000532  0.002382  0.000454  0.050927  0.015834  0.000628   \n",
       "34         0.000352  0.004464  0.000237  0.099490  0.163679  0.000487   \n",
       "\n",
       "           class_62  class_64  class_65  class_67  class_88  class_90  \\\n",
       "object_id                                                               \n",
       "13         0.076150  0.000179  0.000245  0.002449  0.000558  0.142123   \n",
       "14         0.071493  0.001367  0.001644  0.021206  0.004001  0.582138   \n",
       "17         0.017293  0.001509  0.000419  0.039358  0.004025  0.822417   \n",
       "23         0.060551  0.003201  0.000719  0.240286  0.001429  0.465966   \n",
       "34         0.037197  0.000272  0.000470  0.012618  0.000360  0.559497   \n",
       "\n",
       "           class_92  class_95  class_99  \n",
       "object_id                                \n",
       "13         0.000271  0.000576  0.140263  \n",
       "14         0.000522  0.008279  0.116813  \n",
       "17         0.000155  0.004335  0.058262  \n",
       "23         0.000241  0.023801  0.133049  \n",
       "34         0.000196  0.000489  0.120193  "
      ]
     },
     "execution_count": 21,
     "metadata": {},
     "output_type": "execute_result"
    }
   ],
   "source": [
    "submission.head()"
   ]
  }
 ],
 "metadata": {
  "kernelspec": {
   "display_name": "Python 3",
   "language": "python",
   "name": "python3"
  },
  "language_info": {
   "codemirror_mode": {
    "name": "ipython",
    "version": 3
   },
   "file_extension": ".py",
   "mimetype": "text/x-python",
   "name": "python",
   "nbconvert_exporter": "python",
   "pygments_lexer": "ipython3",
   "version": "3.6.7"
  }
 },
 "nbformat": 4,
 "nbformat_minor": 2
}
